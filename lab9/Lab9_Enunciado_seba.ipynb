{
 "cells": [
  {
   "cell_type": "markdown",
   "metadata": {
    "cell_id": "00000-e61b8f99-434b-4848-a553-4bbae63045cc",
    "deepnote_cell_height": 156.390625,
    "deepnote_cell_type": "markdown",
    "id": "XUZ1dFPHzAHl"
   },
   "source": [
    "<h1><center>Laboratorio 9: Benchmark Estadístico con Reddit 🧮</center></h1>\n",
    "\n",
    "<center><strong>MDS7202: Laboratorio de Programación Científica para Ciencia de Datos</strong></center>"
   ]
  },
  {
   "cell_type": "markdown",
   "metadata": {
    "cell_id": "00001-231091e0-d755-42af-83b0-809301b54cfe",
    "deepnote_cell_height": 165.1875,
    "deepnote_cell_type": "markdown",
    "id": "UD8X1uhGzAHq"
   },
   "source": [
    "### Cuerpo Docente:\n",
    "\n",
    "- Profesor: Pablo Badilla\n",
    "- Auxiliar: Ignacio Meza D.\n",
    "- Ayudante: Patricio Ortiz"
   ]
  },
  {
   "cell_type": "markdown",
   "metadata": {
    "cell_id": "00002-65747a66-3e34-4df6-9e4a-c63f6d47f1f1",
    "deepnote_cell_height": 171.796875,
    "deepnote_cell_type": "markdown",
    "id": "tXflExjqzAHr"
   },
   "source": [
    "### Equipo: SUPER IMPORTANTE - notebooks sin nombre no serán revisados\n",
    "\n",
    "- Nombre de alumno 1: Sebastian Avendaño\n",
    "- Nombre de alumno 2: Felipe Urrutia\n"
   ]
  },
  {
   "cell_type": "markdown",
   "metadata": {
    "cell_id": "00003-f842b0e0-851a-405c-a104-53fa53260fa5",
    "deepnote_cell_height": 62,
    "deepnote_cell_type": "markdown",
    "id": "AD-V0bbZzAHr"
   },
   "source": [
    "### **Link de repositorio de GitHub:** https://github.com/furrutiav/lab-mds-2022"
   ]
  },
  {
   "cell_type": "markdown",
   "metadata": {
    "cell_id": "00004-d2b77039-39dd-4985-bec7-914bd5a67d98",
    "deepnote_cell_height": 669,
    "deepnote_cell_type": "markdown",
    "id": "6uBLPj1PzAHs"
   },
   "source": [
    "# Temas a tratar\n",
    "\n",
    "- Optimización de Código en Python.\n",
    "- Utilización de librerías para medir el tiempo de ejecución de funciones.\n",
    "- Métodos para optimizar el rendimiento de las funciones.\n",
    "\n",
    "# Reglas:\n",
    "\n",
    "- Fecha de entrega: 3/12/2021\n",
    "- **Grupos de 2 personas**\n",
    "- **Ausentes** deberán realizar la actividad solos. \n",
    "- Cualquier duda fuera del horario de clases al foro. Mensajes al equipo docente serán respondidos por este medio.\n",
    "- Prohibidas las copias. \n",
    "- Pueden usar cualquer matrial del curso que estimen conveniente.\n",
    "\n",
    "# Objetivos principales del laboratorio\n",
    "\n",
    "- Utilizar la API de Reddit a partir de la librería `praw` y visualizar cuales post son más probables que sean puntuados positivamente.\n",
    "- Utilizar `cache_lru` para cachear resultados de funciones.\n",
    "- Aplicar un atajo estadístico para obtener la mean posterior de datos.\n",
    "- Medir el tiempo de ejecución como también el uso de memoria de la función anterior.\n",
    "- Optimizar la función anterior a través de `numba`."
   ]
  },
  {
   "cell_type": "markdown",
   "metadata": {
    "cell_id": "00005-5a5cbaa6-e809-4c62-9709-7e650430b7ba",
    "deepnote_cell_height": 52.390625,
    "deepnote_cell_type": "markdown",
    "id": "MhISwri4zAHy"
   },
   "source": [
    "#Importamos librerias utiles 😸"
   ]
  },
  {
   "cell_type": "code",
   "execution_count": 1,
   "metadata": {
    "cell_id": "00006-375e81a0-63bd-4f61-a2c2-561059d97241",
    "deepnote_cell_height": 168,
    "deepnote_cell_type": "code",
    "deepnote_to_be_reexecuted": false,
    "execution_millis": 214,
    "execution_start": 1638299125300,
    "source_hash": "251d15fd",
    "tags": []
   },
   "outputs": [],
   "source": [
    "%load_ext autoreload\n",
    "%autoreload 2\n"
   ]
  },
  {
   "cell_type": "code",
   "execution_count": 2,
   "metadata": {
    "cell_id": "00006-00a9ab85-c6e5-4b3d-b6ba-2004ff409a6d",
    "deepnote_cell_height": 432.1875,
    "deepnote_cell_type": "code",
    "deepnote_to_be_reexecuted": false,
    "executionInfo": {
     "elapsed": 10379,
     "status": "ok",
     "timestamp": 1627484630448,
     "user": {
      "displayName": "IGNACIO ALEJANDRO MEZA",
      "photoUrl": "",
      "userId": "17011121633069169364"
     },
     "user_tz": 240
    },
    "execution_millis": 24248,
    "execution_start": 1638299092849,
    "id": "cO7AQ9ciQ59U",
    "source_hash": "1240e4a3"
   },
   "outputs": [],
   "source": [
    "%%capture\n",
    "!pip install praw\n",
    "!pip install line_profiler\n",
    "!pip install numba\n",
    "\n",
    "%load_ext autoreload\n",
    "%autoreload 2\n",
    "\n",
    "import sys\n",
    "import praw\n",
    "import time\n",
    "import numpy as np\n",
    "import pandas as pd\n",
    "from numba import jit\n",
    "import plotly.express as px\n",
    "from functools import lru_cache\n",
    "from IPython.core.display import Image"
   ]
  },
  {
   "cell_type": "markdown",
   "metadata": {
    "cell_id": "00007-853a08fe-06d7-4051-b347-1e29226924ee",
    "deepnote_cell_height": 82,
    "deepnote_cell_type": "markdown",
    "id": "xpOTbQcxbSiy"
   },
   "source": [
    "# 1. Recomendando Posts de Subreddit"
   ]
  },
  {
   "cell_type": "markdown",
   "metadata": {
    "cell_id": "00008-ca941d35-4377-406f-8b9c-cdf3ce096c64",
    "deepnote_cell_height": 376,
    "deepnote_cell_type": "markdown",
    "id": "3Q93vbNS25bM",
    "owner_user_id": "d50c3174-babb-4861-9c71-7e3af66458b8"
   },
   "source": [
    "<p align=\"center\">\n",
    "  <img src=\"https://preview.redd.it/3sxusxcjge791.png?auto=webp&s=88bc1f9a3c59eafda24b0e32dd87d7cf596d205d\">\n",
    "</p>"
   ]
  },
  {
   "cell_type": "markdown",
   "metadata": {
    "cell_id": "00009-bb6e6ae1-d939-400e-aa39-a9b5cf6fe725",
    "deepnote_cell_height": 245.59375,
    "deepnote_cell_type": "markdown",
    "id": "jnmZfFpxTTYX"
   },
   "source": [
    "Unos intrépidos alumnos del curso, quienes frecuentemente participan en subreddits y foros de reviews, se preguntan lo siguiente: ¿Podremos confiar que un post es bueno, si este tiene solamente 1 o 3 votos positivos?. los compañeros, creen que esto claramente no representa una opinión general, ya que estamos mucho menos seguros acerca de la verdadera proporción de votos a favor de los comentarios con pocos datos. ¿Pero cómo podemos obtener una representación más creíble para este problema?.\n",
    "\n",
    "Lo señalado forma parte de un problema estadísticos, donde a través del cálculo de la posterior se puede conocer que tan probable es que un post sea bueno. Para efectos de este laboratorio, no se exige un conocimiento previo para resolver este problema, simplemente se deberá aplicar las ecuaciones presentadas más adelante (De igual forma si quedan interesados sobre el tema se les invita a tomar el ramo [CC6104](https://github.com/dccuchile/CC6104))."
   ]
  },
  {
   "cell_type": "markdown",
   "metadata": {
    "cell_id": "00010-11ff1022-47d3-4e16-a067-862aff4fa1e6",
    "deepnote_cell_height": 70,
    "deepnote_cell_type": "markdown",
    "id": "xdbrb3AMi6EF"
   },
   "source": [
    "## 1.1 Obtención de Subrredits y Análisis [1 Punto]"
   ]
  },
  {
   "cell_type": "markdown",
   "metadata": {
    "cell_id": "00011-098a5246-642a-47aa-9f10-2261697c2603",
    "deepnote_cell_height": 363.796875,
    "deepnote_cell_type": "markdown",
    "id": "YI-IRspcjPee"
   },
   "source": [
    "Para estudiar que tan probable es que un post sea positivo se comenzará cargando datos reales del subreddit chile desde reddit (si usted desea puede cambiar el subreddit a uno de su gusto). Para esto le proponemos la utilización de la función que aparece mas abajo, la que presenta un usuario ya creado por el equipo docente. Dese un tiempo para entender que hace cada parte de la función, visualizando que se obtiene de estas.\n",
    "\n",
    "Revisada la función, utilice un **perfilador** para monitorear el tiempo y memoria que les toma a cada liena de código para ser ejecutada. Señale cuales son los procesos que mas tiempo consumen en la ejecución del Código, comentando si es posible mejorar el desempeño de la función.\n",
    "\n",
    "**TO-DO:**\n",
    "- [ ] Estudiar la función propuesta por el equipo docente.\n",
    "- [ ] Estudiar los tiempos de ejecución del código a través de un perfilador.\n",
    "- [ ] Estudiar la memoria ocupada por el código a través de un perfilador.\n",
    "- [ ] Comente los resultados. ¿Qué lineas ocupan más memoria o más/menos tiempo?¿Por qué?"
   ]
  },
  {
   "cell_type": "code",
   "execution_count": 5,
   "metadata": {
    "cell_id": "00012-48fd53e5-c751-4583-b193-5f95afab5819",
    "deepnote_cell_height": 675,
    "deepnote_cell_type": "code",
    "deepnote_to_be_reexecuted": false,
    "executionInfo": {
     "elapsed": 7,
     "status": "ok",
     "timestamp": 1627484630449,
     "user": {
      "displayName": "IGNACIO ALEJANDRO MEZA",
      "photoUrl": "",
      "userId": "17011121633069169364"
     },
     "user_tz": 240
    },
    "execution_millis": 1,
    "execution_start": 1637947497504,
    "id": "R4PQbceVPJzh",
    "source_hash": "a55fad36"
   },
   "outputs": [],
   "source": [
    "#%%file bench_module.py\n",
    "import praw\n",
    "import numpy as np\n",
    "\n",
    "def praw_reddit(nombre_subreddit=\"chile\", n_hot=1000):\n",
    "    reddit = praw.Reddit(\n",
    "        client_id=\"-w2hyFINxZ8T3g\",\n",
    "        client_secret=\"zGPCI4s3g6Ic6AsRi7vIpP0NoxbFdw\",\n",
    "        password=\"ClasesMDS7202\",\n",
    "        user_agent=\"Clases\",\n",
    "        username=\"DocenciaDataScience\",\n",
    "        check_for_async=False,\n",
    "    )\n",
    "    subreddit = reddit.subreddit(nombre_subreddit)\n",
    "\n",
    "    votes, post, url = {}, {}, {}\n",
    "    top_submissions = list(subreddit.hot(limit=n_hot))\n",
    "    for it, top_n in enumerate(range(50, len(top_submissions), 50)):\n",
    "        top_n_submissions = top_submissions[:top_n]\n",
    "        upvotes, downvotes, url[it], post[it] = [], [], [], []\n",
    "\n",
    "        for submission in top_n_submissions:\n",
    "            try:\n",
    "                ratio = submission.upvote_ratio\n",
    "                ups = int(\n",
    "                    round((ratio * submission.score) / (2 * ratio - 1))\n",
    "                    if ratio != 0.5\n",
    "                    else round(submission.score / 2)\n",
    "                )\n",
    "                upvotes.append(ups)\n",
    "                downvotes.append(ups - submission.score)\n",
    "                post[it].append(submission.title)\n",
    "                url[it].append(submission.url)\n",
    "            except Exception as e:\n",
    "                continue\n",
    "        votes[it] = np.array([upvotes, downvotes]).T\n",
    "    return votes, post, url"
   ]
  },
  {
   "cell_type": "code",
   "execution_count": 6,
   "metadata": {
    "cell_id": "00013-c9f108eb-9054-438f-9360-21669aced1bb",
    "deepnote_cell_height": 81,
    "deepnote_cell_type": "code",
    "deepnote_to_be_reexecuted": false,
    "executionInfo": {
     "elapsed": 14052,
     "status": "ok",
     "timestamp": 1627484649043,
     "user": {
      "displayName": "IGNACIO ALEJANDRO MEZA",
      "photoUrl": "",
      "userId": "17011121633069169364"
     },
     "user_tz": 240
    },
    "execution_millis": 11242,
    "execution_start": 1637947497523,
    "id": "v4rjrWf_pJHJ",
    "source_hash": "4b31fefe"
   },
   "outputs": [],
   "source": [
    "votes, post, url = praw_reddit()"
   ]
  },
  {
   "cell_type": "markdown",
   "metadata": {},
   "source": [
    "### Estudiar la función propuesta por el equipo docente."
   ]
  },
  {
   "cell_type": "markdown",
   "metadata": {},
   "source": [
    "La funcion $\\texttt{praw_reddit}$ recibe un subreddit (por defecto \"chile\") y un numero denotado por $\\texttt{n_hot}$ (por defecto 1000). Retorna un resumen de los reslutados entregados por la API *praw* de los top-post mas \"hot\" en el subreddit establecido en el input. En particular, entre los votos (up/down votes), post (titulo del post) y url (una ruta a cada post). Internamente la funtion determina los votos segun dos parametros de cada post (o submission). Esto son: upvote_ratio y score. El primero corresponde a la proporcion de votos up del total de votos. Mientras que el segundo es la diferencia entre los votos up y los votos down. Para determinar los votos up, basta determinar (upvote_ratio * score) / (2 * upvote_ratio - 1). Luego, los votos down, se determinan con votos up - score. El output final de la funcion es un trio (votes, post, url), donde cada elemento del trio es una lista de listas. Donde cada sublista es una version truncada de la lista que le sigue. Esto ya que internamente la funcion realiza un ciclo for con pasos de tamaño 50, y almacena los datos de los primeros k hot-post, con k multiplo positivo de 50. A priori, consideramos que esta ultima observacion produce que el algoritmo no sea optimo, al realizar iteraciones innecesarias."
   ]
  },
  {
   "cell_type": "markdown",
   "metadata": {},
   "source": [
    "### Estudiar los tiempos de ejecución del código a través de un perfilador."
   ]
  },
  {
   "cell_type": "code",
   "execution_count": 11,
   "metadata": {
    "cell_id": "00014-ab26b98a-d355-4ce3-909a-c76ea78ab2b3",
    "deepnote_cell_height": 84,
    "deepnote_cell_type": "code"
   },
   "outputs": [
    {
     "name": "stdout",
     "output_type": "stream",
     "text": [
      "Requirement already satisfied: line_profiler in c:\\users\\felip\\anaconda3\\lib\\site-packages (3.5.1)\n"
     ]
    },
    {
     "name": "stderr",
     "output_type": "stream",
     "text": [
      "WARNING: Error parsing requirements for torch: [Errno 2] No such file or directory: 'c:\\\\users\\\\felip\\\\anaconda3\\\\lib\\\\site-packages\\\\torch-1.11.0.dist-info\\\\METADATA'\n"
     ]
    }
   ],
   "source": [
    "!pip install line_profiler\n",
    "%load_ext line_profiler"
   ]
  },
  {
   "cell_type": "code",
   "execution_count": 22,
   "metadata": {},
   "outputs": [],
   "source": [
    "%lprun -f praw_reddit praw_reddit()"
   ]
  },
  {
   "cell_type": "markdown",
   "metadata": {
    "tags": []
   },
   "source": [
    "<img src=\"perfilador.jpg\" width=800 />"
   ]
  },
  {
   "cell_type": "markdown",
   "metadata": {
    "cell_id": "00015-ba1d4036-9f0c-49c7-885f-be416a89deb8",
    "deepnote_cell_height": 52.390625,
    "deepnote_cell_type": "markdown",
    "id": "-diI_GpXmzqS"
   },
   "source": [
    "**Respuesta:**"
   ]
  },
  {
   "cell_type": "markdown",
   "metadata": {
    "cell_id": "00016-64888967-a91d-455b-9d60-d105f449ae74",
    "deepnote_cell_height": 52.390625,
    "deepnote_cell_type": "markdown",
    "id": "6gdqQBi1m_cu"
   },
   "source": [
    "Del perfilador se concluye que la mayoria del tiempo (99.7% del tiempo de ejecucion de la funcion) es consumida por la linea 13. Esto corresponde al llamado subreddit.hot(limit=n_hot) con el objeto \"subreddit\" y metodo \"hot\". Este resultado es esperable dado que en la linea 2 se inicializa el wrapper (de la libreria praw) con las credenciales, lo que no consume tiempo. Pero, en la linea 13 se realiza la primera peticion a la API. Ademas, este tiempo puede ser grande ya que el parametro 𝚗⎯𝚑𝚘𝚝 tambien lo es. Ahora bien, si omitimos el tiempo que consume la linea 13, el otro gran porcentaje de tiempo utilizado se debe al ciclo for que comienza en la linea 18."
   ]
  },
  {
   "cell_type": "markdown",
   "metadata": {
    "jp-MarkdownHeadingCollapsed": true,
    "tags": []
   },
   "source": [
    "### Estudiar la memoria ocupada por el código a través de un perfilador."
   ]
  },
  {
   "cell_type": "code",
   "execution_count": 29,
   "metadata": {},
   "outputs": [
    {
     "name": "stdout",
     "output_type": "stream",
     "text": [
      "Collecting memory_profiler\n",
      "  Downloading memory_profiler-0.60.0.tar.gz (38 kB)\n",
      "Requirement already satisfied: psutil in c:\\users\\felip\\anaconda3\\lib\\site-packages (from memory_profiler) (5.8.0)\n",
      "Building wheels for collected packages: memory-profiler\n",
      "  Building wheel for memory-profiler (setup.py): started\n",
      "  Building wheel for memory-profiler (setup.py): finished with status 'done'\n",
      "  Created wheel for memory-profiler: filename=memory_profiler-0.60.0-py3-none-any.whl size=31284 sha256=e572902a7ae98b599b7668791c1c83038454046fb925865f03451fef6de3fb15\n",
      "  Stored in directory: c:\\users\\felip\\appdata\\local\\pip\\cache\\wheels\\01\\ca\\8b\\b518dd2aef69635ad6fcab87069c9c52f355a2e9c5d4c02da9\n",
      "Successfully built memory-profiler\n",
      "Installing collected packages: memory-profiler\n",
      "Successfully installed memory-profiler-0.60.0\n"
     ]
    },
    {
     "name": "stderr",
     "output_type": "stream",
     "text": [
      "WARNING: Error parsing requirements for torch: [Errno 2] No such file or directory: 'c:\\\\users\\\\felip\\\\anaconda3\\\\lib\\\\site-packages\\\\torch-1.11.0.dist-info\\\\METADATA'\n"
     ]
    }
   ],
   "source": [
    "!pip install memory_profiler\n",
    "%load_ext memory_profiler"
   ]
  },
  {
   "cell_type": "code",
   "execution_count": 40,
   "metadata": {},
   "outputs": [
    {
     "name": "stdout",
     "output_type": "stream",
     "text": [
      "\n"
     ]
    }
   ],
   "source": [
    "from bench_module import praw_reddit\n",
    "%mprun -f praw_reddit praw_reddit()"
   ]
  },
  {
   "cell_type": "markdown",
   "metadata": {},
   "source": [
    "<img src=\"perfilador_mem.jpg\" width=800 />"
   ]
  },
  {
   "cell_type": "markdown",
   "metadata": {
    "cell_id": "00015-ba1d4036-9f0c-49c7-885f-be416a89deb8",
    "deepnote_cell_height": 52.390625,
    "deepnote_cell_type": "markdown",
    "id": "-diI_GpXmzqS"
   },
   "source": [
    "**Respuesta:**"
   ]
  },
  {
   "cell_type": "markdown",
   "metadata": {
    "cell_id": "00016-64888967-a91d-455b-9d60-d105f449ae74",
    "deepnote_cell_height": 52.390625,
    "deepnote_cell_type": "markdown",
    "id": "6gdqQBi1m_cu"
   },
   "source": [
    "Del perfilador de memoria se concluye que la mayoria de la memoria reportada (13.9 MiB) es ocupada por la linea 13. Por misma razon que antes, esto corresponde al llamado de subreddit.hot(limit=n_hot), dado que recibe los resultados de la peticion realizada a la API. A diferencia de antes, el ciclo for no tiene una contribucion significativa en la memoria ocupada por la funcion."
   ]
  },
  {
   "cell_type": "markdown",
   "metadata": {},
   "source": [
    "### Comente los resultados. ¿Qué lineas ocupan más memoria o más/menos tiempo?¿Por qué?"
   ]
  },
  {
   "cell_type": "markdown",
   "metadata": {
    "cell_id": "00015-ba1d4036-9f0c-49c7-885f-be416a89deb8",
    "deepnote_cell_height": 52.390625,
    "deepnote_cell_type": "markdown",
    "id": "-diI_GpXmzqS"
   },
   "source": [
    "**Respuesta:**"
   ]
  },
  {
   "cell_type": "markdown",
   "metadata": {
    "cell_id": "00016-64888967-a91d-455b-9d60-d105f449ae74",
    "deepnote_cell_height": 52.390625,
    "deepnote_cell_type": "markdown",
    "id": "6gdqQBi1m_cu"
   },
   "source": [
    "En resumen, tanto para el consumo de memoria como de tiempo es debido a la linea 13. Que corresponde a la peticion relizada a la API (tiempo) que devuelve los post mas \"hot\" (espacio). Tambien se menciono anteriormente que el ciclo for de la linea 18, consume otra gran parte del tiempo de ejecucion de la funcion. Lo utlimo, puede deberse a la gran cantidad de iteraciones que realizan las linea de codigo dentro del ciclo for (ver columna Hits en el reporte del perfilador de tiempo, o Ocurrences en el reporte del perfilador de memoria). Tambien notamos que la funcion tiene un try/except como medida de seguridad. Sin embargo, durante la ejecucion nunca se entra a la excepción."
   ]
  },
  {
   "cell_type": "markdown",
   "metadata": {
    "cell_id": "00017-2673822e-79de-4fbe-86af-5fd583216f57",
    "deepnote_cell_height": 70,
    "deepnote_cell_type": "markdown",
    "id": "tNDS2OpFnMnH"
   },
   "source": [
    "## 1.2 LRU y Análisis de Tiempo con Cache [1 Punto]"
   ]
  },
  {
   "cell_type": "markdown",
   "metadata": {
    "cell_id": "00018-d9701b8d-f3fe-4cd1-9f59-295dfdaeca48",
    "deepnote_cell_height": 380.796875,
    "deepnote_cell_type": "markdown",
    "id": "i3nsxCbAna4t"
   },
   "source": [
    "Respondan las siguientes preguntas:\n",
    "\n",
    "1.\t¿Qué es la memoria cache y a que se refiere las siglas LRU?\n",
    "2.\t¿Cuáles son los costos que tiene la aplicación de técnicas de Caching?\n",
    "3. ¿Cuál es la consecuencía de ocupar caching en la función anterior?.\n",
    "\n",
    "Respondidas las preguntas, se le solicita que aplique alguna técnica de caching para mejorar el desempeño de la función `praw_reddit`. Para esto compare solo el tiempo de ejecución del algoritmo con y sin caching, señalando el tiempo total de ejecución y el tiempo promedio que le toma ejecutar cada loop a la función. Con lo anterior, ¿es posible visualizar mejoras en este caso?.\n",
    "\n",
    "\n",
    "**TO-DO:**\n",
    "- [ ] Responder las preguntas.\n",
    "- [ ] Mejorar el código con cache.\n",
    "- [ ] Explicar las consecuencias de usar lru_cache sobre praw_reddit"
   ]
  },
  {
   "cell_type": "markdown",
   "metadata": {},
   "source": [
    "### Responder las preguntas"
   ]
  },
  {
   "cell_type": "markdown",
   "metadata": {
    "cell_id": "00019-26287e8f-b23a-4e51-9645-b9fb99a93eea",
    "deepnote_cell_height": 52.390625,
    "deepnote_cell_type": "markdown",
    "id": "fbQPpvYorOAF"
   },
   "source": [
    "**Respuestas Teóricas:**"
   ]
  },
  {
   "cell_type": "markdown",
   "metadata": {
    "cell_id": "00020-9507e876-349d-4beb-94e8-c7adc0bbc210",
    "deepnote_cell_height": 52.390625,
    "deepnote_cell_type": "markdown",
    "id": "RKfLXDs_rO-w"
   },
   "source": [
    "1.a) [Memoria cache] La memoria cache es un tipo de memoria que nos permite almacenar informacion (datos). Este tipo de memoria tiene el unico fin de acceder rapidamente en consultas posteriores. Dichas consultas (o accesos de memoria), tienen la caracteristica de ser repetitivas. Un ejemplo practico de su uso es en funciones recursivas, las cuales suelen ser optimizadas con programacion dinamica. \n",
    "\n",
    "1.b) [LRU] Son las siglas en ingles de \"Menos usado recientemente\" (Least recently used). Este es un algoritmo basico para gestionar la memoria cache. La memoria de este tipo suele tener un largo pequeño, equivalente al numero de elementos almacenados. Si la memoria cache esta lleba, y se desea añadir un elemenot en la memoria, tal como lo dice el nombre del algoritmo, se descarta el elemento menos usado recientemente en la memoria. Para esto, el algoritmo debe de mantener contadores para identificar los elementos menos usados (o consultados).\n",
    "\n",
    "2.- Este tipo de algoritmos se utiliza para reducir el tiempo de ejecucion de una funcion (o codigo con inputs y output deterministico). La forma de lograr esto, es intercambiando tiempo por espacio. En este caso, el espacio es sinonimo de memoria. Tal como se motivo en la pregunta anterior, dicha memoria es de tipo cache. En efecto, los costos de utilizar técnicas de Caching son en memoria (o espacio).\n",
    "\n",
    "3.- La consecuencia de ocupar caching en la función anterior es que al realizar otra vez el mismo llamado de esta funcion, se recibira el mismo output que quedo almacenado en memoria cache. Pese a que esto puede ser una buena idea, ya que el tiempo de ejecucion es considerable, utilizar este metodo no es del todo apropiado. Esto se debe a que la respuesta de la funcion varía con el tiempo. Como se reciben los hot-post, en un par se semanas hasta incluso dias, los post mas hot debiesen de ser otros."
   ]
  },
  {
   "cell_type": "markdown",
   "metadata": {},
   "source": [
    "### Mejorar el código con cache."
   ]
  },
  {
   "cell_type": "code",
   "execution_count": 23,
   "metadata": {
    "cell_id": "00021-ed8c6162-10ed-414a-a7c0-e5eed7d2715e",
    "deepnote_cell_height": 66,
    "deepnote_cell_type": "code",
    "id": "X0u4WU11rLJd",
    "tags": []
   },
   "outputs": [],
   "source": [
    "@lru_cache\n",
    "def praw_reddit(nombre_subreddit=\"chile\", n_hot=1000):\n",
    "    reddit = praw.Reddit(\n",
    "        client_id=\"-w2hyFINxZ8T3g\",\n",
    "        client_secret=\"zGPCI4s3g6Ic6AsRi7vIpP0NoxbFdw\",\n",
    "        password=\"ClasesMDS7202\",\n",
    "        user_agent=\"Clases\",\n",
    "        username=\"DocenciaDataScience\",\n",
    "        check_for_async=False,\n",
    "    )\n",
    "    subreddit = reddit.subreddit(nombre_subreddit)\n",
    "\n",
    "    votes, post, url = {}, {}, {}\n",
    "    top_submissions = list(subreddit.hot(limit=n_hot))\n",
    "    for it, top_n in enumerate(range(50, len(top_submissions), 50)):\n",
    "        top_n_submissions = top_submissions[:top_n]\n",
    "        upvotes, downvotes, url[it], post[it] = [], [], [], []\n",
    "\n",
    "        for submission in top_n_submissions:\n",
    "            try:\n",
    "                ratio = submission.upvote_ratio\n",
    "                ups = int(\n",
    "                    round((ratio * submission.score) / (2 * ratio - 1))\n",
    "                    if ratio != 0.5\n",
    "                    else round(submission.score / 2)\n",
    "                )\n",
    "                upvotes.append(ups)\n",
    "                downvotes.append(ups - submission.score)\n",
    "                post[it].append(submission.title)\n",
    "                url[it].append(submission.url)\n",
    "            except Exception as e:\n",
    "                continue\n",
    "        votes[it] = np.array([upvotes, downvotes]).T\n",
    "    return votes, post, url"
   ]
  },
  {
   "cell_type": "markdown",
   "metadata": {},
   "source": [
    "### Explicar las consecuencias de usar lru_cache sobre praw_reddit"
   ]
  },
  {
   "cell_type": "markdown",
   "metadata": {},
   "source": [
    "Sin Caché:"
   ]
  },
  {
   "cell_type": "code",
   "execution_count": 22,
   "metadata": {
    "tags": []
   },
   "outputs": [
    {
     "name": "stdout",
     "output_type": "stream",
     "text": [
      "18.3 s ± 546 ms per loop (mean ± std. dev. of 7 runs, 1 loop each)\n"
     ]
    }
   ],
   "source": [
    "%%timeit\n",
    "votes1, post1, url1 = praw_reddit()"
   ]
  },
  {
   "cell_type": "markdown",
   "metadata": {},
   "source": [
    "Con caché - Primer llamado:"
   ]
  },
  {
   "cell_type": "code",
   "execution_count": 24,
   "metadata": {},
   "outputs": [
    {
     "name": "stdout",
     "output_type": "stream",
     "text": [
      "257 ns ± 266 ns per loop (mean ± std. dev. of 7 runs, 1 loop each)\n"
     ]
    }
   ],
   "source": [
    "%%timeit\n",
    "votes3, post3, url3 = praw_reddit()"
   ]
  },
  {
   "cell_type": "markdown",
   "metadata": {},
   "source": [
    "Con caché - Segundo llamado:"
   ]
  },
  {
   "cell_type": "code",
   "execution_count": 25,
   "metadata": {},
   "outputs": [
    {
     "name": "stdout",
     "output_type": "stream",
     "text": [
      "59 ns ± 0.536 ns per loop (mean ± std. dev. of 7 runs, 10,000,000 loops each)\n"
     ]
    }
   ],
   "source": [
    "%%timeit\n",
    "votes4, post4, url4 = praw_reddit()"
   ]
  },
  {
   "cell_type": "markdown",
   "metadata": {},
   "source": [
    "Comentarios: Se puede observar que la ejecución normal se demora notablemente, hasta 10 órdenes de magnitud más que la ejecución con caché. Luego, al ejecutar nuevamente la función con caché, se puede ver ahora la ejecución tarda 5 veces menos. \n",
    "\n",
    "La diferencia entre la ejecución con y sin caché es principalmente que la ejecución con caché está guardando el resultado y no ejecuta los pasos intermedios al volver a llamarse. También existe diferencia entre la primera y segunda ejecución con caché, lo que puede deberse a ...\n",
    "\n",
    "La principal consecuencia de usar caching en este ya fue expuesta anteriormente, y es que al ejecutarse la función no está pidiendo información nueva al servidor, lo que estanca los resultados, pudiendo ser contraproducente con una función que pretende evaluar la actualidad de un tema en reddit."
   ]
  },
  {
   "cell_type": "markdown",
   "metadata": {
    "cell_id": "00024-87380659-431c-4ae7-9d12-6647f21ca9ff",
    "deepnote_cell_height": 542.5625,
    "deepnote_cell_type": "markdown",
    "id": "2pS26u-trdg6"
   },
   "source": [
    "## 1.3 Obtención de Mean Posterior y Standard Error [1 Punto]\n",
    "\n",
    "Una forma de obtener la mean posterior y el Standard Error de los datos de reddit es aplicando un atajo de inferencia estadística. Este atajo se define de la siguiente forma:\n",
    "\n",
    "Sea **u** los votos positivos y **d** los votos negativos del subreddit, tendremos que:\n",
    "\n",
    "$$a = 1+u$$\n",
    "\n",
    "$$b = 1+d$$\n",
    "\n",
    "$$\\sigma= 1.65\\sqrt(\\dfrac{ab}{(a + b)^2(a + b + 1)})$$\n",
    "\n",
    "$$\\mu = \\dfrac{a}{a+b}$$\n",
    "\n",
    "Donde $\\mu$ es la mean posterior y $\\sigma$ el standard error.\n",
    "\n",
    "Con lo anterior, genere dos funciones que tengan como salida $\\mu$ y $\\sigma$ de acuerdo a las ecuaciones señaladas. La primera función, deberá ser construida sin el uso de numpy, aplicando for y aplicando comandos nativos de Python. Por otro lado, deberá generar una segunda función con el uso exclusivo de numpy. **OJO** que las funciones deben tener como entrada solo un elemento del diccionario votes (por ejemplo `votes[1]`), por lo que estas no deben tener como entrada el conjunto completo de datos."
   ]
  },
  {
   "cell_type": "code",
   "execution_count": 37,
   "metadata": {
    "cell_id": "00025-f63243e1-47cb-4c2c-be14-9c38dcbd24bb",
    "deepnote_cell_height": 81,
    "deepnote_cell_type": "code",
    "deepnote_to_be_reexecuted": false,
    "executionInfo": {
     "elapsed": 317,
     "status": "ok",
     "timestamp": 1627484660287,
     "user": {
      "displayName": "IGNACIO ALEJANDRO MEZA",
      "photoUrl": "",
      "userId": "17011121633069169364"
     },
     "user_tz": 240
    },
    "execution_millis": 15,
    "execution_start": 1637947536256,
    "id": "ahzpJ-Sk0DOD",
    "source_hash": "b9b21217"
   },
   "outputs": [],
   "source": [
    "def mu_sgm_python(botes):\n",
    "    out = []\n",
    "    for (u, d) in botes:\n",
    "        a, b = 1+u, 1+d\n",
    "        sgm = 1.65 * ( ( a*b / ( (a+b)**2 * (a+b+1))) ** 0.5 )\n",
    "        mu = a / (a+b)\n",
    "        out.append([mu, sgm])\n",
    "    return out"
   ]
  },
  {
   "cell_type": "code",
   "execution_count": 41,
   "metadata": {},
   "outputs": [
    {
     "name": "stdout",
     "output_type": "stream",
     "text": [
      "982 µs ± 4.99 µs per loop (mean ± std. dev. of 7 runs, 1,000 loops each)\n"
     ]
    }
   ],
   "source": [
    "%%timeit\n",
    "mu_sgm_python(votes[9])"
   ]
  },
  {
   "cell_type": "code",
   "execution_count": 39,
   "metadata": {},
   "outputs": [],
   "source": [
    "def mu_sgm_numpy(botes):\n",
    "    a_b = botes+np.ones(1)\n",
    "    a, b = a_b[:,0], a_b[:,1]\n",
    "    sgm = 1.65 * np.sqrt( a*b / ((a+b)**2*(a+b+1)))\n",
    "    mu = a/(a+b)\n",
    "    out = np.column_stack((mu,sgm))\n",
    "    return out"
   ]
  },
  {
   "cell_type": "code",
   "execution_count": 42,
   "metadata": {},
   "outputs": [
    {
     "name": "stdout",
     "output_type": "stream",
     "text": [
      "21 µs ± 137 ns per loop (mean ± std. dev. of 7 runs, 10,000 loops each)\n"
     ]
    }
   ],
   "source": [
    "%%timeit\n",
    "mu_sgm_numpy(votes[9])"
   ]
  },
  {
   "cell_type": "markdown",
   "metadata": {
    "cell_id": "00026-42ed3992-3ac8-4452-b6f1-031bb91fa5e6",
    "deepnote_cell_height": 352,
    "deepnote_cell_type": "markdown",
    "id": "VhHhiTRYwpGu",
    "owner_user_id": "badcc427-fd3d-4615-9296-faa43ec69cfb"
   },
   "source": [
    "## 1.4 Comparación de Rendimiento [2 Puntos]\n",
    "\n",
    "Ahora, aplique el compilador **Numba** sobre las funciones 1.3 y compare el tiempo de ejecución con los obtenidos sin el compilador. \n",
    "\n",
    "Para esto genere un gráfico de linea utilizando plotly, en donde se pueda observar el tiempo que toma ejecutar cada función (el eje y) diferentes cantidades de datos (ejemplo, en el eje x considerar 100, 200, 300, ..., 1000 datos) sobre cada función implementada (series `Python`, `Numpy`, `Python-JIT`, `Numpy-JIT`). ¿Es posible observar diferencias? ¿A qué se debe esto?.\n",
    "\n",
    "**Nota:** Ejecuten las funciones compiladas con algún ejemplo antes de graficar. De lo contrario, les indicará el tiempo de compilación, cosa que no queremos medir\n",
    "\n",
    "**Nota 2**: En el caso que su computador sea muy rápido, se recomienda graficar el eje y (tiempo) como logaritmo usando `log_y=True`.\n"
   ]
  },
  {
   "cell_type": "code",
   "execution_count": 46,
   "metadata": {
    "cell_id": "00025-f63243e1-47cb-4c2c-be14-9c38dcbd24bb",
    "deepnote_cell_height": 81,
    "deepnote_cell_type": "code",
    "deepnote_to_be_reexecuted": false,
    "executionInfo": {
     "elapsed": 317,
     "status": "ok",
     "timestamp": 1627484660287,
     "user": {
      "displayName": "IGNACIO ALEJANDRO MEZA",
      "photoUrl": "",
      "userId": "17011121633069169364"
     },
     "user_tz": 240
    },
    "execution_millis": 15,
    "execution_start": 1637947536256,
    "id": "ahzpJ-Sk0DOD",
    "source_hash": "b9b21217"
   },
   "outputs": [],
   "source": [
    "@jit(nopython=True)\n",
    "def mu_sgm_python_jit(botes):\n",
    "    out = []\n",
    "    for (u, d) in botes:\n",
    "        a, b = 1+u, 1+d\n",
    "        sgm = 1.65 * ( ( a*b / ( (a+b)**2 * (a+b+1))) ** 0.5 )\n",
    "        mu = a / (a+b)\n",
    "        out.append([mu, sgm])\n",
    "    return out"
   ]
  },
  {
   "cell_type": "code",
   "execution_count": 52,
   "metadata": {
    "collapsed": true,
    "jupyter": {
     "outputs_hidden": true
    },
    "tags": []
   },
   "outputs": [
    {
     "data": {
      "text/plain": [
       "[[0.5, 0.4763139720814412],\n",
       " [0.8494983277591973, 0.01968782329426981],\n",
       " [0.9030303030303031, 0.03789649823286122],\n",
       " [0.9484536082474226, 0.036853444720721815],\n",
       " [0.7727272727272727, 0.06563103254126383],\n",
       " [0.9305555555555556, 0.04909219167918721],\n",
       " [0.9714285714285714, 0.032623171862033166],\n",
       " [0.8577777777777778, 0.03833547512292874],\n",
       " [0.8309859154929577, 0.0728745651213009],\n",
       " [0.9565217391304348, 0.02854039953512982],\n",
       " [0.9703703703703703, 0.023990890306941102],\n",
       " [0.7936507936507936, 0.05925134491344022],\n",
       " [0.8632478632478633, 0.05218885359396381],\n",
       " [0.9090909090909091, 0.08134892168199606],\n",
       " [0.963855421686747, 0.03360251856149524],\n",
       " [0.7529411764705882, 0.07673887484639132],\n",
       " [0.8181818181818182, 0.033356219249749554],\n",
       " [0.9139784946236559, 0.04771902100855602],\n",
       " [0.95, 0.039956573649122834],\n",
       " [0.7361111111111112, 0.06039238513250108],\n",
       " [0.95, 0.0784731528249357],\n",
       " [0.9491525423728814, 0.046796238772244904],\n",
       " [0.8260869565217391, 0.12766071823080916],\n",
       " [0.7916666666666666, 0.13401842224112326],\n",
       " [0.7580645161290323, 0.08902593395692086],\n",
       " [0.7777777777777778, 0.1296362432175337],\n",
       " [0.9581939799331104, 0.013493253026199501],\n",
       " [0.9384615384615385, 0.018568767541156533],\n",
       " [0.8571428571428571, 0.08804958261443477],\n",
       " [0.9960474308300395, 0.006496012248571452],\n",
       " [0.8412698412698413, 0.07536875521752066],\n",
       " [0.8709677419354839, 0.09778205021594137],\n",
       " [0.8888888888888888, 0.07645528515426074],\n",
       " [0.8771929824561403, 0.07110974380060121],\n",
       " [0.9411764705882353, 0.04186448842015844],\n",
       " [0.926829268292683, 0.06630218913312479],\n",
       " [0.7391304347826086, 0.03659427610899286],\n",
       " [0.75, 0.2381569860407206],\n",
       " [0.976303317535545, 0.01723662252283342],\n",
       " [0.8846153846153846, 0.10145028222392291],\n",
       " [0.7407407407407407, 0.0974996043043569],\n",
       " [0.7037037037037037, 0.14238457994706427],\n",
       " [0.8888888888888888, 0.08524826841213413],\n",
       " [0.8863636363636364, 0.07806247497997998],\n",
       " [0.65, 0.17173744495595594],\n",
       " [0.7647058823529411, 0.16496827838094305],\n",
       " [0.5555555555555556, 0.13478934738386472],\n",
       " [0.9230769230769231, 0.0846153846153846],\n",
       " [0.7142857142857143, 0.1924599083615354],\n",
       " [0.7307692307692307, 0.140849248660141],\n",
       " [0.9456869009584664, 0.02110304372800018],\n",
       " [0.926829268292683, 0.06630218913312479],\n",
       " [0.7272727272727273, 0.21213203435596426],\n",
       " [0.6, 0.1763924196622001],\n",
       " [0.7142857142857143, 0.1924599083615354],\n",
       " [0.9586206896551724, 0.01573822401417923],\n",
       " [0.6216216216216216, 0.129813051123135],\n",
       " [0.6, 0.33],\n",
       " [0.6666666666666666, 0.3889087296526011],\n",
       " [0.6666666666666666, 0.3889087296526011],\n",
       " [0.9239130434782609, 0.045364186314353884],\n",
       " [0.9457627118644067, 0.0217209174799446],\n",
       " [0.9322033898305084, 0.05355100772196467],\n",
       " [0.5192307692307693, 0.11323861584533115],\n",
       " [0.9731543624161074, 0.021775395065943472],\n",
       " [0.9246575342465754, 0.03591994374865316],\n",
       " [0.6666666666666666, 0.1469936830518334],\n",
       " [0.8860759493670886, 0.05861140526750319],\n",
       " [0.5384615384615384, 0.15830088944043597],\n",
       " [0.9764705882352941, 0.01563144330815916],\n",
       " [0.5909090909090909, 0.16915711760012528],\n",
       " [0.9230769230769231, 0.0695186322987326],\n",
       " [0.9078947368421053, 0.05437491044982596],\n",
       " [0.9534883720930233, 0.05238368866632979],\n",
       " [0.5277777777777778, 0.13541969851075855],\n",
       " [0.9212598425196851, 0.03927970064377738],\n",
       " [0.8875, 0.04108955598476144],\n",
       " [0.966789667896679, 0.017926772277326836],\n",
       " [0.7156862745098039, 0.07333741352127708],\n",
       " [0.5555555555555556, 0.18809603121561158],\n",
       " [0.9263803680981595, 0.033647555059181926],\n",
       " [0.9076923076923077, 0.034114906309532074],\n",
       " [0.9855072463768116, 0.013672805704055482],\n",
       " [0.5, 0.4763139720814412],\n",
       " [0.921875, 0.05492351201876989],\n",
       " [0.7777777777777778, 0.1296362432175337],\n",
       " [0.8222222222222222, 0.0930118687559206],\n",
       " [0.5, 0.4763139720814412],\n",
       " [0.9489795918367347, 0.036489402134568825],\n",
       " [0.8870967741935484, 0.06578885754681636],\n",
       " [0.6, 0.2437211521390788],\n",
       " [0.6282051282051282, 0.0897166058101872],\n",
       " [0.8518518518518519, 0.07903741886123883],\n",
       " [0.9285714285714286, 0.05043109643076351],\n",
       " [0.6724137931034483, 0.10081822542118726],\n",
       " [0.5, 0.4763139720814412],\n",
       " [0.9384615384615385, 0.04880828332066248],\n",
       " [0.5, 0.4763139720814412],\n",
       " [0.6129032258064516, 0.14207402512783598],\n",
       " [0.7558139534883721, 0.07599625517987801],\n",
       " [0.8913043478260869, 0.053255144667562614],\n",
       " [0.5263157894736842, 0.18421992457228473],\n",
       " [0.7058823529411765, 0.17720435683990668],\n",
       " [0.9361702127659575, 0.058217350043472435],\n",
       " [0.5, 0.4763139720814412],\n",
       " [0.7868852459016393, 0.08581250093151986],\n",
       " [0.8615384615384616, 0.07014777301647998],\n",
       " [0.7037037037037037, 0.08320224558616882],\n",
       " [0.5, 0.4763139720814412],\n",
       " [0.8620689655172413, 0.07407300107529634],\n",
       " [0.7659574468085106, 0.10083540815731647],\n",
       " [0.6962025316455697, 0.08483964156740084],\n",
       " [0.9775051124744376, 0.011053182378033],\n",
       " [0.6857142857142857, 0.1276634606442794],\n",
       " [0.8333333333333334, 0.14107202341170869],\n",
       " [0.9333333333333333, 0.047211729140342364],\n",
       " [0.5, 0.4763139720814412],\n",
       " [0.6363636363636364, 0.229128784747792],\n",
       " [0.908203125, 0.02103442797937859],\n",
       " [0.5, 0.4763139720814412],\n",
       " [0.7142857142857143, 0.1924599083615354],\n",
       " [0.9272727272727272, 0.025791808608632855],\n",
       " [0.6521739130434783, 0.1146298706257379],\n",
       " [0.9665551839464883, 0.017127778972151515],\n",
       " [0.75, 0.11158161729009473],\n",
       " [0.977961432506887, 0.012696552048871641],\n",
       " [0.9768115942028985, 0.013350168391343667],\n",
       " [0.7272727272727273, 0.15322617553657472],\n",
       " [0.7419354838709677, 0.07446757904619473],\n",
       " [0.6470588235294118, 0.18585349738799503],\n",
       " [0.86, 0.05696872513550181],\n",
       " [0.9433962264150944, 0.051886792452830184],\n",
       " [0.7317073170731707, 0.08024500551677677],\n",
       " [0.65, 0.17173744495595594],\n",
       " [0.9029126213592233, 0.047903971924946255],\n",
       " [0.899009900990099, 0.022101936262162628],\n",
       " [0.9789103690685413, 0.009930073672478059],\n",
       " [0.8311688311688312, 0.06998542122237651],\n",
       " [0.7563025210084033, 0.06466460267897707],\n",
       " [0.5, 0.4763139720814412],\n",
       " [0.728, 0.06541070248820142],\n",
       " [0.9629629629629629, 0.02984651339373452],\n",
       " [0.8240740740740741, 0.06017536643292633],\n",
       " [0.9669421487603306, 0.018924236358783025],\n",
       " [0.5757575757575758, 0.13985286385845577],\n",
       " [0.7840909090909091, 0.0719627273608601],\n",
       " [0.8663594470046083, 0.038025408399152846],\n",
       " [0.8301886792452831, 0.08430605891603356],\n",
       " [0.5, 0.4763139720814412],\n",
       " [0.5, 0.4763139720814412],\n",
       " [0.7777777777777778, 0.11277285895869499],\n",
       " [0.9634146341463414, 0.024115834386844386],\n",
       " [0.9579288025889967, 0.018813177349502396],\n",
       " [0.9659090909090909, 0.03173776637708995],\n",
       " [0.946236559139785, 0.03838516458689026],\n",
       " [0.6923076923076923, 0.12040980321410366],\n",
       " [0.8, 0.12943664919120146],\n",
       " [0.9111111111111111, 0.0692332052917951],\n",
       " [0.7222222222222222, 0.16954747131479067],\n",
       " [0.5, 0.4763139720814412],\n",
       " [0.9560439560439561, 0.025003835268558167],\n",
       " [0.5, 0.4763139720814412],\n",
       " [0.7222222222222222, 0.16954747131479067],\n",
       " [0.7894736842105263, 0.15041493855203408],\n",
       " [0.8625, 0.06313531268896459],\n",
       " [0.8369565217391305, 0.04481271377515921],\n",
       " [0.8604651162790697, 0.0861917379112035],\n",
       " [0.8559322033898306, 0.05311456191406475],\n",
       " [0.7777777777777778, 0.11277285895869499],\n",
       " [0.8363636363636363, 0.08156942704574692],\n",
       " [0.7741935483870968, 0.12195564349479251],\n",
       " [0.7459016393442623, 0.0647698812625358],\n",
       " [0.6, 0.14518064387113974],\n",
       " [0.5, 0.4763139720814412],\n",
       " [0.868421052631579, 0.08931204141396577],\n",
       " [0.782608695652174, 0.09927237999441263],\n",
       " [0.6923076923076923, 0.14655814525582805],\n",
       " [0.8636363636363636, 0.06917693084543451],\n",
       " [0.9389233954451346, 0.012706420691462708],\n",
       " [0.8636363636363636, 0.08440971508067065],\n",
       " [0.5, 0.4763139720814412],\n",
       " [0.5, 0.4763139720814412],\n",
       " [0.5, 0.4763139720814412],\n",
       " [0.5, 0.4763139720814412],\n",
       " [0.9483568075117371, 0.017671053045678335],\n",
       " [0.7142857142857143, 0.09317425248710404],\n",
       " [0.72, 0.14529227836965786],\n",
       " [0.895910780669145, 0.030664601067767222],\n",
       " [0.8095238095238095, 0.1381362828986694],\n",
       " [0.8461538461538461, 0.11456977237307123],\n",
       " [0.6461538461538462, 0.09711519421154222],\n",
       " [0.5, 0.4763139720814412],\n",
       " [0.9425287356321839, 0.04093693127787505],\n",
       " [0.5555555555555556, 0.15494494670022801],\n",
       " [0.5, 0.4763139720814412],\n",
       " [0.9641025641025641, 0.021925486661471164],\n",
       " [0.9362549800796812, 0.025392407250700706],\n",
       " [0.9576271186440678, 0.021589967461906088],\n",
       " [0.7575757575757576, 0.05488212999484517],\n",
       " [0.9265536723163842, 0.0322622221169571],\n",
       " [0.936026936026936, 0.02338937200264118],\n",
       " [0.5, 0.4763139720814412],\n",
       " [0.5925925925925926, 0.15321366390684657],\n",
       " [0.7379310344827587, 0.04253565596088303],\n",
       " [0.8246753246753247, 0.05039426516794331],\n",
       " [0.8333333333333334, 0.23241742005034202],\n",
       " [0.5, 0.4763139720814412],\n",
       " [0.9562043795620438, 0.020361431292452544],\n",
       " [0.68, 0.10777754868245984],\n",
       " [0.9315068493150684, 0.034374934177961725],\n",
       " [0.8356164383561644, 0.07108873149439644],\n",
       " [0.9481481481481482, 0.02222386217810964],\n",
       " [0.8666666666666667, 0.08269903527117234],\n",
       " [0.5, 0.4763139720814412],\n",
       " [0.5, 0.4763139720814412],\n",
       " [0.9, 0.04925434091539446],\n",
       " [0.6941176470588235, 0.08198388087461986],\n",
       " [0.8732394366197183, 0.0646958535117573],\n",
       " [0.875, 0.08522186789957542],\n",
       " [0.5, 0.4763139720814412],\n",
       " [0.5, 0.4763139720814412],\n",
       " [0.8955223880597015, 0.061203932901770064],\n",
       " [0.8467741935483871, 0.0531592325588274],\n",
       " [0.8135593220338984, 0.08296086443191758],\n",
       " [0.5, 0.4763139720814412],\n",
       " [0.9090909090909091, 0.06338656910463873],\n",
       " [0.9090909090909091, 0.06338656910463873],\n",
       " [0.875, 0.07227790391770393],\n",
       " [0.5, 0.4763139720814412],\n",
       " [0.7380952380952381, 0.04223775583511576],\n",
       " [0.8115942028985508, 0.07711724802720352],\n",
       " [0.8571428571428571, 0.0962299541807677],\n",
       " [0.8679245283018868, 0.07602197192899214],\n",
       " [0.8421052631578947, 0.13453521097352078],\n",
       " [0.8043478260869565, 0.0954771177954353],\n",
       " [0.9387755102040817, 0.055942568872713566],\n",
       " [0.8421052631578947, 0.09634266566017136],\n",
       " [0.8, 0.06918679922364661],\n",
       " [0.8518518518518519, 0.11077329598805136],\n",
       " [0.8484848484848485, 0.10145993123917846],\n",
       " [0.6153846153846154, 0.15448584955273917],\n",
       " [0.7878787878787878, 0.1156821202311596],\n",
       " [0.9545454545454546, 0.07166498144294318],\n",
       " [0.918918918918919, 0.05200578717024187],\n",
       " [0.8148148148148148, 0.1211260366512918],\n",
       " [0.6666666666666666, 0.10786387432600122],\n",
       " [0.9870967741935484, 0.010559242522293882],\n",
       " [0.927570093457944, 0.020648458225886093],\n",
       " [0.9, 0.10801785566681622],\n",
       " [0.5681818181818182, 0.12183492931011203],\n",
       " [0.7894736842105263, 0.15041493855203408],\n",
       " [0.7777777777777778, 0.15737243046780788],\n",
       " [0.5, 0.4763139720814412],\n",
       " [0.6521739130434783, 0.16041357229889794],\n",
       " [0.9078947368421053, 0.022319569685136063],\n",
       " [0.6666666666666666, 0.16583123951776998],\n",
       " [0.5333333333333333, 0.20579115627256678],\n",
       " [0.9658703071672355, 0.017471728661324345],\n",
       " [0.9533333333333334, 0.028321825997180503],\n",
       " [0.8842105263157894, 0.03820143181933416],\n",
       " [0.9375, 0.02572770632849557],\n",
       " [0.8636363636363636, 0.06917693084543451],\n",
       " [0.9142857142857143, 0.03889931557318878],\n",
       " [0.8269230769230769, 0.08574289607878963],\n",
       " [0.9, 0.07730601213486],\n",
       " [0.6477272727272727, 0.0592424367625043],\n",
       " [0.926829268292683, 0.06630218913312479],\n",
       " [0.5, 0.4763139720814412],\n",
       " [0.8974358974358975, 0.028295096944638484],\n",
       " [0.8620689655172413, 0.05260088067653035],\n",
       " [0.8461538461538461, 0.09412867310544494],\n",
       " [0.5714285714285714, 0.2886898625423031],\n",
       " [0.5, 0.4763139720814412],\n",
       " [0.9636363636363636, 0.04127434346626762],\n",
       " [0.5555555555555556, 0.2592724864350674],\n",
       " [0.9090909090909091, 0.08134892168199606],\n",
       " [0.9224137931034483, 0.04080808054151592],\n",
       " [0.7666666666666667, 0.12534146907934238],\n",
       " [0.8717948717948718, 0.08721954208037358],\n",
       " [0.8560606060606061, 0.05022271825151869],\n",
       " [0.6470588235294118, 0.18585349738799503],\n",
       " [0.9215686274509803, 0.061516415401534394],\n",
       " [0.5, 0.4763139720814412],\n",
       " [0.9651162790697675, 0.023017710045882198],\n",
       " [0.9583333333333334, 0.04710191674682135],\n",
       " [0.9354838709677419, 0.07165743493364461],\n",
       " [0.7419354838709677, 0.1276310002171933],\n",
       " [0.9166666666666666, 0.09120718173477349],\n",
       " [0.5, 0.4763139720814412],\n",
       " [0.6785714285714286, 0.06489547442584324],\n",
       " [0.5, 0.4763139720814412],\n",
       " [0.5, 0.4763139720814412],\n",
       " [0.8688524590163934, 0.07073611322938879],\n",
       " [0.8421052631578947, 0.13453521097352078],\n",
       " [0.7142857142857143, 0.15891853900919278],\n",
       " [0.9152542372881356, 0.05932506045548153],\n",
       " [0.896551724137931, 0.06541950321482627],\n",
       " [0.7966101694915254, 0.08574244417846515],\n",
       " [0.8461538461538461, 0.09412867310544494],\n",
       " [0.7647058823529411, 0.16496827838094305],\n",
       " [0.8811881188118812, 0.05286255023910043],\n",
       " [0.5333333333333333, 0.20579115627256678],\n",
       " [0.5, 0.4763139720814412],\n",
       " [0.8513513513513513, 0.06777791581997727],\n",
       " [0.8454545454545455, 0.056610332358410766],\n",
       " [0.5, 0.4763139720814412],\n",
       " [0.7722772277227723, 0.06851311348753919],\n",
       " [0.8181818181818182, 0.1326977605394074],\n",
       " [0.8421052631578947, 0.13453521097352078],\n",
       " [0.9, 0.10801785566681622],\n",
       " [0.7692307692307693, 0.10991860894187104],\n",
       " [0.9070422535211268, 0.02539308684439601],\n",
       " [0.8285714285714286, 0.10364283252928723],\n",
       " [0.5757575757575758, 0.13985286385845577],\n",
       " [0.734375, 0.09039006143448408],\n",
       " [0.8181818181818182, 0.18371173070873834],\n",
       " [0.8064516129032258, 0.1152372513100261],\n",
       " [0.8421052631578947, 0.13453521097352078],\n",
       " [0.5, 0.4763139720814412],\n",
       " [0.6272727272727273, 0.07572621381965071],\n",
       " [0.75, 0.1732846603984662],\n",
       " [0.9875518672199171, 0.008324198772967988],\n",
       " [0.9241379310344827, 0.03615665587789888],\n",
       " [0.9287531806615776, 0.021383004671068698],\n",
       " [0.9573333333333334, 0.01719752579928349],\n",
       " [0.5873015873015873, 0.10154088488808276],\n",
       " [0.7142857142857143, 0.1924599083615354],\n",
       " [0.5185185185185185, 0.15580337402644617],\n",
       " [0.9573170731707317, 0.015021575423997954],\n",
       " [0.5, 0.4763139720814412],\n",
       " [0.9225806451612903, 0.03530600583281555],\n",
       " [0.9870466321243523, 0.009483936708662702],\n",
       " [0.782608695652174, 0.13892222872265733],\n",
       " [0.9885321100917431, 0.008403890280478693],\n",
       " [0.9456066945606695, 0.024154959749413566],\n",
       " [0.5, 0.4763139720814412],\n",
       " [0.6666666666666666, 0.24596747752497686],\n",
       " [0.5909090909090909, 0.16915711760012528],\n",
       " [0.7662337662337663, 0.07906935135304256],\n",
       " [0.6363636363636364, 0.229128784747792],\n",
       " [0.6, 0.1763924196622001],\n",
       " [0.6666666666666666, 0.2939873661036668],\n",
       " [0.9230769230769231, 0.04583922867496597],\n",
       " [0.8648648648648649, 0.09150617734813536],\n",
       " [0.5714285714285714, 0.2886898625423031],\n",
       " [0.914572864321608, 0.03261189419581937],\n",
       " [0.8840579710144928, 0.06313871581298243],\n",
       " [0.8651685393258427, 0.05940303966187733],\n",
       " [0.875, 0.08522186789957542],\n",
       " [0.5098039215686274, 0.11438492048605915],\n",
       " [0.8847926267281107, 0.03567932111224503],\n",
       " [0.5, 0.4763139720814412],\n",
       " [0.9761904761904762, 0.01581489531836331],\n",
       " [0.5, 0.4763139720814412],\n",
       " [0.6538461538461539, 0.10782472938755876],\n",
       " [0.7951807228915663, 0.07265451989335267],\n",
       " [0.8840579710144928, 0.06313871581298243],\n",
       " [0.5, 0.4763139720814412],\n",
       " [0.8297872340425532, 0.08950406593008611],\n",
       " [0.9010989010989011, 0.05135430062852933],\n",
       " [0.8941176470588236, 0.05474492230394981],\n",
       " [0.7916666666666666, 0.13401842224112326],\n",
       " [0.84375, 0.10429029122478276],\n",
       " [0.5, 0.4763139720814412],\n",
       " [0.8888888888888888, 0.05435828322181409],\n",
       " [0.8461538461538461, 0.07327907262791403],\n",
       " [0.875, 0.09499177595981664],\n",
       " [0.9514563106796117, 0.034771873410324214],\n",
       " [0.9090909090909091, 0.06338656910463873],\n",
       " [0.925, 0.06787244807222642],\n",
       " [0.9142857142857143, 0.07698396334461417],\n",
       " [0.9, 0.07730601213486],\n",
       " [0.8064516129032258, 0.1152372513100261],\n",
       " [0.8823529411764706, 0.08985900968380646],\n",
       " [0.775, 0.10760541484924467],\n",
       " [0.5, 0.4763139720814412],\n",
       " [0.989010989010989, 0.006370889058947284],\n",
       " [0.9333333333333333, 0.047211729140342364],\n",
       " [0.8125, 0.15619668207950851],\n",
       " [0.8214285714285714, 0.1173480383481207],\n",
       " [0.875, 0.10913724158141437],\n",
       " [0.9580246913580247, 0.01642125055873936],\n",
       " [0.85, 0.12856696420820662],\n",
       " [0.7837837837837838, 0.07843241380594708],\n",
       " [0.95900439238653, 0.012509353211427123],\n",
       " [0.8333333333333334, 0.07512427514737105],\n",
       " [0.875, 0.13234834550844798],\n",
       " [0.8148148148148148, 0.08642416214502247],\n",
       " [0.631578947368421, 0.17797335540877196],\n",
       " [0.7666666666666667, 0.12534146907934238],\n",
       " [0.9777777777777777, 0.012801007962775227],\n",
       " [0.9281609195402298, 0.02280674213822557],\n",
       " [0.9856459330143541, 0.013543229821604278],\n",
       " [0.9032258064516129, 0.08623566251913685],\n",
       " [0.7, 0.165],\n",
       " [0.5, 0.4763139720814412],\n",
       " [0.8899082568807339, 0.04924221656872924],\n",
       " [0.5, 0.4763139720814412],\n",
       " [0.8333333333333334, 0.17054776006016162],\n",
       " [0.6956521739130435, 0.15497423409236186],\n",
       " [0.937007874015748, 0.02510317231623367],\n",
       " [0.6666666666666666, 0.24596747752497686],\n",
       " [0.8695652173913043, 0.11342952476690926],\n",
       " [0.7777777777777778, 0.21692292538031924],\n",
       " [0.9333333333333333, 0.03529289213558613],\n",
       " [0.9690117252931323, 0.008271098756068658],\n",
       " [0.9518072289156626, 0.027345833020261157],\n",
       " [0.8655913978494624, 0.041155998154848966],\n",
       " [0.8571428571428571, 0.12309777099724346],\n",
       " [0.6363636363636364, 0.229128784747792],\n",
       " [0.8974358974358975, 0.07915044472021798],\n",
       " [0.9573560767590619, 0.0153780171485468],\n",
       " [0.6923076923076923, 0.20352971499484626],\n",
       " [0.928, 0.026920760217298667],\n",
       " [0.9377593360995851, 0.02562471641108577],\n",
       " [0.5192307692307693, 0.11323861584533115],\n",
       " [0.9444444444444444, 0.044235859473035134],\n",
       " [0.9776247848537005, 0.010115612012920227],\n",
       " [0.5714285714285714, 0.21082926644998015],\n",
       " [0.948849104859335, 0.0183597222135095],\n",
       " [0.6153846153846154, 0.2145391569695465],\n",
       " [0.8967136150234741, 0.03432618020724639],\n",
       " [0.8518518518518519, 0.11077329598805136],\n",
       " [0.9571984435797666, 0.02079241161424907],\n",
       " [0.8757062146892656, 0.04080166316035692],\n",
       " [0.9166666666666666, 0.07497184156086222],\n",
       " [0.9466666666666667, 0.04252800934616348],\n",
       " [0.7741935483870968, 0.12195564349479251],\n",
       " [0.9175824175824175, 0.0335421484319689],\n",
       " [0.8656716417910447, 0.06823228833813215],\n",
       " [0.9471698113207547, 0.022630707453046475],\n",
       " [0.875, 0.10913724158141437],\n",
       " [0.9083969465648855, 0.02934937640072529],\n",
       " [0.6666666666666666, 0.0734968415259167],\n",
       " [0.5, 0.4763139720814412],\n",
       " [0.8333333333333334, 0.11044265772409359],\n",
       " [0.5, 0.4763139720814412],\n",
       " [0.878345498783455, 0.026572481749443082],\n",
       " [0.8541666666666666, 0.04836148791064057],\n",
       " [0.9567307692307693, 0.023221766783471404],\n",
       " [0.9461077844311377, 0.028745021009227455],\n",
       " [0.8409090909090909, 0.08996527107723291],\n",
       " [0.95578231292517, 0.019749242472399935],\n",
       " [0.5, 0.4763139720814412],\n",
       " [0.8913043478260869, 0.07491246953574453],\n",
       " [0.8823529411764706, 0.08985900968380646],\n",
       " [0.9649122807017544, 0.028311084821789914],\n",
       " [0.8769230769230769, 0.06672384136061982],\n",
       " [0.8712871287128713, 0.054711106318802265],\n",
       " [0.7142857142857143, 0.09317425248710404],\n",
       " [0.8387096774193549, 0.10728004261848877],\n",
       " [0.5, 0.4763139720814412],\n",
       " [0.9565217391304348, 0.020217505227500657],\n",
       " [0.9166666666666666, 0.09120718173477349],\n",
       " [0.8387096774193549, 0.10728004261848877],\n",
       " [0.896551724137931, 0.06541950321482627],\n",
       " [0.9461077844311377, 0.028745021009227455],\n",
       " [0.5, 0.4763139720814412],\n",
       " [0.8095238095238095, 0.0702764221499934],\n",
       " [0.8518518518518519, 0.11077329598805136],\n",
       " [0.9354838709677419, 0.051070013473665604],\n",
       " [0.5714285714285714, 0.2886898625423031],\n",
       " [0.9325842696629213, 0.043610127282730525],\n",
       " [0.9344262295081968, 0.036827223456173085],\n",
       " [0.5, 0.4763139720814412],\n",
       " [0.8947368421052632, 0.051681389943402205],\n",
       " [0.9583333333333334, 0.015423343124274413],\n",
       " [0.7916666666666666, 0.13401842224112326],\n",
       " [0.9078498293515358, 0.027833342195816888],\n",
       " [0.5, 0.4763139720814412],\n",
       " [0.9780701754385965, 0.011303903227525485],\n",
       " [0.8888888888888888, 0.0699205898780101],\n",
       " [0.7777777777777778, 0.08574631511356949],\n",
       " [0.7777777777777778, 0.1296362432175337],\n",
       " [0.9477756286266924, 0.01612903719151544],\n",
       " [0.7843137254901961, 0.09411057665750198],\n",
       " [0.940677966101695, 0.03573048946939804],\n",
       " [0.76, 0.1382005232095183],\n",
       " [0.8035714285714286, 0.08682825816026143],\n",
       " [0.8297872340425532, 0.08950406593008611],\n",
       " [0.9456521739130435, 0.022475060051899694],\n",
       " [0.6818181818181818, 0.114564392373896],\n",
       " [0.8947368421052632, 0.08108443563415561],\n",
       " [0.6071428571428571, 0.14964000608638764],\n",
       " [0.9574468085106383, 0.048071394674655536],\n",
       " [0.6, 0.14518064387113974],\n",
       " [0.875, 0.10913724158141437],\n",
       " [0.9264705882352942, 0.026064475194817593],\n",
       " [0.5, 0.4763139720814412],\n",
       " [0.9523809523809523, 0.02702939313461284],\n",
       " [0.8148148148148148, 0.1211260366512918],\n",
       " [0.75, 0.19815859033379532],\n",
       " [0.6363636363636364, 0.16550318531021113],\n",
       " [0.8148148148148148, 0.1211260366512918],\n",
       " [0.7096774193548387, 0.1323975218730583],\n",
       " [0.65, 0.17173744495595594],\n",
       " [0.8125, 0.11210869446657559],\n",
       " [0.8986083499005965, 0.022184773363781246],\n",
       " [0.7380191693290735, 0.04094375772998912],\n",
       " [0.8, 0.14402380755575497]]"
      ]
     },
     "execution_count": 52,
     "metadata": {},
     "output_type": "execute_result"
    }
   ],
   "source": [
    "mu_sgm_python_jit(votes[9])"
   ]
  },
  {
   "cell_type": "code",
   "execution_count": 53,
   "metadata": {},
   "outputs": [
    {
     "name": "stdout",
     "output_type": "stream",
     "text": [
      "103 µs ± 1.03 µs per loop (mean ± std. dev. of 7 runs, 10,000 loops each)\n"
     ]
    }
   ],
   "source": [
    "%%timeit\n",
    "mu_sgm_python_jit(votes[9])"
   ]
  },
  {
   "cell_type": "code",
   "execution_count": 47,
   "metadata": {},
   "outputs": [],
   "source": [
    "@jit(nopython=True)\n",
    "def mu_sgm_numpy_jit(botes):\n",
    "    a_b = botes+np.ones(1)\n",
    "    a, b = a_b[:,0], a_b[:,1]\n",
    "    sgm = 1.65 * np.sqrt( a*b / ((a+b)**2*(a+b+1)))\n",
    "    mu = a/(a+b)\n",
    "    out = np.column_stack((mu,sgm))\n",
    "    return out"
   ]
  },
  {
   "cell_type": "code",
   "execution_count": 54,
   "metadata": {
    "collapsed": true,
    "jupyter": {
     "outputs_hidden": true
    },
    "tags": []
   },
   "outputs": [
    {
     "data": {
      "text/plain": [
       "array([[0.5       , 0.47631397],\n",
       "       [0.84949833, 0.01968782],\n",
       "       [0.9030303 , 0.0378965 ],\n",
       "       [0.94845361, 0.03685344],\n",
       "       [0.77272727, 0.06563103],\n",
       "       [0.93055556, 0.04909219],\n",
       "       [0.97142857, 0.03262317],\n",
       "       [0.85777778, 0.03833548],\n",
       "       [0.83098592, 0.07287457],\n",
       "       [0.95652174, 0.0285404 ],\n",
       "       [0.97037037, 0.02399089],\n",
       "       [0.79365079, 0.05925134],\n",
       "       [0.86324786, 0.05218885],\n",
       "       [0.90909091, 0.08134892],\n",
       "       [0.96385542, 0.03360252],\n",
       "       [0.75294118, 0.07673887],\n",
       "       [0.81818182, 0.03335622],\n",
       "       [0.91397849, 0.04771902],\n",
       "       [0.95      , 0.03995657],\n",
       "       [0.73611111, 0.06039239],\n",
       "       [0.95      , 0.07847315],\n",
       "       [0.94915254, 0.04679624],\n",
       "       [0.82608696, 0.12766072],\n",
       "       [0.79166667, 0.13401842],\n",
       "       [0.75806452, 0.08902593],\n",
       "       [0.77777778, 0.12963624],\n",
       "       [0.95819398, 0.01349325],\n",
       "       [0.93846154, 0.01856877],\n",
       "       [0.85714286, 0.08804958],\n",
       "       [0.99604743, 0.00649601],\n",
       "       [0.84126984, 0.07536876],\n",
       "       [0.87096774, 0.09778205],\n",
       "       [0.88888889, 0.07645529],\n",
       "       [0.87719298, 0.07110974],\n",
       "       [0.94117647, 0.04186449],\n",
       "       [0.92682927, 0.06630219],\n",
       "       [0.73913043, 0.03659428],\n",
       "       [0.75      , 0.23815699],\n",
       "       [0.97630332, 0.01723662],\n",
       "       [0.88461538, 0.10145028],\n",
       "       [0.74074074, 0.0974996 ],\n",
       "       [0.7037037 , 0.14238458],\n",
       "       [0.88888889, 0.08524827],\n",
       "       [0.88636364, 0.07806247],\n",
       "       [0.65      , 0.17173744],\n",
       "       [0.76470588, 0.16496828],\n",
       "       [0.55555556, 0.13478935],\n",
       "       [0.92307692, 0.08461538],\n",
       "       [0.71428571, 0.19245991],\n",
       "       [0.73076923, 0.14084925],\n",
       "       [0.9456869 , 0.02110304],\n",
       "       [0.92682927, 0.06630219],\n",
       "       [0.72727273, 0.21213203],\n",
       "       [0.6       , 0.17639242],\n",
       "       [0.71428571, 0.19245991],\n",
       "       [0.95862069, 0.01573822],\n",
       "       [0.62162162, 0.12981305],\n",
       "       [0.6       , 0.33      ],\n",
       "       [0.66666667, 0.38890873],\n",
       "       [0.66666667, 0.38890873],\n",
       "       [0.92391304, 0.04536419],\n",
       "       [0.94576271, 0.02172092],\n",
       "       [0.93220339, 0.05355101],\n",
       "       [0.51923077, 0.11323862],\n",
       "       [0.97315436, 0.0217754 ],\n",
       "       [0.92465753, 0.03591994],\n",
       "       [0.66666667, 0.14699368],\n",
       "       [0.88607595, 0.05861141],\n",
       "       [0.53846154, 0.15830089],\n",
       "       [0.97647059, 0.01563144],\n",
       "       [0.59090909, 0.16915712],\n",
       "       [0.92307692, 0.06951863],\n",
       "       [0.90789474, 0.05437491],\n",
       "       [0.95348837, 0.05238369],\n",
       "       [0.52777778, 0.1354197 ],\n",
       "       [0.92125984, 0.0392797 ],\n",
       "       [0.8875    , 0.04108956],\n",
       "       [0.96678967, 0.01792677],\n",
       "       [0.71568627, 0.07333741],\n",
       "       [0.55555556, 0.18809603],\n",
       "       [0.92638037, 0.03364756],\n",
       "       [0.90769231, 0.03411491],\n",
       "       [0.98550725, 0.01367281],\n",
       "       [0.5       , 0.47631397],\n",
       "       [0.921875  , 0.05492351],\n",
       "       [0.77777778, 0.12963624],\n",
       "       [0.82222222, 0.09301187],\n",
       "       [0.5       , 0.47631397],\n",
       "       [0.94897959, 0.0364894 ],\n",
       "       [0.88709677, 0.06578886],\n",
       "       [0.6       , 0.24372115],\n",
       "       [0.62820513, 0.08971661],\n",
       "       [0.85185185, 0.07903742],\n",
       "       [0.92857143, 0.0504311 ],\n",
       "       [0.67241379, 0.10081823],\n",
       "       [0.5       , 0.47631397],\n",
       "       [0.93846154, 0.04880828],\n",
       "       [0.5       , 0.47631397],\n",
       "       [0.61290323, 0.14207403],\n",
       "       [0.75581395, 0.07599626],\n",
       "       [0.89130435, 0.05325514],\n",
       "       [0.52631579, 0.18421992],\n",
       "       [0.70588235, 0.17720436],\n",
       "       [0.93617021, 0.05821735],\n",
       "       [0.5       , 0.47631397],\n",
       "       [0.78688525, 0.0858125 ],\n",
       "       [0.86153846, 0.07014777],\n",
       "       [0.7037037 , 0.08320225],\n",
       "       [0.5       , 0.47631397],\n",
       "       [0.86206897, 0.074073  ],\n",
       "       [0.76595745, 0.10083541],\n",
       "       [0.69620253, 0.08483964],\n",
       "       [0.97750511, 0.01105318],\n",
       "       [0.68571429, 0.12766346],\n",
       "       [0.83333333, 0.14107202],\n",
       "       [0.93333333, 0.04721173],\n",
       "       [0.5       , 0.47631397],\n",
       "       [0.63636364, 0.22912878],\n",
       "       [0.90820312, 0.02103443],\n",
       "       [0.5       , 0.47631397],\n",
       "       [0.71428571, 0.19245991],\n",
       "       [0.92727273, 0.02579181],\n",
       "       [0.65217391, 0.11462987],\n",
       "       [0.96655518, 0.01712778],\n",
       "       [0.75      , 0.11158162],\n",
       "       [0.97796143, 0.01269655],\n",
       "       [0.97681159, 0.01335017],\n",
       "       [0.72727273, 0.15322618],\n",
       "       [0.74193548, 0.07446758],\n",
       "       [0.64705882, 0.1858535 ],\n",
       "       [0.86      , 0.05696873],\n",
       "       [0.94339623, 0.05188679],\n",
       "       [0.73170732, 0.08024501],\n",
       "       [0.65      , 0.17173744],\n",
       "       [0.90291262, 0.04790397],\n",
       "       [0.8990099 , 0.02210194],\n",
       "       [0.97891037, 0.00993007],\n",
       "       [0.83116883, 0.06998542],\n",
       "       [0.75630252, 0.0646646 ],\n",
       "       [0.5       , 0.47631397],\n",
       "       [0.728     , 0.0654107 ],\n",
       "       [0.96296296, 0.02984651],\n",
       "       [0.82407407, 0.06017537],\n",
       "       [0.96694215, 0.01892424],\n",
       "       [0.57575758, 0.13985286],\n",
       "       [0.78409091, 0.07196273],\n",
       "       [0.86635945, 0.03802541],\n",
       "       [0.83018868, 0.08430606],\n",
       "       [0.5       , 0.47631397],\n",
       "       [0.5       , 0.47631397],\n",
       "       [0.77777778, 0.11277286],\n",
       "       [0.96341463, 0.02411583],\n",
       "       [0.9579288 , 0.01881318],\n",
       "       [0.96590909, 0.03173777],\n",
       "       [0.94623656, 0.03838516],\n",
       "       [0.69230769, 0.1204098 ],\n",
       "       [0.8       , 0.12943665],\n",
       "       [0.91111111, 0.06923321],\n",
       "       [0.72222222, 0.16954747],\n",
       "       [0.5       , 0.47631397],\n",
       "       [0.95604396, 0.02500384],\n",
       "       [0.5       , 0.47631397],\n",
       "       [0.72222222, 0.16954747],\n",
       "       [0.78947368, 0.15041494],\n",
       "       [0.8625    , 0.06313531],\n",
       "       [0.83695652, 0.04481271],\n",
       "       [0.86046512, 0.08619174],\n",
       "       [0.8559322 , 0.05311456],\n",
       "       [0.77777778, 0.11277286],\n",
       "       [0.83636364, 0.08156943],\n",
       "       [0.77419355, 0.12195564],\n",
       "       [0.74590164, 0.06476988],\n",
       "       [0.6       , 0.14518064],\n",
       "       [0.5       , 0.47631397],\n",
       "       [0.86842105, 0.08931204],\n",
       "       [0.7826087 , 0.09927238],\n",
       "       [0.69230769, 0.14655815],\n",
       "       [0.86363636, 0.06917693],\n",
       "       [0.9389234 , 0.01270642],\n",
       "       [0.86363636, 0.08440972],\n",
       "       [0.5       , 0.47631397],\n",
       "       [0.5       , 0.47631397],\n",
       "       [0.5       , 0.47631397],\n",
       "       [0.5       , 0.47631397],\n",
       "       [0.94835681, 0.01767105],\n",
       "       [0.71428571, 0.09317425],\n",
       "       [0.72      , 0.14529228],\n",
       "       [0.89591078, 0.0306646 ],\n",
       "       [0.80952381, 0.13813628],\n",
       "       [0.84615385, 0.11456977],\n",
       "       [0.64615385, 0.09711519],\n",
       "       [0.5       , 0.47631397],\n",
       "       [0.94252874, 0.04093693],\n",
       "       [0.55555556, 0.15494495],\n",
       "       [0.5       , 0.47631397],\n",
       "       [0.96410256, 0.02192549],\n",
       "       [0.93625498, 0.02539241],\n",
       "       [0.95762712, 0.02158997],\n",
       "       [0.75757576, 0.05488213],\n",
       "       [0.92655367, 0.03226222],\n",
       "       [0.93602694, 0.02338937],\n",
       "       [0.5       , 0.47631397],\n",
       "       [0.59259259, 0.15321366],\n",
       "       [0.73793103, 0.04253566],\n",
       "       [0.82467532, 0.05039427],\n",
       "       [0.83333333, 0.23241742],\n",
       "       [0.5       , 0.47631397],\n",
       "       [0.95620438, 0.02036143],\n",
       "       [0.68      , 0.10777755],\n",
       "       [0.93150685, 0.03437493],\n",
       "       [0.83561644, 0.07108873],\n",
       "       [0.94814815, 0.02222386],\n",
       "       [0.86666667, 0.08269904],\n",
       "       [0.5       , 0.47631397],\n",
       "       [0.5       , 0.47631397],\n",
       "       [0.9       , 0.04925434],\n",
       "       [0.69411765, 0.08198388],\n",
       "       [0.87323944, 0.06469585],\n",
       "       [0.875     , 0.08522187],\n",
       "       [0.5       , 0.47631397],\n",
       "       [0.5       , 0.47631397],\n",
       "       [0.89552239, 0.06120393],\n",
       "       [0.84677419, 0.05315923],\n",
       "       [0.81355932, 0.08296086],\n",
       "       [0.5       , 0.47631397],\n",
       "       [0.90909091, 0.06338657],\n",
       "       [0.90909091, 0.06338657],\n",
       "       [0.875     , 0.0722779 ],\n",
       "       [0.5       , 0.47631397],\n",
       "       [0.73809524, 0.04223776],\n",
       "       [0.8115942 , 0.07711725],\n",
       "       [0.85714286, 0.09622995],\n",
       "       [0.86792453, 0.07602197],\n",
       "       [0.84210526, 0.13453521],\n",
       "       [0.80434783, 0.09547712],\n",
       "       [0.93877551, 0.05594257],\n",
       "       [0.84210526, 0.09634267],\n",
       "       [0.8       , 0.0691868 ],\n",
       "       [0.85185185, 0.1107733 ],\n",
       "       [0.84848485, 0.10145993],\n",
       "       [0.61538462, 0.15448585],\n",
       "       [0.78787879, 0.11568212],\n",
       "       [0.95454545, 0.07166498],\n",
       "       [0.91891892, 0.05200579],\n",
       "       [0.81481481, 0.12112604],\n",
       "       [0.66666667, 0.10786387],\n",
       "       [0.98709677, 0.01055924],\n",
       "       [0.92757009, 0.02064846],\n",
       "       [0.9       , 0.10801786],\n",
       "       [0.56818182, 0.12183493],\n",
       "       [0.78947368, 0.15041494],\n",
       "       [0.77777778, 0.15737243],\n",
       "       [0.5       , 0.47631397],\n",
       "       [0.65217391, 0.16041357],\n",
       "       [0.90789474, 0.02231957],\n",
       "       [0.66666667, 0.16583124],\n",
       "       [0.53333333, 0.20579116],\n",
       "       [0.96587031, 0.01747173],\n",
       "       [0.95333333, 0.02832183],\n",
       "       [0.88421053, 0.03820143],\n",
       "       [0.9375    , 0.02572771],\n",
       "       [0.86363636, 0.06917693],\n",
       "       [0.91428571, 0.03889932],\n",
       "       [0.82692308, 0.0857429 ],\n",
       "       [0.9       , 0.07730601],\n",
       "       [0.64772727, 0.05924244],\n",
       "       [0.92682927, 0.06630219],\n",
       "       [0.5       , 0.47631397],\n",
       "       [0.8974359 , 0.0282951 ],\n",
       "       [0.86206897, 0.05260088],\n",
       "       [0.84615385, 0.09412867],\n",
       "       [0.57142857, 0.28868986],\n",
       "       [0.5       , 0.47631397],\n",
       "       [0.96363636, 0.04127434],\n",
       "       [0.55555556, 0.25927249],\n",
       "       [0.90909091, 0.08134892],\n",
       "       [0.92241379, 0.04080808],\n",
       "       [0.76666667, 0.12534147],\n",
       "       [0.87179487, 0.08721954],\n",
       "       [0.85606061, 0.05022272],\n",
       "       [0.64705882, 0.1858535 ],\n",
       "       [0.92156863, 0.06151642],\n",
       "       [0.5       , 0.47631397],\n",
       "       [0.96511628, 0.02301771],\n",
       "       [0.95833333, 0.04710192],\n",
       "       [0.93548387, 0.07165743],\n",
       "       [0.74193548, 0.127631  ],\n",
       "       [0.91666667, 0.09120718],\n",
       "       [0.5       , 0.47631397],\n",
       "       [0.67857143, 0.06489547],\n",
       "       [0.5       , 0.47631397],\n",
       "       [0.5       , 0.47631397],\n",
       "       [0.86885246, 0.07073611],\n",
       "       [0.84210526, 0.13453521],\n",
       "       [0.71428571, 0.15891854],\n",
       "       [0.91525424, 0.05932506],\n",
       "       [0.89655172, 0.0654195 ],\n",
       "       [0.79661017, 0.08574244],\n",
       "       [0.84615385, 0.09412867],\n",
       "       [0.76470588, 0.16496828],\n",
       "       [0.88118812, 0.05286255],\n",
       "       [0.53333333, 0.20579116],\n",
       "       [0.5       , 0.47631397],\n",
       "       [0.85135135, 0.06777792],\n",
       "       [0.84545455, 0.05661033],\n",
       "       [0.5       , 0.47631397],\n",
       "       [0.77227723, 0.06851311],\n",
       "       [0.81818182, 0.13269776],\n",
       "       [0.84210526, 0.13453521],\n",
       "       [0.9       , 0.10801786],\n",
       "       [0.76923077, 0.10991861],\n",
       "       [0.90704225, 0.02539309],\n",
       "       [0.82857143, 0.10364283],\n",
       "       [0.57575758, 0.13985286],\n",
       "       [0.734375  , 0.09039006],\n",
       "       [0.81818182, 0.18371173],\n",
       "       [0.80645161, 0.11523725],\n",
       "       [0.84210526, 0.13453521],\n",
       "       [0.5       , 0.47631397],\n",
       "       [0.62727273, 0.07572621],\n",
       "       [0.75      , 0.17328466],\n",
       "       [0.98755187, 0.0083242 ],\n",
       "       [0.92413793, 0.03615666],\n",
       "       [0.92875318, 0.021383  ],\n",
       "       [0.95733333, 0.01719753],\n",
       "       [0.58730159, 0.10154088],\n",
       "       [0.71428571, 0.19245991],\n",
       "       [0.51851852, 0.15580337],\n",
       "       [0.95731707, 0.01502158],\n",
       "       [0.5       , 0.47631397],\n",
       "       [0.92258065, 0.03530601],\n",
       "       [0.98704663, 0.00948394],\n",
       "       [0.7826087 , 0.13892223],\n",
       "       [0.98853211, 0.00840389],\n",
       "       [0.94560669, 0.02415496],\n",
       "       [0.5       , 0.47631397],\n",
       "       [0.66666667, 0.24596748],\n",
       "       [0.59090909, 0.16915712],\n",
       "       [0.76623377, 0.07906935],\n",
       "       [0.63636364, 0.22912878],\n",
       "       [0.6       , 0.17639242],\n",
       "       [0.66666667, 0.29398737],\n",
       "       [0.92307692, 0.04583923],\n",
       "       [0.86486486, 0.09150618],\n",
       "       [0.57142857, 0.28868986],\n",
       "       [0.91457286, 0.03261189],\n",
       "       [0.88405797, 0.06313872],\n",
       "       [0.86516854, 0.05940304],\n",
       "       [0.875     , 0.08522187],\n",
       "       [0.50980392, 0.11438492],\n",
       "       [0.88479263, 0.03567932],\n",
       "       [0.5       , 0.47631397],\n",
       "       [0.97619048, 0.0158149 ],\n",
       "       [0.5       , 0.47631397],\n",
       "       [0.65384615, 0.10782473],\n",
       "       [0.79518072, 0.07265452],\n",
       "       [0.88405797, 0.06313872],\n",
       "       [0.5       , 0.47631397],\n",
       "       [0.82978723, 0.08950407],\n",
       "       [0.9010989 , 0.0513543 ],\n",
       "       [0.89411765, 0.05474492],\n",
       "       [0.79166667, 0.13401842],\n",
       "       [0.84375   , 0.10429029],\n",
       "       [0.5       , 0.47631397],\n",
       "       [0.88888889, 0.05435828],\n",
       "       [0.84615385, 0.07327907],\n",
       "       [0.875     , 0.09499178],\n",
       "       [0.95145631, 0.03477187],\n",
       "       [0.90909091, 0.06338657],\n",
       "       [0.925     , 0.06787245],\n",
       "       [0.91428571, 0.07698396],\n",
       "       [0.9       , 0.07730601],\n",
       "       [0.80645161, 0.11523725],\n",
       "       [0.88235294, 0.08985901],\n",
       "       [0.775     , 0.10760541],\n",
       "       [0.5       , 0.47631397],\n",
       "       [0.98901099, 0.00637089],\n",
       "       [0.93333333, 0.04721173],\n",
       "       [0.8125    , 0.15619668],\n",
       "       [0.82142857, 0.11734804],\n",
       "       [0.875     , 0.10913724],\n",
       "       [0.95802469, 0.01642125],\n",
       "       [0.85      , 0.12856696],\n",
       "       [0.78378378, 0.07843241],\n",
       "       [0.95900439, 0.01250935],\n",
       "       [0.83333333, 0.07512428],\n",
       "       [0.875     , 0.13234835],\n",
       "       [0.81481481, 0.08642416],\n",
       "       [0.63157895, 0.17797336],\n",
       "       [0.76666667, 0.12534147],\n",
       "       [0.97777778, 0.01280101],\n",
       "       [0.92816092, 0.02280674],\n",
       "       [0.98564593, 0.01354323],\n",
       "       [0.90322581, 0.08623566],\n",
       "       [0.7       , 0.165     ],\n",
       "       [0.5       , 0.47631397],\n",
       "       [0.88990826, 0.04924222],\n",
       "       [0.5       , 0.47631397],\n",
       "       [0.83333333, 0.17054776],\n",
       "       [0.69565217, 0.15497423],\n",
       "       [0.93700787, 0.02510317],\n",
       "       [0.66666667, 0.24596748],\n",
       "       [0.86956522, 0.11342952],\n",
       "       [0.77777778, 0.21692293],\n",
       "       [0.93333333, 0.03529289],\n",
       "       [0.96901173, 0.0082711 ],\n",
       "       [0.95180723, 0.02734583],\n",
       "       [0.8655914 , 0.041156  ],\n",
       "       [0.85714286, 0.12309777],\n",
       "       [0.63636364, 0.22912878],\n",
       "       [0.8974359 , 0.07915044],\n",
       "       [0.95735608, 0.01537802],\n",
       "       [0.69230769, 0.20352971],\n",
       "       [0.928     , 0.02692076],\n",
       "       [0.93775934, 0.02562472],\n",
       "       [0.51923077, 0.11323862],\n",
       "       [0.94444444, 0.04423586],\n",
       "       [0.97762478, 0.01011561],\n",
       "       [0.57142857, 0.21082927],\n",
       "       [0.9488491 , 0.01835972],\n",
       "       [0.61538462, 0.21453916],\n",
       "       [0.89671362, 0.03432618],\n",
       "       [0.85185185, 0.1107733 ],\n",
       "       [0.95719844, 0.02079241],\n",
       "       [0.87570621, 0.04080166],\n",
       "       [0.91666667, 0.07497184],\n",
       "       [0.94666667, 0.04252801],\n",
       "       [0.77419355, 0.12195564],\n",
       "       [0.91758242, 0.03354215],\n",
       "       [0.86567164, 0.06823229],\n",
       "       [0.94716981, 0.02263071],\n",
       "       [0.875     , 0.10913724],\n",
       "       [0.90839695, 0.02934938],\n",
       "       [0.66666667, 0.07349684],\n",
       "       [0.5       , 0.47631397],\n",
       "       [0.83333333, 0.11044266],\n",
       "       [0.5       , 0.47631397],\n",
       "       [0.8783455 , 0.02657248],\n",
       "       [0.85416667, 0.04836149],\n",
       "       [0.95673077, 0.02322177],\n",
       "       [0.94610778, 0.02874502],\n",
       "       [0.84090909, 0.08996527],\n",
       "       [0.95578231, 0.01974924],\n",
       "       [0.5       , 0.47631397],\n",
       "       [0.89130435, 0.07491247],\n",
       "       [0.88235294, 0.08985901],\n",
       "       [0.96491228, 0.02831108],\n",
       "       [0.87692308, 0.06672384],\n",
       "       [0.87128713, 0.05471111],\n",
       "       [0.71428571, 0.09317425],\n",
       "       [0.83870968, 0.10728004],\n",
       "       [0.5       , 0.47631397],\n",
       "       [0.95652174, 0.02021751],\n",
       "       [0.91666667, 0.09120718],\n",
       "       [0.83870968, 0.10728004],\n",
       "       [0.89655172, 0.0654195 ],\n",
       "       [0.94610778, 0.02874502],\n",
       "       [0.5       , 0.47631397],\n",
       "       [0.80952381, 0.07027642],\n",
       "       [0.85185185, 0.1107733 ],\n",
       "       [0.93548387, 0.05107001],\n",
       "       [0.57142857, 0.28868986],\n",
       "       [0.93258427, 0.04361013],\n",
       "       [0.93442623, 0.03682722],\n",
       "       [0.5       , 0.47631397],\n",
       "       [0.89473684, 0.05168139],\n",
       "       [0.95833333, 0.01542334],\n",
       "       [0.79166667, 0.13401842],\n",
       "       [0.90784983, 0.02783334],\n",
       "       [0.5       , 0.47631397],\n",
       "       [0.97807018, 0.0113039 ],\n",
       "       [0.88888889, 0.06992059],\n",
       "       [0.77777778, 0.08574632],\n",
       "       [0.77777778, 0.12963624],\n",
       "       [0.94777563, 0.01612904],\n",
       "       [0.78431373, 0.09411058],\n",
       "       [0.94067797, 0.03573049],\n",
       "       [0.76      , 0.13820052],\n",
       "       [0.80357143, 0.08682826],\n",
       "       [0.82978723, 0.08950407],\n",
       "       [0.94565217, 0.02247506],\n",
       "       [0.68181818, 0.11456439],\n",
       "       [0.89473684, 0.08108444],\n",
       "       [0.60714286, 0.14964001],\n",
       "       [0.95744681, 0.04807139],\n",
       "       [0.6       , 0.14518064],\n",
       "       [0.875     , 0.10913724],\n",
       "       [0.92647059, 0.02606448],\n",
       "       [0.5       , 0.47631397],\n",
       "       [0.95238095, 0.02702939],\n",
       "       [0.81481481, 0.12112604],\n",
       "       [0.75      , 0.19815859],\n",
       "       [0.63636364, 0.16550319],\n",
       "       [0.81481481, 0.12112604],\n",
       "       [0.70967742, 0.13239752],\n",
       "       [0.65      , 0.17173744],\n",
       "       [0.8125    , 0.11210869],\n",
       "       [0.89860835, 0.02218477],\n",
       "       [0.73801917, 0.04094376],\n",
       "       [0.8       , 0.14402381]])"
      ]
     },
     "execution_count": 54,
     "metadata": {},
     "output_type": "execute_result"
    }
   ],
   "source": [
    "mu_sgm_numpy_jit(votes[9])"
   ]
  },
  {
   "cell_type": "code",
   "execution_count": 55,
   "metadata": {},
   "outputs": [
    {
     "name": "stdout",
     "output_type": "stream",
     "text": [
      "5.49 µs ± 57.5 ns per loop (mean ± std. dev. of 7 runs, 100,000 loops each)\n"
     ]
    }
   ],
   "source": [
    "%%timeit\n",
    "mu_sgm_numpy_jit(votes[9])"
   ]
  },
  {
   "cell_type": "markdown",
   "metadata": {},
   "source": [
    "Calentar funciones:"
   ]
  },
  {
   "cell_type": "code",
   "execution_count": 56,
   "metadata": {},
   "outputs": [],
   "source": [
    "_ = mu_sgm_python_jit(votes[9]), mu_sgm_numpy_jit(votes[9])"
   ]
  },
  {
   "cell_type": "code",
   "execution_count": 57,
   "metadata": {},
   "outputs": [
    {
     "name": "stdout",
     "output_type": "stream",
     "text": [
      "101 µs ± 567 ns per loop (mean ± std. dev. of 7 runs, 10,000 loops each)\n"
     ]
    }
   ],
   "source": [
    "%%timeit\n",
    "mu_sgm_python_jit(votes[9])"
   ]
  },
  {
   "cell_type": "code",
   "execution_count": 58,
   "metadata": {},
   "outputs": [
    {
     "name": "stdout",
     "output_type": "stream",
     "text": [
      "5.48 µs ± 43.7 ns per loop (mean ± std. dev. of 7 runs, 100,000 loops each)\n"
     ]
    }
   ],
   "source": [
    "%%timeit\n",
    "mu_sgm_numpy_jit(votes[9])"
   ]
  },
  {
   "cell_type": "code",
   "execution_count": 65,
   "metadata": {},
   "outputs": [],
   "source": [
    "if __name__ == '__main__':\n",
    "    import timeit\n",
    "    data = []\n",
    "    dic_fun = {\n",
    "        \"Python\": \"mu_sgm_python\",\n",
    "        \"Numpy\": \"mu_sgm_numpy\",\n",
    "        \"Python-JIT\": \"mu_sgm_python_jit\",\n",
    "        \"Numpy-JIT\": \"mu_sgm_numpy_jit\"\n",
    "    }\n",
    "    for k, v in dic_fun.items():\n",
    "        for i in range(10):\n",
    "            t = timeit.Timer(f\"{v}(votes[{i}])\", f\"from __main__ import {v}, votes\")\n",
    "            t = t.timeit(number=1000)\n",
    "            o = {\"Función\": k, \"N° de datos\": len(votes[i]), \"Tiempo (ms)\": t}\n",
    "            data.append(o)"
   ]
  },
  {
   "cell_type": "code",
   "execution_count": 66,
   "metadata": {},
   "outputs": [
    {
     "data": {
      "application/vnd.plotly.v1+json": {
       "config": {
        "plotlyServerURL": "https://plot.ly"
       },
       "data": [
        {
         "hovertemplate": "Función=Python<br>N° de datos=%{x}<br>Tiempo (ms)=%{y}<extra></extra>",
         "legendgroup": "Python",
         "marker": {
          "color": "#636efa",
          "symbol": "circle"
         },
         "mode": "markers",
         "name": "Python",
         "orientation": "v",
         "showlegend": true,
         "type": "scatter",
         "x": [
          50,
          100,
          150,
          200,
          250,
          300,
          350,
          400,
          450,
          500
         ],
         "xaxis": "x",
         "y": [
          0.0971759000003658,
          0.1926887000008719,
          0.285402299999987,
          0.3798093000004883,
          0.4748581000003469,
          0.5740103000007366,
          0.666286300000138,
          0.7569225000006554,
          0.8486006000002817,
          0.9413523000002897
         ],
         "yaxis": "y"
        },
        {
         "hovertemplate": "Función=Numpy<br>N° de datos=%{x}<br>Tiempo (ms)=%{y}<extra></extra>",
         "legendgroup": "Numpy",
         "marker": {
          "color": "#EF553B",
          "symbol": "circle"
         },
         "mode": "markers",
         "name": "Numpy",
         "orientation": "v",
         "showlegend": true,
         "type": "scatter",
         "x": [
          50,
          100,
          150,
          200,
          250,
          300,
          350,
          400,
          450,
          500
         ],
         "xaxis": "x",
         "y": [
          0.016291900001306203,
          0.01698499999838532,
          0.018357999999352614,
          0.018595699999423232,
          0.019018099999811966,
          0.01924739999958547,
          0.019686000001456705,
          0.019821500000034575,
          0.020218900001054863,
          0.02049570000053791
         ],
         "yaxis": "y"
        },
        {
         "hovertemplate": "Función=Python-JIT<br>N° de datos=%{x}<br>Tiempo (ms)=%{y}<extra></extra>",
         "legendgroup": "Python-JIT",
         "marker": {
          "color": "#00cc96",
          "symbol": "circle"
         },
         "mode": "markers",
         "name": "Python-JIT",
         "orientation": "v",
         "showlegend": true,
         "type": "scatter",
         "x": [
          50,
          100,
          150,
          200,
          250,
          300,
          350,
          400,
          450,
          500
         ],
         "xaxis": "x",
         "y": [
          0.009592100001100334,
          0.01899319999938598,
          0.02896870000040508,
          0.038892200000191224,
          0.048930400000244845,
          0.059007199999541626,
          0.06966230000034557,
          0.07944680000036897,
          0.09061450000081095,
          0.10103059999892139
         ],
         "yaxis": "y"
        },
        {
         "hovertemplate": "Función=Numpy-JIT<br>N° de datos=%{x}<br>Tiempo (ms)=%{y}<extra></extra>",
         "legendgroup": "Numpy-JIT",
         "marker": {
          "color": "#ab63fa",
          "symbol": "circle"
         },
         "mode": "markers",
         "name": "Numpy-JIT",
         "orientation": "v",
         "showlegend": true,
         "type": "scatter",
         "x": [
          50,
          100,
          150,
          200,
          250,
          300,
          350,
          400,
          450,
          500
         ],
         "xaxis": "x",
         "y": [
          0.0018429000010655727,
          0.002057499999864376,
          0.002906499999880907,
          0.0030157000001054257,
          0.003351499999553198,
          0.0042220000013912795,
          0.004094500000064727,
          0.004908000000796164,
          0.004924700000628945,
          0.005319400001098984
         ],
         "yaxis": "y"
        }
       ],
       "layout": {
        "autosize": true,
        "legend": {
         "title": {
          "text": "Función"
         },
         "tracegroupgap": 0
        },
        "margin": {
         "t": 60
        },
        "template": {
         "data": {
          "bar": [
           {
            "error_x": {
             "color": "#2a3f5f"
            },
            "error_y": {
             "color": "#2a3f5f"
            },
            "marker": {
             "line": {
              "color": "#E5ECF6",
              "width": 0.5
             },
             "pattern": {
              "fillmode": "overlay",
              "size": 10,
              "solidity": 0.2
             }
            },
            "type": "bar"
           }
          ],
          "barpolar": [
           {
            "marker": {
             "line": {
              "color": "#E5ECF6",
              "width": 0.5
             },
             "pattern": {
              "fillmode": "overlay",
              "size": 10,
              "solidity": 0.2
             }
            },
            "type": "barpolar"
           }
          ],
          "carpet": [
           {
            "aaxis": {
             "endlinecolor": "#2a3f5f",
             "gridcolor": "white",
             "linecolor": "white",
             "minorgridcolor": "white",
             "startlinecolor": "#2a3f5f"
            },
            "baxis": {
             "endlinecolor": "#2a3f5f",
             "gridcolor": "white",
             "linecolor": "white",
             "minorgridcolor": "white",
             "startlinecolor": "#2a3f5f"
            },
            "type": "carpet"
           }
          ],
          "choropleth": [
           {
            "colorbar": {
             "outlinewidth": 0,
             "ticks": ""
            },
            "type": "choropleth"
           }
          ],
          "contour": [
           {
            "colorbar": {
             "outlinewidth": 0,
             "ticks": ""
            },
            "colorscale": [
             [
              0,
              "#0d0887"
             ],
             [
              0.1111111111111111,
              "#46039f"
             ],
             [
              0.2222222222222222,
              "#7201a8"
             ],
             [
              0.3333333333333333,
              "#9c179e"
             ],
             [
              0.4444444444444444,
              "#bd3786"
             ],
             [
              0.5555555555555556,
              "#d8576b"
             ],
             [
              0.6666666666666666,
              "#ed7953"
             ],
             [
              0.7777777777777778,
              "#fb9f3a"
             ],
             [
              0.8888888888888888,
              "#fdca26"
             ],
             [
              1,
              "#f0f921"
             ]
            ],
            "type": "contour"
           }
          ],
          "contourcarpet": [
           {
            "colorbar": {
             "outlinewidth": 0,
             "ticks": ""
            },
            "type": "contourcarpet"
           }
          ],
          "heatmap": [
           {
            "colorbar": {
             "outlinewidth": 0,
             "ticks": ""
            },
            "colorscale": [
             [
              0,
              "#0d0887"
             ],
             [
              0.1111111111111111,
              "#46039f"
             ],
             [
              0.2222222222222222,
              "#7201a8"
             ],
             [
              0.3333333333333333,
              "#9c179e"
             ],
             [
              0.4444444444444444,
              "#bd3786"
             ],
             [
              0.5555555555555556,
              "#d8576b"
             ],
             [
              0.6666666666666666,
              "#ed7953"
             ],
             [
              0.7777777777777778,
              "#fb9f3a"
             ],
             [
              0.8888888888888888,
              "#fdca26"
             ],
             [
              1,
              "#f0f921"
             ]
            ],
            "type": "heatmap"
           }
          ],
          "heatmapgl": [
           {
            "colorbar": {
             "outlinewidth": 0,
             "ticks": ""
            },
            "colorscale": [
             [
              0,
              "#0d0887"
             ],
             [
              0.1111111111111111,
              "#46039f"
             ],
             [
              0.2222222222222222,
              "#7201a8"
             ],
             [
              0.3333333333333333,
              "#9c179e"
             ],
             [
              0.4444444444444444,
              "#bd3786"
             ],
             [
              0.5555555555555556,
              "#d8576b"
             ],
             [
              0.6666666666666666,
              "#ed7953"
             ],
             [
              0.7777777777777778,
              "#fb9f3a"
             ],
             [
              0.8888888888888888,
              "#fdca26"
             ],
             [
              1,
              "#f0f921"
             ]
            ],
            "type": "heatmapgl"
           }
          ],
          "histogram": [
           {
            "marker": {
             "pattern": {
              "fillmode": "overlay",
              "size": 10,
              "solidity": 0.2
             }
            },
            "type": "histogram"
           }
          ],
          "histogram2d": [
           {
            "colorbar": {
             "outlinewidth": 0,
             "ticks": ""
            },
            "colorscale": [
             [
              0,
              "#0d0887"
             ],
             [
              0.1111111111111111,
              "#46039f"
             ],
             [
              0.2222222222222222,
              "#7201a8"
             ],
             [
              0.3333333333333333,
              "#9c179e"
             ],
             [
              0.4444444444444444,
              "#bd3786"
             ],
             [
              0.5555555555555556,
              "#d8576b"
             ],
             [
              0.6666666666666666,
              "#ed7953"
             ],
             [
              0.7777777777777778,
              "#fb9f3a"
             ],
             [
              0.8888888888888888,
              "#fdca26"
             ],
             [
              1,
              "#f0f921"
             ]
            ],
            "type": "histogram2d"
           }
          ],
          "histogram2dcontour": [
           {
            "colorbar": {
             "outlinewidth": 0,
             "ticks": ""
            },
            "colorscale": [
             [
              0,
              "#0d0887"
             ],
             [
              0.1111111111111111,
              "#46039f"
             ],
             [
              0.2222222222222222,
              "#7201a8"
             ],
             [
              0.3333333333333333,
              "#9c179e"
             ],
             [
              0.4444444444444444,
              "#bd3786"
             ],
             [
              0.5555555555555556,
              "#d8576b"
             ],
             [
              0.6666666666666666,
              "#ed7953"
             ],
             [
              0.7777777777777778,
              "#fb9f3a"
             ],
             [
              0.8888888888888888,
              "#fdca26"
             ],
             [
              1,
              "#f0f921"
             ]
            ],
            "type": "histogram2dcontour"
           }
          ],
          "mesh3d": [
           {
            "colorbar": {
             "outlinewidth": 0,
             "ticks": ""
            },
            "type": "mesh3d"
           }
          ],
          "parcoords": [
           {
            "line": {
             "colorbar": {
              "outlinewidth": 0,
              "ticks": ""
             }
            },
            "type": "parcoords"
           }
          ],
          "pie": [
           {
            "automargin": true,
            "type": "pie"
           }
          ],
          "scatter": [
           {
            "fillpattern": {
             "fillmode": "overlay",
             "size": 10,
             "solidity": 0.2
            },
            "type": "scatter"
           }
          ],
          "scatter3d": [
           {
            "line": {
             "colorbar": {
              "outlinewidth": 0,
              "ticks": ""
             }
            },
            "marker": {
             "colorbar": {
              "outlinewidth": 0,
              "ticks": ""
             }
            },
            "type": "scatter3d"
           }
          ],
          "scattercarpet": [
           {
            "marker": {
             "colorbar": {
              "outlinewidth": 0,
              "ticks": ""
             }
            },
            "type": "scattercarpet"
           }
          ],
          "scattergeo": [
           {
            "marker": {
             "colorbar": {
              "outlinewidth": 0,
              "ticks": ""
             }
            },
            "type": "scattergeo"
           }
          ],
          "scattergl": [
           {
            "marker": {
             "colorbar": {
              "outlinewidth": 0,
              "ticks": ""
             }
            },
            "type": "scattergl"
           }
          ],
          "scattermapbox": [
           {
            "marker": {
             "colorbar": {
              "outlinewidth": 0,
              "ticks": ""
             }
            },
            "type": "scattermapbox"
           }
          ],
          "scatterpolar": [
           {
            "marker": {
             "colorbar": {
              "outlinewidth": 0,
              "ticks": ""
             }
            },
            "type": "scatterpolar"
           }
          ],
          "scatterpolargl": [
           {
            "marker": {
             "colorbar": {
              "outlinewidth": 0,
              "ticks": ""
             }
            },
            "type": "scatterpolargl"
           }
          ],
          "scatterternary": [
           {
            "marker": {
             "colorbar": {
              "outlinewidth": 0,
              "ticks": ""
             }
            },
            "type": "scatterternary"
           }
          ],
          "surface": [
           {
            "colorbar": {
             "outlinewidth": 0,
             "ticks": ""
            },
            "colorscale": [
             [
              0,
              "#0d0887"
             ],
             [
              0.1111111111111111,
              "#46039f"
             ],
             [
              0.2222222222222222,
              "#7201a8"
             ],
             [
              0.3333333333333333,
              "#9c179e"
             ],
             [
              0.4444444444444444,
              "#bd3786"
             ],
             [
              0.5555555555555556,
              "#d8576b"
             ],
             [
              0.6666666666666666,
              "#ed7953"
             ],
             [
              0.7777777777777778,
              "#fb9f3a"
             ],
             [
              0.8888888888888888,
              "#fdca26"
             ],
             [
              1,
              "#f0f921"
             ]
            ],
            "type": "surface"
           }
          ],
          "table": [
           {
            "cells": {
             "fill": {
              "color": "#EBF0F8"
             },
             "line": {
              "color": "white"
             }
            },
            "header": {
             "fill": {
              "color": "#C8D4E3"
             },
             "line": {
              "color": "white"
             }
            },
            "type": "table"
           }
          ]
         },
         "layout": {
          "annotationdefaults": {
           "arrowcolor": "#2a3f5f",
           "arrowhead": 0,
           "arrowwidth": 1
          },
          "autotypenumbers": "strict",
          "coloraxis": {
           "colorbar": {
            "outlinewidth": 0,
            "ticks": ""
           }
          },
          "colorscale": {
           "diverging": [
            [
             0,
             "#8e0152"
            ],
            [
             0.1,
             "#c51b7d"
            ],
            [
             0.2,
             "#de77ae"
            ],
            [
             0.3,
             "#f1b6da"
            ],
            [
             0.4,
             "#fde0ef"
            ],
            [
             0.5,
             "#f7f7f7"
            ],
            [
             0.6,
             "#e6f5d0"
            ],
            [
             0.7,
             "#b8e186"
            ],
            [
             0.8,
             "#7fbc41"
            ],
            [
             0.9,
             "#4d9221"
            ],
            [
             1,
             "#276419"
            ]
           ],
           "sequential": [
            [
             0,
             "#0d0887"
            ],
            [
             0.1111111111111111,
             "#46039f"
            ],
            [
             0.2222222222222222,
             "#7201a8"
            ],
            [
             0.3333333333333333,
             "#9c179e"
            ],
            [
             0.4444444444444444,
             "#bd3786"
            ],
            [
             0.5555555555555556,
             "#d8576b"
            ],
            [
             0.6666666666666666,
             "#ed7953"
            ],
            [
             0.7777777777777778,
             "#fb9f3a"
            ],
            [
             0.8888888888888888,
             "#fdca26"
            ],
            [
             1,
             "#f0f921"
            ]
           ],
           "sequentialminus": [
            [
             0,
             "#0d0887"
            ],
            [
             0.1111111111111111,
             "#46039f"
            ],
            [
             0.2222222222222222,
             "#7201a8"
            ],
            [
             0.3333333333333333,
             "#9c179e"
            ],
            [
             0.4444444444444444,
             "#bd3786"
            ],
            [
             0.5555555555555556,
             "#d8576b"
            ],
            [
             0.6666666666666666,
             "#ed7953"
            ],
            [
             0.7777777777777778,
             "#fb9f3a"
            ],
            [
             0.8888888888888888,
             "#fdca26"
            ],
            [
             1,
             "#f0f921"
            ]
           ]
          },
          "colorway": [
           "#636efa",
           "#EF553B",
           "#00cc96",
           "#ab63fa",
           "#FFA15A",
           "#19d3f3",
           "#FF6692",
           "#B6E880",
           "#FF97FF",
           "#FECB52"
          ],
          "font": {
           "color": "#2a3f5f"
          },
          "geo": {
           "bgcolor": "white",
           "lakecolor": "white",
           "landcolor": "#E5ECF6",
           "showlakes": true,
           "showland": true,
           "subunitcolor": "white"
          },
          "hoverlabel": {
           "align": "left"
          },
          "hovermode": "closest",
          "mapbox": {
           "style": "light"
          },
          "paper_bgcolor": "white",
          "plot_bgcolor": "#E5ECF6",
          "polar": {
           "angularaxis": {
            "gridcolor": "white",
            "linecolor": "white",
            "ticks": ""
           },
           "bgcolor": "#E5ECF6",
           "radialaxis": {
            "gridcolor": "white",
            "linecolor": "white",
            "ticks": ""
           }
          },
          "scene": {
           "xaxis": {
            "backgroundcolor": "#E5ECF6",
            "gridcolor": "white",
            "gridwidth": 2,
            "linecolor": "white",
            "showbackground": true,
            "ticks": "",
            "zerolinecolor": "white"
           },
           "yaxis": {
            "backgroundcolor": "#E5ECF6",
            "gridcolor": "white",
            "gridwidth": 2,
            "linecolor": "white",
            "showbackground": true,
            "ticks": "",
            "zerolinecolor": "white"
           },
           "zaxis": {
            "backgroundcolor": "#E5ECF6",
            "gridcolor": "white",
            "gridwidth": 2,
            "linecolor": "white",
            "showbackground": true,
            "ticks": "",
            "zerolinecolor": "white"
           }
          },
          "shapedefaults": {
           "line": {
            "color": "#2a3f5f"
           }
          },
          "ternary": {
           "aaxis": {
            "gridcolor": "white",
            "linecolor": "white",
            "ticks": ""
           },
           "baxis": {
            "gridcolor": "white",
            "linecolor": "white",
            "ticks": ""
           },
           "bgcolor": "#E5ECF6",
           "caxis": {
            "gridcolor": "white",
            "linecolor": "white",
            "ticks": ""
           }
          },
          "title": {
           "x": 0.05
          },
          "xaxis": {
           "automargin": true,
           "gridcolor": "white",
           "linecolor": "white",
           "ticks": "",
           "title": {
            "standoff": 15
           },
           "zerolinecolor": "white",
           "zerolinewidth": 2
          },
          "yaxis": {
           "automargin": true,
           "gridcolor": "white",
           "linecolor": "white",
           "ticks": "",
           "title": {
            "standoff": 15
           },
           "zerolinecolor": "white",
           "zerolinewidth": 2
          }
         }
        },
        "title": {
         "text": "Tiempo de ejecución de cada función c/r a la cantidades de datos"
        },
        "xaxis": {
         "anchor": "y",
         "autorange": true,
         "domain": [
          0,
          1
         ],
         "range": [
          23.04320601127113,
          526.9567939887289
         ],
         "title": {
          "text": "N° de datos"
         },
         "type": "linear"
        },
        "yaxis": {
         "anchor": "x",
         "autorange": true,
         "domain": [
          0,
          1
         ],
         "range": [
          -2.9441921596938543,
          0.1834461180364511
         ],
         "title": {
          "text": "Tiempo (ms)"
         },
         "type": "log"
        }
       }
      },
      "image/png": "[encoded data removed]",
      "text/html": [
       "<div>                            <div id=\"4b72f80f-688d-4fc4-bb79-c8306c0c6ed9\" class=\"plotly-graph-div\" style=\"height:525px; width:100%;\"></div>            <script type=\"text/javascript\">                require([\"plotly\"], function(Plotly) {                    window.PLOTLYENV=window.PLOTLYENV || {};                                    if (document.getElementById(\"4b72f80f-688d-4fc4-bb79-c8306c0c6ed9\")) {                    Plotly.newPlot(                        \"4b72f80f-688d-4fc4-bb79-c8306c0c6ed9\",                        [{\"hovertemplate\":\"Funci\\u00f3n=Python<br>N\\u00b0 de datos=%{x}<br>Tiempo (ms)=%{y}<extra></extra>\",\"legendgroup\":\"Python\",\"marker\":{\"color\":\"#636efa\",\"symbol\":\"circle\"},\"mode\":\"markers\",\"name\":\"Python\",\"orientation\":\"v\",\"showlegend\":true,\"x\":[50,100,150,200,250,300,350,400,450,500],\"xaxis\":\"x\",\"y\":[0.0971759000003658,0.1926887000008719,0.285402299999987,0.3798093000004883,0.4748581000003469,0.5740103000007366,0.666286300000138,0.7569225000006554,0.8486006000002817,0.9413523000002897],\"yaxis\":\"y\",\"type\":\"scatter\"},{\"hovertemplate\":\"Funci\\u00f3n=Numpy<br>N\\u00b0 de datos=%{x}<br>Tiempo (ms)=%{y}<extra></extra>\",\"legendgroup\":\"Numpy\",\"marker\":{\"color\":\"#EF553B\",\"symbol\":\"circle\"},\"mode\":\"markers\",\"name\":\"Numpy\",\"orientation\":\"v\",\"showlegend\":true,\"x\":[50,100,150,200,250,300,350,400,450,500],\"xaxis\":\"x\",\"y\":[0.016291900001306203,0.01698499999838532,0.018357999999352614,0.018595699999423232,0.019018099999811966,0.01924739999958547,0.019686000001456705,0.019821500000034575,0.020218900001054863,0.02049570000053791],\"yaxis\":\"y\",\"type\":\"scatter\"},{\"hovertemplate\":\"Funci\\u00f3n=Python-JIT<br>N\\u00b0 de datos=%{x}<br>Tiempo (ms)=%{y}<extra></extra>\",\"legendgroup\":\"Python-JIT\",\"marker\":{\"color\":\"#00cc96\",\"symbol\":\"circle\"},\"mode\":\"markers\",\"name\":\"Python-JIT\",\"orientation\":\"v\",\"showlegend\":true,\"x\":[50,100,150,200,250,300,350,400,450,500],\"xaxis\":\"x\",\"y\":[0.009592100001100334,0.01899319999938598,0.02896870000040508,0.038892200000191224,0.048930400000244845,0.059007199999541626,0.06966230000034557,0.07944680000036897,0.09061450000081095,0.10103059999892139],\"yaxis\":\"y\",\"type\":\"scatter\"},{\"hovertemplate\":\"Funci\\u00f3n=Numpy-JIT<br>N\\u00b0 de datos=%{x}<br>Tiempo (ms)=%{y}<extra></extra>\",\"legendgroup\":\"Numpy-JIT\",\"marker\":{\"color\":\"#ab63fa\",\"symbol\":\"circle\"},\"mode\":\"markers\",\"name\":\"Numpy-JIT\",\"orientation\":\"v\",\"showlegend\":true,\"x\":[50,100,150,200,250,300,350,400,450,500],\"xaxis\":\"x\",\"y\":[0.0018429000010655727,0.002057499999864376,0.002906499999880907,0.0030157000001054257,0.003351499999553198,0.0042220000013912795,0.004094500000064727,0.004908000000796164,0.004924700000628945,0.005319400001098984],\"yaxis\":\"y\",\"type\":\"scatter\"}],                        {\"template\":{\"data\":{\"histogram2dcontour\":[{\"type\":\"histogram2dcontour\",\"colorbar\":{\"outlinewidth\":0,\"ticks\":\"\"},\"colorscale\":[[0.0,\"#0d0887\"],[0.1111111111111111,\"#46039f\"],[0.2222222222222222,\"#7201a8\"],[0.3333333333333333,\"#9c179e\"],[0.4444444444444444,\"#bd3786\"],[0.5555555555555556,\"#d8576b\"],[0.6666666666666666,\"#ed7953\"],[0.7777777777777778,\"#fb9f3a\"],[0.8888888888888888,\"#fdca26\"],[1.0,\"#f0f921\"]]}],\"choropleth\":[{\"type\":\"choropleth\",\"colorbar\":{\"outlinewidth\":0,\"ticks\":\"\"}}],\"histogram2d\":[{\"type\":\"histogram2d\",\"colorbar\":{\"outlinewidth\":0,\"ticks\":\"\"},\"colorscale\":[[0.0,\"#0d0887\"],[0.1111111111111111,\"#46039f\"],[0.2222222222222222,\"#7201a8\"],[0.3333333333333333,\"#9c179e\"],[0.4444444444444444,\"#bd3786\"],[0.5555555555555556,\"#d8576b\"],[0.6666666666666666,\"#ed7953\"],[0.7777777777777778,\"#fb9f3a\"],[0.8888888888888888,\"#fdca26\"],[1.0,\"#f0f921\"]]}],\"heatmap\":[{\"type\":\"heatmap\",\"colorbar\":{\"outlinewidth\":0,\"ticks\":\"\"},\"colorscale\":[[0.0,\"#0d0887\"],[0.1111111111111111,\"#46039f\"],[0.2222222222222222,\"#7201a8\"],[0.3333333333333333,\"#9c179e\"],[0.4444444444444444,\"#bd3786\"],[0.5555555555555556,\"#d8576b\"],[0.6666666666666666,\"#ed7953\"],[0.7777777777777778,\"#fb9f3a\"],[0.8888888888888888,\"#fdca26\"],[1.0,\"#f0f921\"]]}],\"heatmapgl\":[{\"type\":\"heatmapgl\",\"colorbar\":{\"outlinewidth\":0,\"ticks\":\"\"},\"colorscale\":[[0.0,\"#0d0887\"],[0.1111111111111111,\"#46039f\"],[0.2222222222222222,\"#7201a8\"],[0.3333333333333333,\"#9c179e\"],[0.4444444444444444,\"#bd3786\"],[0.5555555555555556,\"#d8576b\"],[0.6666666666666666,\"#ed7953\"],[0.7777777777777778,\"#fb9f3a\"],[0.8888888888888888,\"#fdca26\"],[1.0,\"#f0f921\"]]}],\"contourcarpet\":[{\"type\":\"contourcarpet\",\"colorbar\":{\"outlinewidth\":0,\"ticks\":\"\"}}],\"contour\":[{\"type\":\"contour\",\"colorbar\":{\"outlinewidth\":0,\"ticks\":\"\"},\"colorscale\":[[0.0,\"#0d0887\"],[0.1111111111111111,\"#46039f\"],[0.2222222222222222,\"#7201a8\"],[0.3333333333333333,\"#9c179e\"],[0.4444444444444444,\"#bd3786\"],[0.5555555555555556,\"#d8576b\"],[0.6666666666666666,\"#ed7953\"],[0.7777777777777778,\"#fb9f3a\"],[0.8888888888888888,\"#fdca26\"],[1.0,\"#f0f921\"]]}],\"surface\":[{\"type\":\"surface\",\"colorbar\":{\"outlinewidth\":0,\"ticks\":\"\"},\"colorscale\":[[0.0,\"#0d0887\"],[0.1111111111111111,\"#46039f\"],[0.2222222222222222,\"#7201a8\"],[0.3333333333333333,\"#9c179e\"],[0.4444444444444444,\"#bd3786\"],[0.5555555555555556,\"#d8576b\"],[0.6666666666666666,\"#ed7953\"],[0.7777777777777778,\"#fb9f3a\"],[0.8888888888888888,\"#fdca26\"],[1.0,\"#f0f921\"]]}],\"mesh3d\":[{\"type\":\"mesh3d\",\"colorbar\":{\"outlinewidth\":0,\"ticks\":\"\"}}],\"scatter\":[{\"fillpattern\":{\"fillmode\":\"overlay\",\"size\":10,\"solidity\":0.2},\"type\":\"scatter\"}],\"parcoords\":[{\"type\":\"parcoords\",\"line\":{\"colorbar\":{\"outlinewidth\":0,\"ticks\":\"\"}}}],\"scatterpolargl\":[{\"type\":\"scatterpolargl\",\"marker\":{\"colorbar\":{\"outlinewidth\":0,\"ticks\":\"\"}}}],\"bar\":[{\"error_x\":{\"color\":\"#2a3f5f\"},\"error_y\":{\"color\":\"#2a3f5f\"},\"marker\":{\"line\":{\"color\":\"#E5ECF6\",\"width\":0.5},\"pattern\":{\"fillmode\":\"overlay\",\"size\":10,\"solidity\":0.2}},\"type\":\"bar\"}],\"scattergeo\":[{\"type\":\"scattergeo\",\"marker\":{\"colorbar\":{\"outlinewidth\":0,\"ticks\":\"\"}}}],\"scatterpolar\":[{\"type\":\"scatterpolar\",\"marker\":{\"colorbar\":{\"outlinewidth\":0,\"ticks\":\"\"}}}],\"histogram\":[{\"marker\":{\"pattern\":{\"fillmode\":\"overlay\",\"size\":10,\"solidity\":0.2}},\"type\":\"histogram\"}],\"scattergl\":[{\"type\":\"scattergl\",\"marker\":{\"colorbar\":{\"outlinewidth\":0,\"ticks\":\"\"}}}],\"scatter3d\":[{\"type\":\"scatter3d\",\"line\":{\"colorbar\":{\"outlinewidth\":0,\"ticks\":\"\"}},\"marker\":{\"colorbar\":{\"outlinewidth\":0,\"ticks\":\"\"}}}],\"scattermapbox\":[{\"type\":\"scattermapbox\",\"marker\":{\"colorbar\":{\"outlinewidth\":0,\"ticks\":\"\"}}}],\"scatterternary\":[{\"type\":\"scatterternary\",\"marker\":{\"colorbar\":{\"outlinewidth\":0,\"ticks\":\"\"}}}],\"scattercarpet\":[{\"type\":\"scattercarpet\",\"marker\":{\"colorbar\":{\"outlinewidth\":0,\"ticks\":\"\"}}}],\"carpet\":[{\"aaxis\":{\"endlinecolor\":\"#2a3f5f\",\"gridcolor\":\"white\",\"linecolor\":\"white\",\"minorgridcolor\":\"white\",\"startlinecolor\":\"#2a3f5f\"},\"baxis\":{\"endlinecolor\":\"#2a3f5f\",\"gridcolor\":\"white\",\"linecolor\":\"white\",\"minorgridcolor\":\"white\",\"startlinecolor\":\"#2a3f5f\"},\"type\":\"carpet\"}],\"table\":[{\"cells\":{\"fill\":{\"color\":\"#EBF0F8\"},\"line\":{\"color\":\"white\"}},\"header\":{\"fill\":{\"color\":\"#C8D4E3\"},\"line\":{\"color\":\"white\"}},\"type\":\"table\"}],\"barpolar\":[{\"marker\":{\"line\":{\"color\":\"#E5ECF6\",\"width\":0.5},\"pattern\":{\"fillmode\":\"overlay\",\"size\":10,\"solidity\":0.2}},\"type\":\"barpolar\"}],\"pie\":[{\"automargin\":true,\"type\":\"pie\"}]},\"layout\":{\"autotypenumbers\":\"strict\",\"colorway\":[\"#636efa\",\"#EF553B\",\"#00cc96\",\"#ab63fa\",\"#FFA15A\",\"#19d3f3\",\"#FF6692\",\"#B6E880\",\"#FF97FF\",\"#FECB52\"],\"font\":{\"color\":\"#2a3f5f\"},\"hovermode\":\"closest\",\"hoverlabel\":{\"align\":\"left\"},\"paper_bgcolor\":\"white\",\"plot_bgcolor\":\"#E5ECF6\",\"polar\":{\"bgcolor\":\"#E5ECF6\",\"angularaxis\":{\"gridcolor\":\"white\",\"linecolor\":\"white\",\"ticks\":\"\"},\"radialaxis\":{\"gridcolor\":\"white\",\"linecolor\":\"white\",\"ticks\":\"\"}},\"ternary\":{\"bgcolor\":\"#E5ECF6\",\"aaxis\":{\"gridcolor\":\"white\",\"linecolor\":\"white\",\"ticks\":\"\"},\"baxis\":{\"gridcolor\":\"white\",\"linecolor\":\"white\",\"ticks\":\"\"},\"caxis\":{\"gridcolor\":\"white\",\"linecolor\":\"white\",\"ticks\":\"\"}},\"coloraxis\":{\"colorbar\":{\"outlinewidth\":0,\"ticks\":\"\"}},\"colorscale\":{\"sequential\":[[0.0,\"#0d0887\"],[0.1111111111111111,\"#46039f\"],[0.2222222222222222,\"#7201a8\"],[0.3333333333333333,\"#9c179e\"],[0.4444444444444444,\"#bd3786\"],[0.5555555555555556,\"#d8576b\"],[0.6666666666666666,\"#ed7953\"],[0.7777777777777778,\"#fb9f3a\"],[0.8888888888888888,\"#fdca26\"],[1.0,\"#f0f921\"]],\"sequentialminus\":[[0.0,\"#0d0887\"],[0.1111111111111111,\"#46039f\"],[0.2222222222222222,\"#7201a8\"],[0.3333333333333333,\"#9c179e\"],[0.4444444444444444,\"#bd3786\"],[0.5555555555555556,\"#d8576b\"],[0.6666666666666666,\"#ed7953\"],[0.7777777777777778,\"#fb9f3a\"],[0.8888888888888888,\"#fdca26\"],[1.0,\"#f0f921\"]],\"diverging\":[[0,\"#8e0152\"],[0.1,\"#c51b7d\"],[0.2,\"#de77ae\"],[0.3,\"#f1b6da\"],[0.4,\"#fde0ef\"],[0.5,\"#f7f7f7\"],[0.6,\"#e6f5d0\"],[0.7,\"#b8e186\"],[0.8,\"#7fbc41\"],[0.9,\"#4d9221\"],[1,\"#276419\"]]},\"xaxis\":{\"gridcolor\":\"white\",\"linecolor\":\"white\",\"ticks\":\"\",\"title\":{\"standoff\":15},\"zerolinecolor\":\"white\",\"automargin\":true,\"zerolinewidth\":2},\"yaxis\":{\"gridcolor\":\"white\",\"linecolor\":\"white\",\"ticks\":\"\",\"title\":{\"standoff\":15},\"zerolinecolor\":\"white\",\"automargin\":true,\"zerolinewidth\":2},\"scene\":{\"xaxis\":{\"backgroundcolor\":\"#E5ECF6\",\"gridcolor\":\"white\",\"linecolor\":\"white\",\"showbackground\":true,\"ticks\":\"\",\"zerolinecolor\":\"white\",\"gridwidth\":2},\"yaxis\":{\"backgroundcolor\":\"#E5ECF6\",\"gridcolor\":\"white\",\"linecolor\":\"white\",\"showbackground\":true,\"ticks\":\"\",\"zerolinecolor\":\"white\",\"gridwidth\":2},\"zaxis\":{\"backgroundcolor\":\"#E5ECF6\",\"gridcolor\":\"white\",\"linecolor\":\"white\",\"showbackground\":true,\"ticks\":\"\",\"zerolinecolor\":\"white\",\"gridwidth\":2}},\"shapedefaults\":{\"line\":{\"color\":\"#2a3f5f\"}},\"annotationdefaults\":{\"arrowcolor\":\"#2a3f5f\",\"arrowhead\":0,\"arrowwidth\":1},\"geo\":{\"bgcolor\":\"white\",\"landcolor\":\"#E5ECF6\",\"subunitcolor\":\"white\",\"showland\":true,\"showlakes\":true,\"lakecolor\":\"white\"},\"title\":{\"x\":0.05},\"mapbox\":{\"style\":\"light\"}}},\"xaxis\":{\"anchor\":\"y\",\"domain\":[0.0,1.0],\"title\":{\"text\":\"N\\u00b0 de datos\"}},\"yaxis\":{\"anchor\":\"x\",\"domain\":[0.0,1.0],\"title\":{\"text\":\"Tiempo (ms)\"},\"type\":\"log\"},\"legend\":{\"title\":{\"text\":\"Funci\\u00f3n\"},\"tracegroupgap\":0},\"margin\":{\"t\":60},\"title\":{\"text\":\"Tiempo de ejecuci\\u00f3n de cada funci\\u00f3n c/r a la cantidades de datos\"}},                        {\"responsive\": true}                    ).then(function(){\n",
       "                            \n",
       "var gd = document.getElementById('4b72f80f-688d-4fc4-bb79-c8306c0c6ed9');\n",
       "var x = new MutationObserver(function (mutations, observer) {{\n",
       "        var display = window.getComputedStyle(gd).display;\n",
       "        if (!display || display === 'none') {{\n",
       "            console.log([gd, 'removed!']);\n",
       "            Plotly.purge(gd);\n",
       "            observer.disconnect();\n",
       "        }}\n",
       "}});\n",
       "\n",
       "// Listen for the removal of the full notebook cells\n",
       "var notebookContainer = gd.closest('#notebook-container');\n",
       "if (notebookContainer) {{\n",
       "    x.observe(notebookContainer, {childList: true});\n",
       "}}\n",
       "\n",
       "// Listen for the clearing of the current output cell\n",
       "var outputEl = gd.closest('.output');\n",
       "if (outputEl) {{\n",
       "    x.observe(outputEl, {childList: true});\n",
       "}}\n",
       "\n",
       "                        })                };                });            </script>        </div>"
      ]
     },
     "metadata": {},
     "output_type": "display_data"
    }
   ],
   "source": [
    "df_tabla = pd.DataFrame(data)\n",
    "fig = px.scatter(df_tabla, x=\"N° de datos\", y=\"Tiempo (ms)\", color=\"Función\",log_y=True)\n",
    "fig.update_layout(\n",
    "    title=\"Tiempo de ejecución de cada función c/r a la cantidades de datos\"\n",
    ")\n",
    "fig.show()#renderer=\"notebook\")"
   ]
  },
  {
   "cell_type": "markdown",
   "metadata": {},
   "source": [
    "**Comentarios:**"
   ]
  },
  {
   "cell_type": "markdown",
   "metadata": {},
   "source": [
    "En primer lugar, les ejecuciones de Python, compiladas o no, se tardan en general más que las de Numpy. Esto se debe al ventajoso manejo de la memoria de Numpy, haciéndolo más eficiente que Python. Luego, la diferencia entre las compiladas y las no compiladas es notoria, dado que las funciones que fueron compiladas se demoran aproximadamente 1 orden de magnitud menos, ya sea Python o Numpy. Esto último se debe a que la compilación previa optimiza el código, al comunicarse de forma más eficiente con el procesador.\n",
    "\n",
    "En Python, la diferencia de tiempos entre ejecución compilada y no compilada se mantiene para todas las cantidades de datos, aunque se incremente el tiempo de ejecución. Por otro lado, se puede observar que las diferencias de los tiempos compilado y no compilado se acrecenta hacia el lado derecho del gráfico ( PONER POR QUE?)"
   ]
  },
  {
   "cell_type": "markdown",
   "metadata": {
    "cell_id": "00030-01881ca2-384a-44f1-bcaf-ad095552aac2",
    "deepnote_cell_height": 70,
    "deepnote_cell_type": "markdown",
    "id": "DljdJw8m0gYC"
   },
   "source": [
    "## 1.5 Plot de Resultados de Análisis de Votos [1 Punto]"
   ]
  },
  {
   "cell_type": "markdown",
   "metadata": {
    "cell_id": "00031-1bfb8e5a-3a40-45f2-8f0f-f94c9264f8e2",
    "deepnote_cell_height": 111.1875,
    "deepnote_cell_type": "markdown",
    "id": "cQAxOM5D08Hl"
   },
   "source": [
    "Llego la hora de visualizar los resultados obtenidos, para esto solo ejecute las siguientes celdas y observe lo que sucede :3. ¿Qué logra observar de los resultados?, ¿La solución resulta trivial?\n",
    "\n",
    "En esta sección esperamos que solo comenten con lo que logran visualizar de los dataframes."
   ]
  },
  {
   "cell_type": "code",
   "execution_count": 221,
   "metadata": {},
   "outputs": [],
   "source": [
    "def intervals_numpy(x, y):\n",
    "    o = mu_sgm_numpy_jit(np.column_stack((x,y)))\n",
    "    return o[:,0], o[:,1] "
   ]
  },
  {
   "cell_type": "code",
   "execution_count": 148,
   "metadata": {
    "cell_id": "00025-f63243e1-47cb-4c2c-be14-9c38dcbd24bb",
    "deepnote_cell_height": 81,
    "deepnote_cell_type": "code",
    "deepnote_to_be_reexecuted": false,
    "executionInfo": {
     "elapsed": 317,
     "status": "ok",
     "timestamp": 1627484660287,
     "user": {
      "displayName": "IGNACIO ALEJANDRO MEZA",
      "photoUrl": "",
      "userId": "17011121633069169364"
     },
     "user_tz": 240
    },
    "execution_millis": 15,
    "execution_start": 1637947536256,
    "id": "ahzpJ-Sk0DOD",
    "source_hash": "b9b21217"
   },
   "outputs": [],
   "source": [
    "def mu_sgm_python(botes):\n",
    "    out = []\n",
    "    for (u, d) in botes:\n",
    "        a, b = 1+u, 1+d\n",
    "        sgm = 1.65 * ( ( a*b / ( (a+b)**2 * (a+b+1))) ** 0.5 )\n",
    "        mu = a / (a+b)\n",
    "        out.append([mu, sgm])\n",
    "    return out"
   ]
  },
  {
   "cell_type": "code",
   "execution_count": 149,
   "metadata": {},
   "outputs": [],
   "source": [
    "def mu_sgm_numpy(botes):\n",
    "    a_b = botes+np.ones(1)\n",
    "    a, b = a_b[:,0], a_b[:,1]\n",
    "    sgm = 1.65 * np.sqrt( a*b / ((a+b)**2*(a+b+1)))\n",
    "    mu = a/(a+b)\n",
    "    out = np.column_stack((mu,sgm))\n",
    "    return out"
   ]
  },
  {
   "cell_type": "code",
   "execution_count": 150,
   "metadata": {},
   "outputs": [
    {
     "name": "stdout",
     "output_type": "stream",
     "text": [
      "1.03 ms ± 3.61 µs per loop (mean ± std. dev. of 7 runs, 1000 loops each)\n"
     ]
    }
   ],
   "source": [
    "%%timeit\n",
    "mu_sgm_python(votes[9])"
   ]
  },
  {
   "cell_type": "code",
   "execution_count": 151,
   "metadata": {},
   "outputs": [
    {
     "name": "stdout",
     "output_type": "stream",
     "text": [
      "18.2 µs ± 420 ns per loop (mean ± std. dev. of 7 runs, 10000 loops each)\n"
     ]
    }
   ],
   "source": [
    "%%timeit\n",
    "mu_sgm_numpy(votes[9])"
   ]
  },
  {
   "cell_type": "code",
   "execution_count": 228,
   "metadata": {
    "cell_id": "00032-107c679d-f291-40ec-8854-fd17864ba743",
    "colab": {
     "base_uri": "https://localhost:8080/",
     "height": 737
    },
    "deepnote_cell_height": 318,
    "deepnote_cell_type": "code",
    "executionInfo": {
     "elapsed": 390,
     "status": "ok",
     "timestamp": 1624645025761,
     "user": {
      "displayName": "IGNACIO ALEJANDRO MEZA",
      "photoUrl": "",
      "userId": "17011121633069169364"
     },
     "user_tz": 240
    },
    "id": "N5E2mNYXaafI",
    "outputId": "36f8a568-fb8d-4a2b-ff8e-651f206fbe53",
    "scrolled": true
   },
   "outputs": [
    {
     "name": "stdout",
     "output_type": "stream",
     "text": [
      "lower bounds aproximados:\n",
      "\n",
      "Top 20 post ordenador por el limite inferior:\n",
      "\n"
     ]
    },
    {
     "data": {
      "text/html": [
       "<div>\n",
       "<style scoped>\n",
       "    .dataframe tbody tr th:only-of-type {\n",
       "        vertical-align: middle;\n",
       "    }\n",
       "\n",
       "    .dataframe tbody tr th {\n",
       "        vertical-align: top;\n",
       "    }\n",
       "\n",
       "    .dataframe thead th {\n",
       "        text-align: right;\n",
       "    }\n",
       "</style>\n",
       "<table border=\"1\" class=\"dataframe\">\n",
       "  <thead>\n",
       "    <tr style=\"text-align: right;\">\n",
       "      <th></th>\n",
       "      <th>Votos (+)</th>\n",
       "      <th>Votos (-)</th>\n",
       "      <th>Post</th>\n",
       "      <th>url</th>\n",
       "    </tr>\n",
       "  </thead>\n",
       "  <tbody>\n",
       "    <tr>\n",
       "      <th>0</th>\n",
       "      <td>233</td>\n",
       "      <td>0</td>\n",
       "      <td>Gobierno queda fuera de querella por asesinato...</td>\n",
       "      <td>https://www.eldinamo.cl/pais/Gobierno-queda-fu...</td>\n",
       "    </tr>\n",
       "    <tr>\n",
       "      <th>1</th>\n",
       "      <td>226</td>\n",
       "      <td>0</td>\n",
       "      <td>Empresa le paga por error sueldo de $ 165 mill...</td>\n",
       "      <td>https://www.t13.cl/noticia/diario-financiero/n...</td>\n",
       "    </tr>\n",
       "    <tr>\n",
       "      <th>2</th>\n",
       "      <td>213</td>\n",
       "      <td>0</td>\n",
       "      <td>Macabro hallazgo en San José de Maipo: perro l...</td>\n",
       "      <td>https://www.biobiochile.cl/noticias/nacional/r...</td>\n",
       "    </tr>\n",
       "    <tr>\n",
       "      <th>3</th>\n",
       "      <td>1334</td>\n",
       "      <td>13</td>\n",
       "      <td>En el Sodimac de Coyhaique, el pasillo de comi...</td>\n",
       "      <td>https://i.redd.it/iynxtajwdn491.png</td>\n",
       "    </tr>\n",
       "    <tr>\n",
       "      <th>4</th>\n",
       "      <td>1032</td>\n",
       "      <td>10</td>\n",
       "      <td>fonasa</td>\n",
       "      <td>https://i.redd.it/az7ge5c891691.png</td>\n",
       "    </tr>\n",
       "    <tr>\n",
       "      <th>5</th>\n",
       "      <td>700</td>\n",
       "      <td>7</td>\n",
       "      <td>ahora no po'</td>\n",
       "      <td>https://i.redd.it/83odxdkaq9791.png</td>\n",
       "    </tr>\n",
       "    <tr>\n",
       "      <th>6</th>\n",
       "      <td>694</td>\n",
       "      <td>7</td>\n",
       "      <td>hoy en fotos que envejecieron mal....</td>\n",
       "      <td>https://i.redd.it/t09uq869jg591.jpg</td>\n",
       "    </tr>\n",
       "    <tr>\n",
       "      <th>7</th>\n",
       "      <td>764</td>\n",
       "      <td>8</td>\n",
       "      <td>Bolos</td>\n",
       "      <td>https://i.redd.it/8tx19xd0k2691.jpg</td>\n",
       "    </tr>\n",
       "    <tr>\n",
       "      <th>8</th>\n",
       "      <td>522</td>\n",
       "      <td>5</td>\n",
       "      <td>la situación de los pudúes en Chiloé es crític...</td>\n",
       "      <td>https://www.reddit.com/gallery/vhblmb</td>\n",
       "    </tr>\n",
       "    <tr>\n",
       "      <th>9</th>\n",
       "      <td>652</td>\n",
       "      <td>7</td>\n",
       "      <td>Cachen las imágenes lindas que compartieron en...</td>\n",
       "      <td>https://www.facebook.com/CONAF/posts/396515762...</td>\n",
       "    </tr>\n",
       "    <tr>\n",
       "      <th>10</th>\n",
       "      <td>515</td>\n",
       "      <td>5</td>\n",
       "      <td>free market</td>\n",
       "      <td>https://i.redd.it/rt9a9kp7wt591.png</td>\n",
       "    </tr>\n",
       "    <tr>\n",
       "      <th>11</th>\n",
       "      <td>421</td>\n",
       "      <td>4</td>\n",
       "      <td>Otros tiempos</td>\n",
       "      <td>https://i.redd.it/3dgqvverce791.jpg</td>\n",
       "    </tr>\n",
       "    <tr>\n",
       "      <th>12</th>\n",
       "      <td>461</td>\n",
       "      <td>5</td>\n",
       "      <td>Carrera de carretas en la bajada de playa ancha</td>\n",
       "      <td>https://v.redd.it/f93hhrx52t491</td>\n",
       "    </tr>\n",
       "    <tr>\n",
       "      <th>13</th>\n",
       "      <td>459</td>\n",
       "      <td>5</td>\n",
       "      <td>Con razón hay tanto taco</td>\n",
       "      <td>https://i.redd.it/nf9c4wh63g791.jpg</td>\n",
       "    </tr>\n",
       "    <tr>\n",
       "      <th>14</th>\n",
       "      <td>120</td>\n",
       "      <td>0</td>\n",
       "      <td>Boxeadora chilena Daniela “Leona” Asenjo se co...</td>\n",
       "      <td>https://www.lacuarta.com/deportes/noticia/boxe...</td>\n",
       "    </tr>\n",
       "    <tr>\n",
       "      <th>15</th>\n",
       "      <td>373</td>\n",
       "      <td>4</td>\n",
       "      <td>Molestos por el costo de la vida</td>\n",
       "      <td>https://v.redd.it/nvbx2dudpm491</td>\n",
       "    </tr>\n",
       "    <tr>\n",
       "      <th>16</th>\n",
       "      <td>370</td>\n",
       "      <td>4</td>\n",
       "      <td>Alumna fue apuñalada tras oponerse a continuid...</td>\n",
       "      <td>https://m.cooperativa.cl/noticias/pais/region-...</td>\n",
       "    </tr>\n",
       "    <tr>\n",
       "      <th>17</th>\n",
       "      <td>356</td>\n",
       "      <td>4</td>\n",
       "      <td>Gente cuerda y razonable</td>\n",
       "      <td>https://i.redd.it/n6p3ehn6pv491.jpg</td>\n",
       "    </tr>\n",
       "    <tr>\n",
       "      <th>18</th>\n",
       "      <td>209</td>\n",
       "      <td>2</td>\n",
       "      <td>Alcalde de Arica advierte alarmante situación ...</td>\n",
       "      <td>https://www.theclinic.cl/2022/06/17/alcalde-ar...</td>\n",
       "    </tr>\n",
       "    <tr>\n",
       "      <th>19</th>\n",
       "      <td>204</td>\n",
       "      <td>2</td>\n",
       "      <td>Una curiosa nota periodística publicada en Sep...</td>\n",
       "      <td>https://i.redd.it/bdf8e3tty9791.png</td>\n",
       "    </tr>\n",
       "  </tbody>\n",
       "</table>\n",
       "</div>"
      ],
      "text/plain": [
       "    Votos (+)  Votos (-)                                               Post  \\\n",
       "0         233          0  Gobierno queda fuera de querella por asesinato...   \n",
       "1         226          0  Empresa le paga por error sueldo de $ 165 mill...   \n",
       "2         213          0  Macabro hallazgo en San José de Maipo: perro l...   \n",
       "3        1334         13  En el Sodimac de Coyhaique, el pasillo de comi...   \n",
       "4        1032         10                                             fonasa   \n",
       "5         700          7                                       ahora no po'   \n",
       "6         694          7              hoy en fotos que envejecieron mal....   \n",
       "7         764          8                                              Bolos   \n",
       "8         522          5  la situación de los pudúes en Chiloé es crític...   \n",
       "9         652          7  Cachen las imágenes lindas que compartieron en...   \n",
       "10        515          5                                        free market   \n",
       "11        421          4                                      Otros tiempos   \n",
       "12        461          5    Carrera de carretas en la bajada de playa ancha   \n",
       "13        459          5                           Con razón hay tanto taco   \n",
       "14        120          0  Boxeadora chilena Daniela “Leona” Asenjo se co...   \n",
       "15        373          4                   Molestos por el costo de la vida   \n",
       "16        370          4  Alumna fue apuñalada tras oponerse a continuid...   \n",
       "17        356          4                           Gente cuerda y razonable   \n",
       "18        209          2  Alcalde de Arica advierte alarmante situación ...   \n",
       "19        204          2  Una curiosa nota periodística publicada en Sep...   \n",
       "\n",
       "                                                  url  \n",
       "0   https://www.eldinamo.cl/pais/Gobierno-queda-fu...  \n",
       "1   https://www.t13.cl/noticia/diario-financiero/n...  \n",
       "2   https://www.biobiochile.cl/noticias/nacional/r...  \n",
       "3                 https://i.redd.it/iynxtajwdn491.png  \n",
       "4                 https://i.redd.it/az7ge5c891691.png  \n",
       "5                 https://i.redd.it/83odxdkaq9791.png  \n",
       "6                 https://i.redd.it/t09uq869jg591.jpg  \n",
       "7                 https://i.redd.it/8tx19xd0k2691.jpg  \n",
       "8               https://www.reddit.com/gallery/vhblmb  \n",
       "9   https://www.facebook.com/CONAF/posts/396515762...  \n",
       "10                https://i.redd.it/rt9a9kp7wt591.png  \n",
       "11                https://i.redd.it/3dgqvverce791.jpg  \n",
       "12                    https://v.redd.it/f93hhrx52t491  \n",
       "13                https://i.redd.it/nf9c4wh63g791.jpg  \n",
       "14  https://www.lacuarta.com/deportes/noticia/boxe...  \n",
       "15                    https://v.redd.it/nvbx2dudpm491  \n",
       "16  https://m.cooperativa.cl/noticias/pais/region-...  \n",
       "17                https://i.redd.it/n6p3ehn6pv491.jpg  \n",
       "18  https://www.theclinic.cl/2022/06/17/alcalde-ar...  \n",
       "19                https://i.redd.it/bdf8e3tty9791.png  "
      ]
     },
     "execution_count": 228,
     "metadata": {},
     "output_type": "execute_result"
    }
   ],
   "source": [
    "votos = votes[len(votes) - 1]\n",
    "posteo = post[len(post) - 1]\n",
    "print(\"lower bounds aproximados:\")\n",
    "posterior_mean, std_err = intervals_numpy(votos[:, 0], votos[:, 1])\n",
    "lb = posterior_mean - std_err\n",
    "print(\"\\nTop 20 post ordenador por el limite inferior:\\n\")\n",
    "order = np.argsort(-lb)\n",
    "vote_post = {\n",
    "    'Votos (+)': votos[order[:20], 0],\n",
    "    'Votos (-)': votos[order[:20], 1],\n",
    "    'Post': np.array(posteo)[order[:20]],\n",
    "    'url': np.array(url[len(url) - 1])[order[:20]]\n",
    "}\n",
    "df = pd.DataFrame(data=vote_post)\n",
    "ordered_post = df.Post\n",
    "df"
   ]
  },
  {
   "cell_type": "code",
   "execution_count": 230,
   "metadata": {
    "cell_id": "2a0efceb16224059bb6aca51848d260f",
    "deepnote_cell_height": 210,
    "deepnote_cell_type": "code",
    "tags": []
   },
   "outputs": [
    {
     "data": {
      "application/vnd.plotly.v1+json": {
       "config": {
        "plotlyServerURL": "https://plot.ly"
       },
       "data": [
        {
         "error_x": {
          "array": [
           0.013607709336504634,
           0.013291308207613794,
           0.010107439987003149,
           0.009734135360876668,
           0.009657700634888914,
           0.013414183499355652,
           0.008607838858635291,
           0.008571331318339868,
           0.008579765388343947,
           0.0076906504539886325,
           0.007012212589487566,
           0.0075895636406905715,
           0.0063539545586564095,
           0.006595985396009798,
           0.006540523902666453,
           0.005211608739156709,
           0.004551030656371655,
           0.00763880626119605,
           0.007205170871859832,
           0.006991462123076262
          ]
         },
         "hovertemplate": "mean=%{x}<br>post=%{y}<extra></extra>",
         "legendgroup": "",
         "marker": {
          "color": "#636efa",
          "symbol": "circle"
         },
         "mode": "markers",
         "name": "",
         "orientation": "h",
         "showlegend": false,
         "type": "scatter",
         "x": [
          0.9855769230769231,
          0.9859154929577465,
          0.9861878453038674,
          0.9867021276595744,
          0.9868073878627969,
          0.9918032786885246,
          0.9871244635193133,
          0.9871794871794872,
          0.9882903981264637,
          0.9885057471264368,
          0.9878971255673222,
          0.9886578449905482,
          0.9883720930232558,
          0.9886201991465149,
          0.9887165021156559,
          0.9894636015325671,
          0.9896219421793921,
          0.9953488372093023,
          0.9956140350877193,
          0.9957446808510638
         ],
         "xaxis": "x",
         "y": [
          "Una curiosa nota periodística publicada en Septiembre de 1940 que me encontré.",
          "Alcalde de Arica advierte alarmante situación por crímenes de \"Tren de Aragua\" en la zona: \"Es como estar en un capítulo de Breaking Bad\"",
          "Gente cuerda y razonable",
          "Alumna fue apuñalada tras oponerse a continuidad de toma en liceo de Concepción",
          "Molestos por el costo de la vida",
          "Boxeadora chilena Daniela “Leona” Asenjo se coronó campeona mundial del Súper Mosca IBO",
          "Con razón hay tanto taco",
          "Carrera de carretas en la bajada de playa ancha",
          "Otros tiempos",
          "free market",
          "Cachen las imágenes lindas que compartieron en CONAF",
          "la situación de los pudúes en Chiloé es crítica. @chiloesilvestre",
          "Bolos",
          "hoy en fotos que envejecieron mal....",
          "ahora no po'",
          "fonasa",
          "En el Sodimac de Coyhaique, el pasillo de comida para gatos es atendido por un gato.",
          "Macabro hallazgo en San José de Maipo: perro llegó a su casa con una cabeza humana | Nacional | BioBioChile",
          "Empresa le paga por error sueldo de $ 165 millones a trabajador, éste desaparece... y luego renuncia",
          "Gobierno queda fuera de querella por asesinato de carabinero: abogado se quedó dormido"
         ],
         "yaxis": "y"
        }
       ],
       "layout": {
        "autosize": true,
        "legend": {
         "tracegroupgap": 0
        },
        "margin": {
         "t": 60
        },
        "template": {
         "data": {
          "bar": [
           {
            "error_x": {
             "color": "#2a3f5f"
            },
            "error_y": {
             "color": "#2a3f5f"
            },
            "marker": {
             "line": {
              "color": "#E5ECF6",
              "width": 0.5
             },
             "pattern": {
              "fillmode": "overlay",
              "size": 10,
              "solidity": 0.2
             }
            },
            "type": "bar"
           }
          ],
          "barpolar": [
           {
            "marker": {
             "line": {
              "color": "#E5ECF6",
              "width": 0.5
             },
             "pattern": {
              "fillmode": "overlay",
              "size": 10,
              "solidity": 0.2
             }
            },
            "type": "barpolar"
           }
          ],
          "carpet": [
           {
            "aaxis": {
             "endlinecolor": "#2a3f5f",
             "gridcolor": "white",
             "linecolor": "white",
             "minorgridcolor": "white",
             "startlinecolor": "#2a3f5f"
            },
            "baxis": {
             "endlinecolor": "#2a3f5f",
             "gridcolor": "white",
             "linecolor": "white",
             "minorgridcolor": "white",
             "startlinecolor": "#2a3f5f"
            },
            "type": "carpet"
           }
          ],
          "choropleth": [
           {
            "colorbar": {
             "outlinewidth": 0,
             "ticks": ""
            },
            "type": "choropleth"
           }
          ],
          "contour": [
           {
            "colorbar": {
             "outlinewidth": 0,
             "ticks": ""
            },
            "colorscale": [
             [
              0,
              "#0d0887"
             ],
             [
              0.1111111111111111,
              "#46039f"
             ],
             [
              0.2222222222222222,
              "#7201a8"
             ],
             [
              0.3333333333333333,
              "#9c179e"
             ],
             [
              0.4444444444444444,
              "#bd3786"
             ],
             [
              0.5555555555555556,
              "#d8576b"
             ],
             [
              0.6666666666666666,
              "#ed7953"
             ],
             [
              0.7777777777777778,
              "#fb9f3a"
             ],
             [
              0.8888888888888888,
              "#fdca26"
             ],
             [
              1,
              "#f0f921"
             ]
            ],
            "type": "contour"
           }
          ],
          "contourcarpet": [
           {
            "colorbar": {
             "outlinewidth": 0,
             "ticks": ""
            },
            "type": "contourcarpet"
           }
          ],
          "heatmap": [
           {
            "colorbar": {
             "outlinewidth": 0,
             "ticks": ""
            },
            "colorscale": [
             [
              0,
              "#0d0887"
             ],
             [
              0.1111111111111111,
              "#46039f"
             ],
             [
              0.2222222222222222,
              "#7201a8"
             ],
             [
              0.3333333333333333,
              "#9c179e"
             ],
             [
              0.4444444444444444,
              "#bd3786"
             ],
             [
              0.5555555555555556,
              "#d8576b"
             ],
             [
              0.6666666666666666,
              "#ed7953"
             ],
             [
              0.7777777777777778,
              "#fb9f3a"
             ],
             [
              0.8888888888888888,
              "#fdca26"
             ],
             [
              1,
              "#f0f921"
             ]
            ],
            "type": "heatmap"
           }
          ],
          "heatmapgl": [
           {
            "colorbar": {
             "outlinewidth": 0,
             "ticks": ""
            },
            "colorscale": [
             [
              0,
              "#0d0887"
             ],
             [
              0.1111111111111111,
              "#46039f"
             ],
             [
              0.2222222222222222,
              "#7201a8"
             ],
             [
              0.3333333333333333,
              "#9c179e"
             ],
             [
              0.4444444444444444,
              "#bd3786"
             ],
             [
              0.5555555555555556,
              "#d8576b"
             ],
             [
              0.6666666666666666,
              "#ed7953"
             ],
             [
              0.7777777777777778,
              "#fb9f3a"
             ],
             [
              0.8888888888888888,
              "#fdca26"
             ],
             [
              1,
              "#f0f921"
             ]
            ],
            "type": "heatmapgl"
           }
          ],
          "histogram": [
           {
            "marker": {
             "pattern": {
              "fillmode": "overlay",
              "size": 10,
              "solidity": 0.2
             }
            },
            "type": "histogram"
           }
          ],
          "histogram2d": [
           {
            "colorbar": {
             "outlinewidth": 0,
             "ticks": ""
            },
            "colorscale": [
             [
              0,
              "#0d0887"
             ],
             [
              0.1111111111111111,
              "#46039f"
             ],
             [
              0.2222222222222222,
              "#7201a8"
             ],
             [
              0.3333333333333333,
              "#9c179e"
             ],
             [
              0.4444444444444444,
              "#bd3786"
             ],
             [
              0.5555555555555556,
              "#d8576b"
             ],
             [
              0.6666666666666666,
              "#ed7953"
             ],
             [
              0.7777777777777778,
              "#fb9f3a"
             ],
             [
              0.8888888888888888,
              "#fdca26"
             ],
             [
              1,
              "#f0f921"
             ]
            ],
            "type": "histogram2d"
           }
          ],
          "histogram2dcontour": [
           {
            "colorbar": {
             "outlinewidth": 0,
             "ticks": ""
            },
            "colorscale": [
             [
              0,
              "#0d0887"
             ],
             [
              0.1111111111111111,
              "#46039f"
             ],
             [
              0.2222222222222222,
              "#7201a8"
             ],
             [
              0.3333333333333333,
              "#9c179e"
             ],
             [
              0.4444444444444444,
              "#bd3786"
             ],
             [
              0.5555555555555556,
              "#d8576b"
             ],
             [
              0.6666666666666666,
              "#ed7953"
             ],
             [
              0.7777777777777778,
              "#fb9f3a"
             ],
             [
              0.8888888888888888,
              "#fdca26"
             ],
             [
              1,
              "#f0f921"
             ]
            ],
            "type": "histogram2dcontour"
           }
          ],
          "mesh3d": [
           {
            "colorbar": {
             "outlinewidth": 0,
             "ticks": ""
            },
            "type": "mesh3d"
           }
          ],
          "parcoords": [
           {
            "line": {
             "colorbar": {
              "outlinewidth": 0,
              "ticks": ""
             }
            },
            "type": "parcoords"
           }
          ],
          "pie": [
           {
            "automargin": true,
            "type": "pie"
           }
          ],
          "scatter": [
           {
            "fillpattern": {
             "fillmode": "overlay",
             "size": 10,
             "solidity": 0.2
            },
            "type": "scatter"
           }
          ],
          "scatter3d": [
           {
            "line": {
             "colorbar": {
              "outlinewidth": 0,
              "ticks": ""
             }
            },
            "marker": {
             "colorbar": {
              "outlinewidth": 0,
              "ticks": ""
             }
            },
            "type": "scatter3d"
           }
          ],
          "scattercarpet": [
           {
            "marker": {
             "colorbar": {
              "outlinewidth": 0,
              "ticks": ""
             }
            },
            "type": "scattercarpet"
           }
          ],
          "scattergeo": [
           {
            "marker": {
             "colorbar": {
              "outlinewidth": 0,
              "ticks": ""
             }
            },
            "type": "scattergeo"
           }
          ],
          "scattergl": [
           {
            "marker": {
             "colorbar": {
              "outlinewidth": 0,
              "ticks": ""
             }
            },
            "type": "scattergl"
           }
          ],
          "scattermapbox": [
           {
            "marker": {
             "colorbar": {
              "outlinewidth": 0,
              "ticks": ""
             }
            },
            "type": "scattermapbox"
           }
          ],
          "scatterpolar": [
           {
            "marker": {
             "colorbar": {
              "outlinewidth": 0,
              "ticks": ""
             }
            },
            "type": "scatterpolar"
           }
          ],
          "scatterpolargl": [
           {
            "marker": {
             "colorbar": {
              "outlinewidth": 0,
              "ticks": ""
             }
            },
            "type": "scatterpolargl"
           }
          ],
          "scatterternary": [
           {
            "marker": {
             "colorbar": {
              "outlinewidth": 0,
              "ticks": ""
             }
            },
            "type": "scatterternary"
           }
          ],
          "surface": [
           {
            "colorbar": {
             "outlinewidth": 0,
             "ticks": ""
            },
            "colorscale": [
             [
              0,
              "#0d0887"
             ],
             [
              0.1111111111111111,
              "#46039f"
             ],
             [
              0.2222222222222222,
              "#7201a8"
             ],
             [
              0.3333333333333333,
              "#9c179e"
             ],
             [
              0.4444444444444444,
              "#bd3786"
             ],
             [
              0.5555555555555556,
              "#d8576b"
             ],
             [
              0.6666666666666666,
              "#ed7953"
             ],
             [
              0.7777777777777778,
              "#fb9f3a"
             ],
             [
              0.8888888888888888,
              "#fdca26"
             ],
             [
              1,
              "#f0f921"
             ]
            ],
            "type": "surface"
           }
          ],
          "table": [
           {
            "cells": {
             "fill": {
              "color": "#EBF0F8"
             },
             "line": {
              "color": "white"
             }
            },
            "header": {
             "fill": {
              "color": "#C8D4E3"
             },
             "line": {
              "color": "white"
             }
            },
            "type": "table"
           }
          ]
         },
         "layout": {
          "annotationdefaults": {
           "arrowcolor": "#2a3f5f",
           "arrowhead": 0,
           "arrowwidth": 1
          },
          "autotypenumbers": "strict",
          "coloraxis": {
           "colorbar": {
            "outlinewidth": 0,
            "ticks": ""
           }
          },
          "colorscale": {
           "diverging": [
            [
             0,
             "#8e0152"
            ],
            [
             0.1,
             "#c51b7d"
            ],
            [
             0.2,
             "#de77ae"
            ],
            [
             0.3,
             "#f1b6da"
            ],
            [
             0.4,
             "#fde0ef"
            ],
            [
             0.5,
             "#f7f7f7"
            ],
            [
             0.6,
             "#e6f5d0"
            ],
            [
             0.7,
             "#b8e186"
            ],
            [
             0.8,
             "#7fbc41"
            ],
            [
             0.9,
             "#4d9221"
            ],
            [
             1,
             "#276419"
            ]
           ],
           "sequential": [
            [
             0,
             "#0d0887"
            ],
            [
             0.1111111111111111,
             "#46039f"
            ],
            [
             0.2222222222222222,
             "#7201a8"
            ],
            [
             0.3333333333333333,
             "#9c179e"
            ],
            [
             0.4444444444444444,
             "#bd3786"
            ],
            [
             0.5555555555555556,
             "#d8576b"
            ],
            [
             0.6666666666666666,
             "#ed7953"
            ],
            [
             0.7777777777777778,
             "#fb9f3a"
            ],
            [
             0.8888888888888888,
             "#fdca26"
            ],
            [
             1,
             "#f0f921"
            ]
           ],
           "sequentialminus": [
            [
             0,
             "#0d0887"
            ],
            [
             0.1111111111111111,
             "#46039f"
            ],
            [
             0.2222222222222222,
             "#7201a8"
            ],
            [
             0.3333333333333333,
             "#9c179e"
            ],
            [
             0.4444444444444444,
             "#bd3786"
            ],
            [
             0.5555555555555556,
             "#d8576b"
            ],
            [
             0.6666666666666666,
             "#ed7953"
            ],
            [
             0.7777777777777778,
             "#fb9f3a"
            ],
            [
             0.8888888888888888,
             "#fdca26"
            ],
            [
             1,
             "#f0f921"
            ]
           ]
          },
          "colorway": [
           "#636efa",
           "#EF553B",
           "#00cc96",
           "#ab63fa",
           "#FFA15A",
           "#19d3f3",
           "#FF6692",
           "#B6E880",
           "#FF97FF",
           "#FECB52"
          ],
          "font": {
           "color": "#2a3f5f"
          },
          "geo": {
           "bgcolor": "white",
           "lakecolor": "white",
           "landcolor": "#E5ECF6",
           "showlakes": true,
           "showland": true,
           "subunitcolor": "white"
          },
          "hoverlabel": {
           "align": "left"
          },
          "hovermode": "closest",
          "mapbox": {
           "style": "light"
          },
          "paper_bgcolor": "white",
          "plot_bgcolor": "#E5ECF6",
          "polar": {
           "angularaxis": {
            "gridcolor": "white",
            "linecolor": "white",
            "ticks": ""
           },
           "bgcolor": "#E5ECF6",
           "radialaxis": {
            "gridcolor": "white",
            "linecolor": "white",
            "ticks": ""
           }
          },
          "scene": {
           "xaxis": {
            "backgroundcolor": "#E5ECF6",
            "gridcolor": "white",
            "gridwidth": 2,
            "linecolor": "white",
            "showbackground": true,
            "ticks": "",
            "zerolinecolor": "white"
           },
           "yaxis": {
            "backgroundcolor": "#E5ECF6",
            "gridcolor": "white",
            "gridwidth": 2,
            "linecolor": "white",
            "showbackground": true,
            "ticks": "",
            "zerolinecolor": "white"
           },
           "zaxis": {
            "backgroundcolor": "#E5ECF6",
            "gridcolor": "white",
            "gridwidth": 2,
            "linecolor": "white",
            "showbackground": true,
            "ticks": "",
            "zerolinecolor": "white"
           }
          },
          "shapedefaults": {
           "line": {
            "color": "#2a3f5f"
           }
          },
          "ternary": {
           "aaxis": {
            "gridcolor": "white",
            "linecolor": "white",
            "ticks": ""
           },
           "baxis": {
            "gridcolor": "white",
            "linecolor": "white",
            "ticks": ""
           },
           "bgcolor": "#E5ECF6",
           "caxis": {
            "gridcolor": "white",
            "linecolor": "white",
            "ticks": ""
           }
          },
          "title": {
           "x": 0.05
          },
          "xaxis": {
           "automargin": true,
           "gridcolor": "white",
           "linecolor": "white",
           "ticks": "",
           "title": {
            "standoff": 15
           },
           "zerolinecolor": "white",
           "zerolinewidth": 2
          },
          "yaxis": {
           "automargin": true,
           "gridcolor": "white",
           "linecolor": "white",
           "ticks": "",
           "title": {
            "standoff": 15
           },
           "zerolinecolor": "white",
           "zerolinewidth": 2
          }
         }
        },
        "xaxis": {
         "anchor": "y",
         "autorange": true,
         "domain": [
          0,
          1
         ],
         "range": [
          0.9701220888266706,
          1.0070645871016282
         ],
         "title": {
          "text": "mean"
         },
         "type": "linear"
        },
        "yaxis": {
         "anchor": "x",
         "autorange": true,
         "domain": [
          0,
          1
         ],
         "range": [
          -1.4711286089238844,
          20.471128608923884
         ],
         "title": {
          "text": "post"
         },
         "type": "category"
        }
       }
      },
      "image/png": "[encoded data removed]",
      "text/html": [
       "<div>                            <div id=\"58f54b36-b936-4c42-a6ee-ab9d7919e0b2\" class=\"plotly-graph-div\" style=\"height:525px; width:100%;\"></div>            <script type=\"text/javascript\">                require([\"plotly\"], function(Plotly) {                    window.PLOTLYENV=window.PLOTLYENV || {};                                    if (document.getElementById(\"58f54b36-b936-4c42-a6ee-ab9d7919e0b2\")) {                    Plotly.newPlot(                        \"58f54b36-b936-4c42-a6ee-ab9d7919e0b2\",                        [{\"error_x\":{\"array\":[0.013607709336504634,0.013291308207613794,0.010107439987003149,0.009734135360876668,0.009657700634888914,0.013414183499355652,0.008607838858635291,0.008571331318339868,0.008579765388343947,0.0076906504539886325,0.007012212589487566,0.0075895636406905715,0.0063539545586564095,0.006595985396009798,0.006540523902666453,0.005211608739156709,0.004551030656371655,0.00763880626119605,0.007205170871859832,0.006991462123076262]},\"hovertemplate\":\"mean=%{x}<br>post=%{y}<extra></extra>\",\"legendgroup\":\"\",\"marker\":{\"color\":\"#636efa\",\"symbol\":\"circle\"},\"mode\":\"markers\",\"name\":\"\",\"orientation\":\"h\",\"showlegend\":false,\"x\":[0.9855769230769231,0.9859154929577465,0.9861878453038674,0.9867021276595744,0.9868073878627969,0.9918032786885246,0.9871244635193133,0.9871794871794872,0.9882903981264637,0.9885057471264368,0.9878971255673222,0.9886578449905482,0.9883720930232558,0.9886201991465149,0.9887165021156559,0.9894636015325671,0.9896219421793921,0.9953488372093023,0.9956140350877193,0.9957446808510638],\"xaxis\":\"x\",\"y\":[\"Una curiosa nota period\\u00edstica publicada en Septiembre de 1940 que me encontr\\u00e9.\",\"Alcalde de Arica advierte alarmante situaci\\u00f3n por cr\\u00edmenes de \\\"Tren de Aragua\\\" en la zona: \\\"Es como estar en un cap\\u00edtulo de Breaking Bad\\\"\",\"Gente cuerda y razonable\",\"Alumna fue apu\\u00f1alada tras oponerse a continuidad de toma en liceo de Concepci\\u00f3n\",\"Molestos por el costo de la vida\",\"Boxeadora chilena Daniela \\u201cLeona\\u201d Asenjo se coron\\u00f3 campeona mundial del S\\u00faper Mosca IBO\",\"Con raz\\u00f3n hay tanto taco\",\"Carrera de carretas en la bajada de playa ancha\",\"Otros tiempos\",\"free market\",\"Cachen las im\\u00e1genes lindas que compartieron en CONAF\",\"la situaci\\u00f3n de los pud\\u00faes en Chilo\\u00e9 es cr\\u00edtica. @chiloesilvestre\",\"Bolos\",\"hoy en fotos que envejecieron mal....\",\"ahora no po'\",\"fonasa\",\"En el Sodimac de Coyhaique, el pasillo de comida para gatos es atendido por un gato.\",\"Macabro hallazgo en San Jos\\u00e9 de Maipo: perro lleg\\u00f3 a su casa con una cabeza humana | Nacional | BioBioChile\",\"Empresa le paga por error sueldo de $ 165 millones a trabajador, \\u00e9ste desaparece... y luego renuncia\",\"Gobierno queda fuera de querella por asesinato de carabinero: abogado se qued\\u00f3 dormido\"],\"yaxis\":\"y\",\"type\":\"scatter\"}],                        {\"template\":{\"data\":{\"histogram2dcontour\":[{\"type\":\"histogram2dcontour\",\"colorbar\":{\"outlinewidth\":0,\"ticks\":\"\"},\"colorscale\":[[0.0,\"#0d0887\"],[0.1111111111111111,\"#46039f\"],[0.2222222222222222,\"#7201a8\"],[0.3333333333333333,\"#9c179e\"],[0.4444444444444444,\"#bd3786\"],[0.5555555555555556,\"#d8576b\"],[0.6666666666666666,\"#ed7953\"],[0.7777777777777778,\"#fb9f3a\"],[0.8888888888888888,\"#fdca26\"],[1.0,\"#f0f921\"]]}],\"choropleth\":[{\"type\":\"choropleth\",\"colorbar\":{\"outlinewidth\":0,\"ticks\":\"\"}}],\"histogram2d\":[{\"type\":\"histogram2d\",\"colorbar\":{\"outlinewidth\":0,\"ticks\":\"\"},\"colorscale\":[[0.0,\"#0d0887\"],[0.1111111111111111,\"#46039f\"],[0.2222222222222222,\"#7201a8\"],[0.3333333333333333,\"#9c179e\"],[0.4444444444444444,\"#bd3786\"],[0.5555555555555556,\"#d8576b\"],[0.6666666666666666,\"#ed7953\"],[0.7777777777777778,\"#fb9f3a\"],[0.8888888888888888,\"#fdca26\"],[1.0,\"#f0f921\"]]}],\"heatmap\":[{\"type\":\"heatmap\",\"colorbar\":{\"outlinewidth\":0,\"ticks\":\"\"},\"colorscale\":[[0.0,\"#0d0887\"],[0.1111111111111111,\"#46039f\"],[0.2222222222222222,\"#7201a8\"],[0.3333333333333333,\"#9c179e\"],[0.4444444444444444,\"#bd3786\"],[0.5555555555555556,\"#d8576b\"],[0.6666666666666666,\"#ed7953\"],[0.7777777777777778,\"#fb9f3a\"],[0.8888888888888888,\"#fdca26\"],[1.0,\"#f0f921\"]]}],\"heatmapgl\":[{\"type\":\"heatmapgl\",\"colorbar\":{\"outlinewidth\":0,\"ticks\":\"\"},\"colorscale\":[[0.0,\"#0d0887\"],[0.1111111111111111,\"#46039f\"],[0.2222222222222222,\"#7201a8\"],[0.3333333333333333,\"#9c179e\"],[0.4444444444444444,\"#bd3786\"],[0.5555555555555556,\"#d8576b\"],[0.6666666666666666,\"#ed7953\"],[0.7777777777777778,\"#fb9f3a\"],[0.8888888888888888,\"#fdca26\"],[1.0,\"#f0f921\"]]}],\"contourcarpet\":[{\"type\":\"contourcarpet\",\"colorbar\":{\"outlinewidth\":0,\"ticks\":\"\"}}],\"contour\":[{\"type\":\"contour\",\"colorbar\":{\"outlinewidth\":0,\"ticks\":\"\"},\"colorscale\":[[0.0,\"#0d0887\"],[0.1111111111111111,\"#46039f\"],[0.2222222222222222,\"#7201a8\"],[0.3333333333333333,\"#9c179e\"],[0.4444444444444444,\"#bd3786\"],[0.5555555555555556,\"#d8576b\"],[0.6666666666666666,\"#ed7953\"],[0.7777777777777778,\"#fb9f3a\"],[0.8888888888888888,\"#fdca26\"],[1.0,\"#f0f921\"]]}],\"surface\":[{\"type\":\"surface\",\"colorbar\":{\"outlinewidth\":0,\"ticks\":\"\"},\"colorscale\":[[0.0,\"#0d0887\"],[0.1111111111111111,\"#46039f\"],[0.2222222222222222,\"#7201a8\"],[0.3333333333333333,\"#9c179e\"],[0.4444444444444444,\"#bd3786\"],[0.5555555555555556,\"#d8576b\"],[0.6666666666666666,\"#ed7953\"],[0.7777777777777778,\"#fb9f3a\"],[0.8888888888888888,\"#fdca26\"],[1.0,\"#f0f921\"]]}],\"mesh3d\":[{\"type\":\"mesh3d\",\"colorbar\":{\"outlinewidth\":0,\"ticks\":\"\"}}],\"scatter\":[{\"fillpattern\":{\"fillmode\":\"overlay\",\"size\":10,\"solidity\":0.2},\"type\":\"scatter\"}],\"parcoords\":[{\"type\":\"parcoords\",\"line\":{\"colorbar\":{\"outlinewidth\":0,\"ticks\":\"\"}}}],\"scatterpolargl\":[{\"type\":\"scatterpolargl\",\"marker\":{\"colorbar\":{\"outlinewidth\":0,\"ticks\":\"\"}}}],\"bar\":[{\"error_x\":{\"color\":\"#2a3f5f\"},\"error_y\":{\"color\":\"#2a3f5f\"},\"marker\":{\"line\":{\"color\":\"#E5ECF6\",\"width\":0.5},\"pattern\":{\"fillmode\":\"overlay\",\"size\":10,\"solidity\":0.2}},\"type\":\"bar\"}],\"scattergeo\":[{\"type\":\"scattergeo\",\"marker\":{\"colorbar\":{\"outlinewidth\":0,\"ticks\":\"\"}}}],\"scatterpolar\":[{\"type\":\"scatterpolar\",\"marker\":{\"colorbar\":{\"outlinewidth\":0,\"ticks\":\"\"}}}],\"histogram\":[{\"marker\":{\"pattern\":{\"fillmode\":\"overlay\",\"size\":10,\"solidity\":0.2}},\"type\":\"histogram\"}],\"scattergl\":[{\"type\":\"scattergl\",\"marker\":{\"colorbar\":{\"outlinewidth\":0,\"ticks\":\"\"}}}],\"scatter3d\":[{\"type\":\"scatter3d\",\"line\":{\"colorbar\":{\"outlinewidth\":0,\"ticks\":\"\"}},\"marker\":{\"colorbar\":{\"outlinewidth\":0,\"ticks\":\"\"}}}],\"scattermapbox\":[{\"type\":\"scattermapbox\",\"marker\":{\"colorbar\":{\"outlinewidth\":0,\"ticks\":\"\"}}}],\"scatterternary\":[{\"type\":\"scatterternary\",\"marker\":{\"colorbar\":{\"outlinewidth\":0,\"ticks\":\"\"}}}],\"scattercarpet\":[{\"type\":\"scattercarpet\",\"marker\":{\"colorbar\":{\"outlinewidth\":0,\"ticks\":\"\"}}}],\"carpet\":[{\"aaxis\":{\"endlinecolor\":\"#2a3f5f\",\"gridcolor\":\"white\",\"linecolor\":\"white\",\"minorgridcolor\":\"white\",\"startlinecolor\":\"#2a3f5f\"},\"baxis\":{\"endlinecolor\":\"#2a3f5f\",\"gridcolor\":\"white\",\"linecolor\":\"white\",\"minorgridcolor\":\"white\",\"startlinecolor\":\"#2a3f5f\"},\"type\":\"carpet\"}],\"table\":[{\"cells\":{\"fill\":{\"color\":\"#EBF0F8\"},\"line\":{\"color\":\"white\"}},\"header\":{\"fill\":{\"color\":\"#C8D4E3\"},\"line\":{\"color\":\"white\"}},\"type\":\"table\"}],\"barpolar\":[{\"marker\":{\"line\":{\"color\":\"#E5ECF6\",\"width\":0.5},\"pattern\":{\"fillmode\":\"overlay\",\"size\":10,\"solidity\":0.2}},\"type\":\"barpolar\"}],\"pie\":[{\"automargin\":true,\"type\":\"pie\"}]},\"layout\":{\"autotypenumbers\":\"strict\",\"colorway\":[\"#636efa\",\"#EF553B\",\"#00cc96\",\"#ab63fa\",\"#FFA15A\",\"#19d3f3\",\"#FF6692\",\"#B6E880\",\"#FF97FF\",\"#FECB52\"],\"font\":{\"color\":\"#2a3f5f\"},\"hovermode\":\"closest\",\"hoverlabel\":{\"align\":\"left\"},\"paper_bgcolor\":\"white\",\"plot_bgcolor\":\"#E5ECF6\",\"polar\":{\"bgcolor\":\"#E5ECF6\",\"angularaxis\":{\"gridcolor\":\"white\",\"linecolor\":\"white\",\"ticks\":\"\"},\"radialaxis\":{\"gridcolor\":\"white\",\"linecolor\":\"white\",\"ticks\":\"\"}},\"ternary\":{\"bgcolor\":\"#E5ECF6\",\"aaxis\":{\"gridcolor\":\"white\",\"linecolor\":\"white\",\"ticks\":\"\"},\"baxis\":{\"gridcolor\":\"white\",\"linecolor\":\"white\",\"ticks\":\"\"},\"caxis\":{\"gridcolor\":\"white\",\"linecolor\":\"white\",\"ticks\":\"\"}},\"coloraxis\":{\"colorbar\":{\"outlinewidth\":0,\"ticks\":\"\"}},\"colorscale\":{\"sequential\":[[0.0,\"#0d0887\"],[0.1111111111111111,\"#46039f\"],[0.2222222222222222,\"#7201a8\"],[0.3333333333333333,\"#9c179e\"],[0.4444444444444444,\"#bd3786\"],[0.5555555555555556,\"#d8576b\"],[0.6666666666666666,\"#ed7953\"],[0.7777777777777778,\"#fb9f3a\"],[0.8888888888888888,\"#fdca26\"],[1.0,\"#f0f921\"]],\"sequentialminus\":[[0.0,\"#0d0887\"],[0.1111111111111111,\"#46039f\"],[0.2222222222222222,\"#7201a8\"],[0.3333333333333333,\"#9c179e\"],[0.4444444444444444,\"#bd3786\"],[0.5555555555555556,\"#d8576b\"],[0.6666666666666666,\"#ed7953\"],[0.7777777777777778,\"#fb9f3a\"],[0.8888888888888888,\"#fdca26\"],[1.0,\"#f0f921\"]],\"diverging\":[[0,\"#8e0152\"],[0.1,\"#c51b7d\"],[0.2,\"#de77ae\"],[0.3,\"#f1b6da\"],[0.4,\"#fde0ef\"],[0.5,\"#f7f7f7\"],[0.6,\"#e6f5d0\"],[0.7,\"#b8e186\"],[0.8,\"#7fbc41\"],[0.9,\"#4d9221\"],[1,\"#276419\"]]},\"xaxis\":{\"gridcolor\":\"white\",\"linecolor\":\"white\",\"ticks\":\"\",\"title\":{\"standoff\":15},\"zerolinecolor\":\"white\",\"automargin\":true,\"zerolinewidth\":2},\"yaxis\":{\"gridcolor\":\"white\",\"linecolor\":\"white\",\"ticks\":\"\",\"title\":{\"standoff\":15},\"zerolinecolor\":\"white\",\"automargin\":true,\"zerolinewidth\":2},\"scene\":{\"xaxis\":{\"backgroundcolor\":\"#E5ECF6\",\"gridcolor\":\"white\",\"linecolor\":\"white\",\"showbackground\":true,\"ticks\":\"\",\"zerolinecolor\":\"white\",\"gridwidth\":2},\"yaxis\":{\"backgroundcolor\":\"#E5ECF6\",\"gridcolor\":\"white\",\"linecolor\":\"white\",\"showbackground\":true,\"ticks\":\"\",\"zerolinecolor\":\"white\",\"gridwidth\":2},\"zaxis\":{\"backgroundcolor\":\"#E5ECF6\",\"gridcolor\":\"white\",\"linecolor\":\"white\",\"showbackground\":true,\"ticks\":\"\",\"zerolinecolor\":\"white\",\"gridwidth\":2}},\"shapedefaults\":{\"line\":{\"color\":\"#2a3f5f\"}},\"annotationdefaults\":{\"arrowcolor\":\"#2a3f5f\",\"arrowhead\":0,\"arrowwidth\":1},\"geo\":{\"bgcolor\":\"white\",\"landcolor\":\"#E5ECF6\",\"subunitcolor\":\"white\",\"showland\":true,\"showlakes\":true,\"lakecolor\":\"white\"},\"title\":{\"x\":0.05},\"mapbox\":{\"style\":\"light\"}}},\"xaxis\":{\"anchor\":\"y\",\"domain\":[0.0,1.0],\"title\":{\"text\":\"mean\"}},\"yaxis\":{\"anchor\":\"x\",\"domain\":[0.0,1.0],\"title\":{\"text\":\"post\"}},\"legend\":{\"tracegroupgap\":0},\"margin\":{\"t\":60}},                        {\"responsive\": true}                    ).then(function(){\n",
       "                            \n",
       "var gd = document.getElementById('58f54b36-b936-4c42-a6ee-ab9d7919e0b2');\n",
       "var x = new MutationObserver(function (mutations, observer) {{\n",
       "        var display = window.getComputedStyle(gd).display;\n",
       "        if (!display || display === 'none') {{\n",
       "            console.log([gd, 'removed!']);\n",
       "            Plotly.purge(gd);\n",
       "            observer.disconnect();\n",
       "        }}\n",
       "}});\n",
       "\n",
       "// Listen for the removal of the full notebook cells\n",
       "var notebookContainer = gd.closest('#notebook-container');\n",
       "if (notebookContainer) {{\n",
       "    x.observe(notebookContainer, {childList: true});\n",
       "}}\n",
       "\n",
       "// Listen for the clearing of the current output cell\n",
       "var outputEl = gd.closest('.output');\n",
       "if (outputEl) {{\n",
       "    x.observe(outputEl, {childList: true});\n",
       "}}\n",
       "\n",
       "                        })                };                });            </script>        </div>"
      ]
     },
     "metadata": {},
     "output_type": "display_data"
    }
   ],
   "source": [
    "r_order = order[::-1][-20:]\n",
    "data_dic = {\n",
    "    'mean': posterior_mean[r_order],\n",
    "    'std_err': std_err[r_order],\n",
    "    'post': ordered_post[::-1]\n",
    "}\n",
    "df = pd.DataFrame(data=data_dic)\n",
    "fig = px.scatter(df, x=\"mean\", y=\"post\", error_x=\"std_err\")\n",
    "fig.show()"
   ]
  },
  {
   "cell_type": "markdown",
   "metadata": {},
   "source": [
    "###  ¿Qué logra observar de los resultados?, ¿La solución resulta trivial? En esta sección esperamos que solo comenten con lo que logran visualizar de los dataframes."
   ]
  },
  {
   "cell_type": "markdown",
   "metadata": {
    "cell_id": "00033-eddd71de-b9a7-4779-924a-964c68603845",
    "deepnote_cell_height": 52.390625,
    "deepnote_cell_type": "markdown",
    "id": "szOjXLKA1Rif"
   },
   "source": [
    "**Respuesta:**"
   ]
  },
  {
   "cell_type": "markdown",
   "metadata": {
    "cell_id": "00034-92ca5c7c-071c-4e99-9f17-dec033ed4c24",
    "deepnote_cell_height": 52.390625,
    "deepnote_cell_type": "markdown",
    "id": "0F83QdD61Pd1"
   },
   "source": [
    "`Escriba su respuesta aquí`"
   ]
  },
  {
   "cell_type": "markdown",
   "metadata": {
    "cell_id": "00035-93d50cd9-ff61-4aa8-ae41-e84009a3f64e",
    "deepnote_cell_height": 269,
    "deepnote_cell_type": "markdown",
    "id": "Rg4ZMq8ezAH6"
   },
   "source": [
    "<p align=\"center\">\n",
    "  <img src=\"https://media1.tenor.com/images/fb5bf7cc5a4acb91b4177672886a88ba/tenor.gif?itemid=5591338\">\n",
    "</p>"
   ]
  },
  {
   "cell_type": "markdown",
   "metadata": {
    "created_in_deepnote_cell": true,
    "deepnote_cell_type": "markdown",
    "tags": []
   },
   "source": [
    "<a style='text-decoration:none;line-height:16px;display:flex;color:#5B5B62;padding:10px;justify-content:end;' href='https://deepnote.com?utm_source=created-in-deepnote-cell&projectId=87110296-876e-426f-b91d-aaf681223468' target=\"_blank\">\n",
    "<img alt='Created in deepnote.com' style='display:inline;max-height:16px;margin:0px;margin-right:7.5px;' src='data:image/svg+xml;base64,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' > </img>\n",
    "Created in <span style='font-weight:600;margin-left:4px;'>Deepnote</span></a>"
   ]
  }
 ],
 "metadata": {
  "colab": {
   "collapsed_sections": [],
   "name": "Copia de enunciado_Laboratorio5.ipynb",
   "provenance": []
  },
  "deepnote": {},
  "deepnote_execution_queue": [],
  "deepnote_notebook_id": "86c0ae4d-10d9-41be-9dc9-0e76fdf26f7b",
  "kernelspec": {
   "display_name": "Python 3 (ipykernel)",
   "language": "python",
   "name": "python3"
  },
  "language_info": {
   "codemirror_mode": {
    "name": "ipython",
    "version": 3
   },
   "file_extension": ".py",
   "mimetype": "text/x-python",
   "name": "python",
   "nbconvert_exporter": "python",
   "pygments_lexer": "ipython3",
   "version": "3.9.11"
  },
  "toc": {
   "base_numbering": 1,
   "nav_menu": {},
   "number_sections": true,
   "sideBar": true,
   "skip_h1_title": true,
   "title_cell": "Tabla de Contenidos",
   "title_sidebar": "Contenidos",
   "toc_cell": false,
   "toc_position": {
    "height": "calc(100% - 180px)",
    "left": "10px",
    "top": "150px",
    "width": "241.867px"
   },
   "toc_section_display": true,
   "toc_window_display": true
  },
  "varInspector": {
   "cols": {
    "lenName": 16,
    "lenType": 16,
    "lenVar": 40
   },
   "kernels_config": {
    "python": {
     "delete_cmd_postfix": "",
     "delete_cmd_prefix": "del ",
     "library": "var_list.py",
     "varRefreshCmd": "print(var_dic_list())"
    },
    "r": {
     "delete_cmd_postfix": ") ",
     "delete_cmd_prefix": "rm(",
     "library": "var_list.r",
     "varRefreshCmd": "cat(var_dic_list()) "
    }
   },
   "types_to_exclude": [
    "module",
    "function",
    "builtin_function_or_method",
    "instance",
    "_Feature"
   ],
   "window_display": false
  }
 },
 "nbformat": 4,
 "nbformat_minor": 4
}
