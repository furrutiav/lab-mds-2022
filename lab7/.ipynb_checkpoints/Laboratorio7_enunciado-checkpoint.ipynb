{
 "cells": [
  {
   "cell_type": "markdown",
   "metadata": {
    "cell_id": "00000-73f3e32f-2ef2-4c8f-8a16-d0512209e3ca",
    "deepnote_cell_height": 103.43333435058594,
    "deepnote_cell_type": "markdown",
    "id": "XUZ1dFPHzAHl"
   },
   "source": [
    "<h1><center>Laboratorio 7: Aprendizaje Supervisado 🔮</center></h1>\n",
    "\n",
    "<center><strong>MDS7202: Laboratorio de Programación Científica para Ciencia de Datos</strong></center>"
   ]
  },
  {
   "cell_type": "markdown",
   "metadata": {
    "cell_id": "00001-f0f6f193-27cb-4e14-8eb4-8192d12f7721",
    "deepnote_cell_height": 165.78334045410156,
    "deepnote_cell_type": "markdown",
    "id": "UD8X1uhGzAHq"
   },
   "source": [
    "### Cuerpo Docente:\n",
    "\n",
    "- Profesor: Pablo Badilla\n",
    "- Auxiliar: Ignacio Meza D.\n",
    "- Ayudante: Patricio Ortiz"
   ]
  },
  {
   "cell_type": "markdown",
   "metadata": {
    "cell_id": "00002-cbc359e4-c6bf-4a18-b935-8b000e48c13d",
    "deepnote_cell_height": 139.86666870117188,
    "deepnote_cell_type": "markdown",
    "id": "tXflExjqzAHr"
   },
   "source": [
    "### Equipo: SUPER IMPORTANTE - notebooks sin nombre no serán revisados\n",
    "\n",
    "- Nombre de alumno 1: Sebastian Avendaño\n",
    "- Nombre de alumno 2: Felipe Urrutia\n"
   ]
  },
  {
   "cell_type": "markdown",
   "metadata": {
    "cell_id": "00003-50e2b812-e515-42a0-b713-6dbfaa83c601",
    "deepnote_cell_height": 61.56666564941406,
    "deepnote_cell_type": "markdown",
    "id": "AD-V0bbZzAHr"
   },
   "source": [
    "### **Link de repositorio de GitHub:** `https://github.com/furrutiav/lab-mds-2022`"
   ]
  },
  {
   "cell_type": "markdown",
   "metadata": {
    "cell_id": "00005-119cf881-89af-4ccc-8bf7-2763d5eb0785",
    "deepnote_cell_height": 606.316650390625,
    "deepnote_cell_type": "markdown",
    "id": "6uBLPj1PzAHs"
   },
   "source": [
    "## Temas a tratar\n",
    "\n",
    "- Aprendizaje Supervisado\n",
    "- Flujos de datos a través de `Pipelines`.\n",
    "\n",
    "## Reglas\n",
    "\n",
    "- Fecha de entrega: TBD\n",
    "- **Grupos de 2 personas**\n",
    "- **Ausentes** deberán realizar la actividad solos. \n",
    "- Cualquier duda fuera del horario de clases al foro. Mensajes al equipo docente serán respondidos por este medio.\n",
    "- Prohibidas las copias. \n",
    "- Pueden usar cualquer matrial del curso que estimen conveniente.\n",
    "\n",
    "## Objetivos principales del laboratorio\n",
    "\n",
    "- Comprender el funcionamiento de clasificadores/regresores.\n",
    "- Generar múltiples modelos predictivos.\n",
    "- Comprender las ventajas de crear modelos en pipeline vs hacer las operaciones a mano.\n",
    "\n",
    "El laboratorio deberá ser desarrollado sin el uso indiscriminado de iteradores nativos de python (aka \"for\", \"while\"). La idea es que aprendan a exprimir al máximo las funciones optimizadas que nos entrega `pandas`, las cuales vale mencionar, son bastante más eficientes que los iteradores nativos sobre `DataFrames`."
   ]
  },
  {
   "cell_type": "markdown",
   "metadata": {
    "cell_id": "00006-d1bce751-1f1d-4470-8cbb-a77ba271ef39",
    "deepnote_cell_height": 61.03334045410156,
    "deepnote_cell_type": "markdown",
    "id": "MhISwri4zAHy"
   },
   "source": [
    "### Importamos librerias utiles 😸"
   ]
  },
  {
   "cell_type": "code",
   "execution_count": 56,
   "metadata": {
    "ExecuteTime": {
     "end_time": "2021-03-29T00:08:16.884674Z",
     "start_time": "2021-03-29T00:08:16.349846Z"
    },
    "cell_id": "00007-e1ebdc56-4008-489c-85bc-b1ffb9cbbced",
    "colab": {
     "base_uri": "https://localhost:8080/"
    },
    "deepnote_cell_height": 954.25,
    "deepnote_cell_type": "code",
    "deepnote_to_be_reexecuted": false,
    "execution_millis": 7630,
    "execution_start": 1636741163382,
    "id": "uyc33dKdzAHy",
    "outputId": "e8cc251c-aa25-4fdb-db15-3027707cfbdf",
    "source_hash": "cb3614e"
   },
   "outputs": [
    {
     "name": "stdout",
     "output_type": "stream",
     "text": [
      "Requirement already satisfied: plotly in c:\\users\\felip\\anaconda3\\lib\\site-packages (5.8.2)\n",
      "Requirement already satisfied: tenacity>=6.2.0 in c:\\users\\felip\\anaconda3\\lib\\site-packages (from plotly) (8.0.1)\n",
      "Requirement already satisfied: umap-learn in c:\\users\\felip\\anaconda3\\lib\\site-packages (0.5.2)\n",
      "Requirement already satisfied: pynndescent>=0.5 in c:\\users\\felip\\anaconda3\\lib\\site-packages (from umap-learn) (0.5.4)\n",
      "Requirement already satisfied: scipy>=1.0 in c:\\users\\felip\\anaconda3\\lib\\site-packages (from umap-learn) (1.6.2)\n",
      "Requirement already satisfied: numpy>=1.17 in c:\\users\\felip\\anaconda3\\lib\\site-packages (from umap-learn) (1.20.3)\n",
      "Requirement already satisfied: tqdm in c:\\users\\felip\\anaconda3\\lib\\site-packages (from umap-learn) (4.63.0)\n",
      "Requirement already satisfied: scikit-learn>=0.22 in c:\\users\\felip\\anaconda3\\lib\\site-packages (from umap-learn) (1.1.0)\n",
      "Requirement already satisfied: numba>=0.49 in c:\\users\\felip\\anaconda3\\lib\\site-packages (from umap-learn) (0.54.1)\n",
      "Requirement already satisfied: llvmlite<0.38,>=0.37.0rc1 in c:\\users\\felip\\anaconda3\\lib\\site-packages (from numba>=0.49->umap-learn) (0.37.0)\n",
      "Requirement already satisfied: setuptools in c:\\users\\felip\\anaconda3\\lib\\site-packages (from numba>=0.49->umap-learn) (61.2.0)\n",
      "Requirement already satisfied: joblib>=0.11 in c:\\users\\felip\\anaconda3\\lib\\site-packages (from pynndescent>=0.5->umap-learn) (1.1.0)\n",
      "Requirement already satisfied: threadpoolctl>=2.0.0 in c:\\users\\felip\\anaconda3\\lib\\site-packages (from scikit-learn>=0.22->umap-learn) (2.2.0)\n",
      "Requirement already satisfied: colorama in c:\\users\\felip\\appdata\\roaming\\python\\python38\\site-packages (from tqdm->umap-learn) (0.4.3)\n"
     ]
    }
   ],
   "source": [
    "# Libreria Core del lab.\n",
    "import numpy as np\n",
    "import pandas as pd\n",
    "from sklearn.pipeline import Pipeline\n",
    "from sklearn.compose import ColumnTransformer\n",
    "from sklearn.model_selection import train_test_split \n",
    "\n",
    "# Pre-procesamiento\n",
    "from sklearn.preprocessing import MinMaxScaler\n",
    "from sklearn.preprocessing import StandardScaler\n",
    "from sklearn.preprocessing import FunctionTransformer\n",
    "from sklearn.preprocessing import PowerTransformer\n",
    "from sklearn.preprocessing import OneHotEncoder\n",
    "from sklearn.tree import DecisionTreeClassifier\n",
    "\n",
    "# Metricas de evaluación\n",
    "from sklearn.metrics import classification_report\n",
    "from sklearn.metrics import accuracy_score\n",
    "from sklearn.metrics import f1_score\n",
    "from sklearn.metrics import cohen_kappa_score\n",
    "\n",
    "#Libreria para plotear\n",
    "!pip install --upgrade plotly\n",
    "import plotly.express as px\n",
    "from plotly.subplots import make_subplots\n",
    "import plotly.graph_objects as go\n",
    "\n",
    "# UMAP\n",
    "!pip install umap-learn"
   ]
  },
  {
   "cell_type": "markdown",
   "metadata": {
    "cell_id": "00008-7877e530-5ed5-483e-af0a-4fd26434d7dc",
    "deepnote_cell_height": 51.43333435058594,
    "deepnote_cell_type": "markdown",
    "id": "5FTGE74b3FBU"
   },
   "source": [
    "https://www.kaggle.com/antoinekrajnc/soccer-players-statistics"
   ]
  },
  {
   "cell_type": "markdown",
   "metadata": {
    "cell_id": "00009-2d8a21b8-a5ac-41ee-9a17-15c179c9b666",
    "deepnote_cell_height": 645.0166625976562,
    "deepnote_cell_type": "markdown",
    "id": "xpOTbQcxbSiy"
   },
   "source": [
    "# 1. Predicciones Futboleras\n",
    "\n",
    "<p align=\"center\">\n",
    "  <img src=\"https://drive.google.com/uc?export=view&id=1BnO4tyh3vM2P199Ec9s3JjngQ4qQ9seP\"\n",
    "\" width=\"300\">\n",
    "</p>\n",
    "\n",
    "\n",
    "Tras el trágico despido de la mítica mascota de Maipú, Renacín decide adentrarse como consultor en el mercado futbolero, el cuál (para variar...) está cargado en especulaciones. \n",
    "\n",
    "Como su principal tarea será asesorar a los directivos de los clubes sobre cuál jugador comprar y cuál no, Renacín desea generar modelos predictivos que evaluén distintas características de los jugadores; todo con el fin de tomar decisiones concretas basadas en los datos.\n",
    "\n",
    "Sin embargo, su condición de corporeo le impidió tomar la versión anterior de MDS7202, por lo que este motivo Renacín contrata a su equipo para lograr su objetivo final. Dado que aún tiene fuertes vínculos con la dirección de deportes de la municipalidad, el corporeo le entrega base de datos con las estadísticas de cada jugador para que su equipo empieze a trabajar ya con un dataset listo para ser usado.\n"
   ]
  },
  {
   "cell_type": "markdown",
   "metadata": {
    "cell_id": "00010-6b2847d4-5b92-44b7-9ce0-c6b6779ac157",
    "deepnote_cell_height": 169.03334045410156,
    "deepnote_cell_type": "markdown",
    "id": "jnmZfFpxTTYX"
   },
   "source": [
    "**Los Datos**\n",
    "\n",
    "Para este laboratorio deberán trabajar con los csv `statsplayers.csv` y `salarios.pickle`, donde deberán aplicar algoritmos de de aprendizaje supervisado (clasificación y regresión) en base a características que describen de jugadores de futbol.\n",
    "\n",
    "Para comenzar cargue el dataset señalado y a continuación vea el reporte **`Player_Stats_Report.html`** (adjunto en la carpeta del enunciado) que describe las características principales del `DataFrame`."
   ]
  },
  {
   "cell_type": "code",
   "execution_count": 57,
   "metadata": {
    "cell_id": "00011-41e0cc7d-f280-4fd4-9186-b97a9c9f2245",
    "colab": {
     "base_uri": "https://localhost:8080/"
    },
    "deepnote_cell_height": 218.53334045410156,
    "deepnote_cell_type": "code",
    "deepnote_to_be_reexecuted": false,
    "execution_millis": 7,
    "execution_start": 1636741171022,
    "id": "Jqq-s010Iwl1",
    "outputId": "f4cecd84-95c6-4a80-e472-5b8ea011e843",
    "source_hash": "c60dc4a7"
   },
   "outputs": [
    {
     "name": "stdout",
     "output_type": "stream",
     "text": [
      "Ignorando conexión drive-colab\n"
     ]
    }
   ],
   "source": [
    "# Si usted está utilizando Colabolatory le puede ser útil este código para cargar los archivos.\n",
    "try:\n",
    "    from google.colab import drive\n",
    "    drive.mount(\"/content/drive\")\n",
    "    path = 'Dirección donde tiene los archivos en el Drive'\n",
    "except: \n",
    "    print('Ignorando conexión drive-colab')"
   ]
  },
  {
   "cell_type": "code",
   "execution_count": 132,
   "metadata": {
    "cell_id": "00012-64bcb839-4478-423e-9bd1-cdb81eefc97e",
    "colab": {
     "base_uri": "https://localhost:8080/",
     "height": 309
    },
    "deepnote_cell_height": 489.54998779296875,
    "deepnote_cell_type": "code",
    "deepnote_output_heights": [
     376
    ],
    "deepnote_to_be_reexecuted": false,
    "execution_millis": 184,
    "execution_start": 1636742947300,
    "id": "bED3w3tDbSCf",
    "outputId": "8961b413-9ab2-4d57-8d77-648860771520",
    "source_hash": "65944a94"
   },
   "outputs": [
    {
     "data": {
      "text/html": [
       "<div>\n",
       "<style scoped>\n",
       "    .dataframe tbody tr th:only-of-type {\n",
       "        vertical-align: middle;\n",
       "    }\n",
       "\n",
       "    .dataframe tbody tr th {\n",
       "        vertical-align: top;\n",
       "    }\n",
       "\n",
       "    .dataframe thead th {\n",
       "        text-align: right;\n",
       "    }\n",
       "</style>\n",
       "<table border=\"1\" class=\"dataframe\">\n",
       "  <thead>\n",
       "    <tr style=\"text-align: right;\">\n",
       "      <th></th>\n",
       "      <th>Name</th>\n",
       "      <th>Nationality</th>\n",
       "      <th>National_Position</th>\n",
       "      <th>Club_Position</th>\n",
       "      <th>Height</th>\n",
       "      <th>Weight</th>\n",
       "      <th>Preffered_Foot</th>\n",
       "      <th>Age</th>\n",
       "      <th>Work_Rate</th>\n",
       "      <th>Weak_foot</th>\n",
       "      <th>...</th>\n",
       "      <th>Agility</th>\n",
       "      <th>Jumping</th>\n",
       "      <th>Heading</th>\n",
       "      <th>Shot_Power</th>\n",
       "      <th>Finishing</th>\n",
       "      <th>Long_Shots</th>\n",
       "      <th>Curve</th>\n",
       "      <th>Freekick_Accuracy</th>\n",
       "      <th>Penalties</th>\n",
       "      <th>Volleys</th>\n",
       "    </tr>\n",
       "  </thead>\n",
       "  <tbody>\n",
       "    <tr>\n",
       "      <th>0</th>\n",
       "      <td>Cristiano Ronaldo</td>\n",
       "      <td>Portugal</td>\n",
       "      <td>LS</td>\n",
       "      <td>LW</td>\n",
       "      <td>185</td>\n",
       "      <td>80</td>\n",
       "      <td>Right</td>\n",
       "      <td>32</td>\n",
       "      <td>High / Low</td>\n",
       "      <td>4</td>\n",
       "      <td>...</td>\n",
       "      <td>90</td>\n",
       "      <td>95</td>\n",
       "      <td>85</td>\n",
       "      <td>92</td>\n",
       "      <td>93</td>\n",
       "      <td>90</td>\n",
       "      <td>81</td>\n",
       "      <td>76</td>\n",
       "      <td>85</td>\n",
       "      <td>88</td>\n",
       "    </tr>\n",
       "    <tr>\n",
       "      <th>1</th>\n",
       "      <td>Lionel Messi</td>\n",
       "      <td>Argentina</td>\n",
       "      <td>RW</td>\n",
       "      <td>RW</td>\n",
       "      <td>170</td>\n",
       "      <td>72</td>\n",
       "      <td>Left</td>\n",
       "      <td>29</td>\n",
       "      <td>Medium / Medium</td>\n",
       "      <td>4</td>\n",
       "      <td>...</td>\n",
       "      <td>90</td>\n",
       "      <td>68</td>\n",
       "      <td>71</td>\n",
       "      <td>85</td>\n",
       "      <td>95</td>\n",
       "      <td>88</td>\n",
       "      <td>89</td>\n",
       "      <td>90</td>\n",
       "      <td>74</td>\n",
       "      <td>85</td>\n",
       "    </tr>\n",
       "    <tr>\n",
       "      <th>2</th>\n",
       "      <td>Neymar</td>\n",
       "      <td>Brazil</td>\n",
       "      <td>LW</td>\n",
       "      <td>LW</td>\n",
       "      <td>174</td>\n",
       "      <td>68</td>\n",
       "      <td>Right</td>\n",
       "      <td>25</td>\n",
       "      <td>High / Medium</td>\n",
       "      <td>5</td>\n",
       "      <td>...</td>\n",
       "      <td>96</td>\n",
       "      <td>61</td>\n",
       "      <td>62</td>\n",
       "      <td>78</td>\n",
       "      <td>89</td>\n",
       "      <td>77</td>\n",
       "      <td>79</td>\n",
       "      <td>84</td>\n",
       "      <td>81</td>\n",
       "      <td>83</td>\n",
       "    </tr>\n",
       "    <tr>\n",
       "      <th>3</th>\n",
       "      <td>Luis Suárez</td>\n",
       "      <td>Uruguay</td>\n",
       "      <td>LS</td>\n",
       "      <td>ST</td>\n",
       "      <td>182</td>\n",
       "      <td>85</td>\n",
       "      <td>Right</td>\n",
       "      <td>30</td>\n",
       "      <td>High / Medium</td>\n",
       "      <td>4</td>\n",
       "      <td>...</td>\n",
       "      <td>86</td>\n",
       "      <td>69</td>\n",
       "      <td>77</td>\n",
       "      <td>87</td>\n",
       "      <td>94</td>\n",
       "      <td>86</td>\n",
       "      <td>86</td>\n",
       "      <td>84</td>\n",
       "      <td>85</td>\n",
       "      <td>88</td>\n",
       "    </tr>\n",
       "    <tr>\n",
       "      <th>4</th>\n",
       "      <td>Manuel Neuer</td>\n",
       "      <td>Germany</td>\n",
       "      <td>GK</td>\n",
       "      <td>GK</td>\n",
       "      <td>193</td>\n",
       "      <td>92</td>\n",
       "      <td>Right</td>\n",
       "      <td>31</td>\n",
       "      <td>Medium / Medium</td>\n",
       "      <td>4</td>\n",
       "      <td>...</td>\n",
       "      <td>52</td>\n",
       "      <td>78</td>\n",
       "      <td>25</td>\n",
       "      <td>25</td>\n",
       "      <td>13</td>\n",
       "      <td>16</td>\n",
       "      <td>14</td>\n",
       "      <td>11</td>\n",
       "      <td>47</td>\n",
       "      <td>11</td>\n",
       "    </tr>\n",
       "    <tr>\n",
       "      <th>...</th>\n",
       "      <td>...</td>\n",
       "      <td>...</td>\n",
       "      <td>...</td>\n",
       "      <td>...</td>\n",
       "      <td>...</td>\n",
       "      <td>...</td>\n",
       "      <td>...</td>\n",
       "      <td>...</td>\n",
       "      <td>...</td>\n",
       "      <td>...</td>\n",
       "      <td>...</td>\n",
       "      <td>...</td>\n",
       "      <td>...</td>\n",
       "      <td>...</td>\n",
       "      <td>...</td>\n",
       "      <td>...</td>\n",
       "      <td>...</td>\n",
       "      <td>...</td>\n",
       "      <td>...</td>\n",
       "      <td>...</td>\n",
       "      <td>...</td>\n",
       "    </tr>\n",
       "    <tr>\n",
       "      <th>17583</th>\n",
       "      <td>Adam Dunbar</td>\n",
       "      <td>Republic of Ireland</td>\n",
       "      <td>NaN</td>\n",
       "      <td>Sub</td>\n",
       "      <td>183</td>\n",
       "      <td>82</td>\n",
       "      <td>Right</td>\n",
       "      <td>19</td>\n",
       "      <td>Medium / Medium</td>\n",
       "      <td>1</td>\n",
       "      <td>...</td>\n",
       "      <td>27</td>\n",
       "      <td>56</td>\n",
       "      <td>14</td>\n",
       "      <td>16</td>\n",
       "      <td>13</td>\n",
       "      <td>13</td>\n",
       "      <td>11</td>\n",
       "      <td>13</td>\n",
       "      <td>15</td>\n",
       "      <td>12</td>\n",
       "    </tr>\n",
       "    <tr>\n",
       "      <th>17584</th>\n",
       "      <td>Dylan McGoey</td>\n",
       "      <td>Republic of Ireland</td>\n",
       "      <td>NaN</td>\n",
       "      <td>Sub</td>\n",
       "      <td>185</td>\n",
       "      <td>80</td>\n",
       "      <td>Right</td>\n",
       "      <td>19</td>\n",
       "      <td>Medium / Medium</td>\n",
       "      <td>2</td>\n",
       "      <td>...</td>\n",
       "      <td>28</td>\n",
       "      <td>53</td>\n",
       "      <td>12</td>\n",
       "      <td>17</td>\n",
       "      <td>12</td>\n",
       "      <td>11</td>\n",
       "      <td>12</td>\n",
       "      <td>13</td>\n",
       "      <td>16</td>\n",
       "      <td>12</td>\n",
       "    </tr>\n",
       "    <tr>\n",
       "      <th>17585</th>\n",
       "      <td>Tommy Ouldridge</td>\n",
       "      <td>England</td>\n",
       "      <td>NaN</td>\n",
       "      <td>Res</td>\n",
       "      <td>173</td>\n",
       "      <td>61</td>\n",
       "      <td>Right</td>\n",
       "      <td>18</td>\n",
       "      <td>High / Medium</td>\n",
       "      <td>2</td>\n",
       "      <td>...</td>\n",
       "      <td>54</td>\n",
       "      <td>61</td>\n",
       "      <td>41</td>\n",
       "      <td>44</td>\n",
       "      <td>28</td>\n",
       "      <td>42</td>\n",
       "      <td>35</td>\n",
       "      <td>36</td>\n",
       "      <td>42</td>\n",
       "      <td>37</td>\n",
       "    </tr>\n",
       "    <tr>\n",
       "      <th>17586</th>\n",
       "      <td>Mark Foden</td>\n",
       "      <td>Scotland</td>\n",
       "      <td>NaN</td>\n",
       "      <td>Sub</td>\n",
       "      <td>180</td>\n",
       "      <td>80</td>\n",
       "      <td>Right</td>\n",
       "      <td>21</td>\n",
       "      <td>Medium / Medium</td>\n",
       "      <td>3</td>\n",
       "      <td>...</td>\n",
       "      <td>34</td>\n",
       "      <td>48</td>\n",
       "      <td>15</td>\n",
       "      <td>23</td>\n",
       "      <td>14</td>\n",
       "      <td>12</td>\n",
       "      <td>13</td>\n",
       "      <td>12</td>\n",
       "      <td>24</td>\n",
       "      <td>12</td>\n",
       "    </tr>\n",
       "    <tr>\n",
       "      <th>17587</th>\n",
       "      <td>Barry Richardson</td>\n",
       "      <td>England</td>\n",
       "      <td>NaN</td>\n",
       "      <td>Sub</td>\n",
       "      <td>185</td>\n",
       "      <td>77</td>\n",
       "      <td>Right</td>\n",
       "      <td>47</td>\n",
       "      <td>Medium / Medium</td>\n",
       "      <td>2</td>\n",
       "      <td>...</td>\n",
       "      <td>38</td>\n",
       "      <td>51</td>\n",
       "      <td>12</td>\n",
       "      <td>13</td>\n",
       "      <td>11</td>\n",
       "      <td>16</td>\n",
       "      <td>12</td>\n",
       "      <td>11</td>\n",
       "      <td>22</td>\n",
       "      <td>12</td>\n",
       "    </tr>\n",
       "  </tbody>\n",
       "</table>\n",
       "<p>17588 rows × 39 columns</p>\n",
       "</div>"
      ],
      "text/plain": [
       "                    Name          Nationality National_Position Club_Position  \\\n",
       "0      Cristiano Ronaldo             Portugal                LS            LW   \n",
       "1           Lionel Messi            Argentina                RW            RW   \n",
       "2                 Neymar               Brazil                LW            LW   \n",
       "3            Luis Suárez              Uruguay                LS            ST   \n",
       "4           Manuel Neuer              Germany                GK            GK   \n",
       "...                  ...                  ...               ...           ...   \n",
       "17583        Adam Dunbar  Republic of Ireland               NaN           Sub   \n",
       "17584       Dylan McGoey  Republic of Ireland               NaN           Sub   \n",
       "17585    Tommy Ouldridge              England               NaN           Res   \n",
       "17586         Mark Foden             Scotland               NaN           Sub   \n",
       "17587   Barry Richardson              England               NaN           Sub   \n",
       "\n",
       "       Height  Weight Preffered_Foot  Age        Work_Rate  Weak_foot  ...  \\\n",
       "0         185      80          Right   32       High / Low          4  ...   \n",
       "1         170      72           Left   29  Medium / Medium          4  ...   \n",
       "2         174      68          Right   25    High / Medium          5  ...   \n",
       "3         182      85          Right   30    High / Medium          4  ...   \n",
       "4         193      92          Right   31  Medium / Medium          4  ...   \n",
       "...       ...     ...            ...  ...              ...        ...  ...   \n",
       "17583     183      82          Right   19  Medium / Medium          1  ...   \n",
       "17584     185      80          Right   19  Medium / Medium          2  ...   \n",
       "17585     173      61          Right   18    High / Medium          2  ...   \n",
       "17586     180      80          Right   21  Medium / Medium          3  ...   \n",
       "17587     185      77          Right   47  Medium / Medium          2  ...   \n",
       "\n",
       "       Agility  Jumping  Heading  Shot_Power  Finishing  Long_Shots  Curve  \\\n",
       "0           90       95       85          92         93          90     81   \n",
       "1           90       68       71          85         95          88     89   \n",
       "2           96       61       62          78         89          77     79   \n",
       "3           86       69       77          87         94          86     86   \n",
       "4           52       78       25          25         13          16     14   \n",
       "...        ...      ...      ...         ...        ...         ...    ...   \n",
       "17583       27       56       14          16         13          13     11   \n",
       "17584       28       53       12          17         12          11     12   \n",
       "17585       54       61       41          44         28          42     35   \n",
       "17586       34       48       15          23         14          12     13   \n",
       "17587       38       51       12          13         11          16     12   \n",
       "\n",
       "       Freekick_Accuracy  Penalties  Volleys  \n",
       "0                     76         85       88  \n",
       "1                     90         74       85  \n",
       "2                     84         81       83  \n",
       "3                     84         85       88  \n",
       "4                     11         47       11  \n",
       "...                  ...        ...      ...  \n",
       "17583                 13         15       12  \n",
       "17584                 13         16       12  \n",
       "17585                 36         42       37  \n",
       "17586                 12         24       12  \n",
       "17587                 11         22       12  \n",
       "\n",
       "[17588 rows x 39 columns]"
      ]
     },
     "execution_count": 132,
     "metadata": {},
     "output_type": "execute_result"
    }
   ],
   "source": [
    "df_players = pd.read_csv('stats_players.csv')\n",
    "df_players"
   ]
  },
  {
   "cell_type": "code",
   "execution_count": 133,
   "metadata": {},
   "outputs": [
    {
     "name": "stdout",
     "output_type": "stream",
     "text": [
      "<class 'pandas.core.frame.DataFrame'>\n",
      "RangeIndex: 17588 entries, 0 to 17587\n",
      "Data columns (total 39 columns):\n",
      " #   Column             Non-Null Count  Dtype \n",
      "---  ------             --------------  ----- \n",
      " 0   Name               17588 non-null  object\n",
      " 1   Nationality        17588 non-null  object\n",
      " 2   National_Position  1075 non-null   object\n",
      " 3   Club_Position      17587 non-null  object\n",
      " 4   Height             17588 non-null  int64 \n",
      " 5   Weight             17588 non-null  int64 \n",
      " 6   Preffered_Foot     17588 non-null  object\n",
      " 7   Age                17588 non-null  int64 \n",
      " 8   Work_Rate          17588 non-null  object\n",
      " 9   Weak_foot          17588 non-null  int64 \n",
      " 10  Skill_Moves        17588 non-null  int64 \n",
      " 11  Ball_Control       17588 non-null  int64 \n",
      " 12  Dribbling          17588 non-null  int64 \n",
      " 13  Marking            17588 non-null  int64 \n",
      " 14  Sliding_Tackle     17588 non-null  int64 \n",
      " 15  Standing_Tackle    17588 non-null  int64 \n",
      " 16  Aggression         17588 non-null  int64 \n",
      " 17  Reactions          17588 non-null  int64 \n",
      " 18  Interceptions      17588 non-null  int64 \n",
      " 19  Vision             17588 non-null  int64 \n",
      " 20  Composure          17588 non-null  int64 \n",
      " 21  Crossing           17588 non-null  int64 \n",
      " 22  Short_Pass         17588 non-null  int64 \n",
      " 23  Long_Pass          17588 non-null  int64 \n",
      " 24  Acceleration       17588 non-null  int64 \n",
      " 25  Speed              17588 non-null  int64 \n",
      " 26  Stamina            17588 non-null  int64 \n",
      " 27  Strength           17588 non-null  int64 \n",
      " 28  Balance            17588 non-null  int64 \n",
      " 29  Agility            17588 non-null  int64 \n",
      " 30  Jumping            17588 non-null  int64 \n",
      " 31  Heading            17588 non-null  int64 \n",
      " 32  Shot_Power         17588 non-null  int64 \n",
      " 33  Finishing          17588 non-null  int64 \n",
      " 34  Long_Shots         17588 non-null  int64 \n",
      " 35  Curve              17588 non-null  int64 \n",
      " 36  Freekick_Accuracy  17588 non-null  int64 \n",
      " 37  Penalties          17588 non-null  int64 \n",
      " 38  Volleys            17588 non-null  int64 \n",
      "dtypes: int64(33), object(6)\n",
      "memory usage: 5.2+ MB\n"
     ]
    }
   ],
   "source": [
    "df_players.info()"
   ]
  },
  {
   "cell_type": "markdown",
   "metadata": {
    "cell_id": "00013-1b1d1556-4dbe-499e-8a34-90748e76565e",
    "deepnote_cell_height": 169.8333282470703,
    "deepnote_cell_type": "markdown",
    "id": "2R3b7Qe501t5"
   },
   "source": [
    "## 1.1 Predicción de Seleccionados Nacionales \n",
    "\n",
    "Como primera tarea, Renacín, intrigado por la posibilidad de saber qué tan reconocido es un jugador, le consulta a su equipo si es posible predecir si un jugador será o no seleccionado nacional a partir de sus estadísticas en el juego. \n",
    "\n",
    "<p align=\"center\">\n",
    "  <img src=\"https://thumbs.gfycat.com/ThornyFrankFoxhound-size_restricted.gif\" width=\"500\">\n",
    "</p>"
   ]
  },
  {
   "cell_type": "markdown",
   "metadata": {
    "cell_id": "00014-33fe54d0-08a3-457a-932d-d07eb29b7ee3",
    "deepnote_cell_height": 158.23333740234375,
    "deepnote_cell_type": "markdown",
    "id": "PIe_Ha58pQRC"
   },
   "source": [
    "### 1.1.1 Generación de Labels para la Clasificación [Sin Puntaje]\n",
    "\n",
    "\n",
    "Primero comience generando las labels para la clasificación. Para esto, trabaje sobre el atributo ```National_Position``` suponiendo que los valores nulos son jugadores no seleccionados para representar a su país. \n",
    "\n",
    "Hecho esto, ¿Cuantos ejemplos por cada clase se tienen? Comente lo que observa.\n",
    "\n"
   ]
  },
  {
   "cell_type": "markdown",
   "metadata": {
    "cell_id": "00015-f7029512-357f-4f07-9897-aaf5d65430a6",
    "deepnote_cell_height": 51.43333435058594,
    "deepnote_cell_type": "markdown",
    "tags": []
   },
   "source": [
    "**Respuesta:**"
   ]
  },
  {
   "cell_type": "code",
   "execution_count": 134,
   "metadata": {
    "cell_id": "00016-ea27a011-47ab-4d54-b2cf-f07037d65135",
    "deepnote_cell_height": 80.03334045410156,
    "deepnote_cell_type": "code",
    "deepnote_to_be_reexecuted": false,
    "execution_millis": 3,
    "execution_start": 1636741171250,
    "id": "uwKaIuho4lqn",
    "source_hash": "43ce1981"
   },
   "outputs": [
    {
     "data": {
      "text/plain": [
       "0        1\n",
       "1        1\n",
       "2        1\n",
       "3        1\n",
       "4        1\n",
       "        ..\n",
       "17583    0\n",
       "17584    0\n",
       "17585    0\n",
       "17586    0\n",
       "17587    0\n",
       "Name: LABEL, Length: 17588, dtype: int64"
      ]
     },
     "execution_count": 134,
     "metadata": {},
     "output_type": "execute_result"
    }
   ],
   "source": [
    "### Código aquí ###\n",
    "df_players[\"LABEL\"] = df_players[\"National_Position\"].apply(lambda x: 1 if str(x)!= \"nan\" else 0)\n",
    "df_players[\"LABEL\"]"
   ]
  },
  {
   "cell_type": "code",
   "execution_count": 135,
   "metadata": {},
   "outputs": [
    {
     "data": {
      "text/plain": [
       "0    16513\n",
       "1     1075\n",
       "Name: LABEL, dtype: int64"
      ]
     },
     "execution_count": 135,
     "metadata": {},
     "output_type": "execute_result"
    }
   ],
   "source": [
    "df_players[\"LABEL\"].value_counts()"
   ]
  },
  {
   "cell_type": "markdown",
   "metadata": {
    "cell_id": "00019-645127af-999a-40ce-b7a1-aa62bb742b4a",
    "deepnote_cell_height": 1393.3499755859375,
    "deepnote_cell_type": "markdown",
    "id": "0F70XPRFpWH9",
    "owner_user_id": "badcc427-fd3d-4615-9296-faa43ec69cfb"
   },
   "source": [
    "### 1.1.2 Camino a la clasificación [1 punto]\n",
    "\n",
    "<p align=\"center\">\n",
    "  <img src=\"https://c.tenor.com/SoXZJHWnhKAAAAAC/pitbull-medel.gif\" width=\"500\">\n",
    "</p>\n",
    "\n",
    "Para preprocesar el dataset, genere un `ColumnTransformer` en donde especifique las transformaciones que hay que realizar para cada columna (por ejemplo StandarScaler, MinMaxScaler, OneHotEncoder, etc...) para que puedan ser utilizadas correctamente por el modelo predictivo y guardelo en algúna variable.\n",
    "\n",
    "Luego, comente y justifique las transformaciones elegidas sobre cada una de las variables (para esto utilice el material ```Player_Stats_Report.html``` que viene en el zip del lab), al igual que las transformaciones aplicadas.\n",
    "\n",
    "Hecho lo anterior, **defina al menos 3 pipelines para la clasificación**, en donde utilice el mismo ColumnTransformer definido anteriormente, pero que varie entre cada pipeline los clasificadores. \n",
    "\n",
    "Para seleccionar los clasificadores más adecuados, utilice la siguiente guía:\n",
    "\n",
    "<p align=\"center\">\n",
    "  <img src=\"https://scikit-learn.org/stable/_static/ml_map.png\" width=\"500\">\n",
    "</p>\n",
    "\n",
    "<br/>\n",
    "\n",
    "Con ella, comente y justifique cada una de las decisiones tomadas al momento de desarrollar su pipeline.\n",
    "\n",
    "**Nota:** Si tiene problemas al utilizar OneHotEncoder puede utilizar el parámetro handle_unknown='ignore'. Esto hace que en la codificación se omitan las categorias que no aparecen en el entrenamiento. Pregunta dudosa (no tiene puntaje), ¿esto tiene sentido a nivel de modelos?.\n",
    "\n",
    "**To-Do:**\n",
    "\n",
    "- [ ] Genere un ```ColumnTransformer``` enfocado en preprocesar los datos.\n",
    "- [ ] Indicar y Justificar que preprocesamiento utiliza sobre cada columna.\n",
    "- [ ] Crear 3 ``pipelines`` con diferentes clasificadores.\n",
    "- [ ] Para seleccionar los clasificadores base sus decisiones en la siguiente [guía](https://scikit-learn.org/stable/tutorial/machine_learning_map/index.html)\n",
    "- [ ] No entrenar los ``pipelines`` aún.\n",
    "\n",
    "**Nota:** No es necesario entrenar los clasificadores aún."
   ]
  },
  {
   "cell_type": "markdown",
   "metadata": {
    "cell_id": "00020-4620fe7d-8e00-4c8b-976f-4212347359e6",
    "deepnote_cell_height": 51.43333435058594,
    "deepnote_cell_type": "markdown",
    "tags": []
   },
   "source": [
    "**Respuesta:**"
   ]
  },
  {
   "cell_type": "markdown",
   "metadata": {},
   "source": [
    "### Genere un ColumnTransformer enfocado en preprocesar los datos."
   ]
  },
  {
   "cell_type": "code",
   "execution_count": 136,
   "metadata": {
    "cell_id": "00019-8d766ed7-eaaa-4ca3-985b-330dc69e0345",
    "deepnote_cell_height": 65.03334045410156,
    "deepnote_cell_type": "code",
    "tags": []
   },
   "outputs": [],
   "source": [
    "### Código aquí ###\n",
    "cols = df_players.columns\n",
    "cols_categorical = [\"Nationality\", \"Club_Position\", \"Preffered_Foot\", \"Work_Rate\"]\n",
    "cols_num = [c for c in cols if (c not in cols_categorical) and (c not in [\"LABEL\", \"Name\", \"National_Position\"])]\n",
    "\n",
    "ct = ColumnTransformer([(\"Standard\", StandardScaler(), cols_num), (\"OneHotEncoder\", OneHotEncoder(handle_unknown='ignore'), cols_categorical)])"
   ]
  },
  {
   "cell_type": "markdown",
   "metadata": {},
   "source": [
    "### Indicar y Justificar que preprocesamiento utiliza sobre cada columna. (PENDIENTE)"
   ]
  },
  {
   "cell_type": "code",
   "execution_count": 25,
   "metadata": {},
   "outputs": [],
   "source": [
    "from sklearn.svm import LinearSVC\n",
    "from sklearn.neighbors import KNeighborsClassifier\n",
    "from sklearn.ensemble import RandomForestClassifier"
   ]
  },
  {
   "cell_type": "markdown",
   "metadata": {},
   "source": [
    "### Crear 3 pipelines con diferentes clasificadores.\n",
    "Para seleccionar los clasificadores base sus decisiones en la siguiente guía (PENDIENTE)\n",
    "No entrenar los pipelines aún."
   ]
  },
  {
   "cell_type": "code",
   "execution_count": 137,
   "metadata": {},
   "outputs": [],
   "source": [
    "linear_svc = LinearSVC(class_weight=\"balanced\")\n",
    "pipe_linear_svc = Pipeline([\n",
    "    ('scaler', ct),\n",
    "    ('classifier', linear_svc)\n",
    "    ])\n",
    "\n",
    "knn = KNeighborsClassifier(n_neighbors=3)\n",
    "pipe_knn = Pipeline([\n",
    "    ('scaler', ct),\n",
    "    ('classifier', knn)\n",
    "    ])\n",
    "\n",
    "rnd_forest = RandomForestClassifier(class_weight=\"balanced\")\n",
    "pipe_rnd_forest = Pipeline([\n",
    "    ('scaler', ct),\n",
    "    ('classifier', rnd_forest)\n",
    "    ])"
   ]
  },
  {
   "cell_type": "markdown",
   "metadata": {
    "cell_id": "00022-c2604b33-63e0-4f34-88cf-019afa3b2225",
    "deepnote_cell_height": 440.1333312988281,
    "deepnote_cell_type": "markdown",
    "id": "MpKq6oO3vCNL"
   },
   "source": [
    "### 1.1.3 Entrenemos los pipelines [1 punto]\n",
    "\n",
    "<p align=\"center\">\n",
    "  <img src=\"https://i.gifer.com/7Cc8.gif\" width=\"350\">\n",
    "</p>\n"
   ]
  },
  {
   "cell_type": "markdown",
   "metadata": {
    "cell_id": "00023-664600ec-8c7d-4e9a-8673-edd18d5145a3",
    "deepnote_cell_height": 455.73333740234375,
    "deepnote_cell_type": "markdown",
    "id": "wE_1aZaIvOeN"
   },
   "source": [
    "Ahora, entrene los `pipeline` generados en los pasos anteriores. Para esto, primero separe los datos de entrenamiento en un conjunto de entrenamiento y de prueba  (la proporción queda a su juicio).\n",
    "\n",
    "En este paso, seleccione los ejemplos de forma aleatoria e intente mantener la distribución original de labels de cada clase en los conjuntos de prueba/entrenamiento. (vea la documentación de `train_test_split`).\n",
    "\n",
    "\n",
    "Luego, entrene los pipelines\n",
    "\n",
    "Una vez entrenado su modelo, evalue su rendimiento a través de diferentes métricas, comentando que significa cada uno de los valores obtenidos. Puede usar la función `classification_report` para corroborar sus resultados.\n",
    "\n",
    "- ¿Qué implican los valores de accuracy, precisión y recall de la clase positiva (la que indica que un jugador es seleccionado nacional)?\n",
    "- ¿Podrían mejorarse los resultados?, ¿Cómo?\n",
    "- ¿Influye la cantidad de ejemplos por clase?\n",
    "\n",
    "**To-Do**:\n",
    "\n",
    "- [ ] Separar el conjunto de datos en entrenamiento y de prueba.\n",
    "- [ ] Entrenar los `pipelines`.\n",
    "- [ ] Utilizar las métricas para evaluar los modelos generados.\n"
   ]
  },
  {
   "cell_type": "markdown",
   "metadata": {
    "cell_id": "00024-b842d4aa-fb47-4513-8649-e942f6094140",
    "deepnote_cell_height": 51.43333435058594,
    "deepnote_cell_type": "markdown",
    "tags": []
   },
   "source": [
    "**Respuesta:**"
   ]
  },
  {
   "cell_type": "markdown",
   "metadata": {},
   "source": [
    "### Separar el conjunto de datos en entrenamiento y de prueba."
   ]
  },
  {
   "cell_type": "code",
   "execution_count": 138,
   "metadata": {
    "cell_id": "00023-f6cdd4bf-3786-444f-a249-62e47133e558",
    "deepnote_cell_height": 65.03334045410156,
    "deepnote_cell_type": "code",
    "tags": []
   },
   "outputs": [],
   "source": [
    "### Código aquí ###\n",
    "X, y = df_players[cols_categorical+cols_num], df_players[\"LABEL\"]\n",
    "X_train, X_test, y_train, y_test = train_test_split(X, y, test_size=0.33, random_state=42)"
   ]
  },
  {
   "cell_type": "markdown",
   "metadata": {},
   "source": [
    "### Entrenar los pipelines"
   ]
  },
  {
   "cell_type": "code",
   "execution_count": 139,
   "metadata": {},
   "outputs": [
    {
     "name": "stderr",
     "output_type": "stream",
     "text": [
      "C:\\Users\\felip\\anaconda3\\lib\\site-packages\\sklearn\\svm\\_base.py:1206: ConvergenceWarning: Liblinear failed to converge, increase the number of iterations.\n",
      "  warnings.warn(\n"
     ]
    },
    {
     "name": "stdout",
     "output_type": "stream",
     "text": [
      "Wall time: 6.81 s\n"
     ]
    },
    {
     "data": {
      "text/plain": [
       "Pipeline(steps=[('scaler',\n",
       "                 ColumnTransformer(transformers=[('Standard', StandardScaler(),\n",
       "                                                  ['Height', 'Weight', 'Age',\n",
       "                                                   'Weak_foot', 'Skill_Moves',\n",
       "                                                   'Ball_Control', 'Dribbling',\n",
       "                                                   'Marking', 'Sliding_Tackle',\n",
       "                                                   'Standing_Tackle',\n",
       "                                                   'Aggression', 'Reactions',\n",
       "                                                   'Interceptions', 'Vision',\n",
       "                                                   'Composure', 'Crossing',\n",
       "                                                   'Short_Pass', 'Long_Pass',\n",
       "                                                   'Acceleration', 'Speed',\n",
       "                                                   'Stamina', 'Strength',\n",
       "                                                   'Balance', 'Agility',\n",
       "                                                   'Jumping', 'Heading',\n",
       "                                                   'Shot_Power', 'Finishing',\n",
       "                                                   'Long_Shots', 'Curve', ...]),\n",
       "                                                 ('OneHotEncoder',\n",
       "                                                  OneHotEncoder(handle_unknown='ignore'),\n",
       "                                                  ['Nationality',\n",
       "                                                   'Club_Position',\n",
       "                                                   'Preffered_Foot',\n",
       "                                                   'Work_Rate'])])),\n",
       "                ('classifier',\n",
       "                 RandomForestClassifier(class_weight='balanced'))])"
      ]
     },
     "execution_count": 139,
     "metadata": {},
     "output_type": "execute_result"
    }
   ],
   "source": [
    "%%time\n",
    "pipe_linear_svc.fit(X_train, y_train)\n",
    "pipe_knn.fit(X_train, y_train)\n",
    "pipe_rnd_forest.fit(X_train, y_train)"
   ]
  },
  {
   "cell_type": "code",
   "execution_count": 140,
   "metadata": {},
   "outputs": [
    {
     "name": "stdout",
     "output_type": "stream",
     "text": [
      "Wall time: 7.34 s\n"
     ]
    }
   ],
   "source": [
    "%%time\n",
    "linear_svc_pred = pipe_linear_svc.predict(X_test)\n",
    "knn_pred = pipe_knn.predict(X_test)\n",
    "rnd_forest_pred = pipe_rnd_forest.predict(X_test)"
   ]
  },
  {
   "cell_type": "markdown",
   "metadata": {},
   "source": [
    "### Utilizar las métricas para evaluar los modelos generados."
   ]
  },
  {
   "cell_type": "code",
   "execution_count": 141,
   "metadata": {},
   "outputs": [
    {
     "name": "stdout",
     "output_type": "stream",
     "text": [
      "              precision    recall  f1-score   support\n",
      "\n",
      "           0       0.99      0.89      0.94      5461\n",
      "           1       0.32      0.87      0.47       344\n",
      "\n",
      "    accuracy                           0.88      5805\n",
      "   macro avg       0.66      0.88      0.70      5805\n",
      "weighted avg       0.95      0.88      0.91      5805\n",
      "\n"
     ]
    }
   ],
   "source": [
    "print(classification_report(y_test, linear_svc_pred))"
   ]
  },
  {
   "cell_type": "code",
   "execution_count": 142,
   "metadata": {},
   "outputs": [
    {
     "name": "stdout",
     "output_type": "stream",
     "text": [
      "              precision    recall  f1-score   support\n",
      "\n",
      "           0       0.95      0.99      0.97      5461\n",
      "           1       0.40      0.11      0.17       344\n",
      "\n",
      "    accuracy                           0.94      5805\n",
      "   macro avg       0.67      0.55      0.57      5805\n",
      "weighted avg       0.91      0.94      0.92      5805\n",
      "\n"
     ]
    }
   ],
   "source": [
    "print(classification_report(y_test, knn_pred))"
   ]
  },
  {
   "cell_type": "code",
   "execution_count": 143,
   "metadata": {},
   "outputs": [
    {
     "name": "stdout",
     "output_type": "stream",
     "text": [
      "              precision    recall  f1-score   support\n",
      "\n",
      "           0       0.94      1.00      0.97      5461\n",
      "           1       0.55      0.03      0.06       344\n",
      "\n",
      "    accuracy                           0.94      5805\n",
      "   macro avg       0.75      0.52      0.52      5805\n",
      "weighted avg       0.92      0.94      0.92      5805\n",
      "\n"
     ]
    }
   ],
   "source": [
    "print(classification_report(y_test, rnd_forest_pred))"
   ]
  },
  {
   "cell_type": "markdown",
   "metadata": {
    "cell_id": "00028-42eb3af5-2635-48e6-9049-736e2d4b3306",
    "deepnote_cell_height": 106.23333740234375,
    "deepnote_cell_type": "markdown",
    "id": "QgSeo0aIx9ow"
   },
   "source": [
    "**Respuesta**:\n",
    "\n",
    "```\n",
    "Comente de resultados observados y si es posible mejorar los resultados.\n",
    "```"
   ]
  },
  {
   "cell_type": "markdown",
   "metadata": {
    "cell_id": "00029-25d6c3d3-9c25-49f0-a27b-beface2dd794",
    "deepnote_cell_height": 420.2833251953125,
    "deepnote_cell_type": "markdown",
    "id": "ix97Ho4uOARH"
   },
   "source": [
    "## 1.2 Predicción de posiciones de jugadores [2 puntos]\n",
    "\n",
    "<p align=\"center\">\n",
    "  <img src=\"https://pbs.twimg.com/media/E1rfA1aWEAYU6Ny.jpg\" width=\"500\">\n",
    "</p>"
   ]
  },
  {
   "cell_type": "markdown",
   "metadata": {
    "cell_id": "00030-38a30ede-8d53-4a7c-930b-bfeaa4d499ff",
    "deepnote_cell_height": 687.2999877929688,
    "deepnote_cell_type": "markdown",
    "id": "oHAwZfV8hMsk"
   },
   "source": [
    "En una nueva jornada de desmesuradas transacciones deportivas, Renacín escuchó a sus colegas discutir acerca de que el precio de cada jugador depende en gran medida de la posición en la cancha en la que juega. Y además, que hay bastantes jugadores nuevos que no tienen muy claro en que posición verdaderamente brillarían, por lo que actualmente puede que actualmente estén jugando en posiciones sub-optimas. \n",
    "\n",
    "Viendo que los resultados del primer análisis no son tan esperanzadores, el corporeo los comanda a cambiar su tarea: ahora, les solicita que construyan un clasificador enfocado en predecir la mejor posición de los jugadores en la cancha según sus características. \n",
    "\n",
    "Para lograr esto, primero, les pide que etiqueten de la siguiente manera los valores que aparecen en el atributo ```Club_Position```, pidiendo que agrupen los valores en los siguientes grupos:\n",
    "\n",
    "**Nota**:  Renacín les recalca que **no deben utilizar los valores ```Sub``` y ```Res``` de esta columna**.\n",
    "\n",
    "```python\n",
    "ataque = ['ST', 'CF'] \n",
    "central_ataque = ['RW', 'CAM', 'LW'] \n",
    "central = ['RM', 'CM', 'LM'] \n",
    "central_defensa = ['RWB', 'CDM', 'LWB']\n",
    "defensa = ['RB', 'CB', 'LB']\n",
    "arquero = ['GK']\n",
    "```\n",
    "\n",
    "Cabe señalar que al igual como lo realizado con la clasificación binaria, deberá justificar en base a la [guía](https://scikit-learn.org/stable/tutorial/machine_learning_map/index.html) la elección del clasificador y se deben comentar los resultados obtenidos en la clasificación.\n",
    "\n",
    "**Nota:** Clasifique solamente con las clases señaladas, si observa mas clases eliminelas de la clasficación.\n",
    "\n",
    "**To-Do**:\n",
    "\n",
    "- [ ] Aplique las etiquetas descritas anteriormente en cada uno de los valores señalados en esta sección.\n",
    "- [ ] Cuente cuantos por clase quedan.\n",
    "- [ ] Entrene el nuevo pipeline y ejecute una evaluación de este.  \n",
    "- [ ] Comente los resultados obtenidos."
   ]
  },
  {
   "cell_type": "markdown",
   "metadata": {
    "cell_id": "00031-e53db99a-2bcc-474a-92b1-1f55458afc1d",
    "deepnote_cell_height": 51.43333435058594,
    "deepnote_cell_type": "markdown",
    "tags": []
   },
   "source": [
    "**Respuesta:**"
   ]
  },
  {
   "cell_type": "markdown",
   "metadata": {},
   "source": [
    "### Aplique las etiquetas descritas anteriormente en cada uno de los valores señalados en esta sección."
   ]
  },
  {
   "cell_type": "code",
   "execution_count": 144,
   "metadata": {
    "cell_id": "00028-f8dd9230-e314-42be-a0f8-2c295dd45e54",
    "deepnote_cell_height": 65.03334045410156,
    "deepnote_cell_type": "code",
    "tags": []
   },
   "outputs": [],
   "source": [
    "### Código aquí ###\n",
    "dic_replace_label = {\n",
    "'ST': \"ataque\", \n",
    "'CF': \"ataque\",\n",
    "'RW': \"central_ataque\",\n",
    "'CAM': \"central_ataque\",\n",
    "'LW': \"central_ataque\", \n",
    "'RM': \"central\",\n",
    "'CM': \"central\",\n",
    "'LM': \"central\",\n",
    "'RWB': \"central_defensa\",\n",
    "'CDM': \"central_defensa\",\n",
    "'LWB': \"central_defensa\",\n",
    "'RB': \"defensa\",\n",
    "'CB': \"defensa\",\n",
    "'LB': \"defensa\",\n",
    "'GK': \"arquero\"\n",
    "}"
   ]
  },
  {
   "cell_type": "code",
   "execution_count": 145,
   "metadata": {},
   "outputs": [
    {
     "name": "stderr",
     "output_type": "stream",
     "text": [
      "<ipython-input-145-7711334385c3>:2: SettingWithCopyWarning: \n",
      "A value is trying to be set on a copy of a slice from a DataFrame.\n",
      "Try using .loc[row_indexer,col_indexer] = value instead\n",
      "\n",
      "See the caveats in the documentation: https://pandas.pydata.org/pandas-docs/stable/user_guide/indexing.html#returning-a-view-versus-a-copy\n",
      "  sub_df_players[\"LABEL\"] = sub_df_players[\"Club_Position\"].apply(lambda x: dic_replace_label[x])\n"
     ]
    }
   ],
   "source": [
    "sub_df_players = df_players[df_players[\"Club_Position\"].isin(dic_replace_label.keys())]\n",
    "sub_df_players[\"LABEL\"] = sub_df_players[\"Club_Position\"].apply(lambda x: dic_replace_label[x])"
   ]
  },
  {
   "cell_type": "markdown",
   "metadata": {},
   "source": [
    "### Cuente cuantos por clase quedan."
   ]
  },
  {
   "cell_type": "code",
   "execution_count": 146,
   "metadata": {},
   "outputs": [
    {
     "data": {
      "text/plain": [
       "defensa            1180\n",
       "central             907\n",
       "arquero             632\n",
       "central_ataque      581\n",
       "ataque              430\n",
       "central_defensa     209\n",
       "Name: LABEL, dtype: int64"
      ]
     },
     "execution_count": 146,
     "metadata": {},
     "output_type": "execute_result"
    }
   ],
   "source": [
    "sub_df_players[\"LABEL\"].value_counts()"
   ]
  },
  {
   "cell_type": "markdown",
   "metadata": {},
   "source": [
    "### Entrene el nuevo pipeline y ejecute una evaluación de este. "
   ]
  },
  {
   "cell_type": "code",
   "execution_count": 151,
   "metadata": {},
   "outputs": [],
   "source": [
    "### Código aquí ###\n",
    "cols = sub_df_players.columns\n",
    "cols_categorical = [\"National_Position\", \"Nationality\", \"Preffered_Foot\", \"Work_Rate\"]\n",
    "cols_num = [c for c in cols if (c not in cols_categorical) and (c not in [\"LABEL\", \"Club_Position\", \"Name\"])]\n",
    "\n",
    "ct = ColumnTransformer([(\"Standard\", StandardScaler(), cols_num), (\"OneHotEncoder\", OneHotEncoder(handle_unknown='ignore'), cols_categorical)])"
   ]
  },
  {
   "cell_type": "code",
   "execution_count": 152,
   "metadata": {},
   "outputs": [],
   "source": [
    "linear_svc = LinearSVC(class_weight=\"balanced\")\n",
    "pipe_linear_svc = Pipeline([\n",
    "    ('scaler', ct),\n",
    "    ('classifier', linear_svc)\n",
    "    ])\n",
    "\n",
    "knn = KNeighborsClassifier(n_neighbors=3)\n",
    "pipe_knn = Pipeline([\n",
    "    ('scaler', ct),\n",
    "    ('classifier', knn)\n",
    "    ])\n",
    "\n",
    "rnd_forest = RandomForestClassifier(class_weight=\"balanced\")\n",
    "pipe_rnd_forest = Pipeline([\n",
    "    ('scaler', ct),\n",
    "    ('classifier', rnd_forest)\n",
    "    ])"
   ]
  },
  {
   "cell_type": "code",
   "execution_count": 153,
   "metadata": {},
   "outputs": [],
   "source": [
    "### Código aquí ###\n",
    "X, y = sub_df_players[cols_categorical+cols_num], sub_df_players[\"LABEL\"]\n",
    "X_train, X_test, y_train, y_test = train_test_split(X, y, test_size=0.33, random_state=42)"
   ]
  },
  {
   "cell_type": "code",
   "execution_count": 154,
   "metadata": {},
   "outputs": [
    {
     "name": "stderr",
     "output_type": "stream",
     "text": [
      "C:\\Users\\felip\\anaconda3\\lib\\site-packages\\sklearn\\svm\\_base.py:1206: ConvergenceWarning: Liblinear failed to converge, increase the number of iterations.\n",
      "  warnings.warn(\n"
     ]
    },
    {
     "name": "stdout",
     "output_type": "stream",
     "text": [
      "Wall time: 2.14 s\n"
     ]
    },
    {
     "data": {
      "text/plain": [
       "Pipeline(steps=[('scaler',\n",
       "                 ColumnTransformer(transformers=[('Standard', StandardScaler(),\n",
       "                                                  ['Height', 'Weight', 'Age',\n",
       "                                                   'Weak_foot', 'Skill_Moves',\n",
       "                                                   'Ball_Control', 'Dribbling',\n",
       "                                                   'Marking', 'Sliding_Tackle',\n",
       "                                                   'Standing_Tackle',\n",
       "                                                   'Aggression', 'Reactions',\n",
       "                                                   'Interceptions', 'Vision',\n",
       "                                                   'Composure', 'Crossing',\n",
       "                                                   'Short_Pass', 'Long_Pass',\n",
       "                                                   'Acceleration', 'Speed',\n",
       "                                                   'Stamina', 'Strength',\n",
       "                                                   'Balance', 'Agility',\n",
       "                                                   'Jumping', 'Heading',\n",
       "                                                   'Shot_Power', 'Finishing',\n",
       "                                                   'Long_Shots', 'Curve', ...]),\n",
       "                                                 ('OneHotEncoder',\n",
       "                                                  OneHotEncoder(handle_unknown='ignore'),\n",
       "                                                  ['National_Position',\n",
       "                                                   'Nationality',\n",
       "                                                   'Preffered_Foot',\n",
       "                                                   'Work_Rate'])])),\n",
       "                ('classifier',\n",
       "                 RandomForestClassifier(class_weight='balanced'))])"
      ]
     },
     "execution_count": 154,
     "metadata": {},
     "output_type": "execute_result"
    }
   ],
   "source": [
    "%%time\n",
    "pipe_linear_svc.fit(X_train, y_train)\n",
    "pipe_knn.fit(X_train, y_train)\n",
    "pipe_rnd_forest.fit(X_train, y_train)"
   ]
  },
  {
   "cell_type": "code",
   "execution_count": 155,
   "metadata": {},
   "outputs": [
    {
     "name": "stdout",
     "output_type": "stream",
     "text": [
      "Wall time: 448 ms\n"
     ]
    }
   ],
   "source": [
    "%%time\n",
    "linear_svc_pred = pipe_linear_svc.predict(X_test)\n",
    "knn_pred = pipe_knn.predict(X_test)\n",
    "rnd_forest_pred = pipe_rnd_forest.predict(X_test)"
   ]
  },
  {
   "cell_type": "code",
   "execution_count": 156,
   "metadata": {},
   "outputs": [
    {
     "name": "stdout",
     "output_type": "stream",
     "text": [
      "                 precision    recall  f1-score   support\n",
      "\n",
      "        arquero       1.00      0.99      1.00       200\n",
      "         ataque       0.78      0.86      0.81       145\n",
      "        central       0.60      0.45      0.52       316\n",
      " central_ataque       0.44      0.44      0.44       183\n",
      "central_defensa       0.26      0.41      0.32        68\n",
      "        defensa       0.82      0.87      0.84       388\n",
      "\n",
      "       accuracy                           0.70      1300\n",
      "      macro avg       0.65      0.67      0.66      1300\n",
      "   weighted avg       0.71      0.70      0.70      1300\n",
      "\n"
     ]
    }
   ],
   "source": [
    "print(classification_report(y_test, linear_svc_pred))"
   ]
  },
  {
   "cell_type": "code",
   "execution_count": 157,
   "metadata": {},
   "outputs": [
    {
     "name": "stdout",
     "output_type": "stream",
     "text": [
      "                 precision    recall  f1-score   support\n",
      "\n",
      "        arquero       1.00      1.00      1.00       200\n",
      "         ataque       0.62      0.83      0.71       145\n",
      "        central       0.50      0.52      0.51       316\n",
      " central_ataque       0.40      0.26      0.32       183\n",
      "central_defensa       0.35      0.16      0.22        68\n",
      "        defensa       0.80      0.89      0.84       388\n",
      "\n",
      "       accuracy                           0.68      1300\n",
      "      macro avg       0.61      0.61      0.60      1300\n",
      "   weighted avg       0.66      0.68      0.66      1300\n",
      "\n"
     ]
    }
   ],
   "source": [
    "print(classification_report(y_test, knn_pred))"
   ]
  },
  {
   "cell_type": "code",
   "execution_count": 158,
   "metadata": {},
   "outputs": [
    {
     "name": "stdout",
     "output_type": "stream",
     "text": [
      "                 precision    recall  f1-score   support\n",
      "\n",
      "        arquero       1.00      1.00      1.00       200\n",
      "         ataque       0.80      0.85      0.82       145\n",
      "        central       0.61      0.64      0.63       316\n",
      " central_ataque       0.55      0.34      0.42       183\n",
      "central_defensa       0.60      0.13      0.22        68\n",
      "        defensa       0.78      0.98      0.87       388\n",
      "\n",
      "       accuracy                           0.75      1300\n",
      "      macro avg       0.72      0.66      0.66      1300\n",
      "   weighted avg       0.73      0.75      0.73      1300\n",
      "\n"
     ]
    }
   ],
   "source": [
    "print(classification_report(y_test, rnd_forest_pred))"
   ]
  },
  {
   "cell_type": "markdown",
   "metadata": {},
   "source": [
    "### Comente los resultados obtenidos."
   ]
  },
  {
   "cell_type": "markdown",
   "metadata": {
    "cell_id": "00037-49e50b09-156f-4996-8fec-1e3e6cf51802",
    "deepnote_cell_height": 106.23333740234375,
    "deepnote_cell_type": "markdown",
    "tags": []
   },
   "source": [
    "**Respuesta**:\n",
    "\n",
    "```\n",
    "Comente de resultados observados y si es posible mejorar los resultados.\n",
    "```"
   ]
  },
  {
   "cell_type": "markdown",
   "metadata": {
    "cell_id": "00038-b8c6c19d-0688-4899-9abb-c89f94c2b89a",
    "deepnote_cell_height": 312.20001220703125,
    "deepnote_cell_type": "markdown",
    "id": "C-vkB4xoOGtM"
   },
   "source": [
    "## 1.3 Predicción de Sueldos [2 puntos]\n",
    "\n",
    "<p align=\"center\">\n",
    "  <img src=\"https://media.giphy.com/media/3oEjHWtHAFcOKS4iA0/giphy.gif\" width=\"460\">\n",
    "</p>"
   ]
  },
  {
   "cell_type": "markdown",
   "metadata": {
    "cell_id": "00039-e50ff971-8882-46be-832a-deaff22bdf89",
    "deepnote_cell_height": 423.70001220703125,
    "deepnote_cell_type": "markdown",
    "tags": []
   },
   "source": [
    "Queriendo ahondar aún más en el mercado del balompíe, Renacin, logra obtener (de una manera no muy formal) los sueldos de múltiples futbolistas y los guarda en el archivo ```sueldos.csv```. Con ellos les solicita que generen un regresor que les permita predecir el sueldo de los futbolistas en base a las características de los pichichis, esto, debido a su motivación por invertir y/o realizar especulación sobre los sueldos de jugadores.\n",
    "\n",
    "Renacin es claro señalando que deben seguir utilizando la [guía](https://scikit-learn.org/stable/tutorial/machine_learning_map/index.html) y comenten cada uno de los pasos realizados, para obtener su regresión lineal. Señalándoles que no aceptara un $R^2$ inferior a 0.35 para el modelo solicitado.\n",
    "\n",
    "Para esta parte usted tiene total libertad en la generación del regresor, la unica exigencia es que utilice un pipeline para generar la regresión y utilice la metrica $R^2$ para medir el rendimiento de esta.\n",
    "\n",
    "**To-Do**:\n",
    "\n",
    "- [ ] Explique en que consiste la métrica $R^2$\n",
    "- [ ] Generar un pipeline para la regresión.\n",
    "- [ ] Obtener un regresor con un $R^2$ superior a  $0.35$.\n",
    "- [ ] Comente sus resultados y si es posible mejorar los resultados obtenidos. ¿Se necesitarían más datos o otros tipos de características o una combinación de ambos?"
   ]
  },
  {
   "cell_type": "markdown",
   "metadata": {
    "cell_id": "00040-487b67d5-7731-400d-8fa5-a8fb3b59c7f5",
    "deepnote_cell_height": 51.43333435058594,
    "deepnote_cell_type": "markdown",
    "tags": []
   },
   "source": [
    "**Respuesta**"
   ]
  },
  {
   "cell_type": "markdown",
   "metadata": {},
   "source": [
    "### Explique en que consiste la métrica 𝑅2\n",
    "\n",
    "El coeficiente de deterimanacion, o tambien conocido como $R^2$, es una metrica que mide el desempeño de un modelo que predice una variable continua. Esta metrica, tiene valores entre cero y uno. Donde aquellos valores mas grandes son mejores. Por otro lado, $R^2$ es igual a uno si y solo si la prediccion es igual que a los datos de referencia, i.e. prediccion perfecta. Para un conjunto de datos $\\{y_i\\}_i$ y respectivos valores predichos $\\{\\hat{y_i}\\}_i$, la metrica esta definida por\n",
    "\n",
    "$$R^2 = 1 - \\frac{\\sum_i (y_i - \\hat{y}_i)^2}{\\sum_i (y_i - \\bar{y})^2}$$\n",
    "\n",
    "donde $\\bar{y}$ corresponde al promedio de los datos $\\{y_i\\}_i$."
   ]
  },
  {
   "cell_type": "markdown",
   "metadata": {},
   "source": [
    "### Generar un pipeline para la regresión."
   ]
  },
  {
   "cell_type": "code",
   "execution_count": 159,
   "metadata": {},
   "outputs": [
    {
     "data": {
      "text/html": [
       "<div>\n",
       "<style scoped>\n",
       "    .dataframe tbody tr th:only-of-type {\n",
       "        vertical-align: middle;\n",
       "    }\n",
       "\n",
       "    .dataframe tbody tr th {\n",
       "        vertical-align: top;\n",
       "    }\n",
       "\n",
       "    .dataframe thead th {\n",
       "        text-align: right;\n",
       "    }\n",
       "</style>\n",
       "<table border=\"1\" class=\"dataframe\">\n",
       "  <thead>\n",
       "    <tr style=\"text-align: right;\">\n",
       "      <th></th>\n",
       "      <th>Unnamed: 0</th>\n",
       "      <th>Player</th>\n",
       "      <th>Weekly Salary</th>\n",
       "    </tr>\n",
       "  </thead>\n",
       "  <tbody>\n",
       "    <tr>\n",
       "      <th>0</th>\n",
       "      <td>1528</td>\n",
       "      <td>Lionel Messi</td>\n",
       "      <td>1538905.0</td>\n",
       "    </tr>\n",
       "    <tr>\n",
       "      <th>1</th>\n",
       "      <td>1006</td>\n",
       "      <td>Cristiano Ronaldo</td>\n",
       "      <td>1248536.0</td>\n",
       "    </tr>\n",
       "    <tr>\n",
       "      <th>2</th>\n",
       "      <td>1529</td>\n",
       "      <td>Antoine Griezmann</td>\n",
       "      <td>997032.0</td>\n",
       "    </tr>\n",
       "    <tr>\n",
       "      <th>3</th>\n",
       "      <td>2004</td>\n",
       "      <td>Neymar</td>\n",
       "      <td>797726.0</td>\n",
       "    </tr>\n",
       "    <tr>\n",
       "      <th>4</th>\n",
       "      <td>1530</td>\n",
       "      <td>Gareth Bale</td>\n",
       "      <td>607706.0</td>\n",
       "    </tr>\n",
       "    <tr>\n",
       "      <th>...</th>\n",
       "      <td>...</td>\n",
       "      <td>...</td>\n",
       "      <td>...</td>\n",
       "    </tr>\n",
       "    <tr>\n",
       "      <th>2529</th>\n",
       "      <td>1527</td>\n",
       "      <td>Simone Ghidotti</td>\n",
       "      <td>283.0</td>\n",
       "    </tr>\n",
       "    <tr>\n",
       "      <th>2530</th>\n",
       "      <td>2539</td>\n",
       "      <td>Valentin Gendrey</td>\n",
       "      <td>100.0</td>\n",
       "    </tr>\n",
       "    <tr>\n",
       "      <th>2531</th>\n",
       "      <td>1001</td>\n",
       "      <td>John Yeboah</td>\n",
       "      <td>70.0</td>\n",
       "    </tr>\n",
       "    <tr>\n",
       "      <th>2532</th>\n",
       "      <td>1000</td>\n",
       "      <td>Antonis Aidonis</td>\n",
       "      <td>70.0</td>\n",
       "    </tr>\n",
       "    <tr>\n",
       "      <th>2533</th>\n",
       "      <td>1002</td>\n",
       "      <td>Leon Dajaku</td>\n",
       "      <td>70.0</td>\n",
       "    </tr>\n",
       "  </tbody>\n",
       "</table>\n",
       "<p>2534 rows × 3 columns</p>\n",
       "</div>"
      ],
      "text/plain": [
       "      Unnamed: 0             Player  Weekly Salary\n",
       "0           1528       Lionel Messi      1538905.0\n",
       "1           1006  Cristiano Ronaldo      1248536.0\n",
       "2           1529  Antoine Griezmann       997032.0\n",
       "3           2004             Neymar       797726.0\n",
       "4           1530        Gareth Bale       607706.0\n",
       "...          ...                ...            ...\n",
       "2529        1527    Simone Ghidotti          283.0\n",
       "2530        2539   Valentin Gendrey          100.0\n",
       "2531        1001        John Yeboah           70.0\n",
       "2532        1000    Antonis Aidonis           70.0\n",
       "2533        1002        Leon Dajaku           70.0\n",
       "\n",
       "[2534 rows x 3 columns]"
      ]
     },
     "execution_count": 159,
     "metadata": {},
     "output_type": "execute_result"
    }
   ],
   "source": [
    "df_salarios = pd.read_csv('salarios.csv')\n",
    "df_salarios"
   ]
  },
  {
   "cell_type": "code",
   "execution_count": 160,
   "metadata": {},
   "outputs": [],
   "source": [
    "df_players_salarios = df_salarios.copy().rename(columns={\"Player\": \"Name\"})\n",
    "df_players_salarios = df_players_salarios.merge(df_players, on=\"Name\", how=\"left\")\n",
    "df_players_salarios = df_players_salarios.dropna()\n",
    "df_players_salarios = df_players_salarios.drop(columns=[\"Unnamed: 0\"])"
   ]
  },
  {
   "cell_type": "code",
   "execution_count": 161,
   "metadata": {},
   "outputs": [
    {
     "data": {
      "text/html": [
       "<div>\n",
       "<style scoped>\n",
       "    .dataframe tbody tr th:only-of-type {\n",
       "        vertical-align: middle;\n",
       "    }\n",
       "\n",
       "    .dataframe tbody tr th {\n",
       "        vertical-align: top;\n",
       "    }\n",
       "\n",
       "    .dataframe thead th {\n",
       "        text-align: right;\n",
       "    }\n",
       "</style>\n",
       "<table border=\"1\" class=\"dataframe\">\n",
       "  <thead>\n",
       "    <tr style=\"text-align: right;\">\n",
       "      <th></th>\n",
       "      <th>Name</th>\n",
       "      <th>Weekly Salary</th>\n",
       "      <th>Nationality</th>\n",
       "      <th>National_Position</th>\n",
       "      <th>Club_Position</th>\n",
       "      <th>Height</th>\n",
       "      <th>Weight</th>\n",
       "      <th>Preffered_Foot</th>\n",
       "      <th>Age</th>\n",
       "      <th>Work_Rate</th>\n",
       "      <th>...</th>\n",
       "      <th>Jumping</th>\n",
       "      <th>Heading</th>\n",
       "      <th>Shot_Power</th>\n",
       "      <th>Finishing</th>\n",
       "      <th>Long_Shots</th>\n",
       "      <th>Curve</th>\n",
       "      <th>Freekick_Accuracy</th>\n",
       "      <th>Penalties</th>\n",
       "      <th>Volleys</th>\n",
       "      <th>LABEL</th>\n",
       "    </tr>\n",
       "  </thead>\n",
       "  <tbody>\n",
       "    <tr>\n",
       "      <th>0</th>\n",
       "      <td>Lionel Messi</td>\n",
       "      <td>1538905.0</td>\n",
       "      <td>Argentina</td>\n",
       "      <td>RW</td>\n",
       "      <td>RW</td>\n",
       "      <td>170.0</td>\n",
       "      <td>72.0</td>\n",
       "      <td>Left</td>\n",
       "      <td>29.0</td>\n",
       "      <td>Medium / Medium</td>\n",
       "      <td>...</td>\n",
       "      <td>68.0</td>\n",
       "      <td>71.0</td>\n",
       "      <td>85.0</td>\n",
       "      <td>95.0</td>\n",
       "      <td>88.0</td>\n",
       "      <td>89.0</td>\n",
       "      <td>90.0</td>\n",
       "      <td>74.0</td>\n",
       "      <td>85.0</td>\n",
       "      <td>1.0</td>\n",
       "    </tr>\n",
       "    <tr>\n",
       "      <th>1</th>\n",
       "      <td>Cristiano Ronaldo</td>\n",
       "      <td>1248536.0</td>\n",
       "      <td>Portugal</td>\n",
       "      <td>LS</td>\n",
       "      <td>LW</td>\n",
       "      <td>185.0</td>\n",
       "      <td>80.0</td>\n",
       "      <td>Right</td>\n",
       "      <td>32.0</td>\n",
       "      <td>High / Low</td>\n",
       "      <td>...</td>\n",
       "      <td>95.0</td>\n",
       "      <td>85.0</td>\n",
       "      <td>92.0</td>\n",
       "      <td>93.0</td>\n",
       "      <td>90.0</td>\n",
       "      <td>81.0</td>\n",
       "      <td>76.0</td>\n",
       "      <td>85.0</td>\n",
       "      <td>88.0</td>\n",
       "      <td>1.0</td>\n",
       "    </tr>\n",
       "    <tr>\n",
       "      <th>2</th>\n",
       "      <td>Antoine Griezmann</td>\n",
       "      <td>997032.0</td>\n",
       "      <td>France</td>\n",
       "      <td>CAM</td>\n",
       "      <td>RS</td>\n",
       "      <td>176.0</td>\n",
       "      <td>67.0</td>\n",
       "      <td>Left</td>\n",
       "      <td>26.0</td>\n",
       "      <td>High / Medium</td>\n",
       "      <td>...</td>\n",
       "      <td>87.0</td>\n",
       "      <td>80.0</td>\n",
       "      <td>81.0</td>\n",
       "      <td>88.0</td>\n",
       "      <td>82.0</td>\n",
       "      <td>84.0</td>\n",
       "      <td>75.0</td>\n",
       "      <td>71.0</td>\n",
       "      <td>87.0</td>\n",
       "      <td>1.0</td>\n",
       "    </tr>\n",
       "    <tr>\n",
       "      <th>3</th>\n",
       "      <td>Neymar</td>\n",
       "      <td>797726.0</td>\n",
       "      <td>Brazil</td>\n",
       "      <td>LW</td>\n",
       "      <td>LW</td>\n",
       "      <td>174.0</td>\n",
       "      <td>68.0</td>\n",
       "      <td>Right</td>\n",
       "      <td>25.0</td>\n",
       "      <td>High / Medium</td>\n",
       "      <td>...</td>\n",
       "      <td>61.0</td>\n",
       "      <td>62.0</td>\n",
       "      <td>78.0</td>\n",
       "      <td>89.0</td>\n",
       "      <td>77.0</td>\n",
       "      <td>79.0</td>\n",
       "      <td>84.0</td>\n",
       "      <td>81.0</td>\n",
       "      <td>83.0</td>\n",
       "      <td>1.0</td>\n",
       "    </tr>\n",
       "    <tr>\n",
       "      <th>4</th>\n",
       "      <td>Gareth Bale</td>\n",
       "      <td>607706.0</td>\n",
       "      <td>Wales</td>\n",
       "      <td>RS</td>\n",
       "      <td>RW</td>\n",
       "      <td>183.0</td>\n",
       "      <td>74.0</td>\n",
       "      <td>Left</td>\n",
       "      <td>27.0</td>\n",
       "      <td>High / Medium</td>\n",
       "      <td>...</td>\n",
       "      <td>85.0</td>\n",
       "      <td>86.0</td>\n",
       "      <td>91.0</td>\n",
       "      <td>87.0</td>\n",
       "      <td>90.0</td>\n",
       "      <td>86.0</td>\n",
       "      <td>85.0</td>\n",
       "      <td>76.0</td>\n",
       "      <td>76.0</td>\n",
       "      <td>1.0</td>\n",
       "    </tr>\n",
       "    <tr>\n",
       "      <th>...</th>\n",
       "      <td>...</td>\n",
       "      <td>...</td>\n",
       "      <td>...</td>\n",
       "      <td>...</td>\n",
       "      <td>...</td>\n",
       "      <td>...</td>\n",
       "      <td>...</td>\n",
       "      <td>...</td>\n",
       "      <td>...</td>\n",
       "      <td>...</td>\n",
       "      <td>...</td>\n",
       "      <td>...</td>\n",
       "      <td>...</td>\n",
       "      <td>...</td>\n",
       "      <td>...</td>\n",
       "      <td>...</td>\n",
       "      <td>...</td>\n",
       "      <td>...</td>\n",
       "      <td>...</td>\n",
       "      <td>...</td>\n",
       "      <td>...</td>\n",
       "    </tr>\n",
       "    <tr>\n",
       "      <th>1985</th>\n",
       "      <td>Igor Lewczuk</td>\n",
       "      <td>10809.0</td>\n",
       "      <td>Poland</td>\n",
       "      <td>Sub</td>\n",
       "      <td>RCB</td>\n",
       "      <td>187.0</td>\n",
       "      <td>85.0</td>\n",
       "      <td>Right</td>\n",
       "      <td>31.0</td>\n",
       "      <td>High / Medium</td>\n",
       "      <td>...</td>\n",
       "      <td>70.0</td>\n",
       "      <td>62.0</td>\n",
       "      <td>63.0</td>\n",
       "      <td>42.0</td>\n",
       "      <td>35.0</td>\n",
       "      <td>59.0</td>\n",
       "      <td>34.0</td>\n",
       "      <td>52.0</td>\n",
       "      <td>34.0</td>\n",
       "      <td>1.0</td>\n",
       "    </tr>\n",
       "    <tr>\n",
       "      <th>2003</th>\n",
       "      <td>Keagan Dolly</td>\n",
       "      <td>10396.0</td>\n",
       "      <td>South Africa</td>\n",
       "      <td>LAM</td>\n",
       "      <td>Sub</td>\n",
       "      <td>170.0</td>\n",
       "      <td>70.0</td>\n",
       "      <td>Left</td>\n",
       "      <td>24.0</td>\n",
       "      <td>High / Medium</td>\n",
       "      <td>...</td>\n",
       "      <td>65.0</td>\n",
       "      <td>23.0</td>\n",
       "      <td>58.0</td>\n",
       "      <td>68.0</td>\n",
       "      <td>73.0</td>\n",
       "      <td>70.0</td>\n",
       "      <td>69.0</td>\n",
       "      <td>54.0</td>\n",
       "      <td>61.0</td>\n",
       "      <td>1.0</td>\n",
       "    </tr>\n",
       "    <tr>\n",
       "      <th>2037</th>\n",
       "      <td>Vid Belec</td>\n",
       "      <td>10070.0</td>\n",
       "      <td>Slovenia</td>\n",
       "      <td>Sub</td>\n",
       "      <td>Sub</td>\n",
       "      <td>192.0</td>\n",
       "      <td>84.0</td>\n",
       "      <td>Right</td>\n",
       "      <td>26.0</td>\n",
       "      <td>Medium / Medium</td>\n",
       "      <td>...</td>\n",
       "      <td>75.0</td>\n",
       "      <td>13.0</td>\n",
       "      <td>23.0</td>\n",
       "      <td>10.0</td>\n",
       "      <td>16.0</td>\n",
       "      <td>11.0</td>\n",
       "      <td>13.0</td>\n",
       "      <td>23.0</td>\n",
       "      <td>10.0</td>\n",
       "      <td>1.0</td>\n",
       "    </tr>\n",
       "    <tr>\n",
       "      <th>2090</th>\n",
       "      <td>Stefanos Kapino</td>\n",
       "      <td>9613.0</td>\n",
       "      <td>Greece</td>\n",
       "      <td>Sub</td>\n",
       "      <td>GK</td>\n",
       "      <td>196.0</td>\n",
       "      <td>91.0</td>\n",
       "      <td>Right</td>\n",
       "      <td>23.0</td>\n",
       "      <td>Medium / Medium</td>\n",
       "      <td>...</td>\n",
       "      <td>71.0</td>\n",
       "      <td>12.0</td>\n",
       "      <td>20.0</td>\n",
       "      <td>13.0</td>\n",
       "      <td>19.0</td>\n",
       "      <td>14.0</td>\n",
       "      <td>18.0</td>\n",
       "      <td>26.0</td>\n",
       "      <td>19.0</td>\n",
       "      <td>1.0</td>\n",
       "    </tr>\n",
       "    <tr>\n",
       "      <th>2197</th>\n",
       "      <td>Karl-Johan Johnsson</td>\n",
       "      <td>7721.0</td>\n",
       "      <td>Sweden</td>\n",
       "      <td>Sub</td>\n",
       "      <td>GK</td>\n",
       "      <td>188.0</td>\n",
       "      <td>84.0</td>\n",
       "      <td>Right</td>\n",
       "      <td>27.0</td>\n",
       "      <td>Medium / Medium</td>\n",
       "      <td>...</td>\n",
       "      <td>72.0</td>\n",
       "      <td>19.0</td>\n",
       "      <td>21.0</td>\n",
       "      <td>13.0</td>\n",
       "      <td>13.0</td>\n",
       "      <td>12.0</td>\n",
       "      <td>11.0</td>\n",
       "      <td>17.0</td>\n",
       "      <td>19.0</td>\n",
       "      <td>1.0</td>\n",
       "    </tr>\n",
       "  </tbody>\n",
       "</table>\n",
       "<p>339 rows × 41 columns</p>\n",
       "</div>"
      ],
      "text/plain": [
       "                     Name  Weekly Salary   Nationality National_Position  \\\n",
       "0            Lionel Messi      1538905.0     Argentina                RW   \n",
       "1       Cristiano Ronaldo      1248536.0      Portugal                LS   \n",
       "2       Antoine Griezmann       997032.0        France               CAM   \n",
       "3                  Neymar       797726.0        Brazil                LW   \n",
       "4             Gareth Bale       607706.0         Wales                RS   \n",
       "...                   ...            ...           ...               ...   \n",
       "1985         Igor Lewczuk        10809.0        Poland               Sub   \n",
       "2003         Keagan Dolly        10396.0  South Africa               LAM   \n",
       "2037            Vid Belec        10070.0      Slovenia               Sub   \n",
       "2090      Stefanos Kapino         9613.0        Greece               Sub   \n",
       "2197  Karl-Johan Johnsson         7721.0        Sweden               Sub   \n",
       "\n",
       "     Club_Position  Height  Weight Preffered_Foot   Age        Work_Rate  ...  \\\n",
       "0               RW   170.0    72.0           Left  29.0  Medium / Medium  ...   \n",
       "1               LW   185.0    80.0          Right  32.0       High / Low  ...   \n",
       "2               RS   176.0    67.0           Left  26.0    High / Medium  ...   \n",
       "3               LW   174.0    68.0          Right  25.0    High / Medium  ...   \n",
       "4               RW   183.0    74.0           Left  27.0    High / Medium  ...   \n",
       "...            ...     ...     ...            ...   ...              ...  ...   \n",
       "1985           RCB   187.0    85.0          Right  31.0    High / Medium  ...   \n",
       "2003           Sub   170.0    70.0           Left  24.0    High / Medium  ...   \n",
       "2037           Sub   192.0    84.0          Right  26.0  Medium / Medium  ...   \n",
       "2090            GK   196.0    91.0          Right  23.0  Medium / Medium  ...   \n",
       "2197            GK   188.0    84.0          Right  27.0  Medium / Medium  ...   \n",
       "\n",
       "      Jumping  Heading  Shot_Power  Finishing  Long_Shots  Curve  \\\n",
       "0        68.0     71.0        85.0       95.0        88.0   89.0   \n",
       "1        95.0     85.0        92.0       93.0        90.0   81.0   \n",
       "2        87.0     80.0        81.0       88.0        82.0   84.0   \n",
       "3        61.0     62.0        78.0       89.0        77.0   79.0   \n",
       "4        85.0     86.0        91.0       87.0        90.0   86.0   \n",
       "...       ...      ...         ...        ...         ...    ...   \n",
       "1985     70.0     62.0        63.0       42.0        35.0   59.0   \n",
       "2003     65.0     23.0        58.0       68.0        73.0   70.0   \n",
       "2037     75.0     13.0        23.0       10.0        16.0   11.0   \n",
       "2090     71.0     12.0        20.0       13.0        19.0   14.0   \n",
       "2197     72.0     19.0        21.0       13.0        13.0   12.0   \n",
       "\n",
       "      Freekick_Accuracy  Penalties  Volleys  LABEL  \n",
       "0                  90.0       74.0     85.0    1.0  \n",
       "1                  76.0       85.0     88.0    1.0  \n",
       "2                  75.0       71.0     87.0    1.0  \n",
       "3                  84.0       81.0     83.0    1.0  \n",
       "4                  85.0       76.0     76.0    1.0  \n",
       "...                 ...        ...      ...    ...  \n",
       "1985               34.0       52.0     34.0    1.0  \n",
       "2003               69.0       54.0     61.0    1.0  \n",
       "2037               13.0       23.0     10.0    1.0  \n",
       "2090               18.0       26.0     19.0    1.0  \n",
       "2197               11.0       17.0     19.0    1.0  \n",
       "\n",
       "[339 rows x 41 columns]"
      ]
     },
     "execution_count": 161,
     "metadata": {},
     "output_type": "execute_result"
    }
   ],
   "source": [
    "df_players_salarios"
   ]
  },
  {
   "cell_type": "code",
   "execution_count": 162,
   "metadata": {},
   "outputs": [
    {
     "name": "stdout",
     "output_type": "stream",
     "text": [
      "<class 'pandas.core.frame.DataFrame'>\n",
      "Int64Index: 339 entries, 0 to 2197\n",
      "Data columns (total 41 columns):\n",
      " #   Column             Non-Null Count  Dtype  \n",
      "---  ------             --------------  -----  \n",
      " 0   Name               339 non-null    object \n",
      " 1   Weekly Salary      339 non-null    float64\n",
      " 2   Nationality        339 non-null    object \n",
      " 3   National_Position  339 non-null    object \n",
      " 4   Club_Position      339 non-null    object \n",
      " 5   Height             339 non-null    float64\n",
      " 6   Weight             339 non-null    float64\n",
      " 7   Preffered_Foot     339 non-null    object \n",
      " 8   Age                339 non-null    float64\n",
      " 9   Work_Rate          339 non-null    object \n",
      " 10  Weak_foot          339 non-null    float64\n",
      " 11  Skill_Moves        339 non-null    float64\n",
      " 12  Ball_Control       339 non-null    float64\n",
      " 13  Dribbling          339 non-null    float64\n",
      " 14  Marking            339 non-null    float64\n",
      " 15  Sliding_Tackle     339 non-null    float64\n",
      " 16  Standing_Tackle    339 non-null    float64\n",
      " 17  Aggression         339 non-null    float64\n",
      " 18  Reactions          339 non-null    float64\n",
      " 19  Interceptions      339 non-null    float64\n",
      " 20  Vision             339 non-null    float64\n",
      " 21  Composure          339 non-null    float64\n",
      " 22  Crossing           339 non-null    float64\n",
      " 23  Short_Pass         339 non-null    float64\n",
      " 24  Long_Pass          339 non-null    float64\n",
      " 25  Acceleration       339 non-null    float64\n",
      " 26  Speed              339 non-null    float64\n",
      " 27  Stamina            339 non-null    float64\n",
      " 28  Strength           339 non-null    float64\n",
      " 29  Balance            339 non-null    float64\n",
      " 30  Agility            339 non-null    float64\n",
      " 31  Jumping            339 non-null    float64\n",
      " 32  Heading            339 non-null    float64\n",
      " 33  Shot_Power         339 non-null    float64\n",
      " 34  Finishing          339 non-null    float64\n",
      " 35  Long_Shots         339 non-null    float64\n",
      " 36  Curve              339 non-null    float64\n",
      " 37  Freekick_Accuracy  339 non-null    float64\n",
      " 38  Penalties          339 non-null    float64\n",
      " 39  Volleys            339 non-null    float64\n",
      " 40  LABEL              339 non-null    float64\n",
      "dtypes: float64(35), object(6)\n",
      "memory usage: 111.2+ KB\n"
     ]
    }
   ],
   "source": [
    "df_players_salarios.info()"
   ]
  },
  {
   "cell_type": "code",
   "execution_count": 164,
   "metadata": {},
   "outputs": [],
   "source": [
    "from sklearn.linear_model import LinearRegression"
   ]
  },
  {
   "cell_type": "code",
   "execution_count": 412,
   "metadata": {},
   "outputs": [],
   "source": [
    "### Código aquí ###\n",
    "cols = df_players_salarios.columns\n",
    "cols_categorical = []\n",
    "cols_num = [c for c in cols if (c not in cols_categorical) and (c not in [\"Name\", \"Weekly Salary\", \"Nationality\", \"Preffered_Foot\", \"Work_Rate\", \"National_Position\", \"Club_Position\"])]\n",
    "\n",
    "ct = ColumnTransformer([(\"Standard\", MinMaxScaler(), cols_num), (\"OneHotEncoder\", OneHotEncoder(handle_unknown='ignore'), cols_categorical)])"
   ]
  },
  {
   "cell_type": "code",
   "execution_count": 413,
   "metadata": {},
   "outputs": [],
   "source": [
    "from sklearn.feature_selection import SelectKBest, chi2, VarianceThreshold"
   ]
  },
  {
   "cell_type": "code",
   "execution_count": 445,
   "metadata": {},
   "outputs": [],
   "source": [
    "linear_regression = LinearRegression()\n",
    "pipe_linear_regression = Pipeline([\n",
    "    ('scaler', ct),\n",
    "    ('regression', linear_regression)\n",
    "    ])"
   ]
  },
  {
   "cell_type": "code",
   "execution_count": 446,
   "metadata": {},
   "outputs": [],
   "source": [
    "### Código aquí ###\n",
    "X, y = df_players_salarios[cols_categorical+cols_num], df_players_salarios[\"Weekly Salary\"]\n",
    "X_train, X_test, y_train, y_test = train_test_split(X, y, test_size=0.20, random_state=69)"
   ]
  },
  {
   "cell_type": "code",
   "execution_count": 447,
   "metadata": {},
   "outputs": [
    {
     "name": "stdout",
     "output_type": "stream",
     "text": [
      "Wall time: 7.99 ms\n"
     ]
    },
    {
     "data": {
      "text/plain": [
       "Pipeline(steps=[('scaler',\n",
       "                 ColumnTransformer(transformers=[('Standard', MinMaxScaler(),\n",
       "                                                  ['Height', 'Weight', 'Age',\n",
       "                                                   'Weak_foot', 'Skill_Moves',\n",
       "                                                   'Ball_Control', 'Dribbling',\n",
       "                                                   'Marking', 'Sliding_Tackle',\n",
       "                                                   'Standing_Tackle',\n",
       "                                                   'Aggression', 'Reactions',\n",
       "                                                   'Interceptions', 'Vision',\n",
       "                                                   'Composure', 'Crossing',\n",
       "                                                   'Short_Pass', 'Long_Pass',\n",
       "                                                   'Acceleration', 'Speed',\n",
       "                                                   'Stamina', 'Strength',\n",
       "                                                   'Balance', 'Agility',\n",
       "                                                   'Jumping', 'Heading',\n",
       "                                                   'Shot_Power', 'Finishing',\n",
       "                                                   'Long_Shots', 'Curve', ...]),\n",
       "                                                 ('OneHotEncoder',\n",
       "                                                  OneHotEncoder(handle_unknown='ignore'),\n",
       "                                                  [])])),\n",
       "                ('regression', LinearRegression())])"
      ]
     },
     "execution_count": 447,
     "metadata": {},
     "output_type": "execute_result"
    }
   ],
   "source": [
    "%%time\n",
    "pipe_linear_regression.fit(X_train, y_train)"
   ]
  },
  {
   "cell_type": "code",
   "execution_count": 448,
   "metadata": {},
   "outputs": [
    {
     "data": {
      "text/plain": [
       "0.4529240254830784"
      ]
     },
     "execution_count": 448,
     "metadata": {},
     "output_type": "execute_result"
    }
   ],
   "source": [
    "pipe_linear_regression.score(X_train, y_train)"
   ]
  },
  {
   "cell_type": "code",
   "execution_count": 449,
   "metadata": {},
   "outputs": [
    {
     "data": {
      "text/plain": [
       "0.3624028559932517"
      ]
     },
     "execution_count": 449,
     "metadata": {},
     "output_type": "execute_result"
    }
   ],
   "source": [
    "pipe_linear_regression.score(X_test, y_test)"
   ]
  },
  {
   "cell_type": "code",
   "execution_count": 450,
   "metadata": {},
   "outputs": [
    {
     "name": "stdout",
     "output_type": "stream",
     "text": [
      "Wall time: 4.96 ms\n"
     ]
    }
   ],
   "source": [
    "%%time\n",
    "linear_regression_pred = pipe_linear_regression.predict(X_test)"
   ]
  },
  {
   "cell_type": "markdown",
   "metadata": {},
   "source": [
    "### Obtener un regresor con un $𝑅^2$ superior a 0.35."
   ]
  },
  {
   "cell_type": "code",
   "execution_count": 451,
   "metadata": {},
   "outputs": [],
   "source": [
    "from sklearn.metrics import r2_score"
   ]
  },
  {
   "cell_type": "code",
   "execution_count": 452,
   "metadata": {},
   "outputs": [
    {
     "data": {
      "text/plain": [
       "0.3624028559932517"
      ]
     },
     "execution_count": 452,
     "metadata": {},
     "output_type": "execute_result"
    }
   ],
   "source": [
    "r2_score(y_test, linear_regression_pred)"
   ]
  },
  {
   "cell_type": "code",
   "execution_count": 453,
   "metadata": {},
   "outputs": [
    {
     "data": {
      "application/vnd.plotly.v1+json": {
       "config": {
        "plotlyServerURL": "https://plot.ly"
       },
       "data": [
        {
         "hovertemplate": "x=%{x}<br>y=%{y}<extra></extra>",
         "legendgroup": "",
         "marker": {
          "color": "#636efa",
          "symbol": "circle"
         },
         "mode": "markers",
         "name": "",
         "orientation": "v",
         "showlegend": false,
         "type": "scatter",
         "x": [
          26387,
          434977,
          197900,
          54397,
          92353,
          161094,
          13006,
          346785,
          46177,
          79160,
          163421,
          281930,
          131933,
          55412,
          59370,
          461765,
          156048,
          112143,
          131933,
          260986,
          9613,
          400548,
          80471,
          97870,
          40279,
          289238,
          98631,
          182060,
          151720,
          120837,
          325124,
          158320,
          797726,
          84581,
          148044,
          67508,
          32623,
          20139,
          92353,
          171513,
          23697,
          75860,
          24054,
          185278,
          997032,
          181233,
          105546,
          303624,
          263866,
          93303,
          60418,
          92353,
          56395,
          234083,
          56731,
          508923,
          80558,
          54372,
          39580,
          12071,
          281778,
          184706,
          45238,
          461765,
          60418,
          39452,
          131933,
          65966
         ],
         "xaxis": "x",
         "y": [
          -14237.751647366968,
          256682.44205728854,
          244385.39259177662,
          103962.90367265127,
          59566.39892987255,
          115683.08665413602,
          64523.377267280535,
          208441.67050720804,
          159330.99754579883,
          52911.08104383503,
          277925.7152782322,
          281524.7692673901,
          155771.95796125772,
          68695.80364992964,
          147737.74388047797,
          293240.0398886168,
          132315.5976656599,
          171801.44103997637,
          118711.0955563868,
          -13144.50590258115,
          117312.15204458789,
          135133.20163208625,
          79078.57368167373,
          141300.6004168871,
          65778.88583393279,
          329351.13363416336,
          200576.39297353226,
          137529.63100554183,
          244247.75692493987,
          192992.7235462233,
          159534.81223541015,
          244061.35613840033,
          340114.8595429392,
          147660.29280777537,
          177638.44666381233,
          250045.28650721762,
          148834.0477205153,
          -36654.69965518074,
          155023.57098846108,
          94806.38666162355,
          -5534.598165087926,
          139438.5445509145,
          49519.64784597099,
          208211.22770685685,
          286993.7482132591,
          230564.51254537964,
          176141.6346322684,
          320684.7514427966,
          154942.0831230405,
          141116.61650048406,
          40336.86590171239,
          19408.461538068543,
          234873.9078146206,
          173440.18964699382,
          -71045.74972714955,
          359879.79832008836,
          -31962.23387715046,
          99714.12718126405,
          -68435.05393733032,
          -47733.4758505628,
          195776.43628356297,
          161442.7242636871,
          -3421.64143518504,
          266155.005858803,
          63523.40533831244,
          52913.16471329809,
          241028.8425416047,
          148359.2842931979
         ],
         "yaxis": "y"
        }
       ],
       "layout": {
        "legend": {
         "tracegroupgap": 0
        },
        "margin": {
         "t": 60
        },
        "template": {
         "data": {
          "bar": [
           {
            "error_x": {
             "color": "#2a3f5f"
            },
            "error_y": {
             "color": "#2a3f5f"
            },
            "marker": {
             "line": {
              "color": "#E5ECF6",
              "width": 0.5
             },
             "pattern": {
              "fillmode": "overlay",
              "size": 10,
              "solidity": 0.2
             }
            },
            "type": "bar"
           }
          ],
          "barpolar": [
           {
            "marker": {
             "line": {
              "color": "#E5ECF6",
              "width": 0.5
             },
             "pattern": {
              "fillmode": "overlay",
              "size": 10,
              "solidity": 0.2
             }
            },
            "type": "barpolar"
           }
          ],
          "carpet": [
           {
            "aaxis": {
             "endlinecolor": "#2a3f5f",
             "gridcolor": "white",
             "linecolor": "white",
             "minorgridcolor": "white",
             "startlinecolor": "#2a3f5f"
            },
            "baxis": {
             "endlinecolor": "#2a3f5f",
             "gridcolor": "white",
             "linecolor": "white",
             "minorgridcolor": "white",
             "startlinecolor": "#2a3f5f"
            },
            "type": "carpet"
           }
          ],
          "choropleth": [
           {
            "colorbar": {
             "outlinewidth": 0,
             "ticks": ""
            },
            "type": "choropleth"
           }
          ],
          "contour": [
           {
            "colorbar": {
             "outlinewidth": 0,
             "ticks": ""
            },
            "colorscale": [
             [
              0,
              "#0d0887"
             ],
             [
              0.1111111111111111,
              "#46039f"
             ],
             [
              0.2222222222222222,
              "#7201a8"
             ],
             [
              0.3333333333333333,
              "#9c179e"
             ],
             [
              0.4444444444444444,
              "#bd3786"
             ],
             [
              0.5555555555555556,
              "#d8576b"
             ],
             [
              0.6666666666666666,
              "#ed7953"
             ],
             [
              0.7777777777777778,
              "#fb9f3a"
             ],
             [
              0.8888888888888888,
              "#fdca26"
             ],
             [
              1,
              "#f0f921"
             ]
            ],
            "type": "contour"
           }
          ],
          "contourcarpet": [
           {
            "colorbar": {
             "outlinewidth": 0,
             "ticks": ""
            },
            "type": "contourcarpet"
           }
          ],
          "heatmap": [
           {
            "colorbar": {
             "outlinewidth": 0,
             "ticks": ""
            },
            "colorscale": [
             [
              0,
              "#0d0887"
             ],
             [
              0.1111111111111111,
              "#46039f"
             ],
             [
              0.2222222222222222,
              "#7201a8"
             ],
             [
              0.3333333333333333,
              "#9c179e"
             ],
             [
              0.4444444444444444,
              "#bd3786"
             ],
             [
              0.5555555555555556,
              "#d8576b"
             ],
             [
              0.6666666666666666,
              "#ed7953"
             ],
             [
              0.7777777777777778,
              "#fb9f3a"
             ],
             [
              0.8888888888888888,
              "#fdca26"
             ],
             [
              1,
              "#f0f921"
             ]
            ],
            "type": "heatmap"
           }
          ],
          "heatmapgl": [
           {
            "colorbar": {
             "outlinewidth": 0,
             "ticks": ""
            },
            "colorscale": [
             [
              0,
              "#0d0887"
             ],
             [
              0.1111111111111111,
              "#46039f"
             ],
             [
              0.2222222222222222,
              "#7201a8"
             ],
             [
              0.3333333333333333,
              "#9c179e"
             ],
             [
              0.4444444444444444,
              "#bd3786"
             ],
             [
              0.5555555555555556,
              "#d8576b"
             ],
             [
              0.6666666666666666,
              "#ed7953"
             ],
             [
              0.7777777777777778,
              "#fb9f3a"
             ],
             [
              0.8888888888888888,
              "#fdca26"
             ],
             [
              1,
              "#f0f921"
             ]
            ],
            "type": "heatmapgl"
           }
          ],
          "histogram": [
           {
            "marker": {
             "pattern": {
              "fillmode": "overlay",
              "size": 10,
              "solidity": 0.2
             }
            },
            "type": "histogram"
           }
          ],
          "histogram2d": [
           {
            "colorbar": {
             "outlinewidth": 0,
             "ticks": ""
            },
            "colorscale": [
             [
              0,
              "#0d0887"
             ],
             [
              0.1111111111111111,
              "#46039f"
             ],
             [
              0.2222222222222222,
              "#7201a8"
             ],
             [
              0.3333333333333333,
              "#9c179e"
             ],
             [
              0.4444444444444444,
              "#bd3786"
             ],
             [
              0.5555555555555556,
              "#d8576b"
             ],
             [
              0.6666666666666666,
              "#ed7953"
             ],
             [
              0.7777777777777778,
              "#fb9f3a"
             ],
             [
              0.8888888888888888,
              "#fdca26"
             ],
             [
              1,
              "#f0f921"
             ]
            ],
            "type": "histogram2d"
           }
          ],
          "histogram2dcontour": [
           {
            "colorbar": {
             "outlinewidth": 0,
             "ticks": ""
            },
            "colorscale": [
             [
              0,
              "#0d0887"
             ],
             [
              0.1111111111111111,
              "#46039f"
             ],
             [
              0.2222222222222222,
              "#7201a8"
             ],
             [
              0.3333333333333333,
              "#9c179e"
             ],
             [
              0.4444444444444444,
              "#bd3786"
             ],
             [
              0.5555555555555556,
              "#d8576b"
             ],
             [
              0.6666666666666666,
              "#ed7953"
             ],
             [
              0.7777777777777778,
              "#fb9f3a"
             ],
             [
              0.8888888888888888,
              "#fdca26"
             ],
             [
              1,
              "#f0f921"
             ]
            ],
            "type": "histogram2dcontour"
           }
          ],
          "mesh3d": [
           {
            "colorbar": {
             "outlinewidth": 0,
             "ticks": ""
            },
            "type": "mesh3d"
           }
          ],
          "parcoords": [
           {
            "line": {
             "colorbar": {
              "outlinewidth": 0,
              "ticks": ""
             }
            },
            "type": "parcoords"
           }
          ],
          "pie": [
           {
            "automargin": true,
            "type": "pie"
           }
          ],
          "scatter": [
           {
            "fillpattern": {
             "fillmode": "overlay",
             "size": 10,
             "solidity": 0.2
            },
            "type": "scatter"
           }
          ],
          "scatter3d": [
           {
            "line": {
             "colorbar": {
              "outlinewidth": 0,
              "ticks": ""
             }
            },
            "marker": {
             "colorbar": {
              "outlinewidth": 0,
              "ticks": ""
             }
            },
            "type": "scatter3d"
           }
          ],
          "scattercarpet": [
           {
            "marker": {
             "colorbar": {
              "outlinewidth": 0,
              "ticks": ""
             }
            },
            "type": "scattercarpet"
           }
          ],
          "scattergeo": [
           {
            "marker": {
             "colorbar": {
              "outlinewidth": 0,
              "ticks": ""
             }
            },
            "type": "scattergeo"
           }
          ],
          "scattergl": [
           {
            "marker": {
             "colorbar": {
              "outlinewidth": 0,
              "ticks": ""
             }
            },
            "type": "scattergl"
           }
          ],
          "scattermapbox": [
           {
            "marker": {
             "colorbar": {
              "outlinewidth": 0,
              "ticks": ""
             }
            },
            "type": "scattermapbox"
           }
          ],
          "scatterpolar": [
           {
            "marker": {
             "colorbar": {
              "outlinewidth": 0,
              "ticks": ""
             }
            },
            "type": "scatterpolar"
           }
          ],
          "scatterpolargl": [
           {
            "marker": {
             "colorbar": {
              "outlinewidth": 0,
              "ticks": ""
             }
            },
            "type": "scatterpolargl"
           }
          ],
          "scatterternary": [
           {
            "marker": {
             "colorbar": {
              "outlinewidth": 0,
              "ticks": ""
             }
            },
            "type": "scatterternary"
           }
          ],
          "surface": [
           {
            "colorbar": {
             "outlinewidth": 0,
             "ticks": ""
            },
            "colorscale": [
             [
              0,
              "#0d0887"
             ],
             [
              0.1111111111111111,
              "#46039f"
             ],
             [
              0.2222222222222222,
              "#7201a8"
             ],
             [
              0.3333333333333333,
              "#9c179e"
             ],
             [
              0.4444444444444444,
              "#bd3786"
             ],
             [
              0.5555555555555556,
              "#d8576b"
             ],
             [
              0.6666666666666666,
              "#ed7953"
             ],
             [
              0.7777777777777778,
              "#fb9f3a"
             ],
             [
              0.8888888888888888,
              "#fdca26"
             ],
             [
              1,
              "#f0f921"
             ]
            ],
            "type": "surface"
           }
          ],
          "table": [
           {
            "cells": {
             "fill": {
              "color": "#EBF0F8"
             },
             "line": {
              "color": "white"
             }
            },
            "header": {
             "fill": {
              "color": "#C8D4E3"
             },
             "line": {
              "color": "white"
             }
            },
            "type": "table"
           }
          ]
         },
         "layout": {
          "annotationdefaults": {
           "arrowcolor": "#2a3f5f",
           "arrowhead": 0,
           "arrowwidth": 1
          },
          "autotypenumbers": "strict",
          "coloraxis": {
           "colorbar": {
            "outlinewidth": 0,
            "ticks": ""
           }
          },
          "colorscale": {
           "diverging": [
            [
             0,
             "#8e0152"
            ],
            [
             0.1,
             "#c51b7d"
            ],
            [
             0.2,
             "#de77ae"
            ],
            [
             0.3,
             "#f1b6da"
            ],
            [
             0.4,
             "#fde0ef"
            ],
            [
             0.5,
             "#f7f7f7"
            ],
            [
             0.6,
             "#e6f5d0"
            ],
            [
             0.7,
             "#b8e186"
            ],
            [
             0.8,
             "#7fbc41"
            ],
            [
             0.9,
             "#4d9221"
            ],
            [
             1,
             "#276419"
            ]
           ],
           "sequential": [
            [
             0,
             "#0d0887"
            ],
            [
             0.1111111111111111,
             "#46039f"
            ],
            [
             0.2222222222222222,
             "#7201a8"
            ],
            [
             0.3333333333333333,
             "#9c179e"
            ],
            [
             0.4444444444444444,
             "#bd3786"
            ],
            [
             0.5555555555555556,
             "#d8576b"
            ],
            [
             0.6666666666666666,
             "#ed7953"
            ],
            [
             0.7777777777777778,
             "#fb9f3a"
            ],
            [
             0.8888888888888888,
             "#fdca26"
            ],
            [
             1,
             "#f0f921"
            ]
           ],
           "sequentialminus": [
            [
             0,
             "#0d0887"
            ],
            [
             0.1111111111111111,
             "#46039f"
            ],
            [
             0.2222222222222222,
             "#7201a8"
            ],
            [
             0.3333333333333333,
             "#9c179e"
            ],
            [
             0.4444444444444444,
             "#bd3786"
            ],
            [
             0.5555555555555556,
             "#d8576b"
            ],
            [
             0.6666666666666666,
             "#ed7953"
            ],
            [
             0.7777777777777778,
             "#fb9f3a"
            ],
            [
             0.8888888888888888,
             "#fdca26"
            ],
            [
             1,
             "#f0f921"
            ]
           ]
          },
          "colorway": [
           "#636efa",
           "#EF553B",
           "#00cc96",
           "#ab63fa",
           "#FFA15A",
           "#19d3f3",
           "#FF6692",
           "#B6E880",
           "#FF97FF",
           "#FECB52"
          ],
          "font": {
           "color": "#2a3f5f"
          },
          "geo": {
           "bgcolor": "white",
           "lakecolor": "white",
           "landcolor": "#E5ECF6",
           "showlakes": true,
           "showland": true,
           "subunitcolor": "white"
          },
          "hoverlabel": {
           "align": "left"
          },
          "hovermode": "closest",
          "mapbox": {
           "style": "light"
          },
          "paper_bgcolor": "white",
          "plot_bgcolor": "#E5ECF6",
          "polar": {
           "angularaxis": {
            "gridcolor": "white",
            "linecolor": "white",
            "ticks": ""
           },
           "bgcolor": "#E5ECF6",
           "radialaxis": {
            "gridcolor": "white",
            "linecolor": "white",
            "ticks": ""
           }
          },
          "scene": {
           "xaxis": {
            "backgroundcolor": "#E5ECF6",
            "gridcolor": "white",
            "gridwidth": 2,
            "linecolor": "white",
            "showbackground": true,
            "ticks": "",
            "zerolinecolor": "white"
           },
           "yaxis": {
            "backgroundcolor": "#E5ECF6",
            "gridcolor": "white",
            "gridwidth": 2,
            "linecolor": "white",
            "showbackground": true,
            "ticks": "",
            "zerolinecolor": "white"
           },
           "zaxis": {
            "backgroundcolor": "#E5ECF6",
            "gridcolor": "white",
            "gridwidth": 2,
            "linecolor": "white",
            "showbackground": true,
            "ticks": "",
            "zerolinecolor": "white"
           }
          },
          "shapedefaults": {
           "line": {
            "color": "#2a3f5f"
           }
          },
          "ternary": {
           "aaxis": {
            "gridcolor": "white",
            "linecolor": "white",
            "ticks": ""
           },
           "baxis": {
            "gridcolor": "white",
            "linecolor": "white",
            "ticks": ""
           },
           "bgcolor": "#E5ECF6",
           "caxis": {
            "gridcolor": "white",
            "linecolor": "white",
            "ticks": ""
           }
          },
          "title": {
           "x": 0.05
          },
          "xaxis": {
           "automargin": true,
           "gridcolor": "white",
           "linecolor": "white",
           "ticks": "",
           "title": {
            "standoff": 15
           },
           "zerolinecolor": "white",
           "zerolinewidth": 2
          },
          "yaxis": {
           "automargin": true,
           "gridcolor": "white",
           "linecolor": "white",
           "ticks": "",
           "title": {
            "standoff": 15
           },
           "zerolinecolor": "white",
           "zerolinewidth": 2
          }
         }
        },
        "xaxis": {
         "anchor": "y",
         "domain": [
          0,
          1
         ],
         "title": {
          "text": "x"
         }
        },
        "yaxis": {
         "anchor": "x",
         "domain": [
          0,
          1
         ],
         "title": {
          "text": "y"
         }
        }
       }
      },
      "text/html": [
       "<div>                            <div id=\"971acc3f-502b-4af5-a059-4c66f258a4a9\" class=\"plotly-graph-div\" style=\"height:525px; width:100%;\"></div>            <script type=\"text/javascript\">                require([\"plotly\"], function(Plotly) {                    window.PLOTLYENV=window.PLOTLYENV || {};                                    if (document.getElementById(\"971acc3f-502b-4af5-a059-4c66f258a4a9\")) {                    Plotly.newPlot(                        \"971acc3f-502b-4af5-a059-4c66f258a4a9\",                        [{\"hovertemplate\":\"x=%{x}<br>y=%{y}<extra></extra>\",\"legendgroup\":\"\",\"marker\":{\"color\":\"#636efa\",\"symbol\":\"circle\"},\"mode\":\"markers\",\"name\":\"\",\"orientation\":\"v\",\"showlegend\":false,\"x\":[26387.0,434977.0,197900.0,54397.0,92353.0,161094.0,13006.0,346785.0,46177.0,79160.0,163421.0,281930.0,131933.0,55412.0,59370.0,461765.0,156048.0,112143.0,131933.0,260986.0,9613.0,400548.0,80471.0,97870.0,40279.0,289238.0,98631.0,182060.0,151720.0,120837.0,325124.0,158320.0,797726.0,84581.0,148044.0,67508.0,32623.0,20139.0,92353.0,171513.0,23697.0,75860.0,24054.0,185278.0,997032.0,181233.0,105546.0,303624.0,263866.0,93303.0,60418.0,92353.0,56395.0,234083.0,56731.0,508923.0,80558.0,54372.0,39580.0,12071.0,281778.0,184706.0,45238.0,461765.0,60418.0,39452.0,131933.0,65966.0],\"xaxis\":\"x\",\"y\":[-14237.751647366968,256682.44205728854,244385.39259177662,103962.90367265127,59566.39892987255,115683.08665413602,64523.377267280535,208441.67050720804,159330.99754579883,52911.08104383503,277925.7152782322,281524.7692673901,155771.95796125772,68695.80364992964,147737.74388047797,293240.0398886168,132315.5976656599,171801.44103997637,118711.0955563868,-13144.50590258115,117312.15204458789,135133.20163208625,79078.57368167373,141300.6004168871,65778.88583393279,329351.13363416336,200576.39297353226,137529.63100554183,244247.75692493987,192992.7235462233,159534.81223541015,244061.35613840033,340114.8595429392,147660.29280777537,177638.44666381233,250045.28650721762,148834.0477205153,-36654.69965518074,155023.57098846108,94806.38666162355,-5534.598165087926,139438.5445509145,49519.64784597099,208211.22770685685,286993.7482132591,230564.51254537964,176141.6346322684,320684.7514427966,154942.0831230405,141116.61650048406,40336.86590171239,19408.461538068543,234873.9078146206,173440.18964699382,-71045.74972714955,359879.79832008836,-31962.23387715046,99714.12718126405,-68435.05393733032,-47733.4758505628,195776.43628356297,161442.7242636871,-3421.64143518504,266155.005858803,63523.40533831244,52913.16471329809,241028.8425416047,148359.2842931979],\"yaxis\":\"y\",\"type\":\"scatter\"}],                        {\"template\":{\"data\":{\"histogram2dcontour\":[{\"type\":\"histogram2dcontour\",\"colorbar\":{\"outlinewidth\":0,\"ticks\":\"\"},\"colorscale\":[[0.0,\"#0d0887\"],[0.1111111111111111,\"#46039f\"],[0.2222222222222222,\"#7201a8\"],[0.3333333333333333,\"#9c179e\"],[0.4444444444444444,\"#bd3786\"],[0.5555555555555556,\"#d8576b\"],[0.6666666666666666,\"#ed7953\"],[0.7777777777777778,\"#fb9f3a\"],[0.8888888888888888,\"#fdca26\"],[1.0,\"#f0f921\"]]}],\"choropleth\":[{\"type\":\"choropleth\",\"colorbar\":{\"outlinewidth\":0,\"ticks\":\"\"}}],\"histogram2d\":[{\"type\":\"histogram2d\",\"colorbar\":{\"outlinewidth\":0,\"ticks\":\"\"},\"colorscale\":[[0.0,\"#0d0887\"],[0.1111111111111111,\"#46039f\"],[0.2222222222222222,\"#7201a8\"],[0.3333333333333333,\"#9c179e\"],[0.4444444444444444,\"#bd3786\"],[0.5555555555555556,\"#d8576b\"],[0.6666666666666666,\"#ed7953\"],[0.7777777777777778,\"#fb9f3a\"],[0.8888888888888888,\"#fdca26\"],[1.0,\"#f0f921\"]]}],\"heatmap\":[{\"type\":\"heatmap\",\"colorbar\":{\"outlinewidth\":0,\"ticks\":\"\"},\"colorscale\":[[0.0,\"#0d0887\"],[0.1111111111111111,\"#46039f\"],[0.2222222222222222,\"#7201a8\"],[0.3333333333333333,\"#9c179e\"],[0.4444444444444444,\"#bd3786\"],[0.5555555555555556,\"#d8576b\"],[0.6666666666666666,\"#ed7953\"],[0.7777777777777778,\"#fb9f3a\"],[0.8888888888888888,\"#fdca26\"],[1.0,\"#f0f921\"]]}],\"heatmapgl\":[{\"type\":\"heatmapgl\",\"colorbar\":{\"outlinewidth\":0,\"ticks\":\"\"},\"colorscale\":[[0.0,\"#0d0887\"],[0.1111111111111111,\"#46039f\"],[0.2222222222222222,\"#7201a8\"],[0.3333333333333333,\"#9c179e\"],[0.4444444444444444,\"#bd3786\"],[0.5555555555555556,\"#d8576b\"],[0.6666666666666666,\"#ed7953\"],[0.7777777777777778,\"#fb9f3a\"],[0.8888888888888888,\"#fdca26\"],[1.0,\"#f0f921\"]]}],\"contourcarpet\":[{\"type\":\"contourcarpet\",\"colorbar\":{\"outlinewidth\":0,\"ticks\":\"\"}}],\"contour\":[{\"type\":\"contour\",\"colorbar\":{\"outlinewidth\":0,\"ticks\":\"\"},\"colorscale\":[[0.0,\"#0d0887\"],[0.1111111111111111,\"#46039f\"],[0.2222222222222222,\"#7201a8\"],[0.3333333333333333,\"#9c179e\"],[0.4444444444444444,\"#bd3786\"],[0.5555555555555556,\"#d8576b\"],[0.6666666666666666,\"#ed7953\"],[0.7777777777777778,\"#fb9f3a\"],[0.8888888888888888,\"#fdca26\"],[1.0,\"#f0f921\"]]}],\"surface\":[{\"type\":\"surface\",\"colorbar\":{\"outlinewidth\":0,\"ticks\":\"\"},\"colorscale\":[[0.0,\"#0d0887\"],[0.1111111111111111,\"#46039f\"],[0.2222222222222222,\"#7201a8\"],[0.3333333333333333,\"#9c179e\"],[0.4444444444444444,\"#bd3786\"],[0.5555555555555556,\"#d8576b\"],[0.6666666666666666,\"#ed7953\"],[0.7777777777777778,\"#fb9f3a\"],[0.8888888888888888,\"#fdca26\"],[1.0,\"#f0f921\"]]}],\"mesh3d\":[{\"type\":\"mesh3d\",\"colorbar\":{\"outlinewidth\":0,\"ticks\":\"\"}}],\"scatter\":[{\"fillpattern\":{\"fillmode\":\"overlay\",\"size\":10,\"solidity\":0.2},\"type\":\"scatter\"}],\"parcoords\":[{\"type\":\"parcoords\",\"line\":{\"colorbar\":{\"outlinewidth\":0,\"ticks\":\"\"}}}],\"scatterpolargl\":[{\"type\":\"scatterpolargl\",\"marker\":{\"colorbar\":{\"outlinewidth\":0,\"ticks\":\"\"}}}],\"bar\":[{\"error_x\":{\"color\":\"#2a3f5f\"},\"error_y\":{\"color\":\"#2a3f5f\"},\"marker\":{\"line\":{\"color\":\"#E5ECF6\",\"width\":0.5},\"pattern\":{\"fillmode\":\"overlay\",\"size\":10,\"solidity\":0.2}},\"type\":\"bar\"}],\"scattergeo\":[{\"type\":\"scattergeo\",\"marker\":{\"colorbar\":{\"outlinewidth\":0,\"ticks\":\"\"}}}],\"scatterpolar\":[{\"type\":\"scatterpolar\",\"marker\":{\"colorbar\":{\"outlinewidth\":0,\"ticks\":\"\"}}}],\"histogram\":[{\"marker\":{\"pattern\":{\"fillmode\":\"overlay\",\"size\":10,\"solidity\":0.2}},\"type\":\"histogram\"}],\"scattergl\":[{\"type\":\"scattergl\",\"marker\":{\"colorbar\":{\"outlinewidth\":0,\"ticks\":\"\"}}}],\"scatter3d\":[{\"type\":\"scatter3d\",\"line\":{\"colorbar\":{\"outlinewidth\":0,\"ticks\":\"\"}},\"marker\":{\"colorbar\":{\"outlinewidth\":0,\"ticks\":\"\"}}}],\"scattermapbox\":[{\"type\":\"scattermapbox\",\"marker\":{\"colorbar\":{\"outlinewidth\":0,\"ticks\":\"\"}}}],\"scatterternary\":[{\"type\":\"scatterternary\",\"marker\":{\"colorbar\":{\"outlinewidth\":0,\"ticks\":\"\"}}}],\"scattercarpet\":[{\"type\":\"scattercarpet\",\"marker\":{\"colorbar\":{\"outlinewidth\":0,\"ticks\":\"\"}}}],\"carpet\":[{\"aaxis\":{\"endlinecolor\":\"#2a3f5f\",\"gridcolor\":\"white\",\"linecolor\":\"white\",\"minorgridcolor\":\"white\",\"startlinecolor\":\"#2a3f5f\"},\"baxis\":{\"endlinecolor\":\"#2a3f5f\",\"gridcolor\":\"white\",\"linecolor\":\"white\",\"minorgridcolor\":\"white\",\"startlinecolor\":\"#2a3f5f\"},\"type\":\"carpet\"}],\"table\":[{\"cells\":{\"fill\":{\"color\":\"#EBF0F8\"},\"line\":{\"color\":\"white\"}},\"header\":{\"fill\":{\"color\":\"#C8D4E3\"},\"line\":{\"color\":\"white\"}},\"type\":\"table\"}],\"barpolar\":[{\"marker\":{\"line\":{\"color\":\"#E5ECF6\",\"width\":0.5},\"pattern\":{\"fillmode\":\"overlay\",\"size\":10,\"solidity\":0.2}},\"type\":\"barpolar\"}],\"pie\":[{\"automargin\":true,\"type\":\"pie\"}]},\"layout\":{\"autotypenumbers\":\"strict\",\"colorway\":[\"#636efa\",\"#EF553B\",\"#00cc96\",\"#ab63fa\",\"#FFA15A\",\"#19d3f3\",\"#FF6692\",\"#B6E880\",\"#FF97FF\",\"#FECB52\"],\"font\":{\"color\":\"#2a3f5f\"},\"hovermode\":\"closest\",\"hoverlabel\":{\"align\":\"left\"},\"paper_bgcolor\":\"white\",\"plot_bgcolor\":\"#E5ECF6\",\"polar\":{\"bgcolor\":\"#E5ECF6\",\"angularaxis\":{\"gridcolor\":\"white\",\"linecolor\":\"white\",\"ticks\":\"\"},\"radialaxis\":{\"gridcolor\":\"white\",\"linecolor\":\"white\",\"ticks\":\"\"}},\"ternary\":{\"bgcolor\":\"#E5ECF6\",\"aaxis\":{\"gridcolor\":\"white\",\"linecolor\":\"white\",\"ticks\":\"\"},\"baxis\":{\"gridcolor\":\"white\",\"linecolor\":\"white\",\"ticks\":\"\"},\"caxis\":{\"gridcolor\":\"white\",\"linecolor\":\"white\",\"ticks\":\"\"}},\"coloraxis\":{\"colorbar\":{\"outlinewidth\":0,\"ticks\":\"\"}},\"colorscale\":{\"sequential\":[[0.0,\"#0d0887\"],[0.1111111111111111,\"#46039f\"],[0.2222222222222222,\"#7201a8\"],[0.3333333333333333,\"#9c179e\"],[0.4444444444444444,\"#bd3786\"],[0.5555555555555556,\"#d8576b\"],[0.6666666666666666,\"#ed7953\"],[0.7777777777777778,\"#fb9f3a\"],[0.8888888888888888,\"#fdca26\"],[1.0,\"#f0f921\"]],\"sequentialminus\":[[0.0,\"#0d0887\"],[0.1111111111111111,\"#46039f\"],[0.2222222222222222,\"#7201a8\"],[0.3333333333333333,\"#9c179e\"],[0.4444444444444444,\"#bd3786\"],[0.5555555555555556,\"#d8576b\"],[0.6666666666666666,\"#ed7953\"],[0.7777777777777778,\"#fb9f3a\"],[0.8888888888888888,\"#fdca26\"],[1.0,\"#f0f921\"]],\"diverging\":[[0,\"#8e0152\"],[0.1,\"#c51b7d\"],[0.2,\"#de77ae\"],[0.3,\"#f1b6da\"],[0.4,\"#fde0ef\"],[0.5,\"#f7f7f7\"],[0.6,\"#e6f5d0\"],[0.7,\"#b8e186\"],[0.8,\"#7fbc41\"],[0.9,\"#4d9221\"],[1,\"#276419\"]]},\"xaxis\":{\"gridcolor\":\"white\",\"linecolor\":\"white\",\"ticks\":\"\",\"title\":{\"standoff\":15},\"zerolinecolor\":\"white\",\"automargin\":true,\"zerolinewidth\":2},\"yaxis\":{\"gridcolor\":\"white\",\"linecolor\":\"white\",\"ticks\":\"\",\"title\":{\"standoff\":15},\"zerolinecolor\":\"white\",\"automargin\":true,\"zerolinewidth\":2},\"scene\":{\"xaxis\":{\"backgroundcolor\":\"#E5ECF6\",\"gridcolor\":\"white\",\"linecolor\":\"white\",\"showbackground\":true,\"ticks\":\"\",\"zerolinecolor\":\"white\",\"gridwidth\":2},\"yaxis\":{\"backgroundcolor\":\"#E5ECF6\",\"gridcolor\":\"white\",\"linecolor\":\"white\",\"showbackground\":true,\"ticks\":\"\",\"zerolinecolor\":\"white\",\"gridwidth\":2},\"zaxis\":{\"backgroundcolor\":\"#E5ECF6\",\"gridcolor\":\"white\",\"linecolor\":\"white\",\"showbackground\":true,\"ticks\":\"\",\"zerolinecolor\":\"white\",\"gridwidth\":2}},\"shapedefaults\":{\"line\":{\"color\":\"#2a3f5f\"}},\"annotationdefaults\":{\"arrowcolor\":\"#2a3f5f\",\"arrowhead\":0,\"arrowwidth\":1},\"geo\":{\"bgcolor\":\"white\",\"landcolor\":\"#E5ECF6\",\"subunitcolor\":\"white\",\"showland\":true,\"showlakes\":true,\"lakecolor\":\"white\"},\"title\":{\"x\":0.05},\"mapbox\":{\"style\":\"light\"}}},\"xaxis\":{\"anchor\":\"y\",\"domain\":[0.0,1.0],\"title\":{\"text\":\"x\"}},\"yaxis\":{\"anchor\":\"x\",\"domain\":[0.0,1.0],\"title\":{\"text\":\"y\"}},\"legend\":{\"tracegroupgap\":0},\"margin\":{\"t\":60}},                        {\"responsive\": true}                    ).then(function(){\n",
       "                            \n",
       "var gd = document.getElementById('971acc3f-502b-4af5-a059-4c66f258a4a9');\n",
       "var x = new MutationObserver(function (mutations, observer) {{\n",
       "        var display = window.getComputedStyle(gd).display;\n",
       "        if (!display || display === 'none') {{\n",
       "            console.log([gd, 'removed!']);\n",
       "            Plotly.purge(gd);\n",
       "            observer.disconnect();\n",
       "        }}\n",
       "}});\n",
       "\n",
       "// Listen for the removal of the full notebook cells\n",
       "var notebookContainer = gd.closest('#notebook-container');\n",
       "if (notebookContainer) {{\n",
       "    x.observe(notebookContainer, {childList: true});\n",
       "}}\n",
       "\n",
       "// Listen for the clearing of the current output cell\n",
       "var outputEl = gd.closest('.output');\n",
       "if (outputEl) {{\n",
       "    x.observe(outputEl, {childList: true});\n",
       "}}\n",
       "\n",
       "                        })                };                });            </script>        </div>"
      ]
     },
     "metadata": {},
     "output_type": "display_data"
    }
   ],
   "source": [
    "px.scatter(x=y_test, y=linear_regression_pred)"
   ]
  },
  {
   "cell_type": "markdown",
   "metadata": {},
   "source": [
    "### Comente sus resultados y si es posible mejorar los resultados obtenidos. ¿Se necesitarían más datos o otros tipos de características o una combinación de ambos?"
   ]
  },
  {
   "cell_type": "markdown",
   "metadata": {
    "cell_id": "00044-db7abb06-7339-40b0-9021-01c6111e5459",
    "deepnote_cell_height": 106.23333740234375,
    "deepnote_cell_type": "markdown",
    "tags": []
   },
   "source": [
    "**Respuesta**:\n",
    "\n",
    "```\n",
    "Comente de resultados observados y si es posible mejorar los resultados.\n",
    "```"
   ]
  },
  {
   "cell_type": "markdown",
   "metadata": {
    "cell_id": "00045-bd3cc055-46c7-47ae-ac82-07ddb96f99de",
    "deepnote_cell_height": 490.83331298828125,
    "deepnote_cell_type": "markdown",
    "id": "Rg4ZMq8ezAH6"
   },
   "source": [
    "# Conclusión\n",
    "Eso ha sido todo para el lab de hoy, recuerden que el laboratorio tiene un plazo de entrega de una semana. Cualquier duda del laboratorio, no duden en contactarnos por mail o U-cursos.\n",
    "\n",
    "<p align=\"center\">\n",
    "  <img src=\"https://media2.giphy.com/media/l1J3CbFgn5o7DGRuE/giphy.gif\">\n",
    "</p>"
   ]
  },
  {
   "cell_type": "markdown",
   "metadata": {
    "cell_id": "00047-2acde338-38a4-455c-879b-3be406525767",
    "deepnote_cell_height": 170.4499969482422,
    "deepnote_cell_type": "markdown",
    "id": "wCL1lACBzAH7"
   },
   "source": [
    "<br>\n",
    "<center>\n",
    "<img src=\"https://i.kym-cdn.com/photos/images/original/001/194/195/b18.png\" width=100 height=50 />\n",
    "</center>\n",
    "<br>"
   ]
  },
  {
   "cell_type": "markdown",
   "metadata": {
    "created_in_deepnote_cell": true,
    "deepnote_cell_type": "markdown",
    "tags": []
   },
   "source": [
    "<a style='text-decoration:none;line-height:16px;display:flex;color:#5B5B62;padding:10px;justify-content:end;' href='https://deepnote.com?utm_source=created-in-deepnote-cell&projectId=87110296-876e-426f-b91d-aaf681223468' target=\"_blank\">\n",
    "<img alt='Created in deepnote.com' style='display:inline;max-height:16px;margin:0px;margin-right:7.5px;' src='data:image/svg+xml;base64,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' > </img>\n",
    "Created in <span style='font-weight:600;margin-left:4px;'>Deepnote</span></a>"
   ]
  }
 ],
 "metadata": {
  "colab": {
   "collapsed_sections": [],
   "name": "Laboratorio3.ipynb",
   "provenance": []
  },
  "deepnote": {},
  "deepnote_execution_queue": [],
  "deepnote_notebook_id": "350d39d6-937f-44f2-9da5-3b4d715597f9",
  "kernelspec": {
   "display_name": "Python 3",
   "language": "python",
   "name": "python3"
  },
  "language_info": {
   "codemirror_mode": {
    "name": "ipython",
    "version": 3
   },
   "file_extension": ".py",
   "mimetype": "text/x-python",
   "name": "python",
   "nbconvert_exporter": "python",
   "pygments_lexer": "ipython3",
   "version": "3.8.12"
  },
  "toc": {
   "base_numbering": 1,
   "nav_menu": {},
   "number_sections": true,
   "sideBar": true,
   "skip_h1_title": true,
   "title_cell": "Tabla de Contenidos",
   "title_sidebar": "Contenidos",
   "toc_cell": false,
   "toc_position": {
    "height": "calc(100% - 180px)",
    "left": "10px",
    "top": "150px",
    "width": "241.867px"
   },
   "toc_section_display": true,
   "toc_window_display": true
  },
  "varInspector": {
   "cols": {
    "lenName": 16,
    "lenType": 16,
    "lenVar": 40
   },
   "kernels_config": {
    "python": {
     "delete_cmd_postfix": "",
     "delete_cmd_prefix": "del ",
     "library": "var_list.py",
     "varRefreshCmd": "print(var_dic_list())"
    },
    "r": {
     "delete_cmd_postfix": ") ",
     "delete_cmd_prefix": "rm(",
     "library": "var_list.r",
     "varRefreshCmd": "cat(var_dic_list()) "
    }
   },
   "types_to_exclude": [
    "module",
    "function",
    "builtin_function_or_method",
    "instance",
    "_Feature"
   ],
   "window_display": false
  }
 },
 "nbformat": 4,
 "nbformat_minor": 1
}
