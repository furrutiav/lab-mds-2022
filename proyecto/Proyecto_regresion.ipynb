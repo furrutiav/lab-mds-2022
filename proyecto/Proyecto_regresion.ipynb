{
 "cells": [
  {
   "cell_type": "markdown",
   "id": "0e96b59b",
   "metadata": {
    "cell_id": "00006-84a35c5d-0758-4cbb-b2ca-b182898b80d0",
    "deepnote_cell_height": 295.8833312988281,
    "deepnote_cell_type": "markdown"
   },
   "source": [
    "\n",
    "\n",
    "# Proyecto\n",
    "\n",
    "### Equipo:\n",
    "\n",
    "- Sebastian Avendaño\n",
    "- Felipe Urrutia\n",
    "\n",
    "- \\<Nombre de usuarios en Codalab\\>\n",
    "\n",
    "- \\<Nombre del Equipo en Codalab\\>\n",
    "\n",
    "### Link de repositorio de GitHub: https://github.com/furrutiav/lab-mds-2022\n",
    "\n"
   ]
  },
  {
   "cell_type": "markdown",
   "id": "0ba8db88-52a2-47d9-8d4f-71e4fe81f833",
   "metadata": {
    "tags": []
   },
   "source": [
    "## 0. Librerías Utilizadas"
   ]
  },
  {
   "cell_type": "code",
   "execution_count": null,
   "id": "1c27824f-57d0-4eea-ab8e-1db9ad9fde73",
   "metadata": {},
   "outputs": [],
   "source": [
    "# Carga y Preparación de los datos\n",
    "\n",
    "import pickle\n",
    "import pandas as pd\n",
    "import numpy as np\n",
    "!pip install pyarrow\n",
    "\n",
    "# EDA\n",
    "\n",
    "import plotly.express as px"
   ]
  },
  {
   "cell_type": "markdown",
   "id": "975667a2",
   "metadata": {
    "cell_id": "00008-6607fdcd-a35f-4e75-9b46-da3b181c1551",
    "deepnote_cell_height": 69.69999694824219,
    "deepnote_cell_type": "markdown"
   },
   "source": [
    "---\n",
    "## 2. Preparación de los Datos"
   ]
  },
  {
   "cell_type": "markdown",
   "id": "fc572b58",
   "metadata": {},
   "source": [
    "#### Carga y Preparación de los Datos"
   ]
  },
  {
   "cell_type": "markdown",
   "id": "7df7863e",
   "metadata": {},
   "source": [
    "- Cargar los datos con Pandas y fusionar por `id`.\n",
    "- Eliminar columnas `'poster_path'`, `'backdrop_path'`, `'recommendations'`.\n",
    "- Filtrar ejemplos con `revenue` igual a 0.\n",
    "- Filtrar ejemplos con `release_date` y `runtime` nulos.\n",
    "- Convertir fechas de release_date a `pd.DateTime`.\n",
    "- Conservar solo los ejemplos con `status` `\"Released\"`.\n",
    "- Rellenar valores nulos categóricos y de texto con `''`.\n",
    "- Discretizar `vote_average` a los siguientes bins y guardar los resultados en la columna `label`: \n",
    "  - (0, 5]: `'Negative'`\n",
    "  - (5, 6]: `'Mixed'`\n",
    "  - (6, 7]: `'Mostly Positive'`\n",
    "  - (7, 8]: `'Positive'`\n",
    "  - (8, 10]: `'Very Positive'`\n",
    "- Eliminar la columna `vote_average` e `id`\n",
    "- Renombrar la columna `revenue` por `target`."
   ]
  },
  {
   "cell_type": "markdown",
   "id": "8161be2a",
   "metadata": {},
   "source": [
    "Cargar los datos con Pandas"
   ]
  },
  {
   "cell_type": "code",
   "execution_count": 111,
   "id": "ef9dd483",
   "metadata": {},
   "outputs": [],
   "source": [
    "# datos: train_numerical_features.parquet y train_text_features.parquet\n",
    "train_numerical_features = pd.read_parquet('train_numerical_features.parquet').set_index(\"id\")\n",
    "train_text_features = pd.read_parquet('train_text_features.parquet').set_index(\"id\")"
   ]
  },
  {
   "cell_type": "markdown",
   "id": "158f1cec",
   "metadata": {},
   "source": [
    "Fusionar por id"
   ]
  },
  {
   "cell_type": "code",
   "execution_count": 112,
   "id": "d257939b",
   "metadata": {},
   "outputs": [],
   "source": [
    "df = pd.concat([train_numerical_features, train_text_features], axis=1)"
   ]
  },
  {
   "cell_type": "markdown",
   "id": "7202cca5",
   "metadata": {},
   "source": [
    "Eliminar columnas duplicadas"
   ]
  },
  {
   "cell_type": "code",
   "execution_count": 113,
   "id": "30ef5da9",
   "metadata": {},
   "outputs": [],
   "source": [
    "df = df.T.drop_duplicates().T"
   ]
  },
  {
   "cell_type": "markdown",
   "id": "abe140d7",
   "metadata": {},
   "source": [
    "Eliminar columnas 'poster_path', 'backdrop_path', 'recommendations'"
   ]
  },
  {
   "cell_type": "code",
   "execution_count": 114,
   "id": "5c150a48",
   "metadata": {},
   "outputs": [],
   "source": [
    "df = df.drop(columns=['poster_path', 'backdrop_path', 'recommendations'])"
   ]
  },
  {
   "cell_type": "markdown",
   "id": "0f4fd31c",
   "metadata": {},
   "source": [
    "Filtrar ejemplos con revenue igual a 0."
   ]
  },
  {
   "cell_type": "code",
   "execution_count": 115,
   "id": "99f2630b",
   "metadata": {},
   "outputs": [],
   "source": [
    "df = df[df[\"revenue\"]>0]"
   ]
  },
  {
   "cell_type": "markdown",
   "id": "584fa989",
   "metadata": {},
   "source": [
    "Filtrar ejemplos con release_date y runtime nulos."
   ]
  },
  {
   "cell_type": "code",
   "execution_count": 116,
   "id": "a26c07ab",
   "metadata": {},
   "outputs": [
    {
     "data": {
      "text/plain": [
       "0"
      ]
     },
     "execution_count": 116,
     "metadata": {},
     "output_type": "execute_result"
    }
   ],
   "source": [
    "df[\"release_date\"].isna().sum()"
   ]
  },
  {
   "cell_type": "code",
   "execution_count": 117,
   "id": "f473d059",
   "metadata": {},
   "outputs": [
    {
     "data": {
      "text/plain": [
       "0"
      ]
     },
     "execution_count": 117,
     "metadata": {},
     "output_type": "execute_result"
    }
   ],
   "source": [
    "df[\"runtime\"].isna().sum()"
   ]
  },
  {
   "cell_type": "markdown",
   "id": "e7873aba",
   "metadata": {},
   "source": [
    "Convertir fechas de release_date a pd.DateTime"
   ]
  },
  {
   "cell_type": "code",
   "execution_count": 118,
   "id": "ecde65f2",
   "metadata": {},
   "outputs": [],
   "source": [
    "df[\"release_date\"] = df[\"release_date\"].apply(pd.to_datetime)"
   ]
  },
  {
   "cell_type": "markdown",
   "id": "36ad39d9",
   "metadata": {},
   "source": [
    "Conservar solo los ejemplos con status \"Released\""
   ]
  },
  {
   "cell_type": "code",
   "execution_count": 119,
   "id": "3f12ad5d",
   "metadata": {},
   "outputs": [],
   "source": [
    "df = df[df[\"status\"] == \"Released\"]"
   ]
  },
  {
   "cell_type": "markdown",
   "id": "91fdfaf7",
   "metadata": {},
   "source": [
    "Rellenar valores nulos categóricos y de texto con ' '"
   ]
  },
  {
   "cell_type": "code",
   "execution_count": 120,
   "id": "05dd5656",
   "metadata": {},
   "outputs": [],
   "source": [
    "df[train_text_features.columns.tolist()] = df[train_text_features.columns.tolist()].fillna(\"\")"
   ]
  },
  {
   "cell_type": "markdown",
   "id": "e40fb62e",
   "metadata": {},
   "source": [
    "Discretizar vote_average a los siguientes bins y guardar los resultados en la columna label:\n",
    "\n",
    "    (0, 5]: 'Negative'\n",
    "    (5, 6]: 'Mixed'\n",
    "    (6, 7]: 'Mostly Positive'\n",
    "    (7, 8]: 'Positive'\n",
    "    (8, 10]: 'Very Positive'\n"
   ]
  },
  {
   "cell_type": "code",
   "execution_count": 121,
   "id": "10b7c555",
   "metadata": {},
   "outputs": [],
   "source": [
    "df[\"label\"] = pd.cut(df['vote_average'], \n",
    "       bins=[0,5,6,7,8,10], \n",
    "       labels=[\"Negative\", \"Mixed\", \"Mostly Positive\", \"Positive\", \"Very Positive\"])"
   ]
  },
  {
   "cell_type": "markdown",
   "id": "9b637862",
   "metadata": {},
   "source": [
    "Eliminar la columna vote_average e id"
   ]
  },
  {
   "cell_type": "code",
   "execution_count": 122,
   "id": "50789594",
   "metadata": {},
   "outputs": [],
   "source": [
    "df = df.drop(columns=\"vote_average\")\n",
    "df = df.reset_index(drop=True)"
   ]
  },
  {
   "cell_type": "markdown",
   "id": "ce6ea6b5",
   "metadata": {},
   "source": [
    "Renombrar la columna revenue por target"
   ]
  },
  {
   "cell_type": "code",
   "execution_count": 123,
   "id": "44993017",
   "metadata": {},
   "outputs": [],
   "source": [
    "df = df.rename(columns={\"revenue\": \"target\"})"
   ]
  },
  {
   "cell_type": "markdown",
   "id": "0daa072c",
   "metadata": {
    "cell_id": "00011-95957584-71f1-4669-a6e5-9b8ac7b8d4e0",
    "deepnote_cell_height": 69.69999694824219,
    "deepnote_cell_type": "markdown"
   },
   "source": [
    "---\n",
    "\n",
    "## 3. Preprocesamiento, Holdout y Feature Engineering"
   ]
  },
  {
   "cell_type": "markdown",
   "id": "3e450ed7",
   "metadata": {},
   "source": [
    "#### ColumnTransformer y Holdout\n",
    "\n",
    "*Esta sección consiste en generar los distintos pasos para preparar sus datos con el fin de luego poder crear su modelo.*\n",
    "\n",
    "Generar un ColumnTransformer que:\n",
    "\n",
    "- Preprocese datos categóricos y ordinales.\n",
    "- Escale/estandarice datos numéricos.\n",
    "- Codifique texto.\n",
    "\n",
    "Luego, pruebe las transformaciones utilizando `fit_transform` y `get_feature_names out`.\n",
    "\n",
    "Posteriormente, ejecute un Holdout que le permita más adelante evaluar los modelos. **Recuerde eliminar los target y las labels del dataset antes de dividirlo**."
   ]
  },
  {
   "cell_type": "code",
   "execution_count": 17,
   "id": "a208e17c",
   "metadata": {
    "cell_id": "00012-f977f172-2409-44c1-9ff4-118d043985cc",
    "deepnote_cell_height": 80.13333129882812,
    "deepnote_cell_type": "code",
    "deepnote_to_be_reexecuted": false,
    "execution_start": 1637954166470,
    "source_hash": "2dc8e0f4"
   },
   "outputs": [],
   "source": [
    "## Código Holdout\n",
    "from sklearn.model_selection import train_test_split"
   ]
  },
  {
   "cell_type": "code",
   "execution_count": 18,
   "id": "b38b7ae9",
   "metadata": {},
   "outputs": [],
   "source": [
    "X_clf, y_clf = df.drop(columns=[\"target\", \"label\"]), df[\"label\"]\n",
    "X_reg, y_reg = df.drop(columns=[\"target\", \"label\"]), df[\"target\"]"
   ]
  },
  {
   "cell_type": "code",
   "execution_count": 19,
   "id": "91249544",
   "metadata": {},
   "outputs": [],
   "source": [
    "X_clf_train, X_clf_test, y_clf_train, y_clf_test = train_test_split(X_clf, y_clf, test_size=0.20, random_state=23)\n",
    "X_reg_train, X_reg_test, y_reg_train, y_reg_test = train_test_split(X_reg, y_reg, test_size=0.20, random_state=23)"
   ]
  },
  {
   "cell_type": "code",
   "execution_count": 20,
   "id": "14ba6691",
   "metadata": {},
   "outputs": [
    {
     "name": "stderr",
     "output_type": "stream",
     "text": [
      "[nltk_data] Downloading package stopwords to\n",
      "[nltk_data]     C:\\Users\\felip\\AppData\\Roaming\\nltk_data...\n",
      "[nltk_data]   Package stopwords is already up-to-date!\n"
     ]
    }
   ],
   "source": [
    "import nltk\n",
    "nltk.download('stopwords')\n",
    "\n",
    "from nltk.corpus import stopwords\n",
    "from nltk import word_tokenize  \n",
    "from nltk.stem import PorterStemmer"
   ]
  },
  {
   "cell_type": "code",
   "execution_count": 21,
   "id": "98720dda",
   "metadata": {},
   "outputs": [],
   "source": [
    "from sklearn.feature_extraction.text import CountVectorizer\n",
    "from sklearn.compose import ColumnTransformer\n",
    "from sklearn.preprocessing import MinMaxScaler, StandardScaler, OneHotEncoder, FunctionTransformer"
   ]
  },
  {
   "cell_type": "code",
   "execution_count": 141,
   "id": "a17eed90",
   "metadata": {},
   "outputs": [
    {
     "data": {
      "text/html": [
       "<div>\n",
       "<style scoped>\n",
       "    .dataframe tbody tr th:only-of-type {\n",
       "        vertical-align: middle;\n",
       "    }\n",
       "\n",
       "    .dataframe tbody tr th {\n",
       "        vertical-align: top;\n",
       "    }\n",
       "\n",
       "    .dataframe thead th {\n",
       "        text-align: right;\n",
       "    }\n",
       "</style>\n",
       "<table border=\"1\" class=\"dataframe\">\n",
       "  <thead>\n",
       "    <tr style=\"text-align: right;\">\n",
       "      <th></th>\n",
       "      <th>title</th>\n",
       "      <th>budget</th>\n",
       "      <th>runtime</th>\n",
       "      <th>status</th>\n",
       "      <th>tagline</th>\n",
       "      <th>credits</th>\n",
       "      <th>genres</th>\n",
       "      <th>original_language</th>\n",
       "      <th>overview</th>\n",
       "      <th>production_companies</th>\n",
       "      <th>release_date</th>\n",
       "      <th>keywords</th>\n",
       "    </tr>\n",
       "    <tr>\n",
       "      <th>id</th>\n",
       "      <th></th>\n",
       "      <th></th>\n",
       "      <th></th>\n",
       "      <th></th>\n",
       "      <th></th>\n",
       "      <th></th>\n",
       "      <th></th>\n",
       "      <th></th>\n",
       "      <th></th>\n",
       "      <th></th>\n",
       "      <th></th>\n",
       "      <th></th>\n",
       "    </tr>\n",
       "  </thead>\n",
       "  <tbody>\n",
       "    <tr>\n",
       "      <th>338953</th>\n",
       "      <td>Fantastic Beasts: The Secrets of Dumbledore</td>\n",
       "      <td>200000000.0</td>\n",
       "      <td>142.0</td>\n",
       "      <td>Released</td>\n",
       "      <td>Return to the magic.</td>\n",
       "      <td>Jude Law-Eddie Redmayne-Mads Mikkelsen-Ezra Mi...</td>\n",
       "      <td>Fantasy-Adventure-Action</td>\n",
       "      <td>en</td>\n",
       "      <td>Professor Albus Dumbledore knows the powerful ...</td>\n",
       "      <td>Warner Bros. Pictures-Heyday Films</td>\n",
       "      <td>2022-04-06</td>\n",
       "      <td>magic-curse-fantasy world-wizard-magical creat...</td>\n",
       "    </tr>\n",
       "    <tr>\n",
       "      <th>675353</th>\n",
       "      <td>Sonic the Hedgehog 2</td>\n",
       "      <td>110000000.0</td>\n",
       "      <td>122.0</td>\n",
       "      <td>Released</td>\n",
       "      <td>Welcome to the next level.</td>\n",
       "      <td>James Marsden-Ben Schwartz-Tika Sumpter-Natash...</td>\n",
       "      <td>Action-Adventure-Family-Comedy</td>\n",
       "      <td>en</td>\n",
       "      <td>After settling in Green Hills Sonic is eager t...</td>\n",
       "      <td>Original Film-Blur Studio-Marza Animation Plan...</td>\n",
       "      <td>2022-03-30</td>\n",
       "      <td>sequel-based on video game-hedgehog-live actio...</td>\n",
       "    </tr>\n",
       "    <tr>\n",
       "      <th>752623</th>\n",
       "      <td>The Lost City</td>\n",
       "      <td>74000000.0</td>\n",
       "      <td>112.0</td>\n",
       "      <td>Released</td>\n",
       "      <td>The adventure is real. The heroes are not.</td>\n",
       "      <td>Sandra Bullock-Channing Tatum-Daniel Radcliffe...</td>\n",
       "      <td>Action-Adventure-Comedy</td>\n",
       "      <td>en</td>\n",
       "      <td>A reclusive romance novelist was sure nothing ...</td>\n",
       "      <td>Paramount-Fortis Films-3dot Productions-Exhibi...</td>\n",
       "      <td>2022-03-24</td>\n",
       "      <td>duringcreditsstinger</td>\n",
       "    </tr>\n",
       "    <tr>\n",
       "      <th>526896</th>\n",
       "      <td>Morbius</td>\n",
       "      <td>75000000.0</td>\n",
       "      <td>105.0</td>\n",
       "      <td>Released</td>\n",
       "      <td>A new Marvel legend arrives.</td>\n",
       "      <td>Jared Leto-Matt Smith-Adria Arjona-Jared Harri...</td>\n",
       "      <td>Action-Science Fiction-Fantasy</td>\n",
       "      <td>en</td>\n",
       "      <td>Dangerously ill with a rare blood disorder and...</td>\n",
       "      <td>Columbia Pictures-Avi Arad Productions-Matt To...</td>\n",
       "      <td>2022-03-30</td>\n",
       "      <td>vampire-based on comic</td>\n",
       "    </tr>\n",
       "    <tr>\n",
       "      <th>335787</th>\n",
       "      <td>Uncharted</td>\n",
       "      <td>120000000.0</td>\n",
       "      <td>116.0</td>\n",
       "      <td>Released</td>\n",
       "      <td>Fortune favors the bold.</td>\n",
       "      <td>Tom Holland-Mark Wahlberg-Sophia Ali-Tati Gabr...</td>\n",
       "      <td>Action-Adventure</td>\n",
       "      <td>en</td>\n",
       "      <td>A young street-smart Nathan Drake and his wise...</td>\n",
       "      <td>Columbia Pictures-Atlas Entertainment-PlayStat...</td>\n",
       "      <td>2022-02-10</td>\n",
       "      <td>treasure-treasure hunt-based on video game-dlb</td>\n",
       "    </tr>\n",
       "    <tr>\n",
       "      <th>...</th>\n",
       "      <td>...</td>\n",
       "      <td>...</td>\n",
       "      <td>...</td>\n",
       "      <td>...</td>\n",
       "      <td>...</td>\n",
       "      <td>...</td>\n",
       "      <td>...</td>\n",
       "      <td>...</td>\n",
       "      <td>...</td>\n",
       "      <td>...</td>\n",
       "      <td>...</td>\n",
       "      <td>...</td>\n",
       "    </tr>\n",
       "    <tr>\n",
       "      <th>11831</th>\n",
       "      <td>Amistad</td>\n",
       "      <td>36000000.0</td>\n",
       "      <td>155.0</td>\n",
       "      <td>Released</td>\n",
       "      <td>Freedom is not given. It is our right at birth...</td>\n",
       "      <td>Morgan Freeman-Nigel Hawthorne-Anthony Hopkins...</td>\n",
       "      <td>Drama-History-Mystery</td>\n",
       "      <td>en</td>\n",
       "      <td>In 1839 the slave ship Amistad set sail from C...</td>\n",
       "      <td>DreamWorks Pictures</td>\n",
       "      <td>1997-12-10</td>\n",
       "      <td>cuba-mutiny-slavery-sentence-historical figure...</td>\n",
       "    </tr>\n",
       "    <tr>\n",
       "      <th>771</th>\n",
       "      <td>Home Alone</td>\n",
       "      <td>18000000.0</td>\n",
       "      <td>103.0</td>\n",
       "      <td>Released</td>\n",
       "      <td>A family comedy without the family.</td>\n",
       "      <td>Macaulay Culkin-Joe Pesci-Daniel Stern-John He...</td>\n",
       "      <td>Comedy-Family</td>\n",
       "      <td>en</td>\n",
       "      <td>Eight-year-old Kevin McCallister makes the mos...</td>\n",
       "      <td>Hughes Entertainment-20th Century Fox</td>\n",
       "      <td>1990-11-16</td>\n",
       "      <td>holiday-burglar-slapstick-little boy-family re...</td>\n",
       "    </tr>\n",
       "    <tr>\n",
       "      <th>182127</th>\n",
       "      <td>Ip Man: The Final Fight</td>\n",
       "      <td>0.0</td>\n",
       "      <td>100.0</td>\n",
       "      <td>Released</td>\n",
       "      <td></td>\n",
       "      <td>Anthony Wong-Anita Yuen-Gillian Chung-Jordan C...</td>\n",
       "      <td>Action-Drama</td>\n",
       "      <td>cn</td>\n",
       "      <td>In postwar Hong Kong legendary Wing Chun grand...</td>\n",
       "      <td>Emperor Motion Pictures-Cinemasia-National Art...</td>\n",
       "      <td>2013-03-22</td>\n",
       "      <td>biography</td>\n",
       "    </tr>\n",
       "    <tr>\n",
       "      <th>475303</th>\n",
       "      <td>A Rainy Day in New York</td>\n",
       "      <td>25000000.0</td>\n",
       "      <td>92.0</td>\n",
       "      <td>Released</td>\n",
       "      <td>Love In Spring.</td>\n",
       "      <td>Timothée Chalamet-Elle Fanning-Selena Gomez-Ju...</td>\n",
       "      <td>Comedy-Romance</td>\n",
       "      <td>en</td>\n",
       "      <td>Two young people arrive in New York to spend a...</td>\n",
       "      <td>Gravier Productions-Perdido Productions-FilmNa...</td>\n",
       "      <td>2019-07-26</td>\n",
       "      <td>new york city</td>\n",
       "    </tr>\n",
       "    <tr>\n",
       "      <th>116741</th>\n",
       "      <td>The Internship</td>\n",
       "      <td>58000000.0</td>\n",
       "      <td>119.0</td>\n",
       "      <td>Released</td>\n",
       "      <td>Hiring them was a brilliant mistake.</td>\n",
       "      <td>Vince Vaughn-Owen Wilson-Rose Byrne-Aasif Mand...</td>\n",
       "      <td>Comedy</td>\n",
       "      <td>en</td>\n",
       "      <td>Two recently laid-off men in their 40s try to ...</td>\n",
       "      <td>TSG Entertainment-Regency Enterprises-Wild Wes...</td>\n",
       "      <td>2013-06-07</td>\n",
       "      <td>mattress shop-job interview-rivalry-loss of jo...</td>\n",
       "    </tr>\n",
       "  </tbody>\n",
       "</table>\n",
       "<p>6451 rows × 12 columns</p>\n",
       "</div>"
      ],
      "text/plain": [
       "                                              title       budget runtime  \\\n",
       "id                                                                         \n",
       "338953  Fantastic Beasts: The Secrets of Dumbledore  200000000.0   142.0   \n",
       "675353                         Sonic the Hedgehog 2  110000000.0   122.0   \n",
       "752623                                The Lost City   74000000.0   112.0   \n",
       "526896                                      Morbius   75000000.0   105.0   \n",
       "335787                                    Uncharted  120000000.0   116.0   \n",
       "...                                             ...          ...     ...   \n",
       "11831                                       Amistad   36000000.0   155.0   \n",
       "771                                      Home Alone   18000000.0   103.0   \n",
       "182127                      Ip Man: The Final Fight          0.0   100.0   \n",
       "475303                      A Rainy Day in New York   25000000.0    92.0   \n",
       "116741                               The Internship   58000000.0   119.0   \n",
       "\n",
       "          status                                            tagline  \\\n",
       "id                                                                    \n",
       "338953  Released                               Return to the magic.   \n",
       "675353  Released                         Welcome to the next level.   \n",
       "752623  Released         The adventure is real. The heroes are not.   \n",
       "526896  Released                       A new Marvel legend arrives.   \n",
       "335787  Released                           Fortune favors the bold.   \n",
       "...          ...                                                ...   \n",
       "11831   Released  Freedom is not given. It is our right at birth...   \n",
       "771     Released                A family comedy without the family.   \n",
       "182127  Released                                                      \n",
       "475303  Released                                    Love In Spring.   \n",
       "116741  Released               Hiring them was a brilliant mistake.   \n",
       "\n",
       "                                                  credits  \\\n",
       "id                                                          \n",
       "338953  Jude Law-Eddie Redmayne-Mads Mikkelsen-Ezra Mi...   \n",
       "675353  James Marsden-Ben Schwartz-Tika Sumpter-Natash...   \n",
       "752623  Sandra Bullock-Channing Tatum-Daniel Radcliffe...   \n",
       "526896  Jared Leto-Matt Smith-Adria Arjona-Jared Harri...   \n",
       "335787  Tom Holland-Mark Wahlberg-Sophia Ali-Tati Gabr...   \n",
       "...                                                   ...   \n",
       "11831   Morgan Freeman-Nigel Hawthorne-Anthony Hopkins...   \n",
       "771     Macaulay Culkin-Joe Pesci-Daniel Stern-John He...   \n",
       "182127  Anthony Wong-Anita Yuen-Gillian Chung-Jordan C...   \n",
       "475303  Timothée Chalamet-Elle Fanning-Selena Gomez-Ju...   \n",
       "116741  Vince Vaughn-Owen Wilson-Rose Byrne-Aasif Mand...   \n",
       "\n",
       "                                genres original_language  \\\n",
       "id                                                         \n",
       "338953        Fantasy-Adventure-Action                en   \n",
       "675353  Action-Adventure-Family-Comedy                en   \n",
       "752623         Action-Adventure-Comedy                en   \n",
       "526896  Action-Science Fiction-Fantasy                en   \n",
       "335787                Action-Adventure                en   \n",
       "...                                ...               ...   \n",
       "11831            Drama-History-Mystery                en   \n",
       "771                      Comedy-Family                en   \n",
       "182127                    Action-Drama                cn   \n",
       "475303                  Comedy-Romance                en   \n",
       "116741                          Comedy                en   \n",
       "\n",
       "                                                 overview  \\\n",
       "id                                                          \n",
       "338953  Professor Albus Dumbledore knows the powerful ...   \n",
       "675353  After settling in Green Hills Sonic is eager t...   \n",
       "752623  A reclusive romance novelist was sure nothing ...   \n",
       "526896  Dangerously ill with a rare blood disorder and...   \n",
       "335787  A young street-smart Nathan Drake and his wise...   \n",
       "...                                                   ...   \n",
       "11831   In 1839 the slave ship Amistad set sail from C...   \n",
       "771     Eight-year-old Kevin McCallister makes the mos...   \n",
       "182127  In postwar Hong Kong legendary Wing Chun grand...   \n",
       "475303  Two young people arrive in New York to spend a...   \n",
       "116741  Two recently laid-off men in their 40s try to ...   \n",
       "\n",
       "                                     production_companies release_date  \\\n",
       "id                                                                       \n",
       "338953                 Warner Bros. Pictures-Heyday Films   2022-04-06   \n",
       "675353  Original Film-Blur Studio-Marza Animation Plan...   2022-03-30   \n",
       "752623  Paramount-Fortis Films-3dot Productions-Exhibi...   2022-03-24   \n",
       "526896  Columbia Pictures-Avi Arad Productions-Matt To...   2022-03-30   \n",
       "335787  Columbia Pictures-Atlas Entertainment-PlayStat...   2022-02-10   \n",
       "...                                                   ...          ...   \n",
       "11831                                 DreamWorks Pictures   1997-12-10   \n",
       "771                 Hughes Entertainment-20th Century Fox   1990-11-16   \n",
       "182127  Emperor Motion Pictures-Cinemasia-National Art...   2013-03-22   \n",
       "475303  Gravier Productions-Perdido Productions-FilmNa...   2019-07-26   \n",
       "116741  TSG Entertainment-Regency Enterprises-Wild Wes...   2013-06-07   \n",
       "\n",
       "                                                 keywords  \n",
       "id                                                         \n",
       "338953  magic-curse-fantasy world-wizard-magical creat...  \n",
       "675353  sequel-based on video game-hedgehog-live actio...  \n",
       "752623                               duringcreditsstinger  \n",
       "526896                             vampire-based on comic  \n",
       "335787     treasure-treasure hunt-based on video game-dlb  \n",
       "...                                                   ...  \n",
       "11831   cuba-mutiny-slavery-sentence-historical figure...  \n",
       "771     holiday-burglar-slapstick-little boy-family re...  \n",
       "182127                                          biography  \n",
       "475303                                      new york city  \n",
       "116741  mattress shop-job interview-rivalry-loss of jo...  \n",
       "\n",
       "[6451 rows x 12 columns]"
      ]
     },
     "execution_count": 141,
     "metadata": {},
     "output_type": "execute_result"
    }
   ],
   "source": [
    "X_clf"
   ]
  },
  {
   "cell_type": "code",
   "execution_count": 142,
   "id": "9024bb0a",
   "metadata": {},
   "outputs": [],
   "source": [
    "## Código ColumnTransformer\n",
    "atributos_minmax = [\n",
    "    \"budget\"\n",
    "]\n",
    "atributos_st = [\n",
    "    \"runtime\"\n",
    "]\n",
    "atributos_onehot = [\n",
    "    \"original_language\"\n",
    "]\n",
    "\n",
    "stop_words = stopwords.words('english')\n",
    "\n",
    "# Definimos un tokenizador con Stemming\n",
    "class StemmerTokenizer:\n",
    "    def __init__(self):\n",
    "        self.ps = PorterStemmer()\n",
    "    def __call__(self, doc):\n",
    "        doc_tok = word_tokenize(doc.lower())\n",
    "        doc_tok = [t for t in doc_tok if t not in stop_words]\n",
    "        return [self.ps.stem(t) for t in doc_tok]\n",
    "    \n",
    "class SplitTokenizer:\n",
    "    def __init__(self, char=\"-\"):\n",
    "        self.char = char\n",
    "    def __call__(self, doc):\n",
    "        return doc.replace(\" \", \"_\").split(self.char)\n",
    "\n",
    "ct = ColumnTransformer([\n",
    "    (\"OneHot\", OneHotEncoder(handle_unknown=\"ignore\"), atributos_onehot),\n",
    "    (\"MinMax\", MinMaxScaler(), atributos_minmax),\n",
    "    (\"Standard\", StandardScaler(), atributos_st),\n",
    "    (\"BOW\", CountVectorizer(tokenizer= StemmerTokenizer()), \"overview\"),\n",
    "    (\"OneHot_split_genres\", CountVectorizer(tokenizer= SplitTokenizer()), \"genres\"),\n",
    "    (\"OneHot_split_credits\", CountVectorizer(tokenizer= SplitTokenizer()), \"credits\"),\n",
    "    (\"OneHot_split_production_companies\", CountVectorizer(tokenizer= SplitTokenizer()), \"production_companies\"),\n",
    "    (\"OneHot_split_keywords\", CountVectorizer(tokenizer= SplitTokenizer()), \"keywords\"),\n",
    "])"
   ]
  },
  {
   "cell_type": "markdown",
   "id": "d7c4fa7c",
   "metadata": {},
   "source": [
    "#### Feature Engineering\n",
    "\n",
    "Adicionalmente puede generar una nueva transformación que genere nuevas features y que se aplique antes del ColumnTransformer dentro del pipeline de los modelos. Investigar [`FunctionTransformer`](https://scikit-learn.org/stable/modules/generated/sklearn.preprocessing.FunctionTransformer.html) para ver como implementar una transformación a partir de una función que tome un dataframe y entregue uno distinto en la salida.\n",
    "\n",
    "- Encodear ciclicamente los meses/días de las fechas de lanzamiento.\n",
    "- Contar cuantas veces aparecen en las peliculas ciertos personajes célebres.\n",
    "- Indicar si la pelicula es de una productora famosa o no.\n",
    "- Agrupar distintas keywords en categorías más generales.\n",
    "- Generar ratios con las variables numericas del dataset (como duración de la película/presupuesto).\n",
    "- Contar los diferentes generos similares que posee una pelicula.\n",
    "- Extraer vectores desde los overviews de las peliculas.\n",
    "- Contar el número de actores/productoras/géneros.\n",
    "- Etc... Usen su creatividad!\n",
    "\n",
    "Nuevamente, recuerde no utilizar ni los targets ni las labels para generar nuevas features.\n",
    "\n",
    "Nota: Este último paso no es requisito pero puede catapultarlos a la cima del tablero de las competencias."
   ]
  },
  {
   "cell_type": "code",
   "execution_count": 5,
   "id": "4c6cd3f6",
   "metadata": {
    "cell_id": "00016-5586ef61-95ea-4f5a-8ad0-796be8c78ac0",
    "deepnote_cell_height": 80.13333129882812,
    "deepnote_cell_type": "code",
    "deepnote_to_be_reexecuted": false,
    "execution_start": 1637954166471,
    "source_hash": "2dc8e0f4"
   },
   "outputs": [],
   "source": [
    "## Código Feature Engineering (Opcional)"
   ]
  },
  {
   "cell_type": "markdown",
   "id": "89427e68",
   "metadata": {
    "cell_id": "ec9c0f8a2b044f858858ef3c3248c239",
    "deepnote_cell_height": 102,
    "deepnote_cell_type": "code",
    "tags": []
   },
   "source": [
    "```\n",
    "Comentarios\n",
    "```"
   ]
  },
  {
   "cell_type": "markdown",
   "id": "6de0f8b6",
   "metadata": {
    "cell_id": "2d58aececbe34d6184477c8e3cfaa2e3",
    "deepnote_cell_height": 117.69999694824219,
    "deepnote_cell_type": "markdown",
    "tags": []
   },
   "source": [
    "---\n",
    "\n",
    "## 4. Regresión\n",
    "\n",
    "### 4.1 Dummy y Baseline"
   ]
  },
  {
   "cell_type": "code",
   "execution_count": null,
   "id": "90b527f8",
   "metadata": {
    "cell_id": "86fd465c690a46d1bafed3115c0bceff",
    "deepnote_cell_height": 66,
    "deepnote_cell_type": "code",
    "tags": []
   },
   "outputs": [],
   "source": [
    "## Código Dummy"
   ]
  },
  {
   "cell_type": "code",
   "execution_count": null,
   "id": "9f15c176",
   "metadata": {
    "cell_id": "faaf5b0b0d34479bad168c8dd4cbe508",
    "deepnote_cell_height": 66,
    "deepnote_cell_type": "code",
    "tags": []
   },
   "outputs": [],
   "source": [
    "## Código Regresor"
   ]
  },
  {
   "cell_type": "code",
   "execution_count": null,
   "id": "ad2627b4",
   "metadata": {
    "cell_id": "4e397759bca54254b536d998f20cbd08",
    "deepnote_cell_height": 66,
    "deepnote_cell_type": "code",
    "tags": []
   },
   "outputs": [],
   "source": [
    "## Código Comparación de métricas"
   ]
  },
  {
   "cell_type": "markdown",
   "id": "f0d457dd",
   "metadata": {
    "cell_id": "23ba7e6c56c841d8b2c11563ca64bf20",
    "deepnote_cell_height": 69.93333435058594,
    "deepnote_cell_type": "markdown",
    "tags": []
   },
   "source": [
    "```\n",
    "Justificación\n",
    "```"
   ]
  },
  {
   "cell_type": "markdown",
   "id": "6bcb1c44",
   "metadata": {
    "cell_id": "df491c3ed9704211be52235df236b889",
    "deepnote_cell_height": 61.69999694824219,
    "deepnote_cell_type": "markdown",
    "tags": []
   },
   "source": [
    "---\n",
    "\n",
    "### 4.2 Búsqueda del mejor modelo de Regresión\n"
   ]
  },
  {
   "cell_type": "code",
   "execution_count": null,
   "id": "2e3823b8",
   "metadata": {
    "cell_id": "cfc6786c0598444bb8070990453da397",
    "deepnote_cell_height": 66,
    "deepnote_cell_type": "code",
    "tags": []
   },
   "outputs": [],
   "source": [
    "### Código GridSearch"
   ]
  },
  {
   "cell_type": "code",
   "execution_count": null,
   "id": "5165c371",
   "metadata": {
    "cell_id": "b00b9baef48947d9abcfb6972bdaa3aa",
    "deepnote_cell_height": 66,
    "deepnote_cell_type": "code",
    "tags": []
   },
   "outputs": [],
   "source": [
    "### Código Predicción de datos de la competencia aquí"
   ]
  },
  {
   "cell_type": "markdown",
   "id": "3ce5d7d1",
   "metadata": {
    "cell_id": "00025-2acf9c12-da85-4c1f-add5-f2b0f600177f",
    "deepnote_cell_height": 69.69999694824219,
    "deepnote_cell_type": "markdown"
   },
   "source": [
    "---\n",
    "\n",
    "## 5. Conclusiones Regresión"
   ]
  },
  {
   "cell_type": "markdown",
   "id": "996db4c2",
   "metadata": {
    "cell_id": "00026-15c07b20-0e16-48fa-bf3c-33aeb2c4c1db",
    "deepnote_cell_height": 51.53334045410156,
    "deepnote_cell_type": "markdown"
   },
   "source": [
    "Conclusiones...\n",
    "\n"
   ]
  },
  {
   "cell_type": "markdown",
   "id": "b18bac5d",
   "metadata": {
    "cell_id": "00027-1e362e1d-a776-4423-93d5-0f568476e4c1",
    "deepnote_cell_height": 84.10000610351562,
    "deepnote_cell_type": "markdown",
    "tags": []
   },
   "source": [
    "---\n",
    "\n",
    "<br>\n",
    "\n",
    "### Anexo: Generación de Archivo Submit de la Competencia"
   ]
  },
  {
   "cell_type": "markdown",
   "id": "ff5f6447",
   "metadata": {
    "cell_id": "00028-0a64e7e8-1077-4868-8c96-db3d51323157",
    "deepnote_cell_height": 671.9000244140625,
    "deepnote_cell_type": "markdown",
    "tags": []
   },
   "source": [
    "Para subir los resultados obtenidos a la pagina de CodaLab utilice la función `generateFiles` entregada mas abajo. Esto es debido a que usted deberá generar archivos que respeten extrictamente el formato de CodaLab, de lo contario los resultados no se veran reflejados en la pagina de la competencia.\n",
    "\n",
    "Para los resultados obtenidos en su modelo de clasificación y regresión, estos serán guardados en un archivo zip que contenga los archivos `predicctions_clf.txt` para la clasificación y `predicctions_rgr.clf` para la regresión. Los resultados, como se comento antes, deberan ser obtenidos en base al dataset `test.pickle` y en cada una de las lineas deberan presentar las predicciones realizadas.\n",
    "\n",
    "Ejemplos de archivos:\n",
    "\n",
    "- [ ] `predicctions_clf.txt`\n",
    "\n",
    "        Mostly Positive\n",
    "        Mostly Positive\n",
    "        Negative\n",
    "        Positive\n",
    "        Negative\n",
    "        Positive\n",
    "        ...\n",
    "\n",
    "- [ ] `predicctions_rgr.txt`\n",
    "\n",
    "        16103.58\n",
    "        16103.58\n",
    "        16041.89\n",
    "        9328.62\n",
    "        107976.03\n",
    "        194374.08\n",
    "        ...\n",
    "\n"
   ]
  },
  {
   "cell_type": "code",
   "execution_count": null,
   "id": "43f33d5d",
   "metadata": {
    "cell_id": "00029-55f95a4c-2d1f-4354-a690-049fea34bdac",
    "deepnote_cell_height": 620.13330078125,
    "deepnote_cell_type": "code",
    "deepnote_to_be_reexecuted": false,
    "execution_start": 1637954166501,
    "source_hash": "b1cdf32f",
    "tags": []
   },
   "outputs": [],
   "source": [
    "from zipfile import ZipFile\n",
    "import os\n",
    "\n",
    "def generateFiles(predict_data, clf_pipe, rgr_pipe):\n",
    "    \"\"\"Genera los archivos a subir en CodaLab\n",
    "\n",
    "    Input\n",
    "    predict_data: Dataframe con los datos de entrada a predecir\n",
    "    clf_pipe: pipeline del clf\n",
    "    rgr_pipe: pipeline del rgr\n",
    "\n",
    "    Ouput\n",
    "    archivo de txt\n",
    "    \"\"\"\n",
    "    y_pred_clf = clf_pipe.predict(predict_data)\n",
    "    y_pred_rgr = rgr_pipe.predict(predict_data)\n",
    "    \n",
    "    with open('./predictions_clf.txt', 'w') as f:\n",
    "        for item in y_pred_clf:\n",
    "            f.write(\"%s\\n\" % item)\n",
    "\n",
    "    with open('./predictions_rgr.txt', 'w') as f:\n",
    "        for item in y_pred_rgr:\n",
    "            f.write(\"%s\\n\" % item)\n",
    "\n",
    "    with ZipFile('predictions.zip', 'w') as zipObj2:\n",
    "       zipObj2.write('predictions_rgr.txt')\n",
    "       zipObj2.write('predictions_clf.txt')\n",
    "\n",
    "    os.remove(\"predictions_rgr.txt\")\n",
    "    os.remove(\"predictions_clf.txt\")"
   ]
  },
  {
   "cell_type": "code",
   "execution_count": null,
   "id": "48b1efe0",
   "metadata": {
    "cell_id": "b589f659ce2246919e3707e79420aff2",
    "deepnote_cell_height": 138,
    "deepnote_cell_type": "code",
    "tags": []
   },
   "outputs": [],
   "source": [
    "# Ejecutar función para generar el archivo de predicciones.\n",
    "# perdict_data debe tener cargada los datos del text.pickle\n",
    "# mientras que clf_pipe y rgr_pipe, son los pipeline de \n",
    "# clasificación y regresión respectivamente.\n",
    "generateFiles(predict_data, clf_pipe, rgr_pipe)"
   ]
  },
  {
   "cell_type": "markdown",
   "id": "561f8d39",
   "metadata": {
    "created_in_deepnote_cell": true,
    "deepnote_cell_type": "markdown",
    "tags": []
   },
   "source": [
    "<a style='text-decoration:none;line-height:16px;display:flex;color:#5B5B62;padding:10px;justify-content:end;' href='https://deepnote.com?utm_source=created-in-deepnote-cell&projectId=87110296-876e-426f-b91d-aaf681223468' target=\"_blank\">\n",
    "<img alt='Created in deepnote.com' style='display:inline;max-height:16px;margin:0px;margin-right:7.5px;' src='data:image/svg+xml;base64,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' > </img>\n",
    "Created in <span style='font-weight:600;margin-left:4px;'>Deepnote</span></a>"
   ]
  }
 ],
 "metadata": {
  "deepnote": {},
  "deepnote_execution_queue": [],
  "deepnote_notebook_id": "dbddc0f3-10b8-4160-bc27-ac993196164c",
  "kernelspec": {
   "display_name": "Python 3",
   "language": "python",
   "name": "python3"
  },
  "language_info": {
   "codemirror_mode": {
    "name": "ipython",
    "version": 3
   },
   "file_extension": ".py",
   "mimetype": "text/x-python",
   "name": "python",
   "nbconvert_exporter": "python",
   "pygments_lexer": "ipython3",
   "version": "3.8.12"
  }
 },
 "nbformat": 4,
 "nbformat_minor": 5
}
