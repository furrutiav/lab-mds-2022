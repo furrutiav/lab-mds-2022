{
 "cells": [
  {
   "cell_type": "markdown",
   "metadata": {
    "cell_id": "00000-d922277a-c096-45e6-919d-d08ca8ca4c9c",
    "deepnote_cell_height": 155.43333435058594,
    "deepnote_cell_type": "markdown",
    "id": "XUZ1dFPHzAHl"
   },
   "source": [
    "<h1><center>Laboratorio 5: El Pandas no Muerde (act IV) 🐼</center></h1>\n",
    "\n",
    "<center><strong>MDS7202: Laboratorio de Programación Científica para Ciencia de Datos</strong></center>"
   ]
  },
  {
   "cell_type": "markdown",
   "metadata": {
    "cell_id": "00001-41058c5a-e4f2-45ba-8925-5dee28b63c02",
    "deepnote_cell_height": 165.78334045410156,
    "deepnote_cell_type": "markdown",
    "id": "UD8X1uhGzAHq"
   },
   "source": [
    "### Cuerpo Docente:\n",
    "\n",
    "- Profesor: Pablo Badilla\n",
    "- Auxiliar: Ignacio Meza D.\n",
    "- Ayudante: Patricio Ortiz"
   ]
  },
  {
   "cell_type": "markdown",
   "metadata": {
    "cell_id": "00002-e1842bc9-c821-4133-b500-4fe9b07f9071",
    "deepnote_cell_height": 171.86666870117188,
    "deepnote_cell_type": "markdown",
    "id": "tXflExjqzAHr"
   },
   "source": [
    "### Equipo: SUPER IMPORTANTE - notebooks sin nombre no serán revisados\n",
    "\n",
    "- Sebastian Avendaño\n",
    "- Felipe Urrutia\n"
   ]
  },
  {
   "cell_type": "markdown",
   "metadata": {
    "cell_id": "00003-1ff7590e-80bb-4f14-b210-a464229ab3d9",
    "deepnote_cell_height": 61.56666564941406,
    "deepnote_cell_type": "markdown",
    "id": "AD-V0bbZzAHr"
   },
   "source": [
    "### **Link de repositorio de GitHub:** `https://github.com/furrutiav/lab-mds-2022.`"
   ]
  },
  {
   "cell_type": "markdown",
   "metadata": {
    "cell_id": "00005-9b6fbc71-5250-4293-939d-cff84ea69ac4",
    "deepnote_cell_height": 571,
    "deepnote_cell_type": "markdown",
    "id": "6uBLPj1PzAHs"
   },
   "source": [
    "\n",
    "## Reglas:\n",
    "\n",
    "- Fecha de entrega: 22/10/2021\n",
    "- **Grupos de 2 personas**\n",
    "- **Ausentes** deberán realizar la actividad solos. \n",
    "- Cualquier duda fuera del horario de clases al foro. Mensajes al equipo docente serán respondidos por este medio.\n",
    "- Prohibidas las copias. \n",
    "- Pueden usar cualquer material del curso que estimen conveniente.\n",
    "\n",
    "### Objetivos principales del laboratorio\n",
    "\n",
    "- Aplicar los paradigmas y buenas prácticas de programación vistas hasta este momento.\n",
    "- Comprender y aprovechar las ventajas que nos ofrece la liberia `numpy` con respecto a trabajar en Python 'puro'.\n",
    "- Visualizar aplicaciones de filtros de imágenes sin el uso de librerías.\n",
    "- Verificar que el uso indiscriminado de `for` puede afectar en la eficiencia en al procesar datos masivos.\n",
    "\n",
    "\n",
    "El laboratorio deberá ser desarrollado sin el uso indiscriminado de iteradores nativos de python (aka \"for\", \"while\"). La idea es que aprendan a exprimir al máximo las funciones optimizadas que nos entrega `numpy`, las cuales vale mencionar, son bastante más eficientes que los iteradores nativos sobre arreglos (*o tensores*)."
   ]
  },
  {
   "cell_type": "markdown",
   "metadata": {
    "cell_id": "00006-aba27b6e-506c-4de4-9ba7-161e8fa8eeb6",
    "deepnote_cell_height": 69.03334045410156,
    "deepnote_cell_type": "markdown",
    "id": "wrG4gYabzAHs"
   },
   "source": [
    "## Descripción del laboratorio."
   ]
  },
  {
   "cell_type": "markdown",
   "metadata": {
    "cell_id": "00007-92b497a3-20e7-40e4-8a65-2115c3cf717b",
    "deepnote_cell_height": 61.03334045410156,
    "deepnote_cell_type": "markdown",
    "id": "MhISwri4zAHy"
   },
   "source": [
    "### Importamos librerias utiles 😸"
   ]
  },
  {
   "cell_type": "code",
   "execution_count": 1,
   "metadata": {
    "ExecuteTime": {
     "end_time": "2021-03-29T00:08:16.884674Z",
     "start_time": "2021-03-29T00:08:16.349846Z"
    },
    "cell_id": "00008-02ea8e34-1cb6-4773-a4b1-3369d7843ddf",
    "colab": {
     "base_uri": "https://localhost:8080/"
    },
    "deepnote_cell_height": 987.5499877929688,
    "deepnote_cell_type": "code",
    "deepnote_to_be_reexecuted": false,
    "executionInfo": {
     "elapsed": 7340,
     "status": "ok",
     "timestamp": 1619926444128,
     "user": {
      "displayName": "IGNACIO ALEJANDRO MEZA",
      "photoUrl": "",
      "userId": "17011121633069169364"
     },
     "user_tz": 240
    },
    "execution_millis": 15959,
    "execution_start": 1634325916301,
    "id": "uyc33dKdzAHy",
    "outputId": "275fee3c-4ef0-4bfb-acb7-e318d613bdce",
    "source_hash": "80b1c1a9"
   },
   "outputs": [
    {
     "name": "stdout",
     "output_type": "stream",
     "text": [
      "Requirement already satisfied: pandas in c:\\users\\felip\\anaconda3\\lib\\site-packages (1.4.2)\n",
      "Requirement already satisfied: pytz>=2020.1 in c:\\users\\felip\\anaconda3\\lib\\site-packages (from pandas) (2021.3)\n",
      "Requirement already satisfied: numpy>=1.18.5 in c:\\users\\felip\\anaconda3\\lib\\site-packages (from pandas) (1.22.2)\n",
      "Requirement already satisfied: python-dateutil>=2.8.1 in c:\\users\\felip\\appdata\\roaming\\python\\python38\\site-packages (from pandas) (2.8.1)\n",
      "Requirement already satisfied: six>=1.5 in c:\\users\\felip\\appdata\\roaming\\python\\python38\\site-packages (from python-dateutil>=2.8.1->pandas) (1.14.0)\n"
     ]
    },
    {
     "name": "stderr",
     "output_type": "stream",
     "text": [
      "WARNING: Ignoring invalid distribution -lotly (c:\\users\\felip\\anaconda3\\lib\\site-packages)\n",
      "WARNING: Ignoring invalid distribution -lotly (c:\\users\\felip\\anaconda3\\lib\\site-packages)\n",
      "WARNING: Ignoring invalid distribution -lotly (c:\\users\\felip\\anaconda3\\lib\\site-packages)\n",
      "WARNING: Ignoring invalid distribution -lotly (c:\\users\\felip\\anaconda3\\lib\\site-packages)\n",
      "WARNING: Ignoring invalid distribution -lotly (c:\\users\\felip\\anaconda3\\lib\\site-packages)\n",
      "WARNING: Ignoring invalid distribution -lotly (c:\\users\\felip\\anaconda3\\lib\\site-packages)\n"
     ]
    },
    {
     "name": "stdout",
     "output_type": "stream",
     "text": [
      "Requirement already satisfied: xlrd in c:\\users\\felip\\anaconda3\\lib\\site-packages (2.0.1)\n"
     ]
    },
    {
     "name": "stderr",
     "output_type": "stream",
     "text": [
      "WARNING: Ignoring invalid distribution -lotly (c:\\users\\felip\\anaconda3\\lib\\site-packages)\n",
      "WARNING: Ignoring invalid distribution -lotly (c:\\users\\felip\\anaconda3\\lib\\site-packages)\n",
      "WARNING: Ignoring invalid distribution -lotly (c:\\users\\felip\\anaconda3\\lib\\site-packages)\n",
      "WARNING: Ignoring invalid distribution -lotly (c:\\users\\felip\\anaconda3\\lib\\site-packages)\n",
      "WARNING: Ignoring invalid distribution -lotly (c:\\users\\felip\\anaconda3\\lib\\site-packages)\n",
      "WARNING: Ignoring invalid distribution -lotly (c:\\users\\felip\\anaconda3\\lib\\site-packages)\n"
     ]
    },
    {
     "name": "stdout",
     "output_type": "stream",
     "text": [
      "Requirement already satisfied: openpyxl in c:\\users\\felip\\anaconda3\\lib\\site-packages (3.0.9)\n",
      "Requirement already satisfied: et-xmlfile in c:\\users\\felip\\anaconda3\\lib\\site-packages (from openpyxl) (1.1.0)\n"
     ]
    },
    {
     "name": "stderr",
     "output_type": "stream",
     "text": [
      "WARNING: Ignoring invalid distribution -lotly (c:\\users\\felip\\anaconda3\\lib\\site-packages)\n",
      "WARNING: Ignoring invalid distribution -lotly (c:\\users\\felip\\anaconda3\\lib\\site-packages)\n",
      "WARNING: Ignoring invalid distribution -lotly (c:\\users\\felip\\anaconda3\\lib\\site-packages)\n",
      "WARNING: Ignoring invalid distribution -lotly (c:\\users\\felip\\anaconda3\\lib\\site-packages)\n",
      "WARNING: Ignoring invalid distribution -lotly (c:\\users\\felip\\anaconda3\\lib\\site-packages)\n",
      "WARNING: Ignoring invalid distribution -lotly (c:\\users\\felip\\anaconda3\\lib\\site-packages)\n"
     ]
    },
    {
     "name": "stdout",
     "output_type": "stream",
     "text": [
      "Requirement already satisfied: plotly in c:\\users\\felip\\anaconda3\\lib\\site-packages (5.7.0)\n",
      "Requirement already satisfied: six in c:\\users\\felip\\appdata\\roaming\\python\\python38\\site-packages (from plotly) (1.14.0)\n",
      "Requirement already satisfied: tenacity>=6.2.0 in c:\\users\\felip\\anaconda3\\lib\\site-packages (from plotly) (8.0.1)\n"
     ]
    },
    {
     "name": "stderr",
     "output_type": "stream",
     "text": [
      "WARNING: Ignoring invalid distribution -lotly (c:\\users\\felip\\anaconda3\\lib\\site-packages)\n",
      "WARNING: Ignoring invalid distribution -lotly (c:\\users\\felip\\anaconda3\\lib\\site-packages)\n",
      "WARNING: Ignoring invalid distribution -lotly (c:\\users\\felip\\anaconda3\\lib\\site-packages)\n",
      "WARNING: Ignoring invalid distribution -lotly (c:\\users\\felip\\anaconda3\\lib\\site-packages)\n",
      "WARNING: Ignoring invalid distribution -lotly (c:\\users\\felip\\anaconda3\\lib\\site-packages)\n",
      "WARNING: Ignoring invalid distribution -lotly (c:\\users\\felip\\anaconda3\\lib\\site-packages)\n"
     ]
    },
    {
     "name": "stdout",
     "output_type": "stream",
     "text": [
      "Collecting missingno\n",
      "  Downloading missingno-0.5.1-py3-none-any.whl (8.7 kB)\n",
      "Requirement already satisfied: matplotlib in c:\\users\\felip\\anaconda3\\lib\\site-packages (from missingno) (3.5.1)\n",
      "Requirement already satisfied: numpy in c:\\users\\felip\\anaconda3\\lib\\site-packages (from missingno) (1.22.2)\n",
      "Requirement already satisfied: scipy in c:\\users\\felip\\anaconda3\\lib\\site-packages (from missingno) (1.6.2)\n",
      "Requirement already satisfied: seaborn in c:\\users\\felip\\anaconda3\\lib\\site-packages (from missingno) (0.11.2)\n",
      "Requirement already satisfied: packaging>=20.0 in c:\\users\\felip\\anaconda3\\lib\\site-packages (from matplotlib->missingno) (21.3)\n",
      "Requirement already satisfied: pyparsing>=2.2.1 in c:\\users\\felip\\anaconda3\\lib\\site-packages (from matplotlib->missingno) (3.0.4)\n",
      "Requirement already satisfied: fonttools>=4.22.0 in c:\\users\\felip\\anaconda3\\lib\\site-packages (from matplotlib->missingno) (4.25.0)\n",
      "Requirement already satisfied: cycler>=0.10 in c:\\users\\felip\\anaconda3\\lib\\site-packages (from matplotlib->missingno) (0.11.0)\n",
      "Requirement already satisfied: python-dateutil>=2.7 in c:\\users\\felip\\appdata\\roaming\\python\\python38\\site-packages (from matplotlib->missingno) (2.8.1)\n",
      "Requirement already satisfied: kiwisolver>=1.0.1 in c:\\users\\felip\\anaconda3\\lib\\site-packages (from matplotlib->missingno) (1.3.2)\n",
      "Requirement already satisfied: pillow>=6.2.0 in c:\\users\\felip\\anaconda3\\lib\\site-packages (from matplotlib->missingno) (9.0.1)\n",
      "Requirement already satisfied: six>=1.5 in c:\\users\\felip\\appdata\\roaming\\python\\python38\\site-packages (from python-dateutil>=2.7->matplotlib->missingno) (1.14.0)\n",
      "Requirement already satisfied: pandas>=0.23 in c:\\users\\felip\\anaconda3\\lib\\site-packages (from seaborn->missingno) (1.4.2)\n",
      "Requirement already satisfied: pytz>=2020.1 in c:\\users\\felip\\anaconda3\\lib\\site-packages (from pandas>=0.23->seaborn->missingno) (2021.3)\n",
      "Installing collected packages: missingno\n",
      "Successfully installed missingno-0.5.1\n"
     ]
    },
    {
     "name": "stderr",
     "output_type": "stream",
     "text": [
      "WARNING: Ignoring invalid distribution -lotly (c:\\users\\felip\\anaconda3\\lib\\site-packages)\n",
      "WARNING: Ignoring invalid distribution -lotly (c:\\users\\felip\\anaconda3\\lib\\site-packages)\n",
      "WARNING: Ignoring invalid distribution -lotly (c:\\users\\felip\\anaconda3\\lib\\site-packages)\n",
      "WARNING: Ignoring invalid distribution -lotly (c:\\users\\felip\\anaconda3\\lib\\site-packages)\n",
      "WARNING: Ignoring invalid distribution -lotly (c:\\users\\felip\\anaconda3\\lib\\site-packages)\n",
      "WARNING: Ignoring invalid distribution -lotly (c:\\users\\felip\\anaconda3\\lib\\site-packages)\n",
      "WARNING: Ignoring invalid distribution -lotly (c:\\users\\felip\\anaconda3\\lib\\site-packages)\n"
     ]
    }
   ],
   "source": [
    "# Libreria Core del lab.\n",
    "import numpy as np\n",
    "!pip install --upgrade pandas\n",
    "!pip install xlrd\n",
    "!pip install openpyxl\n",
    "import pandas as pd\n",
    "import datetime\n",
    "from scipy import stats\n",
    "\n",
    "from IPython.display import display, Markdown, Latex\n",
    "\n",
    "#Libreria para plotear\n",
    "!pip install --upgrade plotly\n",
    "!pip install missingno\n",
    "import matplotlib.pyplot as plt\n",
    "import missingno as msno\n",
    "import plotly.express as px"
   ]
  },
  {
   "cell_type": "code",
   "execution_count": 2,
   "metadata": {
    "cell_id": "00009-ba85c0a3-286a-4df8-a94e-78588eb64ebd",
    "deepnote_cell_height": 218.53334045410156,
    "deepnote_cell_type": "code",
    "deepnote_to_be_reexecuted": false,
    "execution_millis": 4,
    "execution_start": 1634315852279,
    "id": "gQ0-zPV4NNrq",
    "source_hash": "c60dc4a7"
   },
   "outputs": [
    {
     "name": "stdout",
     "output_type": "stream",
     "text": [
      "Ignorando conexión drive-colab\n"
     ]
    }
   ],
   "source": [
    "# Si usted está utilizando Colabolatory le puede ser útil este código para cargar los archivos.\n",
    "try:\n",
    "    from google.colab import drive\n",
    "    drive.mount(\"/content/drive\")\n",
    "    path = 'Dirección donde tiene los archivos en el Drive'\n",
    "except: \n",
    "    print('Ignorando conexión drive-colab')"
   ]
  },
  {
   "cell_type": "markdown",
   "metadata": {
    "cell_id": "00010-5ea0bd58-e4cf-4cd1-b34d-a6286ab74a6c",
    "deepnote_cell_height": 344.0333251953125,
    "deepnote_cell_type": "markdown",
    "tags": []
   },
   "source": [
    "<p align=\"center\"><iframe width=\"560\" height=\"315\" src=\"https://www.youtube.com/embed/MW4d8_LLYp8?rel=0&amp;controls=0&amp;showinfo=0\" frameborder=\"1\" allowfullscreen></iframe></p>"
   ]
  },
  {
   "cell_type": "markdown",
   "metadata": {
    "cell_id": "00011-0668869e-1260-4409-b506-4251e2a12350",
    "deepnote_cell_height": 133.03334045410156,
    "deepnote_cell_type": "markdown",
    "id": "QDwIXTh7bK_A"
   },
   "source": [
    "# Segmentación de Clientes en Tienda de Retail 🛍️"
   ]
  },
  {
   "cell_type": "markdown",
   "metadata": {
    "cell_id": "00012-f421236d-70fc-4317-934a-d9ca05ba774a",
    "deepnote_cell_height": 293.8500061035156,
    "deepnote_cell_type": "markdown",
    "tags": []
   },
   "source": [
    "<p align=\"center\">\n",
    "  <img width=300 src=\"https://s1.eestatic.com/2018/04/14/social/la_jungla_-_social_299733421_73842361_854x640.jpg\">\n",
    "</p>"
   ]
  },
  {
   "cell_type": "markdown",
   "metadata": {
    "cell_id": "00013-b2816031-9bf6-401b-9ce5-d9a10d6d1395",
    "deepnote_cell_height": 69.03334045410156,
    "deepnote_cell_type": "markdown",
    "tags": []
   },
   "source": [
    "## 1.1 Cargar Dataset"
   ]
  },
  {
   "cell_type": "markdown",
   "metadata": {
    "cell_id": "00014-d3ac5fae-56fd-4d4e-83db-be9df9d130a4",
    "deepnote_cell_height": 272.6333312988281,
    "deepnote_cell_type": "markdown",
    "tags": []
   },
   "source": [
    "Mr. Lepin Mora quien es el gerente de una cotizada tienda de retail en Europa, les solicita si pueden analizar los datos de algunas de sus tiendas y si es posible extraer los diferenciar los tipos de clientes que posee el retail.\n",
    "\n",
    "Para esto, el área de ventas les entrega el archivo `online_retail_II.xlsx` con el que se les pide que cargue y visualicen algunas de las filas que componen el Dataset.\n",
    "\n",
    "Realice una primera visualización de los datos y señale los atributos que componen el dataset. Señale las columnas que conforman el dataset, el tipo de variable presente en cada columna y comente que representa cada una de estas.\n",
    "\n",
    "**Respuesta:** Cada fila corresponde es un producto asociado a una factura (o compra) junto a sus atributos. Las columnas son:\n",
    "\n",
    "(Invoice) [Category] Numero de la factura\n",
    "\n",
    "(StockCode) [Category] Identificador del item o producto\n",
    "\n",
    "(Description) [String] Descripcion del itema asociado a StockCode\n",
    "\n",
    "(Quantity) [Entero] Cantidad de copias del item comprado\n",
    "\n",
    "(InvoiceDate) [DateTime] Fecha de la factura\n",
    "\n",
    "(Price) [Flotante] Precio del item asociado a StockCode\n",
    "\n",
    "(Customer ID) [Category] Identificador del cliente que efectua la compra asociada a Invoice\n",
    "\n",
    "(Country) [String] Pais de origen del pedido "
   ]
  },
  {
   "cell_type": "code",
   "execution_count": 3,
   "metadata": {
    "cell_id": "00015-b7ecc992-93dc-4d37-8161-9e2a5238e17d",
    "colab": {
     "base_uri": "https://localhost:8080/",
     "height": 204
    },
    "deepnote_cell_height": 449.54998779296875,
    "deepnote_cell_type": "code",
    "deepnote_output_heights": [
     174
    ],
    "deepnote_to_be_reexecuted": false,
    "executionInfo": {
     "elapsed": 77353,
     "status": "ok",
     "timestamp": 1619717831933,
     "user": {
      "displayName": "IGNACIO ALEJANDRO MEZA",
      "photoUrl": "",
      "userId": "17011121633069169364"
     },
     "user_tz": 240
    },
    "execution_millis": 375,
    "execution_start": 1634325932264,
    "id": "7FNOu-CvjV5m",
    "outputId": "90b4f92c-71df-44d4-8084-4dd06a6179e4",
    "source_hash": "579ecb11"
   },
   "outputs": [
    {
     "data": {
      "text/html": [
       "<div>\n",
       "<style scoped>\n",
       "    .dataframe tbody tr th:only-of-type {\n",
       "        vertical-align: middle;\n",
       "    }\n",
       "\n",
       "    .dataframe tbody tr th {\n",
       "        vertical-align: top;\n",
       "    }\n",
       "\n",
       "    .dataframe thead th {\n",
       "        text-align: right;\n",
       "    }\n",
       "</style>\n",
       "<table border=\"1\" class=\"dataframe\">\n",
       "  <thead>\n",
       "    <tr style=\"text-align: right;\">\n",
       "      <th></th>\n",
       "      <th>Invoice</th>\n",
       "      <th>StockCode</th>\n",
       "      <th>Description</th>\n",
       "      <th>Quantity</th>\n",
       "      <th>InvoiceDate</th>\n",
       "      <th>Price</th>\n",
       "      <th>Customer ID</th>\n",
       "      <th>Country</th>\n",
       "    </tr>\n",
       "  </thead>\n",
       "  <tbody>\n",
       "    <tr>\n",
       "      <th>0</th>\n",
       "      <td>489434</td>\n",
       "      <td>85048</td>\n",
       "      <td>15CM CHRISTMAS GLASS BALL 20 LIGHTS</td>\n",
       "      <td>12</td>\n",
       "      <td>2009-12-01 07:45:00</td>\n",
       "      <td>6.95</td>\n",
       "      <td>13085.0</td>\n",
       "      <td>United Kingdom</td>\n",
       "    </tr>\n",
       "    <tr>\n",
       "      <th>1</th>\n",
       "      <td>489434</td>\n",
       "      <td>79323P</td>\n",
       "      <td>PINK CHERRY LIGHTS</td>\n",
       "      <td>12</td>\n",
       "      <td>2009-12-01 07:45:00</td>\n",
       "      <td>6.75</td>\n",
       "      <td>13085.0</td>\n",
       "      <td>United Kingdom</td>\n",
       "    </tr>\n",
       "    <tr>\n",
       "      <th>2</th>\n",
       "      <td>489434</td>\n",
       "      <td>79323W</td>\n",
       "      <td>WHITE CHERRY LIGHTS</td>\n",
       "      <td>12</td>\n",
       "      <td>2009-12-01 07:45:00</td>\n",
       "      <td>6.75</td>\n",
       "      <td>13085.0</td>\n",
       "      <td>United Kingdom</td>\n",
       "    </tr>\n",
       "    <tr>\n",
       "      <th>3</th>\n",
       "      <td>489434</td>\n",
       "      <td>22041</td>\n",
       "      <td>RECORD FRAME 7\" SINGLE SIZE</td>\n",
       "      <td>48</td>\n",
       "      <td>2009-12-01 07:45:00</td>\n",
       "      <td>2.10</td>\n",
       "      <td>13085.0</td>\n",
       "      <td>United Kingdom</td>\n",
       "    </tr>\n",
       "    <tr>\n",
       "      <th>4</th>\n",
       "      <td>489434</td>\n",
       "      <td>21232</td>\n",
       "      <td>STRAWBERRY CERAMIC TRINKET BOX</td>\n",
       "      <td>24</td>\n",
       "      <td>2009-12-01 07:45:00</td>\n",
       "      <td>1.25</td>\n",
       "      <td>13085.0</td>\n",
       "      <td>United Kingdom</td>\n",
       "    </tr>\n",
       "  </tbody>\n",
       "</table>\n",
       "</div>"
      ],
      "text/plain": [
       "  Invoice StockCode                          Description  Quantity  \\\n",
       "0  489434     85048  15CM CHRISTMAS GLASS BALL 20 LIGHTS        12   \n",
       "1  489434    79323P                   PINK CHERRY LIGHTS        12   \n",
       "2  489434    79323W                  WHITE CHERRY LIGHTS        12   \n",
       "3  489434     22041         RECORD FRAME 7\" SINGLE SIZE         48   \n",
       "4  489434     21232       STRAWBERRY CERAMIC TRINKET BOX        24   \n",
       "\n",
       "          InvoiceDate  Price Customer ID         Country  \n",
       "0 2009-12-01 07:45:00   6.95     13085.0  United Kingdom  \n",
       "1 2009-12-01 07:45:00   6.75     13085.0  United Kingdom  \n",
       "2 2009-12-01 07:45:00   6.75     13085.0  United Kingdom  \n",
       "3 2009-12-01 07:45:00   2.10     13085.0  United Kingdom  \n",
       "4 2009-12-01 07:45:00   1.25     13085.0  United Kingdom  "
      ]
     },
     "execution_count": 3,
     "metadata": {},
     "output_type": "execute_result"
    }
   ],
   "source": [
    "df_retail = pd.read_pickle(\"online_retail_II.pickle\")\n",
    "df_retail = df_retail.astype(\n",
    "    {\n",
    "        \"Invoice\": \"category\",\n",
    "        \"StockCode\": \"category\",\n",
    "        \"Description\": str,\n",
    "        \"Customer ID\": \"category\",\n",
    "    }\n",
    ")\n",
    "df_retail.head()"
   ]
  },
  {
   "cell_type": "code",
   "execution_count": 7,
   "metadata": {},
   "outputs": [
    {
     "name": "stdout",
     "output_type": "stream",
     "text": [
      "<class 'pandas.core.frame.DataFrame'>\n",
      "RangeIndex: 525461 entries, 0 to 525460\n",
      "Data columns (total 8 columns):\n",
      " #   Column       Non-Null Count   Dtype         \n",
      "---  ------       --------------   -----         \n",
      " 0   Invoice      525461 non-null  category      \n",
      " 1   StockCode    525461 non-null  category      \n",
      " 2   Description  525461 non-null  object        \n",
      " 3   Quantity     525461 non-null  int64         \n",
      " 4   InvoiceDate  525461 non-null  datetime64[ns]\n",
      " 5   Price        525461 non-null  float64       \n",
      " 6   Customer ID  417534 non-null  category      \n",
      " 7   Country      525461 non-null  object        \n",
      "dtypes: category(3), datetime64[ns](1), float64(1), int64(1), object(2)\n",
      "memory usage: 24.6+ MB\n"
     ]
    }
   ],
   "source": [
    "df_retail.info()"
   ]
  },
  {
   "cell_type": "markdown",
   "metadata": {
    "cell_id": "00016-95d543d8-e605-4635-98c6-8a4a1293df5a",
    "deepnote_cell_height": 332.23333740234375,
    "deepnote_cell_type": "markdown",
    "id": "Rcjs-dd1V-1u"
   },
   "source": [
    "## 1.2 Analisís Explotatorio de los Datos [0.5 puntos] \n",
    "\n",
    "En base a la primera visualización del dataset, *Don Mora* le solicita que realicen un análisis exploratorio de los datos, para esto les deberán realizar un análisis univariado y multivariado. De la revisión, ustedes deben explicar potenciales anomalías visualizadas y señalar si existe la necesidad de realizar una limpieza de datos.\n",
    "\n",
    "Explique a que nos referimos con análisis univariable, multivariable y de datos faltantes. ¿Qué beneficios nos otorga estudiar estos datos?. Sea conciso con su respuesta y no escriba mas de 5 líneas para su respuesta.\n",
    "\n",
    "**Respuesta a la Pregunta:**"
   ]
  },
  {
   "cell_type": "markdown",
   "metadata": {
    "cell_id": "00017-6d2ae959-397e-46d6-af72-1d1023615611",
    "deepnote_cell_height": 65.43333435058594,
    "deepnote_cell_type": "markdown",
    "tags": []
   },
   "source": [
    "> El análisis univariable se asocia al estudio de una sola variable a partir de indicadores estadísticos, la distribución de los valores y su relación con una determinada variable objetivo (cuando es posible). Un análisis multivariado corresponde al estudio de la relación entre las distintas variables del conjunto de datos. Por último, para decidir qué hacer con los datos faltantes, se realiza un análisis exploratorio de las demás variables para elegir una estrategia adecuada para tratarlas."
   ]
  },
  {
   "cell_type": "markdown",
   "metadata": {
    "cell_id": "00018-0d2e4dfa-8dfb-4959-b694-e5ac27dd372a",
    "deepnote_cell_height": 225.43333435058594,
    "deepnote_cell_type": "markdown",
    "tags": []
   },
   "source": [
    "### 1.2.1 Análisis Univariado [2 Puntos]\n",
    "\n",
    "A continuación, se le presentan dos funciones para analizar los datos que componen un dataframe. La primera de estas es la función ``profile_serie()`` la cual recibe una serie y le entrega un análisis detallado de los datos que conforman dicha serie. \n",
    "\n",
    "Ejecute la funcion ``profile_serie()`` sobre cada serie para realizar un análisis univariado de estas. A continuación, comente acerca de el comportamiento de cada variable según las estadísticas descriptivas y los gráficos generados."
   ]
  },
  {
   "cell_type": "code",
   "execution_count": 10,
   "metadata": {
    "cell_id": "00019-075c9c6a-b956-4329-a280-abd00da1a752",
    "deepnote_cell_height": 1682.0333251953125,
    "deepnote_cell_type": "code",
    "deepnote_to_be_reexecuted": false,
    "execution_millis": 1,
    "execution_start": 1634325950632,
    "source_hash": "60609391",
    "tags": []
   },
   "outputs": [],
   "source": [
    "from pandas.api.types import is_numeric_dtype\n",
    "from pandas.core.dtypes.common import is_datetime_or_timedelta_dtype\n",
    "\n",
    "\n",
    "def profile_serie(serie_in, n_samples=1000, random_state=42):\n",
    "    serie = serie_in.copy()\n",
    "\n",
    "    profile = pd.Series(dtype='object')\n",
    "    profile[\"Type\"] = serie.dtype\n",
    "    profile = pd.concat([profile, serie.describe(datetime_is_numeric=True)])\n",
    "\n",
    "    # profile = pd.Series([])\n",
    "\n",
    "    if is_numeric_dtype(serie):\n",
    "        profile[\"Negative\"] = (serie < 0).sum()\n",
    "        profile[\"Negative (%)\"] = (\n",
    "            str(round((serie < 0).sum() / len(serie) * 100, 2)) + \" %\"\n",
    "        )\n",
    "        profile[\"Zeros\"] = (serie == 0).sum()\n",
    "        profile[\"Zeros (%)\"] = (\n",
    "            str(round((serie == 0).sum() / len(serie) * 100, 2)) + \" %\"\n",
    "        )\n",
    "        profile[\"Kurt\"] = serie.kurt()\n",
    "        profile[\"Skew\"] = serie.skew()\n",
    "\n",
    "    profile[\" \"] = \" \"  # espacio\n",
    "\n",
    "    profile[\"Missing cells\"] = serie.isnull().sum()\n",
    "    profile[\"Missing cells (%)\"] = (\n",
    "        str(round(serie.isnull().sum() / len(serie) * 100, 2)) + \" %\"\n",
    "    )\n",
    "    profile[\"Duplicate rows\"] = serie.duplicated(False).sum()\n",
    "    profile[\"Duplicate rows (%)\"] = (\n",
    "        str(round(serie.duplicated(False).sum() / len(serie) * 100, 2)) + \" %\"\n",
    "    )\n",
    "    profile[\"Total size in memory\"] = str(serie.memory_usage(index=True)) + \" bytes\"\n",
    "\n",
    "    # profile = pd.concat([profile, description])\n",
    "\n",
    "    profile = profile.rename(\n",
    "        index={\n",
    "            \"count\": \"Number of observations\",\n",
    "            \"mean\": \"Mean\",\n",
    "            \"std\": \"Std\",\n",
    "            \"min\": \"Min\",\n",
    "            \"max\": \"Max\",\n",
    "            \"unique\": \"Unique\",\n",
    "            \"top\": \"Top\",\n",
    "            \"freq\": \"Freq\",\n",
    "        }\n",
    "    )\n",
    "    no_outliers_fig = None\n",
    "\n",
    "    if is_numeric_dtype(serie):\n",
    "\n",
    "        sampled_serie = serie.sample(n_samples, random_state=random_state)\n",
    "        fig = px.histogram(\n",
    "            sampled_serie, marginal=\"box\", title=f\"{serie.name} - With Outliers\"\n",
    "        )\n",
    "\n",
    "        no_outliers = sampled_serie.loc[(np.abs(stats.zscore(sampled_serie)) < 3)]\n",
    "        # zscore = https://es.wikipedia.org/wiki/Unidad_tipificada\n",
    "        \n",
    "        no_outliers_fig = px.histogram(\n",
    "            no_outliers, marginal=\"box\", title=f\"{serie.name} - Without Outliers\"\n",
    "        )\n",
    "\n",
    "    elif is_datetime_or_timedelta_dtype(serie):\n",
    "        sampled_serie = serie.sample(n_samples, random_state=random_state)\n",
    "        fig = px.histogram(sampled_serie, marginal=\"box\", title=f\"{serie.name}\")\n",
    "    \n",
    "    else:\n",
    "        count = (\n",
    "            serie.value_counts()[0:100]\n",
    "            .reset_index()\n",
    "            .rename(columns={\"index\": serie.name, serie.name: \"Count\"})\n",
    "        )\n",
    "        fig = px.bar(\n",
    "            x=count[serie.name].astype(str),\n",
    "            y=count[\"Count\"],\n",
    "            title=f\"100 Most common categories of {serie.name}\",\n",
    "        )\n",
    "    display(Markdown(f'## {serie.name} Profile'))\n",
    "    display(profile)\n",
    "    fig.show()\n",
    "\n",
    "    if no_outliers_fig:\n",
    "        no_outliers_fig.show()\n",
    "\n",
    "    # return fig, profile"
   ]
  },
  {
   "cell_type": "code",
   "execution_count": 19,
   "metadata": {
    "cell_id": "00020-0dd41995-78f8-4f2c-ac5d-f36288ccfda0",
    "deepnote_cell_height": 1714.0999755859375,
    "deepnote_cell_type": "code",
    "deepnote_output_heights": [
     49,
     424,
     527,
     527
    ],
    "deepnote_to_be_reexecuted": false,
    "execution_millis": 2062,
    "execution_start": 1634325955534,
    "source_hash": "6155d0f5",
    "tags": []
   },
   "outputs": [
    {
     "data": {
      "text/markdown": [
       "## Price Profile"
      ],
      "text/plain": [
       "<IPython.core.display.Markdown object>"
      ]
     },
     "metadata": {},
     "output_type": "display_data"
    },
    {
     "data": {
      "text/plain": [
       "Type                            float64\n",
       "Number of observations         525461.0\n",
       "Mean                           4.688834\n",
       "Std                          146.126914\n",
       "Min                           -53594.36\n",
       "25%                                1.25\n",
       "50%                                 2.1\n",
       "75%                                4.21\n",
       "Max                            25111.09\n",
       "Negative                              3\n",
       "Negative (%)                      0.0 %\n",
       "Zeros                              3687\n",
       "Zeros (%)                         0.7 %\n",
       "Kurt                       64868.344873\n",
       "Skew                        -140.768446\n",
       "                                       \n",
       "Missing cells                         0\n",
       "Missing cells (%)                 0.0 %\n",
       "Duplicate rows                   524485\n",
       "Duplicate rows (%)              99.81 %\n",
       "Total size in memory      4203816 bytes\n",
       "dtype: object"
      ]
     },
     "metadata": {},
     "output_type": "display_data"
    },
    {
     "data": {
      "application/vnd.plotly.v1+json": {
       "config": {
        "plotlyServerURL": "https://plot.ly"
       },
       "data": [
        {
         "alignmentgroup": "True",
         "bingroup": "x",
         "hovertemplate": "variable=Price<br>value=%{x}<br>count=%{y}<extra></extra>",
         "legendgroup": "Price",
         "marker": {
          "color": "#636efa",
          "pattern": {
           "shape": ""
          }
         },
         "name": "Price",
         "offsetgroup": "Price",
         "orientation": "v",
         "showlegend": true,
         "type": "histogram",
         "x": [
          7.95,
          2.1,
          0.55,
          1.25,
          4.95,
          0.64,
          5.91,
          3.75,
          1.25,
          1.95,
          1.25,
          12.72,
          0.38,
          1.25,
          2.95,
          5.06,
          8.5,
          6.04,
          1.65,
          4.25,
          4.21,
          3.75,
          5.91,
          2.1,
          10.95,
          4.21,
          13.87,
          0.42,
          0.1,
          2.51,
          2.51,
          2.95,
          4.21,
          0.42,
          1.45,
          2.55,
          1.66,
          4.65,
          5.55,
          2.51,
          0.65,
          2.55,
          1.45,
          9.95,
          1.25,
          2.1,
          1.95,
          1.65,
          0.87,
          2.95,
          0.85,
          0.55,
          1.65,
          0.85,
          8.49,
          0.85,
          5.91,
          4.21,
          2.1,
          2.51,
          1.95,
          6.35,
          0.65,
          2.55,
          8.5,
          1.25,
          10.95,
          0.85,
          13.57,
          0.85,
          0.85,
          2.1,
          3.75,
          1.65,
          12.75,
          7.49,
          1.66,
          1.65,
          7.65,
          1.65,
          2.95,
          0.65,
          2.55,
          0.85,
          0.85,
          2.51,
          0.85,
          5.91,
          4.25,
          4.95,
          18,
          1.65,
          1.65,
          10.95,
          2.55,
          1.65,
          1.25,
          2.57,
          2.55,
          2.95,
          0.85,
          0.85,
          1.65,
          0.85,
          0.65,
          2.95,
          8.5,
          8.5,
          0.08,
          1.25,
          1.25,
          6.75,
          6.75,
          3.75,
          2.95,
          1.45,
          1.25,
          5.95,
          4.65,
          0.95,
          0.85,
          2.95,
          1.65,
          6.77,
          2.1,
          2.25,
          4.21,
          1.69,
          0.42,
          1.25,
          1.65,
          1.25,
          2.55,
          1.65,
          2.57,
          1.25,
          2.51,
          5.91,
          0.42,
          1.66,
          5.88,
          0.85,
          0.21,
          0.19,
          1.65,
          1.65,
          1.69,
          0.42,
          4.95,
          2.95,
          3.75,
          1.65,
          1.65,
          1.95,
          1.69,
          0.29,
          5.95,
          8.5,
          2.1,
          4.21,
          2.95,
          7.95,
          1.65,
          0.42,
          1.25,
          1.45,
          1.65,
          3.75,
          0.36,
          10.75,
          12.75,
          2.1,
          1.25,
          4.95,
          2.55,
          0.42,
          5.95,
          1.25,
          1.69,
          1.69,
          1.65,
          4.95,
          1.84,
          1.95,
          4.65,
          1.25,
          0.85,
          5.95,
          1.95,
          0.85,
          0.42,
          1.65,
          4.25,
          1.25,
          4.95,
          0.85,
          2.55,
          1.06,
          0,
          1.25,
          4.25,
          3.36,
          0.85,
          5.45,
          1.95,
          7.49,
          1.25,
          0.42,
          7.62,
          1.25,
          2.51,
          1.66,
          0.85,
          3.75,
          1.95,
          0.85,
          2.95,
          4.25,
          2.1,
          3.75,
          1.45,
          0.85,
          0.42,
          8.5,
          3.45,
          8.47,
          8.95,
          3.25,
          0.85,
          1.65,
          0.85,
          2.98,
          2.95,
          0.55,
          3.75,
          1.25,
          1.65,
          0.85,
          7.49,
          0.38,
          1.65,
          3.36,
          1.65,
          34,
          3.75,
          1.95,
          5.06,
          4.65,
          3.39,
          1.25,
          1.25,
          8.47,
          2.95,
          4.95,
          0.65,
          0.85,
          4.21,
          0.65,
          4.95,
          2.1,
          2.51,
          3.75,
          0.85,
          0.43,
          8.5,
          1.25,
          2.95,
          2.95,
          7.95,
          2.1,
          5.91,
          2.95,
          0.95,
          1.25,
          2.51,
          1.25,
          3.36,
          1.25,
          2.55,
          2.95,
          4.25,
          2.1,
          0.72,
          7.49,
          4.21,
          2.95,
          0.85,
          0.42,
          2.51,
          0.85,
          3.75,
          1.65,
          3.75,
          0.42,
          12.75,
          1.25,
          1.65,
          1.65,
          0.85,
          1.45,
          0.85,
          0.34,
          2.95,
          0.85,
          9.95,
          4.21,
          1.95,
          2.51,
          2.55,
          9.95,
          4.21,
          1.66,
          0.85,
          9.95,
          0,
          1.65,
          2.95,
          1.06,
          1.25,
          1.25,
          4.25,
          1.65,
          8.5,
          16.13,
          1.25,
          7.49,
          2.1,
          11.26,
          0.43,
          0.42,
          10.17,
          1.66,
          0.81,
          5.95,
          4.21,
          14.95,
          1.25,
          0.72,
          3.36,
          3.75,
          1.06,
          8.5,
          6.75,
          2.95,
          0.42,
          0.55,
          11.87,
          0.65,
          2.1,
          1.95,
          2.1,
          1.45,
          2.95,
          79.95,
          1.65,
          4.25,
          2.55,
          4.95,
          2.1,
          2.51,
          4.25,
          1.25,
          1.65,
          4.25,
          1.66,
          122.3,
          3.45,
          7.65,
          9.95,
          1.65,
          3.36,
          9.95,
          1.65,
          2.55,
          2.1,
          0.85,
          0.85,
          2.95,
          3.36,
          4.3,
          5.06,
          0.19,
          2.1,
          3.36,
          1.66,
          2.1,
          5.91,
          5.95,
          1.06,
          2.55,
          34,
          2.55,
          7.49,
          0.65,
          2.95,
          7.95,
          8.47,
          2.1,
          3.36,
          2.1,
          1.95,
          2.55,
          2.51,
          2.1,
          2.12,
          9.95,
          4.95,
          4.21,
          1.25,
          0.42,
          2.95,
          5.91,
          0.55,
          0.42,
          38.26,
          12.75,
          2.95,
          9.95,
          16.95,
          5.45,
          0.55,
          3.95,
          2.95,
          0.85,
          4.21,
          0.55,
          7.49,
          0.85,
          0.72,
          1.25,
          2.51,
          6.95,
          1.66,
          5.91,
          4.95,
          4.21,
          0.85,
          3.95,
          0.42,
          1.66,
          1.25,
          1.25,
          2.95,
          34.74,
          1.95,
          1.25,
          2.51,
          0.85,
          2.1,
          1.06,
          6.75,
          2.1,
          0.55,
          6.04,
          0.85,
          0.85,
          0.83,
          3.25,
          2.55,
          7.62,
          1.45,
          1.06,
          1.45,
          2.1,
          2.95,
          9.95,
          1.65,
          12.75,
          1.25,
          3.75,
          0.85,
          0.55,
          1.25,
          0.85,
          0.65,
          1.25,
          1.69,
          5.95,
          0,
          1.25,
          0.55,
          2.1,
          4.21,
          1.65,
          5.95,
          1.25,
          1.45,
          0.85,
          2.95,
          2.95,
          1.65,
          8.47,
          8.5,
          2.55,
          2.1,
          0.85,
          8.5,
          1.95,
          1.7,
          0.65,
          2.95,
          1.65,
          1.25,
          0.85,
          4.25,
          0.64,
          0.42,
          0.38,
          1.65,
          2.1,
          12.75,
          0.65,
          0.65,
          4.95,
          0.85,
          1.25,
          1.66,
          1.65,
          0.85,
          4.95,
          3.04,
          0.42,
          16.95,
          1.65,
          1.25,
          5.06,
          0.85,
          0.85,
          2.1,
          1.65,
          0.85,
          8.47,
          3.43,
          2.55,
          0.42,
          9.95,
          1.66,
          0.65,
          1.25,
          12.75,
          12.72,
          5.95,
          4.65,
          3.39,
          6.75,
          1.65,
          4.25,
          0.85,
          2.55,
          2.95,
          3.75,
          2.55,
          1.65,
          7.95,
          1.95,
          0.29,
          4.95,
          1.25,
          0.42,
          2.95,
          5.95,
          1.25,
          4.95,
          5.91,
          4.21,
          16.98,
          1.65,
          4.25,
          2.95,
          1.25,
          1.45,
          3.36,
          10.95,
          1.49,
          12.75,
          4.25,
          0.29,
          9.95,
          1.65,
          1.45,
          7.95,
          1.45,
          1.66,
          1.65,
          2.95,
          5.95,
          3.75,
          0.42,
          2.95,
          2.98,
          2.95,
          1.65,
          1.65,
          1.95,
          0.38,
          1.65,
          7.95,
          2.55,
          4.25,
          2.95,
          0.85,
          2.95,
          1.45,
          1.65,
          0.42,
          5.95,
          1.25,
          2.1,
          0.85,
          3.75,
          34,
          3.75,
          1.45,
          4.25,
          1.25,
          1.65,
          3.75,
          7.62,
          0.55,
          1.95,
          1.45,
          1.7,
          0.36,
          4.5,
          4.95,
          1.95,
          4.21,
          1.25,
          5.17,
          2.55,
          0.42,
          4.95,
          1.95,
          2.55,
          1.28,
          1.65,
          0.42,
          1.95,
          1.65,
          2.1,
          0.85,
          5.95,
          0.65,
          1.45,
          7.65,
          2.1,
          2.95,
          4.95,
          8.47,
          0.95,
          1.25,
          2.95,
          9.95,
          1.65,
          2.55,
          1.65,
          1.25,
          1.25,
          1.25,
          1.25,
          2.51,
          0.85,
          7.49,
          1.65,
          1.45,
          1.95,
          0.65,
          1.25,
          0.42,
          2.1,
          12.75,
          0.85,
          1.7,
          2.1,
          2.95,
          1.25,
          3.36,
          1.65,
          1.95,
          2.55,
          5.45,
          0.55,
          16.95,
          6.04,
          4.21,
          5.95,
          4.95,
          1.06,
          2.55,
          7.49,
          1.25,
          0.55,
          1.95,
          5.95,
          5.95,
          295,
          2.51,
          5.91,
          4.3,
          1.65,
          2.51,
          1.25,
          1.25,
          16.98,
          1.25,
          10.95,
          3.35,
          1.45,
          1.65,
          1.25,
          1.65,
          4.21,
          2.95,
          0.42,
          2.55,
          4.95,
          4.95,
          1.25,
          3.36,
          1.25,
          1.95,
          3.36,
          2.51,
          0.85,
          2.55,
          2.55,
          1.65,
          5.91,
          1.7,
          2.1,
          3.36,
          0.42,
          2.1,
          1.65,
          0.36,
          2.95,
          8.5,
          0.42,
          0.42,
          1.25,
          1.66,
          1.06,
          5.2,
          1.28,
          12.75,
          1.25,
          2.95,
          3.75,
          1.66,
          5.95,
          8.5,
          0.55,
          0.85,
          2.95,
          1.25,
          0.85,
          1.25,
          1.25,
          4.21,
          0.85,
          0.42,
          7.95,
          3.36,
          1.25,
          0.38,
          0.85,
          2.95,
          8.95,
          1.65,
          0.85,
          11.02,
          7.95,
          0.85,
          2.25,
          4.95,
          0.85,
          11.02,
          2.1,
          0.85,
          12.75,
          2.55,
          0.42,
          2.95,
          12.75,
          1.69,
          0.85,
          1.25,
          5.06,
          5.91,
          4.65,
          0.95,
          1.25,
          1.65,
          0.85,
          0.65,
          2.95,
          8.47,
          1.66,
          5.91,
          0.42,
          5.95,
          7.95,
          4.21,
          2.95,
          1.25,
          0.85,
          6.35,
          0.65,
          0.42,
          6.75,
          0.42,
          2.55,
          12.75,
          2.95,
          0.85,
          4.95,
          2.55,
          1.25,
          2.95,
          1.28,
          6.75,
          1.95,
          1.66,
          4.3,
          0.53,
          1.65,
          3.75,
          2.1,
          2.1,
          3.36,
          3.75,
          5.95,
          1.25,
          0.95,
          2.95,
          4.21,
          1.66,
          5.91,
          1.69,
          5.49,
          2.55,
          1.65,
          0.65,
          1.66,
          0.85,
          7.95,
          2.95,
          4.25,
          0.55,
          0.65,
          1.45,
          3.75,
          1.85,
          5.95,
          4.95,
          1.25,
          2.55,
          12.75,
          9.95,
          0.85,
          1.25,
          1.25,
          0.42,
          1.69,
          0.42,
          1.69,
          2.95,
          1.25,
          1.65,
          5.91,
          3.36,
          0.55,
          1.25,
          0.85,
          1.25,
          5.95,
          6.45,
          2.95,
          1.28,
          1.95,
          1.25,
          0.85,
          0.42,
          1.25,
          1.65,
          4.95,
          2.95,
          3.95,
          3.36,
          0.55,
          1.95,
          2.1,
          1.66,
          2.1,
          1.25,
          9.95,
          1.95,
          3.75,
          3.75,
          12.72,
          3.75,
          0.43,
          0.85,
          0.85,
          2.95,
          0.81,
          0.85,
          1.25,
          2.1,
          5.95,
          0.85,
          2.95,
          8.95,
          2.1,
          2.55,
          3.75,
          0.42,
          0.85,
          1.65,
          2.55,
          9.95,
          4.21,
          29.79,
          4.95,
          1.65,
          3.75,
          0.21,
          2.55,
          2.1,
          4.21,
          0.85,
          0.55,
          0.85,
          0.85,
          2.95,
          0.65,
          1.06,
          7.95,
          4.25,
          0.55,
          2.95,
          2.1,
          1269.51,
          2.51,
          0.65,
          1.25,
          4.25,
          3.75,
          1.25,
          3.36,
          0.55,
          3.75,
          2.55,
          1.95,
          0.42,
          0.42,
          0.42,
          4.21,
          0.85,
          3.75,
          0.43,
          0.42,
          1.65,
          2.95,
          2.51,
          0.85,
          3.25,
          4.95,
          14.43,
          5.45,
          7.95,
          2.1,
          0.42,
          12.75,
          1.45,
          0.85,
          1.66,
          0.85,
          8.47,
          2.1,
          1.85,
          6.75,
          3.75,
          1.25,
          2.95,
          1.66,
          2.95,
          4.25,
          4.95,
          1.25,
          4.21,
          4.95,
          1.25,
          12.75,
          3.75,
          2.95,
          1.65,
          1.95,
          1.95,
          2.98
         ],
         "xaxis": "x",
         "yaxis": "y"
        },
        {
         "alignmentgroup": "True",
         "hovertemplate": "variable=Price<br>value=%{x}<extra></extra>",
         "legendgroup": "Price",
         "marker": {
          "color": "#636efa"
         },
         "name": "Price",
         "notched": true,
         "offsetgroup": "Price",
         "showlegend": false,
         "type": "box",
         "x": [
          7.95,
          2.1,
          0.55,
          1.25,
          4.95,
          0.64,
          5.91,
          3.75,
          1.25,
          1.95,
          1.25,
          12.72,
          0.38,
          1.25,
          2.95,
          5.06,
          8.5,
          6.04,
          1.65,
          4.25,
          4.21,
          3.75,
          5.91,
          2.1,
          10.95,
          4.21,
          13.87,
          0.42,
          0.1,
          2.51,
          2.51,
          2.95,
          4.21,
          0.42,
          1.45,
          2.55,
          1.66,
          4.65,
          5.55,
          2.51,
          0.65,
          2.55,
          1.45,
          9.95,
          1.25,
          2.1,
          1.95,
          1.65,
          0.87,
          2.95,
          0.85,
          0.55,
          1.65,
          0.85,
          8.49,
          0.85,
          5.91,
          4.21,
          2.1,
          2.51,
          1.95,
          6.35,
          0.65,
          2.55,
          8.5,
          1.25,
          10.95,
          0.85,
          13.57,
          0.85,
          0.85,
          2.1,
          3.75,
          1.65,
          12.75,
          7.49,
          1.66,
          1.65,
          7.65,
          1.65,
          2.95,
          0.65,
          2.55,
          0.85,
          0.85,
          2.51,
          0.85,
          5.91,
          4.25,
          4.95,
          18,
          1.65,
          1.65,
          10.95,
          2.55,
          1.65,
          1.25,
          2.57,
          2.55,
          2.95,
          0.85,
          0.85,
          1.65,
          0.85,
          0.65,
          2.95,
          8.5,
          8.5,
          0.08,
          1.25,
          1.25,
          6.75,
          6.75,
          3.75,
          2.95,
          1.45,
          1.25,
          5.95,
          4.65,
          0.95,
          0.85,
          2.95,
          1.65,
          6.77,
          2.1,
          2.25,
          4.21,
          1.69,
          0.42,
          1.25,
          1.65,
          1.25,
          2.55,
          1.65,
          2.57,
          1.25,
          2.51,
          5.91,
          0.42,
          1.66,
          5.88,
          0.85,
          0.21,
          0.19,
          1.65,
          1.65,
          1.69,
          0.42,
          4.95,
          2.95,
          3.75,
          1.65,
          1.65,
          1.95,
          1.69,
          0.29,
          5.95,
          8.5,
          2.1,
          4.21,
          2.95,
          7.95,
          1.65,
          0.42,
          1.25,
          1.45,
          1.65,
          3.75,
          0.36,
          10.75,
          12.75,
          2.1,
          1.25,
          4.95,
          2.55,
          0.42,
          5.95,
          1.25,
          1.69,
          1.69,
          1.65,
          4.95,
          1.84,
          1.95,
          4.65,
          1.25,
          0.85,
          5.95,
          1.95,
          0.85,
          0.42,
          1.65,
          4.25,
          1.25,
          4.95,
          0.85,
          2.55,
          1.06,
          0,
          1.25,
          4.25,
          3.36,
          0.85,
          5.45,
          1.95,
          7.49,
          1.25,
          0.42,
          7.62,
          1.25,
          2.51,
          1.66,
          0.85,
          3.75,
          1.95,
          0.85,
          2.95,
          4.25,
          2.1,
          3.75,
          1.45,
          0.85,
          0.42,
          8.5,
          3.45,
          8.47,
          8.95,
          3.25,
          0.85,
          1.65,
          0.85,
          2.98,
          2.95,
          0.55,
          3.75,
          1.25,
          1.65,
          0.85,
          7.49,
          0.38,
          1.65,
          3.36,
          1.65,
          34,
          3.75,
          1.95,
          5.06,
          4.65,
          3.39,
          1.25,
          1.25,
          8.47,
          2.95,
          4.95,
          0.65,
          0.85,
          4.21,
          0.65,
          4.95,
          2.1,
          2.51,
          3.75,
          0.85,
          0.43,
          8.5,
          1.25,
          2.95,
          2.95,
          7.95,
          2.1,
          5.91,
          2.95,
          0.95,
          1.25,
          2.51,
          1.25,
          3.36,
          1.25,
          2.55,
          2.95,
          4.25,
          2.1,
          0.72,
          7.49,
          4.21,
          2.95,
          0.85,
          0.42,
          2.51,
          0.85,
          3.75,
          1.65,
          3.75,
          0.42,
          12.75,
          1.25,
          1.65,
          1.65,
          0.85,
          1.45,
          0.85,
          0.34,
          2.95,
          0.85,
          9.95,
          4.21,
          1.95,
          2.51,
          2.55,
          9.95,
          4.21,
          1.66,
          0.85,
          9.95,
          0,
          1.65,
          2.95,
          1.06,
          1.25,
          1.25,
          4.25,
          1.65,
          8.5,
          16.13,
          1.25,
          7.49,
          2.1,
          11.26,
          0.43,
          0.42,
          10.17,
          1.66,
          0.81,
          5.95,
          4.21,
          14.95,
          1.25,
          0.72,
          3.36,
          3.75,
          1.06,
          8.5,
          6.75,
          2.95,
          0.42,
          0.55,
          11.87,
          0.65,
          2.1,
          1.95,
          2.1,
          1.45,
          2.95,
          79.95,
          1.65,
          4.25,
          2.55,
          4.95,
          2.1,
          2.51,
          4.25,
          1.25,
          1.65,
          4.25,
          1.66,
          122.3,
          3.45,
          7.65,
          9.95,
          1.65,
          3.36,
          9.95,
          1.65,
          2.55,
          2.1,
          0.85,
          0.85,
          2.95,
          3.36,
          4.3,
          5.06,
          0.19,
          2.1,
          3.36,
          1.66,
          2.1,
          5.91,
          5.95,
          1.06,
          2.55,
          34,
          2.55,
          7.49,
          0.65,
          2.95,
          7.95,
          8.47,
          2.1,
          3.36,
          2.1,
          1.95,
          2.55,
          2.51,
          2.1,
          2.12,
          9.95,
          4.95,
          4.21,
          1.25,
          0.42,
          2.95,
          5.91,
          0.55,
          0.42,
          38.26,
          12.75,
          2.95,
          9.95,
          16.95,
          5.45,
          0.55,
          3.95,
          2.95,
          0.85,
          4.21,
          0.55,
          7.49,
          0.85,
          0.72,
          1.25,
          2.51,
          6.95,
          1.66,
          5.91,
          4.95,
          4.21,
          0.85,
          3.95,
          0.42,
          1.66,
          1.25,
          1.25,
          2.95,
          34.74,
          1.95,
          1.25,
          2.51,
          0.85,
          2.1,
          1.06,
          6.75,
          2.1,
          0.55,
          6.04,
          0.85,
          0.85,
          0.83,
          3.25,
          2.55,
          7.62,
          1.45,
          1.06,
          1.45,
          2.1,
          2.95,
          9.95,
          1.65,
          12.75,
          1.25,
          3.75,
          0.85,
          0.55,
          1.25,
          0.85,
          0.65,
          1.25,
          1.69,
          5.95,
          0,
          1.25,
          0.55,
          2.1,
          4.21,
          1.65,
          5.95,
          1.25,
          1.45,
          0.85,
          2.95,
          2.95,
          1.65,
          8.47,
          8.5,
          2.55,
          2.1,
          0.85,
          8.5,
          1.95,
          1.7,
          0.65,
          2.95,
          1.65,
          1.25,
          0.85,
          4.25,
          0.64,
          0.42,
          0.38,
          1.65,
          2.1,
          12.75,
          0.65,
          0.65,
          4.95,
          0.85,
          1.25,
          1.66,
          1.65,
          0.85,
          4.95,
          3.04,
          0.42,
          16.95,
          1.65,
          1.25,
          5.06,
          0.85,
          0.85,
          2.1,
          1.65,
          0.85,
          8.47,
          3.43,
          2.55,
          0.42,
          9.95,
          1.66,
          0.65,
          1.25,
          12.75,
          12.72,
          5.95,
          4.65,
          3.39,
          6.75,
          1.65,
          4.25,
          0.85,
          2.55,
          2.95,
          3.75,
          2.55,
          1.65,
          7.95,
          1.95,
          0.29,
          4.95,
          1.25,
          0.42,
          2.95,
          5.95,
          1.25,
          4.95,
          5.91,
          4.21,
          16.98,
          1.65,
          4.25,
          2.95,
          1.25,
          1.45,
          3.36,
          10.95,
          1.49,
          12.75,
          4.25,
          0.29,
          9.95,
          1.65,
          1.45,
          7.95,
          1.45,
          1.66,
          1.65,
          2.95,
          5.95,
          3.75,
          0.42,
          2.95,
          2.98,
          2.95,
          1.65,
          1.65,
          1.95,
          0.38,
          1.65,
          7.95,
          2.55,
          4.25,
          2.95,
          0.85,
          2.95,
          1.45,
          1.65,
          0.42,
          5.95,
          1.25,
          2.1,
          0.85,
          3.75,
          34,
          3.75,
          1.45,
          4.25,
          1.25,
          1.65,
          3.75,
          7.62,
          0.55,
          1.95,
          1.45,
          1.7,
          0.36,
          4.5,
          4.95,
          1.95,
          4.21,
          1.25,
          5.17,
          2.55,
          0.42,
          4.95,
          1.95,
          2.55,
          1.28,
          1.65,
          0.42,
          1.95,
          1.65,
          2.1,
          0.85,
          5.95,
          0.65,
          1.45,
          7.65,
          2.1,
          2.95,
          4.95,
          8.47,
          0.95,
          1.25,
          2.95,
          9.95,
          1.65,
          2.55,
          1.65,
          1.25,
          1.25,
          1.25,
          1.25,
          2.51,
          0.85,
          7.49,
          1.65,
          1.45,
          1.95,
          0.65,
          1.25,
          0.42,
          2.1,
          12.75,
          0.85,
          1.7,
          2.1,
          2.95,
          1.25,
          3.36,
          1.65,
          1.95,
          2.55,
          5.45,
          0.55,
          16.95,
          6.04,
          4.21,
          5.95,
          4.95,
          1.06,
          2.55,
          7.49,
          1.25,
          0.55,
          1.95,
          5.95,
          5.95,
          295,
          2.51,
          5.91,
          4.3,
          1.65,
          2.51,
          1.25,
          1.25,
          16.98,
          1.25,
          10.95,
          3.35,
          1.45,
          1.65,
          1.25,
          1.65,
          4.21,
          2.95,
          0.42,
          2.55,
          4.95,
          4.95,
          1.25,
          3.36,
          1.25,
          1.95,
          3.36,
          2.51,
          0.85,
          2.55,
          2.55,
          1.65,
          5.91,
          1.7,
          2.1,
          3.36,
          0.42,
          2.1,
          1.65,
          0.36,
          2.95,
          8.5,
          0.42,
          0.42,
          1.25,
          1.66,
          1.06,
          5.2,
          1.28,
          12.75,
          1.25,
          2.95,
          3.75,
          1.66,
          5.95,
          8.5,
          0.55,
          0.85,
          2.95,
          1.25,
          0.85,
          1.25,
          1.25,
          4.21,
          0.85,
          0.42,
          7.95,
          3.36,
          1.25,
          0.38,
          0.85,
          2.95,
          8.95,
          1.65,
          0.85,
          11.02,
          7.95,
          0.85,
          2.25,
          4.95,
          0.85,
          11.02,
          2.1,
          0.85,
          12.75,
          2.55,
          0.42,
          2.95,
          12.75,
          1.69,
          0.85,
          1.25,
          5.06,
          5.91,
          4.65,
          0.95,
          1.25,
          1.65,
          0.85,
          0.65,
          2.95,
          8.47,
          1.66,
          5.91,
          0.42,
          5.95,
          7.95,
          4.21,
          2.95,
          1.25,
          0.85,
          6.35,
          0.65,
          0.42,
          6.75,
          0.42,
          2.55,
          12.75,
          2.95,
          0.85,
          4.95,
          2.55,
          1.25,
          2.95,
          1.28,
          6.75,
          1.95,
          1.66,
          4.3,
          0.53,
          1.65,
          3.75,
          2.1,
          2.1,
          3.36,
          3.75,
          5.95,
          1.25,
          0.95,
          2.95,
          4.21,
          1.66,
          5.91,
          1.69,
          5.49,
          2.55,
          1.65,
          0.65,
          1.66,
          0.85,
          7.95,
          2.95,
          4.25,
          0.55,
          0.65,
          1.45,
          3.75,
          1.85,
          5.95,
          4.95,
          1.25,
          2.55,
          12.75,
          9.95,
          0.85,
          1.25,
          1.25,
          0.42,
          1.69,
          0.42,
          1.69,
          2.95,
          1.25,
          1.65,
          5.91,
          3.36,
          0.55,
          1.25,
          0.85,
          1.25,
          5.95,
          6.45,
          2.95,
          1.28,
          1.95,
          1.25,
          0.85,
          0.42,
          1.25,
          1.65,
          4.95,
          2.95,
          3.95,
          3.36,
          0.55,
          1.95,
          2.1,
          1.66,
          2.1,
          1.25,
          9.95,
          1.95,
          3.75,
          3.75,
          12.72,
          3.75,
          0.43,
          0.85,
          0.85,
          2.95,
          0.81,
          0.85,
          1.25,
          2.1,
          5.95,
          0.85,
          2.95,
          8.95,
          2.1,
          2.55,
          3.75,
          0.42,
          0.85,
          1.65,
          2.55,
          9.95,
          4.21,
          29.79,
          4.95,
          1.65,
          3.75,
          0.21,
          2.55,
          2.1,
          4.21,
          0.85,
          0.55,
          0.85,
          0.85,
          2.95,
          0.65,
          1.06,
          7.95,
          4.25,
          0.55,
          2.95,
          2.1,
          1269.51,
          2.51,
          0.65,
          1.25,
          4.25,
          3.75,
          1.25,
          3.36,
          0.55,
          3.75,
          2.55,
          1.95,
          0.42,
          0.42,
          0.42,
          4.21,
          0.85,
          3.75,
          0.43,
          0.42,
          1.65,
          2.95,
          2.51,
          0.85,
          3.25,
          4.95,
          14.43,
          5.45,
          7.95,
          2.1,
          0.42,
          12.75,
          1.45,
          0.85,
          1.66,
          0.85,
          8.47,
          2.1,
          1.85,
          6.75,
          3.75,
          1.25,
          2.95,
          1.66,
          2.95,
          4.25,
          4.95,
          1.25,
          4.21,
          4.95,
          1.25,
          12.75,
          3.75,
          2.95,
          1.65,
          1.95,
          1.95,
          2.98
         ],
         "xaxis": "x2",
         "yaxis": "y2"
        }
       ],
       "layout": {
        "barmode": "relative",
        "legend": {
         "title": {
          "text": "variable"
         },
         "tracegroupgap": 0
        },
        "template": {
         "data": {
          "bar": [
           {
            "error_x": {
             "color": "#2a3f5f"
            },
            "error_y": {
             "color": "#2a3f5f"
            },
            "marker": {
             "line": {
              "color": "#E5ECF6",
              "width": 0.5
             },
             "pattern": {
              "fillmode": "overlay",
              "size": 10,
              "solidity": 0.2
             }
            },
            "type": "bar"
           }
          ],
          "barpolar": [
           {
            "marker": {
             "line": {
              "color": "#E5ECF6",
              "width": 0.5
             },
             "pattern": {
              "fillmode": "overlay",
              "size": 10,
              "solidity": 0.2
             }
            },
            "type": "barpolar"
           }
          ],
          "carpet": [
           {
            "aaxis": {
             "endlinecolor": "#2a3f5f",
             "gridcolor": "white",
             "linecolor": "white",
             "minorgridcolor": "white",
             "startlinecolor": "#2a3f5f"
            },
            "baxis": {
             "endlinecolor": "#2a3f5f",
             "gridcolor": "white",
             "linecolor": "white",
             "minorgridcolor": "white",
             "startlinecolor": "#2a3f5f"
            },
            "type": "carpet"
           }
          ],
          "choropleth": [
           {
            "colorbar": {
             "outlinewidth": 0,
             "ticks": ""
            },
            "type": "choropleth"
           }
          ],
          "contour": [
           {
            "colorbar": {
             "outlinewidth": 0,
             "ticks": ""
            },
            "colorscale": [
             [
              0,
              "#0d0887"
             ],
             [
              0.1111111111111111,
              "#46039f"
             ],
             [
              0.2222222222222222,
              "#7201a8"
             ],
             [
              0.3333333333333333,
              "#9c179e"
             ],
             [
              0.4444444444444444,
              "#bd3786"
             ],
             [
              0.5555555555555556,
              "#d8576b"
             ],
             [
              0.6666666666666666,
              "#ed7953"
             ],
             [
              0.7777777777777778,
              "#fb9f3a"
             ],
             [
              0.8888888888888888,
              "#fdca26"
             ],
             [
              1,
              "#f0f921"
             ]
            ],
            "type": "contour"
           }
          ],
          "contourcarpet": [
           {
            "colorbar": {
             "outlinewidth": 0,
             "ticks": ""
            },
            "type": "contourcarpet"
           }
          ],
          "heatmap": [
           {
            "colorbar": {
             "outlinewidth": 0,
             "ticks": ""
            },
            "colorscale": [
             [
              0,
              "#0d0887"
             ],
             [
              0.1111111111111111,
              "#46039f"
             ],
             [
              0.2222222222222222,
              "#7201a8"
             ],
             [
              0.3333333333333333,
              "#9c179e"
             ],
             [
              0.4444444444444444,
              "#bd3786"
             ],
             [
              0.5555555555555556,
              "#d8576b"
             ],
             [
              0.6666666666666666,
              "#ed7953"
             ],
             [
              0.7777777777777778,
              "#fb9f3a"
             ],
             [
              0.8888888888888888,
              "#fdca26"
             ],
             [
              1,
              "#f0f921"
             ]
            ],
            "type": "heatmap"
           }
          ],
          "heatmapgl": [
           {
            "colorbar": {
             "outlinewidth": 0,
             "ticks": ""
            },
            "colorscale": [
             [
              0,
              "#0d0887"
             ],
             [
              0.1111111111111111,
              "#46039f"
             ],
             [
              0.2222222222222222,
              "#7201a8"
             ],
             [
              0.3333333333333333,
              "#9c179e"
             ],
             [
              0.4444444444444444,
              "#bd3786"
             ],
             [
              0.5555555555555556,
              "#d8576b"
             ],
             [
              0.6666666666666666,
              "#ed7953"
             ],
             [
              0.7777777777777778,
              "#fb9f3a"
             ],
             [
              0.8888888888888888,
              "#fdca26"
             ],
             [
              1,
              "#f0f921"
             ]
            ],
            "type": "heatmapgl"
           }
          ],
          "histogram": [
           {
            "marker": {
             "pattern": {
              "fillmode": "overlay",
              "size": 10,
              "solidity": 0.2
             }
            },
            "type": "histogram"
           }
          ],
          "histogram2d": [
           {
            "colorbar": {
             "outlinewidth": 0,
             "ticks": ""
            },
            "colorscale": [
             [
              0,
              "#0d0887"
             ],
             [
              0.1111111111111111,
              "#46039f"
             ],
             [
              0.2222222222222222,
              "#7201a8"
             ],
             [
              0.3333333333333333,
              "#9c179e"
             ],
             [
              0.4444444444444444,
              "#bd3786"
             ],
             [
              0.5555555555555556,
              "#d8576b"
             ],
             [
              0.6666666666666666,
              "#ed7953"
             ],
             [
              0.7777777777777778,
              "#fb9f3a"
             ],
             [
              0.8888888888888888,
              "#fdca26"
             ],
             [
              1,
              "#f0f921"
             ]
            ],
            "type": "histogram2d"
           }
          ],
          "histogram2dcontour": [
           {
            "colorbar": {
             "outlinewidth": 0,
             "ticks": ""
            },
            "colorscale": [
             [
              0,
              "#0d0887"
             ],
             [
              0.1111111111111111,
              "#46039f"
             ],
             [
              0.2222222222222222,
              "#7201a8"
             ],
             [
              0.3333333333333333,
              "#9c179e"
             ],
             [
              0.4444444444444444,
              "#bd3786"
             ],
             [
              0.5555555555555556,
              "#d8576b"
             ],
             [
              0.6666666666666666,
              "#ed7953"
             ],
             [
              0.7777777777777778,
              "#fb9f3a"
             ],
             [
              0.8888888888888888,
              "#fdca26"
             ],
             [
              1,
              "#f0f921"
             ]
            ],
            "type": "histogram2dcontour"
           }
          ],
          "mesh3d": [
           {
            "colorbar": {
             "outlinewidth": 0,
             "ticks": ""
            },
            "type": "mesh3d"
           }
          ],
          "parcoords": [
           {
            "line": {
             "colorbar": {
              "outlinewidth": 0,
              "ticks": ""
             }
            },
            "type": "parcoords"
           }
          ],
          "pie": [
           {
            "automargin": true,
            "type": "pie"
           }
          ],
          "scatter": [
           {
            "fillpattern": {
             "fillmode": "overlay",
             "size": 10,
             "solidity": 0.2
            },
            "type": "scatter"
           }
          ],
          "scatter3d": [
           {
            "line": {
             "colorbar": {
              "outlinewidth": 0,
              "ticks": ""
             }
            },
            "marker": {
             "colorbar": {
              "outlinewidth": 0,
              "ticks": ""
             }
            },
            "type": "scatter3d"
           }
          ],
          "scattercarpet": [
           {
            "marker": {
             "colorbar": {
              "outlinewidth": 0,
              "ticks": ""
             }
            },
            "type": "scattercarpet"
           }
          ],
          "scattergeo": [
           {
            "marker": {
             "colorbar": {
              "outlinewidth": 0,
              "ticks": ""
             }
            },
            "type": "scattergeo"
           }
          ],
          "scattergl": [
           {
            "marker": {
             "colorbar": {
              "outlinewidth": 0,
              "ticks": ""
             }
            },
            "type": "scattergl"
           }
          ],
          "scattermapbox": [
           {
            "marker": {
             "colorbar": {
              "outlinewidth": 0,
              "ticks": ""
             }
            },
            "type": "scattermapbox"
           }
          ],
          "scatterpolar": [
           {
            "marker": {
             "colorbar": {
              "outlinewidth": 0,
              "ticks": ""
             }
            },
            "type": "scatterpolar"
           }
          ],
          "scatterpolargl": [
           {
            "marker": {
             "colorbar": {
              "outlinewidth": 0,
              "ticks": ""
             }
            },
            "type": "scatterpolargl"
           }
          ],
          "scatterternary": [
           {
            "marker": {
             "colorbar": {
              "outlinewidth": 0,
              "ticks": ""
             }
            },
            "type": "scatterternary"
           }
          ],
          "surface": [
           {
            "colorbar": {
             "outlinewidth": 0,
             "ticks": ""
            },
            "colorscale": [
             [
              0,
              "#0d0887"
             ],
             [
              0.1111111111111111,
              "#46039f"
             ],
             [
              0.2222222222222222,
              "#7201a8"
             ],
             [
              0.3333333333333333,
              "#9c179e"
             ],
             [
              0.4444444444444444,
              "#bd3786"
             ],
             [
              0.5555555555555556,
              "#d8576b"
             ],
             [
              0.6666666666666666,
              "#ed7953"
             ],
             [
              0.7777777777777778,
              "#fb9f3a"
             ],
             [
              0.8888888888888888,
              "#fdca26"
             ],
             [
              1,
              "#f0f921"
             ]
            ],
            "type": "surface"
           }
          ],
          "table": [
           {
            "cells": {
             "fill": {
              "color": "#EBF0F8"
             },
             "line": {
              "color": "white"
             }
            },
            "header": {
             "fill": {
              "color": "#C8D4E3"
             },
             "line": {
              "color": "white"
             }
            },
            "type": "table"
           }
          ]
         },
         "layout": {
          "annotationdefaults": {
           "arrowcolor": "#2a3f5f",
           "arrowhead": 0,
           "arrowwidth": 1
          },
          "autotypenumbers": "strict",
          "coloraxis": {
           "colorbar": {
            "outlinewidth": 0,
            "ticks": ""
           }
          },
          "colorscale": {
           "diverging": [
            [
             0,
             "#8e0152"
            ],
            [
             0.1,
             "#c51b7d"
            ],
            [
             0.2,
             "#de77ae"
            ],
            [
             0.3,
             "#f1b6da"
            ],
            [
             0.4,
             "#fde0ef"
            ],
            [
             0.5,
             "#f7f7f7"
            ],
            [
             0.6,
             "#e6f5d0"
            ],
            [
             0.7,
             "#b8e186"
            ],
            [
             0.8,
             "#7fbc41"
            ],
            [
             0.9,
             "#4d9221"
            ],
            [
             1,
             "#276419"
            ]
           ],
           "sequential": [
            [
             0,
             "#0d0887"
            ],
            [
             0.1111111111111111,
             "#46039f"
            ],
            [
             0.2222222222222222,
             "#7201a8"
            ],
            [
             0.3333333333333333,
             "#9c179e"
            ],
            [
             0.4444444444444444,
             "#bd3786"
            ],
            [
             0.5555555555555556,
             "#d8576b"
            ],
            [
             0.6666666666666666,
             "#ed7953"
            ],
            [
             0.7777777777777778,
             "#fb9f3a"
            ],
            [
             0.8888888888888888,
             "#fdca26"
            ],
            [
             1,
             "#f0f921"
            ]
           ],
           "sequentialminus": [
            [
             0,
             "#0d0887"
            ],
            [
             0.1111111111111111,
             "#46039f"
            ],
            [
             0.2222222222222222,
             "#7201a8"
            ],
            [
             0.3333333333333333,
             "#9c179e"
            ],
            [
             0.4444444444444444,
             "#bd3786"
            ],
            [
             0.5555555555555556,
             "#d8576b"
            ],
            [
             0.6666666666666666,
             "#ed7953"
            ],
            [
             0.7777777777777778,
             "#fb9f3a"
            ],
            [
             0.8888888888888888,
             "#fdca26"
            ],
            [
             1,
             "#f0f921"
            ]
           ]
          },
          "colorway": [
           "#636efa",
           "#EF553B",
           "#00cc96",
           "#ab63fa",
           "#FFA15A",
           "#19d3f3",
           "#FF6692",
           "#B6E880",
           "#FF97FF",
           "#FECB52"
          ],
          "font": {
           "color": "#2a3f5f"
          },
          "geo": {
           "bgcolor": "white",
           "lakecolor": "white",
           "landcolor": "#E5ECF6",
           "showlakes": true,
           "showland": true,
           "subunitcolor": "white"
          },
          "hoverlabel": {
           "align": "left"
          },
          "hovermode": "closest",
          "mapbox": {
           "style": "light"
          },
          "paper_bgcolor": "white",
          "plot_bgcolor": "#E5ECF6",
          "polar": {
           "angularaxis": {
            "gridcolor": "white",
            "linecolor": "white",
            "ticks": ""
           },
           "bgcolor": "#E5ECF6",
           "radialaxis": {
            "gridcolor": "white",
            "linecolor": "white",
            "ticks": ""
           }
          },
          "scene": {
           "xaxis": {
            "backgroundcolor": "#E5ECF6",
            "gridcolor": "white",
            "gridwidth": 2,
            "linecolor": "white",
            "showbackground": true,
            "ticks": "",
            "zerolinecolor": "white"
           },
           "yaxis": {
            "backgroundcolor": "#E5ECF6",
            "gridcolor": "white",
            "gridwidth": 2,
            "linecolor": "white",
            "showbackground": true,
            "ticks": "",
            "zerolinecolor": "white"
           },
           "zaxis": {
            "backgroundcolor": "#E5ECF6",
            "gridcolor": "white",
            "gridwidth": 2,
            "linecolor": "white",
            "showbackground": true,
            "ticks": "",
            "zerolinecolor": "white"
           }
          },
          "shapedefaults": {
           "line": {
            "color": "#2a3f5f"
           }
          },
          "ternary": {
           "aaxis": {
            "gridcolor": "white",
            "linecolor": "white",
            "ticks": ""
           },
           "baxis": {
            "gridcolor": "white",
            "linecolor": "white",
            "ticks": ""
           },
           "bgcolor": "#E5ECF6",
           "caxis": {
            "gridcolor": "white",
            "linecolor": "white",
            "ticks": ""
           }
          },
          "title": {
           "x": 0.05
          },
          "xaxis": {
           "automargin": true,
           "gridcolor": "white",
           "linecolor": "white",
           "ticks": "",
           "title": {
            "standoff": 15
           },
           "zerolinecolor": "white",
           "zerolinewidth": 2
          },
          "yaxis": {
           "automargin": true,
           "gridcolor": "white",
           "linecolor": "white",
           "ticks": "",
           "title": {
            "standoff": 15
           },
           "zerolinecolor": "white",
           "zerolinewidth": 2
          }
         }
        },
        "title": {
         "text": "Price - With Outliers"
        },
        "xaxis": {
         "anchor": "y",
         "domain": [
          0,
          1
         ],
         "title": {
          "text": "value"
         }
        },
        "xaxis2": {
         "anchor": "y2",
         "domain": [
          0,
          1
         ],
         "matches": "x",
         "showgrid": true,
         "showticklabels": false
        },
        "yaxis": {
         "anchor": "x",
         "domain": [
          0,
          0.7326
         ],
         "title": {
          "text": "count"
         }
        },
        "yaxis2": {
         "anchor": "x2",
         "domain": [
          0.7426,
          1
         ],
         "matches": "y2",
         "showgrid": false,
         "showline": false,
         "showticklabels": false,
         "ticks": ""
        }
       }
      },
      "text/html": [
       "<div>                            <div id=\"9fd12ba4-a1e6-4f61-8caa-4fee19777ae3\" class=\"plotly-graph-div\" style=\"height:525px; width:100%;\"></div>            <script type=\"text/javascript\">                require([\"plotly\"], function(Plotly) {                    window.PLOTLYENV=window.PLOTLYENV || {};                                    if (document.getElementById(\"9fd12ba4-a1e6-4f61-8caa-4fee19777ae3\")) {                    Plotly.newPlot(                        \"9fd12ba4-a1e6-4f61-8caa-4fee19777ae3\",                        [{\"alignmentgroup\":\"True\",\"bingroup\":\"x\",\"hovertemplate\":\"variable=Price<br>value=%{x}<br>count=%{y}<extra></extra>\",\"legendgroup\":\"Price\",\"marker\":{\"color\":\"#636efa\",\"pattern\":{\"shape\":\"\"}},\"name\":\"Price\",\"offsetgroup\":\"Price\",\"orientation\":\"v\",\"showlegend\":true,\"x\":[7.95,2.1,0.55,1.25,4.95,0.64,5.91,3.75,1.25,1.95,1.25,12.72,0.38,1.25,2.95,5.06,8.5,6.04,1.65,4.25,4.21,3.75,5.91,2.1,10.95,4.21,13.87,0.42,0.1,2.51,2.51,2.95,4.21,0.42,1.45,2.55,1.66,4.65,5.55,2.51,0.65,2.55,1.45,9.95,1.25,2.1,1.95,1.65,0.87,2.95,0.85,0.55,1.65,0.85,8.49,0.85,5.91,4.21,2.1,2.51,1.95,6.35,0.65,2.55,8.5,1.25,10.95,0.85,13.57,0.85,0.85,2.1,3.75,1.65,12.75,7.49,1.66,1.65,7.65,1.65,2.95,0.65,2.55,0.85,0.85,2.51,0.85,5.91,4.25,4.95,18.0,1.65,1.65,10.95,2.55,1.65,1.25,2.57,2.55,2.95,0.85,0.85,1.65,0.85,0.65,2.95,8.5,8.5,0.08,1.25,1.25,6.75,6.75,3.75,2.95,1.45,1.25,5.95,4.65,0.95,0.85,2.95,1.65,6.77,2.1,2.25,4.21,1.69,0.42,1.25,1.65,1.25,2.55,1.65,2.57,1.25,2.51,5.91,0.42,1.66,5.88,0.85,0.21,0.19,1.65,1.65,1.69,0.42,4.95,2.95,3.75,1.65,1.65,1.95,1.69,0.29,5.95,8.5,2.1,4.21,2.95,7.95,1.65,0.42,1.25,1.45,1.65,3.75,0.36,10.75,12.75,2.1,1.25,4.95,2.55,0.42,5.95,1.25,1.69,1.69,1.65,4.95,1.84,1.95,4.65,1.25,0.85,5.95,1.95,0.85,0.42,1.65,4.25,1.25,4.95,0.85,2.55,1.06,0.0,1.25,4.25,3.36,0.85,5.45,1.95,7.49,1.25,0.42,7.62,1.25,2.51,1.66,0.85,3.75,1.95,0.85,2.95,4.25,2.1,3.75,1.45,0.85,0.42,8.5,3.45,8.47,8.95,3.25,0.85,1.65,0.85,2.98,2.95,0.55,3.75,1.25,1.65,0.85,7.49,0.38,1.65,3.36,1.65,34.0,3.75,1.95,5.06,4.65,3.39,1.25,1.25,8.47,2.95,4.95,0.65,0.85,4.21,0.65,4.95,2.1,2.51,3.75,0.85,0.43,8.5,1.25,2.95,2.95,7.95,2.1,5.91,2.95,0.95,1.25,2.51,1.25,3.36,1.25,2.55,2.95,4.25,2.1,0.72,7.49,4.21,2.95,0.85,0.42,2.51,0.85,3.75,1.65,3.75,0.42,12.75,1.25,1.65,1.65,0.85,1.45,0.85,0.34,2.95,0.85,9.95,4.21,1.95,2.51,2.55,9.95,4.21,1.66,0.85,9.95,0.0,1.65,2.95,1.06,1.25,1.25,4.25,1.65,8.5,16.13,1.25,7.49,2.1,11.26,0.43,0.42,10.17,1.66,0.81,5.95,4.21,14.95,1.25,0.72,3.36,3.75,1.06,8.5,6.75,2.95,0.42,0.55,11.87,0.65,2.1,1.95,2.1,1.45,2.95,79.95,1.65,4.25,2.55,4.95,2.1,2.51,4.25,1.25,1.65,4.25,1.66,122.3,3.45,7.65,9.95,1.65,3.36,9.95,1.65,2.55,2.1,0.85,0.85,2.95,3.36,4.3,5.06,0.19,2.1,3.36,1.66,2.1,5.91,5.95,1.06,2.55,34.0,2.55,7.49,0.65,2.95,7.95,8.47,2.1,3.36,2.1,1.95,2.55,2.51,2.1,2.12,9.95,4.95,4.21,1.25,0.42,2.95,5.91,0.55,0.42,38.26,12.75,2.95,9.95,16.95,5.45,0.55,3.95,2.95,0.85,4.21,0.55,7.49,0.85,0.72,1.25,2.51,6.95,1.66,5.91,4.95,4.21,0.85,3.95,0.42,1.66,1.25,1.25,2.95,34.74,1.95,1.25,2.51,0.85,2.1,1.06,6.75,2.1,0.55,6.04,0.85,0.85,0.83,3.25,2.55,7.62,1.45,1.06,1.45,2.1,2.95,9.95,1.65,12.75,1.25,3.75,0.85,0.55,1.25,0.85,0.65,1.25,1.69,5.95,0.0,1.25,0.55,2.1,4.21,1.65,5.95,1.25,1.45,0.85,2.95,2.95,1.65,8.47,8.5,2.55,2.1,0.85,8.5,1.95,1.7,0.65,2.95,1.65,1.25,0.85,4.25,0.64,0.42,0.38,1.65,2.1,12.75,0.65,0.65,4.95,0.85,1.25,1.66,1.65,0.85,4.95,3.04,0.42,16.95,1.65,1.25,5.06,0.85,0.85,2.1,1.65,0.85,8.47,3.43,2.55,0.42,9.95,1.66,0.65,1.25,12.75,12.72,5.95,4.65,3.39,6.75,1.65,4.25,0.85,2.55,2.95,3.75,2.55,1.65,7.95,1.95,0.29,4.95,1.25,0.42,2.95,5.95,1.25,4.95,5.91,4.21,16.98,1.65,4.25,2.95,1.25,1.45,3.36,10.95,1.49,12.75,4.25,0.29,9.95,1.65,1.45,7.95,1.45,1.66,1.65,2.95,5.95,3.75,0.42,2.95,2.98,2.95,1.65,1.65,1.95,0.38,1.65,7.95,2.55,4.25,2.95,0.85,2.95,1.45,1.65,0.42,5.95,1.25,2.1,0.85,3.75,34.0,3.75,1.45,4.25,1.25,1.65,3.75,7.62,0.55,1.95,1.45,1.7,0.36,4.5,4.95,1.95,4.21,1.25,5.17,2.55,0.42,4.95,1.95,2.55,1.28,1.65,0.42,1.95,1.65,2.1,0.85,5.95,0.65,1.45,7.65,2.1,2.95,4.95,8.47,0.95,1.25,2.95,9.95,1.65,2.55,1.65,1.25,1.25,1.25,1.25,2.51,0.85,7.49,1.65,1.45,1.95,0.65,1.25,0.42,2.1,12.75,0.85,1.7,2.1,2.95,1.25,3.36,1.65,1.95,2.55,5.45,0.55,16.95,6.04,4.21,5.95,4.95,1.06,2.55,7.49,1.25,0.55,1.95,5.95,5.95,295.0,2.51,5.91,4.3,1.65,2.51,1.25,1.25,16.98,1.25,10.95,3.35,1.45,1.65,1.25,1.65,4.21,2.95,0.42,2.55,4.95,4.95,1.25,3.36,1.25,1.95,3.36,2.51,0.85,2.55,2.55,1.65,5.91,1.7,2.1,3.36,0.42,2.1,1.65,0.36,2.95,8.5,0.42,0.42,1.25,1.66,1.06,5.2,1.28,12.75,1.25,2.95,3.75,1.66,5.95,8.5,0.55,0.85,2.95,1.25,0.85,1.25,1.25,4.21,0.85,0.42,7.95,3.36,1.25,0.38,0.85,2.95,8.95,1.65,0.85,11.02,7.95,0.85,2.25,4.95,0.85,11.02,2.1,0.85,12.75,2.55,0.42,2.95,12.75,1.69,0.85,1.25,5.06,5.91,4.65,0.95,1.25,1.65,0.85,0.65,2.95,8.47,1.66,5.91,0.42,5.95,7.95,4.21,2.95,1.25,0.85,6.35,0.65,0.42,6.75,0.42,2.55,12.75,2.95,0.85,4.95,2.55,1.25,2.95,1.28,6.75,1.95,1.66,4.3,0.53,1.65,3.75,2.1,2.1,3.36,3.75,5.95,1.25,0.95,2.95,4.21,1.66,5.91,1.69,5.49,2.55,1.65,0.65,1.66,0.85,7.95,2.95,4.25,0.55,0.65,1.45,3.75,1.85,5.95,4.95,1.25,2.55,12.75,9.95,0.85,1.25,1.25,0.42,1.69,0.42,1.69,2.95,1.25,1.65,5.91,3.36,0.55,1.25,0.85,1.25,5.95,6.45,2.95,1.28,1.95,1.25,0.85,0.42,1.25,1.65,4.95,2.95,3.95,3.36,0.55,1.95,2.1,1.66,2.1,1.25,9.95,1.95,3.75,3.75,12.72,3.75,0.43,0.85,0.85,2.95,0.81,0.85,1.25,2.1,5.95,0.85,2.95,8.95,2.1,2.55,3.75,0.42,0.85,1.65,2.55,9.95,4.21,29.79,4.95,1.65,3.75,0.21,2.55,2.1,4.21,0.85,0.55,0.85,0.85,2.95,0.65,1.06,7.95,4.25,0.55,2.95,2.1,1269.51,2.51,0.65,1.25,4.25,3.75,1.25,3.36,0.55,3.75,2.55,1.95,0.42,0.42,0.42,4.21,0.85,3.75,0.43,0.42,1.65,2.95,2.51,0.85,3.25,4.95,14.43,5.45,7.95,2.1,0.42,12.75,1.45,0.85,1.66,0.85,8.47,2.1,1.85,6.75,3.75,1.25,2.95,1.66,2.95,4.25,4.95,1.25,4.21,4.95,1.25,12.75,3.75,2.95,1.65,1.95,1.95,2.98],\"xaxis\":\"x\",\"yaxis\":\"y\",\"type\":\"histogram\"},{\"alignmentgroup\":\"True\",\"hovertemplate\":\"variable=Price<br>value=%{x}<extra></extra>\",\"legendgroup\":\"Price\",\"marker\":{\"color\":\"#636efa\"},\"name\":\"Price\",\"notched\":true,\"offsetgroup\":\"Price\",\"showlegend\":false,\"x\":[7.95,2.1,0.55,1.25,4.95,0.64,5.91,3.75,1.25,1.95,1.25,12.72,0.38,1.25,2.95,5.06,8.5,6.04,1.65,4.25,4.21,3.75,5.91,2.1,10.95,4.21,13.87,0.42,0.1,2.51,2.51,2.95,4.21,0.42,1.45,2.55,1.66,4.65,5.55,2.51,0.65,2.55,1.45,9.95,1.25,2.1,1.95,1.65,0.87,2.95,0.85,0.55,1.65,0.85,8.49,0.85,5.91,4.21,2.1,2.51,1.95,6.35,0.65,2.55,8.5,1.25,10.95,0.85,13.57,0.85,0.85,2.1,3.75,1.65,12.75,7.49,1.66,1.65,7.65,1.65,2.95,0.65,2.55,0.85,0.85,2.51,0.85,5.91,4.25,4.95,18.0,1.65,1.65,10.95,2.55,1.65,1.25,2.57,2.55,2.95,0.85,0.85,1.65,0.85,0.65,2.95,8.5,8.5,0.08,1.25,1.25,6.75,6.75,3.75,2.95,1.45,1.25,5.95,4.65,0.95,0.85,2.95,1.65,6.77,2.1,2.25,4.21,1.69,0.42,1.25,1.65,1.25,2.55,1.65,2.57,1.25,2.51,5.91,0.42,1.66,5.88,0.85,0.21,0.19,1.65,1.65,1.69,0.42,4.95,2.95,3.75,1.65,1.65,1.95,1.69,0.29,5.95,8.5,2.1,4.21,2.95,7.95,1.65,0.42,1.25,1.45,1.65,3.75,0.36,10.75,12.75,2.1,1.25,4.95,2.55,0.42,5.95,1.25,1.69,1.69,1.65,4.95,1.84,1.95,4.65,1.25,0.85,5.95,1.95,0.85,0.42,1.65,4.25,1.25,4.95,0.85,2.55,1.06,0.0,1.25,4.25,3.36,0.85,5.45,1.95,7.49,1.25,0.42,7.62,1.25,2.51,1.66,0.85,3.75,1.95,0.85,2.95,4.25,2.1,3.75,1.45,0.85,0.42,8.5,3.45,8.47,8.95,3.25,0.85,1.65,0.85,2.98,2.95,0.55,3.75,1.25,1.65,0.85,7.49,0.38,1.65,3.36,1.65,34.0,3.75,1.95,5.06,4.65,3.39,1.25,1.25,8.47,2.95,4.95,0.65,0.85,4.21,0.65,4.95,2.1,2.51,3.75,0.85,0.43,8.5,1.25,2.95,2.95,7.95,2.1,5.91,2.95,0.95,1.25,2.51,1.25,3.36,1.25,2.55,2.95,4.25,2.1,0.72,7.49,4.21,2.95,0.85,0.42,2.51,0.85,3.75,1.65,3.75,0.42,12.75,1.25,1.65,1.65,0.85,1.45,0.85,0.34,2.95,0.85,9.95,4.21,1.95,2.51,2.55,9.95,4.21,1.66,0.85,9.95,0.0,1.65,2.95,1.06,1.25,1.25,4.25,1.65,8.5,16.13,1.25,7.49,2.1,11.26,0.43,0.42,10.17,1.66,0.81,5.95,4.21,14.95,1.25,0.72,3.36,3.75,1.06,8.5,6.75,2.95,0.42,0.55,11.87,0.65,2.1,1.95,2.1,1.45,2.95,79.95,1.65,4.25,2.55,4.95,2.1,2.51,4.25,1.25,1.65,4.25,1.66,122.3,3.45,7.65,9.95,1.65,3.36,9.95,1.65,2.55,2.1,0.85,0.85,2.95,3.36,4.3,5.06,0.19,2.1,3.36,1.66,2.1,5.91,5.95,1.06,2.55,34.0,2.55,7.49,0.65,2.95,7.95,8.47,2.1,3.36,2.1,1.95,2.55,2.51,2.1,2.12,9.95,4.95,4.21,1.25,0.42,2.95,5.91,0.55,0.42,38.26,12.75,2.95,9.95,16.95,5.45,0.55,3.95,2.95,0.85,4.21,0.55,7.49,0.85,0.72,1.25,2.51,6.95,1.66,5.91,4.95,4.21,0.85,3.95,0.42,1.66,1.25,1.25,2.95,34.74,1.95,1.25,2.51,0.85,2.1,1.06,6.75,2.1,0.55,6.04,0.85,0.85,0.83,3.25,2.55,7.62,1.45,1.06,1.45,2.1,2.95,9.95,1.65,12.75,1.25,3.75,0.85,0.55,1.25,0.85,0.65,1.25,1.69,5.95,0.0,1.25,0.55,2.1,4.21,1.65,5.95,1.25,1.45,0.85,2.95,2.95,1.65,8.47,8.5,2.55,2.1,0.85,8.5,1.95,1.7,0.65,2.95,1.65,1.25,0.85,4.25,0.64,0.42,0.38,1.65,2.1,12.75,0.65,0.65,4.95,0.85,1.25,1.66,1.65,0.85,4.95,3.04,0.42,16.95,1.65,1.25,5.06,0.85,0.85,2.1,1.65,0.85,8.47,3.43,2.55,0.42,9.95,1.66,0.65,1.25,12.75,12.72,5.95,4.65,3.39,6.75,1.65,4.25,0.85,2.55,2.95,3.75,2.55,1.65,7.95,1.95,0.29,4.95,1.25,0.42,2.95,5.95,1.25,4.95,5.91,4.21,16.98,1.65,4.25,2.95,1.25,1.45,3.36,10.95,1.49,12.75,4.25,0.29,9.95,1.65,1.45,7.95,1.45,1.66,1.65,2.95,5.95,3.75,0.42,2.95,2.98,2.95,1.65,1.65,1.95,0.38,1.65,7.95,2.55,4.25,2.95,0.85,2.95,1.45,1.65,0.42,5.95,1.25,2.1,0.85,3.75,34.0,3.75,1.45,4.25,1.25,1.65,3.75,7.62,0.55,1.95,1.45,1.7,0.36,4.5,4.95,1.95,4.21,1.25,5.17,2.55,0.42,4.95,1.95,2.55,1.28,1.65,0.42,1.95,1.65,2.1,0.85,5.95,0.65,1.45,7.65,2.1,2.95,4.95,8.47,0.95,1.25,2.95,9.95,1.65,2.55,1.65,1.25,1.25,1.25,1.25,2.51,0.85,7.49,1.65,1.45,1.95,0.65,1.25,0.42,2.1,12.75,0.85,1.7,2.1,2.95,1.25,3.36,1.65,1.95,2.55,5.45,0.55,16.95,6.04,4.21,5.95,4.95,1.06,2.55,7.49,1.25,0.55,1.95,5.95,5.95,295.0,2.51,5.91,4.3,1.65,2.51,1.25,1.25,16.98,1.25,10.95,3.35,1.45,1.65,1.25,1.65,4.21,2.95,0.42,2.55,4.95,4.95,1.25,3.36,1.25,1.95,3.36,2.51,0.85,2.55,2.55,1.65,5.91,1.7,2.1,3.36,0.42,2.1,1.65,0.36,2.95,8.5,0.42,0.42,1.25,1.66,1.06,5.2,1.28,12.75,1.25,2.95,3.75,1.66,5.95,8.5,0.55,0.85,2.95,1.25,0.85,1.25,1.25,4.21,0.85,0.42,7.95,3.36,1.25,0.38,0.85,2.95,8.95,1.65,0.85,11.02,7.95,0.85,2.25,4.95,0.85,11.02,2.1,0.85,12.75,2.55,0.42,2.95,12.75,1.69,0.85,1.25,5.06,5.91,4.65,0.95,1.25,1.65,0.85,0.65,2.95,8.47,1.66,5.91,0.42,5.95,7.95,4.21,2.95,1.25,0.85,6.35,0.65,0.42,6.75,0.42,2.55,12.75,2.95,0.85,4.95,2.55,1.25,2.95,1.28,6.75,1.95,1.66,4.3,0.53,1.65,3.75,2.1,2.1,3.36,3.75,5.95,1.25,0.95,2.95,4.21,1.66,5.91,1.69,5.49,2.55,1.65,0.65,1.66,0.85,7.95,2.95,4.25,0.55,0.65,1.45,3.75,1.85,5.95,4.95,1.25,2.55,12.75,9.95,0.85,1.25,1.25,0.42,1.69,0.42,1.69,2.95,1.25,1.65,5.91,3.36,0.55,1.25,0.85,1.25,5.95,6.45,2.95,1.28,1.95,1.25,0.85,0.42,1.25,1.65,4.95,2.95,3.95,3.36,0.55,1.95,2.1,1.66,2.1,1.25,9.95,1.95,3.75,3.75,12.72,3.75,0.43,0.85,0.85,2.95,0.81,0.85,1.25,2.1,5.95,0.85,2.95,8.95,2.1,2.55,3.75,0.42,0.85,1.65,2.55,9.95,4.21,29.79,4.95,1.65,3.75,0.21,2.55,2.1,4.21,0.85,0.55,0.85,0.85,2.95,0.65,1.06,7.95,4.25,0.55,2.95,2.1,1269.51,2.51,0.65,1.25,4.25,3.75,1.25,3.36,0.55,3.75,2.55,1.95,0.42,0.42,0.42,4.21,0.85,3.75,0.43,0.42,1.65,2.95,2.51,0.85,3.25,4.95,14.43,5.45,7.95,2.1,0.42,12.75,1.45,0.85,1.66,0.85,8.47,2.1,1.85,6.75,3.75,1.25,2.95,1.66,2.95,4.25,4.95,1.25,4.21,4.95,1.25,12.75,3.75,2.95,1.65,1.95,1.95,2.98],\"xaxis\":\"x2\",\"yaxis\":\"y2\",\"type\":\"box\"}],                        {\"template\":{\"data\":{\"histogram2dcontour\":[{\"type\":\"histogram2dcontour\",\"colorbar\":{\"outlinewidth\":0,\"ticks\":\"\"},\"colorscale\":[[0.0,\"#0d0887\"],[0.1111111111111111,\"#46039f\"],[0.2222222222222222,\"#7201a8\"],[0.3333333333333333,\"#9c179e\"],[0.4444444444444444,\"#bd3786\"],[0.5555555555555556,\"#d8576b\"],[0.6666666666666666,\"#ed7953\"],[0.7777777777777778,\"#fb9f3a\"],[0.8888888888888888,\"#fdca26\"],[1.0,\"#f0f921\"]]}],\"choropleth\":[{\"type\":\"choropleth\",\"colorbar\":{\"outlinewidth\":0,\"ticks\":\"\"}}],\"histogram2d\":[{\"type\":\"histogram2d\",\"colorbar\":{\"outlinewidth\":0,\"ticks\":\"\"},\"colorscale\":[[0.0,\"#0d0887\"],[0.1111111111111111,\"#46039f\"],[0.2222222222222222,\"#7201a8\"],[0.3333333333333333,\"#9c179e\"],[0.4444444444444444,\"#bd3786\"],[0.5555555555555556,\"#d8576b\"],[0.6666666666666666,\"#ed7953\"],[0.7777777777777778,\"#fb9f3a\"],[0.8888888888888888,\"#fdca26\"],[1.0,\"#f0f921\"]]}],\"heatmap\":[{\"type\":\"heatmap\",\"colorbar\":{\"outlinewidth\":0,\"ticks\":\"\"},\"colorscale\":[[0.0,\"#0d0887\"],[0.1111111111111111,\"#46039f\"],[0.2222222222222222,\"#7201a8\"],[0.3333333333333333,\"#9c179e\"],[0.4444444444444444,\"#bd3786\"],[0.5555555555555556,\"#d8576b\"],[0.6666666666666666,\"#ed7953\"],[0.7777777777777778,\"#fb9f3a\"],[0.8888888888888888,\"#fdca26\"],[1.0,\"#f0f921\"]]}],\"heatmapgl\":[{\"type\":\"heatmapgl\",\"colorbar\":{\"outlinewidth\":0,\"ticks\":\"\"},\"colorscale\":[[0.0,\"#0d0887\"],[0.1111111111111111,\"#46039f\"],[0.2222222222222222,\"#7201a8\"],[0.3333333333333333,\"#9c179e\"],[0.4444444444444444,\"#bd3786\"],[0.5555555555555556,\"#d8576b\"],[0.6666666666666666,\"#ed7953\"],[0.7777777777777778,\"#fb9f3a\"],[0.8888888888888888,\"#fdca26\"],[1.0,\"#f0f921\"]]}],\"contourcarpet\":[{\"type\":\"contourcarpet\",\"colorbar\":{\"outlinewidth\":0,\"ticks\":\"\"}}],\"contour\":[{\"type\":\"contour\",\"colorbar\":{\"outlinewidth\":0,\"ticks\":\"\"},\"colorscale\":[[0.0,\"#0d0887\"],[0.1111111111111111,\"#46039f\"],[0.2222222222222222,\"#7201a8\"],[0.3333333333333333,\"#9c179e\"],[0.4444444444444444,\"#bd3786\"],[0.5555555555555556,\"#d8576b\"],[0.6666666666666666,\"#ed7953\"],[0.7777777777777778,\"#fb9f3a\"],[0.8888888888888888,\"#fdca26\"],[1.0,\"#f0f921\"]]}],\"surface\":[{\"type\":\"surface\",\"colorbar\":{\"outlinewidth\":0,\"ticks\":\"\"},\"colorscale\":[[0.0,\"#0d0887\"],[0.1111111111111111,\"#46039f\"],[0.2222222222222222,\"#7201a8\"],[0.3333333333333333,\"#9c179e\"],[0.4444444444444444,\"#bd3786\"],[0.5555555555555556,\"#d8576b\"],[0.6666666666666666,\"#ed7953\"],[0.7777777777777778,\"#fb9f3a\"],[0.8888888888888888,\"#fdca26\"],[1.0,\"#f0f921\"]]}],\"mesh3d\":[{\"type\":\"mesh3d\",\"colorbar\":{\"outlinewidth\":0,\"ticks\":\"\"}}],\"scatter\":[{\"fillpattern\":{\"fillmode\":\"overlay\",\"size\":10,\"solidity\":0.2},\"type\":\"scatter\"}],\"parcoords\":[{\"type\":\"parcoords\",\"line\":{\"colorbar\":{\"outlinewidth\":0,\"ticks\":\"\"}}}],\"scatterpolargl\":[{\"type\":\"scatterpolargl\",\"marker\":{\"colorbar\":{\"outlinewidth\":0,\"ticks\":\"\"}}}],\"bar\":[{\"error_x\":{\"color\":\"#2a3f5f\"},\"error_y\":{\"color\":\"#2a3f5f\"},\"marker\":{\"line\":{\"color\":\"#E5ECF6\",\"width\":0.5},\"pattern\":{\"fillmode\":\"overlay\",\"size\":10,\"solidity\":0.2}},\"type\":\"bar\"}],\"scattergeo\":[{\"type\":\"scattergeo\",\"marker\":{\"colorbar\":{\"outlinewidth\":0,\"ticks\":\"\"}}}],\"scatterpolar\":[{\"type\":\"scatterpolar\",\"marker\":{\"colorbar\":{\"outlinewidth\":0,\"ticks\":\"\"}}}],\"histogram\":[{\"marker\":{\"pattern\":{\"fillmode\":\"overlay\",\"size\":10,\"solidity\":0.2}},\"type\":\"histogram\"}],\"scattergl\":[{\"type\":\"scattergl\",\"marker\":{\"colorbar\":{\"outlinewidth\":0,\"ticks\":\"\"}}}],\"scatter3d\":[{\"type\":\"scatter3d\",\"line\":{\"colorbar\":{\"outlinewidth\":0,\"ticks\":\"\"}},\"marker\":{\"colorbar\":{\"outlinewidth\":0,\"ticks\":\"\"}}}],\"scattermapbox\":[{\"type\":\"scattermapbox\",\"marker\":{\"colorbar\":{\"outlinewidth\":0,\"ticks\":\"\"}}}],\"scatterternary\":[{\"type\":\"scatterternary\",\"marker\":{\"colorbar\":{\"outlinewidth\":0,\"ticks\":\"\"}}}],\"scattercarpet\":[{\"type\":\"scattercarpet\",\"marker\":{\"colorbar\":{\"outlinewidth\":0,\"ticks\":\"\"}}}],\"carpet\":[{\"aaxis\":{\"endlinecolor\":\"#2a3f5f\",\"gridcolor\":\"white\",\"linecolor\":\"white\",\"minorgridcolor\":\"white\",\"startlinecolor\":\"#2a3f5f\"},\"baxis\":{\"endlinecolor\":\"#2a3f5f\",\"gridcolor\":\"white\",\"linecolor\":\"white\",\"minorgridcolor\":\"white\",\"startlinecolor\":\"#2a3f5f\"},\"type\":\"carpet\"}],\"table\":[{\"cells\":{\"fill\":{\"color\":\"#EBF0F8\"},\"line\":{\"color\":\"white\"}},\"header\":{\"fill\":{\"color\":\"#C8D4E3\"},\"line\":{\"color\":\"white\"}},\"type\":\"table\"}],\"barpolar\":[{\"marker\":{\"line\":{\"color\":\"#E5ECF6\",\"width\":0.5},\"pattern\":{\"fillmode\":\"overlay\",\"size\":10,\"solidity\":0.2}},\"type\":\"barpolar\"}],\"pie\":[{\"automargin\":true,\"type\":\"pie\"}]},\"layout\":{\"autotypenumbers\":\"strict\",\"colorway\":[\"#636efa\",\"#EF553B\",\"#00cc96\",\"#ab63fa\",\"#FFA15A\",\"#19d3f3\",\"#FF6692\",\"#B6E880\",\"#FF97FF\",\"#FECB52\"],\"font\":{\"color\":\"#2a3f5f\"},\"hovermode\":\"closest\",\"hoverlabel\":{\"align\":\"left\"},\"paper_bgcolor\":\"white\",\"plot_bgcolor\":\"#E5ECF6\",\"polar\":{\"bgcolor\":\"#E5ECF6\",\"angularaxis\":{\"gridcolor\":\"white\",\"linecolor\":\"white\",\"ticks\":\"\"},\"radialaxis\":{\"gridcolor\":\"white\",\"linecolor\":\"white\",\"ticks\":\"\"}},\"ternary\":{\"bgcolor\":\"#E5ECF6\",\"aaxis\":{\"gridcolor\":\"white\",\"linecolor\":\"white\",\"ticks\":\"\"},\"baxis\":{\"gridcolor\":\"white\",\"linecolor\":\"white\",\"ticks\":\"\"},\"caxis\":{\"gridcolor\":\"white\",\"linecolor\":\"white\",\"ticks\":\"\"}},\"coloraxis\":{\"colorbar\":{\"outlinewidth\":0,\"ticks\":\"\"}},\"colorscale\":{\"sequential\":[[0.0,\"#0d0887\"],[0.1111111111111111,\"#46039f\"],[0.2222222222222222,\"#7201a8\"],[0.3333333333333333,\"#9c179e\"],[0.4444444444444444,\"#bd3786\"],[0.5555555555555556,\"#d8576b\"],[0.6666666666666666,\"#ed7953\"],[0.7777777777777778,\"#fb9f3a\"],[0.8888888888888888,\"#fdca26\"],[1.0,\"#f0f921\"]],\"sequentialminus\":[[0.0,\"#0d0887\"],[0.1111111111111111,\"#46039f\"],[0.2222222222222222,\"#7201a8\"],[0.3333333333333333,\"#9c179e\"],[0.4444444444444444,\"#bd3786\"],[0.5555555555555556,\"#d8576b\"],[0.6666666666666666,\"#ed7953\"],[0.7777777777777778,\"#fb9f3a\"],[0.8888888888888888,\"#fdca26\"],[1.0,\"#f0f921\"]],\"diverging\":[[0,\"#8e0152\"],[0.1,\"#c51b7d\"],[0.2,\"#de77ae\"],[0.3,\"#f1b6da\"],[0.4,\"#fde0ef\"],[0.5,\"#f7f7f7\"],[0.6,\"#e6f5d0\"],[0.7,\"#b8e186\"],[0.8,\"#7fbc41\"],[0.9,\"#4d9221\"],[1,\"#276419\"]]},\"xaxis\":{\"gridcolor\":\"white\",\"linecolor\":\"white\",\"ticks\":\"\",\"title\":{\"standoff\":15},\"zerolinecolor\":\"white\",\"automargin\":true,\"zerolinewidth\":2},\"yaxis\":{\"gridcolor\":\"white\",\"linecolor\":\"white\",\"ticks\":\"\",\"title\":{\"standoff\":15},\"zerolinecolor\":\"white\",\"automargin\":true,\"zerolinewidth\":2},\"scene\":{\"xaxis\":{\"backgroundcolor\":\"#E5ECF6\",\"gridcolor\":\"white\",\"linecolor\":\"white\",\"showbackground\":true,\"ticks\":\"\",\"zerolinecolor\":\"white\",\"gridwidth\":2},\"yaxis\":{\"backgroundcolor\":\"#E5ECF6\",\"gridcolor\":\"white\",\"linecolor\":\"white\",\"showbackground\":true,\"ticks\":\"\",\"zerolinecolor\":\"white\",\"gridwidth\":2},\"zaxis\":{\"backgroundcolor\":\"#E5ECF6\",\"gridcolor\":\"white\",\"linecolor\":\"white\",\"showbackground\":true,\"ticks\":\"\",\"zerolinecolor\":\"white\",\"gridwidth\":2}},\"shapedefaults\":{\"line\":{\"color\":\"#2a3f5f\"}},\"annotationdefaults\":{\"arrowcolor\":\"#2a3f5f\",\"arrowhead\":0,\"arrowwidth\":1},\"geo\":{\"bgcolor\":\"white\",\"landcolor\":\"#E5ECF6\",\"subunitcolor\":\"white\",\"showland\":true,\"showlakes\":true,\"lakecolor\":\"white\"},\"title\":{\"x\":0.05},\"mapbox\":{\"style\":\"light\"}}},\"xaxis\":{\"anchor\":\"y\",\"domain\":[0.0,1.0],\"title\":{\"text\":\"value\"}},\"yaxis\":{\"anchor\":\"x\",\"domain\":[0.0,0.7326],\"title\":{\"text\":\"count\"}},\"xaxis2\":{\"anchor\":\"y2\",\"domain\":[0.0,1.0],\"matches\":\"x\",\"showticklabels\":false,\"showgrid\":true},\"yaxis2\":{\"anchor\":\"x2\",\"domain\":[0.7426,1.0],\"matches\":\"y2\",\"showticklabels\":false,\"showline\":false,\"ticks\":\"\",\"showgrid\":false},\"legend\":{\"title\":{\"text\":\"variable\"},\"tracegroupgap\":0},\"title\":{\"text\":\"Price - With Outliers\"},\"barmode\":\"relative\"},                        {\"responsive\": true}                    ).then(function(){\n",
       "                            \n",
       "var gd = document.getElementById('9fd12ba4-a1e6-4f61-8caa-4fee19777ae3');\n",
       "var x = new MutationObserver(function (mutations, observer) {{\n",
       "        var display = window.getComputedStyle(gd).display;\n",
       "        if (!display || display === 'none') {{\n",
       "            console.log([gd, 'removed!']);\n",
       "            Plotly.purge(gd);\n",
       "            observer.disconnect();\n",
       "        }}\n",
       "}});\n",
       "\n",
       "// Listen for the removal of the full notebook cells\n",
       "var notebookContainer = gd.closest('#notebook-container');\n",
       "if (notebookContainer) {{\n",
       "    x.observe(notebookContainer, {childList: true});\n",
       "}}\n",
       "\n",
       "// Listen for the clearing of the current output cell\n",
       "var outputEl = gd.closest('.output');\n",
       "if (outputEl) {{\n",
       "    x.observe(outputEl, {childList: true});\n",
       "}}\n",
       "\n",
       "                        })                };                });            </script>        </div>"
      ]
     },
     "metadata": {},
     "output_type": "display_data"
    },
    {
     "data": {
      "application/vnd.plotly.v1+json": {
       "config": {
        "plotlyServerURL": "https://plot.ly"
       },
       "data": [
        {
         "alignmentgroup": "True",
         "bingroup": "x",
         "hovertemplate": "variable=Price<br>value=%{x}<br>count=%{y}<extra></extra>",
         "legendgroup": "Price",
         "marker": {
          "color": "#636efa",
          "pattern": {
           "shape": ""
          }
         },
         "name": "Price",
         "offsetgroup": "Price",
         "orientation": "v",
         "showlegend": true,
         "type": "histogram",
         "x": [
          7.95,
          2.1,
          0.55,
          1.25,
          4.95,
          0.64,
          5.91,
          3.75,
          1.25,
          1.95,
          1.25,
          12.72,
          0.38,
          1.25,
          2.95,
          5.06,
          8.5,
          6.04,
          1.65,
          4.25,
          4.21,
          3.75,
          5.91,
          2.1,
          10.95,
          4.21,
          13.87,
          0.42,
          0.1,
          2.51,
          2.51,
          2.95,
          4.21,
          0.42,
          1.45,
          2.55,
          1.66,
          4.65,
          5.55,
          2.51,
          0.65,
          2.55,
          1.45,
          9.95,
          1.25,
          2.1,
          1.95,
          1.65,
          0.87,
          2.95,
          0.85,
          0.55,
          1.65,
          0.85,
          8.49,
          0.85,
          5.91,
          4.21,
          2.1,
          2.51,
          1.95,
          6.35,
          0.65,
          2.55,
          8.5,
          1.25,
          10.95,
          0.85,
          13.57,
          0.85,
          0.85,
          2.1,
          3.75,
          1.65,
          12.75,
          7.49,
          1.66,
          1.65,
          7.65,
          1.65,
          2.95,
          0.65,
          2.55,
          0.85,
          0.85,
          2.51,
          0.85,
          5.91,
          4.25,
          4.95,
          18,
          1.65,
          1.65,
          10.95,
          2.55,
          1.65,
          1.25,
          2.57,
          2.55,
          2.95,
          0.85,
          0.85,
          1.65,
          0.85,
          0.65,
          2.95,
          8.5,
          8.5,
          0.08,
          1.25,
          1.25,
          6.75,
          6.75,
          3.75,
          2.95,
          1.45,
          1.25,
          5.95,
          4.65,
          0.95,
          0.85,
          2.95,
          1.65,
          6.77,
          2.1,
          2.25,
          4.21,
          1.69,
          0.42,
          1.25,
          1.65,
          1.25,
          2.55,
          1.65,
          2.57,
          1.25,
          2.51,
          5.91,
          0.42,
          1.66,
          5.88,
          0.85,
          0.21,
          0.19,
          1.65,
          1.65,
          1.69,
          0.42,
          4.95,
          2.95,
          3.75,
          1.65,
          1.65,
          1.95,
          1.69,
          0.29,
          5.95,
          8.5,
          2.1,
          4.21,
          2.95,
          7.95,
          1.65,
          0.42,
          1.25,
          1.45,
          1.65,
          3.75,
          0.36,
          10.75,
          12.75,
          2.1,
          1.25,
          4.95,
          2.55,
          0.42,
          5.95,
          1.25,
          1.69,
          1.69,
          1.65,
          4.95,
          1.84,
          1.95,
          4.65,
          1.25,
          0.85,
          5.95,
          1.95,
          0.85,
          0.42,
          1.65,
          4.25,
          1.25,
          4.95,
          0.85,
          2.55,
          1.06,
          0,
          1.25,
          4.25,
          3.36,
          0.85,
          5.45,
          1.95,
          7.49,
          1.25,
          0.42,
          7.62,
          1.25,
          2.51,
          1.66,
          0.85,
          3.75,
          1.95,
          0.85,
          2.95,
          4.25,
          2.1,
          3.75,
          1.45,
          0.85,
          0.42,
          8.5,
          3.45,
          8.47,
          8.95,
          3.25,
          0.85,
          1.65,
          0.85,
          2.98,
          2.95,
          0.55,
          3.75,
          1.25,
          1.65,
          0.85,
          7.49,
          0.38,
          1.65,
          3.36,
          1.65,
          34,
          3.75,
          1.95,
          5.06,
          4.65,
          3.39,
          1.25,
          1.25,
          8.47,
          2.95,
          4.95,
          0.65,
          0.85,
          4.21,
          0.65,
          4.95,
          2.1,
          2.51,
          3.75,
          0.85,
          0.43,
          8.5,
          1.25,
          2.95,
          2.95,
          7.95,
          2.1,
          5.91,
          2.95,
          0.95,
          1.25,
          2.51,
          1.25,
          3.36,
          1.25,
          2.55,
          2.95,
          4.25,
          2.1,
          0.72,
          7.49,
          4.21,
          2.95,
          0.85,
          0.42,
          2.51,
          0.85,
          3.75,
          1.65,
          3.75,
          0.42,
          12.75,
          1.25,
          1.65,
          1.65,
          0.85,
          1.45,
          0.85,
          0.34,
          2.95,
          0.85,
          9.95,
          4.21,
          1.95,
          2.51,
          2.55,
          9.95,
          4.21,
          1.66,
          0.85,
          9.95,
          0,
          1.65,
          2.95,
          1.06,
          1.25,
          1.25,
          4.25,
          1.65,
          8.5,
          16.13,
          1.25,
          7.49,
          2.1,
          11.26,
          0.43,
          0.42,
          10.17,
          1.66,
          0.81,
          5.95,
          4.21,
          14.95,
          1.25,
          0.72,
          3.36,
          3.75,
          1.06,
          8.5,
          6.75,
          2.95,
          0.42,
          0.55,
          11.87,
          0.65,
          2.1,
          1.95,
          2.1,
          1.45,
          2.95,
          79.95,
          1.65,
          4.25,
          2.55,
          4.95,
          2.1,
          2.51,
          4.25,
          1.25,
          1.65,
          4.25,
          1.66,
          122.3,
          3.45,
          7.65,
          9.95,
          1.65,
          3.36,
          9.95,
          1.65,
          2.55,
          2.1,
          0.85,
          0.85,
          2.95,
          3.36,
          4.3,
          5.06,
          0.19,
          2.1,
          3.36,
          1.66,
          2.1,
          5.91,
          5.95,
          1.06,
          2.55,
          34,
          2.55,
          7.49,
          0.65,
          2.95,
          7.95,
          8.47,
          2.1,
          3.36,
          2.1,
          1.95,
          2.55,
          2.51,
          2.1,
          2.12,
          9.95,
          4.95,
          4.21,
          1.25,
          0.42,
          2.95,
          5.91,
          0.55,
          0.42,
          38.26,
          12.75,
          2.95,
          9.95,
          16.95,
          5.45,
          0.55,
          3.95,
          2.95,
          0.85,
          4.21,
          0.55,
          7.49,
          0.85,
          0.72,
          1.25,
          2.51,
          6.95,
          1.66,
          5.91,
          4.95,
          4.21,
          0.85,
          3.95,
          0.42,
          1.66,
          1.25,
          1.25,
          2.95,
          34.74,
          1.95,
          1.25,
          2.51,
          0.85,
          2.1,
          1.06,
          6.75,
          2.1,
          0.55,
          6.04,
          0.85,
          0.85,
          0.83,
          3.25,
          2.55,
          7.62,
          1.45,
          1.06,
          1.45,
          2.1,
          2.95,
          9.95,
          1.65,
          12.75,
          1.25,
          3.75,
          0.85,
          0.55,
          1.25,
          0.85,
          0.65,
          1.25,
          1.69,
          5.95,
          0,
          1.25,
          0.55,
          2.1,
          4.21,
          1.65,
          5.95,
          1.25,
          1.45,
          0.85,
          2.95,
          2.95,
          1.65,
          8.47,
          8.5,
          2.55,
          2.1,
          0.85,
          8.5,
          1.95,
          1.7,
          0.65,
          2.95,
          1.65,
          1.25,
          0.85,
          4.25,
          0.64,
          0.42,
          0.38,
          1.65,
          2.1,
          12.75,
          0.65,
          0.65,
          4.95,
          0.85,
          1.25,
          1.66,
          1.65,
          0.85,
          4.95,
          3.04,
          0.42,
          16.95,
          1.65,
          1.25,
          5.06,
          0.85,
          0.85,
          2.1,
          1.65,
          0.85,
          8.47,
          3.43,
          2.55,
          0.42,
          9.95,
          1.66,
          0.65,
          1.25,
          12.75,
          12.72,
          5.95,
          4.65,
          3.39,
          6.75,
          1.65,
          4.25,
          0.85,
          2.55,
          2.95,
          3.75,
          2.55,
          1.65,
          7.95,
          1.95,
          0.29,
          4.95,
          1.25,
          0.42,
          2.95,
          5.95,
          1.25,
          4.95,
          5.91,
          4.21,
          16.98,
          1.65,
          4.25,
          2.95,
          1.25,
          1.45,
          3.36,
          10.95,
          1.49,
          12.75,
          4.25,
          0.29,
          9.95,
          1.65,
          1.45,
          7.95,
          1.45,
          1.66,
          1.65,
          2.95,
          5.95,
          3.75,
          0.42,
          2.95,
          2.98,
          2.95,
          1.65,
          1.65,
          1.95,
          0.38,
          1.65,
          7.95,
          2.55,
          4.25,
          2.95,
          0.85,
          2.95,
          1.45,
          1.65,
          0.42,
          5.95,
          1.25,
          2.1,
          0.85,
          3.75,
          34,
          3.75,
          1.45,
          4.25,
          1.25,
          1.65,
          3.75,
          7.62,
          0.55,
          1.95,
          1.45,
          1.7,
          0.36,
          4.5,
          4.95,
          1.95,
          4.21,
          1.25,
          5.17,
          2.55,
          0.42,
          4.95,
          1.95,
          2.55,
          1.28,
          1.65,
          0.42,
          1.95,
          1.65,
          2.1,
          0.85,
          5.95,
          0.65,
          1.45,
          7.65,
          2.1,
          2.95,
          4.95,
          8.47,
          0.95,
          1.25,
          2.95,
          9.95,
          1.65,
          2.55,
          1.65,
          1.25,
          1.25,
          1.25,
          1.25,
          2.51,
          0.85,
          7.49,
          1.65,
          1.45,
          1.95,
          0.65,
          1.25,
          0.42,
          2.1,
          12.75,
          0.85,
          1.7,
          2.1,
          2.95,
          1.25,
          3.36,
          1.65,
          1.95,
          2.55,
          5.45,
          0.55,
          16.95,
          6.04,
          4.21,
          5.95,
          4.95,
          1.06,
          2.55,
          7.49,
          1.25,
          0.55,
          1.95,
          5.95,
          5.95,
          2.51,
          5.91,
          4.3,
          1.65,
          2.51,
          1.25,
          1.25,
          16.98,
          1.25,
          10.95,
          3.35,
          1.45,
          1.65,
          1.25,
          1.65,
          4.21,
          2.95,
          0.42,
          2.55,
          4.95,
          4.95,
          1.25,
          3.36,
          1.25,
          1.95,
          3.36,
          2.51,
          0.85,
          2.55,
          2.55,
          1.65,
          5.91,
          1.7,
          2.1,
          3.36,
          0.42,
          2.1,
          1.65,
          0.36,
          2.95,
          8.5,
          0.42,
          0.42,
          1.25,
          1.66,
          1.06,
          5.2,
          1.28,
          12.75,
          1.25,
          2.95,
          3.75,
          1.66,
          5.95,
          8.5,
          0.55,
          0.85,
          2.95,
          1.25,
          0.85,
          1.25,
          1.25,
          4.21,
          0.85,
          0.42,
          7.95,
          3.36,
          1.25,
          0.38,
          0.85,
          2.95,
          8.95,
          1.65,
          0.85,
          11.02,
          7.95,
          0.85,
          2.25,
          4.95,
          0.85,
          11.02,
          2.1,
          0.85,
          12.75,
          2.55,
          0.42,
          2.95,
          12.75,
          1.69,
          0.85,
          1.25,
          5.06,
          5.91,
          4.65,
          0.95,
          1.25,
          1.65,
          0.85,
          0.65,
          2.95,
          8.47,
          1.66,
          5.91,
          0.42,
          5.95,
          7.95,
          4.21,
          2.95,
          1.25,
          0.85,
          6.35,
          0.65,
          0.42,
          6.75,
          0.42,
          2.55,
          12.75,
          2.95,
          0.85,
          4.95,
          2.55,
          1.25,
          2.95,
          1.28,
          6.75,
          1.95,
          1.66,
          4.3,
          0.53,
          1.65,
          3.75,
          2.1,
          2.1,
          3.36,
          3.75,
          5.95,
          1.25,
          0.95,
          2.95,
          4.21,
          1.66,
          5.91,
          1.69,
          5.49,
          2.55,
          1.65,
          0.65,
          1.66,
          0.85,
          7.95,
          2.95,
          4.25,
          0.55,
          0.65,
          1.45,
          3.75,
          1.85,
          5.95,
          4.95,
          1.25,
          2.55,
          12.75,
          9.95,
          0.85,
          1.25,
          1.25,
          0.42,
          1.69,
          0.42,
          1.69,
          2.95,
          1.25,
          1.65,
          5.91,
          3.36,
          0.55,
          1.25,
          0.85,
          1.25,
          5.95,
          6.45,
          2.95,
          1.28,
          1.95,
          1.25,
          0.85,
          0.42,
          1.25,
          1.65,
          4.95,
          2.95,
          3.95,
          3.36,
          0.55,
          1.95,
          2.1,
          1.66,
          2.1,
          1.25,
          9.95,
          1.95,
          3.75,
          3.75,
          12.72,
          3.75,
          0.43,
          0.85,
          0.85,
          2.95,
          0.81,
          0.85,
          1.25,
          2.1,
          5.95,
          0.85,
          2.95,
          8.95,
          2.1,
          2.55,
          3.75,
          0.42,
          0.85,
          1.65,
          2.55,
          9.95,
          4.21,
          29.79,
          4.95,
          1.65,
          3.75,
          0.21,
          2.55,
          2.1,
          4.21,
          0.85,
          0.55,
          0.85,
          0.85,
          2.95,
          0.65,
          1.06,
          7.95,
          4.25,
          0.55,
          2.95,
          2.1,
          2.51,
          0.65,
          1.25,
          4.25,
          3.75,
          1.25,
          3.36,
          0.55,
          3.75,
          2.55,
          1.95,
          0.42,
          0.42,
          0.42,
          4.21,
          0.85,
          3.75,
          0.43,
          0.42,
          1.65,
          2.95,
          2.51,
          0.85,
          3.25,
          4.95,
          14.43,
          5.45,
          7.95,
          2.1,
          0.42,
          12.75,
          1.45,
          0.85,
          1.66,
          0.85,
          8.47,
          2.1,
          1.85,
          6.75,
          3.75,
          1.25,
          2.95,
          1.66,
          2.95,
          4.25,
          4.95,
          1.25,
          4.21,
          4.95,
          1.25,
          12.75,
          3.75,
          2.95,
          1.65,
          1.95,
          1.95,
          2.98
         ],
         "xaxis": "x",
         "yaxis": "y"
        },
        {
         "alignmentgroup": "True",
         "hovertemplate": "variable=Price<br>value=%{x}<extra></extra>",
         "legendgroup": "Price",
         "marker": {
          "color": "#636efa"
         },
         "name": "Price",
         "notched": true,
         "offsetgroup": "Price",
         "showlegend": false,
         "type": "box",
         "x": [
          7.95,
          2.1,
          0.55,
          1.25,
          4.95,
          0.64,
          5.91,
          3.75,
          1.25,
          1.95,
          1.25,
          12.72,
          0.38,
          1.25,
          2.95,
          5.06,
          8.5,
          6.04,
          1.65,
          4.25,
          4.21,
          3.75,
          5.91,
          2.1,
          10.95,
          4.21,
          13.87,
          0.42,
          0.1,
          2.51,
          2.51,
          2.95,
          4.21,
          0.42,
          1.45,
          2.55,
          1.66,
          4.65,
          5.55,
          2.51,
          0.65,
          2.55,
          1.45,
          9.95,
          1.25,
          2.1,
          1.95,
          1.65,
          0.87,
          2.95,
          0.85,
          0.55,
          1.65,
          0.85,
          8.49,
          0.85,
          5.91,
          4.21,
          2.1,
          2.51,
          1.95,
          6.35,
          0.65,
          2.55,
          8.5,
          1.25,
          10.95,
          0.85,
          13.57,
          0.85,
          0.85,
          2.1,
          3.75,
          1.65,
          12.75,
          7.49,
          1.66,
          1.65,
          7.65,
          1.65,
          2.95,
          0.65,
          2.55,
          0.85,
          0.85,
          2.51,
          0.85,
          5.91,
          4.25,
          4.95,
          18,
          1.65,
          1.65,
          10.95,
          2.55,
          1.65,
          1.25,
          2.57,
          2.55,
          2.95,
          0.85,
          0.85,
          1.65,
          0.85,
          0.65,
          2.95,
          8.5,
          8.5,
          0.08,
          1.25,
          1.25,
          6.75,
          6.75,
          3.75,
          2.95,
          1.45,
          1.25,
          5.95,
          4.65,
          0.95,
          0.85,
          2.95,
          1.65,
          6.77,
          2.1,
          2.25,
          4.21,
          1.69,
          0.42,
          1.25,
          1.65,
          1.25,
          2.55,
          1.65,
          2.57,
          1.25,
          2.51,
          5.91,
          0.42,
          1.66,
          5.88,
          0.85,
          0.21,
          0.19,
          1.65,
          1.65,
          1.69,
          0.42,
          4.95,
          2.95,
          3.75,
          1.65,
          1.65,
          1.95,
          1.69,
          0.29,
          5.95,
          8.5,
          2.1,
          4.21,
          2.95,
          7.95,
          1.65,
          0.42,
          1.25,
          1.45,
          1.65,
          3.75,
          0.36,
          10.75,
          12.75,
          2.1,
          1.25,
          4.95,
          2.55,
          0.42,
          5.95,
          1.25,
          1.69,
          1.69,
          1.65,
          4.95,
          1.84,
          1.95,
          4.65,
          1.25,
          0.85,
          5.95,
          1.95,
          0.85,
          0.42,
          1.65,
          4.25,
          1.25,
          4.95,
          0.85,
          2.55,
          1.06,
          0,
          1.25,
          4.25,
          3.36,
          0.85,
          5.45,
          1.95,
          7.49,
          1.25,
          0.42,
          7.62,
          1.25,
          2.51,
          1.66,
          0.85,
          3.75,
          1.95,
          0.85,
          2.95,
          4.25,
          2.1,
          3.75,
          1.45,
          0.85,
          0.42,
          8.5,
          3.45,
          8.47,
          8.95,
          3.25,
          0.85,
          1.65,
          0.85,
          2.98,
          2.95,
          0.55,
          3.75,
          1.25,
          1.65,
          0.85,
          7.49,
          0.38,
          1.65,
          3.36,
          1.65,
          34,
          3.75,
          1.95,
          5.06,
          4.65,
          3.39,
          1.25,
          1.25,
          8.47,
          2.95,
          4.95,
          0.65,
          0.85,
          4.21,
          0.65,
          4.95,
          2.1,
          2.51,
          3.75,
          0.85,
          0.43,
          8.5,
          1.25,
          2.95,
          2.95,
          7.95,
          2.1,
          5.91,
          2.95,
          0.95,
          1.25,
          2.51,
          1.25,
          3.36,
          1.25,
          2.55,
          2.95,
          4.25,
          2.1,
          0.72,
          7.49,
          4.21,
          2.95,
          0.85,
          0.42,
          2.51,
          0.85,
          3.75,
          1.65,
          3.75,
          0.42,
          12.75,
          1.25,
          1.65,
          1.65,
          0.85,
          1.45,
          0.85,
          0.34,
          2.95,
          0.85,
          9.95,
          4.21,
          1.95,
          2.51,
          2.55,
          9.95,
          4.21,
          1.66,
          0.85,
          9.95,
          0,
          1.65,
          2.95,
          1.06,
          1.25,
          1.25,
          4.25,
          1.65,
          8.5,
          16.13,
          1.25,
          7.49,
          2.1,
          11.26,
          0.43,
          0.42,
          10.17,
          1.66,
          0.81,
          5.95,
          4.21,
          14.95,
          1.25,
          0.72,
          3.36,
          3.75,
          1.06,
          8.5,
          6.75,
          2.95,
          0.42,
          0.55,
          11.87,
          0.65,
          2.1,
          1.95,
          2.1,
          1.45,
          2.95,
          79.95,
          1.65,
          4.25,
          2.55,
          4.95,
          2.1,
          2.51,
          4.25,
          1.25,
          1.65,
          4.25,
          1.66,
          122.3,
          3.45,
          7.65,
          9.95,
          1.65,
          3.36,
          9.95,
          1.65,
          2.55,
          2.1,
          0.85,
          0.85,
          2.95,
          3.36,
          4.3,
          5.06,
          0.19,
          2.1,
          3.36,
          1.66,
          2.1,
          5.91,
          5.95,
          1.06,
          2.55,
          34,
          2.55,
          7.49,
          0.65,
          2.95,
          7.95,
          8.47,
          2.1,
          3.36,
          2.1,
          1.95,
          2.55,
          2.51,
          2.1,
          2.12,
          9.95,
          4.95,
          4.21,
          1.25,
          0.42,
          2.95,
          5.91,
          0.55,
          0.42,
          38.26,
          12.75,
          2.95,
          9.95,
          16.95,
          5.45,
          0.55,
          3.95,
          2.95,
          0.85,
          4.21,
          0.55,
          7.49,
          0.85,
          0.72,
          1.25,
          2.51,
          6.95,
          1.66,
          5.91,
          4.95,
          4.21,
          0.85,
          3.95,
          0.42,
          1.66,
          1.25,
          1.25,
          2.95,
          34.74,
          1.95,
          1.25,
          2.51,
          0.85,
          2.1,
          1.06,
          6.75,
          2.1,
          0.55,
          6.04,
          0.85,
          0.85,
          0.83,
          3.25,
          2.55,
          7.62,
          1.45,
          1.06,
          1.45,
          2.1,
          2.95,
          9.95,
          1.65,
          12.75,
          1.25,
          3.75,
          0.85,
          0.55,
          1.25,
          0.85,
          0.65,
          1.25,
          1.69,
          5.95,
          0,
          1.25,
          0.55,
          2.1,
          4.21,
          1.65,
          5.95,
          1.25,
          1.45,
          0.85,
          2.95,
          2.95,
          1.65,
          8.47,
          8.5,
          2.55,
          2.1,
          0.85,
          8.5,
          1.95,
          1.7,
          0.65,
          2.95,
          1.65,
          1.25,
          0.85,
          4.25,
          0.64,
          0.42,
          0.38,
          1.65,
          2.1,
          12.75,
          0.65,
          0.65,
          4.95,
          0.85,
          1.25,
          1.66,
          1.65,
          0.85,
          4.95,
          3.04,
          0.42,
          16.95,
          1.65,
          1.25,
          5.06,
          0.85,
          0.85,
          2.1,
          1.65,
          0.85,
          8.47,
          3.43,
          2.55,
          0.42,
          9.95,
          1.66,
          0.65,
          1.25,
          12.75,
          12.72,
          5.95,
          4.65,
          3.39,
          6.75,
          1.65,
          4.25,
          0.85,
          2.55,
          2.95,
          3.75,
          2.55,
          1.65,
          7.95,
          1.95,
          0.29,
          4.95,
          1.25,
          0.42,
          2.95,
          5.95,
          1.25,
          4.95,
          5.91,
          4.21,
          16.98,
          1.65,
          4.25,
          2.95,
          1.25,
          1.45,
          3.36,
          10.95,
          1.49,
          12.75,
          4.25,
          0.29,
          9.95,
          1.65,
          1.45,
          7.95,
          1.45,
          1.66,
          1.65,
          2.95,
          5.95,
          3.75,
          0.42,
          2.95,
          2.98,
          2.95,
          1.65,
          1.65,
          1.95,
          0.38,
          1.65,
          7.95,
          2.55,
          4.25,
          2.95,
          0.85,
          2.95,
          1.45,
          1.65,
          0.42,
          5.95,
          1.25,
          2.1,
          0.85,
          3.75,
          34,
          3.75,
          1.45,
          4.25,
          1.25,
          1.65,
          3.75,
          7.62,
          0.55,
          1.95,
          1.45,
          1.7,
          0.36,
          4.5,
          4.95,
          1.95,
          4.21,
          1.25,
          5.17,
          2.55,
          0.42,
          4.95,
          1.95,
          2.55,
          1.28,
          1.65,
          0.42,
          1.95,
          1.65,
          2.1,
          0.85,
          5.95,
          0.65,
          1.45,
          7.65,
          2.1,
          2.95,
          4.95,
          8.47,
          0.95,
          1.25,
          2.95,
          9.95,
          1.65,
          2.55,
          1.65,
          1.25,
          1.25,
          1.25,
          1.25,
          2.51,
          0.85,
          7.49,
          1.65,
          1.45,
          1.95,
          0.65,
          1.25,
          0.42,
          2.1,
          12.75,
          0.85,
          1.7,
          2.1,
          2.95,
          1.25,
          3.36,
          1.65,
          1.95,
          2.55,
          5.45,
          0.55,
          16.95,
          6.04,
          4.21,
          5.95,
          4.95,
          1.06,
          2.55,
          7.49,
          1.25,
          0.55,
          1.95,
          5.95,
          5.95,
          2.51,
          5.91,
          4.3,
          1.65,
          2.51,
          1.25,
          1.25,
          16.98,
          1.25,
          10.95,
          3.35,
          1.45,
          1.65,
          1.25,
          1.65,
          4.21,
          2.95,
          0.42,
          2.55,
          4.95,
          4.95,
          1.25,
          3.36,
          1.25,
          1.95,
          3.36,
          2.51,
          0.85,
          2.55,
          2.55,
          1.65,
          5.91,
          1.7,
          2.1,
          3.36,
          0.42,
          2.1,
          1.65,
          0.36,
          2.95,
          8.5,
          0.42,
          0.42,
          1.25,
          1.66,
          1.06,
          5.2,
          1.28,
          12.75,
          1.25,
          2.95,
          3.75,
          1.66,
          5.95,
          8.5,
          0.55,
          0.85,
          2.95,
          1.25,
          0.85,
          1.25,
          1.25,
          4.21,
          0.85,
          0.42,
          7.95,
          3.36,
          1.25,
          0.38,
          0.85,
          2.95,
          8.95,
          1.65,
          0.85,
          11.02,
          7.95,
          0.85,
          2.25,
          4.95,
          0.85,
          11.02,
          2.1,
          0.85,
          12.75,
          2.55,
          0.42,
          2.95,
          12.75,
          1.69,
          0.85,
          1.25,
          5.06,
          5.91,
          4.65,
          0.95,
          1.25,
          1.65,
          0.85,
          0.65,
          2.95,
          8.47,
          1.66,
          5.91,
          0.42,
          5.95,
          7.95,
          4.21,
          2.95,
          1.25,
          0.85,
          6.35,
          0.65,
          0.42,
          6.75,
          0.42,
          2.55,
          12.75,
          2.95,
          0.85,
          4.95,
          2.55,
          1.25,
          2.95,
          1.28,
          6.75,
          1.95,
          1.66,
          4.3,
          0.53,
          1.65,
          3.75,
          2.1,
          2.1,
          3.36,
          3.75,
          5.95,
          1.25,
          0.95,
          2.95,
          4.21,
          1.66,
          5.91,
          1.69,
          5.49,
          2.55,
          1.65,
          0.65,
          1.66,
          0.85,
          7.95,
          2.95,
          4.25,
          0.55,
          0.65,
          1.45,
          3.75,
          1.85,
          5.95,
          4.95,
          1.25,
          2.55,
          12.75,
          9.95,
          0.85,
          1.25,
          1.25,
          0.42,
          1.69,
          0.42,
          1.69,
          2.95,
          1.25,
          1.65,
          5.91,
          3.36,
          0.55,
          1.25,
          0.85,
          1.25,
          5.95,
          6.45,
          2.95,
          1.28,
          1.95,
          1.25,
          0.85,
          0.42,
          1.25,
          1.65,
          4.95,
          2.95,
          3.95,
          3.36,
          0.55,
          1.95,
          2.1,
          1.66,
          2.1,
          1.25,
          9.95,
          1.95,
          3.75,
          3.75,
          12.72,
          3.75,
          0.43,
          0.85,
          0.85,
          2.95,
          0.81,
          0.85,
          1.25,
          2.1,
          5.95,
          0.85,
          2.95,
          8.95,
          2.1,
          2.55,
          3.75,
          0.42,
          0.85,
          1.65,
          2.55,
          9.95,
          4.21,
          29.79,
          4.95,
          1.65,
          3.75,
          0.21,
          2.55,
          2.1,
          4.21,
          0.85,
          0.55,
          0.85,
          0.85,
          2.95,
          0.65,
          1.06,
          7.95,
          4.25,
          0.55,
          2.95,
          2.1,
          2.51,
          0.65,
          1.25,
          4.25,
          3.75,
          1.25,
          3.36,
          0.55,
          3.75,
          2.55,
          1.95,
          0.42,
          0.42,
          0.42,
          4.21,
          0.85,
          3.75,
          0.43,
          0.42,
          1.65,
          2.95,
          2.51,
          0.85,
          3.25,
          4.95,
          14.43,
          5.45,
          7.95,
          2.1,
          0.42,
          12.75,
          1.45,
          0.85,
          1.66,
          0.85,
          8.47,
          2.1,
          1.85,
          6.75,
          3.75,
          1.25,
          2.95,
          1.66,
          2.95,
          4.25,
          4.95,
          1.25,
          4.21,
          4.95,
          1.25,
          12.75,
          3.75,
          2.95,
          1.65,
          1.95,
          1.95,
          2.98
         ],
         "xaxis": "x2",
         "yaxis": "y2"
        }
       ],
       "layout": {
        "barmode": "relative",
        "legend": {
         "title": {
          "text": "variable"
         },
         "tracegroupgap": 0
        },
        "template": {
         "data": {
          "bar": [
           {
            "error_x": {
             "color": "#2a3f5f"
            },
            "error_y": {
             "color": "#2a3f5f"
            },
            "marker": {
             "line": {
              "color": "#E5ECF6",
              "width": 0.5
             },
             "pattern": {
              "fillmode": "overlay",
              "size": 10,
              "solidity": 0.2
             }
            },
            "type": "bar"
           }
          ],
          "barpolar": [
           {
            "marker": {
             "line": {
              "color": "#E5ECF6",
              "width": 0.5
             },
             "pattern": {
              "fillmode": "overlay",
              "size": 10,
              "solidity": 0.2
             }
            },
            "type": "barpolar"
           }
          ],
          "carpet": [
           {
            "aaxis": {
             "endlinecolor": "#2a3f5f",
             "gridcolor": "white",
             "linecolor": "white",
             "minorgridcolor": "white",
             "startlinecolor": "#2a3f5f"
            },
            "baxis": {
             "endlinecolor": "#2a3f5f",
             "gridcolor": "white",
             "linecolor": "white",
             "minorgridcolor": "white",
             "startlinecolor": "#2a3f5f"
            },
            "type": "carpet"
           }
          ],
          "choropleth": [
           {
            "colorbar": {
             "outlinewidth": 0,
             "ticks": ""
            },
            "type": "choropleth"
           }
          ],
          "contour": [
           {
            "colorbar": {
             "outlinewidth": 0,
             "ticks": ""
            },
            "colorscale": [
             [
              0,
              "#0d0887"
             ],
             [
              0.1111111111111111,
              "#46039f"
             ],
             [
              0.2222222222222222,
              "#7201a8"
             ],
             [
              0.3333333333333333,
              "#9c179e"
             ],
             [
              0.4444444444444444,
              "#bd3786"
             ],
             [
              0.5555555555555556,
              "#d8576b"
             ],
             [
              0.6666666666666666,
              "#ed7953"
             ],
             [
              0.7777777777777778,
              "#fb9f3a"
             ],
             [
              0.8888888888888888,
              "#fdca26"
             ],
             [
              1,
              "#f0f921"
             ]
            ],
            "type": "contour"
           }
          ],
          "contourcarpet": [
           {
            "colorbar": {
             "outlinewidth": 0,
             "ticks": ""
            },
            "type": "contourcarpet"
           }
          ],
          "heatmap": [
           {
            "colorbar": {
             "outlinewidth": 0,
             "ticks": ""
            },
            "colorscale": [
             [
              0,
              "#0d0887"
             ],
             [
              0.1111111111111111,
              "#46039f"
             ],
             [
              0.2222222222222222,
              "#7201a8"
             ],
             [
              0.3333333333333333,
              "#9c179e"
             ],
             [
              0.4444444444444444,
              "#bd3786"
             ],
             [
              0.5555555555555556,
              "#d8576b"
             ],
             [
              0.6666666666666666,
              "#ed7953"
             ],
             [
              0.7777777777777778,
              "#fb9f3a"
             ],
             [
              0.8888888888888888,
              "#fdca26"
             ],
             [
              1,
              "#f0f921"
             ]
            ],
            "type": "heatmap"
           }
          ],
          "heatmapgl": [
           {
            "colorbar": {
             "outlinewidth": 0,
             "ticks": ""
            },
            "colorscale": [
             [
              0,
              "#0d0887"
             ],
             [
              0.1111111111111111,
              "#46039f"
             ],
             [
              0.2222222222222222,
              "#7201a8"
             ],
             [
              0.3333333333333333,
              "#9c179e"
             ],
             [
              0.4444444444444444,
              "#bd3786"
             ],
             [
              0.5555555555555556,
              "#d8576b"
             ],
             [
              0.6666666666666666,
              "#ed7953"
             ],
             [
              0.7777777777777778,
              "#fb9f3a"
             ],
             [
              0.8888888888888888,
              "#fdca26"
             ],
             [
              1,
              "#f0f921"
             ]
            ],
            "type": "heatmapgl"
           }
          ],
          "histogram": [
           {
            "marker": {
             "pattern": {
              "fillmode": "overlay",
              "size": 10,
              "solidity": 0.2
             }
            },
            "type": "histogram"
           }
          ],
          "histogram2d": [
           {
            "colorbar": {
             "outlinewidth": 0,
             "ticks": ""
            },
            "colorscale": [
             [
              0,
              "#0d0887"
             ],
             [
              0.1111111111111111,
              "#46039f"
             ],
             [
              0.2222222222222222,
              "#7201a8"
             ],
             [
              0.3333333333333333,
              "#9c179e"
             ],
             [
              0.4444444444444444,
              "#bd3786"
             ],
             [
              0.5555555555555556,
              "#d8576b"
             ],
             [
              0.6666666666666666,
              "#ed7953"
             ],
             [
              0.7777777777777778,
              "#fb9f3a"
             ],
             [
              0.8888888888888888,
              "#fdca26"
             ],
             [
              1,
              "#f0f921"
             ]
            ],
            "type": "histogram2d"
           }
          ],
          "histogram2dcontour": [
           {
            "colorbar": {
             "outlinewidth": 0,
             "ticks": ""
            },
            "colorscale": [
             [
              0,
              "#0d0887"
             ],
             [
              0.1111111111111111,
              "#46039f"
             ],
             [
              0.2222222222222222,
              "#7201a8"
             ],
             [
              0.3333333333333333,
              "#9c179e"
             ],
             [
              0.4444444444444444,
              "#bd3786"
             ],
             [
              0.5555555555555556,
              "#d8576b"
             ],
             [
              0.6666666666666666,
              "#ed7953"
             ],
             [
              0.7777777777777778,
              "#fb9f3a"
             ],
             [
              0.8888888888888888,
              "#fdca26"
             ],
             [
              1,
              "#f0f921"
             ]
            ],
            "type": "histogram2dcontour"
           }
          ],
          "mesh3d": [
           {
            "colorbar": {
             "outlinewidth": 0,
             "ticks": ""
            },
            "type": "mesh3d"
           }
          ],
          "parcoords": [
           {
            "line": {
             "colorbar": {
              "outlinewidth": 0,
              "ticks": ""
             }
            },
            "type": "parcoords"
           }
          ],
          "pie": [
           {
            "automargin": true,
            "type": "pie"
           }
          ],
          "scatter": [
           {
            "fillpattern": {
             "fillmode": "overlay",
             "size": 10,
             "solidity": 0.2
            },
            "type": "scatter"
           }
          ],
          "scatter3d": [
           {
            "line": {
             "colorbar": {
              "outlinewidth": 0,
              "ticks": ""
             }
            },
            "marker": {
             "colorbar": {
              "outlinewidth": 0,
              "ticks": ""
             }
            },
            "type": "scatter3d"
           }
          ],
          "scattercarpet": [
           {
            "marker": {
             "colorbar": {
              "outlinewidth": 0,
              "ticks": ""
             }
            },
            "type": "scattercarpet"
           }
          ],
          "scattergeo": [
           {
            "marker": {
             "colorbar": {
              "outlinewidth": 0,
              "ticks": ""
             }
            },
            "type": "scattergeo"
           }
          ],
          "scattergl": [
           {
            "marker": {
             "colorbar": {
              "outlinewidth": 0,
              "ticks": ""
             }
            },
            "type": "scattergl"
           }
          ],
          "scattermapbox": [
           {
            "marker": {
             "colorbar": {
              "outlinewidth": 0,
              "ticks": ""
             }
            },
            "type": "scattermapbox"
           }
          ],
          "scatterpolar": [
           {
            "marker": {
             "colorbar": {
              "outlinewidth": 0,
              "ticks": ""
             }
            },
            "type": "scatterpolar"
           }
          ],
          "scatterpolargl": [
           {
            "marker": {
             "colorbar": {
              "outlinewidth": 0,
              "ticks": ""
             }
            },
            "type": "scatterpolargl"
           }
          ],
          "scatterternary": [
           {
            "marker": {
             "colorbar": {
              "outlinewidth": 0,
              "ticks": ""
             }
            },
            "type": "scatterternary"
           }
          ],
          "surface": [
           {
            "colorbar": {
             "outlinewidth": 0,
             "ticks": ""
            },
            "colorscale": [
             [
              0,
              "#0d0887"
             ],
             [
              0.1111111111111111,
              "#46039f"
             ],
             [
              0.2222222222222222,
              "#7201a8"
             ],
             [
              0.3333333333333333,
              "#9c179e"
             ],
             [
              0.4444444444444444,
              "#bd3786"
             ],
             [
              0.5555555555555556,
              "#d8576b"
             ],
             [
              0.6666666666666666,
              "#ed7953"
             ],
             [
              0.7777777777777778,
              "#fb9f3a"
             ],
             [
              0.8888888888888888,
              "#fdca26"
             ],
             [
              1,
              "#f0f921"
             ]
            ],
            "type": "surface"
           }
          ],
          "table": [
           {
            "cells": {
             "fill": {
              "color": "#EBF0F8"
             },
             "line": {
              "color": "white"
             }
            },
            "header": {
             "fill": {
              "color": "#C8D4E3"
             },
             "line": {
              "color": "white"
             }
            },
            "type": "table"
           }
          ]
         },
         "layout": {
          "annotationdefaults": {
           "arrowcolor": "#2a3f5f",
           "arrowhead": 0,
           "arrowwidth": 1
          },
          "autotypenumbers": "strict",
          "coloraxis": {
           "colorbar": {
            "outlinewidth": 0,
            "ticks": ""
           }
          },
          "colorscale": {
           "diverging": [
            [
             0,
             "#8e0152"
            ],
            [
             0.1,
             "#c51b7d"
            ],
            [
             0.2,
             "#de77ae"
            ],
            [
             0.3,
             "#f1b6da"
            ],
            [
             0.4,
             "#fde0ef"
            ],
            [
             0.5,
             "#f7f7f7"
            ],
            [
             0.6,
             "#e6f5d0"
            ],
            [
             0.7,
             "#b8e186"
            ],
            [
             0.8,
             "#7fbc41"
            ],
            [
             0.9,
             "#4d9221"
            ],
            [
             1,
             "#276419"
            ]
           ],
           "sequential": [
            [
             0,
             "#0d0887"
            ],
            [
             0.1111111111111111,
             "#46039f"
            ],
            [
             0.2222222222222222,
             "#7201a8"
            ],
            [
             0.3333333333333333,
             "#9c179e"
            ],
            [
             0.4444444444444444,
             "#bd3786"
            ],
            [
             0.5555555555555556,
             "#d8576b"
            ],
            [
             0.6666666666666666,
             "#ed7953"
            ],
            [
             0.7777777777777778,
             "#fb9f3a"
            ],
            [
             0.8888888888888888,
             "#fdca26"
            ],
            [
             1,
             "#f0f921"
            ]
           ],
           "sequentialminus": [
            [
             0,
             "#0d0887"
            ],
            [
             0.1111111111111111,
             "#46039f"
            ],
            [
             0.2222222222222222,
             "#7201a8"
            ],
            [
             0.3333333333333333,
             "#9c179e"
            ],
            [
             0.4444444444444444,
             "#bd3786"
            ],
            [
             0.5555555555555556,
             "#d8576b"
            ],
            [
             0.6666666666666666,
             "#ed7953"
            ],
            [
             0.7777777777777778,
             "#fb9f3a"
            ],
            [
             0.8888888888888888,
             "#fdca26"
            ],
            [
             1,
             "#f0f921"
            ]
           ]
          },
          "colorway": [
           "#636efa",
           "#EF553B",
           "#00cc96",
           "#ab63fa",
           "#FFA15A",
           "#19d3f3",
           "#FF6692",
           "#B6E880",
           "#FF97FF",
           "#FECB52"
          ],
          "font": {
           "color": "#2a3f5f"
          },
          "geo": {
           "bgcolor": "white",
           "lakecolor": "white",
           "landcolor": "#E5ECF6",
           "showlakes": true,
           "showland": true,
           "subunitcolor": "white"
          },
          "hoverlabel": {
           "align": "left"
          },
          "hovermode": "closest",
          "mapbox": {
           "style": "light"
          },
          "paper_bgcolor": "white",
          "plot_bgcolor": "#E5ECF6",
          "polar": {
           "angularaxis": {
            "gridcolor": "white",
            "linecolor": "white",
            "ticks": ""
           },
           "bgcolor": "#E5ECF6",
           "radialaxis": {
            "gridcolor": "white",
            "linecolor": "white",
            "ticks": ""
           }
          },
          "scene": {
           "xaxis": {
            "backgroundcolor": "#E5ECF6",
            "gridcolor": "white",
            "gridwidth": 2,
            "linecolor": "white",
            "showbackground": true,
            "ticks": "",
            "zerolinecolor": "white"
           },
           "yaxis": {
            "backgroundcolor": "#E5ECF6",
            "gridcolor": "white",
            "gridwidth": 2,
            "linecolor": "white",
            "showbackground": true,
            "ticks": "",
            "zerolinecolor": "white"
           },
           "zaxis": {
            "backgroundcolor": "#E5ECF6",
            "gridcolor": "white",
            "gridwidth": 2,
            "linecolor": "white",
            "showbackground": true,
            "ticks": "",
            "zerolinecolor": "white"
           }
          },
          "shapedefaults": {
           "line": {
            "color": "#2a3f5f"
           }
          },
          "ternary": {
           "aaxis": {
            "gridcolor": "white",
            "linecolor": "white",
            "ticks": ""
           },
           "baxis": {
            "gridcolor": "white",
            "linecolor": "white",
            "ticks": ""
           },
           "bgcolor": "#E5ECF6",
           "caxis": {
            "gridcolor": "white",
            "linecolor": "white",
            "ticks": ""
           }
          },
          "title": {
           "x": 0.05
          },
          "xaxis": {
           "automargin": true,
           "gridcolor": "white",
           "linecolor": "white",
           "ticks": "",
           "title": {
            "standoff": 15
           },
           "zerolinecolor": "white",
           "zerolinewidth": 2
          },
          "yaxis": {
           "automargin": true,
           "gridcolor": "white",
           "linecolor": "white",
           "ticks": "",
           "title": {
            "standoff": 15
           },
           "zerolinecolor": "white",
           "zerolinewidth": 2
          }
         }
        },
        "title": {
         "text": "Price - Without Outliers"
        },
        "xaxis": {
         "anchor": "y",
         "domain": [
          0,
          1
         ],
         "title": {
          "text": "value"
         }
        },
        "xaxis2": {
         "anchor": "y2",
         "domain": [
          0,
          1
         ],
         "matches": "x",
         "showgrid": true,
         "showticklabels": false
        },
        "yaxis": {
         "anchor": "x",
         "domain": [
          0,
          0.7326
         ],
         "title": {
          "text": "count"
         }
        },
        "yaxis2": {
         "anchor": "x2",
         "domain": [
          0.7426,
          1
         ],
         "matches": "y2",
         "showgrid": false,
         "showline": false,
         "showticklabels": false,
         "ticks": ""
        }
       }
      },
      "text/html": [
       "<div>                            <div id=\"68d7b170-d44c-44d8-9c1c-65929547e965\" class=\"plotly-graph-div\" style=\"height:525px; width:100%;\"></div>            <script type=\"text/javascript\">                require([\"plotly\"], function(Plotly) {                    window.PLOTLYENV=window.PLOTLYENV || {};                                    if (document.getElementById(\"68d7b170-d44c-44d8-9c1c-65929547e965\")) {                    Plotly.newPlot(                        \"68d7b170-d44c-44d8-9c1c-65929547e965\",                        [{\"alignmentgroup\":\"True\",\"bingroup\":\"x\",\"hovertemplate\":\"variable=Price<br>value=%{x}<br>count=%{y}<extra></extra>\",\"legendgroup\":\"Price\",\"marker\":{\"color\":\"#636efa\",\"pattern\":{\"shape\":\"\"}},\"name\":\"Price\",\"offsetgroup\":\"Price\",\"orientation\":\"v\",\"showlegend\":true,\"x\":[7.95,2.1,0.55,1.25,4.95,0.64,5.91,3.75,1.25,1.95,1.25,12.72,0.38,1.25,2.95,5.06,8.5,6.04,1.65,4.25,4.21,3.75,5.91,2.1,10.95,4.21,13.87,0.42,0.1,2.51,2.51,2.95,4.21,0.42,1.45,2.55,1.66,4.65,5.55,2.51,0.65,2.55,1.45,9.95,1.25,2.1,1.95,1.65,0.87,2.95,0.85,0.55,1.65,0.85,8.49,0.85,5.91,4.21,2.1,2.51,1.95,6.35,0.65,2.55,8.5,1.25,10.95,0.85,13.57,0.85,0.85,2.1,3.75,1.65,12.75,7.49,1.66,1.65,7.65,1.65,2.95,0.65,2.55,0.85,0.85,2.51,0.85,5.91,4.25,4.95,18.0,1.65,1.65,10.95,2.55,1.65,1.25,2.57,2.55,2.95,0.85,0.85,1.65,0.85,0.65,2.95,8.5,8.5,0.08,1.25,1.25,6.75,6.75,3.75,2.95,1.45,1.25,5.95,4.65,0.95,0.85,2.95,1.65,6.77,2.1,2.25,4.21,1.69,0.42,1.25,1.65,1.25,2.55,1.65,2.57,1.25,2.51,5.91,0.42,1.66,5.88,0.85,0.21,0.19,1.65,1.65,1.69,0.42,4.95,2.95,3.75,1.65,1.65,1.95,1.69,0.29,5.95,8.5,2.1,4.21,2.95,7.95,1.65,0.42,1.25,1.45,1.65,3.75,0.36,10.75,12.75,2.1,1.25,4.95,2.55,0.42,5.95,1.25,1.69,1.69,1.65,4.95,1.84,1.95,4.65,1.25,0.85,5.95,1.95,0.85,0.42,1.65,4.25,1.25,4.95,0.85,2.55,1.06,0.0,1.25,4.25,3.36,0.85,5.45,1.95,7.49,1.25,0.42,7.62,1.25,2.51,1.66,0.85,3.75,1.95,0.85,2.95,4.25,2.1,3.75,1.45,0.85,0.42,8.5,3.45,8.47,8.95,3.25,0.85,1.65,0.85,2.98,2.95,0.55,3.75,1.25,1.65,0.85,7.49,0.38,1.65,3.36,1.65,34.0,3.75,1.95,5.06,4.65,3.39,1.25,1.25,8.47,2.95,4.95,0.65,0.85,4.21,0.65,4.95,2.1,2.51,3.75,0.85,0.43,8.5,1.25,2.95,2.95,7.95,2.1,5.91,2.95,0.95,1.25,2.51,1.25,3.36,1.25,2.55,2.95,4.25,2.1,0.72,7.49,4.21,2.95,0.85,0.42,2.51,0.85,3.75,1.65,3.75,0.42,12.75,1.25,1.65,1.65,0.85,1.45,0.85,0.34,2.95,0.85,9.95,4.21,1.95,2.51,2.55,9.95,4.21,1.66,0.85,9.95,0.0,1.65,2.95,1.06,1.25,1.25,4.25,1.65,8.5,16.13,1.25,7.49,2.1,11.26,0.43,0.42,10.17,1.66,0.81,5.95,4.21,14.95,1.25,0.72,3.36,3.75,1.06,8.5,6.75,2.95,0.42,0.55,11.87,0.65,2.1,1.95,2.1,1.45,2.95,79.95,1.65,4.25,2.55,4.95,2.1,2.51,4.25,1.25,1.65,4.25,1.66,122.3,3.45,7.65,9.95,1.65,3.36,9.95,1.65,2.55,2.1,0.85,0.85,2.95,3.36,4.3,5.06,0.19,2.1,3.36,1.66,2.1,5.91,5.95,1.06,2.55,34.0,2.55,7.49,0.65,2.95,7.95,8.47,2.1,3.36,2.1,1.95,2.55,2.51,2.1,2.12,9.95,4.95,4.21,1.25,0.42,2.95,5.91,0.55,0.42,38.26,12.75,2.95,9.95,16.95,5.45,0.55,3.95,2.95,0.85,4.21,0.55,7.49,0.85,0.72,1.25,2.51,6.95,1.66,5.91,4.95,4.21,0.85,3.95,0.42,1.66,1.25,1.25,2.95,34.74,1.95,1.25,2.51,0.85,2.1,1.06,6.75,2.1,0.55,6.04,0.85,0.85,0.83,3.25,2.55,7.62,1.45,1.06,1.45,2.1,2.95,9.95,1.65,12.75,1.25,3.75,0.85,0.55,1.25,0.85,0.65,1.25,1.69,5.95,0.0,1.25,0.55,2.1,4.21,1.65,5.95,1.25,1.45,0.85,2.95,2.95,1.65,8.47,8.5,2.55,2.1,0.85,8.5,1.95,1.7,0.65,2.95,1.65,1.25,0.85,4.25,0.64,0.42,0.38,1.65,2.1,12.75,0.65,0.65,4.95,0.85,1.25,1.66,1.65,0.85,4.95,3.04,0.42,16.95,1.65,1.25,5.06,0.85,0.85,2.1,1.65,0.85,8.47,3.43,2.55,0.42,9.95,1.66,0.65,1.25,12.75,12.72,5.95,4.65,3.39,6.75,1.65,4.25,0.85,2.55,2.95,3.75,2.55,1.65,7.95,1.95,0.29,4.95,1.25,0.42,2.95,5.95,1.25,4.95,5.91,4.21,16.98,1.65,4.25,2.95,1.25,1.45,3.36,10.95,1.49,12.75,4.25,0.29,9.95,1.65,1.45,7.95,1.45,1.66,1.65,2.95,5.95,3.75,0.42,2.95,2.98,2.95,1.65,1.65,1.95,0.38,1.65,7.95,2.55,4.25,2.95,0.85,2.95,1.45,1.65,0.42,5.95,1.25,2.1,0.85,3.75,34.0,3.75,1.45,4.25,1.25,1.65,3.75,7.62,0.55,1.95,1.45,1.7,0.36,4.5,4.95,1.95,4.21,1.25,5.17,2.55,0.42,4.95,1.95,2.55,1.28,1.65,0.42,1.95,1.65,2.1,0.85,5.95,0.65,1.45,7.65,2.1,2.95,4.95,8.47,0.95,1.25,2.95,9.95,1.65,2.55,1.65,1.25,1.25,1.25,1.25,2.51,0.85,7.49,1.65,1.45,1.95,0.65,1.25,0.42,2.1,12.75,0.85,1.7,2.1,2.95,1.25,3.36,1.65,1.95,2.55,5.45,0.55,16.95,6.04,4.21,5.95,4.95,1.06,2.55,7.49,1.25,0.55,1.95,5.95,5.95,2.51,5.91,4.3,1.65,2.51,1.25,1.25,16.98,1.25,10.95,3.35,1.45,1.65,1.25,1.65,4.21,2.95,0.42,2.55,4.95,4.95,1.25,3.36,1.25,1.95,3.36,2.51,0.85,2.55,2.55,1.65,5.91,1.7,2.1,3.36,0.42,2.1,1.65,0.36,2.95,8.5,0.42,0.42,1.25,1.66,1.06,5.2,1.28,12.75,1.25,2.95,3.75,1.66,5.95,8.5,0.55,0.85,2.95,1.25,0.85,1.25,1.25,4.21,0.85,0.42,7.95,3.36,1.25,0.38,0.85,2.95,8.95,1.65,0.85,11.02,7.95,0.85,2.25,4.95,0.85,11.02,2.1,0.85,12.75,2.55,0.42,2.95,12.75,1.69,0.85,1.25,5.06,5.91,4.65,0.95,1.25,1.65,0.85,0.65,2.95,8.47,1.66,5.91,0.42,5.95,7.95,4.21,2.95,1.25,0.85,6.35,0.65,0.42,6.75,0.42,2.55,12.75,2.95,0.85,4.95,2.55,1.25,2.95,1.28,6.75,1.95,1.66,4.3,0.53,1.65,3.75,2.1,2.1,3.36,3.75,5.95,1.25,0.95,2.95,4.21,1.66,5.91,1.69,5.49,2.55,1.65,0.65,1.66,0.85,7.95,2.95,4.25,0.55,0.65,1.45,3.75,1.85,5.95,4.95,1.25,2.55,12.75,9.95,0.85,1.25,1.25,0.42,1.69,0.42,1.69,2.95,1.25,1.65,5.91,3.36,0.55,1.25,0.85,1.25,5.95,6.45,2.95,1.28,1.95,1.25,0.85,0.42,1.25,1.65,4.95,2.95,3.95,3.36,0.55,1.95,2.1,1.66,2.1,1.25,9.95,1.95,3.75,3.75,12.72,3.75,0.43,0.85,0.85,2.95,0.81,0.85,1.25,2.1,5.95,0.85,2.95,8.95,2.1,2.55,3.75,0.42,0.85,1.65,2.55,9.95,4.21,29.79,4.95,1.65,3.75,0.21,2.55,2.1,4.21,0.85,0.55,0.85,0.85,2.95,0.65,1.06,7.95,4.25,0.55,2.95,2.1,2.51,0.65,1.25,4.25,3.75,1.25,3.36,0.55,3.75,2.55,1.95,0.42,0.42,0.42,4.21,0.85,3.75,0.43,0.42,1.65,2.95,2.51,0.85,3.25,4.95,14.43,5.45,7.95,2.1,0.42,12.75,1.45,0.85,1.66,0.85,8.47,2.1,1.85,6.75,3.75,1.25,2.95,1.66,2.95,4.25,4.95,1.25,4.21,4.95,1.25,12.75,3.75,2.95,1.65,1.95,1.95,2.98],\"xaxis\":\"x\",\"yaxis\":\"y\",\"type\":\"histogram\"},{\"alignmentgroup\":\"True\",\"hovertemplate\":\"variable=Price<br>value=%{x}<extra></extra>\",\"legendgroup\":\"Price\",\"marker\":{\"color\":\"#636efa\"},\"name\":\"Price\",\"notched\":true,\"offsetgroup\":\"Price\",\"showlegend\":false,\"x\":[7.95,2.1,0.55,1.25,4.95,0.64,5.91,3.75,1.25,1.95,1.25,12.72,0.38,1.25,2.95,5.06,8.5,6.04,1.65,4.25,4.21,3.75,5.91,2.1,10.95,4.21,13.87,0.42,0.1,2.51,2.51,2.95,4.21,0.42,1.45,2.55,1.66,4.65,5.55,2.51,0.65,2.55,1.45,9.95,1.25,2.1,1.95,1.65,0.87,2.95,0.85,0.55,1.65,0.85,8.49,0.85,5.91,4.21,2.1,2.51,1.95,6.35,0.65,2.55,8.5,1.25,10.95,0.85,13.57,0.85,0.85,2.1,3.75,1.65,12.75,7.49,1.66,1.65,7.65,1.65,2.95,0.65,2.55,0.85,0.85,2.51,0.85,5.91,4.25,4.95,18.0,1.65,1.65,10.95,2.55,1.65,1.25,2.57,2.55,2.95,0.85,0.85,1.65,0.85,0.65,2.95,8.5,8.5,0.08,1.25,1.25,6.75,6.75,3.75,2.95,1.45,1.25,5.95,4.65,0.95,0.85,2.95,1.65,6.77,2.1,2.25,4.21,1.69,0.42,1.25,1.65,1.25,2.55,1.65,2.57,1.25,2.51,5.91,0.42,1.66,5.88,0.85,0.21,0.19,1.65,1.65,1.69,0.42,4.95,2.95,3.75,1.65,1.65,1.95,1.69,0.29,5.95,8.5,2.1,4.21,2.95,7.95,1.65,0.42,1.25,1.45,1.65,3.75,0.36,10.75,12.75,2.1,1.25,4.95,2.55,0.42,5.95,1.25,1.69,1.69,1.65,4.95,1.84,1.95,4.65,1.25,0.85,5.95,1.95,0.85,0.42,1.65,4.25,1.25,4.95,0.85,2.55,1.06,0.0,1.25,4.25,3.36,0.85,5.45,1.95,7.49,1.25,0.42,7.62,1.25,2.51,1.66,0.85,3.75,1.95,0.85,2.95,4.25,2.1,3.75,1.45,0.85,0.42,8.5,3.45,8.47,8.95,3.25,0.85,1.65,0.85,2.98,2.95,0.55,3.75,1.25,1.65,0.85,7.49,0.38,1.65,3.36,1.65,34.0,3.75,1.95,5.06,4.65,3.39,1.25,1.25,8.47,2.95,4.95,0.65,0.85,4.21,0.65,4.95,2.1,2.51,3.75,0.85,0.43,8.5,1.25,2.95,2.95,7.95,2.1,5.91,2.95,0.95,1.25,2.51,1.25,3.36,1.25,2.55,2.95,4.25,2.1,0.72,7.49,4.21,2.95,0.85,0.42,2.51,0.85,3.75,1.65,3.75,0.42,12.75,1.25,1.65,1.65,0.85,1.45,0.85,0.34,2.95,0.85,9.95,4.21,1.95,2.51,2.55,9.95,4.21,1.66,0.85,9.95,0.0,1.65,2.95,1.06,1.25,1.25,4.25,1.65,8.5,16.13,1.25,7.49,2.1,11.26,0.43,0.42,10.17,1.66,0.81,5.95,4.21,14.95,1.25,0.72,3.36,3.75,1.06,8.5,6.75,2.95,0.42,0.55,11.87,0.65,2.1,1.95,2.1,1.45,2.95,79.95,1.65,4.25,2.55,4.95,2.1,2.51,4.25,1.25,1.65,4.25,1.66,122.3,3.45,7.65,9.95,1.65,3.36,9.95,1.65,2.55,2.1,0.85,0.85,2.95,3.36,4.3,5.06,0.19,2.1,3.36,1.66,2.1,5.91,5.95,1.06,2.55,34.0,2.55,7.49,0.65,2.95,7.95,8.47,2.1,3.36,2.1,1.95,2.55,2.51,2.1,2.12,9.95,4.95,4.21,1.25,0.42,2.95,5.91,0.55,0.42,38.26,12.75,2.95,9.95,16.95,5.45,0.55,3.95,2.95,0.85,4.21,0.55,7.49,0.85,0.72,1.25,2.51,6.95,1.66,5.91,4.95,4.21,0.85,3.95,0.42,1.66,1.25,1.25,2.95,34.74,1.95,1.25,2.51,0.85,2.1,1.06,6.75,2.1,0.55,6.04,0.85,0.85,0.83,3.25,2.55,7.62,1.45,1.06,1.45,2.1,2.95,9.95,1.65,12.75,1.25,3.75,0.85,0.55,1.25,0.85,0.65,1.25,1.69,5.95,0.0,1.25,0.55,2.1,4.21,1.65,5.95,1.25,1.45,0.85,2.95,2.95,1.65,8.47,8.5,2.55,2.1,0.85,8.5,1.95,1.7,0.65,2.95,1.65,1.25,0.85,4.25,0.64,0.42,0.38,1.65,2.1,12.75,0.65,0.65,4.95,0.85,1.25,1.66,1.65,0.85,4.95,3.04,0.42,16.95,1.65,1.25,5.06,0.85,0.85,2.1,1.65,0.85,8.47,3.43,2.55,0.42,9.95,1.66,0.65,1.25,12.75,12.72,5.95,4.65,3.39,6.75,1.65,4.25,0.85,2.55,2.95,3.75,2.55,1.65,7.95,1.95,0.29,4.95,1.25,0.42,2.95,5.95,1.25,4.95,5.91,4.21,16.98,1.65,4.25,2.95,1.25,1.45,3.36,10.95,1.49,12.75,4.25,0.29,9.95,1.65,1.45,7.95,1.45,1.66,1.65,2.95,5.95,3.75,0.42,2.95,2.98,2.95,1.65,1.65,1.95,0.38,1.65,7.95,2.55,4.25,2.95,0.85,2.95,1.45,1.65,0.42,5.95,1.25,2.1,0.85,3.75,34.0,3.75,1.45,4.25,1.25,1.65,3.75,7.62,0.55,1.95,1.45,1.7,0.36,4.5,4.95,1.95,4.21,1.25,5.17,2.55,0.42,4.95,1.95,2.55,1.28,1.65,0.42,1.95,1.65,2.1,0.85,5.95,0.65,1.45,7.65,2.1,2.95,4.95,8.47,0.95,1.25,2.95,9.95,1.65,2.55,1.65,1.25,1.25,1.25,1.25,2.51,0.85,7.49,1.65,1.45,1.95,0.65,1.25,0.42,2.1,12.75,0.85,1.7,2.1,2.95,1.25,3.36,1.65,1.95,2.55,5.45,0.55,16.95,6.04,4.21,5.95,4.95,1.06,2.55,7.49,1.25,0.55,1.95,5.95,5.95,2.51,5.91,4.3,1.65,2.51,1.25,1.25,16.98,1.25,10.95,3.35,1.45,1.65,1.25,1.65,4.21,2.95,0.42,2.55,4.95,4.95,1.25,3.36,1.25,1.95,3.36,2.51,0.85,2.55,2.55,1.65,5.91,1.7,2.1,3.36,0.42,2.1,1.65,0.36,2.95,8.5,0.42,0.42,1.25,1.66,1.06,5.2,1.28,12.75,1.25,2.95,3.75,1.66,5.95,8.5,0.55,0.85,2.95,1.25,0.85,1.25,1.25,4.21,0.85,0.42,7.95,3.36,1.25,0.38,0.85,2.95,8.95,1.65,0.85,11.02,7.95,0.85,2.25,4.95,0.85,11.02,2.1,0.85,12.75,2.55,0.42,2.95,12.75,1.69,0.85,1.25,5.06,5.91,4.65,0.95,1.25,1.65,0.85,0.65,2.95,8.47,1.66,5.91,0.42,5.95,7.95,4.21,2.95,1.25,0.85,6.35,0.65,0.42,6.75,0.42,2.55,12.75,2.95,0.85,4.95,2.55,1.25,2.95,1.28,6.75,1.95,1.66,4.3,0.53,1.65,3.75,2.1,2.1,3.36,3.75,5.95,1.25,0.95,2.95,4.21,1.66,5.91,1.69,5.49,2.55,1.65,0.65,1.66,0.85,7.95,2.95,4.25,0.55,0.65,1.45,3.75,1.85,5.95,4.95,1.25,2.55,12.75,9.95,0.85,1.25,1.25,0.42,1.69,0.42,1.69,2.95,1.25,1.65,5.91,3.36,0.55,1.25,0.85,1.25,5.95,6.45,2.95,1.28,1.95,1.25,0.85,0.42,1.25,1.65,4.95,2.95,3.95,3.36,0.55,1.95,2.1,1.66,2.1,1.25,9.95,1.95,3.75,3.75,12.72,3.75,0.43,0.85,0.85,2.95,0.81,0.85,1.25,2.1,5.95,0.85,2.95,8.95,2.1,2.55,3.75,0.42,0.85,1.65,2.55,9.95,4.21,29.79,4.95,1.65,3.75,0.21,2.55,2.1,4.21,0.85,0.55,0.85,0.85,2.95,0.65,1.06,7.95,4.25,0.55,2.95,2.1,2.51,0.65,1.25,4.25,3.75,1.25,3.36,0.55,3.75,2.55,1.95,0.42,0.42,0.42,4.21,0.85,3.75,0.43,0.42,1.65,2.95,2.51,0.85,3.25,4.95,14.43,5.45,7.95,2.1,0.42,12.75,1.45,0.85,1.66,0.85,8.47,2.1,1.85,6.75,3.75,1.25,2.95,1.66,2.95,4.25,4.95,1.25,4.21,4.95,1.25,12.75,3.75,2.95,1.65,1.95,1.95,2.98],\"xaxis\":\"x2\",\"yaxis\":\"y2\",\"type\":\"box\"}],                        {\"template\":{\"data\":{\"histogram2dcontour\":[{\"type\":\"histogram2dcontour\",\"colorbar\":{\"outlinewidth\":0,\"ticks\":\"\"},\"colorscale\":[[0.0,\"#0d0887\"],[0.1111111111111111,\"#46039f\"],[0.2222222222222222,\"#7201a8\"],[0.3333333333333333,\"#9c179e\"],[0.4444444444444444,\"#bd3786\"],[0.5555555555555556,\"#d8576b\"],[0.6666666666666666,\"#ed7953\"],[0.7777777777777778,\"#fb9f3a\"],[0.8888888888888888,\"#fdca26\"],[1.0,\"#f0f921\"]]}],\"choropleth\":[{\"type\":\"choropleth\",\"colorbar\":{\"outlinewidth\":0,\"ticks\":\"\"}}],\"histogram2d\":[{\"type\":\"histogram2d\",\"colorbar\":{\"outlinewidth\":0,\"ticks\":\"\"},\"colorscale\":[[0.0,\"#0d0887\"],[0.1111111111111111,\"#46039f\"],[0.2222222222222222,\"#7201a8\"],[0.3333333333333333,\"#9c179e\"],[0.4444444444444444,\"#bd3786\"],[0.5555555555555556,\"#d8576b\"],[0.6666666666666666,\"#ed7953\"],[0.7777777777777778,\"#fb9f3a\"],[0.8888888888888888,\"#fdca26\"],[1.0,\"#f0f921\"]]}],\"heatmap\":[{\"type\":\"heatmap\",\"colorbar\":{\"outlinewidth\":0,\"ticks\":\"\"},\"colorscale\":[[0.0,\"#0d0887\"],[0.1111111111111111,\"#46039f\"],[0.2222222222222222,\"#7201a8\"],[0.3333333333333333,\"#9c179e\"],[0.4444444444444444,\"#bd3786\"],[0.5555555555555556,\"#d8576b\"],[0.6666666666666666,\"#ed7953\"],[0.7777777777777778,\"#fb9f3a\"],[0.8888888888888888,\"#fdca26\"],[1.0,\"#f0f921\"]]}],\"heatmapgl\":[{\"type\":\"heatmapgl\",\"colorbar\":{\"outlinewidth\":0,\"ticks\":\"\"},\"colorscale\":[[0.0,\"#0d0887\"],[0.1111111111111111,\"#46039f\"],[0.2222222222222222,\"#7201a8\"],[0.3333333333333333,\"#9c179e\"],[0.4444444444444444,\"#bd3786\"],[0.5555555555555556,\"#d8576b\"],[0.6666666666666666,\"#ed7953\"],[0.7777777777777778,\"#fb9f3a\"],[0.8888888888888888,\"#fdca26\"],[1.0,\"#f0f921\"]]}],\"contourcarpet\":[{\"type\":\"contourcarpet\",\"colorbar\":{\"outlinewidth\":0,\"ticks\":\"\"}}],\"contour\":[{\"type\":\"contour\",\"colorbar\":{\"outlinewidth\":0,\"ticks\":\"\"},\"colorscale\":[[0.0,\"#0d0887\"],[0.1111111111111111,\"#46039f\"],[0.2222222222222222,\"#7201a8\"],[0.3333333333333333,\"#9c179e\"],[0.4444444444444444,\"#bd3786\"],[0.5555555555555556,\"#d8576b\"],[0.6666666666666666,\"#ed7953\"],[0.7777777777777778,\"#fb9f3a\"],[0.8888888888888888,\"#fdca26\"],[1.0,\"#f0f921\"]]}],\"surface\":[{\"type\":\"surface\",\"colorbar\":{\"outlinewidth\":0,\"ticks\":\"\"},\"colorscale\":[[0.0,\"#0d0887\"],[0.1111111111111111,\"#46039f\"],[0.2222222222222222,\"#7201a8\"],[0.3333333333333333,\"#9c179e\"],[0.4444444444444444,\"#bd3786\"],[0.5555555555555556,\"#d8576b\"],[0.6666666666666666,\"#ed7953\"],[0.7777777777777778,\"#fb9f3a\"],[0.8888888888888888,\"#fdca26\"],[1.0,\"#f0f921\"]]}],\"mesh3d\":[{\"type\":\"mesh3d\",\"colorbar\":{\"outlinewidth\":0,\"ticks\":\"\"}}],\"scatter\":[{\"fillpattern\":{\"fillmode\":\"overlay\",\"size\":10,\"solidity\":0.2},\"type\":\"scatter\"}],\"parcoords\":[{\"type\":\"parcoords\",\"line\":{\"colorbar\":{\"outlinewidth\":0,\"ticks\":\"\"}}}],\"scatterpolargl\":[{\"type\":\"scatterpolargl\",\"marker\":{\"colorbar\":{\"outlinewidth\":0,\"ticks\":\"\"}}}],\"bar\":[{\"error_x\":{\"color\":\"#2a3f5f\"},\"error_y\":{\"color\":\"#2a3f5f\"},\"marker\":{\"line\":{\"color\":\"#E5ECF6\",\"width\":0.5},\"pattern\":{\"fillmode\":\"overlay\",\"size\":10,\"solidity\":0.2}},\"type\":\"bar\"}],\"scattergeo\":[{\"type\":\"scattergeo\",\"marker\":{\"colorbar\":{\"outlinewidth\":0,\"ticks\":\"\"}}}],\"scatterpolar\":[{\"type\":\"scatterpolar\",\"marker\":{\"colorbar\":{\"outlinewidth\":0,\"ticks\":\"\"}}}],\"histogram\":[{\"marker\":{\"pattern\":{\"fillmode\":\"overlay\",\"size\":10,\"solidity\":0.2}},\"type\":\"histogram\"}],\"scattergl\":[{\"type\":\"scattergl\",\"marker\":{\"colorbar\":{\"outlinewidth\":0,\"ticks\":\"\"}}}],\"scatter3d\":[{\"type\":\"scatter3d\",\"line\":{\"colorbar\":{\"outlinewidth\":0,\"ticks\":\"\"}},\"marker\":{\"colorbar\":{\"outlinewidth\":0,\"ticks\":\"\"}}}],\"scattermapbox\":[{\"type\":\"scattermapbox\",\"marker\":{\"colorbar\":{\"outlinewidth\":0,\"ticks\":\"\"}}}],\"scatterternary\":[{\"type\":\"scatterternary\",\"marker\":{\"colorbar\":{\"outlinewidth\":0,\"ticks\":\"\"}}}],\"scattercarpet\":[{\"type\":\"scattercarpet\",\"marker\":{\"colorbar\":{\"outlinewidth\":0,\"ticks\":\"\"}}}],\"carpet\":[{\"aaxis\":{\"endlinecolor\":\"#2a3f5f\",\"gridcolor\":\"white\",\"linecolor\":\"white\",\"minorgridcolor\":\"white\",\"startlinecolor\":\"#2a3f5f\"},\"baxis\":{\"endlinecolor\":\"#2a3f5f\",\"gridcolor\":\"white\",\"linecolor\":\"white\",\"minorgridcolor\":\"white\",\"startlinecolor\":\"#2a3f5f\"},\"type\":\"carpet\"}],\"table\":[{\"cells\":{\"fill\":{\"color\":\"#EBF0F8\"},\"line\":{\"color\":\"white\"}},\"header\":{\"fill\":{\"color\":\"#C8D4E3\"},\"line\":{\"color\":\"white\"}},\"type\":\"table\"}],\"barpolar\":[{\"marker\":{\"line\":{\"color\":\"#E5ECF6\",\"width\":0.5},\"pattern\":{\"fillmode\":\"overlay\",\"size\":10,\"solidity\":0.2}},\"type\":\"barpolar\"}],\"pie\":[{\"automargin\":true,\"type\":\"pie\"}]},\"layout\":{\"autotypenumbers\":\"strict\",\"colorway\":[\"#636efa\",\"#EF553B\",\"#00cc96\",\"#ab63fa\",\"#FFA15A\",\"#19d3f3\",\"#FF6692\",\"#B6E880\",\"#FF97FF\",\"#FECB52\"],\"font\":{\"color\":\"#2a3f5f\"},\"hovermode\":\"closest\",\"hoverlabel\":{\"align\":\"left\"},\"paper_bgcolor\":\"white\",\"plot_bgcolor\":\"#E5ECF6\",\"polar\":{\"bgcolor\":\"#E5ECF6\",\"angularaxis\":{\"gridcolor\":\"white\",\"linecolor\":\"white\",\"ticks\":\"\"},\"radialaxis\":{\"gridcolor\":\"white\",\"linecolor\":\"white\",\"ticks\":\"\"}},\"ternary\":{\"bgcolor\":\"#E5ECF6\",\"aaxis\":{\"gridcolor\":\"white\",\"linecolor\":\"white\",\"ticks\":\"\"},\"baxis\":{\"gridcolor\":\"white\",\"linecolor\":\"white\",\"ticks\":\"\"},\"caxis\":{\"gridcolor\":\"white\",\"linecolor\":\"white\",\"ticks\":\"\"}},\"coloraxis\":{\"colorbar\":{\"outlinewidth\":0,\"ticks\":\"\"}},\"colorscale\":{\"sequential\":[[0.0,\"#0d0887\"],[0.1111111111111111,\"#46039f\"],[0.2222222222222222,\"#7201a8\"],[0.3333333333333333,\"#9c179e\"],[0.4444444444444444,\"#bd3786\"],[0.5555555555555556,\"#d8576b\"],[0.6666666666666666,\"#ed7953\"],[0.7777777777777778,\"#fb9f3a\"],[0.8888888888888888,\"#fdca26\"],[1.0,\"#f0f921\"]],\"sequentialminus\":[[0.0,\"#0d0887\"],[0.1111111111111111,\"#46039f\"],[0.2222222222222222,\"#7201a8\"],[0.3333333333333333,\"#9c179e\"],[0.4444444444444444,\"#bd3786\"],[0.5555555555555556,\"#d8576b\"],[0.6666666666666666,\"#ed7953\"],[0.7777777777777778,\"#fb9f3a\"],[0.8888888888888888,\"#fdca26\"],[1.0,\"#f0f921\"]],\"diverging\":[[0,\"#8e0152\"],[0.1,\"#c51b7d\"],[0.2,\"#de77ae\"],[0.3,\"#f1b6da\"],[0.4,\"#fde0ef\"],[0.5,\"#f7f7f7\"],[0.6,\"#e6f5d0\"],[0.7,\"#b8e186\"],[0.8,\"#7fbc41\"],[0.9,\"#4d9221\"],[1,\"#276419\"]]},\"xaxis\":{\"gridcolor\":\"white\",\"linecolor\":\"white\",\"ticks\":\"\",\"title\":{\"standoff\":15},\"zerolinecolor\":\"white\",\"automargin\":true,\"zerolinewidth\":2},\"yaxis\":{\"gridcolor\":\"white\",\"linecolor\":\"white\",\"ticks\":\"\",\"title\":{\"standoff\":15},\"zerolinecolor\":\"white\",\"automargin\":true,\"zerolinewidth\":2},\"scene\":{\"xaxis\":{\"backgroundcolor\":\"#E5ECF6\",\"gridcolor\":\"white\",\"linecolor\":\"white\",\"showbackground\":true,\"ticks\":\"\",\"zerolinecolor\":\"white\",\"gridwidth\":2},\"yaxis\":{\"backgroundcolor\":\"#E5ECF6\",\"gridcolor\":\"white\",\"linecolor\":\"white\",\"showbackground\":true,\"ticks\":\"\",\"zerolinecolor\":\"white\",\"gridwidth\":2},\"zaxis\":{\"backgroundcolor\":\"#E5ECF6\",\"gridcolor\":\"white\",\"linecolor\":\"white\",\"showbackground\":true,\"ticks\":\"\",\"zerolinecolor\":\"white\",\"gridwidth\":2}},\"shapedefaults\":{\"line\":{\"color\":\"#2a3f5f\"}},\"annotationdefaults\":{\"arrowcolor\":\"#2a3f5f\",\"arrowhead\":0,\"arrowwidth\":1},\"geo\":{\"bgcolor\":\"white\",\"landcolor\":\"#E5ECF6\",\"subunitcolor\":\"white\",\"showland\":true,\"showlakes\":true,\"lakecolor\":\"white\"},\"title\":{\"x\":0.05},\"mapbox\":{\"style\":\"light\"}}},\"xaxis\":{\"anchor\":\"y\",\"domain\":[0.0,1.0],\"title\":{\"text\":\"value\"}},\"yaxis\":{\"anchor\":\"x\",\"domain\":[0.0,0.7326],\"title\":{\"text\":\"count\"}},\"xaxis2\":{\"anchor\":\"y2\",\"domain\":[0.0,1.0],\"matches\":\"x\",\"showticklabels\":false,\"showgrid\":true},\"yaxis2\":{\"anchor\":\"x2\",\"domain\":[0.7426,1.0],\"matches\":\"y2\",\"showticklabels\":false,\"showline\":false,\"ticks\":\"\",\"showgrid\":false},\"legend\":{\"title\":{\"text\":\"variable\"},\"tracegroupgap\":0},\"title\":{\"text\":\"Price - Without Outliers\"},\"barmode\":\"relative\"},                        {\"responsive\": true}                    ).then(function(){\n",
       "                            \n",
       "var gd = document.getElementById('68d7b170-d44c-44d8-9c1c-65929547e965');\n",
       "var x = new MutationObserver(function (mutations, observer) {{\n",
       "        var display = window.getComputedStyle(gd).display;\n",
       "        if (!display || display === 'none') {{\n",
       "            console.log([gd, 'removed!']);\n",
       "            Plotly.purge(gd);\n",
       "            observer.disconnect();\n",
       "        }}\n",
       "}});\n",
       "\n",
       "// Listen for the removal of the full notebook cells\n",
       "var notebookContainer = gd.closest('#notebook-container');\n",
       "if (notebookContainer) {{\n",
       "    x.observe(notebookContainer, {childList: true});\n",
       "}}\n",
       "\n",
       "// Listen for the clearing of the current output cell\n",
       "var outputEl = gd.closest('.output');\n",
       "if (outputEl) {{\n",
       "    x.observe(outputEl, {childList: true});\n",
       "}}\n",
       "\n",
       "                        })                };                });            </script>        </div>"
      ]
     },
     "metadata": {},
     "output_type": "display_data"
    }
   ],
   "source": [
    "profile_serie(df_retail['Price']) "
   ]
  },
  {
   "cell_type": "markdown",
   "metadata": {
    "cell_id": "00021-d9508a4a-ab9e-470f-b20e-2f3b1a095d99",
    "deepnote_cell_height": 69.83332824707031,
    "deepnote_cell_type": "markdown",
    "tags": []
   },
   "source": [
    "#### Price: \n",
    "En general la variable es positiva, salvo 3 valores menores que cero. 3687 son iguales a cero. La asimetria es negativa, dado que existen outliers a la izquierda del cero demasiado grandes con respecto al orden de magnitud del precio maximo. Tambien se observan outliers hacia la derecha. Si dejaramos solo aquellos valores no-negativos, se obtiene una asimetria positiva. En promedio el precio es de 4.6 con una desviacion estandar igual a 146. El valor maximo es 25111. Posee una Curtosis positiva, es decir, concentracion alta de los datos c/r a la media. No se reportan valores faltantes."
   ]
  },
  {
   "cell_type": "code",
   "execution_count": 21,
   "metadata": {
    "cell_id": "00022-d0bb6e4c-430f-42e3-9f3f-bd372817d286",
    "deepnote_cell_height": 65.03334045410156,
    "deepnote_cell_type": "code",
    "tags": []
   },
   "outputs": [
    {
     "data": {
      "text/markdown": [
       "## StockCode Profile"
      ],
      "text/plain": [
       "<IPython.core.display.Markdown object>"
      ]
     },
     "metadata": {},
     "output_type": "display_data"
    },
    {
     "data": {
      "text/plain": [
       "Type                           category\n",
       "Number of observations           525461\n",
       "Unique                             4632\n",
       "Top                              85123A\n",
       "Freq                               3516\n",
       "                                       \n",
       "Missing cells                         0\n",
       "Missing cells (%)                 0.0 %\n",
       "Duplicate rows                   525026\n",
       "Duplicate rows (%)              99.92 %\n",
       "Total size in memory      1220242 bytes\n",
       "dtype: object"
      ]
     },
     "metadata": {},
     "output_type": "display_data"
    },
    {
     "data": {
      "application/vnd.plotly.v1+json": {
       "config": {
        "plotlyServerURL": "https://plot.ly"
       },
       "data": [
        {
         "alignmentgroup": "True",
         "hovertemplate": "x=%{x}<br>y=%{y}<extra></extra>",
         "legendgroup": "",
         "marker": {
          "color": "#636efa",
          "pattern": {
           "shape": ""
          }
         },
         "name": "",
         "offsetgroup": "",
         "orientation": "v",
         "showlegend": false,
         "textposition": "auto",
         "type": "bar",
         "x": [
          "85123A",
          "22423",
          "85099B",
          "21212",
          "21232",
          "20725",
          "84879",
          "84991",
          "21754",
          "20914",
          "21034",
          "21931",
          "21080",
          "22139",
          "21977",
          "22383",
          "22138",
          "20727",
          "82494L",
          "22470",
          "21843",
          "21755",
          "21733",
          "21231",
          "22386",
          "22411",
          "22384",
          "48138",
          "22469",
          "20685",
          "85099F",
          "22197",
          "20724",
          "22382",
          "22114",
          "22111",
          "21790",
          "47566",
          "21181",
          "22086",
          "85099C",
          "20726",
          "20728",
          "82482",
          "84946",
          "22112",
          "84836",
          "22090",
          "84970S",
          "22149",
          "84992",
          "22355",
          "21175",
          "22356",
          "21213",
          "22077",
          "22457",
          "22379",
          "POST",
          "22178",
          "M",
          "21621",
          "22083",
          "21485",
          "21535",
          "20972",
          "85152",
          "84029E",
          "21527",
          "22189",
          "21929",
          "22585",
          "48194",
          "21928",
          "20719",
          "21791",
          "21429",
          "82486",
          "82580",
          "21166",
          "21731",
          "84978",
          "22147",
          "21975",
          "21210",
          "47591D",
          "DOT",
          "22910",
          "22326",
          "48187",
          "21559",
          "22551",
          "20713",
          "20723",
          "21524",
          "22865",
          "22556",
          "82600",
          "84755",
          "84997B"
         ],
         "xaxis": "x",
         "y": [
          3516,
          2221,
          2057,
          1933,
          1843,
          1620,
          1458,
          1400,
          1386,
          1276,
          1232,
          1220,
          1209,
          1203,
          1196,
          1192,
          1180,
          1179,
          1165,
          1154,
          1149,
          1142,
          1130,
          1098,
          1096,
          1095,
          1093,
          1089,
          1086,
          1079,
          1074,
          1073,
          1070,
          1059,
          1051,
          1048,
          1044,
          1041,
          1038,
          1007,
          992,
          989,
          988,
          987,
          958,
          958,
          947,
          940,
          931,
          924,
          922,
          920,
          904,
          881,
          873,
          872,
          872,
          869,
          865,
          862,
          850,
          849,
          847,
          846,
          842,
          840,
          835,
          827,
          823,
          816,
          796,
          796,
          794,
          789,
          783,
          778,
          774,
          757,
          756,
          756,
          754,
          751,
          750,
          745,
          740,
          738,
          736,
          714,
          713,
          713,
          706,
          702,
          701,
          701,
          701,
          699,
          698,
          694,
          690,
          689
         ],
         "yaxis": "y"
        }
       ],
       "layout": {
        "barmode": "relative",
        "legend": {
         "tracegroupgap": 0
        },
        "template": {
         "data": {
          "bar": [
           {
            "error_x": {
             "color": "#2a3f5f"
            },
            "error_y": {
             "color": "#2a3f5f"
            },
            "marker": {
             "line": {
              "color": "#E5ECF6",
              "width": 0.5
             },
             "pattern": {
              "fillmode": "overlay",
              "size": 10,
              "solidity": 0.2
             }
            },
            "type": "bar"
           }
          ],
          "barpolar": [
           {
            "marker": {
             "line": {
              "color": "#E5ECF6",
              "width": 0.5
             },
             "pattern": {
              "fillmode": "overlay",
              "size": 10,
              "solidity": 0.2
             }
            },
            "type": "barpolar"
           }
          ],
          "carpet": [
           {
            "aaxis": {
             "endlinecolor": "#2a3f5f",
             "gridcolor": "white",
             "linecolor": "white",
             "minorgridcolor": "white",
             "startlinecolor": "#2a3f5f"
            },
            "baxis": {
             "endlinecolor": "#2a3f5f",
             "gridcolor": "white",
             "linecolor": "white",
             "minorgridcolor": "white",
             "startlinecolor": "#2a3f5f"
            },
            "type": "carpet"
           }
          ],
          "choropleth": [
           {
            "colorbar": {
             "outlinewidth": 0,
             "ticks": ""
            },
            "type": "choropleth"
           }
          ],
          "contour": [
           {
            "colorbar": {
             "outlinewidth": 0,
             "ticks": ""
            },
            "colorscale": [
             [
              0,
              "#0d0887"
             ],
             [
              0.1111111111111111,
              "#46039f"
             ],
             [
              0.2222222222222222,
              "#7201a8"
             ],
             [
              0.3333333333333333,
              "#9c179e"
             ],
             [
              0.4444444444444444,
              "#bd3786"
             ],
             [
              0.5555555555555556,
              "#d8576b"
             ],
             [
              0.6666666666666666,
              "#ed7953"
             ],
             [
              0.7777777777777778,
              "#fb9f3a"
             ],
             [
              0.8888888888888888,
              "#fdca26"
             ],
             [
              1,
              "#f0f921"
             ]
            ],
            "type": "contour"
           }
          ],
          "contourcarpet": [
           {
            "colorbar": {
             "outlinewidth": 0,
             "ticks": ""
            },
            "type": "contourcarpet"
           }
          ],
          "heatmap": [
           {
            "colorbar": {
             "outlinewidth": 0,
             "ticks": ""
            },
            "colorscale": [
             [
              0,
              "#0d0887"
             ],
             [
              0.1111111111111111,
              "#46039f"
             ],
             [
              0.2222222222222222,
              "#7201a8"
             ],
             [
              0.3333333333333333,
              "#9c179e"
             ],
             [
              0.4444444444444444,
              "#bd3786"
             ],
             [
              0.5555555555555556,
              "#d8576b"
             ],
             [
              0.6666666666666666,
              "#ed7953"
             ],
             [
              0.7777777777777778,
              "#fb9f3a"
             ],
             [
              0.8888888888888888,
              "#fdca26"
             ],
             [
              1,
              "#f0f921"
             ]
            ],
            "type": "heatmap"
           }
          ],
          "heatmapgl": [
           {
            "colorbar": {
             "outlinewidth": 0,
             "ticks": ""
            },
            "colorscale": [
             [
              0,
              "#0d0887"
             ],
             [
              0.1111111111111111,
              "#46039f"
             ],
             [
              0.2222222222222222,
              "#7201a8"
             ],
             [
              0.3333333333333333,
              "#9c179e"
             ],
             [
              0.4444444444444444,
              "#bd3786"
             ],
             [
              0.5555555555555556,
              "#d8576b"
             ],
             [
              0.6666666666666666,
              "#ed7953"
             ],
             [
              0.7777777777777778,
              "#fb9f3a"
             ],
             [
              0.8888888888888888,
              "#fdca26"
             ],
             [
              1,
              "#f0f921"
             ]
            ],
            "type": "heatmapgl"
           }
          ],
          "histogram": [
           {
            "marker": {
             "pattern": {
              "fillmode": "overlay",
              "size": 10,
              "solidity": 0.2
             }
            },
            "type": "histogram"
           }
          ],
          "histogram2d": [
           {
            "colorbar": {
             "outlinewidth": 0,
             "ticks": ""
            },
            "colorscale": [
             [
              0,
              "#0d0887"
             ],
             [
              0.1111111111111111,
              "#46039f"
             ],
             [
              0.2222222222222222,
              "#7201a8"
             ],
             [
              0.3333333333333333,
              "#9c179e"
             ],
             [
              0.4444444444444444,
              "#bd3786"
             ],
             [
              0.5555555555555556,
              "#d8576b"
             ],
             [
              0.6666666666666666,
              "#ed7953"
             ],
             [
              0.7777777777777778,
              "#fb9f3a"
             ],
             [
              0.8888888888888888,
              "#fdca26"
             ],
             [
              1,
              "#f0f921"
             ]
            ],
            "type": "histogram2d"
           }
          ],
          "histogram2dcontour": [
           {
            "colorbar": {
             "outlinewidth": 0,
             "ticks": ""
            },
            "colorscale": [
             [
              0,
              "#0d0887"
             ],
             [
              0.1111111111111111,
              "#46039f"
             ],
             [
              0.2222222222222222,
              "#7201a8"
             ],
             [
              0.3333333333333333,
              "#9c179e"
             ],
             [
              0.4444444444444444,
              "#bd3786"
             ],
             [
              0.5555555555555556,
              "#d8576b"
             ],
             [
              0.6666666666666666,
              "#ed7953"
             ],
             [
              0.7777777777777778,
              "#fb9f3a"
             ],
             [
              0.8888888888888888,
              "#fdca26"
             ],
             [
              1,
              "#f0f921"
             ]
            ],
            "type": "histogram2dcontour"
           }
          ],
          "mesh3d": [
           {
            "colorbar": {
             "outlinewidth": 0,
             "ticks": ""
            },
            "type": "mesh3d"
           }
          ],
          "parcoords": [
           {
            "line": {
             "colorbar": {
              "outlinewidth": 0,
              "ticks": ""
             }
            },
            "type": "parcoords"
           }
          ],
          "pie": [
           {
            "automargin": true,
            "type": "pie"
           }
          ],
          "scatter": [
           {
            "fillpattern": {
             "fillmode": "overlay",
             "size": 10,
             "solidity": 0.2
            },
            "type": "scatter"
           }
          ],
          "scatter3d": [
           {
            "line": {
             "colorbar": {
              "outlinewidth": 0,
              "ticks": ""
             }
            },
            "marker": {
             "colorbar": {
              "outlinewidth": 0,
              "ticks": ""
             }
            },
            "type": "scatter3d"
           }
          ],
          "scattercarpet": [
           {
            "marker": {
             "colorbar": {
              "outlinewidth": 0,
              "ticks": ""
             }
            },
            "type": "scattercarpet"
           }
          ],
          "scattergeo": [
           {
            "marker": {
             "colorbar": {
              "outlinewidth": 0,
              "ticks": ""
             }
            },
            "type": "scattergeo"
           }
          ],
          "scattergl": [
           {
            "marker": {
             "colorbar": {
              "outlinewidth": 0,
              "ticks": ""
             }
            },
            "type": "scattergl"
           }
          ],
          "scattermapbox": [
           {
            "marker": {
             "colorbar": {
              "outlinewidth": 0,
              "ticks": ""
             }
            },
            "type": "scattermapbox"
           }
          ],
          "scatterpolar": [
           {
            "marker": {
             "colorbar": {
              "outlinewidth": 0,
              "ticks": ""
             }
            },
            "type": "scatterpolar"
           }
          ],
          "scatterpolargl": [
           {
            "marker": {
             "colorbar": {
              "outlinewidth": 0,
              "ticks": ""
             }
            },
            "type": "scatterpolargl"
           }
          ],
          "scatterternary": [
           {
            "marker": {
             "colorbar": {
              "outlinewidth": 0,
              "ticks": ""
             }
            },
            "type": "scatterternary"
           }
          ],
          "surface": [
           {
            "colorbar": {
             "outlinewidth": 0,
             "ticks": ""
            },
            "colorscale": [
             [
              0,
              "#0d0887"
             ],
             [
              0.1111111111111111,
              "#46039f"
             ],
             [
              0.2222222222222222,
              "#7201a8"
             ],
             [
              0.3333333333333333,
              "#9c179e"
             ],
             [
              0.4444444444444444,
              "#bd3786"
             ],
             [
              0.5555555555555556,
              "#d8576b"
             ],
             [
              0.6666666666666666,
              "#ed7953"
             ],
             [
              0.7777777777777778,
              "#fb9f3a"
             ],
             [
              0.8888888888888888,
              "#fdca26"
             ],
             [
              1,
              "#f0f921"
             ]
            ],
            "type": "surface"
           }
          ],
          "table": [
           {
            "cells": {
             "fill": {
              "color": "#EBF0F8"
             },
             "line": {
              "color": "white"
             }
            },
            "header": {
             "fill": {
              "color": "#C8D4E3"
             },
             "line": {
              "color": "white"
             }
            },
            "type": "table"
           }
          ]
         },
         "layout": {
          "annotationdefaults": {
           "arrowcolor": "#2a3f5f",
           "arrowhead": 0,
           "arrowwidth": 1
          },
          "autotypenumbers": "strict",
          "coloraxis": {
           "colorbar": {
            "outlinewidth": 0,
            "ticks": ""
           }
          },
          "colorscale": {
           "diverging": [
            [
             0,
             "#8e0152"
            ],
            [
             0.1,
             "#c51b7d"
            ],
            [
             0.2,
             "#de77ae"
            ],
            [
             0.3,
             "#f1b6da"
            ],
            [
             0.4,
             "#fde0ef"
            ],
            [
             0.5,
             "#f7f7f7"
            ],
            [
             0.6,
             "#e6f5d0"
            ],
            [
             0.7,
             "#b8e186"
            ],
            [
             0.8,
             "#7fbc41"
            ],
            [
             0.9,
             "#4d9221"
            ],
            [
             1,
             "#276419"
            ]
           ],
           "sequential": [
            [
             0,
             "#0d0887"
            ],
            [
             0.1111111111111111,
             "#46039f"
            ],
            [
             0.2222222222222222,
             "#7201a8"
            ],
            [
             0.3333333333333333,
             "#9c179e"
            ],
            [
             0.4444444444444444,
             "#bd3786"
            ],
            [
             0.5555555555555556,
             "#d8576b"
            ],
            [
             0.6666666666666666,
             "#ed7953"
            ],
            [
             0.7777777777777778,
             "#fb9f3a"
            ],
            [
             0.8888888888888888,
             "#fdca26"
            ],
            [
             1,
             "#f0f921"
            ]
           ],
           "sequentialminus": [
            [
             0,
             "#0d0887"
            ],
            [
             0.1111111111111111,
             "#46039f"
            ],
            [
             0.2222222222222222,
             "#7201a8"
            ],
            [
             0.3333333333333333,
             "#9c179e"
            ],
            [
             0.4444444444444444,
             "#bd3786"
            ],
            [
             0.5555555555555556,
             "#d8576b"
            ],
            [
             0.6666666666666666,
             "#ed7953"
            ],
            [
             0.7777777777777778,
             "#fb9f3a"
            ],
            [
             0.8888888888888888,
             "#fdca26"
            ],
            [
             1,
             "#f0f921"
            ]
           ]
          },
          "colorway": [
           "#636efa",
           "#EF553B",
           "#00cc96",
           "#ab63fa",
           "#FFA15A",
           "#19d3f3",
           "#FF6692",
           "#B6E880",
           "#FF97FF",
           "#FECB52"
          ],
          "font": {
           "color": "#2a3f5f"
          },
          "geo": {
           "bgcolor": "white",
           "lakecolor": "white",
           "landcolor": "#E5ECF6",
           "showlakes": true,
           "showland": true,
           "subunitcolor": "white"
          },
          "hoverlabel": {
           "align": "left"
          },
          "hovermode": "closest",
          "mapbox": {
           "style": "light"
          },
          "paper_bgcolor": "white",
          "plot_bgcolor": "#E5ECF6",
          "polar": {
           "angularaxis": {
            "gridcolor": "white",
            "linecolor": "white",
            "ticks": ""
           },
           "bgcolor": "#E5ECF6",
           "radialaxis": {
            "gridcolor": "white",
            "linecolor": "white",
            "ticks": ""
           }
          },
          "scene": {
           "xaxis": {
            "backgroundcolor": "#E5ECF6",
            "gridcolor": "white",
            "gridwidth": 2,
            "linecolor": "white",
            "showbackground": true,
            "ticks": "",
            "zerolinecolor": "white"
           },
           "yaxis": {
            "backgroundcolor": "#E5ECF6",
            "gridcolor": "white",
            "gridwidth": 2,
            "linecolor": "white",
            "showbackground": true,
            "ticks": "",
            "zerolinecolor": "white"
           },
           "zaxis": {
            "backgroundcolor": "#E5ECF6",
            "gridcolor": "white",
            "gridwidth": 2,
            "linecolor": "white",
            "showbackground": true,
            "ticks": "",
            "zerolinecolor": "white"
           }
          },
          "shapedefaults": {
           "line": {
            "color": "#2a3f5f"
           }
          },
          "ternary": {
           "aaxis": {
            "gridcolor": "white",
            "linecolor": "white",
            "ticks": ""
           },
           "baxis": {
            "gridcolor": "white",
            "linecolor": "white",
            "ticks": ""
           },
           "bgcolor": "#E5ECF6",
           "caxis": {
            "gridcolor": "white",
            "linecolor": "white",
            "ticks": ""
           }
          },
          "title": {
           "x": 0.05
          },
          "xaxis": {
           "automargin": true,
           "gridcolor": "white",
           "linecolor": "white",
           "ticks": "",
           "title": {
            "standoff": 15
           },
           "zerolinecolor": "white",
           "zerolinewidth": 2
          },
          "yaxis": {
           "automargin": true,
           "gridcolor": "white",
           "linecolor": "white",
           "ticks": "",
           "title": {
            "standoff": 15
           },
           "zerolinecolor": "white",
           "zerolinewidth": 2
          }
         }
        },
        "title": {
         "text": "100 Most common categories of StockCode"
        },
        "xaxis": {
         "anchor": "y",
         "domain": [
          0,
          1
         ],
         "title": {
          "text": "x"
         }
        },
        "yaxis": {
         "anchor": "x",
         "domain": [
          0,
          1
         ],
         "title": {
          "text": "y"
         }
        }
       }
      },
      "text/html": [
       "<div>                            <div id=\"d0e83b7a-ec47-4c95-8494-18804a846877\" class=\"plotly-graph-div\" style=\"height:525px; width:100%;\"></div>            <script type=\"text/javascript\">                require([\"plotly\"], function(Plotly) {                    window.PLOTLYENV=window.PLOTLYENV || {};                                    if (document.getElementById(\"d0e83b7a-ec47-4c95-8494-18804a846877\")) {                    Plotly.newPlot(                        \"d0e83b7a-ec47-4c95-8494-18804a846877\",                        [{\"alignmentgroup\":\"True\",\"hovertemplate\":\"x=%{x}<br>y=%{y}<extra></extra>\",\"legendgroup\":\"\",\"marker\":{\"color\":\"#636efa\",\"pattern\":{\"shape\":\"\"}},\"name\":\"\",\"offsetgroup\":\"\",\"orientation\":\"v\",\"showlegend\":false,\"textposition\":\"auto\",\"x\":[\"85123A\",\"22423\",\"85099B\",\"21212\",\"21232\",\"20725\",\"84879\",\"84991\",\"21754\",\"20914\",\"21034\",\"21931\",\"21080\",\"22139\",\"21977\",\"22383\",\"22138\",\"20727\",\"82494L\",\"22470\",\"21843\",\"21755\",\"21733\",\"21231\",\"22386\",\"22411\",\"22384\",\"48138\",\"22469\",\"20685\",\"85099F\",\"22197\",\"20724\",\"22382\",\"22114\",\"22111\",\"21790\",\"47566\",\"21181\",\"22086\",\"85099C\",\"20726\",\"20728\",\"82482\",\"84946\",\"22112\",\"84836\",\"22090\",\"84970S\",\"22149\",\"84992\",\"22355\",\"21175\",\"22356\",\"21213\",\"22077\",\"22457\",\"22379\",\"POST\",\"22178\",\"M\",\"21621\",\"22083\",\"21485\",\"21535\",\"20972\",\"85152\",\"84029E\",\"21527\",\"22189\",\"21929\",\"22585\",\"48194\",\"21928\",\"20719\",\"21791\",\"21429\",\"82486\",\"82580\",\"21166\",\"21731\",\"84978\",\"22147\",\"21975\",\"21210\",\"47591D\",\"DOT\",\"22910\",\"22326\",\"48187\",\"21559\",\"22551\",\"20713\",\"20723\",\"21524\",\"22865\",\"22556\",\"82600\",\"84755\",\"84997B\"],\"xaxis\":\"x\",\"y\":[3516,2221,2057,1933,1843,1620,1458,1400,1386,1276,1232,1220,1209,1203,1196,1192,1180,1179,1165,1154,1149,1142,1130,1098,1096,1095,1093,1089,1086,1079,1074,1073,1070,1059,1051,1048,1044,1041,1038,1007,992,989,988,987,958,958,947,940,931,924,922,920,904,881,873,872,872,869,865,862,850,849,847,846,842,840,835,827,823,816,796,796,794,789,783,778,774,757,756,756,754,751,750,745,740,738,736,714,713,713,706,702,701,701,701,699,698,694,690,689],\"yaxis\":\"y\",\"type\":\"bar\"}],                        {\"template\":{\"data\":{\"histogram2dcontour\":[{\"type\":\"histogram2dcontour\",\"colorbar\":{\"outlinewidth\":0,\"ticks\":\"\"},\"colorscale\":[[0.0,\"#0d0887\"],[0.1111111111111111,\"#46039f\"],[0.2222222222222222,\"#7201a8\"],[0.3333333333333333,\"#9c179e\"],[0.4444444444444444,\"#bd3786\"],[0.5555555555555556,\"#d8576b\"],[0.6666666666666666,\"#ed7953\"],[0.7777777777777778,\"#fb9f3a\"],[0.8888888888888888,\"#fdca26\"],[1.0,\"#f0f921\"]]}],\"choropleth\":[{\"type\":\"choropleth\",\"colorbar\":{\"outlinewidth\":0,\"ticks\":\"\"}}],\"histogram2d\":[{\"type\":\"histogram2d\",\"colorbar\":{\"outlinewidth\":0,\"ticks\":\"\"},\"colorscale\":[[0.0,\"#0d0887\"],[0.1111111111111111,\"#46039f\"],[0.2222222222222222,\"#7201a8\"],[0.3333333333333333,\"#9c179e\"],[0.4444444444444444,\"#bd3786\"],[0.5555555555555556,\"#d8576b\"],[0.6666666666666666,\"#ed7953\"],[0.7777777777777778,\"#fb9f3a\"],[0.8888888888888888,\"#fdca26\"],[1.0,\"#f0f921\"]]}],\"heatmap\":[{\"type\":\"heatmap\",\"colorbar\":{\"outlinewidth\":0,\"ticks\":\"\"},\"colorscale\":[[0.0,\"#0d0887\"],[0.1111111111111111,\"#46039f\"],[0.2222222222222222,\"#7201a8\"],[0.3333333333333333,\"#9c179e\"],[0.4444444444444444,\"#bd3786\"],[0.5555555555555556,\"#d8576b\"],[0.6666666666666666,\"#ed7953\"],[0.7777777777777778,\"#fb9f3a\"],[0.8888888888888888,\"#fdca26\"],[1.0,\"#f0f921\"]]}],\"heatmapgl\":[{\"type\":\"heatmapgl\",\"colorbar\":{\"outlinewidth\":0,\"ticks\":\"\"},\"colorscale\":[[0.0,\"#0d0887\"],[0.1111111111111111,\"#46039f\"],[0.2222222222222222,\"#7201a8\"],[0.3333333333333333,\"#9c179e\"],[0.4444444444444444,\"#bd3786\"],[0.5555555555555556,\"#d8576b\"],[0.6666666666666666,\"#ed7953\"],[0.7777777777777778,\"#fb9f3a\"],[0.8888888888888888,\"#fdca26\"],[1.0,\"#f0f921\"]]}],\"contourcarpet\":[{\"type\":\"contourcarpet\",\"colorbar\":{\"outlinewidth\":0,\"ticks\":\"\"}}],\"contour\":[{\"type\":\"contour\",\"colorbar\":{\"outlinewidth\":0,\"ticks\":\"\"},\"colorscale\":[[0.0,\"#0d0887\"],[0.1111111111111111,\"#46039f\"],[0.2222222222222222,\"#7201a8\"],[0.3333333333333333,\"#9c179e\"],[0.4444444444444444,\"#bd3786\"],[0.5555555555555556,\"#d8576b\"],[0.6666666666666666,\"#ed7953\"],[0.7777777777777778,\"#fb9f3a\"],[0.8888888888888888,\"#fdca26\"],[1.0,\"#f0f921\"]]}],\"surface\":[{\"type\":\"surface\",\"colorbar\":{\"outlinewidth\":0,\"ticks\":\"\"},\"colorscale\":[[0.0,\"#0d0887\"],[0.1111111111111111,\"#46039f\"],[0.2222222222222222,\"#7201a8\"],[0.3333333333333333,\"#9c179e\"],[0.4444444444444444,\"#bd3786\"],[0.5555555555555556,\"#d8576b\"],[0.6666666666666666,\"#ed7953\"],[0.7777777777777778,\"#fb9f3a\"],[0.8888888888888888,\"#fdca26\"],[1.0,\"#f0f921\"]]}],\"mesh3d\":[{\"type\":\"mesh3d\",\"colorbar\":{\"outlinewidth\":0,\"ticks\":\"\"}}],\"scatter\":[{\"fillpattern\":{\"fillmode\":\"overlay\",\"size\":10,\"solidity\":0.2},\"type\":\"scatter\"}],\"parcoords\":[{\"type\":\"parcoords\",\"line\":{\"colorbar\":{\"outlinewidth\":0,\"ticks\":\"\"}}}],\"scatterpolargl\":[{\"type\":\"scatterpolargl\",\"marker\":{\"colorbar\":{\"outlinewidth\":0,\"ticks\":\"\"}}}],\"bar\":[{\"error_x\":{\"color\":\"#2a3f5f\"},\"error_y\":{\"color\":\"#2a3f5f\"},\"marker\":{\"line\":{\"color\":\"#E5ECF6\",\"width\":0.5},\"pattern\":{\"fillmode\":\"overlay\",\"size\":10,\"solidity\":0.2}},\"type\":\"bar\"}],\"scattergeo\":[{\"type\":\"scattergeo\",\"marker\":{\"colorbar\":{\"outlinewidth\":0,\"ticks\":\"\"}}}],\"scatterpolar\":[{\"type\":\"scatterpolar\",\"marker\":{\"colorbar\":{\"outlinewidth\":0,\"ticks\":\"\"}}}],\"histogram\":[{\"marker\":{\"pattern\":{\"fillmode\":\"overlay\",\"size\":10,\"solidity\":0.2}},\"type\":\"histogram\"}],\"scattergl\":[{\"type\":\"scattergl\",\"marker\":{\"colorbar\":{\"outlinewidth\":0,\"ticks\":\"\"}}}],\"scatter3d\":[{\"type\":\"scatter3d\",\"line\":{\"colorbar\":{\"outlinewidth\":0,\"ticks\":\"\"}},\"marker\":{\"colorbar\":{\"outlinewidth\":0,\"ticks\":\"\"}}}],\"scattermapbox\":[{\"type\":\"scattermapbox\",\"marker\":{\"colorbar\":{\"outlinewidth\":0,\"ticks\":\"\"}}}],\"scatterternary\":[{\"type\":\"scatterternary\",\"marker\":{\"colorbar\":{\"outlinewidth\":0,\"ticks\":\"\"}}}],\"scattercarpet\":[{\"type\":\"scattercarpet\",\"marker\":{\"colorbar\":{\"outlinewidth\":0,\"ticks\":\"\"}}}],\"carpet\":[{\"aaxis\":{\"endlinecolor\":\"#2a3f5f\",\"gridcolor\":\"white\",\"linecolor\":\"white\",\"minorgridcolor\":\"white\",\"startlinecolor\":\"#2a3f5f\"},\"baxis\":{\"endlinecolor\":\"#2a3f5f\",\"gridcolor\":\"white\",\"linecolor\":\"white\",\"minorgridcolor\":\"white\",\"startlinecolor\":\"#2a3f5f\"},\"type\":\"carpet\"}],\"table\":[{\"cells\":{\"fill\":{\"color\":\"#EBF0F8\"},\"line\":{\"color\":\"white\"}},\"header\":{\"fill\":{\"color\":\"#C8D4E3\"},\"line\":{\"color\":\"white\"}},\"type\":\"table\"}],\"barpolar\":[{\"marker\":{\"line\":{\"color\":\"#E5ECF6\",\"width\":0.5},\"pattern\":{\"fillmode\":\"overlay\",\"size\":10,\"solidity\":0.2}},\"type\":\"barpolar\"}],\"pie\":[{\"automargin\":true,\"type\":\"pie\"}]},\"layout\":{\"autotypenumbers\":\"strict\",\"colorway\":[\"#636efa\",\"#EF553B\",\"#00cc96\",\"#ab63fa\",\"#FFA15A\",\"#19d3f3\",\"#FF6692\",\"#B6E880\",\"#FF97FF\",\"#FECB52\"],\"font\":{\"color\":\"#2a3f5f\"},\"hovermode\":\"closest\",\"hoverlabel\":{\"align\":\"left\"},\"paper_bgcolor\":\"white\",\"plot_bgcolor\":\"#E5ECF6\",\"polar\":{\"bgcolor\":\"#E5ECF6\",\"angularaxis\":{\"gridcolor\":\"white\",\"linecolor\":\"white\",\"ticks\":\"\"},\"radialaxis\":{\"gridcolor\":\"white\",\"linecolor\":\"white\",\"ticks\":\"\"}},\"ternary\":{\"bgcolor\":\"#E5ECF6\",\"aaxis\":{\"gridcolor\":\"white\",\"linecolor\":\"white\",\"ticks\":\"\"},\"baxis\":{\"gridcolor\":\"white\",\"linecolor\":\"white\",\"ticks\":\"\"},\"caxis\":{\"gridcolor\":\"white\",\"linecolor\":\"white\",\"ticks\":\"\"}},\"coloraxis\":{\"colorbar\":{\"outlinewidth\":0,\"ticks\":\"\"}},\"colorscale\":{\"sequential\":[[0.0,\"#0d0887\"],[0.1111111111111111,\"#46039f\"],[0.2222222222222222,\"#7201a8\"],[0.3333333333333333,\"#9c179e\"],[0.4444444444444444,\"#bd3786\"],[0.5555555555555556,\"#d8576b\"],[0.6666666666666666,\"#ed7953\"],[0.7777777777777778,\"#fb9f3a\"],[0.8888888888888888,\"#fdca26\"],[1.0,\"#f0f921\"]],\"sequentialminus\":[[0.0,\"#0d0887\"],[0.1111111111111111,\"#46039f\"],[0.2222222222222222,\"#7201a8\"],[0.3333333333333333,\"#9c179e\"],[0.4444444444444444,\"#bd3786\"],[0.5555555555555556,\"#d8576b\"],[0.6666666666666666,\"#ed7953\"],[0.7777777777777778,\"#fb9f3a\"],[0.8888888888888888,\"#fdca26\"],[1.0,\"#f0f921\"]],\"diverging\":[[0,\"#8e0152\"],[0.1,\"#c51b7d\"],[0.2,\"#de77ae\"],[0.3,\"#f1b6da\"],[0.4,\"#fde0ef\"],[0.5,\"#f7f7f7\"],[0.6,\"#e6f5d0\"],[0.7,\"#b8e186\"],[0.8,\"#7fbc41\"],[0.9,\"#4d9221\"],[1,\"#276419\"]]},\"xaxis\":{\"gridcolor\":\"white\",\"linecolor\":\"white\",\"ticks\":\"\",\"title\":{\"standoff\":15},\"zerolinecolor\":\"white\",\"automargin\":true,\"zerolinewidth\":2},\"yaxis\":{\"gridcolor\":\"white\",\"linecolor\":\"white\",\"ticks\":\"\",\"title\":{\"standoff\":15},\"zerolinecolor\":\"white\",\"automargin\":true,\"zerolinewidth\":2},\"scene\":{\"xaxis\":{\"backgroundcolor\":\"#E5ECF6\",\"gridcolor\":\"white\",\"linecolor\":\"white\",\"showbackground\":true,\"ticks\":\"\",\"zerolinecolor\":\"white\",\"gridwidth\":2},\"yaxis\":{\"backgroundcolor\":\"#E5ECF6\",\"gridcolor\":\"white\",\"linecolor\":\"white\",\"showbackground\":true,\"ticks\":\"\",\"zerolinecolor\":\"white\",\"gridwidth\":2},\"zaxis\":{\"backgroundcolor\":\"#E5ECF6\",\"gridcolor\":\"white\",\"linecolor\":\"white\",\"showbackground\":true,\"ticks\":\"\",\"zerolinecolor\":\"white\",\"gridwidth\":2}},\"shapedefaults\":{\"line\":{\"color\":\"#2a3f5f\"}},\"annotationdefaults\":{\"arrowcolor\":\"#2a3f5f\",\"arrowhead\":0,\"arrowwidth\":1},\"geo\":{\"bgcolor\":\"white\",\"landcolor\":\"#E5ECF6\",\"subunitcolor\":\"white\",\"showland\":true,\"showlakes\":true,\"lakecolor\":\"white\"},\"title\":{\"x\":0.05},\"mapbox\":{\"style\":\"light\"}}},\"xaxis\":{\"anchor\":\"y\",\"domain\":[0.0,1.0],\"title\":{\"text\":\"x\"}},\"yaxis\":{\"anchor\":\"x\",\"domain\":[0.0,1.0],\"title\":{\"text\":\"y\"}},\"legend\":{\"tracegroupgap\":0},\"title\":{\"text\":\"100 Most common categories of StockCode\"},\"barmode\":\"relative\"},                        {\"responsive\": true}                    ).then(function(){\n",
       "                            \n",
       "var gd = document.getElementById('d0e83b7a-ec47-4c95-8494-18804a846877');\n",
       "var x = new MutationObserver(function (mutations, observer) {{\n",
       "        var display = window.getComputedStyle(gd).display;\n",
       "        if (!display || display === 'none') {{\n",
       "            console.log([gd, 'removed!']);\n",
       "            Plotly.purge(gd);\n",
       "            observer.disconnect();\n",
       "        }}\n",
       "}});\n",
       "\n",
       "// Listen for the removal of the full notebook cells\n",
       "var notebookContainer = gd.closest('#notebook-container');\n",
       "if (notebookContainer) {{\n",
       "    x.observe(notebookContainer, {childList: true});\n",
       "}}\n",
       "\n",
       "// Listen for the clearing of the current output cell\n",
       "var outputEl = gd.closest('.output');\n",
       "if (outputEl) {{\n",
       "    x.observe(outputEl, {childList: true});\n",
       "}}\n",
       "\n",
       "                        })                };                });            </script>        </div>"
      ]
     },
     "metadata": {},
     "output_type": "display_data"
    }
   ],
   "source": [
    "profile_serie(df_retail['StockCode']) "
   ]
  },
  {
   "cell_type": "markdown",
   "metadata": {
    "cell_id": "00023-ecb7fa4e-63ba-490c-8da7-211532bff49b",
    "deepnote_cell_height": 69.83332824707031,
    "deepnote_cell_type": "markdown",
    "tags": []
   },
   "source": [
    "#### StockCode: \n",
    "\n",
    "Hay 525461 observaciones, de los cuales no se reportan valores faltantes. Existen 4632 valores unicos. De estos, el que mas se repite es \"85123A\" con una frecuencia de 3516. Debido a la baja cantidad de valores unicos, es natural observar un 99.9\\% de datos duplicados. Del histograma se observa que el segundo dato mas frecuente posee una frecuencia 1/3 menor que el mas frecuente. Luego, de unos 10 valores unicos, la frecuencia decrece lentamente en comparacion al lado izquierdo del histograma."
   ]
  },
  {
   "cell_type": "code",
   "execution_count": 23,
   "metadata": {
    "scrolled": false
   },
   "outputs": [
    {
     "data": {
      "text/markdown": [
       "## Description Profile"
      ],
      "text/plain": [
       "<IPython.core.display.Markdown object>"
      ]
     },
     "metadata": {},
     "output_type": "display_data"
    },
    {
     "data": {
      "text/plain": [
       "Type                                                  object\n",
       "Number of observations                                525461\n",
       "Unique                                                  4682\n",
       "Top                       WHITE HANGING HEART T-LIGHT HOLDER\n",
       "Freq                                                    3549\n",
       "                                                            \n",
       "Missing cells                                              0\n",
       "Missing cells (%)                                      0.0 %\n",
       "Duplicate rows                                        525198\n",
       "Duplicate rows (%)                                   99.95 %\n",
       "Total size in memory                           4203816 bytes\n",
       "dtype: object"
      ]
     },
     "metadata": {},
     "output_type": "display_data"
    },
    {
     "data": {
      "application/vnd.plotly.v1+json": {
       "config": {
        "plotlyServerURL": "https://plot.ly"
       },
       "data": [
        {
         "alignmentgroup": "True",
         "hovertemplate": "x=%{x}<br>y=%{y}<extra></extra>",
         "legendgroup": "",
         "marker": {
          "color": "#636efa",
          "pattern": {
           "shape": ""
          }
         },
         "name": "",
         "offsetgroup": "",
         "orientation": "v",
         "showlegend": false,
         "textposition": "auto",
         "type": "bar",
         "x": [
          "WHITE HANGING HEART T-LIGHT HOLDER",
          "nan",
          "REGENCY CAKESTAND 3 TIER",
          "STRAWBERRY CERAMIC TRINKET BOX",
          "PACK OF 72 RETRO SPOT CAKE CASES",
          "ASSORTED COLOUR BIRD ORNAMENT",
          "60 TEATIME FAIRY CAKE CASES",
          "HOME BUILDING BLOCK WORD",
          "JUMBO BAG RED RETROSPOT",
          "LUNCH BAG RED SPOTTY",
          "REX CASH+CARRY JUMBO SHOPPER",
          "JUMBO STORAGE BAG SUKI",
          "PACK OF 60 PINK PAISLEY CAKE CASES",
          "WOODEN FRAME ANTIQUE WHITE ",
          "LUNCH BAG  BLACK SKULL.",
          "BAKING SET 9 PIECE RETROSPOT ",
          "LUNCH BAG SUKI  DESIGN ",
          "HEART OF WICKER LARGE",
          "LOVE BUILDING BLOCK WORD",
          "RED HANGING HEART T-LIGHT HOLDER",
          "SWEETHEART CERAMIC TRINKET BOX",
          "JUMBO SHOPPER VINTAGE RED PAISLEY",
          "JUMBO BAG STRAWBERRY",
          "HEART OF WICKER SMALL",
          "HOT WATER BOTTLE TEA AND SYMPATHY",
          "SCOTTIE DOG HOT WATER BOTTLE",
          "VINTAGE SNAP CARDS",
          "PARTY BUNTING",
          "LUNCH BAG SPACEBOY DESIGN ",
          "PAPER CHAIN KIT 50'S CHRISTMAS ",
          "JUMBO  BAG BAROQUE BLACK WHITE",
          "LUNCH BAG WOODLAND",
          "LUNCH BAG CARS BLUE",
          "WOODEN PICTURE FRAME WHITE FINISH",
          "HANGING HEART ZINC T-LIGHT HOLDER",
          "SET/20 RED SPOTTY PAPER NAPKINS ",
          "ANTIQUE SILVER TEA GLASS ETCHED",
          "CHOCOLATE HOT WATER BOTTLE",
          "SET/5 RED SPOTTY LID GLASS BOWLS",
          "SMALL POPCORN HOLDER",
          "ZINC METAL HEART DECORATION",
          "FELTCRAFT 6 FLOWER FRIENDS",
          "72 SWEETHEART FAIRY CAKE CASES",
          "GIN + TONIC DIET METAL SIGN",
          "PACK OF 72 SKULL CAKE CASES",
          "NATURAL SLATE HEART CHALKBOARD ",
          "6 RIBBONS RUSTIC CHARM",
          "RECYCLING BAG RETROSPOT ",
          "POSTAGE",
          "VICTORIAN GLASS HANGING T-LIGHT",
          "LUNCH BAG PINK RETROSPOT",
          "PLEASE ONE PERSON METAL SIGN",
          "Manual",
          "VINTAGE UNION JACK BUNTING",
          "PINK CREAM FELT CRAFT TRINKET BOX ",
          "HAND OVER THE CHOCOLATE   SIGN ",
          "JUMBO BAG PINK WITH WHITE SPOTS",
          "RED WOOLLY HOTTIE WHITE HEART.",
          "CREAM HEART CARD HOLDER",
          "RETRO SPOT TEA SET CERAMIC 11 PC ",
          "RED SPOTTY CHARLOTTE BAG",
          "PAPER BUNTING RETRO SPOTS",
          "PACK OF 6 BIRDY GIFT TAGS",
          "JUMBO BAG PINK VINTAGE PAISLEY",
          "JUMBO BAG SCANDINAVIAN PAISLEY",
          "WOODLAND CHARLOTTE BAG",
          "VINTAGE HEADS AND TAILS CARD GAME ",
          "RED GINGHAM ROSE JEWELLERY BOX",
          "WOOD S/3 CABINET ANT WHITE FINISH",
          "RED RETROSPOT CAKE STAND",
          "BATHROOM METAL SIGN",
          "COOK WITH WINE METAL SIGN ",
          "RED TOADSTOOL LED NIGHT LIGHT",
          "FELTCRAFT BUTTERFLY HEARTS",
          "HANGING HEART JAR T-LIGHT HOLDER",
          "PACK OF 60 DINOSAUR CAKE CASES",
          "DOTCOM POSTAGE",
          "PAPER CHAIN KIT VINTAGE CHRISTMAS",
          "ROUND SNACK BOXES SET OF4 WOODLAND ",
          "PLASTERS IN TIN SPACEBOY",
          "STRAWBERRY CHARLOTTE BAG",
          "HAND WARMER OWL DESIGN",
          "JUMBO BAG OWLS",
          "PLASTERS IN TIN CIRCUS PARADE ",
          "NO SINGING METAL SIGN",
          "COLOUR GLASS T-LIGHT HOLDER HANGING",
          "PACK 20 ENGLISH ROSE PAPER NAPKINS",
          "DOOR MAT UNION FLAG",
          "PINK BLUE FELT CRAFT TRINKET BOX",
          "SINGLE HEART ZINC T-LIGHT HOLDER",
          "LADIES & GENTLEMEN METAL SIGN",
          "WOOD 2 DRAWER CABINET WHITE FINISH",
          "HAND WARMER SCOTTY DOG DESIGN",
          "GRAND CHOCOLATECANDLE",
          "JUMBO STORAGE BAG SKULLS",
          "KNITTED UNION FLAG HOT WATER BOTTLE",
          "EDWARDIAN PARASOL NATURAL",
          "HEART IVORY TRELLIS SMALL",
          "LOVEBIRD HANGING DECORATION WHITE ",
          "HAND WARMER BIRD DESIGN"
         ],
         "xaxis": "x",
         "y": [
          3549,
          2928,
          2212,
          1843,
          1466,
          1457,
          1400,
          1386,
          1310,
          1274,
          1232,
          1220,
          1196,
          1190,
          1179,
          1176,
          1157,
          1151,
          1142,
          1129,
          1096,
          1095,
          1091,
          1082,
          1050,
          1048,
          1044,
          1038,
          1014,
          1005,
          1002,
          989,
          987,
          986,
          968,
          967,
          958,
          958,
          952,
          951,
          947,
          924,
          922,
          903,
          873,
          871,
          870,
          869,
          862,
          862,
          856,
          855,
          854,
          849,
          840,
          834,
          829,
          827,
          814,
          813,
          808,
          802,
          796,
          794,
          786,
          783,
          778,
          773,
          757,
          756,
          756,
          753,
          753,
          750,
          750,
          745,
          735,
          710,
          708,
          702,
          701,
          699,
          699,
          698,
          694,
          690,
          684,
          683,
          681,
          679,
          678,
          676,
          672,
          667,
          655,
          649,
          647,
          646,
          645,
          644
         ],
         "yaxis": "y"
        }
       ],
       "layout": {
        "barmode": "relative",
        "legend": {
         "tracegroupgap": 0
        },
        "template": {
         "data": {
          "bar": [
           {
            "error_x": {
             "color": "#2a3f5f"
            },
            "error_y": {
             "color": "#2a3f5f"
            },
            "marker": {
             "line": {
              "color": "#E5ECF6",
              "width": 0.5
             },
             "pattern": {
              "fillmode": "overlay",
              "size": 10,
              "solidity": 0.2
             }
            },
            "type": "bar"
           }
          ],
          "barpolar": [
           {
            "marker": {
             "line": {
              "color": "#E5ECF6",
              "width": 0.5
             },
             "pattern": {
              "fillmode": "overlay",
              "size": 10,
              "solidity": 0.2
             }
            },
            "type": "barpolar"
           }
          ],
          "carpet": [
           {
            "aaxis": {
             "endlinecolor": "#2a3f5f",
             "gridcolor": "white",
             "linecolor": "white",
             "minorgridcolor": "white",
             "startlinecolor": "#2a3f5f"
            },
            "baxis": {
             "endlinecolor": "#2a3f5f",
             "gridcolor": "white",
             "linecolor": "white",
             "minorgridcolor": "white",
             "startlinecolor": "#2a3f5f"
            },
            "type": "carpet"
           }
          ],
          "choropleth": [
           {
            "colorbar": {
             "outlinewidth": 0,
             "ticks": ""
            },
            "type": "choropleth"
           }
          ],
          "contour": [
           {
            "colorbar": {
             "outlinewidth": 0,
             "ticks": ""
            },
            "colorscale": [
             [
              0,
              "#0d0887"
             ],
             [
              0.1111111111111111,
              "#46039f"
             ],
             [
              0.2222222222222222,
              "#7201a8"
             ],
             [
              0.3333333333333333,
              "#9c179e"
             ],
             [
              0.4444444444444444,
              "#bd3786"
             ],
             [
              0.5555555555555556,
              "#d8576b"
             ],
             [
              0.6666666666666666,
              "#ed7953"
             ],
             [
              0.7777777777777778,
              "#fb9f3a"
             ],
             [
              0.8888888888888888,
              "#fdca26"
             ],
             [
              1,
              "#f0f921"
             ]
            ],
            "type": "contour"
           }
          ],
          "contourcarpet": [
           {
            "colorbar": {
             "outlinewidth": 0,
             "ticks": ""
            },
            "type": "contourcarpet"
           }
          ],
          "heatmap": [
           {
            "colorbar": {
             "outlinewidth": 0,
             "ticks": ""
            },
            "colorscale": [
             [
              0,
              "#0d0887"
             ],
             [
              0.1111111111111111,
              "#46039f"
             ],
             [
              0.2222222222222222,
              "#7201a8"
             ],
             [
              0.3333333333333333,
              "#9c179e"
             ],
             [
              0.4444444444444444,
              "#bd3786"
             ],
             [
              0.5555555555555556,
              "#d8576b"
             ],
             [
              0.6666666666666666,
              "#ed7953"
             ],
             [
              0.7777777777777778,
              "#fb9f3a"
             ],
             [
              0.8888888888888888,
              "#fdca26"
             ],
             [
              1,
              "#f0f921"
             ]
            ],
            "type": "heatmap"
           }
          ],
          "heatmapgl": [
           {
            "colorbar": {
             "outlinewidth": 0,
             "ticks": ""
            },
            "colorscale": [
             [
              0,
              "#0d0887"
             ],
             [
              0.1111111111111111,
              "#46039f"
             ],
             [
              0.2222222222222222,
              "#7201a8"
             ],
             [
              0.3333333333333333,
              "#9c179e"
             ],
             [
              0.4444444444444444,
              "#bd3786"
             ],
             [
              0.5555555555555556,
              "#d8576b"
             ],
             [
              0.6666666666666666,
              "#ed7953"
             ],
             [
              0.7777777777777778,
              "#fb9f3a"
             ],
             [
              0.8888888888888888,
              "#fdca26"
             ],
             [
              1,
              "#f0f921"
             ]
            ],
            "type": "heatmapgl"
           }
          ],
          "histogram": [
           {
            "marker": {
             "pattern": {
              "fillmode": "overlay",
              "size": 10,
              "solidity": 0.2
             }
            },
            "type": "histogram"
           }
          ],
          "histogram2d": [
           {
            "colorbar": {
             "outlinewidth": 0,
             "ticks": ""
            },
            "colorscale": [
             [
              0,
              "#0d0887"
             ],
             [
              0.1111111111111111,
              "#46039f"
             ],
             [
              0.2222222222222222,
              "#7201a8"
             ],
             [
              0.3333333333333333,
              "#9c179e"
             ],
             [
              0.4444444444444444,
              "#bd3786"
             ],
             [
              0.5555555555555556,
              "#d8576b"
             ],
             [
              0.6666666666666666,
              "#ed7953"
             ],
             [
              0.7777777777777778,
              "#fb9f3a"
             ],
             [
              0.8888888888888888,
              "#fdca26"
             ],
             [
              1,
              "#f0f921"
             ]
            ],
            "type": "histogram2d"
           }
          ],
          "histogram2dcontour": [
           {
            "colorbar": {
             "outlinewidth": 0,
             "ticks": ""
            },
            "colorscale": [
             [
              0,
              "#0d0887"
             ],
             [
              0.1111111111111111,
              "#46039f"
             ],
             [
              0.2222222222222222,
              "#7201a8"
             ],
             [
              0.3333333333333333,
              "#9c179e"
             ],
             [
              0.4444444444444444,
              "#bd3786"
             ],
             [
              0.5555555555555556,
              "#d8576b"
             ],
             [
              0.6666666666666666,
              "#ed7953"
             ],
             [
              0.7777777777777778,
              "#fb9f3a"
             ],
             [
              0.8888888888888888,
              "#fdca26"
             ],
             [
              1,
              "#f0f921"
             ]
            ],
            "type": "histogram2dcontour"
           }
          ],
          "mesh3d": [
           {
            "colorbar": {
             "outlinewidth": 0,
             "ticks": ""
            },
            "type": "mesh3d"
           }
          ],
          "parcoords": [
           {
            "line": {
             "colorbar": {
              "outlinewidth": 0,
              "ticks": ""
             }
            },
            "type": "parcoords"
           }
          ],
          "pie": [
           {
            "automargin": true,
            "type": "pie"
           }
          ],
          "scatter": [
           {
            "fillpattern": {
             "fillmode": "overlay",
             "size": 10,
             "solidity": 0.2
            },
            "type": "scatter"
           }
          ],
          "scatter3d": [
           {
            "line": {
             "colorbar": {
              "outlinewidth": 0,
              "ticks": ""
             }
            },
            "marker": {
             "colorbar": {
              "outlinewidth": 0,
              "ticks": ""
             }
            },
            "type": "scatter3d"
           }
          ],
          "scattercarpet": [
           {
            "marker": {
             "colorbar": {
              "outlinewidth": 0,
              "ticks": ""
             }
            },
            "type": "scattercarpet"
           }
          ],
          "scattergeo": [
           {
            "marker": {
             "colorbar": {
              "outlinewidth": 0,
              "ticks": ""
             }
            },
            "type": "scattergeo"
           }
          ],
          "scattergl": [
           {
            "marker": {
             "colorbar": {
              "outlinewidth": 0,
              "ticks": ""
             }
            },
            "type": "scattergl"
           }
          ],
          "scattermapbox": [
           {
            "marker": {
             "colorbar": {
              "outlinewidth": 0,
              "ticks": ""
             }
            },
            "type": "scattermapbox"
           }
          ],
          "scatterpolar": [
           {
            "marker": {
             "colorbar": {
              "outlinewidth": 0,
              "ticks": ""
             }
            },
            "type": "scatterpolar"
           }
          ],
          "scatterpolargl": [
           {
            "marker": {
             "colorbar": {
              "outlinewidth": 0,
              "ticks": ""
             }
            },
            "type": "scatterpolargl"
           }
          ],
          "scatterternary": [
           {
            "marker": {
             "colorbar": {
              "outlinewidth": 0,
              "ticks": ""
             }
            },
            "type": "scatterternary"
           }
          ],
          "surface": [
           {
            "colorbar": {
             "outlinewidth": 0,
             "ticks": ""
            },
            "colorscale": [
             [
              0,
              "#0d0887"
             ],
             [
              0.1111111111111111,
              "#46039f"
             ],
             [
              0.2222222222222222,
              "#7201a8"
             ],
             [
              0.3333333333333333,
              "#9c179e"
             ],
             [
              0.4444444444444444,
              "#bd3786"
             ],
             [
              0.5555555555555556,
              "#d8576b"
             ],
             [
              0.6666666666666666,
              "#ed7953"
             ],
             [
              0.7777777777777778,
              "#fb9f3a"
             ],
             [
              0.8888888888888888,
              "#fdca26"
             ],
             [
              1,
              "#f0f921"
             ]
            ],
            "type": "surface"
           }
          ],
          "table": [
           {
            "cells": {
             "fill": {
              "color": "#EBF0F8"
             },
             "line": {
              "color": "white"
             }
            },
            "header": {
             "fill": {
              "color": "#C8D4E3"
             },
             "line": {
              "color": "white"
             }
            },
            "type": "table"
           }
          ]
         },
         "layout": {
          "annotationdefaults": {
           "arrowcolor": "#2a3f5f",
           "arrowhead": 0,
           "arrowwidth": 1
          },
          "autotypenumbers": "strict",
          "coloraxis": {
           "colorbar": {
            "outlinewidth": 0,
            "ticks": ""
           }
          },
          "colorscale": {
           "diverging": [
            [
             0,
             "#8e0152"
            ],
            [
             0.1,
             "#c51b7d"
            ],
            [
             0.2,
             "#de77ae"
            ],
            [
             0.3,
             "#f1b6da"
            ],
            [
             0.4,
             "#fde0ef"
            ],
            [
             0.5,
             "#f7f7f7"
            ],
            [
             0.6,
             "#e6f5d0"
            ],
            [
             0.7,
             "#b8e186"
            ],
            [
             0.8,
             "#7fbc41"
            ],
            [
             0.9,
             "#4d9221"
            ],
            [
             1,
             "#276419"
            ]
           ],
           "sequential": [
            [
             0,
             "#0d0887"
            ],
            [
             0.1111111111111111,
             "#46039f"
            ],
            [
             0.2222222222222222,
             "#7201a8"
            ],
            [
             0.3333333333333333,
             "#9c179e"
            ],
            [
             0.4444444444444444,
             "#bd3786"
            ],
            [
             0.5555555555555556,
             "#d8576b"
            ],
            [
             0.6666666666666666,
             "#ed7953"
            ],
            [
             0.7777777777777778,
             "#fb9f3a"
            ],
            [
             0.8888888888888888,
             "#fdca26"
            ],
            [
             1,
             "#f0f921"
            ]
           ],
           "sequentialminus": [
            [
             0,
             "#0d0887"
            ],
            [
             0.1111111111111111,
             "#46039f"
            ],
            [
             0.2222222222222222,
             "#7201a8"
            ],
            [
             0.3333333333333333,
             "#9c179e"
            ],
            [
             0.4444444444444444,
             "#bd3786"
            ],
            [
             0.5555555555555556,
             "#d8576b"
            ],
            [
             0.6666666666666666,
             "#ed7953"
            ],
            [
             0.7777777777777778,
             "#fb9f3a"
            ],
            [
             0.8888888888888888,
             "#fdca26"
            ],
            [
             1,
             "#f0f921"
            ]
           ]
          },
          "colorway": [
           "#636efa",
           "#EF553B",
           "#00cc96",
           "#ab63fa",
           "#FFA15A",
           "#19d3f3",
           "#FF6692",
           "#B6E880",
           "#FF97FF",
           "#FECB52"
          ],
          "font": {
           "color": "#2a3f5f"
          },
          "geo": {
           "bgcolor": "white",
           "lakecolor": "white",
           "landcolor": "#E5ECF6",
           "showlakes": true,
           "showland": true,
           "subunitcolor": "white"
          },
          "hoverlabel": {
           "align": "left"
          },
          "hovermode": "closest",
          "mapbox": {
           "style": "light"
          },
          "paper_bgcolor": "white",
          "plot_bgcolor": "#E5ECF6",
          "polar": {
           "angularaxis": {
            "gridcolor": "white",
            "linecolor": "white",
            "ticks": ""
           },
           "bgcolor": "#E5ECF6",
           "radialaxis": {
            "gridcolor": "white",
            "linecolor": "white",
            "ticks": ""
           }
          },
          "scene": {
           "xaxis": {
            "backgroundcolor": "#E5ECF6",
            "gridcolor": "white",
            "gridwidth": 2,
            "linecolor": "white",
            "showbackground": true,
            "ticks": "",
            "zerolinecolor": "white"
           },
           "yaxis": {
            "backgroundcolor": "#E5ECF6",
            "gridcolor": "white",
            "gridwidth": 2,
            "linecolor": "white",
            "showbackground": true,
            "ticks": "",
            "zerolinecolor": "white"
           },
           "zaxis": {
            "backgroundcolor": "#E5ECF6",
            "gridcolor": "white",
            "gridwidth": 2,
            "linecolor": "white",
            "showbackground": true,
            "ticks": "",
            "zerolinecolor": "white"
           }
          },
          "shapedefaults": {
           "line": {
            "color": "#2a3f5f"
           }
          },
          "ternary": {
           "aaxis": {
            "gridcolor": "white",
            "linecolor": "white",
            "ticks": ""
           },
           "baxis": {
            "gridcolor": "white",
            "linecolor": "white",
            "ticks": ""
           },
           "bgcolor": "#E5ECF6",
           "caxis": {
            "gridcolor": "white",
            "linecolor": "white",
            "ticks": ""
           }
          },
          "title": {
           "x": 0.05
          },
          "xaxis": {
           "automargin": true,
           "gridcolor": "white",
           "linecolor": "white",
           "ticks": "",
           "title": {
            "standoff": 15
           },
           "zerolinecolor": "white",
           "zerolinewidth": 2
          },
          "yaxis": {
           "automargin": true,
           "gridcolor": "white",
           "linecolor": "white",
           "ticks": "",
           "title": {
            "standoff": 15
           },
           "zerolinecolor": "white",
           "zerolinewidth": 2
          }
         }
        },
        "title": {
         "text": "100 Most common categories of Description"
        },
        "xaxis": {
         "anchor": "y",
         "domain": [
          0,
          1
         ],
         "title": {
          "text": "x"
         }
        },
        "yaxis": {
         "anchor": "x",
         "domain": [
          0,
          1
         ],
         "title": {
          "text": "y"
         }
        }
       }
      },
      "text/html": [
       "<div>                            <div id=\"df7a8533-ebe3-493f-b445-4b463c08505f\" class=\"plotly-graph-div\" style=\"height:525px; width:100%;\"></div>            <script type=\"text/javascript\">                require([\"plotly\"], function(Plotly) {                    window.PLOTLYENV=window.PLOTLYENV || {};                                    if (document.getElementById(\"df7a8533-ebe3-493f-b445-4b463c08505f\")) {                    Plotly.newPlot(                        \"df7a8533-ebe3-493f-b445-4b463c08505f\",                        [{\"alignmentgroup\":\"True\",\"hovertemplate\":\"x=%{x}<br>y=%{y}<extra></extra>\",\"legendgroup\":\"\",\"marker\":{\"color\":\"#636efa\",\"pattern\":{\"shape\":\"\"}},\"name\":\"\",\"offsetgroup\":\"\",\"orientation\":\"v\",\"showlegend\":false,\"textposition\":\"auto\",\"x\":[\"WHITE HANGING HEART T-LIGHT HOLDER\",\"nan\",\"REGENCY CAKESTAND 3 TIER\",\"STRAWBERRY CERAMIC TRINKET BOX\",\"PACK OF 72 RETRO SPOT CAKE CASES\",\"ASSORTED COLOUR BIRD ORNAMENT\",\"60 TEATIME FAIRY CAKE CASES\",\"HOME BUILDING BLOCK WORD\",\"JUMBO BAG RED RETROSPOT\",\"LUNCH BAG RED SPOTTY\",\"REX CASH+CARRY JUMBO SHOPPER\",\"JUMBO STORAGE BAG SUKI\",\"PACK OF 60 PINK PAISLEY CAKE CASES\",\"WOODEN FRAME ANTIQUE WHITE \",\"LUNCH BAG  BLACK SKULL.\",\"BAKING SET 9 PIECE RETROSPOT \",\"LUNCH BAG SUKI  DESIGN \",\"HEART OF WICKER LARGE\",\"LOVE BUILDING BLOCK WORD\",\"RED HANGING HEART T-LIGHT HOLDER\",\"SWEETHEART CERAMIC TRINKET BOX\",\"JUMBO SHOPPER VINTAGE RED PAISLEY\",\"JUMBO BAG STRAWBERRY\",\"HEART OF WICKER SMALL\",\"HOT WATER BOTTLE TEA AND SYMPATHY\",\"SCOTTIE DOG HOT WATER BOTTLE\",\"VINTAGE SNAP CARDS\",\"PARTY BUNTING\",\"LUNCH BAG SPACEBOY DESIGN \",\"PAPER CHAIN KIT 50'S CHRISTMAS \",\"JUMBO  BAG BAROQUE BLACK WHITE\",\"LUNCH BAG WOODLAND\",\"LUNCH BAG CARS BLUE\",\"WOODEN PICTURE FRAME WHITE FINISH\",\"HANGING HEART ZINC T-LIGHT HOLDER\",\"SET/20 RED SPOTTY PAPER NAPKINS \",\"ANTIQUE SILVER TEA GLASS ETCHED\",\"CHOCOLATE HOT WATER BOTTLE\",\"SET/5 RED SPOTTY LID GLASS BOWLS\",\"SMALL POPCORN HOLDER\",\"ZINC METAL HEART DECORATION\",\"FELTCRAFT 6 FLOWER FRIENDS\",\"72 SWEETHEART FAIRY CAKE CASES\",\"GIN + TONIC DIET METAL SIGN\",\"PACK OF 72 SKULL CAKE CASES\",\"NATURAL SLATE HEART CHALKBOARD \",\"6 RIBBONS RUSTIC CHARM\",\"RECYCLING BAG RETROSPOT \",\"POSTAGE\",\"VICTORIAN GLASS HANGING T-LIGHT\",\"LUNCH BAG PINK RETROSPOT\",\"PLEASE ONE PERSON METAL SIGN\",\"Manual\",\"VINTAGE UNION JACK BUNTING\",\"PINK CREAM FELT CRAFT TRINKET BOX \",\"HAND OVER THE CHOCOLATE   SIGN \",\"JUMBO BAG PINK WITH WHITE SPOTS\",\"RED WOOLLY HOTTIE WHITE HEART.\",\"CREAM HEART CARD HOLDER\",\"RETRO SPOT TEA SET CERAMIC 11 PC \",\"RED SPOTTY CHARLOTTE BAG\",\"PAPER BUNTING RETRO SPOTS\",\"PACK OF 6 BIRDY GIFT TAGS\",\"JUMBO BAG PINK VINTAGE PAISLEY\",\"JUMBO BAG SCANDINAVIAN PAISLEY\",\"WOODLAND CHARLOTTE BAG\",\"VINTAGE HEADS AND TAILS CARD GAME \",\"RED GINGHAM ROSE JEWELLERY BOX\",\"WOOD S/3 CABINET ANT WHITE FINISH\",\"RED RETROSPOT CAKE STAND\",\"BATHROOM METAL SIGN\",\"COOK WITH WINE METAL SIGN \",\"RED TOADSTOOL LED NIGHT LIGHT\",\"FELTCRAFT BUTTERFLY HEARTS\",\"HANGING HEART JAR T-LIGHT HOLDER\",\"PACK OF 60 DINOSAUR CAKE CASES\",\"DOTCOM POSTAGE\",\"PAPER CHAIN KIT VINTAGE CHRISTMAS\",\"ROUND SNACK BOXES SET OF4 WOODLAND \",\"PLASTERS IN TIN SPACEBOY\",\"STRAWBERRY CHARLOTTE BAG\",\"HAND WARMER OWL DESIGN\",\"JUMBO BAG OWLS\",\"PLASTERS IN TIN CIRCUS PARADE \",\"NO SINGING METAL SIGN\",\"COLOUR GLASS T-LIGHT HOLDER HANGING\",\"PACK 20 ENGLISH ROSE PAPER NAPKINS\",\"DOOR MAT UNION FLAG\",\"PINK BLUE FELT CRAFT TRINKET BOX\",\"SINGLE HEART ZINC T-LIGHT HOLDER\",\"LADIES & GENTLEMEN METAL SIGN\",\"WOOD 2 DRAWER CABINET WHITE FINISH\",\"HAND WARMER SCOTTY DOG DESIGN\",\"GRAND CHOCOLATECANDLE\",\"JUMBO STORAGE BAG SKULLS\",\"KNITTED UNION FLAG HOT WATER BOTTLE\",\"EDWARDIAN PARASOL NATURAL\",\"HEART IVORY TRELLIS SMALL\",\"LOVEBIRD HANGING DECORATION WHITE \",\"HAND WARMER BIRD DESIGN\"],\"xaxis\":\"x\",\"y\":[3549,2928,2212,1843,1466,1457,1400,1386,1310,1274,1232,1220,1196,1190,1179,1176,1157,1151,1142,1129,1096,1095,1091,1082,1050,1048,1044,1038,1014,1005,1002,989,987,986,968,967,958,958,952,951,947,924,922,903,873,871,870,869,862,862,856,855,854,849,840,834,829,827,814,813,808,802,796,794,786,783,778,773,757,756,756,753,753,750,750,745,735,710,708,702,701,699,699,698,694,690,684,683,681,679,678,676,672,667,655,649,647,646,645,644],\"yaxis\":\"y\",\"type\":\"bar\"}],                        {\"template\":{\"data\":{\"histogram2dcontour\":[{\"type\":\"histogram2dcontour\",\"colorbar\":{\"outlinewidth\":0,\"ticks\":\"\"},\"colorscale\":[[0.0,\"#0d0887\"],[0.1111111111111111,\"#46039f\"],[0.2222222222222222,\"#7201a8\"],[0.3333333333333333,\"#9c179e\"],[0.4444444444444444,\"#bd3786\"],[0.5555555555555556,\"#d8576b\"],[0.6666666666666666,\"#ed7953\"],[0.7777777777777778,\"#fb9f3a\"],[0.8888888888888888,\"#fdca26\"],[1.0,\"#f0f921\"]]}],\"choropleth\":[{\"type\":\"choropleth\",\"colorbar\":{\"outlinewidth\":0,\"ticks\":\"\"}}],\"histogram2d\":[{\"type\":\"histogram2d\",\"colorbar\":{\"outlinewidth\":0,\"ticks\":\"\"},\"colorscale\":[[0.0,\"#0d0887\"],[0.1111111111111111,\"#46039f\"],[0.2222222222222222,\"#7201a8\"],[0.3333333333333333,\"#9c179e\"],[0.4444444444444444,\"#bd3786\"],[0.5555555555555556,\"#d8576b\"],[0.6666666666666666,\"#ed7953\"],[0.7777777777777778,\"#fb9f3a\"],[0.8888888888888888,\"#fdca26\"],[1.0,\"#f0f921\"]]}],\"heatmap\":[{\"type\":\"heatmap\",\"colorbar\":{\"outlinewidth\":0,\"ticks\":\"\"},\"colorscale\":[[0.0,\"#0d0887\"],[0.1111111111111111,\"#46039f\"],[0.2222222222222222,\"#7201a8\"],[0.3333333333333333,\"#9c179e\"],[0.4444444444444444,\"#bd3786\"],[0.5555555555555556,\"#d8576b\"],[0.6666666666666666,\"#ed7953\"],[0.7777777777777778,\"#fb9f3a\"],[0.8888888888888888,\"#fdca26\"],[1.0,\"#f0f921\"]]}],\"heatmapgl\":[{\"type\":\"heatmapgl\",\"colorbar\":{\"outlinewidth\":0,\"ticks\":\"\"},\"colorscale\":[[0.0,\"#0d0887\"],[0.1111111111111111,\"#46039f\"],[0.2222222222222222,\"#7201a8\"],[0.3333333333333333,\"#9c179e\"],[0.4444444444444444,\"#bd3786\"],[0.5555555555555556,\"#d8576b\"],[0.6666666666666666,\"#ed7953\"],[0.7777777777777778,\"#fb9f3a\"],[0.8888888888888888,\"#fdca26\"],[1.0,\"#f0f921\"]]}],\"contourcarpet\":[{\"type\":\"contourcarpet\",\"colorbar\":{\"outlinewidth\":0,\"ticks\":\"\"}}],\"contour\":[{\"type\":\"contour\",\"colorbar\":{\"outlinewidth\":0,\"ticks\":\"\"},\"colorscale\":[[0.0,\"#0d0887\"],[0.1111111111111111,\"#46039f\"],[0.2222222222222222,\"#7201a8\"],[0.3333333333333333,\"#9c179e\"],[0.4444444444444444,\"#bd3786\"],[0.5555555555555556,\"#d8576b\"],[0.6666666666666666,\"#ed7953\"],[0.7777777777777778,\"#fb9f3a\"],[0.8888888888888888,\"#fdca26\"],[1.0,\"#f0f921\"]]}],\"surface\":[{\"type\":\"surface\",\"colorbar\":{\"outlinewidth\":0,\"ticks\":\"\"},\"colorscale\":[[0.0,\"#0d0887\"],[0.1111111111111111,\"#46039f\"],[0.2222222222222222,\"#7201a8\"],[0.3333333333333333,\"#9c179e\"],[0.4444444444444444,\"#bd3786\"],[0.5555555555555556,\"#d8576b\"],[0.6666666666666666,\"#ed7953\"],[0.7777777777777778,\"#fb9f3a\"],[0.8888888888888888,\"#fdca26\"],[1.0,\"#f0f921\"]]}],\"mesh3d\":[{\"type\":\"mesh3d\",\"colorbar\":{\"outlinewidth\":0,\"ticks\":\"\"}}],\"scatter\":[{\"fillpattern\":{\"fillmode\":\"overlay\",\"size\":10,\"solidity\":0.2},\"type\":\"scatter\"}],\"parcoords\":[{\"type\":\"parcoords\",\"line\":{\"colorbar\":{\"outlinewidth\":0,\"ticks\":\"\"}}}],\"scatterpolargl\":[{\"type\":\"scatterpolargl\",\"marker\":{\"colorbar\":{\"outlinewidth\":0,\"ticks\":\"\"}}}],\"bar\":[{\"error_x\":{\"color\":\"#2a3f5f\"},\"error_y\":{\"color\":\"#2a3f5f\"},\"marker\":{\"line\":{\"color\":\"#E5ECF6\",\"width\":0.5},\"pattern\":{\"fillmode\":\"overlay\",\"size\":10,\"solidity\":0.2}},\"type\":\"bar\"}],\"scattergeo\":[{\"type\":\"scattergeo\",\"marker\":{\"colorbar\":{\"outlinewidth\":0,\"ticks\":\"\"}}}],\"scatterpolar\":[{\"type\":\"scatterpolar\",\"marker\":{\"colorbar\":{\"outlinewidth\":0,\"ticks\":\"\"}}}],\"histogram\":[{\"marker\":{\"pattern\":{\"fillmode\":\"overlay\",\"size\":10,\"solidity\":0.2}},\"type\":\"histogram\"}],\"scattergl\":[{\"type\":\"scattergl\",\"marker\":{\"colorbar\":{\"outlinewidth\":0,\"ticks\":\"\"}}}],\"scatter3d\":[{\"type\":\"scatter3d\",\"line\":{\"colorbar\":{\"outlinewidth\":0,\"ticks\":\"\"}},\"marker\":{\"colorbar\":{\"outlinewidth\":0,\"ticks\":\"\"}}}],\"scattermapbox\":[{\"type\":\"scattermapbox\",\"marker\":{\"colorbar\":{\"outlinewidth\":0,\"ticks\":\"\"}}}],\"scatterternary\":[{\"type\":\"scatterternary\",\"marker\":{\"colorbar\":{\"outlinewidth\":0,\"ticks\":\"\"}}}],\"scattercarpet\":[{\"type\":\"scattercarpet\",\"marker\":{\"colorbar\":{\"outlinewidth\":0,\"ticks\":\"\"}}}],\"carpet\":[{\"aaxis\":{\"endlinecolor\":\"#2a3f5f\",\"gridcolor\":\"white\",\"linecolor\":\"white\",\"minorgridcolor\":\"white\",\"startlinecolor\":\"#2a3f5f\"},\"baxis\":{\"endlinecolor\":\"#2a3f5f\",\"gridcolor\":\"white\",\"linecolor\":\"white\",\"minorgridcolor\":\"white\",\"startlinecolor\":\"#2a3f5f\"},\"type\":\"carpet\"}],\"table\":[{\"cells\":{\"fill\":{\"color\":\"#EBF0F8\"},\"line\":{\"color\":\"white\"}},\"header\":{\"fill\":{\"color\":\"#C8D4E3\"},\"line\":{\"color\":\"white\"}},\"type\":\"table\"}],\"barpolar\":[{\"marker\":{\"line\":{\"color\":\"#E5ECF6\",\"width\":0.5},\"pattern\":{\"fillmode\":\"overlay\",\"size\":10,\"solidity\":0.2}},\"type\":\"barpolar\"}],\"pie\":[{\"automargin\":true,\"type\":\"pie\"}]},\"layout\":{\"autotypenumbers\":\"strict\",\"colorway\":[\"#636efa\",\"#EF553B\",\"#00cc96\",\"#ab63fa\",\"#FFA15A\",\"#19d3f3\",\"#FF6692\",\"#B6E880\",\"#FF97FF\",\"#FECB52\"],\"font\":{\"color\":\"#2a3f5f\"},\"hovermode\":\"closest\",\"hoverlabel\":{\"align\":\"left\"},\"paper_bgcolor\":\"white\",\"plot_bgcolor\":\"#E5ECF6\",\"polar\":{\"bgcolor\":\"#E5ECF6\",\"angularaxis\":{\"gridcolor\":\"white\",\"linecolor\":\"white\",\"ticks\":\"\"},\"radialaxis\":{\"gridcolor\":\"white\",\"linecolor\":\"white\",\"ticks\":\"\"}},\"ternary\":{\"bgcolor\":\"#E5ECF6\",\"aaxis\":{\"gridcolor\":\"white\",\"linecolor\":\"white\",\"ticks\":\"\"},\"baxis\":{\"gridcolor\":\"white\",\"linecolor\":\"white\",\"ticks\":\"\"},\"caxis\":{\"gridcolor\":\"white\",\"linecolor\":\"white\",\"ticks\":\"\"}},\"coloraxis\":{\"colorbar\":{\"outlinewidth\":0,\"ticks\":\"\"}},\"colorscale\":{\"sequential\":[[0.0,\"#0d0887\"],[0.1111111111111111,\"#46039f\"],[0.2222222222222222,\"#7201a8\"],[0.3333333333333333,\"#9c179e\"],[0.4444444444444444,\"#bd3786\"],[0.5555555555555556,\"#d8576b\"],[0.6666666666666666,\"#ed7953\"],[0.7777777777777778,\"#fb9f3a\"],[0.8888888888888888,\"#fdca26\"],[1.0,\"#f0f921\"]],\"sequentialminus\":[[0.0,\"#0d0887\"],[0.1111111111111111,\"#46039f\"],[0.2222222222222222,\"#7201a8\"],[0.3333333333333333,\"#9c179e\"],[0.4444444444444444,\"#bd3786\"],[0.5555555555555556,\"#d8576b\"],[0.6666666666666666,\"#ed7953\"],[0.7777777777777778,\"#fb9f3a\"],[0.8888888888888888,\"#fdca26\"],[1.0,\"#f0f921\"]],\"diverging\":[[0,\"#8e0152\"],[0.1,\"#c51b7d\"],[0.2,\"#de77ae\"],[0.3,\"#f1b6da\"],[0.4,\"#fde0ef\"],[0.5,\"#f7f7f7\"],[0.6,\"#e6f5d0\"],[0.7,\"#b8e186\"],[0.8,\"#7fbc41\"],[0.9,\"#4d9221\"],[1,\"#276419\"]]},\"xaxis\":{\"gridcolor\":\"white\",\"linecolor\":\"white\",\"ticks\":\"\",\"title\":{\"standoff\":15},\"zerolinecolor\":\"white\",\"automargin\":true,\"zerolinewidth\":2},\"yaxis\":{\"gridcolor\":\"white\",\"linecolor\":\"white\",\"ticks\":\"\",\"title\":{\"standoff\":15},\"zerolinecolor\":\"white\",\"automargin\":true,\"zerolinewidth\":2},\"scene\":{\"xaxis\":{\"backgroundcolor\":\"#E5ECF6\",\"gridcolor\":\"white\",\"linecolor\":\"white\",\"showbackground\":true,\"ticks\":\"\",\"zerolinecolor\":\"white\",\"gridwidth\":2},\"yaxis\":{\"backgroundcolor\":\"#E5ECF6\",\"gridcolor\":\"white\",\"linecolor\":\"white\",\"showbackground\":true,\"ticks\":\"\",\"zerolinecolor\":\"white\",\"gridwidth\":2},\"zaxis\":{\"backgroundcolor\":\"#E5ECF6\",\"gridcolor\":\"white\",\"linecolor\":\"white\",\"showbackground\":true,\"ticks\":\"\",\"zerolinecolor\":\"white\",\"gridwidth\":2}},\"shapedefaults\":{\"line\":{\"color\":\"#2a3f5f\"}},\"annotationdefaults\":{\"arrowcolor\":\"#2a3f5f\",\"arrowhead\":0,\"arrowwidth\":1},\"geo\":{\"bgcolor\":\"white\",\"landcolor\":\"#E5ECF6\",\"subunitcolor\":\"white\",\"showland\":true,\"showlakes\":true,\"lakecolor\":\"white\"},\"title\":{\"x\":0.05},\"mapbox\":{\"style\":\"light\"}}},\"xaxis\":{\"anchor\":\"y\",\"domain\":[0.0,1.0],\"title\":{\"text\":\"x\"}},\"yaxis\":{\"anchor\":\"x\",\"domain\":[0.0,1.0],\"title\":{\"text\":\"y\"}},\"legend\":{\"tracegroupgap\":0},\"title\":{\"text\":\"100 Most common categories of Description\"},\"barmode\":\"relative\"},                        {\"responsive\": true}                    ).then(function(){\n",
       "                            \n",
       "var gd = document.getElementById('df7a8533-ebe3-493f-b445-4b463c08505f');\n",
       "var x = new MutationObserver(function (mutations, observer) {{\n",
       "        var display = window.getComputedStyle(gd).display;\n",
       "        if (!display || display === 'none') {{\n",
       "            console.log([gd, 'removed!']);\n",
       "            Plotly.purge(gd);\n",
       "            observer.disconnect();\n",
       "        }}\n",
       "}});\n",
       "\n",
       "// Listen for the removal of the full notebook cells\n",
       "var notebookContainer = gd.closest('#notebook-container');\n",
       "if (notebookContainer) {{\n",
       "    x.observe(notebookContainer, {childList: true});\n",
       "}}\n",
       "\n",
       "// Listen for the clearing of the current output cell\n",
       "var outputEl = gd.closest('.output');\n",
       "if (outputEl) {{\n",
       "    x.observe(outputEl, {childList: true});\n",
       "}}\n",
       "\n",
       "                        })                };                });            </script>        </div>"
      ]
     },
     "metadata": {},
     "output_type": "display_data"
    }
   ],
   "source": [
    "profile_serie(df_retail['Description'])"
   ]
  },
  {
   "cell_type": "markdown",
   "metadata": {},
   "source": [
    "#### Description: \n",
    "\n",
    "Hay 525461 observaciones, de los cuales no se reportan valores faltantes. Existen 4682 valores unicos. Mas que los valores unicos que StockCode, lo cual es raro dado que las descripciones de los items debiesen ser unicas para su identificador, ya que esto nos dice que existe un item con a lo menos dos descripciones distintas. Lo cual puede deberse a que basta con que un string posea un caracter distinto para que sean identificados como diferentes. El que mas se repite tiene descripcion \" WHITE HANGING HEART T-LIGHT HOLDER\" con una frecuencia de 3549. Lo que tambien es raro, dado que el item que mas se repite posee una frecuencia de 3516. Se observar un 99.9\\% de datos duplicados."
   ]
  },
  {
   "cell_type": "code",
   "execution_count": 25,
   "metadata": {
    "scrolled": true
   },
   "outputs": [
    {
     "data": {
      "text/markdown": [
       "## Quantity Profile"
      ],
      "text/plain": [
       "<IPython.core.display.Markdown object>"
      ]
     },
     "metadata": {},
     "output_type": "display_data"
    },
    {
     "data": {
      "text/plain": [
       "Type                              int64\n",
       "Number of observations         525461.0\n",
       "Mean                          10.337667\n",
       "Std                           107.42411\n",
       "Min                             -9600.0\n",
       "25%                                 1.0\n",
       "50%                                 3.0\n",
       "75%                                10.0\n",
       "Max                             19152.0\n",
       "Negative                          12326\n",
       "Negative (%)                     2.35 %\n",
       "Zeros                                 0\n",
       "Zeros (%)                         0.0 %\n",
       "Kurt                        6277.666908\n",
       "Skew                          36.044617\n",
       "                                       \n",
       "Missing cells                         0\n",
       "Missing cells (%)                 0.0 %\n",
       "Duplicate rows                   525122\n",
       "Duplicate rows (%)              99.94 %\n",
       "Total size in memory      4203816 bytes\n",
       "dtype: object"
      ]
     },
     "metadata": {},
     "output_type": "display_data"
    },
    {
     "data": {
      "application/vnd.plotly.v1+json": {
       "config": {
        "plotlyServerURL": "https://plot.ly"
       },
       "data": [
        {
         "alignmentgroup": "True",
         "bingroup": "x",
         "hovertemplate": "variable=Quantity<br>value=%{x}<br>count=%{y}<extra></extra>",
         "legendgroup": "Quantity",
         "marker": {
          "color": "#636efa",
          "pattern": {
           "shape": ""
          }
         },
         "name": "Quantity",
         "offsetgroup": "Quantity",
         "orientation": "v",
         "showlegend": true,
         "type": "histogram",
         "x": [
          6,
          3,
          48,
          12,
          12,
          -96,
          1,
          6,
          12,
          16,
          1,
          1,
          96,
          12,
          6,
          1,
          16,
          1,
          12,
          6,
          8,
          1,
          3,
          3,
          2,
          1,
          2,
          25,
          100,
          1,
          7,
          12,
          1,
          25,
          100,
          6,
          1,
          5,
          30,
          1,
          12,
          1,
          -13,
          1,
          24,
          3,
          6,
          10,
          1,
          12,
          2,
          2,
          12,
          2,
          1,
          4,
          1,
          1,
          3,
          1,
          1,
          3,
          2,
          2,
          2,
          3,
          1,
          10,
          1,
          24,
          24,
          4,
          1,
          10,
          3,
          3,
          1,
          3,
          12,
          1,
          1,
          24,
          2,
          24,
          12,
          2,
          36,
          1,
          24,
          1,
          2,
          8,
          200,
          32,
          36,
          2,
          12,
          3,
          9,
          6,
          1,
          10,
          10,
          25,
          12,
          8,
          -2,
          1,
          567,
          6,
          2,
          2,
          1,
          18,
          6,
          1,
          -12,
          6,
          1,
          1,
          12,
          6,
          3,
          2,
          2,
          1,
          1,
          16,
          25,
          12,
          20,
          20,
          6,
          2,
          26,
          10,
          5,
          1,
          12,
          3,
          160,
          3,
          1,
          12,
          2,
          2,
          2,
          75,
          2,
          6,
          3,
          40,
          2,
          1,
          8,
          1,
          2,
          2,
          2,
          1,
          3,
          2,
          12,
          3,
          12,
          12,
          -1,
          2,
          384,
          1,
          1,
          1,
          3,
          9,
          6,
          120,
          3,
          12,
          48,
          8,
          5,
          3,
          6,
          1,
          1,
          12,
          2,
          3,
          10,
          1,
          12,
          10,
          4,
          12,
          1,
          12,
          1,
          300,
          -26,
          48,
          2,
          1,
          2,
          1,
          24,
          2,
          24,
          50,
          1,
          12,
          1,
          7,
          36,
          6,
          10,
          10,
          2,
          1,
          6,
          1,
          12,
          2,
          24,
          8,
          6,
          1,
          1,
          2,
          2,
          12,
          6,
          12,
          6,
          2,
          16,
          2,
          1,
          1,
          2,
          2,
          1,
          2,
          10,
          1,
          2,
          6,
          1,
          20,
          4,
          3,
          6,
          1,
          -6,
          6,
          8,
          12,
          3,
          1,
          1,
          8,
          1,
          2,
          12,
          3,
          2,
          1,
          6,
          6,
          2,
          1,
          1,
          1,
          4,
          12,
          3,
          2,
          1,
          2,
          6,
          4,
          1,
          5,
          -1,
          2,
          1,
          2,
          12,
          36,
          1,
          24,
          2,
          6,
          4,
          4,
          1,
          6,
          4,
          12,
          12,
          28,
          12,
          200,
          6,
          48,
          2,
          1,
          -2,
          1,
          6,
          2,
          1,
          1,
          1,
          2,
          -160,
          -1,
          2,
          24,
          12,
          1,
          2,
          1,
          4,
          1,
          10,
          1,
          3,
          1,
          14,
          12,
          1,
          1,
          1,
          2,
          1,
          1,
          24,
          192,
          1,
          3,
          72,
          3,
          2,
          1,
          25,
          1,
          2,
          2,
          12,
          4,
          6,
          9,
          6,
          1,
          1,
          8,
          6,
          2,
          4,
          3,
          4,
          1,
          2,
          1,
          8,
          1,
          5,
          12,
          2,
          2,
          1,
          12,
          10,
          48,
          10,
          12,
          6,
          6,
          2,
          1,
          4,
          12,
          1,
          1,
          1,
          6,
          1,
          3,
          72,
          90,
          7,
          6,
          2,
          4,
          18,
          2,
          1,
          1,
          4,
          1,
          10,
          6,
          1,
          2,
          6,
          1,
          16,
          2,
          10,
          25,
          1,
          1,
          4,
          25,
          1,
          1,
          6,
          2,
          1,
          2,
          12,
          1,
          2,
          12,
          6,
          2,
          2,
          -3,
          192,
          10,
          4,
          3,
          2,
          1,
          1,
          2,
          12,
          -4,
          24,
          1,
          1,
          4,
          3,
          1,
          10,
          2,
          1,
          12,
          6,
          72,
          2,
          6,
          24,
          1,
          1,
          10,
          1,
          4,
          6,
          1,
          3,
          96,
          96,
          4,
          1,
          -1,
          12,
          1,
          2,
          1,
          2,
          24,
          12,
          12,
          144,
          12,
          12,
          12,
          -12,
          14,
          2,
          1,
          2,
          3,
          2,
          1,
          24,
          1,
          1,
          5,
          12,
          1,
          2,
          1,
          12,
          12,
          1,
          4,
          1,
          1,
          2,
          12,
          1,
          1,
          2,
          96,
          1,
          36,
          10,
          12,
          2,
          36,
          48,
          3,
          1,
          36,
          1,
          5,
          24,
          3,
          1,
          12,
          1,
          1,
          12,
          1,
          4,
          1,
          1,
          12,
          12,
          1,
          1,
          1,
          72,
          2,
          1,
          24,
          6,
          1,
          3,
          12,
          2,
          6,
          4,
          2,
          2,
          24,
          6,
          2,
          24,
          1,
          3,
          -2,
          2,
          48,
          3,
          4,
          12,
          6,
          4,
          8,
          12,
          3,
          2,
          1,
          2,
          12,
          2,
          1,
          12,
          1,
          2,
          2,
          4,
          2,
          12,
          1,
          5,
          24,
          2,
          12,
          1,
          100,
          1,
          24,
          6,
          7,
          6,
          1,
          1,
          5,
          8,
          1,
          96,
          12,
          4,
          40,
          1,
          8,
          24,
          8,
          2,
          16,
          12,
          2,
          16,
          1,
          12,
          1,
          1,
          1,
          1,
          24,
          12,
          6,
          3,
          1,
          48,
          12,
          60,
          1,
          72,
          5,
          6,
          2,
          2,
          12,
          3,
          6,
          2,
          3,
          4,
          1,
          1,
          24,
          48,
          24,
          12,
          1,
          1,
          3,
          24,
          12,
          12,
          2,
          1,
          4,
          10,
          12,
          6,
          2,
          -1,
          10,
          8,
          3,
          12,
          16,
          1,
          4,
          1,
          1,
          4,
          1,
          2,
          12,
          12,
          7,
          25,
          6,
          2,
          10,
          1,
          6,
          6,
          12,
          1,
          96,
          4,
          3,
          4,
          16,
          2,
          1,
          1,
          2,
          1,
          48,
          42,
          2,
          12,
          24,
          3,
          1,
          3,
          -1,
          2,
          2,
          1,
          10,
          1,
          1,
          1,
          1,
          1,
          6,
          1,
          4,
          12,
          2,
          20,
          1,
          6,
          25,
          80,
          3,
          1,
          1,
          3,
          1,
          8,
          1,
          1,
          12,
          64,
          1,
          10,
          1,
          2,
          12,
          1,
          5,
          24,
          12,
          2,
          4,
          2,
          12,
          12,
          24,
          3,
          144,
          1,
          7,
          -1,
          72,
          1,
          6,
          1,
          3,
          4,
          12,
          18,
          2,
          24,
          6,
          1,
          6,
          1,
          8,
          48,
          3,
          2,
          6,
          48,
          6,
          1,
          6,
          12,
          12,
          1,
          2,
          12,
          6,
          1,
          12,
          1,
          2,
          12,
          1,
          2,
          6,
          6,
          20,
          144,
          20,
          1,
          1,
          1,
          3,
          1,
          4,
          2,
          12,
          24,
          6,
          1,
          1,
          3,
          12,
          6,
          2,
          1,
          4,
          12,
          4,
          10,
          12,
          24,
          4,
          25,
          1,
          2,
          8,
          1,
          3,
          1,
          1,
          1,
          3,
          4,
          3,
          1,
          1,
          120,
          10,
          4,
          5,
          12,
          1,
          1,
          3,
          2,
          1,
          30,
          1,
          1,
          1,
          8,
          1,
          32,
          1,
          1,
          1,
          12,
          1,
          12,
          3,
          2,
          1,
          2,
          1,
          96,
          -10,
          6,
          8,
          6,
          2,
          2,
          24,
          1,
          2,
          6,
          48,
          25,
          8,
          2,
          10,
          7,
          5,
          1,
          24,
          4,
          12,
          5,
          3,
          3,
          4,
          16,
          12,
          8,
          10,
          12,
          1,
          3,
          3,
          6,
          1,
          1,
          25,
          5,
          2,
          2,
          5,
          6,
          1,
          20,
          4,
          1,
          2,
          2,
          1,
          8,
          1,
          3,
          1,
          24,
          6,
          6,
          2,
          2,
          1,
          4,
          2,
          3,
          12,
          12,
          4,
          12,
          2,
          2,
          1,
          1,
          4,
          100,
          2,
          72,
          12,
          6,
          2,
          24,
          1,
          5,
          1,
          6,
          16,
          288,
          1,
          2,
          24,
          6,
          2,
          -1,
          1,
          6,
          20,
          2,
          4,
          3,
          1,
          24,
          2,
          3,
          6,
          12,
          6,
          100,
          1,
          10,
          1,
          2,
          6,
          1,
          1,
          3,
          10,
          6,
          4,
          2,
          2,
          2,
          12,
          30,
          1,
          12,
          10,
          2,
          12,
          1,
          8,
          48,
          2,
          4,
          1,
          6,
          1,
          6,
          1,
          4,
          12,
          2,
          3,
          1,
          1,
          4,
          5,
          1,
          1,
          8,
          1
         ],
         "xaxis": "x",
         "yaxis": "y"
        },
        {
         "alignmentgroup": "True",
         "hovertemplate": "variable=Quantity<br>value=%{x}<extra></extra>",
         "legendgroup": "Quantity",
         "marker": {
          "color": "#636efa"
         },
         "name": "Quantity",
         "notched": true,
         "offsetgroup": "Quantity",
         "showlegend": false,
         "type": "box",
         "x": [
          6,
          3,
          48,
          12,
          12,
          -96,
          1,
          6,
          12,
          16,
          1,
          1,
          96,
          12,
          6,
          1,
          16,
          1,
          12,
          6,
          8,
          1,
          3,
          3,
          2,
          1,
          2,
          25,
          100,
          1,
          7,
          12,
          1,
          25,
          100,
          6,
          1,
          5,
          30,
          1,
          12,
          1,
          -13,
          1,
          24,
          3,
          6,
          10,
          1,
          12,
          2,
          2,
          12,
          2,
          1,
          4,
          1,
          1,
          3,
          1,
          1,
          3,
          2,
          2,
          2,
          3,
          1,
          10,
          1,
          24,
          24,
          4,
          1,
          10,
          3,
          3,
          1,
          3,
          12,
          1,
          1,
          24,
          2,
          24,
          12,
          2,
          36,
          1,
          24,
          1,
          2,
          8,
          200,
          32,
          36,
          2,
          12,
          3,
          9,
          6,
          1,
          10,
          10,
          25,
          12,
          8,
          -2,
          1,
          567,
          6,
          2,
          2,
          1,
          18,
          6,
          1,
          -12,
          6,
          1,
          1,
          12,
          6,
          3,
          2,
          2,
          1,
          1,
          16,
          25,
          12,
          20,
          20,
          6,
          2,
          26,
          10,
          5,
          1,
          12,
          3,
          160,
          3,
          1,
          12,
          2,
          2,
          2,
          75,
          2,
          6,
          3,
          40,
          2,
          1,
          8,
          1,
          2,
          2,
          2,
          1,
          3,
          2,
          12,
          3,
          12,
          12,
          -1,
          2,
          384,
          1,
          1,
          1,
          3,
          9,
          6,
          120,
          3,
          12,
          48,
          8,
          5,
          3,
          6,
          1,
          1,
          12,
          2,
          3,
          10,
          1,
          12,
          10,
          4,
          12,
          1,
          12,
          1,
          300,
          -26,
          48,
          2,
          1,
          2,
          1,
          24,
          2,
          24,
          50,
          1,
          12,
          1,
          7,
          36,
          6,
          10,
          10,
          2,
          1,
          6,
          1,
          12,
          2,
          24,
          8,
          6,
          1,
          1,
          2,
          2,
          12,
          6,
          12,
          6,
          2,
          16,
          2,
          1,
          1,
          2,
          2,
          1,
          2,
          10,
          1,
          2,
          6,
          1,
          20,
          4,
          3,
          6,
          1,
          -6,
          6,
          8,
          12,
          3,
          1,
          1,
          8,
          1,
          2,
          12,
          3,
          2,
          1,
          6,
          6,
          2,
          1,
          1,
          1,
          4,
          12,
          3,
          2,
          1,
          2,
          6,
          4,
          1,
          5,
          -1,
          2,
          1,
          2,
          12,
          36,
          1,
          24,
          2,
          6,
          4,
          4,
          1,
          6,
          4,
          12,
          12,
          28,
          12,
          200,
          6,
          48,
          2,
          1,
          -2,
          1,
          6,
          2,
          1,
          1,
          1,
          2,
          -160,
          -1,
          2,
          24,
          12,
          1,
          2,
          1,
          4,
          1,
          10,
          1,
          3,
          1,
          14,
          12,
          1,
          1,
          1,
          2,
          1,
          1,
          24,
          192,
          1,
          3,
          72,
          3,
          2,
          1,
          25,
          1,
          2,
          2,
          12,
          4,
          6,
          9,
          6,
          1,
          1,
          8,
          6,
          2,
          4,
          3,
          4,
          1,
          2,
          1,
          8,
          1,
          5,
          12,
          2,
          2,
          1,
          12,
          10,
          48,
          10,
          12,
          6,
          6,
          2,
          1,
          4,
          12,
          1,
          1,
          1,
          6,
          1,
          3,
          72,
          90,
          7,
          6,
          2,
          4,
          18,
          2,
          1,
          1,
          4,
          1,
          10,
          6,
          1,
          2,
          6,
          1,
          16,
          2,
          10,
          25,
          1,
          1,
          4,
          25,
          1,
          1,
          6,
          2,
          1,
          2,
          12,
          1,
          2,
          12,
          6,
          2,
          2,
          -3,
          192,
          10,
          4,
          3,
          2,
          1,
          1,
          2,
          12,
          -4,
          24,
          1,
          1,
          4,
          3,
          1,
          10,
          2,
          1,
          12,
          6,
          72,
          2,
          6,
          24,
          1,
          1,
          10,
          1,
          4,
          6,
          1,
          3,
          96,
          96,
          4,
          1,
          -1,
          12,
          1,
          2,
          1,
          2,
          24,
          12,
          12,
          144,
          12,
          12,
          12,
          -12,
          14,
          2,
          1,
          2,
          3,
          2,
          1,
          24,
          1,
          1,
          5,
          12,
          1,
          2,
          1,
          12,
          12,
          1,
          4,
          1,
          1,
          2,
          12,
          1,
          1,
          2,
          96,
          1,
          36,
          10,
          12,
          2,
          36,
          48,
          3,
          1,
          36,
          1,
          5,
          24,
          3,
          1,
          12,
          1,
          1,
          12,
          1,
          4,
          1,
          1,
          12,
          12,
          1,
          1,
          1,
          72,
          2,
          1,
          24,
          6,
          1,
          3,
          12,
          2,
          6,
          4,
          2,
          2,
          24,
          6,
          2,
          24,
          1,
          3,
          -2,
          2,
          48,
          3,
          4,
          12,
          6,
          4,
          8,
          12,
          3,
          2,
          1,
          2,
          12,
          2,
          1,
          12,
          1,
          2,
          2,
          4,
          2,
          12,
          1,
          5,
          24,
          2,
          12,
          1,
          100,
          1,
          24,
          6,
          7,
          6,
          1,
          1,
          5,
          8,
          1,
          96,
          12,
          4,
          40,
          1,
          8,
          24,
          8,
          2,
          16,
          12,
          2,
          16,
          1,
          12,
          1,
          1,
          1,
          1,
          24,
          12,
          6,
          3,
          1,
          48,
          12,
          60,
          1,
          72,
          5,
          6,
          2,
          2,
          12,
          3,
          6,
          2,
          3,
          4,
          1,
          1,
          24,
          48,
          24,
          12,
          1,
          1,
          3,
          24,
          12,
          12,
          2,
          1,
          4,
          10,
          12,
          6,
          2,
          -1,
          10,
          8,
          3,
          12,
          16,
          1,
          4,
          1,
          1,
          4,
          1,
          2,
          12,
          12,
          7,
          25,
          6,
          2,
          10,
          1,
          6,
          6,
          12,
          1,
          96,
          4,
          3,
          4,
          16,
          2,
          1,
          1,
          2,
          1,
          48,
          42,
          2,
          12,
          24,
          3,
          1,
          3,
          -1,
          2,
          2,
          1,
          10,
          1,
          1,
          1,
          1,
          1,
          6,
          1,
          4,
          12,
          2,
          20,
          1,
          6,
          25,
          80,
          3,
          1,
          1,
          3,
          1,
          8,
          1,
          1,
          12,
          64,
          1,
          10,
          1,
          2,
          12,
          1,
          5,
          24,
          12,
          2,
          4,
          2,
          12,
          12,
          24,
          3,
          144,
          1,
          7,
          -1,
          72,
          1,
          6,
          1,
          3,
          4,
          12,
          18,
          2,
          24,
          6,
          1,
          6,
          1,
          8,
          48,
          3,
          2,
          6,
          48,
          6,
          1,
          6,
          12,
          12,
          1,
          2,
          12,
          6,
          1,
          12,
          1,
          2,
          12,
          1,
          2,
          6,
          6,
          20,
          144,
          20,
          1,
          1,
          1,
          3,
          1,
          4,
          2,
          12,
          24,
          6,
          1,
          1,
          3,
          12,
          6,
          2,
          1,
          4,
          12,
          4,
          10,
          12,
          24,
          4,
          25,
          1,
          2,
          8,
          1,
          3,
          1,
          1,
          1,
          3,
          4,
          3,
          1,
          1,
          120,
          10,
          4,
          5,
          12,
          1,
          1,
          3,
          2,
          1,
          30,
          1,
          1,
          1,
          8,
          1,
          32,
          1,
          1,
          1,
          12,
          1,
          12,
          3,
          2,
          1,
          2,
          1,
          96,
          -10,
          6,
          8,
          6,
          2,
          2,
          24,
          1,
          2,
          6,
          48,
          25,
          8,
          2,
          10,
          7,
          5,
          1,
          24,
          4,
          12,
          5,
          3,
          3,
          4,
          16,
          12,
          8,
          10,
          12,
          1,
          3,
          3,
          6,
          1,
          1,
          25,
          5,
          2,
          2,
          5,
          6,
          1,
          20,
          4,
          1,
          2,
          2,
          1,
          8,
          1,
          3,
          1,
          24,
          6,
          6,
          2,
          2,
          1,
          4,
          2,
          3,
          12,
          12,
          4,
          12,
          2,
          2,
          1,
          1,
          4,
          100,
          2,
          72,
          12,
          6,
          2,
          24,
          1,
          5,
          1,
          6,
          16,
          288,
          1,
          2,
          24,
          6,
          2,
          -1,
          1,
          6,
          20,
          2,
          4,
          3,
          1,
          24,
          2,
          3,
          6,
          12,
          6,
          100,
          1,
          10,
          1,
          2,
          6,
          1,
          1,
          3,
          10,
          6,
          4,
          2,
          2,
          2,
          12,
          30,
          1,
          12,
          10,
          2,
          12,
          1,
          8,
          48,
          2,
          4,
          1,
          6,
          1,
          6,
          1,
          4,
          12,
          2,
          3,
          1,
          1,
          4,
          5,
          1,
          1,
          8,
          1
         ],
         "xaxis": "x2",
         "yaxis": "y2"
        }
       ],
       "layout": {
        "barmode": "relative",
        "legend": {
         "title": {
          "text": "variable"
         },
         "tracegroupgap": 0
        },
        "template": {
         "data": {
          "bar": [
           {
            "error_x": {
             "color": "#2a3f5f"
            },
            "error_y": {
             "color": "#2a3f5f"
            },
            "marker": {
             "line": {
              "color": "#E5ECF6",
              "width": 0.5
             },
             "pattern": {
              "fillmode": "overlay",
              "size": 10,
              "solidity": 0.2
             }
            },
            "type": "bar"
           }
          ],
          "barpolar": [
           {
            "marker": {
             "line": {
              "color": "#E5ECF6",
              "width": 0.5
             },
             "pattern": {
              "fillmode": "overlay",
              "size": 10,
              "solidity": 0.2
             }
            },
            "type": "barpolar"
           }
          ],
          "carpet": [
           {
            "aaxis": {
             "endlinecolor": "#2a3f5f",
             "gridcolor": "white",
             "linecolor": "white",
             "minorgridcolor": "white",
             "startlinecolor": "#2a3f5f"
            },
            "baxis": {
             "endlinecolor": "#2a3f5f",
             "gridcolor": "white",
             "linecolor": "white",
             "minorgridcolor": "white",
             "startlinecolor": "#2a3f5f"
            },
            "type": "carpet"
           }
          ],
          "choropleth": [
           {
            "colorbar": {
             "outlinewidth": 0,
             "ticks": ""
            },
            "type": "choropleth"
           }
          ],
          "contour": [
           {
            "colorbar": {
             "outlinewidth": 0,
             "ticks": ""
            },
            "colorscale": [
             [
              0,
              "#0d0887"
             ],
             [
              0.1111111111111111,
              "#46039f"
             ],
             [
              0.2222222222222222,
              "#7201a8"
             ],
             [
              0.3333333333333333,
              "#9c179e"
             ],
             [
              0.4444444444444444,
              "#bd3786"
             ],
             [
              0.5555555555555556,
              "#d8576b"
             ],
             [
              0.6666666666666666,
              "#ed7953"
             ],
             [
              0.7777777777777778,
              "#fb9f3a"
             ],
             [
              0.8888888888888888,
              "#fdca26"
             ],
             [
              1,
              "#f0f921"
             ]
            ],
            "type": "contour"
           }
          ],
          "contourcarpet": [
           {
            "colorbar": {
             "outlinewidth": 0,
             "ticks": ""
            },
            "type": "contourcarpet"
           }
          ],
          "heatmap": [
           {
            "colorbar": {
             "outlinewidth": 0,
             "ticks": ""
            },
            "colorscale": [
             [
              0,
              "#0d0887"
             ],
             [
              0.1111111111111111,
              "#46039f"
             ],
             [
              0.2222222222222222,
              "#7201a8"
             ],
             [
              0.3333333333333333,
              "#9c179e"
             ],
             [
              0.4444444444444444,
              "#bd3786"
             ],
             [
              0.5555555555555556,
              "#d8576b"
             ],
             [
              0.6666666666666666,
              "#ed7953"
             ],
             [
              0.7777777777777778,
              "#fb9f3a"
             ],
             [
              0.8888888888888888,
              "#fdca26"
             ],
             [
              1,
              "#f0f921"
             ]
            ],
            "type": "heatmap"
           }
          ],
          "heatmapgl": [
           {
            "colorbar": {
             "outlinewidth": 0,
             "ticks": ""
            },
            "colorscale": [
             [
              0,
              "#0d0887"
             ],
             [
              0.1111111111111111,
              "#46039f"
             ],
             [
              0.2222222222222222,
              "#7201a8"
             ],
             [
              0.3333333333333333,
              "#9c179e"
             ],
             [
              0.4444444444444444,
              "#bd3786"
             ],
             [
              0.5555555555555556,
              "#d8576b"
             ],
             [
              0.6666666666666666,
              "#ed7953"
             ],
             [
              0.7777777777777778,
              "#fb9f3a"
             ],
             [
              0.8888888888888888,
              "#fdca26"
             ],
             [
              1,
              "#f0f921"
             ]
            ],
            "type": "heatmapgl"
           }
          ],
          "histogram": [
           {
            "marker": {
             "pattern": {
              "fillmode": "overlay",
              "size": 10,
              "solidity": 0.2
             }
            },
            "type": "histogram"
           }
          ],
          "histogram2d": [
           {
            "colorbar": {
             "outlinewidth": 0,
             "ticks": ""
            },
            "colorscale": [
             [
              0,
              "#0d0887"
             ],
             [
              0.1111111111111111,
              "#46039f"
             ],
             [
              0.2222222222222222,
              "#7201a8"
             ],
             [
              0.3333333333333333,
              "#9c179e"
             ],
             [
              0.4444444444444444,
              "#bd3786"
             ],
             [
              0.5555555555555556,
              "#d8576b"
             ],
             [
              0.6666666666666666,
              "#ed7953"
             ],
             [
              0.7777777777777778,
              "#fb9f3a"
             ],
             [
              0.8888888888888888,
              "#fdca26"
             ],
             [
              1,
              "#f0f921"
             ]
            ],
            "type": "histogram2d"
           }
          ],
          "histogram2dcontour": [
           {
            "colorbar": {
             "outlinewidth": 0,
             "ticks": ""
            },
            "colorscale": [
             [
              0,
              "#0d0887"
             ],
             [
              0.1111111111111111,
              "#46039f"
             ],
             [
              0.2222222222222222,
              "#7201a8"
             ],
             [
              0.3333333333333333,
              "#9c179e"
             ],
             [
              0.4444444444444444,
              "#bd3786"
             ],
             [
              0.5555555555555556,
              "#d8576b"
             ],
             [
              0.6666666666666666,
              "#ed7953"
             ],
             [
              0.7777777777777778,
              "#fb9f3a"
             ],
             [
              0.8888888888888888,
              "#fdca26"
             ],
             [
              1,
              "#f0f921"
             ]
            ],
            "type": "histogram2dcontour"
           }
          ],
          "mesh3d": [
           {
            "colorbar": {
             "outlinewidth": 0,
             "ticks": ""
            },
            "type": "mesh3d"
           }
          ],
          "parcoords": [
           {
            "line": {
             "colorbar": {
              "outlinewidth": 0,
              "ticks": ""
             }
            },
            "type": "parcoords"
           }
          ],
          "pie": [
           {
            "automargin": true,
            "type": "pie"
           }
          ],
          "scatter": [
           {
            "fillpattern": {
             "fillmode": "overlay",
             "size": 10,
             "solidity": 0.2
            },
            "type": "scatter"
           }
          ],
          "scatter3d": [
           {
            "line": {
             "colorbar": {
              "outlinewidth": 0,
              "ticks": ""
             }
            },
            "marker": {
             "colorbar": {
              "outlinewidth": 0,
              "ticks": ""
             }
            },
            "type": "scatter3d"
           }
          ],
          "scattercarpet": [
           {
            "marker": {
             "colorbar": {
              "outlinewidth": 0,
              "ticks": ""
             }
            },
            "type": "scattercarpet"
           }
          ],
          "scattergeo": [
           {
            "marker": {
             "colorbar": {
              "outlinewidth": 0,
              "ticks": ""
             }
            },
            "type": "scattergeo"
           }
          ],
          "scattergl": [
           {
            "marker": {
             "colorbar": {
              "outlinewidth": 0,
              "ticks": ""
             }
            },
            "type": "scattergl"
           }
          ],
          "scattermapbox": [
           {
            "marker": {
             "colorbar": {
              "outlinewidth": 0,
              "ticks": ""
             }
            },
            "type": "scattermapbox"
           }
          ],
          "scatterpolar": [
           {
            "marker": {
             "colorbar": {
              "outlinewidth": 0,
              "ticks": ""
             }
            },
            "type": "scatterpolar"
           }
          ],
          "scatterpolargl": [
           {
            "marker": {
             "colorbar": {
              "outlinewidth": 0,
              "ticks": ""
             }
            },
            "type": "scatterpolargl"
           }
          ],
          "scatterternary": [
           {
            "marker": {
             "colorbar": {
              "outlinewidth": 0,
              "ticks": ""
             }
            },
            "type": "scatterternary"
           }
          ],
          "surface": [
           {
            "colorbar": {
             "outlinewidth": 0,
             "ticks": ""
            },
            "colorscale": [
             [
              0,
              "#0d0887"
             ],
             [
              0.1111111111111111,
              "#46039f"
             ],
             [
              0.2222222222222222,
              "#7201a8"
             ],
             [
              0.3333333333333333,
              "#9c179e"
             ],
             [
              0.4444444444444444,
              "#bd3786"
             ],
             [
              0.5555555555555556,
              "#d8576b"
             ],
             [
              0.6666666666666666,
              "#ed7953"
             ],
             [
              0.7777777777777778,
              "#fb9f3a"
             ],
             [
              0.8888888888888888,
              "#fdca26"
             ],
             [
              1,
              "#f0f921"
             ]
            ],
            "type": "surface"
           }
          ],
          "table": [
           {
            "cells": {
             "fill": {
              "color": "#EBF0F8"
             },
             "line": {
              "color": "white"
             }
            },
            "header": {
             "fill": {
              "color": "#C8D4E3"
             },
             "line": {
              "color": "white"
             }
            },
            "type": "table"
           }
          ]
         },
         "layout": {
          "annotationdefaults": {
           "arrowcolor": "#2a3f5f",
           "arrowhead": 0,
           "arrowwidth": 1
          },
          "autotypenumbers": "strict",
          "coloraxis": {
           "colorbar": {
            "outlinewidth": 0,
            "ticks": ""
           }
          },
          "colorscale": {
           "diverging": [
            [
             0,
             "#8e0152"
            ],
            [
             0.1,
             "#c51b7d"
            ],
            [
             0.2,
             "#de77ae"
            ],
            [
             0.3,
             "#f1b6da"
            ],
            [
             0.4,
             "#fde0ef"
            ],
            [
             0.5,
             "#f7f7f7"
            ],
            [
             0.6,
             "#e6f5d0"
            ],
            [
             0.7,
             "#b8e186"
            ],
            [
             0.8,
             "#7fbc41"
            ],
            [
             0.9,
             "#4d9221"
            ],
            [
             1,
             "#276419"
            ]
           ],
           "sequential": [
            [
             0,
             "#0d0887"
            ],
            [
             0.1111111111111111,
             "#46039f"
            ],
            [
             0.2222222222222222,
             "#7201a8"
            ],
            [
             0.3333333333333333,
             "#9c179e"
            ],
            [
             0.4444444444444444,
             "#bd3786"
            ],
            [
             0.5555555555555556,
             "#d8576b"
            ],
            [
             0.6666666666666666,
             "#ed7953"
            ],
            [
             0.7777777777777778,
             "#fb9f3a"
            ],
            [
             0.8888888888888888,
             "#fdca26"
            ],
            [
             1,
             "#f0f921"
            ]
           ],
           "sequentialminus": [
            [
             0,
             "#0d0887"
            ],
            [
             0.1111111111111111,
             "#46039f"
            ],
            [
             0.2222222222222222,
             "#7201a8"
            ],
            [
             0.3333333333333333,
             "#9c179e"
            ],
            [
             0.4444444444444444,
             "#bd3786"
            ],
            [
             0.5555555555555556,
             "#d8576b"
            ],
            [
             0.6666666666666666,
             "#ed7953"
            ],
            [
             0.7777777777777778,
             "#fb9f3a"
            ],
            [
             0.8888888888888888,
             "#fdca26"
            ],
            [
             1,
             "#f0f921"
            ]
           ]
          },
          "colorway": [
           "#636efa",
           "#EF553B",
           "#00cc96",
           "#ab63fa",
           "#FFA15A",
           "#19d3f3",
           "#FF6692",
           "#B6E880",
           "#FF97FF",
           "#FECB52"
          ],
          "font": {
           "color": "#2a3f5f"
          },
          "geo": {
           "bgcolor": "white",
           "lakecolor": "white",
           "landcolor": "#E5ECF6",
           "showlakes": true,
           "showland": true,
           "subunitcolor": "white"
          },
          "hoverlabel": {
           "align": "left"
          },
          "hovermode": "closest",
          "mapbox": {
           "style": "light"
          },
          "paper_bgcolor": "white",
          "plot_bgcolor": "#E5ECF6",
          "polar": {
           "angularaxis": {
            "gridcolor": "white",
            "linecolor": "white",
            "ticks": ""
           },
           "bgcolor": "#E5ECF6",
           "radialaxis": {
            "gridcolor": "white",
            "linecolor": "white",
            "ticks": ""
           }
          },
          "scene": {
           "xaxis": {
            "backgroundcolor": "#E5ECF6",
            "gridcolor": "white",
            "gridwidth": 2,
            "linecolor": "white",
            "showbackground": true,
            "ticks": "",
            "zerolinecolor": "white"
           },
           "yaxis": {
            "backgroundcolor": "#E5ECF6",
            "gridcolor": "white",
            "gridwidth": 2,
            "linecolor": "white",
            "showbackground": true,
            "ticks": "",
            "zerolinecolor": "white"
           },
           "zaxis": {
            "backgroundcolor": "#E5ECF6",
            "gridcolor": "white",
            "gridwidth": 2,
            "linecolor": "white",
            "showbackground": true,
            "ticks": "",
            "zerolinecolor": "white"
           }
          },
          "shapedefaults": {
           "line": {
            "color": "#2a3f5f"
           }
          },
          "ternary": {
           "aaxis": {
            "gridcolor": "white",
            "linecolor": "white",
            "ticks": ""
           },
           "baxis": {
            "gridcolor": "white",
            "linecolor": "white",
            "ticks": ""
           },
           "bgcolor": "#E5ECF6",
           "caxis": {
            "gridcolor": "white",
            "linecolor": "white",
            "ticks": ""
           }
          },
          "title": {
           "x": 0.05
          },
          "xaxis": {
           "automargin": true,
           "gridcolor": "white",
           "linecolor": "white",
           "ticks": "",
           "title": {
            "standoff": 15
           },
           "zerolinecolor": "white",
           "zerolinewidth": 2
          },
          "yaxis": {
           "automargin": true,
           "gridcolor": "white",
           "linecolor": "white",
           "ticks": "",
           "title": {
            "standoff": 15
           },
           "zerolinecolor": "white",
           "zerolinewidth": 2
          }
         }
        },
        "title": {
         "text": "Quantity - With Outliers"
        },
        "xaxis": {
         "anchor": "y",
         "domain": [
          0,
          1
         ],
         "title": {
          "text": "value"
         }
        },
        "xaxis2": {
         "anchor": "y2",
         "domain": [
          0,
          1
         ],
         "matches": "x",
         "showgrid": true,
         "showticklabels": false
        },
        "yaxis": {
         "anchor": "x",
         "domain": [
          0,
          0.7326
         ],
         "title": {
          "text": "count"
         }
        },
        "yaxis2": {
         "anchor": "x2",
         "domain": [
          0.7426,
          1
         ],
         "matches": "y2",
         "showgrid": false,
         "showline": false,
         "showticklabels": false,
         "ticks": ""
        }
       }
      },
      "text/html": [
       "<div>                            <div id=\"9a092c6e-c8f2-4b41-b15a-127cf86cba9e\" class=\"plotly-graph-div\" style=\"height:525px; width:100%;\"></div>            <script type=\"text/javascript\">                require([\"plotly\"], function(Plotly) {                    window.PLOTLYENV=window.PLOTLYENV || {};                                    if (document.getElementById(\"9a092c6e-c8f2-4b41-b15a-127cf86cba9e\")) {                    Plotly.newPlot(                        \"9a092c6e-c8f2-4b41-b15a-127cf86cba9e\",                        [{\"alignmentgroup\":\"True\",\"bingroup\":\"x\",\"hovertemplate\":\"variable=Quantity<br>value=%{x}<br>count=%{y}<extra></extra>\",\"legendgroup\":\"Quantity\",\"marker\":{\"color\":\"#636efa\",\"pattern\":{\"shape\":\"\"}},\"name\":\"Quantity\",\"offsetgroup\":\"Quantity\",\"orientation\":\"v\",\"showlegend\":true,\"x\":[6,3,48,12,12,-96,1,6,12,16,1,1,96,12,6,1,16,1,12,6,8,1,3,3,2,1,2,25,100,1,7,12,1,25,100,6,1,5,30,1,12,1,-13,1,24,3,6,10,1,12,2,2,12,2,1,4,1,1,3,1,1,3,2,2,2,3,1,10,1,24,24,4,1,10,3,3,1,3,12,1,1,24,2,24,12,2,36,1,24,1,2,8,200,32,36,2,12,3,9,6,1,10,10,25,12,8,-2,1,567,6,2,2,1,18,6,1,-12,6,1,1,12,6,3,2,2,1,1,16,25,12,20,20,6,2,26,10,5,1,12,3,160,3,1,12,2,2,2,75,2,6,3,40,2,1,8,1,2,2,2,1,3,2,12,3,12,12,-1,2,384,1,1,1,3,9,6,120,3,12,48,8,5,3,6,1,1,12,2,3,10,1,12,10,4,12,1,12,1,300,-26,48,2,1,2,1,24,2,24,50,1,12,1,7,36,6,10,10,2,1,6,1,12,2,24,8,6,1,1,2,2,12,6,12,6,2,16,2,1,1,2,2,1,2,10,1,2,6,1,20,4,3,6,1,-6,6,8,12,3,1,1,8,1,2,12,3,2,1,6,6,2,1,1,1,4,12,3,2,1,2,6,4,1,5,-1,2,1,2,12,36,1,24,2,6,4,4,1,6,4,12,12,28,12,200,6,48,2,1,-2,1,6,2,1,1,1,2,-160,-1,2,24,12,1,2,1,4,1,10,1,3,1,14,12,1,1,1,2,1,1,24,192,1,3,72,3,2,1,25,1,2,2,12,4,6,9,6,1,1,8,6,2,4,3,4,1,2,1,8,1,5,12,2,2,1,12,10,48,10,12,6,6,2,1,4,12,1,1,1,6,1,3,72,90,7,6,2,4,18,2,1,1,4,1,10,6,1,2,6,1,16,2,10,25,1,1,4,25,1,1,6,2,1,2,12,1,2,12,6,2,2,-3,192,10,4,3,2,1,1,2,12,-4,24,1,1,4,3,1,10,2,1,12,6,72,2,6,24,1,1,10,1,4,6,1,3,96,96,4,1,-1,12,1,2,1,2,24,12,12,144,12,12,12,-12,14,2,1,2,3,2,1,24,1,1,5,12,1,2,1,12,12,1,4,1,1,2,12,1,1,2,96,1,36,10,12,2,36,48,3,1,36,1,5,24,3,1,12,1,1,12,1,4,1,1,12,12,1,1,1,72,2,1,24,6,1,3,12,2,6,4,2,2,24,6,2,24,1,3,-2,2,48,3,4,12,6,4,8,12,3,2,1,2,12,2,1,12,1,2,2,4,2,12,1,5,24,2,12,1,100,1,24,6,7,6,1,1,5,8,1,96,12,4,40,1,8,24,8,2,16,12,2,16,1,12,1,1,1,1,24,12,6,3,1,48,12,60,1,72,5,6,2,2,12,3,6,2,3,4,1,1,24,48,24,12,1,1,3,24,12,12,2,1,4,10,12,6,2,-1,10,8,3,12,16,1,4,1,1,4,1,2,12,12,7,25,6,2,10,1,6,6,12,1,96,4,3,4,16,2,1,1,2,1,48,42,2,12,24,3,1,3,-1,2,2,1,10,1,1,1,1,1,6,1,4,12,2,20,1,6,25,80,3,1,1,3,1,8,1,1,12,64,1,10,1,2,12,1,5,24,12,2,4,2,12,12,24,3,144,1,7,-1,72,1,6,1,3,4,12,18,2,24,6,1,6,1,8,48,3,2,6,48,6,1,6,12,12,1,2,12,6,1,12,1,2,12,1,2,6,6,20,144,20,1,1,1,3,1,4,2,12,24,6,1,1,3,12,6,2,1,4,12,4,10,12,24,4,25,1,2,8,1,3,1,1,1,3,4,3,1,1,120,10,4,5,12,1,1,3,2,1,30,1,1,1,8,1,32,1,1,1,12,1,12,3,2,1,2,1,96,-10,6,8,6,2,2,24,1,2,6,48,25,8,2,10,7,5,1,24,4,12,5,3,3,4,16,12,8,10,12,1,3,3,6,1,1,25,5,2,2,5,6,1,20,4,1,2,2,1,8,1,3,1,24,6,6,2,2,1,4,2,3,12,12,4,12,2,2,1,1,4,100,2,72,12,6,2,24,1,5,1,6,16,288,1,2,24,6,2,-1,1,6,20,2,4,3,1,24,2,3,6,12,6,100,1,10,1,2,6,1,1,3,10,6,4,2,2,2,12,30,1,12,10,2,12,1,8,48,2,4,1,6,1,6,1,4,12,2,3,1,1,4,5,1,1,8,1],\"xaxis\":\"x\",\"yaxis\":\"y\",\"type\":\"histogram\"},{\"alignmentgroup\":\"True\",\"hovertemplate\":\"variable=Quantity<br>value=%{x}<extra></extra>\",\"legendgroup\":\"Quantity\",\"marker\":{\"color\":\"#636efa\"},\"name\":\"Quantity\",\"notched\":true,\"offsetgroup\":\"Quantity\",\"showlegend\":false,\"x\":[6,3,48,12,12,-96,1,6,12,16,1,1,96,12,6,1,16,1,12,6,8,1,3,3,2,1,2,25,100,1,7,12,1,25,100,6,1,5,30,1,12,1,-13,1,24,3,6,10,1,12,2,2,12,2,1,4,1,1,3,1,1,3,2,2,2,3,1,10,1,24,24,4,1,10,3,3,1,3,12,1,1,24,2,24,12,2,36,1,24,1,2,8,200,32,36,2,12,3,9,6,1,10,10,25,12,8,-2,1,567,6,2,2,1,18,6,1,-12,6,1,1,12,6,3,2,2,1,1,16,25,12,20,20,6,2,26,10,5,1,12,3,160,3,1,12,2,2,2,75,2,6,3,40,2,1,8,1,2,2,2,1,3,2,12,3,12,12,-1,2,384,1,1,1,3,9,6,120,3,12,48,8,5,3,6,1,1,12,2,3,10,1,12,10,4,12,1,12,1,300,-26,48,2,1,2,1,24,2,24,50,1,12,1,7,36,6,10,10,2,1,6,1,12,2,24,8,6,1,1,2,2,12,6,12,6,2,16,2,1,1,2,2,1,2,10,1,2,6,1,20,4,3,6,1,-6,6,8,12,3,1,1,8,1,2,12,3,2,1,6,6,2,1,1,1,4,12,3,2,1,2,6,4,1,5,-1,2,1,2,12,36,1,24,2,6,4,4,1,6,4,12,12,28,12,200,6,48,2,1,-2,1,6,2,1,1,1,2,-160,-1,2,24,12,1,2,1,4,1,10,1,3,1,14,12,1,1,1,2,1,1,24,192,1,3,72,3,2,1,25,1,2,2,12,4,6,9,6,1,1,8,6,2,4,3,4,1,2,1,8,1,5,12,2,2,1,12,10,48,10,12,6,6,2,1,4,12,1,1,1,6,1,3,72,90,7,6,2,4,18,2,1,1,4,1,10,6,1,2,6,1,16,2,10,25,1,1,4,25,1,1,6,2,1,2,12,1,2,12,6,2,2,-3,192,10,4,3,2,1,1,2,12,-4,24,1,1,4,3,1,10,2,1,12,6,72,2,6,24,1,1,10,1,4,6,1,3,96,96,4,1,-1,12,1,2,1,2,24,12,12,144,12,12,12,-12,14,2,1,2,3,2,1,24,1,1,5,12,1,2,1,12,12,1,4,1,1,2,12,1,1,2,96,1,36,10,12,2,36,48,3,1,36,1,5,24,3,1,12,1,1,12,1,4,1,1,12,12,1,1,1,72,2,1,24,6,1,3,12,2,6,4,2,2,24,6,2,24,1,3,-2,2,48,3,4,12,6,4,8,12,3,2,1,2,12,2,1,12,1,2,2,4,2,12,1,5,24,2,12,1,100,1,24,6,7,6,1,1,5,8,1,96,12,4,40,1,8,24,8,2,16,12,2,16,1,12,1,1,1,1,24,12,6,3,1,48,12,60,1,72,5,6,2,2,12,3,6,2,3,4,1,1,24,48,24,12,1,1,3,24,12,12,2,1,4,10,12,6,2,-1,10,8,3,12,16,1,4,1,1,4,1,2,12,12,7,25,6,2,10,1,6,6,12,1,96,4,3,4,16,2,1,1,2,1,48,42,2,12,24,3,1,3,-1,2,2,1,10,1,1,1,1,1,6,1,4,12,2,20,1,6,25,80,3,1,1,3,1,8,1,1,12,64,1,10,1,2,12,1,5,24,12,2,4,2,12,12,24,3,144,1,7,-1,72,1,6,1,3,4,12,18,2,24,6,1,6,1,8,48,3,2,6,48,6,1,6,12,12,1,2,12,6,1,12,1,2,12,1,2,6,6,20,144,20,1,1,1,3,1,4,2,12,24,6,1,1,3,12,6,2,1,4,12,4,10,12,24,4,25,1,2,8,1,3,1,1,1,3,4,3,1,1,120,10,4,5,12,1,1,3,2,1,30,1,1,1,8,1,32,1,1,1,12,1,12,3,2,1,2,1,96,-10,6,8,6,2,2,24,1,2,6,48,25,8,2,10,7,5,1,24,4,12,5,3,3,4,16,12,8,10,12,1,3,3,6,1,1,25,5,2,2,5,6,1,20,4,1,2,2,1,8,1,3,1,24,6,6,2,2,1,4,2,3,12,12,4,12,2,2,1,1,4,100,2,72,12,6,2,24,1,5,1,6,16,288,1,2,24,6,2,-1,1,6,20,2,4,3,1,24,2,3,6,12,6,100,1,10,1,2,6,1,1,3,10,6,4,2,2,2,12,30,1,12,10,2,12,1,8,48,2,4,1,6,1,6,1,4,12,2,3,1,1,4,5,1,1,8,1],\"xaxis\":\"x2\",\"yaxis\":\"y2\",\"type\":\"box\"}],                        {\"template\":{\"data\":{\"histogram2dcontour\":[{\"type\":\"histogram2dcontour\",\"colorbar\":{\"outlinewidth\":0,\"ticks\":\"\"},\"colorscale\":[[0.0,\"#0d0887\"],[0.1111111111111111,\"#46039f\"],[0.2222222222222222,\"#7201a8\"],[0.3333333333333333,\"#9c179e\"],[0.4444444444444444,\"#bd3786\"],[0.5555555555555556,\"#d8576b\"],[0.6666666666666666,\"#ed7953\"],[0.7777777777777778,\"#fb9f3a\"],[0.8888888888888888,\"#fdca26\"],[1.0,\"#f0f921\"]]}],\"choropleth\":[{\"type\":\"choropleth\",\"colorbar\":{\"outlinewidth\":0,\"ticks\":\"\"}}],\"histogram2d\":[{\"type\":\"histogram2d\",\"colorbar\":{\"outlinewidth\":0,\"ticks\":\"\"},\"colorscale\":[[0.0,\"#0d0887\"],[0.1111111111111111,\"#46039f\"],[0.2222222222222222,\"#7201a8\"],[0.3333333333333333,\"#9c179e\"],[0.4444444444444444,\"#bd3786\"],[0.5555555555555556,\"#d8576b\"],[0.6666666666666666,\"#ed7953\"],[0.7777777777777778,\"#fb9f3a\"],[0.8888888888888888,\"#fdca26\"],[1.0,\"#f0f921\"]]}],\"heatmap\":[{\"type\":\"heatmap\",\"colorbar\":{\"outlinewidth\":0,\"ticks\":\"\"},\"colorscale\":[[0.0,\"#0d0887\"],[0.1111111111111111,\"#46039f\"],[0.2222222222222222,\"#7201a8\"],[0.3333333333333333,\"#9c179e\"],[0.4444444444444444,\"#bd3786\"],[0.5555555555555556,\"#d8576b\"],[0.6666666666666666,\"#ed7953\"],[0.7777777777777778,\"#fb9f3a\"],[0.8888888888888888,\"#fdca26\"],[1.0,\"#f0f921\"]]}],\"heatmapgl\":[{\"type\":\"heatmapgl\",\"colorbar\":{\"outlinewidth\":0,\"ticks\":\"\"},\"colorscale\":[[0.0,\"#0d0887\"],[0.1111111111111111,\"#46039f\"],[0.2222222222222222,\"#7201a8\"],[0.3333333333333333,\"#9c179e\"],[0.4444444444444444,\"#bd3786\"],[0.5555555555555556,\"#d8576b\"],[0.6666666666666666,\"#ed7953\"],[0.7777777777777778,\"#fb9f3a\"],[0.8888888888888888,\"#fdca26\"],[1.0,\"#f0f921\"]]}],\"contourcarpet\":[{\"type\":\"contourcarpet\",\"colorbar\":{\"outlinewidth\":0,\"ticks\":\"\"}}],\"contour\":[{\"type\":\"contour\",\"colorbar\":{\"outlinewidth\":0,\"ticks\":\"\"},\"colorscale\":[[0.0,\"#0d0887\"],[0.1111111111111111,\"#46039f\"],[0.2222222222222222,\"#7201a8\"],[0.3333333333333333,\"#9c179e\"],[0.4444444444444444,\"#bd3786\"],[0.5555555555555556,\"#d8576b\"],[0.6666666666666666,\"#ed7953\"],[0.7777777777777778,\"#fb9f3a\"],[0.8888888888888888,\"#fdca26\"],[1.0,\"#f0f921\"]]}],\"surface\":[{\"type\":\"surface\",\"colorbar\":{\"outlinewidth\":0,\"ticks\":\"\"},\"colorscale\":[[0.0,\"#0d0887\"],[0.1111111111111111,\"#46039f\"],[0.2222222222222222,\"#7201a8\"],[0.3333333333333333,\"#9c179e\"],[0.4444444444444444,\"#bd3786\"],[0.5555555555555556,\"#d8576b\"],[0.6666666666666666,\"#ed7953\"],[0.7777777777777778,\"#fb9f3a\"],[0.8888888888888888,\"#fdca26\"],[1.0,\"#f0f921\"]]}],\"mesh3d\":[{\"type\":\"mesh3d\",\"colorbar\":{\"outlinewidth\":0,\"ticks\":\"\"}}],\"scatter\":[{\"fillpattern\":{\"fillmode\":\"overlay\",\"size\":10,\"solidity\":0.2},\"type\":\"scatter\"}],\"parcoords\":[{\"type\":\"parcoords\",\"line\":{\"colorbar\":{\"outlinewidth\":0,\"ticks\":\"\"}}}],\"scatterpolargl\":[{\"type\":\"scatterpolargl\",\"marker\":{\"colorbar\":{\"outlinewidth\":0,\"ticks\":\"\"}}}],\"bar\":[{\"error_x\":{\"color\":\"#2a3f5f\"},\"error_y\":{\"color\":\"#2a3f5f\"},\"marker\":{\"line\":{\"color\":\"#E5ECF6\",\"width\":0.5},\"pattern\":{\"fillmode\":\"overlay\",\"size\":10,\"solidity\":0.2}},\"type\":\"bar\"}],\"scattergeo\":[{\"type\":\"scattergeo\",\"marker\":{\"colorbar\":{\"outlinewidth\":0,\"ticks\":\"\"}}}],\"scatterpolar\":[{\"type\":\"scatterpolar\",\"marker\":{\"colorbar\":{\"outlinewidth\":0,\"ticks\":\"\"}}}],\"histogram\":[{\"marker\":{\"pattern\":{\"fillmode\":\"overlay\",\"size\":10,\"solidity\":0.2}},\"type\":\"histogram\"}],\"scattergl\":[{\"type\":\"scattergl\",\"marker\":{\"colorbar\":{\"outlinewidth\":0,\"ticks\":\"\"}}}],\"scatter3d\":[{\"type\":\"scatter3d\",\"line\":{\"colorbar\":{\"outlinewidth\":0,\"ticks\":\"\"}},\"marker\":{\"colorbar\":{\"outlinewidth\":0,\"ticks\":\"\"}}}],\"scattermapbox\":[{\"type\":\"scattermapbox\",\"marker\":{\"colorbar\":{\"outlinewidth\":0,\"ticks\":\"\"}}}],\"scatterternary\":[{\"type\":\"scatterternary\",\"marker\":{\"colorbar\":{\"outlinewidth\":0,\"ticks\":\"\"}}}],\"scattercarpet\":[{\"type\":\"scattercarpet\",\"marker\":{\"colorbar\":{\"outlinewidth\":0,\"ticks\":\"\"}}}],\"carpet\":[{\"aaxis\":{\"endlinecolor\":\"#2a3f5f\",\"gridcolor\":\"white\",\"linecolor\":\"white\",\"minorgridcolor\":\"white\",\"startlinecolor\":\"#2a3f5f\"},\"baxis\":{\"endlinecolor\":\"#2a3f5f\",\"gridcolor\":\"white\",\"linecolor\":\"white\",\"minorgridcolor\":\"white\",\"startlinecolor\":\"#2a3f5f\"},\"type\":\"carpet\"}],\"table\":[{\"cells\":{\"fill\":{\"color\":\"#EBF0F8\"},\"line\":{\"color\":\"white\"}},\"header\":{\"fill\":{\"color\":\"#C8D4E3\"},\"line\":{\"color\":\"white\"}},\"type\":\"table\"}],\"barpolar\":[{\"marker\":{\"line\":{\"color\":\"#E5ECF6\",\"width\":0.5},\"pattern\":{\"fillmode\":\"overlay\",\"size\":10,\"solidity\":0.2}},\"type\":\"barpolar\"}],\"pie\":[{\"automargin\":true,\"type\":\"pie\"}]},\"layout\":{\"autotypenumbers\":\"strict\",\"colorway\":[\"#636efa\",\"#EF553B\",\"#00cc96\",\"#ab63fa\",\"#FFA15A\",\"#19d3f3\",\"#FF6692\",\"#B6E880\",\"#FF97FF\",\"#FECB52\"],\"font\":{\"color\":\"#2a3f5f\"},\"hovermode\":\"closest\",\"hoverlabel\":{\"align\":\"left\"},\"paper_bgcolor\":\"white\",\"plot_bgcolor\":\"#E5ECF6\",\"polar\":{\"bgcolor\":\"#E5ECF6\",\"angularaxis\":{\"gridcolor\":\"white\",\"linecolor\":\"white\",\"ticks\":\"\"},\"radialaxis\":{\"gridcolor\":\"white\",\"linecolor\":\"white\",\"ticks\":\"\"}},\"ternary\":{\"bgcolor\":\"#E5ECF6\",\"aaxis\":{\"gridcolor\":\"white\",\"linecolor\":\"white\",\"ticks\":\"\"},\"baxis\":{\"gridcolor\":\"white\",\"linecolor\":\"white\",\"ticks\":\"\"},\"caxis\":{\"gridcolor\":\"white\",\"linecolor\":\"white\",\"ticks\":\"\"}},\"coloraxis\":{\"colorbar\":{\"outlinewidth\":0,\"ticks\":\"\"}},\"colorscale\":{\"sequential\":[[0.0,\"#0d0887\"],[0.1111111111111111,\"#46039f\"],[0.2222222222222222,\"#7201a8\"],[0.3333333333333333,\"#9c179e\"],[0.4444444444444444,\"#bd3786\"],[0.5555555555555556,\"#d8576b\"],[0.6666666666666666,\"#ed7953\"],[0.7777777777777778,\"#fb9f3a\"],[0.8888888888888888,\"#fdca26\"],[1.0,\"#f0f921\"]],\"sequentialminus\":[[0.0,\"#0d0887\"],[0.1111111111111111,\"#46039f\"],[0.2222222222222222,\"#7201a8\"],[0.3333333333333333,\"#9c179e\"],[0.4444444444444444,\"#bd3786\"],[0.5555555555555556,\"#d8576b\"],[0.6666666666666666,\"#ed7953\"],[0.7777777777777778,\"#fb9f3a\"],[0.8888888888888888,\"#fdca26\"],[1.0,\"#f0f921\"]],\"diverging\":[[0,\"#8e0152\"],[0.1,\"#c51b7d\"],[0.2,\"#de77ae\"],[0.3,\"#f1b6da\"],[0.4,\"#fde0ef\"],[0.5,\"#f7f7f7\"],[0.6,\"#e6f5d0\"],[0.7,\"#b8e186\"],[0.8,\"#7fbc41\"],[0.9,\"#4d9221\"],[1,\"#276419\"]]},\"xaxis\":{\"gridcolor\":\"white\",\"linecolor\":\"white\",\"ticks\":\"\",\"title\":{\"standoff\":15},\"zerolinecolor\":\"white\",\"automargin\":true,\"zerolinewidth\":2},\"yaxis\":{\"gridcolor\":\"white\",\"linecolor\":\"white\",\"ticks\":\"\",\"title\":{\"standoff\":15},\"zerolinecolor\":\"white\",\"automargin\":true,\"zerolinewidth\":2},\"scene\":{\"xaxis\":{\"backgroundcolor\":\"#E5ECF6\",\"gridcolor\":\"white\",\"linecolor\":\"white\",\"showbackground\":true,\"ticks\":\"\",\"zerolinecolor\":\"white\",\"gridwidth\":2},\"yaxis\":{\"backgroundcolor\":\"#E5ECF6\",\"gridcolor\":\"white\",\"linecolor\":\"white\",\"showbackground\":true,\"ticks\":\"\",\"zerolinecolor\":\"white\",\"gridwidth\":2},\"zaxis\":{\"backgroundcolor\":\"#E5ECF6\",\"gridcolor\":\"white\",\"linecolor\":\"white\",\"showbackground\":true,\"ticks\":\"\",\"zerolinecolor\":\"white\",\"gridwidth\":2}},\"shapedefaults\":{\"line\":{\"color\":\"#2a3f5f\"}},\"annotationdefaults\":{\"arrowcolor\":\"#2a3f5f\",\"arrowhead\":0,\"arrowwidth\":1},\"geo\":{\"bgcolor\":\"white\",\"landcolor\":\"#E5ECF6\",\"subunitcolor\":\"white\",\"showland\":true,\"showlakes\":true,\"lakecolor\":\"white\"},\"title\":{\"x\":0.05},\"mapbox\":{\"style\":\"light\"}}},\"xaxis\":{\"anchor\":\"y\",\"domain\":[0.0,1.0],\"title\":{\"text\":\"value\"}},\"yaxis\":{\"anchor\":\"x\",\"domain\":[0.0,0.7326],\"title\":{\"text\":\"count\"}},\"xaxis2\":{\"anchor\":\"y2\",\"domain\":[0.0,1.0],\"matches\":\"x\",\"showticklabels\":false,\"showgrid\":true},\"yaxis2\":{\"anchor\":\"x2\",\"domain\":[0.7426,1.0],\"matches\":\"y2\",\"showticklabels\":false,\"showline\":false,\"ticks\":\"\",\"showgrid\":false},\"legend\":{\"title\":{\"text\":\"variable\"},\"tracegroupgap\":0},\"title\":{\"text\":\"Quantity - With Outliers\"},\"barmode\":\"relative\"},                        {\"responsive\": true}                    ).then(function(){\n",
       "                            \n",
       "var gd = document.getElementById('9a092c6e-c8f2-4b41-b15a-127cf86cba9e');\n",
       "var x = new MutationObserver(function (mutations, observer) {{\n",
       "        var display = window.getComputedStyle(gd).display;\n",
       "        if (!display || display === 'none') {{\n",
       "            console.log([gd, 'removed!']);\n",
       "            Plotly.purge(gd);\n",
       "            observer.disconnect();\n",
       "        }}\n",
       "}});\n",
       "\n",
       "// Listen for the removal of the full notebook cells\n",
       "var notebookContainer = gd.closest('#notebook-container');\n",
       "if (notebookContainer) {{\n",
       "    x.observe(notebookContainer, {childList: true});\n",
       "}}\n",
       "\n",
       "// Listen for the clearing of the current output cell\n",
       "var outputEl = gd.closest('.output');\n",
       "if (outputEl) {{\n",
       "    x.observe(outputEl, {childList: true});\n",
       "}}\n",
       "\n",
       "                        })                };                });            </script>        </div>"
      ]
     },
     "metadata": {},
     "output_type": "display_data"
    },
    {
     "data": {
      "application/vnd.plotly.v1+json": {
       "config": {
        "plotlyServerURL": "https://plot.ly"
       },
       "data": [
        {
         "alignmentgroup": "True",
         "bingroup": "x",
         "hovertemplate": "variable=Quantity<br>value=%{x}<br>count=%{y}<extra></extra>",
         "legendgroup": "Quantity",
         "marker": {
          "color": "#636efa",
          "pattern": {
           "shape": ""
          }
         },
         "name": "Quantity",
         "offsetgroup": "Quantity",
         "orientation": "v",
         "showlegend": true,
         "type": "histogram",
         "x": [
          6,
          3,
          48,
          12,
          12,
          1,
          6,
          12,
          16,
          1,
          1,
          96,
          12,
          6,
          1,
          16,
          1,
          12,
          6,
          8,
          1,
          3,
          3,
          2,
          1,
          2,
          25,
          100,
          1,
          7,
          12,
          1,
          25,
          100,
          6,
          1,
          5,
          30,
          1,
          12,
          1,
          -13,
          1,
          24,
          3,
          6,
          10,
          1,
          12,
          2,
          2,
          12,
          2,
          1,
          4,
          1,
          1,
          3,
          1,
          1,
          3,
          2,
          2,
          2,
          3,
          1,
          10,
          1,
          24,
          24,
          4,
          1,
          10,
          3,
          3,
          1,
          3,
          12,
          1,
          1,
          24,
          2,
          24,
          12,
          2,
          36,
          1,
          24,
          1,
          2,
          8,
          32,
          36,
          2,
          12,
          3,
          9,
          6,
          1,
          10,
          10,
          25,
          12,
          8,
          -2,
          1,
          6,
          2,
          2,
          1,
          18,
          6,
          1,
          -12,
          6,
          1,
          1,
          12,
          6,
          3,
          2,
          2,
          1,
          1,
          16,
          25,
          12,
          20,
          20,
          6,
          2,
          26,
          10,
          5,
          1,
          12,
          3,
          3,
          1,
          12,
          2,
          2,
          2,
          75,
          2,
          6,
          3,
          40,
          2,
          1,
          8,
          1,
          2,
          2,
          2,
          1,
          3,
          2,
          12,
          3,
          12,
          12,
          -1,
          2,
          1,
          1,
          1,
          3,
          9,
          6,
          3,
          12,
          48,
          8,
          5,
          3,
          6,
          1,
          1,
          12,
          2,
          3,
          10,
          1,
          12,
          10,
          4,
          12,
          1,
          12,
          1,
          -26,
          48,
          2,
          1,
          2,
          1,
          24,
          2,
          24,
          50,
          1,
          12,
          1,
          7,
          36,
          6,
          10,
          10,
          2,
          1,
          6,
          1,
          12,
          2,
          24,
          8,
          6,
          1,
          1,
          2,
          2,
          12,
          6,
          12,
          6,
          2,
          16,
          2,
          1,
          1,
          2,
          2,
          1,
          2,
          10,
          1,
          2,
          6,
          1,
          20,
          4,
          3,
          6,
          1,
          -6,
          6,
          8,
          12,
          3,
          1,
          1,
          8,
          1,
          2,
          12,
          3,
          2,
          1,
          6,
          6,
          2,
          1,
          1,
          1,
          4,
          12,
          3,
          2,
          1,
          2,
          6,
          4,
          1,
          5,
          -1,
          2,
          1,
          2,
          12,
          36,
          1,
          24,
          2,
          6,
          4,
          4,
          1,
          6,
          4,
          12,
          12,
          28,
          12,
          6,
          48,
          2,
          1,
          -2,
          1,
          6,
          2,
          1,
          1,
          1,
          2,
          -1,
          2,
          24,
          12,
          1,
          2,
          1,
          4,
          1,
          10,
          1,
          3,
          1,
          14,
          12,
          1,
          1,
          1,
          2,
          1,
          1,
          24,
          1,
          3,
          72,
          3,
          2,
          1,
          25,
          1,
          2,
          2,
          12,
          4,
          6,
          9,
          6,
          1,
          1,
          8,
          6,
          2,
          4,
          3,
          4,
          1,
          2,
          1,
          8,
          1,
          5,
          12,
          2,
          2,
          1,
          12,
          10,
          48,
          10,
          12,
          6,
          6,
          2,
          1,
          4,
          12,
          1,
          1,
          1,
          6,
          1,
          3,
          72,
          90,
          7,
          6,
          2,
          4,
          18,
          2,
          1,
          1,
          4,
          1,
          10,
          6,
          1,
          2,
          6,
          1,
          16,
          2,
          10,
          25,
          1,
          1,
          4,
          25,
          1,
          1,
          6,
          2,
          1,
          2,
          12,
          1,
          2,
          12,
          6,
          2,
          2,
          -3,
          10,
          4,
          3,
          2,
          1,
          1,
          2,
          12,
          -4,
          24,
          1,
          1,
          4,
          3,
          1,
          10,
          2,
          1,
          12,
          6,
          72,
          2,
          6,
          24,
          1,
          1,
          10,
          1,
          4,
          6,
          1,
          3,
          96,
          96,
          4,
          1,
          -1,
          12,
          1,
          2,
          1,
          2,
          24,
          12,
          12,
          12,
          12,
          12,
          -12,
          14,
          2,
          1,
          2,
          3,
          2,
          1,
          24,
          1,
          1,
          5,
          12,
          1,
          2,
          1,
          12,
          12,
          1,
          4,
          1,
          1,
          2,
          12,
          1,
          1,
          2,
          96,
          1,
          36,
          10,
          12,
          2,
          36,
          48,
          3,
          1,
          36,
          1,
          5,
          24,
          3,
          1,
          12,
          1,
          1,
          12,
          1,
          4,
          1,
          1,
          12,
          12,
          1,
          1,
          1,
          72,
          2,
          1,
          24,
          6,
          1,
          3,
          12,
          2,
          6,
          4,
          2,
          2,
          24,
          6,
          2,
          24,
          1,
          3,
          -2,
          2,
          48,
          3,
          4,
          12,
          6,
          4,
          8,
          12,
          3,
          2,
          1,
          2,
          12,
          2,
          1,
          12,
          1,
          2,
          2,
          4,
          2,
          12,
          1,
          5,
          24,
          2,
          12,
          1,
          100,
          1,
          24,
          6,
          7,
          6,
          1,
          1,
          5,
          8,
          1,
          96,
          12,
          4,
          40,
          1,
          8,
          24,
          8,
          2,
          16,
          12,
          2,
          16,
          1,
          12,
          1,
          1,
          1,
          1,
          24,
          12,
          6,
          3,
          1,
          48,
          12,
          60,
          1,
          72,
          5,
          6,
          2,
          2,
          12,
          3,
          6,
          2,
          3,
          4,
          1,
          1,
          24,
          48,
          24,
          12,
          1,
          1,
          3,
          24,
          12,
          12,
          2,
          1,
          4,
          10,
          12,
          6,
          2,
          -1,
          10,
          8,
          3,
          12,
          16,
          1,
          4,
          1,
          1,
          4,
          1,
          2,
          12,
          12,
          7,
          25,
          6,
          2,
          10,
          1,
          6,
          6,
          12,
          1,
          96,
          4,
          3,
          4,
          16,
          2,
          1,
          1,
          2,
          1,
          48,
          42,
          2,
          12,
          24,
          3,
          1,
          3,
          -1,
          2,
          2,
          1,
          10,
          1,
          1,
          1,
          1,
          1,
          6,
          1,
          4,
          12,
          2,
          20,
          1,
          6,
          25,
          80,
          3,
          1,
          1,
          3,
          1,
          8,
          1,
          1,
          12,
          64,
          1,
          10,
          1,
          2,
          12,
          1,
          5,
          24,
          12,
          2,
          4,
          2,
          12,
          12,
          24,
          3,
          1,
          7,
          -1,
          72,
          1,
          6,
          1,
          3,
          4,
          12,
          18,
          2,
          24,
          6,
          1,
          6,
          1,
          8,
          48,
          3,
          2,
          6,
          48,
          6,
          1,
          6,
          12,
          12,
          1,
          2,
          12,
          6,
          1,
          12,
          1,
          2,
          12,
          1,
          2,
          6,
          6,
          20,
          20,
          1,
          1,
          1,
          3,
          1,
          4,
          2,
          12,
          24,
          6,
          1,
          1,
          3,
          12,
          6,
          2,
          1,
          4,
          12,
          4,
          10,
          12,
          24,
          4,
          25,
          1,
          2,
          8,
          1,
          3,
          1,
          1,
          1,
          3,
          4,
          3,
          1,
          1,
          10,
          4,
          5,
          12,
          1,
          1,
          3,
          2,
          1,
          30,
          1,
          1,
          1,
          8,
          1,
          32,
          1,
          1,
          1,
          12,
          1,
          12,
          3,
          2,
          1,
          2,
          1,
          96,
          -10,
          6,
          8,
          6,
          2,
          2,
          24,
          1,
          2,
          6,
          48,
          25,
          8,
          2,
          10,
          7,
          5,
          1,
          24,
          4,
          12,
          5,
          3,
          3,
          4,
          16,
          12,
          8,
          10,
          12,
          1,
          3,
          3,
          6,
          1,
          1,
          25,
          5,
          2,
          2,
          5,
          6,
          1,
          20,
          4,
          1,
          2,
          2,
          1,
          8,
          1,
          3,
          1,
          24,
          6,
          6,
          2,
          2,
          1,
          4,
          2,
          3,
          12,
          12,
          4,
          12,
          2,
          2,
          1,
          1,
          4,
          100,
          2,
          72,
          12,
          6,
          2,
          24,
          1,
          5,
          1,
          6,
          16,
          1,
          2,
          24,
          6,
          2,
          -1,
          1,
          6,
          20,
          2,
          4,
          3,
          1,
          24,
          2,
          3,
          6,
          12,
          6,
          100,
          1,
          10,
          1,
          2,
          6,
          1,
          1,
          3,
          10,
          6,
          4,
          2,
          2,
          2,
          12,
          30,
          1,
          12,
          10,
          2,
          12,
          1,
          8,
          48,
          2,
          4,
          1,
          6,
          1,
          6,
          1,
          4,
          12,
          2,
          3,
          1,
          1,
          4,
          5,
          1,
          1,
          8,
          1
         ],
         "xaxis": "x",
         "yaxis": "y"
        },
        {
         "alignmentgroup": "True",
         "hovertemplate": "variable=Quantity<br>value=%{x}<extra></extra>",
         "legendgroup": "Quantity",
         "marker": {
          "color": "#636efa"
         },
         "name": "Quantity",
         "notched": true,
         "offsetgroup": "Quantity",
         "showlegend": false,
         "type": "box",
         "x": [
          6,
          3,
          48,
          12,
          12,
          1,
          6,
          12,
          16,
          1,
          1,
          96,
          12,
          6,
          1,
          16,
          1,
          12,
          6,
          8,
          1,
          3,
          3,
          2,
          1,
          2,
          25,
          100,
          1,
          7,
          12,
          1,
          25,
          100,
          6,
          1,
          5,
          30,
          1,
          12,
          1,
          -13,
          1,
          24,
          3,
          6,
          10,
          1,
          12,
          2,
          2,
          12,
          2,
          1,
          4,
          1,
          1,
          3,
          1,
          1,
          3,
          2,
          2,
          2,
          3,
          1,
          10,
          1,
          24,
          24,
          4,
          1,
          10,
          3,
          3,
          1,
          3,
          12,
          1,
          1,
          24,
          2,
          24,
          12,
          2,
          36,
          1,
          24,
          1,
          2,
          8,
          32,
          36,
          2,
          12,
          3,
          9,
          6,
          1,
          10,
          10,
          25,
          12,
          8,
          -2,
          1,
          6,
          2,
          2,
          1,
          18,
          6,
          1,
          -12,
          6,
          1,
          1,
          12,
          6,
          3,
          2,
          2,
          1,
          1,
          16,
          25,
          12,
          20,
          20,
          6,
          2,
          26,
          10,
          5,
          1,
          12,
          3,
          3,
          1,
          12,
          2,
          2,
          2,
          75,
          2,
          6,
          3,
          40,
          2,
          1,
          8,
          1,
          2,
          2,
          2,
          1,
          3,
          2,
          12,
          3,
          12,
          12,
          -1,
          2,
          1,
          1,
          1,
          3,
          9,
          6,
          3,
          12,
          48,
          8,
          5,
          3,
          6,
          1,
          1,
          12,
          2,
          3,
          10,
          1,
          12,
          10,
          4,
          12,
          1,
          12,
          1,
          -26,
          48,
          2,
          1,
          2,
          1,
          24,
          2,
          24,
          50,
          1,
          12,
          1,
          7,
          36,
          6,
          10,
          10,
          2,
          1,
          6,
          1,
          12,
          2,
          24,
          8,
          6,
          1,
          1,
          2,
          2,
          12,
          6,
          12,
          6,
          2,
          16,
          2,
          1,
          1,
          2,
          2,
          1,
          2,
          10,
          1,
          2,
          6,
          1,
          20,
          4,
          3,
          6,
          1,
          -6,
          6,
          8,
          12,
          3,
          1,
          1,
          8,
          1,
          2,
          12,
          3,
          2,
          1,
          6,
          6,
          2,
          1,
          1,
          1,
          4,
          12,
          3,
          2,
          1,
          2,
          6,
          4,
          1,
          5,
          -1,
          2,
          1,
          2,
          12,
          36,
          1,
          24,
          2,
          6,
          4,
          4,
          1,
          6,
          4,
          12,
          12,
          28,
          12,
          6,
          48,
          2,
          1,
          -2,
          1,
          6,
          2,
          1,
          1,
          1,
          2,
          -1,
          2,
          24,
          12,
          1,
          2,
          1,
          4,
          1,
          10,
          1,
          3,
          1,
          14,
          12,
          1,
          1,
          1,
          2,
          1,
          1,
          24,
          1,
          3,
          72,
          3,
          2,
          1,
          25,
          1,
          2,
          2,
          12,
          4,
          6,
          9,
          6,
          1,
          1,
          8,
          6,
          2,
          4,
          3,
          4,
          1,
          2,
          1,
          8,
          1,
          5,
          12,
          2,
          2,
          1,
          12,
          10,
          48,
          10,
          12,
          6,
          6,
          2,
          1,
          4,
          12,
          1,
          1,
          1,
          6,
          1,
          3,
          72,
          90,
          7,
          6,
          2,
          4,
          18,
          2,
          1,
          1,
          4,
          1,
          10,
          6,
          1,
          2,
          6,
          1,
          16,
          2,
          10,
          25,
          1,
          1,
          4,
          25,
          1,
          1,
          6,
          2,
          1,
          2,
          12,
          1,
          2,
          12,
          6,
          2,
          2,
          -3,
          10,
          4,
          3,
          2,
          1,
          1,
          2,
          12,
          -4,
          24,
          1,
          1,
          4,
          3,
          1,
          10,
          2,
          1,
          12,
          6,
          72,
          2,
          6,
          24,
          1,
          1,
          10,
          1,
          4,
          6,
          1,
          3,
          96,
          96,
          4,
          1,
          -1,
          12,
          1,
          2,
          1,
          2,
          24,
          12,
          12,
          12,
          12,
          12,
          -12,
          14,
          2,
          1,
          2,
          3,
          2,
          1,
          24,
          1,
          1,
          5,
          12,
          1,
          2,
          1,
          12,
          12,
          1,
          4,
          1,
          1,
          2,
          12,
          1,
          1,
          2,
          96,
          1,
          36,
          10,
          12,
          2,
          36,
          48,
          3,
          1,
          36,
          1,
          5,
          24,
          3,
          1,
          12,
          1,
          1,
          12,
          1,
          4,
          1,
          1,
          12,
          12,
          1,
          1,
          1,
          72,
          2,
          1,
          24,
          6,
          1,
          3,
          12,
          2,
          6,
          4,
          2,
          2,
          24,
          6,
          2,
          24,
          1,
          3,
          -2,
          2,
          48,
          3,
          4,
          12,
          6,
          4,
          8,
          12,
          3,
          2,
          1,
          2,
          12,
          2,
          1,
          12,
          1,
          2,
          2,
          4,
          2,
          12,
          1,
          5,
          24,
          2,
          12,
          1,
          100,
          1,
          24,
          6,
          7,
          6,
          1,
          1,
          5,
          8,
          1,
          96,
          12,
          4,
          40,
          1,
          8,
          24,
          8,
          2,
          16,
          12,
          2,
          16,
          1,
          12,
          1,
          1,
          1,
          1,
          24,
          12,
          6,
          3,
          1,
          48,
          12,
          60,
          1,
          72,
          5,
          6,
          2,
          2,
          12,
          3,
          6,
          2,
          3,
          4,
          1,
          1,
          24,
          48,
          24,
          12,
          1,
          1,
          3,
          24,
          12,
          12,
          2,
          1,
          4,
          10,
          12,
          6,
          2,
          -1,
          10,
          8,
          3,
          12,
          16,
          1,
          4,
          1,
          1,
          4,
          1,
          2,
          12,
          12,
          7,
          25,
          6,
          2,
          10,
          1,
          6,
          6,
          12,
          1,
          96,
          4,
          3,
          4,
          16,
          2,
          1,
          1,
          2,
          1,
          48,
          42,
          2,
          12,
          24,
          3,
          1,
          3,
          -1,
          2,
          2,
          1,
          10,
          1,
          1,
          1,
          1,
          1,
          6,
          1,
          4,
          12,
          2,
          20,
          1,
          6,
          25,
          80,
          3,
          1,
          1,
          3,
          1,
          8,
          1,
          1,
          12,
          64,
          1,
          10,
          1,
          2,
          12,
          1,
          5,
          24,
          12,
          2,
          4,
          2,
          12,
          12,
          24,
          3,
          1,
          7,
          -1,
          72,
          1,
          6,
          1,
          3,
          4,
          12,
          18,
          2,
          24,
          6,
          1,
          6,
          1,
          8,
          48,
          3,
          2,
          6,
          48,
          6,
          1,
          6,
          12,
          12,
          1,
          2,
          12,
          6,
          1,
          12,
          1,
          2,
          12,
          1,
          2,
          6,
          6,
          20,
          20,
          1,
          1,
          1,
          3,
          1,
          4,
          2,
          12,
          24,
          6,
          1,
          1,
          3,
          12,
          6,
          2,
          1,
          4,
          12,
          4,
          10,
          12,
          24,
          4,
          25,
          1,
          2,
          8,
          1,
          3,
          1,
          1,
          1,
          3,
          4,
          3,
          1,
          1,
          10,
          4,
          5,
          12,
          1,
          1,
          3,
          2,
          1,
          30,
          1,
          1,
          1,
          8,
          1,
          32,
          1,
          1,
          1,
          12,
          1,
          12,
          3,
          2,
          1,
          2,
          1,
          96,
          -10,
          6,
          8,
          6,
          2,
          2,
          24,
          1,
          2,
          6,
          48,
          25,
          8,
          2,
          10,
          7,
          5,
          1,
          24,
          4,
          12,
          5,
          3,
          3,
          4,
          16,
          12,
          8,
          10,
          12,
          1,
          3,
          3,
          6,
          1,
          1,
          25,
          5,
          2,
          2,
          5,
          6,
          1,
          20,
          4,
          1,
          2,
          2,
          1,
          8,
          1,
          3,
          1,
          24,
          6,
          6,
          2,
          2,
          1,
          4,
          2,
          3,
          12,
          12,
          4,
          12,
          2,
          2,
          1,
          1,
          4,
          100,
          2,
          72,
          12,
          6,
          2,
          24,
          1,
          5,
          1,
          6,
          16,
          1,
          2,
          24,
          6,
          2,
          -1,
          1,
          6,
          20,
          2,
          4,
          3,
          1,
          24,
          2,
          3,
          6,
          12,
          6,
          100,
          1,
          10,
          1,
          2,
          6,
          1,
          1,
          3,
          10,
          6,
          4,
          2,
          2,
          2,
          12,
          30,
          1,
          12,
          10,
          2,
          12,
          1,
          8,
          48,
          2,
          4,
          1,
          6,
          1,
          6,
          1,
          4,
          12,
          2,
          3,
          1,
          1,
          4,
          5,
          1,
          1,
          8,
          1
         ],
         "xaxis": "x2",
         "yaxis": "y2"
        }
       ],
       "layout": {
        "barmode": "relative",
        "legend": {
         "title": {
          "text": "variable"
         },
         "tracegroupgap": 0
        },
        "template": {
         "data": {
          "bar": [
           {
            "error_x": {
             "color": "#2a3f5f"
            },
            "error_y": {
             "color": "#2a3f5f"
            },
            "marker": {
             "line": {
              "color": "#E5ECF6",
              "width": 0.5
             },
             "pattern": {
              "fillmode": "overlay",
              "size": 10,
              "solidity": 0.2
             }
            },
            "type": "bar"
           }
          ],
          "barpolar": [
           {
            "marker": {
             "line": {
              "color": "#E5ECF6",
              "width": 0.5
             },
             "pattern": {
              "fillmode": "overlay",
              "size": 10,
              "solidity": 0.2
             }
            },
            "type": "barpolar"
           }
          ],
          "carpet": [
           {
            "aaxis": {
             "endlinecolor": "#2a3f5f",
             "gridcolor": "white",
             "linecolor": "white",
             "minorgridcolor": "white",
             "startlinecolor": "#2a3f5f"
            },
            "baxis": {
             "endlinecolor": "#2a3f5f",
             "gridcolor": "white",
             "linecolor": "white",
             "minorgridcolor": "white",
             "startlinecolor": "#2a3f5f"
            },
            "type": "carpet"
           }
          ],
          "choropleth": [
           {
            "colorbar": {
             "outlinewidth": 0,
             "ticks": ""
            },
            "type": "choropleth"
           }
          ],
          "contour": [
           {
            "colorbar": {
             "outlinewidth": 0,
             "ticks": ""
            },
            "colorscale": [
             [
              0,
              "#0d0887"
             ],
             [
              0.1111111111111111,
              "#46039f"
             ],
             [
              0.2222222222222222,
              "#7201a8"
             ],
             [
              0.3333333333333333,
              "#9c179e"
             ],
             [
              0.4444444444444444,
              "#bd3786"
             ],
             [
              0.5555555555555556,
              "#d8576b"
             ],
             [
              0.6666666666666666,
              "#ed7953"
             ],
             [
              0.7777777777777778,
              "#fb9f3a"
             ],
             [
              0.8888888888888888,
              "#fdca26"
             ],
             [
              1,
              "#f0f921"
             ]
            ],
            "type": "contour"
           }
          ],
          "contourcarpet": [
           {
            "colorbar": {
             "outlinewidth": 0,
             "ticks": ""
            },
            "type": "contourcarpet"
           }
          ],
          "heatmap": [
           {
            "colorbar": {
             "outlinewidth": 0,
             "ticks": ""
            },
            "colorscale": [
             [
              0,
              "#0d0887"
             ],
             [
              0.1111111111111111,
              "#46039f"
             ],
             [
              0.2222222222222222,
              "#7201a8"
             ],
             [
              0.3333333333333333,
              "#9c179e"
             ],
             [
              0.4444444444444444,
              "#bd3786"
             ],
             [
              0.5555555555555556,
              "#d8576b"
             ],
             [
              0.6666666666666666,
              "#ed7953"
             ],
             [
              0.7777777777777778,
              "#fb9f3a"
             ],
             [
              0.8888888888888888,
              "#fdca26"
             ],
             [
              1,
              "#f0f921"
             ]
            ],
            "type": "heatmap"
           }
          ],
          "heatmapgl": [
           {
            "colorbar": {
             "outlinewidth": 0,
             "ticks": ""
            },
            "colorscale": [
             [
              0,
              "#0d0887"
             ],
             [
              0.1111111111111111,
              "#46039f"
             ],
             [
              0.2222222222222222,
              "#7201a8"
             ],
             [
              0.3333333333333333,
              "#9c179e"
             ],
             [
              0.4444444444444444,
              "#bd3786"
             ],
             [
              0.5555555555555556,
              "#d8576b"
             ],
             [
              0.6666666666666666,
              "#ed7953"
             ],
             [
              0.7777777777777778,
              "#fb9f3a"
             ],
             [
              0.8888888888888888,
              "#fdca26"
             ],
             [
              1,
              "#f0f921"
             ]
            ],
            "type": "heatmapgl"
           }
          ],
          "histogram": [
           {
            "marker": {
             "pattern": {
              "fillmode": "overlay",
              "size": 10,
              "solidity": 0.2
             }
            },
            "type": "histogram"
           }
          ],
          "histogram2d": [
           {
            "colorbar": {
             "outlinewidth": 0,
             "ticks": ""
            },
            "colorscale": [
             [
              0,
              "#0d0887"
             ],
             [
              0.1111111111111111,
              "#46039f"
             ],
             [
              0.2222222222222222,
              "#7201a8"
             ],
             [
              0.3333333333333333,
              "#9c179e"
             ],
             [
              0.4444444444444444,
              "#bd3786"
             ],
             [
              0.5555555555555556,
              "#d8576b"
             ],
             [
              0.6666666666666666,
              "#ed7953"
             ],
             [
              0.7777777777777778,
              "#fb9f3a"
             ],
             [
              0.8888888888888888,
              "#fdca26"
             ],
             [
              1,
              "#f0f921"
             ]
            ],
            "type": "histogram2d"
           }
          ],
          "histogram2dcontour": [
           {
            "colorbar": {
             "outlinewidth": 0,
             "ticks": ""
            },
            "colorscale": [
             [
              0,
              "#0d0887"
             ],
             [
              0.1111111111111111,
              "#46039f"
             ],
             [
              0.2222222222222222,
              "#7201a8"
             ],
             [
              0.3333333333333333,
              "#9c179e"
             ],
             [
              0.4444444444444444,
              "#bd3786"
             ],
             [
              0.5555555555555556,
              "#d8576b"
             ],
             [
              0.6666666666666666,
              "#ed7953"
             ],
             [
              0.7777777777777778,
              "#fb9f3a"
             ],
             [
              0.8888888888888888,
              "#fdca26"
             ],
             [
              1,
              "#f0f921"
             ]
            ],
            "type": "histogram2dcontour"
           }
          ],
          "mesh3d": [
           {
            "colorbar": {
             "outlinewidth": 0,
             "ticks": ""
            },
            "type": "mesh3d"
           }
          ],
          "parcoords": [
           {
            "line": {
             "colorbar": {
              "outlinewidth": 0,
              "ticks": ""
             }
            },
            "type": "parcoords"
           }
          ],
          "pie": [
           {
            "automargin": true,
            "type": "pie"
           }
          ],
          "scatter": [
           {
            "fillpattern": {
             "fillmode": "overlay",
             "size": 10,
             "solidity": 0.2
            },
            "type": "scatter"
           }
          ],
          "scatter3d": [
           {
            "line": {
             "colorbar": {
              "outlinewidth": 0,
              "ticks": ""
             }
            },
            "marker": {
             "colorbar": {
              "outlinewidth": 0,
              "ticks": ""
             }
            },
            "type": "scatter3d"
           }
          ],
          "scattercarpet": [
           {
            "marker": {
             "colorbar": {
              "outlinewidth": 0,
              "ticks": ""
             }
            },
            "type": "scattercarpet"
           }
          ],
          "scattergeo": [
           {
            "marker": {
             "colorbar": {
              "outlinewidth": 0,
              "ticks": ""
             }
            },
            "type": "scattergeo"
           }
          ],
          "scattergl": [
           {
            "marker": {
             "colorbar": {
              "outlinewidth": 0,
              "ticks": ""
             }
            },
            "type": "scattergl"
           }
          ],
          "scattermapbox": [
           {
            "marker": {
             "colorbar": {
              "outlinewidth": 0,
              "ticks": ""
             }
            },
            "type": "scattermapbox"
           }
          ],
          "scatterpolar": [
           {
            "marker": {
             "colorbar": {
              "outlinewidth": 0,
              "ticks": ""
             }
            },
            "type": "scatterpolar"
           }
          ],
          "scatterpolargl": [
           {
            "marker": {
             "colorbar": {
              "outlinewidth": 0,
              "ticks": ""
             }
            },
            "type": "scatterpolargl"
           }
          ],
          "scatterternary": [
           {
            "marker": {
             "colorbar": {
              "outlinewidth": 0,
              "ticks": ""
             }
            },
            "type": "scatterternary"
           }
          ],
          "surface": [
           {
            "colorbar": {
             "outlinewidth": 0,
             "ticks": ""
            },
            "colorscale": [
             [
              0,
              "#0d0887"
             ],
             [
              0.1111111111111111,
              "#46039f"
             ],
             [
              0.2222222222222222,
              "#7201a8"
             ],
             [
              0.3333333333333333,
              "#9c179e"
             ],
             [
              0.4444444444444444,
              "#bd3786"
             ],
             [
              0.5555555555555556,
              "#d8576b"
             ],
             [
              0.6666666666666666,
              "#ed7953"
             ],
             [
              0.7777777777777778,
              "#fb9f3a"
             ],
             [
              0.8888888888888888,
              "#fdca26"
             ],
             [
              1,
              "#f0f921"
             ]
            ],
            "type": "surface"
           }
          ],
          "table": [
           {
            "cells": {
             "fill": {
              "color": "#EBF0F8"
             },
             "line": {
              "color": "white"
             }
            },
            "header": {
             "fill": {
              "color": "#C8D4E3"
             },
             "line": {
              "color": "white"
             }
            },
            "type": "table"
           }
          ]
         },
         "layout": {
          "annotationdefaults": {
           "arrowcolor": "#2a3f5f",
           "arrowhead": 0,
           "arrowwidth": 1
          },
          "autotypenumbers": "strict",
          "coloraxis": {
           "colorbar": {
            "outlinewidth": 0,
            "ticks": ""
           }
          },
          "colorscale": {
           "diverging": [
            [
             0,
             "#8e0152"
            ],
            [
             0.1,
             "#c51b7d"
            ],
            [
             0.2,
             "#de77ae"
            ],
            [
             0.3,
             "#f1b6da"
            ],
            [
             0.4,
             "#fde0ef"
            ],
            [
             0.5,
             "#f7f7f7"
            ],
            [
             0.6,
             "#e6f5d0"
            ],
            [
             0.7,
             "#b8e186"
            ],
            [
             0.8,
             "#7fbc41"
            ],
            [
             0.9,
             "#4d9221"
            ],
            [
             1,
             "#276419"
            ]
           ],
           "sequential": [
            [
             0,
             "#0d0887"
            ],
            [
             0.1111111111111111,
             "#46039f"
            ],
            [
             0.2222222222222222,
             "#7201a8"
            ],
            [
             0.3333333333333333,
             "#9c179e"
            ],
            [
             0.4444444444444444,
             "#bd3786"
            ],
            [
             0.5555555555555556,
             "#d8576b"
            ],
            [
             0.6666666666666666,
             "#ed7953"
            ],
            [
             0.7777777777777778,
             "#fb9f3a"
            ],
            [
             0.8888888888888888,
             "#fdca26"
            ],
            [
             1,
             "#f0f921"
            ]
           ],
           "sequentialminus": [
            [
             0,
             "#0d0887"
            ],
            [
             0.1111111111111111,
             "#46039f"
            ],
            [
             0.2222222222222222,
             "#7201a8"
            ],
            [
             0.3333333333333333,
             "#9c179e"
            ],
            [
             0.4444444444444444,
             "#bd3786"
            ],
            [
             0.5555555555555556,
             "#d8576b"
            ],
            [
             0.6666666666666666,
             "#ed7953"
            ],
            [
             0.7777777777777778,
             "#fb9f3a"
            ],
            [
             0.8888888888888888,
             "#fdca26"
            ],
            [
             1,
             "#f0f921"
            ]
           ]
          },
          "colorway": [
           "#636efa",
           "#EF553B",
           "#00cc96",
           "#ab63fa",
           "#FFA15A",
           "#19d3f3",
           "#FF6692",
           "#B6E880",
           "#FF97FF",
           "#FECB52"
          ],
          "font": {
           "color": "#2a3f5f"
          },
          "geo": {
           "bgcolor": "white",
           "lakecolor": "white",
           "landcolor": "#E5ECF6",
           "showlakes": true,
           "showland": true,
           "subunitcolor": "white"
          },
          "hoverlabel": {
           "align": "left"
          },
          "hovermode": "closest",
          "mapbox": {
           "style": "light"
          },
          "paper_bgcolor": "white",
          "plot_bgcolor": "#E5ECF6",
          "polar": {
           "angularaxis": {
            "gridcolor": "white",
            "linecolor": "white",
            "ticks": ""
           },
           "bgcolor": "#E5ECF6",
           "radialaxis": {
            "gridcolor": "white",
            "linecolor": "white",
            "ticks": ""
           }
          },
          "scene": {
           "xaxis": {
            "backgroundcolor": "#E5ECF6",
            "gridcolor": "white",
            "gridwidth": 2,
            "linecolor": "white",
            "showbackground": true,
            "ticks": "",
            "zerolinecolor": "white"
           },
           "yaxis": {
            "backgroundcolor": "#E5ECF6",
            "gridcolor": "white",
            "gridwidth": 2,
            "linecolor": "white",
            "showbackground": true,
            "ticks": "",
            "zerolinecolor": "white"
           },
           "zaxis": {
            "backgroundcolor": "#E5ECF6",
            "gridcolor": "white",
            "gridwidth": 2,
            "linecolor": "white",
            "showbackground": true,
            "ticks": "",
            "zerolinecolor": "white"
           }
          },
          "shapedefaults": {
           "line": {
            "color": "#2a3f5f"
           }
          },
          "ternary": {
           "aaxis": {
            "gridcolor": "white",
            "linecolor": "white",
            "ticks": ""
           },
           "baxis": {
            "gridcolor": "white",
            "linecolor": "white",
            "ticks": ""
           },
           "bgcolor": "#E5ECF6",
           "caxis": {
            "gridcolor": "white",
            "linecolor": "white",
            "ticks": ""
           }
          },
          "title": {
           "x": 0.05
          },
          "xaxis": {
           "automargin": true,
           "gridcolor": "white",
           "linecolor": "white",
           "ticks": "",
           "title": {
            "standoff": 15
           },
           "zerolinecolor": "white",
           "zerolinewidth": 2
          },
          "yaxis": {
           "automargin": true,
           "gridcolor": "white",
           "linecolor": "white",
           "ticks": "",
           "title": {
            "standoff": 15
           },
           "zerolinecolor": "white",
           "zerolinewidth": 2
          }
         }
        },
        "title": {
         "text": "Quantity - Without Outliers"
        },
        "xaxis": {
         "anchor": "y",
         "domain": [
          0,
          1
         ],
         "title": {
          "text": "value"
         }
        },
        "xaxis2": {
         "anchor": "y2",
         "domain": [
          0,
          1
         ],
         "matches": "x",
         "showgrid": true,
         "showticklabels": false
        },
        "yaxis": {
         "anchor": "x",
         "domain": [
          0,
          0.7326
         ],
         "title": {
          "text": "count"
         }
        },
        "yaxis2": {
         "anchor": "x2",
         "domain": [
          0.7426,
          1
         ],
         "matches": "y2",
         "showgrid": false,
         "showline": false,
         "showticklabels": false,
         "ticks": ""
        }
       }
      },
      "text/html": [
       "<div>                            <div id=\"b37bcc7f-3caa-49a9-a1b8-1898e919759c\" class=\"plotly-graph-div\" style=\"height:525px; width:100%;\"></div>            <script type=\"text/javascript\">                require([\"plotly\"], function(Plotly) {                    window.PLOTLYENV=window.PLOTLYENV || {};                                    if (document.getElementById(\"b37bcc7f-3caa-49a9-a1b8-1898e919759c\")) {                    Plotly.newPlot(                        \"b37bcc7f-3caa-49a9-a1b8-1898e919759c\",                        [{\"alignmentgroup\":\"True\",\"bingroup\":\"x\",\"hovertemplate\":\"variable=Quantity<br>value=%{x}<br>count=%{y}<extra></extra>\",\"legendgroup\":\"Quantity\",\"marker\":{\"color\":\"#636efa\",\"pattern\":{\"shape\":\"\"}},\"name\":\"Quantity\",\"offsetgroup\":\"Quantity\",\"orientation\":\"v\",\"showlegend\":true,\"x\":[6,3,48,12,12,1,6,12,16,1,1,96,12,6,1,16,1,12,6,8,1,3,3,2,1,2,25,100,1,7,12,1,25,100,6,1,5,30,1,12,1,-13,1,24,3,6,10,1,12,2,2,12,2,1,4,1,1,3,1,1,3,2,2,2,3,1,10,1,24,24,4,1,10,3,3,1,3,12,1,1,24,2,24,12,2,36,1,24,1,2,8,32,36,2,12,3,9,6,1,10,10,25,12,8,-2,1,6,2,2,1,18,6,1,-12,6,1,1,12,6,3,2,2,1,1,16,25,12,20,20,6,2,26,10,5,1,12,3,3,1,12,2,2,2,75,2,6,3,40,2,1,8,1,2,2,2,1,3,2,12,3,12,12,-1,2,1,1,1,3,9,6,3,12,48,8,5,3,6,1,1,12,2,3,10,1,12,10,4,12,1,12,1,-26,48,2,1,2,1,24,2,24,50,1,12,1,7,36,6,10,10,2,1,6,1,12,2,24,8,6,1,1,2,2,12,6,12,6,2,16,2,1,1,2,2,1,2,10,1,2,6,1,20,4,3,6,1,-6,6,8,12,3,1,1,8,1,2,12,3,2,1,6,6,2,1,1,1,4,12,3,2,1,2,6,4,1,5,-1,2,1,2,12,36,1,24,2,6,4,4,1,6,4,12,12,28,12,6,48,2,1,-2,1,6,2,1,1,1,2,-1,2,24,12,1,2,1,4,1,10,1,3,1,14,12,1,1,1,2,1,1,24,1,3,72,3,2,1,25,1,2,2,12,4,6,9,6,1,1,8,6,2,4,3,4,1,2,1,8,1,5,12,2,2,1,12,10,48,10,12,6,6,2,1,4,12,1,1,1,6,1,3,72,90,7,6,2,4,18,2,1,1,4,1,10,6,1,2,6,1,16,2,10,25,1,1,4,25,1,1,6,2,1,2,12,1,2,12,6,2,2,-3,10,4,3,2,1,1,2,12,-4,24,1,1,4,3,1,10,2,1,12,6,72,2,6,24,1,1,10,1,4,6,1,3,96,96,4,1,-1,12,1,2,1,2,24,12,12,12,12,12,-12,14,2,1,2,3,2,1,24,1,1,5,12,1,2,1,12,12,1,4,1,1,2,12,1,1,2,96,1,36,10,12,2,36,48,3,1,36,1,5,24,3,1,12,1,1,12,1,4,1,1,12,12,1,1,1,72,2,1,24,6,1,3,12,2,6,4,2,2,24,6,2,24,1,3,-2,2,48,3,4,12,6,4,8,12,3,2,1,2,12,2,1,12,1,2,2,4,2,12,1,5,24,2,12,1,100,1,24,6,7,6,1,1,5,8,1,96,12,4,40,1,8,24,8,2,16,12,2,16,1,12,1,1,1,1,24,12,6,3,1,48,12,60,1,72,5,6,2,2,12,3,6,2,3,4,1,1,24,48,24,12,1,1,3,24,12,12,2,1,4,10,12,6,2,-1,10,8,3,12,16,1,4,1,1,4,1,2,12,12,7,25,6,2,10,1,6,6,12,1,96,4,3,4,16,2,1,1,2,1,48,42,2,12,24,3,1,3,-1,2,2,1,10,1,1,1,1,1,6,1,4,12,2,20,1,6,25,80,3,1,1,3,1,8,1,1,12,64,1,10,1,2,12,1,5,24,12,2,4,2,12,12,24,3,1,7,-1,72,1,6,1,3,4,12,18,2,24,6,1,6,1,8,48,3,2,6,48,6,1,6,12,12,1,2,12,6,1,12,1,2,12,1,2,6,6,20,20,1,1,1,3,1,4,2,12,24,6,1,1,3,12,6,2,1,4,12,4,10,12,24,4,25,1,2,8,1,3,1,1,1,3,4,3,1,1,10,4,5,12,1,1,3,2,1,30,1,1,1,8,1,32,1,1,1,12,1,12,3,2,1,2,1,96,-10,6,8,6,2,2,24,1,2,6,48,25,8,2,10,7,5,1,24,4,12,5,3,3,4,16,12,8,10,12,1,3,3,6,1,1,25,5,2,2,5,6,1,20,4,1,2,2,1,8,1,3,1,24,6,6,2,2,1,4,2,3,12,12,4,12,2,2,1,1,4,100,2,72,12,6,2,24,1,5,1,6,16,1,2,24,6,2,-1,1,6,20,2,4,3,1,24,2,3,6,12,6,100,1,10,1,2,6,1,1,3,10,6,4,2,2,2,12,30,1,12,10,2,12,1,8,48,2,4,1,6,1,6,1,4,12,2,3,1,1,4,5,1,1,8,1],\"xaxis\":\"x\",\"yaxis\":\"y\",\"type\":\"histogram\"},{\"alignmentgroup\":\"True\",\"hovertemplate\":\"variable=Quantity<br>value=%{x}<extra></extra>\",\"legendgroup\":\"Quantity\",\"marker\":{\"color\":\"#636efa\"},\"name\":\"Quantity\",\"notched\":true,\"offsetgroup\":\"Quantity\",\"showlegend\":false,\"x\":[6,3,48,12,12,1,6,12,16,1,1,96,12,6,1,16,1,12,6,8,1,3,3,2,1,2,25,100,1,7,12,1,25,100,6,1,5,30,1,12,1,-13,1,24,3,6,10,1,12,2,2,12,2,1,4,1,1,3,1,1,3,2,2,2,3,1,10,1,24,24,4,1,10,3,3,1,3,12,1,1,24,2,24,12,2,36,1,24,1,2,8,32,36,2,12,3,9,6,1,10,10,25,12,8,-2,1,6,2,2,1,18,6,1,-12,6,1,1,12,6,3,2,2,1,1,16,25,12,20,20,6,2,26,10,5,1,12,3,3,1,12,2,2,2,75,2,6,3,40,2,1,8,1,2,2,2,1,3,2,12,3,12,12,-1,2,1,1,1,3,9,6,3,12,48,8,5,3,6,1,1,12,2,3,10,1,12,10,4,12,1,12,1,-26,48,2,1,2,1,24,2,24,50,1,12,1,7,36,6,10,10,2,1,6,1,12,2,24,8,6,1,1,2,2,12,6,12,6,2,16,2,1,1,2,2,1,2,10,1,2,6,1,20,4,3,6,1,-6,6,8,12,3,1,1,8,1,2,12,3,2,1,6,6,2,1,1,1,4,12,3,2,1,2,6,4,1,5,-1,2,1,2,12,36,1,24,2,6,4,4,1,6,4,12,12,28,12,6,48,2,1,-2,1,6,2,1,1,1,2,-1,2,24,12,1,2,1,4,1,10,1,3,1,14,12,1,1,1,2,1,1,24,1,3,72,3,2,1,25,1,2,2,12,4,6,9,6,1,1,8,6,2,4,3,4,1,2,1,8,1,5,12,2,2,1,12,10,48,10,12,6,6,2,1,4,12,1,1,1,6,1,3,72,90,7,6,2,4,18,2,1,1,4,1,10,6,1,2,6,1,16,2,10,25,1,1,4,25,1,1,6,2,1,2,12,1,2,12,6,2,2,-3,10,4,3,2,1,1,2,12,-4,24,1,1,4,3,1,10,2,1,12,6,72,2,6,24,1,1,10,1,4,6,1,3,96,96,4,1,-1,12,1,2,1,2,24,12,12,12,12,12,-12,14,2,1,2,3,2,1,24,1,1,5,12,1,2,1,12,12,1,4,1,1,2,12,1,1,2,96,1,36,10,12,2,36,48,3,1,36,1,5,24,3,1,12,1,1,12,1,4,1,1,12,12,1,1,1,72,2,1,24,6,1,3,12,2,6,4,2,2,24,6,2,24,1,3,-2,2,48,3,4,12,6,4,8,12,3,2,1,2,12,2,1,12,1,2,2,4,2,12,1,5,24,2,12,1,100,1,24,6,7,6,1,1,5,8,1,96,12,4,40,1,8,24,8,2,16,12,2,16,1,12,1,1,1,1,24,12,6,3,1,48,12,60,1,72,5,6,2,2,12,3,6,2,3,4,1,1,24,48,24,12,1,1,3,24,12,12,2,1,4,10,12,6,2,-1,10,8,3,12,16,1,4,1,1,4,1,2,12,12,7,25,6,2,10,1,6,6,12,1,96,4,3,4,16,2,1,1,2,1,48,42,2,12,24,3,1,3,-1,2,2,1,10,1,1,1,1,1,6,1,4,12,2,20,1,6,25,80,3,1,1,3,1,8,1,1,12,64,1,10,1,2,12,1,5,24,12,2,4,2,12,12,24,3,1,7,-1,72,1,6,1,3,4,12,18,2,24,6,1,6,1,8,48,3,2,6,48,6,1,6,12,12,1,2,12,6,1,12,1,2,12,1,2,6,6,20,20,1,1,1,3,1,4,2,12,24,6,1,1,3,12,6,2,1,4,12,4,10,12,24,4,25,1,2,8,1,3,1,1,1,3,4,3,1,1,10,4,5,12,1,1,3,2,1,30,1,1,1,8,1,32,1,1,1,12,1,12,3,2,1,2,1,96,-10,6,8,6,2,2,24,1,2,6,48,25,8,2,10,7,5,1,24,4,12,5,3,3,4,16,12,8,10,12,1,3,3,6,1,1,25,5,2,2,5,6,1,20,4,1,2,2,1,8,1,3,1,24,6,6,2,2,1,4,2,3,12,12,4,12,2,2,1,1,4,100,2,72,12,6,2,24,1,5,1,6,16,1,2,24,6,2,-1,1,6,20,2,4,3,1,24,2,3,6,12,6,100,1,10,1,2,6,1,1,3,10,6,4,2,2,2,12,30,1,12,10,2,12,1,8,48,2,4,1,6,1,6,1,4,12,2,3,1,1,4,5,1,1,8,1],\"xaxis\":\"x2\",\"yaxis\":\"y2\",\"type\":\"box\"}],                        {\"template\":{\"data\":{\"histogram2dcontour\":[{\"type\":\"histogram2dcontour\",\"colorbar\":{\"outlinewidth\":0,\"ticks\":\"\"},\"colorscale\":[[0.0,\"#0d0887\"],[0.1111111111111111,\"#46039f\"],[0.2222222222222222,\"#7201a8\"],[0.3333333333333333,\"#9c179e\"],[0.4444444444444444,\"#bd3786\"],[0.5555555555555556,\"#d8576b\"],[0.6666666666666666,\"#ed7953\"],[0.7777777777777778,\"#fb9f3a\"],[0.8888888888888888,\"#fdca26\"],[1.0,\"#f0f921\"]]}],\"choropleth\":[{\"type\":\"choropleth\",\"colorbar\":{\"outlinewidth\":0,\"ticks\":\"\"}}],\"histogram2d\":[{\"type\":\"histogram2d\",\"colorbar\":{\"outlinewidth\":0,\"ticks\":\"\"},\"colorscale\":[[0.0,\"#0d0887\"],[0.1111111111111111,\"#46039f\"],[0.2222222222222222,\"#7201a8\"],[0.3333333333333333,\"#9c179e\"],[0.4444444444444444,\"#bd3786\"],[0.5555555555555556,\"#d8576b\"],[0.6666666666666666,\"#ed7953\"],[0.7777777777777778,\"#fb9f3a\"],[0.8888888888888888,\"#fdca26\"],[1.0,\"#f0f921\"]]}],\"heatmap\":[{\"type\":\"heatmap\",\"colorbar\":{\"outlinewidth\":0,\"ticks\":\"\"},\"colorscale\":[[0.0,\"#0d0887\"],[0.1111111111111111,\"#46039f\"],[0.2222222222222222,\"#7201a8\"],[0.3333333333333333,\"#9c179e\"],[0.4444444444444444,\"#bd3786\"],[0.5555555555555556,\"#d8576b\"],[0.6666666666666666,\"#ed7953\"],[0.7777777777777778,\"#fb9f3a\"],[0.8888888888888888,\"#fdca26\"],[1.0,\"#f0f921\"]]}],\"heatmapgl\":[{\"type\":\"heatmapgl\",\"colorbar\":{\"outlinewidth\":0,\"ticks\":\"\"},\"colorscale\":[[0.0,\"#0d0887\"],[0.1111111111111111,\"#46039f\"],[0.2222222222222222,\"#7201a8\"],[0.3333333333333333,\"#9c179e\"],[0.4444444444444444,\"#bd3786\"],[0.5555555555555556,\"#d8576b\"],[0.6666666666666666,\"#ed7953\"],[0.7777777777777778,\"#fb9f3a\"],[0.8888888888888888,\"#fdca26\"],[1.0,\"#f0f921\"]]}],\"contourcarpet\":[{\"type\":\"contourcarpet\",\"colorbar\":{\"outlinewidth\":0,\"ticks\":\"\"}}],\"contour\":[{\"type\":\"contour\",\"colorbar\":{\"outlinewidth\":0,\"ticks\":\"\"},\"colorscale\":[[0.0,\"#0d0887\"],[0.1111111111111111,\"#46039f\"],[0.2222222222222222,\"#7201a8\"],[0.3333333333333333,\"#9c179e\"],[0.4444444444444444,\"#bd3786\"],[0.5555555555555556,\"#d8576b\"],[0.6666666666666666,\"#ed7953\"],[0.7777777777777778,\"#fb9f3a\"],[0.8888888888888888,\"#fdca26\"],[1.0,\"#f0f921\"]]}],\"surface\":[{\"type\":\"surface\",\"colorbar\":{\"outlinewidth\":0,\"ticks\":\"\"},\"colorscale\":[[0.0,\"#0d0887\"],[0.1111111111111111,\"#46039f\"],[0.2222222222222222,\"#7201a8\"],[0.3333333333333333,\"#9c179e\"],[0.4444444444444444,\"#bd3786\"],[0.5555555555555556,\"#d8576b\"],[0.6666666666666666,\"#ed7953\"],[0.7777777777777778,\"#fb9f3a\"],[0.8888888888888888,\"#fdca26\"],[1.0,\"#f0f921\"]]}],\"mesh3d\":[{\"type\":\"mesh3d\",\"colorbar\":{\"outlinewidth\":0,\"ticks\":\"\"}}],\"scatter\":[{\"fillpattern\":{\"fillmode\":\"overlay\",\"size\":10,\"solidity\":0.2},\"type\":\"scatter\"}],\"parcoords\":[{\"type\":\"parcoords\",\"line\":{\"colorbar\":{\"outlinewidth\":0,\"ticks\":\"\"}}}],\"scatterpolargl\":[{\"type\":\"scatterpolargl\",\"marker\":{\"colorbar\":{\"outlinewidth\":0,\"ticks\":\"\"}}}],\"bar\":[{\"error_x\":{\"color\":\"#2a3f5f\"},\"error_y\":{\"color\":\"#2a3f5f\"},\"marker\":{\"line\":{\"color\":\"#E5ECF6\",\"width\":0.5},\"pattern\":{\"fillmode\":\"overlay\",\"size\":10,\"solidity\":0.2}},\"type\":\"bar\"}],\"scattergeo\":[{\"type\":\"scattergeo\",\"marker\":{\"colorbar\":{\"outlinewidth\":0,\"ticks\":\"\"}}}],\"scatterpolar\":[{\"type\":\"scatterpolar\",\"marker\":{\"colorbar\":{\"outlinewidth\":0,\"ticks\":\"\"}}}],\"histogram\":[{\"marker\":{\"pattern\":{\"fillmode\":\"overlay\",\"size\":10,\"solidity\":0.2}},\"type\":\"histogram\"}],\"scattergl\":[{\"type\":\"scattergl\",\"marker\":{\"colorbar\":{\"outlinewidth\":0,\"ticks\":\"\"}}}],\"scatter3d\":[{\"type\":\"scatter3d\",\"line\":{\"colorbar\":{\"outlinewidth\":0,\"ticks\":\"\"}},\"marker\":{\"colorbar\":{\"outlinewidth\":0,\"ticks\":\"\"}}}],\"scattermapbox\":[{\"type\":\"scattermapbox\",\"marker\":{\"colorbar\":{\"outlinewidth\":0,\"ticks\":\"\"}}}],\"scatterternary\":[{\"type\":\"scatterternary\",\"marker\":{\"colorbar\":{\"outlinewidth\":0,\"ticks\":\"\"}}}],\"scattercarpet\":[{\"type\":\"scattercarpet\",\"marker\":{\"colorbar\":{\"outlinewidth\":0,\"ticks\":\"\"}}}],\"carpet\":[{\"aaxis\":{\"endlinecolor\":\"#2a3f5f\",\"gridcolor\":\"white\",\"linecolor\":\"white\",\"minorgridcolor\":\"white\",\"startlinecolor\":\"#2a3f5f\"},\"baxis\":{\"endlinecolor\":\"#2a3f5f\",\"gridcolor\":\"white\",\"linecolor\":\"white\",\"minorgridcolor\":\"white\",\"startlinecolor\":\"#2a3f5f\"},\"type\":\"carpet\"}],\"table\":[{\"cells\":{\"fill\":{\"color\":\"#EBF0F8\"},\"line\":{\"color\":\"white\"}},\"header\":{\"fill\":{\"color\":\"#C8D4E3\"},\"line\":{\"color\":\"white\"}},\"type\":\"table\"}],\"barpolar\":[{\"marker\":{\"line\":{\"color\":\"#E5ECF6\",\"width\":0.5},\"pattern\":{\"fillmode\":\"overlay\",\"size\":10,\"solidity\":0.2}},\"type\":\"barpolar\"}],\"pie\":[{\"automargin\":true,\"type\":\"pie\"}]},\"layout\":{\"autotypenumbers\":\"strict\",\"colorway\":[\"#636efa\",\"#EF553B\",\"#00cc96\",\"#ab63fa\",\"#FFA15A\",\"#19d3f3\",\"#FF6692\",\"#B6E880\",\"#FF97FF\",\"#FECB52\"],\"font\":{\"color\":\"#2a3f5f\"},\"hovermode\":\"closest\",\"hoverlabel\":{\"align\":\"left\"},\"paper_bgcolor\":\"white\",\"plot_bgcolor\":\"#E5ECF6\",\"polar\":{\"bgcolor\":\"#E5ECF6\",\"angularaxis\":{\"gridcolor\":\"white\",\"linecolor\":\"white\",\"ticks\":\"\"},\"radialaxis\":{\"gridcolor\":\"white\",\"linecolor\":\"white\",\"ticks\":\"\"}},\"ternary\":{\"bgcolor\":\"#E5ECF6\",\"aaxis\":{\"gridcolor\":\"white\",\"linecolor\":\"white\",\"ticks\":\"\"},\"baxis\":{\"gridcolor\":\"white\",\"linecolor\":\"white\",\"ticks\":\"\"},\"caxis\":{\"gridcolor\":\"white\",\"linecolor\":\"white\",\"ticks\":\"\"}},\"coloraxis\":{\"colorbar\":{\"outlinewidth\":0,\"ticks\":\"\"}},\"colorscale\":{\"sequential\":[[0.0,\"#0d0887\"],[0.1111111111111111,\"#46039f\"],[0.2222222222222222,\"#7201a8\"],[0.3333333333333333,\"#9c179e\"],[0.4444444444444444,\"#bd3786\"],[0.5555555555555556,\"#d8576b\"],[0.6666666666666666,\"#ed7953\"],[0.7777777777777778,\"#fb9f3a\"],[0.8888888888888888,\"#fdca26\"],[1.0,\"#f0f921\"]],\"sequentialminus\":[[0.0,\"#0d0887\"],[0.1111111111111111,\"#46039f\"],[0.2222222222222222,\"#7201a8\"],[0.3333333333333333,\"#9c179e\"],[0.4444444444444444,\"#bd3786\"],[0.5555555555555556,\"#d8576b\"],[0.6666666666666666,\"#ed7953\"],[0.7777777777777778,\"#fb9f3a\"],[0.8888888888888888,\"#fdca26\"],[1.0,\"#f0f921\"]],\"diverging\":[[0,\"#8e0152\"],[0.1,\"#c51b7d\"],[0.2,\"#de77ae\"],[0.3,\"#f1b6da\"],[0.4,\"#fde0ef\"],[0.5,\"#f7f7f7\"],[0.6,\"#e6f5d0\"],[0.7,\"#b8e186\"],[0.8,\"#7fbc41\"],[0.9,\"#4d9221\"],[1,\"#276419\"]]},\"xaxis\":{\"gridcolor\":\"white\",\"linecolor\":\"white\",\"ticks\":\"\",\"title\":{\"standoff\":15},\"zerolinecolor\":\"white\",\"automargin\":true,\"zerolinewidth\":2},\"yaxis\":{\"gridcolor\":\"white\",\"linecolor\":\"white\",\"ticks\":\"\",\"title\":{\"standoff\":15},\"zerolinecolor\":\"white\",\"automargin\":true,\"zerolinewidth\":2},\"scene\":{\"xaxis\":{\"backgroundcolor\":\"#E5ECF6\",\"gridcolor\":\"white\",\"linecolor\":\"white\",\"showbackground\":true,\"ticks\":\"\",\"zerolinecolor\":\"white\",\"gridwidth\":2},\"yaxis\":{\"backgroundcolor\":\"#E5ECF6\",\"gridcolor\":\"white\",\"linecolor\":\"white\",\"showbackground\":true,\"ticks\":\"\",\"zerolinecolor\":\"white\",\"gridwidth\":2},\"zaxis\":{\"backgroundcolor\":\"#E5ECF6\",\"gridcolor\":\"white\",\"linecolor\":\"white\",\"showbackground\":true,\"ticks\":\"\",\"zerolinecolor\":\"white\",\"gridwidth\":2}},\"shapedefaults\":{\"line\":{\"color\":\"#2a3f5f\"}},\"annotationdefaults\":{\"arrowcolor\":\"#2a3f5f\",\"arrowhead\":0,\"arrowwidth\":1},\"geo\":{\"bgcolor\":\"white\",\"landcolor\":\"#E5ECF6\",\"subunitcolor\":\"white\",\"showland\":true,\"showlakes\":true,\"lakecolor\":\"white\"},\"title\":{\"x\":0.05},\"mapbox\":{\"style\":\"light\"}}},\"xaxis\":{\"anchor\":\"y\",\"domain\":[0.0,1.0],\"title\":{\"text\":\"value\"}},\"yaxis\":{\"anchor\":\"x\",\"domain\":[0.0,0.7326],\"title\":{\"text\":\"count\"}},\"xaxis2\":{\"anchor\":\"y2\",\"domain\":[0.0,1.0],\"matches\":\"x\",\"showticklabels\":false,\"showgrid\":true},\"yaxis2\":{\"anchor\":\"x2\",\"domain\":[0.7426,1.0],\"matches\":\"y2\",\"showticklabels\":false,\"showline\":false,\"ticks\":\"\",\"showgrid\":false},\"legend\":{\"title\":{\"text\":\"variable\"},\"tracegroupgap\":0},\"title\":{\"text\":\"Quantity - Without Outliers\"},\"barmode\":\"relative\"},                        {\"responsive\": true}                    ).then(function(){\n",
       "                            \n",
       "var gd = document.getElementById('b37bcc7f-3caa-49a9-a1b8-1898e919759c');\n",
       "var x = new MutationObserver(function (mutations, observer) {{\n",
       "        var display = window.getComputedStyle(gd).display;\n",
       "        if (!display || display === 'none') {{\n",
       "            console.log([gd, 'removed!']);\n",
       "            Plotly.purge(gd);\n",
       "            observer.disconnect();\n",
       "        }}\n",
       "}});\n",
       "\n",
       "// Listen for the removal of the full notebook cells\n",
       "var notebookContainer = gd.closest('#notebook-container');\n",
       "if (notebookContainer) {{\n",
       "    x.observe(notebookContainer, {childList: true});\n",
       "}}\n",
       "\n",
       "// Listen for the clearing of the current output cell\n",
       "var outputEl = gd.closest('.output');\n",
       "if (outputEl) {{\n",
       "    x.observe(outputEl, {childList: true});\n",
       "}}\n",
       "\n",
       "                        })                };                });            </script>        </div>"
      ]
     },
     "metadata": {},
     "output_type": "display_data"
    }
   ],
   "source": [
    "profile_serie(df_retail['Quantity'])"
   ]
  },
  {
   "cell_type": "markdown",
   "metadata": {},
   "source": [
    "#### Quantity: \n",
    "\n",
    "En su mayoria la variable es positiva, salvo 12326 valores negativos. Lo anterior es raro, dado que no se puede comprar una cantidad negativa de items. No hay valores iguales a cero. La asimetria es positiva. Se observan outliers tanto hacia la derecha como hacia la izquierda. La cantidad promedio es de 10.3 con una desviacion estandar igual a 107. El valor maximo es 19152. Posee una Curtosis positiva, es decir, concentracion alta de los datos c/r a la media. No se reportan valores faltantes."
   ]
  },
  {
   "cell_type": "code",
   "execution_count": 29,
   "metadata": {
    "scrolled": false
   },
   "outputs": [
    {
     "data": {
      "text/markdown": [
       "## InvoiceDate Profile"
      ],
      "text/plain": [
       "<IPython.core.display.Markdown object>"
      ]
     },
     "metadata": {},
     "output_type": "display_data"
    },
    {
     "data": {
      "text/plain": [
       "Type                                     datetime64[ns]\n",
       "Number of observations                           525461\n",
       "Mean                      2010-06-28 11:37:36.845017856\n",
       "Min                                 2009-12-01 07:45:00\n",
       "25%                                 2010-03-21 12:20:00\n",
       "50%                                 2010-07-06 09:51:00\n",
       "75%                                 2010-10-15 12:45:00\n",
       "Max                                 2010-12-09 20:01:00\n",
       "                                                       \n",
       "Missing cells                                         0\n",
       "Missing cells (%)                                 0.0 %\n",
       "Duplicate rows                                   520400\n",
       "Duplicate rows (%)                              99.04 %\n",
       "Total size in memory                      4203816 bytes\n",
       "dtype: object"
      ]
     },
     "metadata": {},
     "output_type": "display_data"
    },
    {
     "data": {
      "application/vnd.plotly.v1+json": {
       "config": {
        "plotlyServerURL": "https://plot.ly"
       },
       "data": [
        {
         "alignmentgroup": "True",
         "bingroup": "x",
         "hovertemplate": "variable=InvoiceDate<br>value=%{x}<br>count=%{y}<extra></extra>",
         "legendgroup": "InvoiceDate",
         "marker": {
          "color": "#636efa",
          "pattern": {
           "shape": ""
          }
         },
         "name": "InvoiceDate",
         "offsetgroup": "InvoiceDate",
         "orientation": "v",
         "showlegend": true,
         "type": "histogram",
         "x": [
          "2010-10-14T12:54:00",
          "2010-11-07T16:29:00",
          "2010-10-03T14:08:00",
          "2010-06-11T11:45:00",
          "2009-12-20T10:08:00",
          "2010-08-01T11:23:00",
          "2010-03-26T12:53:00",
          "2010-11-16T18:07:00",
          "2010-06-27T13:16:00",
          "2010-11-26T16:31:00",
          "2010-11-16T12:22:00",
          "2010-06-04T15:50:00",
          "2009-12-02T12:28:00",
          "2010-01-18T08:58:00",
          "2010-11-17T11:33:00",
          "2010-06-04T14:59:00",
          "2010-05-16T15:39:00",
          "2009-12-10T09:49:00",
          "2010-04-29T13:54:00",
          "2010-07-29T13:55:00",
          "2010-03-30T14:29:00",
          "2009-12-03T19:13:00",
          "2010-05-07T14:28:00",
          "2010-09-12T10:30:00",
          "2010-08-02T14:02:00",
          "2010-09-24T16:06:00",
          "2009-12-10T09:49:00",
          "2010-09-19T13:05:00",
          "2010-04-07T14:10:00",
          "2010-07-22T12:13:00",
          "2010-06-21T15:13:00",
          "2010-06-17T10:47:00",
          "2010-04-30T13:41:00",
          "2010-01-27T09:44:00",
          "2010-06-03T19:47:00",
          "2010-04-29T14:16:00",
          "2010-10-21T18:01:00",
          "2010-10-03T11:52:00",
          "2009-12-10T14:50:00",
          "2010-05-04T15:48:00",
          "2010-09-28T11:50:00",
          "2010-03-25T14:22:00",
          "2010-11-28T13:23:00",
          "2010-11-04T11:55:00",
          "2010-06-29T14:11:00",
          "2010-08-25T13:05:00",
          "2010-08-12T14:53:00",
          "2010-01-26T11:24:00",
          "2009-12-18T17:15:00",
          "2010-04-29T13:54:00",
          "2010-05-27T12:24:00",
          "2010-08-31T12:48:00",
          "2010-10-11T14:05:00",
          "2010-11-21T12:29:00",
          "2010-10-29T14:12:00",
          "2010-11-09T14:13:00",
          "2010-09-07T17:19:00",
          "2010-08-18T11:34:00",
          "2010-11-15T12:43:00",
          "2010-07-09T14:58:00",
          "2010-03-26T14:16:00",
          "2010-02-14T12:22:00",
          "2010-11-21T15:56:00",
          "2010-03-22T14:30:00",
          "2010-06-06T15:01:00",
          "2010-03-07T13:48:00",
          "2010-07-26T11:46:00",
          "2010-06-07T14:46:00",
          "2010-09-14T17:50:00",
          "2009-12-09T14:20:00",
          "2010-08-04T16:07:00",
          "2010-02-21T14:57:00",
          "2010-04-28T11:54:00",
          "2010-08-06T08:57:00",
          "2010-10-18T15:27:00",
          "2010-04-27T12:20:00",
          "2010-01-18T13:15:00",
          "2010-02-02T15:49:00",
          "2010-09-23T10:45:00",
          "2010-07-25T15:44:00",
          "2010-01-14T16:16:00",
          "2009-12-16T13:49:00",
          "2010-08-26T20:07:00",
          "2010-06-28T12:04:00",
          "2010-10-13T10:46:00",
          "2010-09-27T11:41:00",
          "2010-07-16T09:05:00",
          "2010-10-18T09:28:00",
          "2010-11-03T10:47:00",
          "2010-11-04T13:04:00",
          "2010-08-15T12:40:00",
          "2010-06-08T14:10:00",
          "2010-06-29T15:17:00",
          "2010-06-28T08:28:00",
          "2010-09-27T13:22:00",
          "2010-11-07T13:30:00",
          "2010-09-14T13:32:00",
          "2009-12-14T17:16:00",
          "2010-07-25T11:31:00",
          "2010-02-04T08:56:00",
          "2010-03-10T12:17:00",
          "2009-12-09T13:22:00",
          "2010-11-24T16:16:00",
          "2010-04-16T13:34:00",
          "2010-10-14T14:18:00",
          "2010-10-26T14:00:00",
          "2010-04-15T13:03:00",
          "2010-09-24T12:39:00",
          "2010-08-09T13:10:00",
          "2009-12-10T15:56:00",
          "2010-09-02T12:53:00",
          "2009-12-15T14:34:00",
          "2009-12-16T17:34:00",
          "2010-07-01T10:41:00",
          "2010-03-26T14:51:00",
          "2010-11-02T16:20:00",
          "2010-11-02T10:38:00",
          "2010-04-25T13:49:00",
          "2010-10-07T13:21:00",
          "2010-03-30T12:36:00",
          "2010-03-28T14:53:00",
          "2009-12-15T10:36:00",
          "2010-10-05T13:14:00",
          "2010-05-06T15:09:00",
          "2010-10-12T15:46:00",
          "2010-05-27T12:31:00",
          "2010-06-22T16:28:00",
          "2010-08-09T12:28:00",
          "2010-05-10T17:09:00",
          "2010-11-28T10:33:00",
          "2010-09-16T19:17:00",
          "2010-05-05T08:53:00",
          "2010-04-22T09:54:00",
          "2010-01-14T14:48:00",
          "2009-12-10T09:49:00",
          "2010-04-28T13:34:00",
          "2010-03-26T12:53:00",
          "2010-03-29T14:53:00",
          "2010-03-05T09:09:00",
          "2010-04-27T16:45:00",
          "2010-04-27T09:30:00",
          "2010-10-01T10:33:00",
          "2010-03-02T13:09:00",
          "2009-12-14T13:19:00",
          "2010-11-14T16:32:00",
          "2010-08-23T14:38:00",
          "2010-08-24T17:21:00",
          "2010-11-09T12:47:00",
          "2010-10-21T16:30:00",
          "2010-10-28T09:29:00",
          "2010-11-16T14:15:00",
          "2010-02-03T11:58:00",
          "2010-06-09T13:08:00",
          "2009-12-06T15:48:00",
          "2010-09-09T10:50:00",
          "2010-09-02T13:27:00",
          "2010-11-12T14:28:00",
          "2010-06-17T17:41:00",
          "2010-11-30T12:05:00",
          "2010-09-02T17:52:00",
          "2010-07-28T14:54:00",
          "2010-11-02T18:08:00",
          "2010-04-13T16:33:00",
          "2010-10-31T14:40:00",
          "2009-12-01T12:52:00",
          "2010-07-02T15:55:00",
          "2010-09-02T14:33:00",
          "2009-12-06T12:17:00",
          "2010-04-07T16:13:00",
          "2010-02-22T12:05:00",
          "2010-05-24T10:44:00",
          "2010-08-18T16:54:00",
          "2010-10-04T12:36:00",
          "2010-12-06T14:36:00",
          "2010-03-19T11:10:00",
          "2010-11-03T13:13:00",
          "2010-09-16T14:34:00",
          "2010-02-28T10:25:00",
          "2010-05-20T13:41:00",
          "2010-03-25T12:43:00",
          "2010-06-07T11:32:00",
          "2010-01-28T12:36:00",
          "2010-12-09T14:09:00",
          "2010-08-08T12:35:00",
          "2010-09-27T12:50:00",
          "2010-04-16T15:55:00",
          "2010-06-22T14:21:00",
          "2010-03-03T08:42:00",
          "2010-09-29T12:41:00",
          "2010-05-13T16:49:00",
          "2010-06-01T16:06:00",
          "2010-07-06T14:38:00",
          "2010-09-28T16:12:00",
          "2010-03-10T10:25:00",
          "2010-11-02T14:02:00",
          "2009-12-05T12:36:00",
          "2010-11-25T13:29:00",
          "2010-01-07T10:57:00",
          "2010-02-23T12:26:00",
          "2010-03-03T17:18:00",
          "2010-02-01T13:25:00",
          "2010-11-01T16:45:00",
          "2010-11-16T12:22:00",
          "2010-12-06T14:51:00",
          "2010-01-06T10:17:00",
          "2010-03-26T14:01:00",
          "2010-01-14T18:56:00",
          "2010-06-17T12:21:00",
          "2010-09-21T15:46:00",
          "2010-04-28T15:00:00",
          "2010-09-23T14:47:00",
          "2010-04-19T10:43:00",
          "2010-11-09T10:35:00",
          "2009-12-23T13:00:00",
          "2010-02-02T10:06:00",
          "2010-06-30T11:32:00",
          "2010-10-20T14:42:00",
          "2010-06-02T14:48:00",
          "2010-01-28T14:31:00",
          "2010-05-30T15:58:00",
          "2010-05-25T10:14:00",
          "2010-11-07T12:03:00",
          "2010-11-01T13:33:00",
          "2010-04-27T13:48:00",
          "2009-12-17T12:04:00",
          "2010-12-07T15:28:00",
          "2010-04-20T16:00:00",
          "2010-12-06T13:41:00",
          "2009-12-17T12:32:00",
          "2010-08-04T15:52:00",
          "2010-01-04T12:57:00",
          "2010-06-09T14:13:00",
          "2010-03-18T14:14:00",
          "2010-04-06T15:10:00",
          "2010-11-24T10:30:00",
          "2010-10-18T17:11:00",
          "2010-04-09T17:13:00",
          "2010-11-29T16:45:00",
          "2010-07-02T08:26:00",
          "2010-06-15T14:42:00",
          "2010-10-11T11:34:00",
          "2010-09-02T17:52:00",
          "2010-03-10T13:08:00",
          "2010-11-01T11:35:00",
          "2010-11-09T14:13:00",
          "2009-12-04T10:57:00",
          "2010-08-11T15:46:00",
          "2010-03-25T12:39:00",
          "2010-07-05T11:54:00",
          "2010-04-13T11:43:00",
          "2010-03-07T16:12:00",
          "2010-10-11T13:49:00",
          "2010-09-30T11:45:00",
          "2009-12-03T10:20:00",
          "2010-11-28T11:33:00",
          "2010-04-26T10:31:00",
          "2010-05-18T15:13:00",
          "2010-07-19T16:10:00",
          "2010-10-14T13:09:00",
          "2010-08-22T16:07:00",
          "2010-08-31T12:41:00",
          "2009-12-02T15:08:00",
          "2010-05-04T11:51:00",
          "2010-06-04T12:23:00",
          "2010-10-06T14:34:00",
          "2010-10-24T13:57:00",
          "2010-10-12T15:46:00",
          "2010-11-07T12:04:00",
          "2010-05-24T12:25:00",
          "2010-11-11T15:49:00",
          "2010-11-22T13:02:00",
          "2010-06-25T13:35:00",
          "2009-12-11T13:52:00",
          "2010-02-21T12:43:00",
          "2010-09-24T16:06:00",
          "2010-05-06T20:01:00",
          "2010-04-28T11:55:00",
          "2010-06-08T14:52:00",
          "2010-08-12T10:12:00",
          "2010-07-15T11:44:00",
          "2010-04-07T11:04:00",
          "2010-02-07T13:30:00",
          "2010-12-08T13:18:00",
          "2010-08-15T11:22:00",
          "2010-11-22T11:37:00",
          "2010-08-31T12:35:00",
          "2010-10-07T16:14:00",
          "2010-08-19T16:19:00",
          "2010-12-06T09:58:00",
          "2010-05-20T17:57:00",
          "2010-09-27T12:45:00",
          "2010-03-26T14:01:00",
          "2010-05-14T12:52:00",
          "2010-11-24T12:43:00",
          "2010-03-21T11:32:00",
          "2010-08-04T10:52:00",
          "2010-05-07T17:28:00",
          "2010-07-08T13:07:00",
          "2010-08-03T12:55:00",
          "2009-12-06T15:41:00",
          "2010-07-19T12:53:00",
          "2010-02-17T14:34:00",
          "2010-08-11T12:20:00",
          "2010-10-26T13:44:00",
          "2010-11-14T12:07:00",
          "2010-10-07T10:19:00",
          "2010-07-08T15:14:00",
          "2010-06-07T10:54:00",
          "2010-02-09T09:47:00",
          "2009-12-16T15:13:00",
          "2010-01-13T17:51:00",
          "2010-06-24T11:31:00",
          "2010-02-28T15:01:00",
          "2010-03-24T13:30:00",
          "2010-08-12T17:01:00",
          "2010-06-14T13:35:00",
          "2009-12-07T12:32:00",
          "2010-04-23T10:20:00",
          "2010-01-14T14:32:00",
          "2009-12-01T17:08:00",
          "2010-03-23T15:47:00",
          "2010-11-16T13:04:00",
          "2010-04-08T11:20:00",
          "2010-06-22T16:28:00",
          "2010-08-24T11:57:00",
          "2010-04-26T16:21:00",
          "2010-11-08T12:28:00",
          "2009-12-02T14:36:00",
          "2010-03-30T14:29:00",
          "2010-10-05T13:48:00",
          "2010-10-18T13:18:00",
          "2010-03-23T14:06:00",
          "2010-06-17T13:48:00",
          "2010-04-11T13:09:00",
          "2010-01-13T17:44:00",
          "2010-01-20T13:10:00",
          "2010-10-01T12:17:00",
          "2010-09-13T10:46:00",
          "2010-09-08T13:57:00",
          "2010-01-24T12:15:00",
          "2010-06-23T13:16:00",
          "2010-09-13T17:25:00",
          "2010-04-15T12:20:00",
          "2010-09-24T13:30:00",
          "2010-02-23T13:59:00",
          "2010-06-27T13:09:00",
          "2010-04-19T11:19:00",
          "2010-11-23T14:06:00",
          "2010-04-28T09:18:00",
          "2010-07-29T16:35:00",
          "2010-11-30T13:02:00",
          "2010-05-02T15:10:00",
          "2010-10-07T14:11:00",
          "2010-11-26T15:51:00",
          "2010-12-02T15:46:00",
          "2010-10-20T11:58:00",
          "2010-11-12T15:46:00",
          "2010-01-29T17:55:00",
          "2010-10-18T15:27:00",
          "2010-04-29T17:01:00",
          "2010-07-01T12:02:00",
          "2010-08-23T15:44:00",
          "2010-10-10T10:49:00",
          "2010-09-13T12:56:00",
          "2010-03-16T13:44:00",
          "2009-12-22T15:06:00",
          "2010-12-05T12:57:00",
          "2010-11-10T16:40:00",
          "2010-06-14T14:06:00",
          "2010-06-21T12:17:00",
          "2010-05-04T15:48:00",
          "2010-01-10T12:43:00",
          "2010-11-12T15:05:00",
          "2010-04-18T12:49:00",
          "2010-03-24T16:33:00",
          "2010-11-25T19:16:00",
          "2010-02-02T13:13:00",
          "2010-08-29T15:07:00",
          "2010-01-13T17:08:00",
          "2010-01-11T09:31:00",
          "2010-12-01T14:32:00",
          "2010-06-20T16:06:00",
          "2010-01-14T15:10:00",
          "2010-09-28T15:07:00",
          "2010-03-12T11:19:00",
          "2010-06-15T12:14:00",
          "2010-04-19T11:13:00",
          "2010-05-19T15:24:00",
          "2010-07-30T17:08:00",
          "2010-01-26T10:25:00",
          "2010-05-10T13:43:00",
          "2010-10-15T15:46:00",
          "2010-09-03T14:22:00",
          "2010-11-12T12:15:00",
          "2010-02-22T14:28:00",
          "2010-06-09T11:23:00",
          "2010-11-03T09:36:00",
          "2010-09-29T13:44:00",
          "2010-11-12T09:18:00",
          "2010-02-14T13:39:00",
          "2010-10-14T17:44:00",
          "2010-07-28T09:41:00",
          "2010-12-06T16:57:00",
          "2010-10-26T12:54:00",
          "2010-11-23T11:26:00",
          "2010-03-08T16:30:00",
          "2010-08-12T13:38:00",
          "2010-08-31T15:36:00",
          "2010-11-12T15:20:00",
          "2010-10-17T16:16:00",
          "2010-03-02T12:18:00",
          "2010-11-12T17:00:00",
          "2010-02-18T12:36:00",
          "2010-03-10T10:50:00",
          "2010-11-23T16:53:00",
          "2010-03-31T13:22:00",
          "2010-10-11T14:32:00",
          "2009-12-06T12:52:00",
          "2010-03-07T13:00:00",
          "2010-09-28T15:51:00",
          "2010-03-29T17:17:00",
          "2009-12-16T16:04:00",
          "2010-11-15T15:10:00",
          "2010-02-02T10:15:00",
          "2010-09-13T11:28:00",
          "2010-05-07T14:02:00",
          "2010-03-16T10:58:00",
          "2010-03-22T15:52:00",
          "2010-10-13T10:53:00",
          "2010-05-06T16:27:00",
          "2010-11-15T12:17:00",
          "2010-07-15T11:47:00",
          "2010-06-29T13:12:00",
          "2010-04-21T15:04:00",
          "2010-11-07T12:28:00",
          "2010-11-25T15:19:00",
          "2010-07-26T14:32:00",
          "2010-03-30T15:47:00",
          "2010-10-20T10:50:00",
          "2010-11-12T09:18:00",
          "2010-06-07T15:31:00",
          "2010-08-22T14:31:00",
          "2009-12-03T20:03:00",
          "2009-12-16T17:01:00",
          "2010-08-10T12:06:00",
          "2010-09-17T13:20:00",
          "2010-06-17T13:48:00",
          "2010-03-09T14:16:00",
          "2010-06-11T12:45:00",
          "2010-08-10T16:10:00",
          "2010-08-16T15:31:00",
          "2010-11-11T14:08:00",
          "2010-08-04T14:50:00",
          "2009-12-09T09:51:00",
          "2010-12-05T12:43:00",
          "2010-11-23T16:18:00",
          "2009-12-04T09:43:00",
          "2010-08-17T11:52:00",
          "2009-12-04T11:07:00",
          "2010-10-25T16:57:00",
          "2010-07-29T19:56:00",
          "2010-10-14T10:00:00",
          "2010-03-14T13:40:00",
          "2010-11-16T13:04:00",
          "2010-10-18T12:49:00",
          "2010-06-10T17:27:00",
          "2010-01-21T09:37:00",
          "2010-06-09T14:43:00",
          "2010-04-18T14:35:00",
          "2010-01-04T12:30:00",
          "2010-12-03T11:36:00",
          "2009-12-10T19:35:00",
          "2010-02-05T08:43:00",
          "2010-07-09T14:55:00",
          "2010-06-15T11:46:00",
          "2010-06-15T15:23:00",
          "2010-04-18T12:05:00",
          "2010-08-16T12:00:00",
          "2010-03-19T17:13:00",
          "2009-12-03T19:31:00",
          "2010-11-14T11:54:00",
          "2010-11-24T12:04:00",
          "2010-10-25T16:57:00",
          "2010-08-18T16:54:00",
          "2009-12-08T12:38:00",
          "2010-06-10T13:52:00",
          "2010-09-29T13:08:00",
          "2010-07-07T16:29:00",
          "2010-09-09T12:37:00",
          "2010-09-06T10:19:00",
          "2010-04-20T11:30:00",
          "2010-11-24T13:56:00",
          "2010-11-11T13:26:00",
          "2010-06-08T14:52:00",
          "2010-08-02T15:26:00",
          "2010-08-08T10:46:00",
          "2010-08-12T14:32:00",
          "2010-05-28T12:37:00",
          "2009-12-16T17:01:00",
          "2010-01-25T15:23:00",
          "2010-06-07T14:48:00",
          "2010-09-29T10:26:00",
          "2010-10-01T14:07:00",
          "2010-04-23T16:16:00",
          "2010-08-15T14:01:00",
          "2010-05-26T11:12:00",
          "2009-12-13T13:53:00",
          "2010-01-05T10:18:00",
          "2010-04-23T13:12:00",
          "2010-10-05T13:21:00",
          "2010-03-12T15:13:00",
          "2010-06-03T09:29:00",
          "2010-05-28T12:11:00",
          "2009-12-01T09:08:00",
          "2010-10-11T13:53:00",
          "2010-11-05T10:23:00",
          "2010-01-20T17:50:00",
          "2010-03-16T16:18:00",
          "2010-06-18T13:22:00",
          "2010-06-01T12:00:00",
          "2009-12-09T09:51:00",
          "2010-07-01T14:24:00",
          "2010-11-10T16:38:00",
          "2009-12-10T18:27:00",
          "2010-09-20T11:45:00",
          "2010-03-12T11:19:00",
          "2010-10-20T15:25:00",
          "2010-08-31T12:41:00",
          "2010-06-16T14:34:00",
          "2010-07-16T09:24:00",
          "2010-03-26T11:37:00",
          "2010-10-07T14:28:00",
          "2009-12-01T14:28:00",
          "2010-05-30T13:35:00",
          "2010-07-15T14:08:00",
          "2010-05-25T13:21:00",
          "2010-10-07T10:19:00",
          "2010-10-28T18:54:00",
          "2010-07-27T12:39:00",
          "2010-01-08T15:16:00",
          "2010-08-16T12:36:00",
          "2010-05-04T12:16:00",
          "2010-11-25T19:36:00",
          "2010-09-22T11:37:00",
          "2010-01-28T12:20:00",
          "2010-01-28T15:51:00",
          "2010-03-09T14:32:00",
          "2010-10-07T10:37:00",
          "2010-06-09T12:11:00",
          "2010-01-31T12:15:00",
          "2010-02-15T14:47:00",
          "2010-11-25T13:51:00",
          "2010-02-19T17:40:00",
          "2010-03-02T11:33:00",
          "2010-01-04T12:30:00",
          "2010-02-01T13:45:00",
          "2010-10-19T09:10:00",
          "2010-01-21T11:51:00",
          "2010-06-09T14:41:00",
          "2010-06-24T16:25:00",
          "2010-01-14T14:06:00",
          "2010-11-25T14:03:00",
          "2010-06-03T17:15:00",
          "2010-08-26T12:35:00",
          "2010-11-12T15:20:00",
          "2010-06-17T13:48:00",
          "2010-06-21T13:18:00",
          "2010-11-26T13:22:00",
          "2010-12-05T12:26:00",
          "2010-10-03T14:13:00",
          "2010-01-07T11:22:00",
          "2010-04-29T11:18:00",
          "2010-01-14T16:16:00",
          "2010-01-18T12:55:00",
          "2010-09-20T12:15:00",
          "2010-11-07T13:08:00",
          "2010-01-19T15:45:00",
          "2009-12-15T17:05:00",
          "2010-02-08T11:06:00",
          "2010-01-20T10:48:00",
          "2010-10-31T14:09:00",
          "2010-03-21T12:20:00",
          "2010-08-17T12:03:00",
          "2010-02-15T11:22:00",
          "2010-11-21T12:40:00",
          "2010-02-17T12:12:00",
          "2009-12-06T10:26:00",
          "2010-11-25T13:18:00",
          "2010-10-14T18:02:00",
          "2010-06-16T16:04:00",
          "2010-10-10T16:01:00",
          "2010-01-25T13:14:00",
          "2010-10-27T08:36:00",
          "2010-12-03T15:05:00",
          "2010-07-21T14:43:00",
          "2010-05-07T14:56:00",
          "2010-05-19T14:22:00",
          "2010-11-08T14:19:00",
          "2010-12-08T12:17:00",
          "2010-10-21T15:38:00",
          "2010-09-14T16:15:00",
          "2010-09-16T12:27:00",
          "2010-08-03T14:23:00",
          "2010-11-17T12:44:00",
          "2010-05-06T11:44:00",
          "2010-08-08T14:37:00",
          "2010-04-22T12:58:00",
          "2010-03-07T12:06:00",
          "2010-10-24T11:18:00",
          "2010-10-27T14:05:00",
          "2010-07-19T12:17:00",
          "2010-11-03T13:47:00",
          "2010-02-25T13:23:00",
          "2010-08-18T16:54:00",
          "2010-08-16T14:59:00",
          "2010-06-06T15:01:00",
          "2010-06-15T12:22:00",
          "2010-08-17T12:03:00",
          "2010-07-04T13:10:00",
          "2010-11-19T12:56:00",
          "2010-09-28T14:44:00",
          "2009-12-22T09:41:00",
          "2010-06-14T16:25:00",
          "2010-01-04T09:24:00",
          "2010-08-26T15:42:00",
          "2010-04-25T11:43:00",
          "2010-06-04T14:54:00",
          "2010-07-14T13:01:00",
          "2009-12-16T17:01:00",
          "2010-09-23T13:26:00",
          "2010-11-10T13:23:00",
          "2010-10-18T12:58:00",
          "2010-04-25T11:43:00",
          "2010-04-06T12:39:00",
          "2010-11-17T09:22:00",
          "2010-06-09T10:52:00",
          "2010-06-17T09:30:00",
          "2010-08-23T11:58:00",
          "2010-10-31T12:36:00",
          "2009-12-16T17:36:00",
          "2010-11-30T17:43:00",
          "2010-03-23T12:18:00",
          "2010-09-02T13:29:00",
          "2010-09-07T09:31:00",
          "2010-02-17T12:03:00",
          "2010-11-17T16:48:00",
          "2010-10-20T17:12:00",
          "2010-04-15T16:35:00",
          "2010-11-19T13:07:00",
          "2010-09-19T16:20:00",
          "2010-12-09T14:19:00",
          "2010-02-28T14:12:00",
          "2010-04-07T10:36:00",
          "2010-08-15T13:26:00",
          "2010-03-01T09:58:00",
          "2010-02-19T17:40:00",
          "2010-10-07T14:24:00",
          "2010-02-08T15:11:00",
          "2010-10-18T14:07:00",
          "2010-06-15T12:11:00",
          "2010-09-10T13:27:00",
          "2010-08-18T11:34:00",
          "2010-05-27T11:11:00",
          "2009-12-10T18:27:00",
          "2010-10-05T17:55:00",
          "2010-07-20T09:04:00",
          "2010-05-28T10:08:00",
          "2010-07-04T13:31:00",
          "2010-07-08T10:07:00",
          "2010-01-22T14:17:00",
          "2009-12-15T17:25:00",
          "2010-08-03T10:30:00",
          "2009-12-22T09:41:00",
          "2009-12-03T13:09:00",
          "2010-04-28T14:25:00",
          "2009-12-04T10:57:00",
          "2010-11-03T09:36:00",
          "2010-03-12T10:41:00",
          "2010-09-02T14:52:00",
          "2010-11-28T14:13:00",
          "2010-09-16T14:52:00",
          "2010-04-23T11:43:00",
          "2010-10-22T14:04:00",
          "2009-12-22T15:13:00",
          "2010-11-23T16:53:00",
          "2010-03-29T11:49:00",
          "2010-11-10T12:09:00",
          "2010-06-14T12:41:00",
          "2010-09-28T09:13:00",
          "2010-03-09T14:16:00",
          "2010-08-22T12:52:00",
          "2010-10-19T12:50:00",
          "2010-03-25T13:16:00",
          "2010-02-14T15:30:00",
          "2010-08-29T10:16:00",
          "2010-08-25T11:35:00",
          "2010-10-26T12:14:00",
          "2010-06-02T11:54:00",
          "2009-12-16T17:01:00",
          "2010-10-20T13:42:00",
          "2010-02-08T16:53:00",
          "2009-12-07T15:15:00",
          "2010-01-26T13:04:00",
          "2010-11-17T09:22:00",
          "2010-02-16T14:32:00",
          "2010-01-29T11:45:00",
          "2010-10-11T11:34:00",
          "2009-12-13T13:31:00",
          "2010-10-29T12:07:00",
          "2010-04-29T15:34:00",
          "2010-04-11T16:06:00",
          "2010-11-29T12:06:00",
          "2010-03-23T08:40:00",
          "2010-03-30T10:55:00",
          "2010-01-26T10:25:00",
          "2010-08-03T14:38:00",
          "2010-10-13T13:12:00",
          "2010-10-18T17:11:00",
          "2010-04-19T11:13:00",
          "2009-12-02T15:15:00",
          "2010-07-15T12:30:00",
          "2010-11-23T09:12:00",
          "2010-10-28T10:16:00",
          "2010-10-15T16:04:00",
          "2010-10-19T16:38:00",
          "2010-05-12T12:09:00",
          "2010-08-22T11:47:00",
          "2010-11-12T09:18:00",
          "2009-12-07T18:02:00",
          "2010-10-07T12:30:00",
          "2010-10-12T13:19:00",
          "2010-09-23T12:19:00",
          "2010-10-29T14:12:00",
          "2010-05-19T11:59:00",
          "2010-07-02T13:25:00",
          "2010-08-13T17:13:00",
          "2010-10-13T14:57:00",
          "2010-11-14T16:12:00",
          "2010-10-20T12:53:00",
          "2010-01-06T12:16:00",
          "2010-03-04T12:06:00",
          "2010-11-25T11:04:00",
          "2009-12-22T09:52:00",
          "2010-10-18T09:28:00",
          "2010-07-08T11:42:00",
          "2010-11-12T15:40:00",
          "2010-08-03T13:03:00",
          "2010-09-13T15:12:00",
          "2010-11-15T09:32:00",
          "2010-02-17T11:27:00",
          "2010-07-11T15:34:00",
          "2009-12-01T09:50:00",
          "2010-05-16T16:05:00",
          "2010-11-25T13:36:00",
          "2010-03-08T13:17:00",
          "2010-04-09T16:54:00",
          "2010-05-17T14:17:00",
          "2010-02-02T16:42:00",
          "2010-06-14T14:49:00",
          "2010-02-23T14:16:00",
          "2010-06-14T12:01:00",
          "2010-01-24T12:15:00",
          "2010-05-24T12:01:00",
          "2010-10-06T14:40:00",
          "2009-12-18T12:59:00",
          "2010-04-30T17:18:00",
          "2010-02-22T17:10:00",
          "2010-10-11T13:57:00",
          "2010-09-27T09:55:00",
          "2010-06-03T09:06:00",
          "2010-08-03T15:17:00",
          "2010-06-27T13:09:00",
          "2010-09-30T17:18:00",
          "2010-08-15T16:00:00",
          "2009-12-17T15:44:00",
          "2010-11-22T15:24:00",
          "2010-06-24T11:46:00",
          "2010-05-19T15:10:00",
          "2010-04-11T14:28:00",
          "2010-03-19T13:41:00",
          "2010-06-16T12:48:00",
          "2010-02-02T13:13:00",
          "2010-11-21T16:02:00",
          "2010-10-01T11:43:00",
          "2010-04-13T13:33:00",
          "2010-06-23T13:19:00",
          "2010-03-01T14:01:00",
          "2010-12-09T16:35:00",
          "2010-02-01T17:18:00",
          "2010-04-28T16:26:00",
          "2010-09-27T12:50:00",
          "2010-11-21T16:13:00",
          "2010-05-27T12:17:00",
          "2010-03-03T16:33:00",
          "2010-02-17T12:03:00",
          "2010-03-01T15:36:00",
          "2010-03-03T15:28:00",
          "2010-11-17T09:22:00",
          "2010-11-03T09:36:00",
          "2010-02-01T14:52:00",
          "2010-04-06T16:37:00",
          "2010-02-23T14:48:00",
          "2010-06-14T11:24:00",
          "2010-09-24T12:18:00",
          "2010-11-12T14:02:00",
          "2009-12-16T12:29:00",
          "2010-07-26T10:35:00",
          "2010-01-12T17:24:00",
          "2010-11-08T09:56:00",
          "2010-06-16T14:26:00",
          "2010-03-24T10:28:00",
          "2010-10-24T12:51:00",
          "2010-10-13T10:46:00",
          "2010-07-14T12:19:00",
          "2010-12-05T12:53:00",
          "2010-11-23T12:00:00",
          "2010-10-08T11:45:00",
          "2010-03-19T14:05:00",
          "2010-11-24T15:23:00",
          "2010-03-31T17:28:00",
          "2010-09-13T14:26:00",
          "2010-11-09T15:20:00",
          "2010-11-10T14:48:00",
          "2009-12-22T14:31:00",
          "2010-05-06T10:04:00",
          "2010-03-08T16:30:00",
          "2010-10-05T10:35:00",
          "2010-12-05T12:35:00",
          "2010-11-04T18:00:00",
          "2010-08-12T16:41:00",
          "2010-11-24T15:03:00",
          "2010-10-28T09:29:00",
          "2010-10-08T17:28:00",
          "2010-09-19T16:18:00",
          "2010-09-17T14:54:00",
          "2010-12-07T15:31:00",
          "2010-09-02T17:52:00",
          "2010-11-05T11:58:00",
          "2010-12-05T15:15:00",
          "2009-12-04T17:31:00",
          "2010-09-05T11:59:00",
          "2010-11-10T10:50:00",
          "2010-03-26T14:01:00",
          "2010-05-18T11:40:00",
          "2010-10-20T10:22:00",
          "2010-02-14T14:10:00",
          "2010-03-29T16:47:00",
          "2010-05-13T15:41:00",
          "2010-05-26T14:38:00",
          "2010-01-15T13:15:00",
          "2010-01-25T13:22:00",
          "2010-09-21T12:49:00",
          "2010-11-10T15:20:00",
          "2010-03-04T10:14:00",
          "2010-03-10T10:50:00",
          "2010-02-15T13:27:00",
          "2010-06-15T12:35:00",
          "2010-08-11T16:44:00",
          "2010-11-16T13:03:00",
          "2010-02-22T11:42:00",
          "2009-12-21T17:14:00",
          "2010-07-27T13:52:00",
          "2010-11-10T11:47:00",
          "2010-12-02T16:34:00",
          "2010-10-08T10:23:00",
          "2010-04-14T10:13:00",
          "2009-12-17T13:36:00",
          "2010-05-07T16:46:00",
          "2010-03-03T12:16:00",
          "2010-04-23T16:16:00",
          "2010-09-09T15:49:00",
          "2010-06-16T14:12:00",
          "2010-10-18T16:52:00",
          "2010-10-29T08:23:00",
          "2010-10-24T10:41:00",
          "2010-11-12T12:44:00",
          "2010-11-01T09:33:00",
          "2010-01-07T13:07:00",
          "2010-04-26T11:57:00",
          "2010-07-20T09:04:00",
          "2010-10-05T13:01:00",
          "2010-02-26T10:11:00",
          "2010-07-07T09:39:00",
          "2009-12-04T14:29:00",
          "2010-08-15T14:01:00",
          "2010-02-25T15:07:00",
          "2010-05-24T14:55:00",
          "2010-10-31T13:12:00",
          "2010-05-05T14:42:00",
          "2010-03-25T13:55:00",
          "2010-11-14T16:16:00",
          "2010-01-18T12:48:00",
          "2010-03-31T17:28:00",
          "2010-08-04T10:57:00",
          "2010-04-01T14:52:00",
          "2010-03-15T16:05:00",
          "2010-04-30T15:57:00",
          "2010-10-12T16:38:00",
          "2010-09-24T12:43:00",
          "2010-04-01T15:04:00",
          "2010-03-15T16:13:00",
          "2010-12-06T16:57:00",
          "2010-01-27T16:41:00",
          "2010-11-30T12:05:00",
          "2010-04-18T11:24:00",
          "2010-05-05T14:42:00",
          "2010-05-06T16:50:00",
          "2010-06-06T15:47:00",
          "2010-11-10T13:08:00",
          "2010-04-13T13:26:00",
          "2010-03-23T11:01:00",
          "2010-04-25T13:40:00",
          "2010-10-24T10:33:00",
          "2010-01-29T13:53:00",
          "2010-08-22T14:31:00",
          "2010-11-22T15:50:00",
          "2010-02-09T12:01:00",
          "2010-01-25T13:14:00",
          "2010-08-26T12:10:00",
          "2010-11-16T12:50:00",
          "2010-04-15T13:52:00",
          "2010-03-08T12:35:00",
          "2010-01-14T17:43:00",
          "2010-10-01T10:24:00",
          "2010-04-25T15:48:00",
          "2010-12-09T19:28:00",
          "2010-01-31T15:47:00",
          "2010-09-06T11:32:00",
          "2010-11-23T13:59:00",
          "2010-07-29T11:22:00",
          "2010-10-21T10:46:00",
          "2010-11-04T13:04:00",
          "2010-08-10T11:49:00",
          "2010-11-25T15:19:00",
          "2010-01-11T12:29:00",
          "2010-08-06T09:18:00",
          "2010-05-06T15:17:00",
          "2010-08-10T13:28:00",
          "2010-11-01T11:48:00",
          "2010-06-28T11:39:00",
          "2010-10-06T12:36:00",
          "2010-04-18T12:31:00",
          "2010-11-11T12:50:00",
          "2010-12-08T14:25:00",
          "2010-10-17T13:02:00",
          "2009-12-09T15:16:00",
          "2009-12-21T11:08:00",
          "2010-08-27T13:53:00",
          "2010-10-10T13:31:00",
          "2010-03-12T11:19:00",
          "2010-09-09T10:37:00",
          "2010-01-25T09:53:00",
          "2010-10-18T12:11:00",
          "2010-08-31T14:40:00",
          "2010-07-29T18:30:00",
          "2010-05-11T13:30:00",
          "2010-01-05T11:29:00",
          "2010-11-12T09:18:00",
          "2010-09-24T12:31:00",
          "2010-11-15T12:50:00",
          "2010-12-09T14:09:00",
          "2010-01-26T12:30:00",
          "2010-02-08T16:23:00",
          "2010-02-28T15:01:00",
          "2010-02-25T13:40:00",
          "2010-10-26T10:34:00",
          "2010-02-17T14:39:00",
          "2010-09-05T15:27:00",
          "2010-09-01T17:17:00",
          "2010-04-21T15:34:00",
          "2010-06-24T12:49:00",
          "2010-02-03T08:15:00",
          "2010-11-10T12:09:00",
          "2010-10-07T16:48:00",
          "2010-04-16T12:43:00",
          "2010-04-01T12:26:00",
          "2010-10-26T14:47:00",
          "2010-10-17T16:06:00",
          "2010-11-04T14:49:00",
          "2010-11-05T12:09:00",
          "2010-10-07T09:12:00",
          "2010-03-07T14:50:00",
          "2010-10-19T12:15:00",
          "2010-03-03T14:20:00",
          "2009-12-10T17:09:00",
          "2010-11-02T13:57:00",
          "2010-08-01T13:48:00",
          "2010-01-05T12:20:00",
          "2010-01-14T18:56:00",
          "2010-11-16T15:46:00",
          "2010-10-07T14:28:00",
          "2010-03-31T12:21:00",
          "2009-12-02T14:34:00",
          "2010-04-14T13:50:00",
          "2010-12-01T15:08:00",
          "2010-04-29T10:54:00",
          "2010-11-29T10:50:00",
          "2010-10-10T13:38:00",
          "2010-01-21T14:01:00",
          "2010-05-10T09:55:00"
         ],
         "xaxis": "x",
         "yaxis": "y"
        },
        {
         "alignmentgroup": "True",
         "hovertemplate": "variable=InvoiceDate<br>value=%{x}<extra></extra>",
         "legendgroup": "InvoiceDate",
         "marker": {
          "color": "#636efa"
         },
         "name": "InvoiceDate",
         "notched": true,
         "offsetgroup": "InvoiceDate",
         "showlegend": false,
         "type": "box",
         "x": [
          "2010-10-14T12:54:00",
          "2010-11-07T16:29:00",
          "2010-10-03T14:08:00",
          "2010-06-11T11:45:00",
          "2009-12-20T10:08:00",
          "2010-08-01T11:23:00",
          "2010-03-26T12:53:00",
          "2010-11-16T18:07:00",
          "2010-06-27T13:16:00",
          "2010-11-26T16:31:00",
          "2010-11-16T12:22:00",
          "2010-06-04T15:50:00",
          "2009-12-02T12:28:00",
          "2010-01-18T08:58:00",
          "2010-11-17T11:33:00",
          "2010-06-04T14:59:00",
          "2010-05-16T15:39:00",
          "2009-12-10T09:49:00",
          "2010-04-29T13:54:00",
          "2010-07-29T13:55:00",
          "2010-03-30T14:29:00",
          "2009-12-03T19:13:00",
          "2010-05-07T14:28:00",
          "2010-09-12T10:30:00",
          "2010-08-02T14:02:00",
          "2010-09-24T16:06:00",
          "2009-12-10T09:49:00",
          "2010-09-19T13:05:00",
          "2010-04-07T14:10:00",
          "2010-07-22T12:13:00",
          "2010-06-21T15:13:00",
          "2010-06-17T10:47:00",
          "2010-04-30T13:41:00",
          "2010-01-27T09:44:00",
          "2010-06-03T19:47:00",
          "2010-04-29T14:16:00",
          "2010-10-21T18:01:00",
          "2010-10-03T11:52:00",
          "2009-12-10T14:50:00",
          "2010-05-04T15:48:00",
          "2010-09-28T11:50:00",
          "2010-03-25T14:22:00",
          "2010-11-28T13:23:00",
          "2010-11-04T11:55:00",
          "2010-06-29T14:11:00",
          "2010-08-25T13:05:00",
          "2010-08-12T14:53:00",
          "2010-01-26T11:24:00",
          "2009-12-18T17:15:00",
          "2010-04-29T13:54:00",
          "2010-05-27T12:24:00",
          "2010-08-31T12:48:00",
          "2010-10-11T14:05:00",
          "2010-11-21T12:29:00",
          "2010-10-29T14:12:00",
          "2010-11-09T14:13:00",
          "2010-09-07T17:19:00",
          "2010-08-18T11:34:00",
          "2010-11-15T12:43:00",
          "2010-07-09T14:58:00",
          "2010-03-26T14:16:00",
          "2010-02-14T12:22:00",
          "2010-11-21T15:56:00",
          "2010-03-22T14:30:00",
          "2010-06-06T15:01:00",
          "2010-03-07T13:48:00",
          "2010-07-26T11:46:00",
          "2010-06-07T14:46:00",
          "2010-09-14T17:50:00",
          "2009-12-09T14:20:00",
          "2010-08-04T16:07:00",
          "2010-02-21T14:57:00",
          "2010-04-28T11:54:00",
          "2010-08-06T08:57:00",
          "2010-10-18T15:27:00",
          "2010-04-27T12:20:00",
          "2010-01-18T13:15:00",
          "2010-02-02T15:49:00",
          "2010-09-23T10:45:00",
          "2010-07-25T15:44:00",
          "2010-01-14T16:16:00",
          "2009-12-16T13:49:00",
          "2010-08-26T20:07:00",
          "2010-06-28T12:04:00",
          "2010-10-13T10:46:00",
          "2010-09-27T11:41:00",
          "2010-07-16T09:05:00",
          "2010-10-18T09:28:00",
          "2010-11-03T10:47:00",
          "2010-11-04T13:04:00",
          "2010-08-15T12:40:00",
          "2010-06-08T14:10:00",
          "2010-06-29T15:17:00",
          "2010-06-28T08:28:00",
          "2010-09-27T13:22:00",
          "2010-11-07T13:30:00",
          "2010-09-14T13:32:00",
          "2009-12-14T17:16:00",
          "2010-07-25T11:31:00",
          "2010-02-04T08:56:00",
          "2010-03-10T12:17:00",
          "2009-12-09T13:22:00",
          "2010-11-24T16:16:00",
          "2010-04-16T13:34:00",
          "2010-10-14T14:18:00",
          "2010-10-26T14:00:00",
          "2010-04-15T13:03:00",
          "2010-09-24T12:39:00",
          "2010-08-09T13:10:00",
          "2009-12-10T15:56:00",
          "2010-09-02T12:53:00",
          "2009-12-15T14:34:00",
          "2009-12-16T17:34:00",
          "2010-07-01T10:41:00",
          "2010-03-26T14:51:00",
          "2010-11-02T16:20:00",
          "2010-11-02T10:38:00",
          "2010-04-25T13:49:00",
          "2010-10-07T13:21:00",
          "2010-03-30T12:36:00",
          "2010-03-28T14:53:00",
          "2009-12-15T10:36:00",
          "2010-10-05T13:14:00",
          "2010-05-06T15:09:00",
          "2010-10-12T15:46:00",
          "2010-05-27T12:31:00",
          "2010-06-22T16:28:00",
          "2010-08-09T12:28:00",
          "2010-05-10T17:09:00",
          "2010-11-28T10:33:00",
          "2010-09-16T19:17:00",
          "2010-05-05T08:53:00",
          "2010-04-22T09:54:00",
          "2010-01-14T14:48:00",
          "2009-12-10T09:49:00",
          "2010-04-28T13:34:00",
          "2010-03-26T12:53:00",
          "2010-03-29T14:53:00",
          "2010-03-05T09:09:00",
          "2010-04-27T16:45:00",
          "2010-04-27T09:30:00",
          "2010-10-01T10:33:00",
          "2010-03-02T13:09:00",
          "2009-12-14T13:19:00",
          "2010-11-14T16:32:00",
          "2010-08-23T14:38:00",
          "2010-08-24T17:21:00",
          "2010-11-09T12:47:00",
          "2010-10-21T16:30:00",
          "2010-10-28T09:29:00",
          "2010-11-16T14:15:00",
          "2010-02-03T11:58:00",
          "2010-06-09T13:08:00",
          "2009-12-06T15:48:00",
          "2010-09-09T10:50:00",
          "2010-09-02T13:27:00",
          "2010-11-12T14:28:00",
          "2010-06-17T17:41:00",
          "2010-11-30T12:05:00",
          "2010-09-02T17:52:00",
          "2010-07-28T14:54:00",
          "2010-11-02T18:08:00",
          "2010-04-13T16:33:00",
          "2010-10-31T14:40:00",
          "2009-12-01T12:52:00",
          "2010-07-02T15:55:00",
          "2010-09-02T14:33:00",
          "2009-12-06T12:17:00",
          "2010-04-07T16:13:00",
          "2010-02-22T12:05:00",
          "2010-05-24T10:44:00",
          "2010-08-18T16:54:00",
          "2010-10-04T12:36:00",
          "2010-12-06T14:36:00",
          "2010-03-19T11:10:00",
          "2010-11-03T13:13:00",
          "2010-09-16T14:34:00",
          "2010-02-28T10:25:00",
          "2010-05-20T13:41:00",
          "2010-03-25T12:43:00",
          "2010-06-07T11:32:00",
          "2010-01-28T12:36:00",
          "2010-12-09T14:09:00",
          "2010-08-08T12:35:00",
          "2010-09-27T12:50:00",
          "2010-04-16T15:55:00",
          "2010-06-22T14:21:00",
          "2010-03-03T08:42:00",
          "2010-09-29T12:41:00",
          "2010-05-13T16:49:00",
          "2010-06-01T16:06:00",
          "2010-07-06T14:38:00",
          "2010-09-28T16:12:00",
          "2010-03-10T10:25:00",
          "2010-11-02T14:02:00",
          "2009-12-05T12:36:00",
          "2010-11-25T13:29:00",
          "2010-01-07T10:57:00",
          "2010-02-23T12:26:00",
          "2010-03-03T17:18:00",
          "2010-02-01T13:25:00",
          "2010-11-01T16:45:00",
          "2010-11-16T12:22:00",
          "2010-12-06T14:51:00",
          "2010-01-06T10:17:00",
          "2010-03-26T14:01:00",
          "2010-01-14T18:56:00",
          "2010-06-17T12:21:00",
          "2010-09-21T15:46:00",
          "2010-04-28T15:00:00",
          "2010-09-23T14:47:00",
          "2010-04-19T10:43:00",
          "2010-11-09T10:35:00",
          "2009-12-23T13:00:00",
          "2010-02-02T10:06:00",
          "2010-06-30T11:32:00",
          "2010-10-20T14:42:00",
          "2010-06-02T14:48:00",
          "2010-01-28T14:31:00",
          "2010-05-30T15:58:00",
          "2010-05-25T10:14:00",
          "2010-11-07T12:03:00",
          "2010-11-01T13:33:00",
          "2010-04-27T13:48:00",
          "2009-12-17T12:04:00",
          "2010-12-07T15:28:00",
          "2010-04-20T16:00:00",
          "2010-12-06T13:41:00",
          "2009-12-17T12:32:00",
          "2010-08-04T15:52:00",
          "2010-01-04T12:57:00",
          "2010-06-09T14:13:00",
          "2010-03-18T14:14:00",
          "2010-04-06T15:10:00",
          "2010-11-24T10:30:00",
          "2010-10-18T17:11:00",
          "2010-04-09T17:13:00",
          "2010-11-29T16:45:00",
          "2010-07-02T08:26:00",
          "2010-06-15T14:42:00",
          "2010-10-11T11:34:00",
          "2010-09-02T17:52:00",
          "2010-03-10T13:08:00",
          "2010-11-01T11:35:00",
          "2010-11-09T14:13:00",
          "2009-12-04T10:57:00",
          "2010-08-11T15:46:00",
          "2010-03-25T12:39:00",
          "2010-07-05T11:54:00",
          "2010-04-13T11:43:00",
          "2010-03-07T16:12:00",
          "2010-10-11T13:49:00",
          "2010-09-30T11:45:00",
          "2009-12-03T10:20:00",
          "2010-11-28T11:33:00",
          "2010-04-26T10:31:00",
          "2010-05-18T15:13:00",
          "2010-07-19T16:10:00",
          "2010-10-14T13:09:00",
          "2010-08-22T16:07:00",
          "2010-08-31T12:41:00",
          "2009-12-02T15:08:00",
          "2010-05-04T11:51:00",
          "2010-06-04T12:23:00",
          "2010-10-06T14:34:00",
          "2010-10-24T13:57:00",
          "2010-10-12T15:46:00",
          "2010-11-07T12:04:00",
          "2010-05-24T12:25:00",
          "2010-11-11T15:49:00",
          "2010-11-22T13:02:00",
          "2010-06-25T13:35:00",
          "2009-12-11T13:52:00",
          "2010-02-21T12:43:00",
          "2010-09-24T16:06:00",
          "2010-05-06T20:01:00",
          "2010-04-28T11:55:00",
          "2010-06-08T14:52:00",
          "2010-08-12T10:12:00",
          "2010-07-15T11:44:00",
          "2010-04-07T11:04:00",
          "2010-02-07T13:30:00",
          "2010-12-08T13:18:00",
          "2010-08-15T11:22:00",
          "2010-11-22T11:37:00",
          "2010-08-31T12:35:00",
          "2010-10-07T16:14:00",
          "2010-08-19T16:19:00",
          "2010-12-06T09:58:00",
          "2010-05-20T17:57:00",
          "2010-09-27T12:45:00",
          "2010-03-26T14:01:00",
          "2010-05-14T12:52:00",
          "2010-11-24T12:43:00",
          "2010-03-21T11:32:00",
          "2010-08-04T10:52:00",
          "2010-05-07T17:28:00",
          "2010-07-08T13:07:00",
          "2010-08-03T12:55:00",
          "2009-12-06T15:41:00",
          "2010-07-19T12:53:00",
          "2010-02-17T14:34:00",
          "2010-08-11T12:20:00",
          "2010-10-26T13:44:00",
          "2010-11-14T12:07:00",
          "2010-10-07T10:19:00",
          "2010-07-08T15:14:00",
          "2010-06-07T10:54:00",
          "2010-02-09T09:47:00",
          "2009-12-16T15:13:00",
          "2010-01-13T17:51:00",
          "2010-06-24T11:31:00",
          "2010-02-28T15:01:00",
          "2010-03-24T13:30:00",
          "2010-08-12T17:01:00",
          "2010-06-14T13:35:00",
          "2009-12-07T12:32:00",
          "2010-04-23T10:20:00",
          "2010-01-14T14:32:00",
          "2009-12-01T17:08:00",
          "2010-03-23T15:47:00",
          "2010-11-16T13:04:00",
          "2010-04-08T11:20:00",
          "2010-06-22T16:28:00",
          "2010-08-24T11:57:00",
          "2010-04-26T16:21:00",
          "2010-11-08T12:28:00",
          "2009-12-02T14:36:00",
          "2010-03-30T14:29:00",
          "2010-10-05T13:48:00",
          "2010-10-18T13:18:00",
          "2010-03-23T14:06:00",
          "2010-06-17T13:48:00",
          "2010-04-11T13:09:00",
          "2010-01-13T17:44:00",
          "2010-01-20T13:10:00",
          "2010-10-01T12:17:00",
          "2010-09-13T10:46:00",
          "2010-09-08T13:57:00",
          "2010-01-24T12:15:00",
          "2010-06-23T13:16:00",
          "2010-09-13T17:25:00",
          "2010-04-15T12:20:00",
          "2010-09-24T13:30:00",
          "2010-02-23T13:59:00",
          "2010-06-27T13:09:00",
          "2010-04-19T11:19:00",
          "2010-11-23T14:06:00",
          "2010-04-28T09:18:00",
          "2010-07-29T16:35:00",
          "2010-11-30T13:02:00",
          "2010-05-02T15:10:00",
          "2010-10-07T14:11:00",
          "2010-11-26T15:51:00",
          "2010-12-02T15:46:00",
          "2010-10-20T11:58:00",
          "2010-11-12T15:46:00",
          "2010-01-29T17:55:00",
          "2010-10-18T15:27:00",
          "2010-04-29T17:01:00",
          "2010-07-01T12:02:00",
          "2010-08-23T15:44:00",
          "2010-10-10T10:49:00",
          "2010-09-13T12:56:00",
          "2010-03-16T13:44:00",
          "2009-12-22T15:06:00",
          "2010-12-05T12:57:00",
          "2010-11-10T16:40:00",
          "2010-06-14T14:06:00",
          "2010-06-21T12:17:00",
          "2010-05-04T15:48:00",
          "2010-01-10T12:43:00",
          "2010-11-12T15:05:00",
          "2010-04-18T12:49:00",
          "2010-03-24T16:33:00",
          "2010-11-25T19:16:00",
          "2010-02-02T13:13:00",
          "2010-08-29T15:07:00",
          "2010-01-13T17:08:00",
          "2010-01-11T09:31:00",
          "2010-12-01T14:32:00",
          "2010-06-20T16:06:00",
          "2010-01-14T15:10:00",
          "2010-09-28T15:07:00",
          "2010-03-12T11:19:00",
          "2010-06-15T12:14:00",
          "2010-04-19T11:13:00",
          "2010-05-19T15:24:00",
          "2010-07-30T17:08:00",
          "2010-01-26T10:25:00",
          "2010-05-10T13:43:00",
          "2010-10-15T15:46:00",
          "2010-09-03T14:22:00",
          "2010-11-12T12:15:00",
          "2010-02-22T14:28:00",
          "2010-06-09T11:23:00",
          "2010-11-03T09:36:00",
          "2010-09-29T13:44:00",
          "2010-11-12T09:18:00",
          "2010-02-14T13:39:00",
          "2010-10-14T17:44:00",
          "2010-07-28T09:41:00",
          "2010-12-06T16:57:00",
          "2010-10-26T12:54:00",
          "2010-11-23T11:26:00",
          "2010-03-08T16:30:00",
          "2010-08-12T13:38:00",
          "2010-08-31T15:36:00",
          "2010-11-12T15:20:00",
          "2010-10-17T16:16:00",
          "2010-03-02T12:18:00",
          "2010-11-12T17:00:00",
          "2010-02-18T12:36:00",
          "2010-03-10T10:50:00",
          "2010-11-23T16:53:00",
          "2010-03-31T13:22:00",
          "2010-10-11T14:32:00",
          "2009-12-06T12:52:00",
          "2010-03-07T13:00:00",
          "2010-09-28T15:51:00",
          "2010-03-29T17:17:00",
          "2009-12-16T16:04:00",
          "2010-11-15T15:10:00",
          "2010-02-02T10:15:00",
          "2010-09-13T11:28:00",
          "2010-05-07T14:02:00",
          "2010-03-16T10:58:00",
          "2010-03-22T15:52:00",
          "2010-10-13T10:53:00",
          "2010-05-06T16:27:00",
          "2010-11-15T12:17:00",
          "2010-07-15T11:47:00",
          "2010-06-29T13:12:00",
          "2010-04-21T15:04:00",
          "2010-11-07T12:28:00",
          "2010-11-25T15:19:00",
          "2010-07-26T14:32:00",
          "2010-03-30T15:47:00",
          "2010-10-20T10:50:00",
          "2010-11-12T09:18:00",
          "2010-06-07T15:31:00",
          "2010-08-22T14:31:00",
          "2009-12-03T20:03:00",
          "2009-12-16T17:01:00",
          "2010-08-10T12:06:00",
          "2010-09-17T13:20:00",
          "2010-06-17T13:48:00",
          "2010-03-09T14:16:00",
          "2010-06-11T12:45:00",
          "2010-08-10T16:10:00",
          "2010-08-16T15:31:00",
          "2010-11-11T14:08:00",
          "2010-08-04T14:50:00",
          "2009-12-09T09:51:00",
          "2010-12-05T12:43:00",
          "2010-11-23T16:18:00",
          "2009-12-04T09:43:00",
          "2010-08-17T11:52:00",
          "2009-12-04T11:07:00",
          "2010-10-25T16:57:00",
          "2010-07-29T19:56:00",
          "2010-10-14T10:00:00",
          "2010-03-14T13:40:00",
          "2010-11-16T13:04:00",
          "2010-10-18T12:49:00",
          "2010-06-10T17:27:00",
          "2010-01-21T09:37:00",
          "2010-06-09T14:43:00",
          "2010-04-18T14:35:00",
          "2010-01-04T12:30:00",
          "2010-12-03T11:36:00",
          "2009-12-10T19:35:00",
          "2010-02-05T08:43:00",
          "2010-07-09T14:55:00",
          "2010-06-15T11:46:00",
          "2010-06-15T15:23:00",
          "2010-04-18T12:05:00",
          "2010-08-16T12:00:00",
          "2010-03-19T17:13:00",
          "2009-12-03T19:31:00",
          "2010-11-14T11:54:00",
          "2010-11-24T12:04:00",
          "2010-10-25T16:57:00",
          "2010-08-18T16:54:00",
          "2009-12-08T12:38:00",
          "2010-06-10T13:52:00",
          "2010-09-29T13:08:00",
          "2010-07-07T16:29:00",
          "2010-09-09T12:37:00",
          "2010-09-06T10:19:00",
          "2010-04-20T11:30:00",
          "2010-11-24T13:56:00",
          "2010-11-11T13:26:00",
          "2010-06-08T14:52:00",
          "2010-08-02T15:26:00",
          "2010-08-08T10:46:00",
          "2010-08-12T14:32:00",
          "2010-05-28T12:37:00",
          "2009-12-16T17:01:00",
          "2010-01-25T15:23:00",
          "2010-06-07T14:48:00",
          "2010-09-29T10:26:00",
          "2010-10-01T14:07:00",
          "2010-04-23T16:16:00",
          "2010-08-15T14:01:00",
          "2010-05-26T11:12:00",
          "2009-12-13T13:53:00",
          "2010-01-05T10:18:00",
          "2010-04-23T13:12:00",
          "2010-10-05T13:21:00",
          "2010-03-12T15:13:00",
          "2010-06-03T09:29:00",
          "2010-05-28T12:11:00",
          "2009-12-01T09:08:00",
          "2010-10-11T13:53:00",
          "2010-11-05T10:23:00",
          "2010-01-20T17:50:00",
          "2010-03-16T16:18:00",
          "2010-06-18T13:22:00",
          "2010-06-01T12:00:00",
          "2009-12-09T09:51:00",
          "2010-07-01T14:24:00",
          "2010-11-10T16:38:00",
          "2009-12-10T18:27:00",
          "2010-09-20T11:45:00",
          "2010-03-12T11:19:00",
          "2010-10-20T15:25:00",
          "2010-08-31T12:41:00",
          "2010-06-16T14:34:00",
          "2010-07-16T09:24:00",
          "2010-03-26T11:37:00",
          "2010-10-07T14:28:00",
          "2009-12-01T14:28:00",
          "2010-05-30T13:35:00",
          "2010-07-15T14:08:00",
          "2010-05-25T13:21:00",
          "2010-10-07T10:19:00",
          "2010-10-28T18:54:00",
          "2010-07-27T12:39:00",
          "2010-01-08T15:16:00",
          "2010-08-16T12:36:00",
          "2010-05-04T12:16:00",
          "2010-11-25T19:36:00",
          "2010-09-22T11:37:00",
          "2010-01-28T12:20:00",
          "2010-01-28T15:51:00",
          "2010-03-09T14:32:00",
          "2010-10-07T10:37:00",
          "2010-06-09T12:11:00",
          "2010-01-31T12:15:00",
          "2010-02-15T14:47:00",
          "2010-11-25T13:51:00",
          "2010-02-19T17:40:00",
          "2010-03-02T11:33:00",
          "2010-01-04T12:30:00",
          "2010-02-01T13:45:00",
          "2010-10-19T09:10:00",
          "2010-01-21T11:51:00",
          "2010-06-09T14:41:00",
          "2010-06-24T16:25:00",
          "2010-01-14T14:06:00",
          "2010-11-25T14:03:00",
          "2010-06-03T17:15:00",
          "2010-08-26T12:35:00",
          "2010-11-12T15:20:00",
          "2010-06-17T13:48:00",
          "2010-06-21T13:18:00",
          "2010-11-26T13:22:00",
          "2010-12-05T12:26:00",
          "2010-10-03T14:13:00",
          "2010-01-07T11:22:00",
          "2010-04-29T11:18:00",
          "2010-01-14T16:16:00",
          "2010-01-18T12:55:00",
          "2010-09-20T12:15:00",
          "2010-11-07T13:08:00",
          "2010-01-19T15:45:00",
          "2009-12-15T17:05:00",
          "2010-02-08T11:06:00",
          "2010-01-20T10:48:00",
          "2010-10-31T14:09:00",
          "2010-03-21T12:20:00",
          "2010-08-17T12:03:00",
          "2010-02-15T11:22:00",
          "2010-11-21T12:40:00",
          "2010-02-17T12:12:00",
          "2009-12-06T10:26:00",
          "2010-11-25T13:18:00",
          "2010-10-14T18:02:00",
          "2010-06-16T16:04:00",
          "2010-10-10T16:01:00",
          "2010-01-25T13:14:00",
          "2010-10-27T08:36:00",
          "2010-12-03T15:05:00",
          "2010-07-21T14:43:00",
          "2010-05-07T14:56:00",
          "2010-05-19T14:22:00",
          "2010-11-08T14:19:00",
          "2010-12-08T12:17:00",
          "2010-10-21T15:38:00",
          "2010-09-14T16:15:00",
          "2010-09-16T12:27:00",
          "2010-08-03T14:23:00",
          "2010-11-17T12:44:00",
          "2010-05-06T11:44:00",
          "2010-08-08T14:37:00",
          "2010-04-22T12:58:00",
          "2010-03-07T12:06:00",
          "2010-10-24T11:18:00",
          "2010-10-27T14:05:00",
          "2010-07-19T12:17:00",
          "2010-11-03T13:47:00",
          "2010-02-25T13:23:00",
          "2010-08-18T16:54:00",
          "2010-08-16T14:59:00",
          "2010-06-06T15:01:00",
          "2010-06-15T12:22:00",
          "2010-08-17T12:03:00",
          "2010-07-04T13:10:00",
          "2010-11-19T12:56:00",
          "2010-09-28T14:44:00",
          "2009-12-22T09:41:00",
          "2010-06-14T16:25:00",
          "2010-01-04T09:24:00",
          "2010-08-26T15:42:00",
          "2010-04-25T11:43:00",
          "2010-06-04T14:54:00",
          "2010-07-14T13:01:00",
          "2009-12-16T17:01:00",
          "2010-09-23T13:26:00",
          "2010-11-10T13:23:00",
          "2010-10-18T12:58:00",
          "2010-04-25T11:43:00",
          "2010-04-06T12:39:00",
          "2010-11-17T09:22:00",
          "2010-06-09T10:52:00",
          "2010-06-17T09:30:00",
          "2010-08-23T11:58:00",
          "2010-10-31T12:36:00",
          "2009-12-16T17:36:00",
          "2010-11-30T17:43:00",
          "2010-03-23T12:18:00",
          "2010-09-02T13:29:00",
          "2010-09-07T09:31:00",
          "2010-02-17T12:03:00",
          "2010-11-17T16:48:00",
          "2010-10-20T17:12:00",
          "2010-04-15T16:35:00",
          "2010-11-19T13:07:00",
          "2010-09-19T16:20:00",
          "2010-12-09T14:19:00",
          "2010-02-28T14:12:00",
          "2010-04-07T10:36:00",
          "2010-08-15T13:26:00",
          "2010-03-01T09:58:00",
          "2010-02-19T17:40:00",
          "2010-10-07T14:24:00",
          "2010-02-08T15:11:00",
          "2010-10-18T14:07:00",
          "2010-06-15T12:11:00",
          "2010-09-10T13:27:00",
          "2010-08-18T11:34:00",
          "2010-05-27T11:11:00",
          "2009-12-10T18:27:00",
          "2010-10-05T17:55:00",
          "2010-07-20T09:04:00",
          "2010-05-28T10:08:00",
          "2010-07-04T13:31:00",
          "2010-07-08T10:07:00",
          "2010-01-22T14:17:00",
          "2009-12-15T17:25:00",
          "2010-08-03T10:30:00",
          "2009-12-22T09:41:00",
          "2009-12-03T13:09:00",
          "2010-04-28T14:25:00",
          "2009-12-04T10:57:00",
          "2010-11-03T09:36:00",
          "2010-03-12T10:41:00",
          "2010-09-02T14:52:00",
          "2010-11-28T14:13:00",
          "2010-09-16T14:52:00",
          "2010-04-23T11:43:00",
          "2010-10-22T14:04:00",
          "2009-12-22T15:13:00",
          "2010-11-23T16:53:00",
          "2010-03-29T11:49:00",
          "2010-11-10T12:09:00",
          "2010-06-14T12:41:00",
          "2010-09-28T09:13:00",
          "2010-03-09T14:16:00",
          "2010-08-22T12:52:00",
          "2010-10-19T12:50:00",
          "2010-03-25T13:16:00",
          "2010-02-14T15:30:00",
          "2010-08-29T10:16:00",
          "2010-08-25T11:35:00",
          "2010-10-26T12:14:00",
          "2010-06-02T11:54:00",
          "2009-12-16T17:01:00",
          "2010-10-20T13:42:00",
          "2010-02-08T16:53:00",
          "2009-12-07T15:15:00",
          "2010-01-26T13:04:00",
          "2010-11-17T09:22:00",
          "2010-02-16T14:32:00",
          "2010-01-29T11:45:00",
          "2010-10-11T11:34:00",
          "2009-12-13T13:31:00",
          "2010-10-29T12:07:00",
          "2010-04-29T15:34:00",
          "2010-04-11T16:06:00",
          "2010-11-29T12:06:00",
          "2010-03-23T08:40:00",
          "2010-03-30T10:55:00",
          "2010-01-26T10:25:00",
          "2010-08-03T14:38:00",
          "2010-10-13T13:12:00",
          "2010-10-18T17:11:00",
          "2010-04-19T11:13:00",
          "2009-12-02T15:15:00",
          "2010-07-15T12:30:00",
          "2010-11-23T09:12:00",
          "2010-10-28T10:16:00",
          "2010-10-15T16:04:00",
          "2010-10-19T16:38:00",
          "2010-05-12T12:09:00",
          "2010-08-22T11:47:00",
          "2010-11-12T09:18:00",
          "2009-12-07T18:02:00",
          "2010-10-07T12:30:00",
          "2010-10-12T13:19:00",
          "2010-09-23T12:19:00",
          "2010-10-29T14:12:00",
          "2010-05-19T11:59:00",
          "2010-07-02T13:25:00",
          "2010-08-13T17:13:00",
          "2010-10-13T14:57:00",
          "2010-11-14T16:12:00",
          "2010-10-20T12:53:00",
          "2010-01-06T12:16:00",
          "2010-03-04T12:06:00",
          "2010-11-25T11:04:00",
          "2009-12-22T09:52:00",
          "2010-10-18T09:28:00",
          "2010-07-08T11:42:00",
          "2010-11-12T15:40:00",
          "2010-08-03T13:03:00",
          "2010-09-13T15:12:00",
          "2010-11-15T09:32:00",
          "2010-02-17T11:27:00",
          "2010-07-11T15:34:00",
          "2009-12-01T09:50:00",
          "2010-05-16T16:05:00",
          "2010-11-25T13:36:00",
          "2010-03-08T13:17:00",
          "2010-04-09T16:54:00",
          "2010-05-17T14:17:00",
          "2010-02-02T16:42:00",
          "2010-06-14T14:49:00",
          "2010-02-23T14:16:00",
          "2010-06-14T12:01:00",
          "2010-01-24T12:15:00",
          "2010-05-24T12:01:00",
          "2010-10-06T14:40:00",
          "2009-12-18T12:59:00",
          "2010-04-30T17:18:00",
          "2010-02-22T17:10:00",
          "2010-10-11T13:57:00",
          "2010-09-27T09:55:00",
          "2010-06-03T09:06:00",
          "2010-08-03T15:17:00",
          "2010-06-27T13:09:00",
          "2010-09-30T17:18:00",
          "2010-08-15T16:00:00",
          "2009-12-17T15:44:00",
          "2010-11-22T15:24:00",
          "2010-06-24T11:46:00",
          "2010-05-19T15:10:00",
          "2010-04-11T14:28:00",
          "2010-03-19T13:41:00",
          "2010-06-16T12:48:00",
          "2010-02-02T13:13:00",
          "2010-11-21T16:02:00",
          "2010-10-01T11:43:00",
          "2010-04-13T13:33:00",
          "2010-06-23T13:19:00",
          "2010-03-01T14:01:00",
          "2010-12-09T16:35:00",
          "2010-02-01T17:18:00",
          "2010-04-28T16:26:00",
          "2010-09-27T12:50:00",
          "2010-11-21T16:13:00",
          "2010-05-27T12:17:00",
          "2010-03-03T16:33:00",
          "2010-02-17T12:03:00",
          "2010-03-01T15:36:00",
          "2010-03-03T15:28:00",
          "2010-11-17T09:22:00",
          "2010-11-03T09:36:00",
          "2010-02-01T14:52:00",
          "2010-04-06T16:37:00",
          "2010-02-23T14:48:00",
          "2010-06-14T11:24:00",
          "2010-09-24T12:18:00",
          "2010-11-12T14:02:00",
          "2009-12-16T12:29:00",
          "2010-07-26T10:35:00",
          "2010-01-12T17:24:00",
          "2010-11-08T09:56:00",
          "2010-06-16T14:26:00",
          "2010-03-24T10:28:00",
          "2010-10-24T12:51:00",
          "2010-10-13T10:46:00",
          "2010-07-14T12:19:00",
          "2010-12-05T12:53:00",
          "2010-11-23T12:00:00",
          "2010-10-08T11:45:00",
          "2010-03-19T14:05:00",
          "2010-11-24T15:23:00",
          "2010-03-31T17:28:00",
          "2010-09-13T14:26:00",
          "2010-11-09T15:20:00",
          "2010-11-10T14:48:00",
          "2009-12-22T14:31:00",
          "2010-05-06T10:04:00",
          "2010-03-08T16:30:00",
          "2010-10-05T10:35:00",
          "2010-12-05T12:35:00",
          "2010-11-04T18:00:00",
          "2010-08-12T16:41:00",
          "2010-11-24T15:03:00",
          "2010-10-28T09:29:00",
          "2010-10-08T17:28:00",
          "2010-09-19T16:18:00",
          "2010-09-17T14:54:00",
          "2010-12-07T15:31:00",
          "2010-09-02T17:52:00",
          "2010-11-05T11:58:00",
          "2010-12-05T15:15:00",
          "2009-12-04T17:31:00",
          "2010-09-05T11:59:00",
          "2010-11-10T10:50:00",
          "2010-03-26T14:01:00",
          "2010-05-18T11:40:00",
          "2010-10-20T10:22:00",
          "2010-02-14T14:10:00",
          "2010-03-29T16:47:00",
          "2010-05-13T15:41:00",
          "2010-05-26T14:38:00",
          "2010-01-15T13:15:00",
          "2010-01-25T13:22:00",
          "2010-09-21T12:49:00",
          "2010-11-10T15:20:00",
          "2010-03-04T10:14:00",
          "2010-03-10T10:50:00",
          "2010-02-15T13:27:00",
          "2010-06-15T12:35:00",
          "2010-08-11T16:44:00",
          "2010-11-16T13:03:00",
          "2010-02-22T11:42:00",
          "2009-12-21T17:14:00",
          "2010-07-27T13:52:00",
          "2010-11-10T11:47:00",
          "2010-12-02T16:34:00",
          "2010-10-08T10:23:00",
          "2010-04-14T10:13:00",
          "2009-12-17T13:36:00",
          "2010-05-07T16:46:00",
          "2010-03-03T12:16:00",
          "2010-04-23T16:16:00",
          "2010-09-09T15:49:00",
          "2010-06-16T14:12:00",
          "2010-10-18T16:52:00",
          "2010-10-29T08:23:00",
          "2010-10-24T10:41:00",
          "2010-11-12T12:44:00",
          "2010-11-01T09:33:00",
          "2010-01-07T13:07:00",
          "2010-04-26T11:57:00",
          "2010-07-20T09:04:00",
          "2010-10-05T13:01:00",
          "2010-02-26T10:11:00",
          "2010-07-07T09:39:00",
          "2009-12-04T14:29:00",
          "2010-08-15T14:01:00",
          "2010-02-25T15:07:00",
          "2010-05-24T14:55:00",
          "2010-10-31T13:12:00",
          "2010-05-05T14:42:00",
          "2010-03-25T13:55:00",
          "2010-11-14T16:16:00",
          "2010-01-18T12:48:00",
          "2010-03-31T17:28:00",
          "2010-08-04T10:57:00",
          "2010-04-01T14:52:00",
          "2010-03-15T16:05:00",
          "2010-04-30T15:57:00",
          "2010-10-12T16:38:00",
          "2010-09-24T12:43:00",
          "2010-04-01T15:04:00",
          "2010-03-15T16:13:00",
          "2010-12-06T16:57:00",
          "2010-01-27T16:41:00",
          "2010-11-30T12:05:00",
          "2010-04-18T11:24:00",
          "2010-05-05T14:42:00",
          "2010-05-06T16:50:00",
          "2010-06-06T15:47:00",
          "2010-11-10T13:08:00",
          "2010-04-13T13:26:00",
          "2010-03-23T11:01:00",
          "2010-04-25T13:40:00",
          "2010-10-24T10:33:00",
          "2010-01-29T13:53:00",
          "2010-08-22T14:31:00",
          "2010-11-22T15:50:00",
          "2010-02-09T12:01:00",
          "2010-01-25T13:14:00",
          "2010-08-26T12:10:00",
          "2010-11-16T12:50:00",
          "2010-04-15T13:52:00",
          "2010-03-08T12:35:00",
          "2010-01-14T17:43:00",
          "2010-10-01T10:24:00",
          "2010-04-25T15:48:00",
          "2010-12-09T19:28:00",
          "2010-01-31T15:47:00",
          "2010-09-06T11:32:00",
          "2010-11-23T13:59:00",
          "2010-07-29T11:22:00",
          "2010-10-21T10:46:00",
          "2010-11-04T13:04:00",
          "2010-08-10T11:49:00",
          "2010-11-25T15:19:00",
          "2010-01-11T12:29:00",
          "2010-08-06T09:18:00",
          "2010-05-06T15:17:00",
          "2010-08-10T13:28:00",
          "2010-11-01T11:48:00",
          "2010-06-28T11:39:00",
          "2010-10-06T12:36:00",
          "2010-04-18T12:31:00",
          "2010-11-11T12:50:00",
          "2010-12-08T14:25:00",
          "2010-10-17T13:02:00",
          "2009-12-09T15:16:00",
          "2009-12-21T11:08:00",
          "2010-08-27T13:53:00",
          "2010-10-10T13:31:00",
          "2010-03-12T11:19:00",
          "2010-09-09T10:37:00",
          "2010-01-25T09:53:00",
          "2010-10-18T12:11:00",
          "2010-08-31T14:40:00",
          "2010-07-29T18:30:00",
          "2010-05-11T13:30:00",
          "2010-01-05T11:29:00",
          "2010-11-12T09:18:00",
          "2010-09-24T12:31:00",
          "2010-11-15T12:50:00",
          "2010-12-09T14:09:00",
          "2010-01-26T12:30:00",
          "2010-02-08T16:23:00",
          "2010-02-28T15:01:00",
          "2010-02-25T13:40:00",
          "2010-10-26T10:34:00",
          "2010-02-17T14:39:00",
          "2010-09-05T15:27:00",
          "2010-09-01T17:17:00",
          "2010-04-21T15:34:00",
          "2010-06-24T12:49:00",
          "2010-02-03T08:15:00",
          "2010-11-10T12:09:00",
          "2010-10-07T16:48:00",
          "2010-04-16T12:43:00",
          "2010-04-01T12:26:00",
          "2010-10-26T14:47:00",
          "2010-10-17T16:06:00",
          "2010-11-04T14:49:00",
          "2010-11-05T12:09:00",
          "2010-10-07T09:12:00",
          "2010-03-07T14:50:00",
          "2010-10-19T12:15:00",
          "2010-03-03T14:20:00",
          "2009-12-10T17:09:00",
          "2010-11-02T13:57:00",
          "2010-08-01T13:48:00",
          "2010-01-05T12:20:00",
          "2010-01-14T18:56:00",
          "2010-11-16T15:46:00",
          "2010-10-07T14:28:00",
          "2010-03-31T12:21:00",
          "2009-12-02T14:34:00",
          "2010-04-14T13:50:00",
          "2010-12-01T15:08:00",
          "2010-04-29T10:54:00",
          "2010-11-29T10:50:00",
          "2010-10-10T13:38:00",
          "2010-01-21T14:01:00",
          "2010-05-10T09:55:00"
         ],
         "xaxis": "x2",
         "yaxis": "y2"
        }
       ],
       "layout": {
        "barmode": "relative",
        "legend": {
         "title": {
          "text": "variable"
         },
         "tracegroupgap": 0
        },
        "template": {
         "data": {
          "bar": [
           {
            "error_x": {
             "color": "#2a3f5f"
            },
            "error_y": {
             "color": "#2a3f5f"
            },
            "marker": {
             "line": {
              "color": "#E5ECF6",
              "width": 0.5
             },
             "pattern": {
              "fillmode": "overlay",
              "size": 10,
              "solidity": 0.2
             }
            },
            "type": "bar"
           }
          ],
          "barpolar": [
           {
            "marker": {
             "line": {
              "color": "#E5ECF6",
              "width": 0.5
             },
             "pattern": {
              "fillmode": "overlay",
              "size": 10,
              "solidity": 0.2
             }
            },
            "type": "barpolar"
           }
          ],
          "carpet": [
           {
            "aaxis": {
             "endlinecolor": "#2a3f5f",
             "gridcolor": "white",
             "linecolor": "white",
             "minorgridcolor": "white",
             "startlinecolor": "#2a3f5f"
            },
            "baxis": {
             "endlinecolor": "#2a3f5f",
             "gridcolor": "white",
             "linecolor": "white",
             "minorgridcolor": "white",
             "startlinecolor": "#2a3f5f"
            },
            "type": "carpet"
           }
          ],
          "choropleth": [
           {
            "colorbar": {
             "outlinewidth": 0,
             "ticks": ""
            },
            "type": "choropleth"
           }
          ],
          "contour": [
           {
            "colorbar": {
             "outlinewidth": 0,
             "ticks": ""
            },
            "colorscale": [
             [
              0,
              "#0d0887"
             ],
             [
              0.1111111111111111,
              "#46039f"
             ],
             [
              0.2222222222222222,
              "#7201a8"
             ],
             [
              0.3333333333333333,
              "#9c179e"
             ],
             [
              0.4444444444444444,
              "#bd3786"
             ],
             [
              0.5555555555555556,
              "#d8576b"
             ],
             [
              0.6666666666666666,
              "#ed7953"
             ],
             [
              0.7777777777777778,
              "#fb9f3a"
             ],
             [
              0.8888888888888888,
              "#fdca26"
             ],
             [
              1,
              "#f0f921"
             ]
            ],
            "type": "contour"
           }
          ],
          "contourcarpet": [
           {
            "colorbar": {
             "outlinewidth": 0,
             "ticks": ""
            },
            "type": "contourcarpet"
           }
          ],
          "heatmap": [
           {
            "colorbar": {
             "outlinewidth": 0,
             "ticks": ""
            },
            "colorscale": [
             [
              0,
              "#0d0887"
             ],
             [
              0.1111111111111111,
              "#46039f"
             ],
             [
              0.2222222222222222,
              "#7201a8"
             ],
             [
              0.3333333333333333,
              "#9c179e"
             ],
             [
              0.4444444444444444,
              "#bd3786"
             ],
             [
              0.5555555555555556,
              "#d8576b"
             ],
             [
              0.6666666666666666,
              "#ed7953"
             ],
             [
              0.7777777777777778,
              "#fb9f3a"
             ],
             [
              0.8888888888888888,
              "#fdca26"
             ],
             [
              1,
              "#f0f921"
             ]
            ],
            "type": "heatmap"
           }
          ],
          "heatmapgl": [
           {
            "colorbar": {
             "outlinewidth": 0,
             "ticks": ""
            },
            "colorscale": [
             [
              0,
              "#0d0887"
             ],
             [
              0.1111111111111111,
              "#46039f"
             ],
             [
              0.2222222222222222,
              "#7201a8"
             ],
             [
              0.3333333333333333,
              "#9c179e"
             ],
             [
              0.4444444444444444,
              "#bd3786"
             ],
             [
              0.5555555555555556,
              "#d8576b"
             ],
             [
              0.6666666666666666,
              "#ed7953"
             ],
             [
              0.7777777777777778,
              "#fb9f3a"
             ],
             [
              0.8888888888888888,
              "#fdca26"
             ],
             [
              1,
              "#f0f921"
             ]
            ],
            "type": "heatmapgl"
           }
          ],
          "histogram": [
           {
            "marker": {
             "pattern": {
              "fillmode": "overlay",
              "size": 10,
              "solidity": 0.2
             }
            },
            "type": "histogram"
           }
          ],
          "histogram2d": [
           {
            "colorbar": {
             "outlinewidth": 0,
             "ticks": ""
            },
            "colorscale": [
             [
              0,
              "#0d0887"
             ],
             [
              0.1111111111111111,
              "#46039f"
             ],
             [
              0.2222222222222222,
              "#7201a8"
             ],
             [
              0.3333333333333333,
              "#9c179e"
             ],
             [
              0.4444444444444444,
              "#bd3786"
             ],
             [
              0.5555555555555556,
              "#d8576b"
             ],
             [
              0.6666666666666666,
              "#ed7953"
             ],
             [
              0.7777777777777778,
              "#fb9f3a"
             ],
             [
              0.8888888888888888,
              "#fdca26"
             ],
             [
              1,
              "#f0f921"
             ]
            ],
            "type": "histogram2d"
           }
          ],
          "histogram2dcontour": [
           {
            "colorbar": {
             "outlinewidth": 0,
             "ticks": ""
            },
            "colorscale": [
             [
              0,
              "#0d0887"
             ],
             [
              0.1111111111111111,
              "#46039f"
             ],
             [
              0.2222222222222222,
              "#7201a8"
             ],
             [
              0.3333333333333333,
              "#9c179e"
             ],
             [
              0.4444444444444444,
              "#bd3786"
             ],
             [
              0.5555555555555556,
              "#d8576b"
             ],
             [
              0.6666666666666666,
              "#ed7953"
             ],
             [
              0.7777777777777778,
              "#fb9f3a"
             ],
             [
              0.8888888888888888,
              "#fdca26"
             ],
             [
              1,
              "#f0f921"
             ]
            ],
            "type": "histogram2dcontour"
           }
          ],
          "mesh3d": [
           {
            "colorbar": {
             "outlinewidth": 0,
             "ticks": ""
            },
            "type": "mesh3d"
           }
          ],
          "parcoords": [
           {
            "line": {
             "colorbar": {
              "outlinewidth": 0,
              "ticks": ""
             }
            },
            "type": "parcoords"
           }
          ],
          "pie": [
           {
            "automargin": true,
            "type": "pie"
           }
          ],
          "scatter": [
           {
            "fillpattern": {
             "fillmode": "overlay",
             "size": 10,
             "solidity": 0.2
            },
            "type": "scatter"
           }
          ],
          "scatter3d": [
           {
            "line": {
             "colorbar": {
              "outlinewidth": 0,
              "ticks": ""
             }
            },
            "marker": {
             "colorbar": {
              "outlinewidth": 0,
              "ticks": ""
             }
            },
            "type": "scatter3d"
           }
          ],
          "scattercarpet": [
           {
            "marker": {
             "colorbar": {
              "outlinewidth": 0,
              "ticks": ""
             }
            },
            "type": "scattercarpet"
           }
          ],
          "scattergeo": [
           {
            "marker": {
             "colorbar": {
              "outlinewidth": 0,
              "ticks": ""
             }
            },
            "type": "scattergeo"
           }
          ],
          "scattergl": [
           {
            "marker": {
             "colorbar": {
              "outlinewidth": 0,
              "ticks": ""
             }
            },
            "type": "scattergl"
           }
          ],
          "scattermapbox": [
           {
            "marker": {
             "colorbar": {
              "outlinewidth": 0,
              "ticks": ""
             }
            },
            "type": "scattermapbox"
           }
          ],
          "scatterpolar": [
           {
            "marker": {
             "colorbar": {
              "outlinewidth": 0,
              "ticks": ""
             }
            },
            "type": "scatterpolar"
           }
          ],
          "scatterpolargl": [
           {
            "marker": {
             "colorbar": {
              "outlinewidth": 0,
              "ticks": ""
             }
            },
            "type": "scatterpolargl"
           }
          ],
          "scatterternary": [
           {
            "marker": {
             "colorbar": {
              "outlinewidth": 0,
              "ticks": ""
             }
            },
            "type": "scatterternary"
           }
          ],
          "surface": [
           {
            "colorbar": {
             "outlinewidth": 0,
             "ticks": ""
            },
            "colorscale": [
             [
              0,
              "#0d0887"
             ],
             [
              0.1111111111111111,
              "#46039f"
             ],
             [
              0.2222222222222222,
              "#7201a8"
             ],
             [
              0.3333333333333333,
              "#9c179e"
             ],
             [
              0.4444444444444444,
              "#bd3786"
             ],
             [
              0.5555555555555556,
              "#d8576b"
             ],
             [
              0.6666666666666666,
              "#ed7953"
             ],
             [
              0.7777777777777778,
              "#fb9f3a"
             ],
             [
              0.8888888888888888,
              "#fdca26"
             ],
             [
              1,
              "#f0f921"
             ]
            ],
            "type": "surface"
           }
          ],
          "table": [
           {
            "cells": {
             "fill": {
              "color": "#EBF0F8"
             },
             "line": {
              "color": "white"
             }
            },
            "header": {
             "fill": {
              "color": "#C8D4E3"
             },
             "line": {
              "color": "white"
             }
            },
            "type": "table"
           }
          ]
         },
         "layout": {
          "annotationdefaults": {
           "arrowcolor": "#2a3f5f",
           "arrowhead": 0,
           "arrowwidth": 1
          },
          "autotypenumbers": "strict",
          "coloraxis": {
           "colorbar": {
            "outlinewidth": 0,
            "ticks": ""
           }
          },
          "colorscale": {
           "diverging": [
            [
             0,
             "#8e0152"
            ],
            [
             0.1,
             "#c51b7d"
            ],
            [
             0.2,
             "#de77ae"
            ],
            [
             0.3,
             "#f1b6da"
            ],
            [
             0.4,
             "#fde0ef"
            ],
            [
             0.5,
             "#f7f7f7"
            ],
            [
             0.6,
             "#e6f5d0"
            ],
            [
             0.7,
             "#b8e186"
            ],
            [
             0.8,
             "#7fbc41"
            ],
            [
             0.9,
             "#4d9221"
            ],
            [
             1,
             "#276419"
            ]
           ],
           "sequential": [
            [
             0,
             "#0d0887"
            ],
            [
             0.1111111111111111,
             "#46039f"
            ],
            [
             0.2222222222222222,
             "#7201a8"
            ],
            [
             0.3333333333333333,
             "#9c179e"
            ],
            [
             0.4444444444444444,
             "#bd3786"
            ],
            [
             0.5555555555555556,
             "#d8576b"
            ],
            [
             0.6666666666666666,
             "#ed7953"
            ],
            [
             0.7777777777777778,
             "#fb9f3a"
            ],
            [
             0.8888888888888888,
             "#fdca26"
            ],
            [
             1,
             "#f0f921"
            ]
           ],
           "sequentialminus": [
            [
             0,
             "#0d0887"
            ],
            [
             0.1111111111111111,
             "#46039f"
            ],
            [
             0.2222222222222222,
             "#7201a8"
            ],
            [
             0.3333333333333333,
             "#9c179e"
            ],
            [
             0.4444444444444444,
             "#bd3786"
            ],
            [
             0.5555555555555556,
             "#d8576b"
            ],
            [
             0.6666666666666666,
             "#ed7953"
            ],
            [
             0.7777777777777778,
             "#fb9f3a"
            ],
            [
             0.8888888888888888,
             "#fdca26"
            ],
            [
             1,
             "#f0f921"
            ]
           ]
          },
          "colorway": [
           "#636efa",
           "#EF553B",
           "#00cc96",
           "#ab63fa",
           "#FFA15A",
           "#19d3f3",
           "#FF6692",
           "#B6E880",
           "#FF97FF",
           "#FECB52"
          ],
          "font": {
           "color": "#2a3f5f"
          },
          "geo": {
           "bgcolor": "white",
           "lakecolor": "white",
           "landcolor": "#E5ECF6",
           "showlakes": true,
           "showland": true,
           "subunitcolor": "white"
          },
          "hoverlabel": {
           "align": "left"
          },
          "hovermode": "closest",
          "mapbox": {
           "style": "light"
          },
          "paper_bgcolor": "white",
          "plot_bgcolor": "#E5ECF6",
          "polar": {
           "angularaxis": {
            "gridcolor": "white",
            "linecolor": "white",
            "ticks": ""
           },
           "bgcolor": "#E5ECF6",
           "radialaxis": {
            "gridcolor": "white",
            "linecolor": "white",
            "ticks": ""
           }
          },
          "scene": {
           "xaxis": {
            "backgroundcolor": "#E5ECF6",
            "gridcolor": "white",
            "gridwidth": 2,
            "linecolor": "white",
            "showbackground": true,
            "ticks": "",
            "zerolinecolor": "white"
           },
           "yaxis": {
            "backgroundcolor": "#E5ECF6",
            "gridcolor": "white",
            "gridwidth": 2,
            "linecolor": "white",
            "showbackground": true,
            "ticks": "",
            "zerolinecolor": "white"
           },
           "zaxis": {
            "backgroundcolor": "#E5ECF6",
            "gridcolor": "white",
            "gridwidth": 2,
            "linecolor": "white",
            "showbackground": true,
            "ticks": "",
            "zerolinecolor": "white"
           }
          },
          "shapedefaults": {
           "line": {
            "color": "#2a3f5f"
           }
          },
          "ternary": {
           "aaxis": {
            "gridcolor": "white",
            "linecolor": "white",
            "ticks": ""
           },
           "baxis": {
            "gridcolor": "white",
            "linecolor": "white",
            "ticks": ""
           },
           "bgcolor": "#E5ECF6",
           "caxis": {
            "gridcolor": "white",
            "linecolor": "white",
            "ticks": ""
           }
          },
          "title": {
           "x": 0.05
          },
          "xaxis": {
           "automargin": true,
           "gridcolor": "white",
           "linecolor": "white",
           "ticks": "",
           "title": {
            "standoff": 15
           },
           "zerolinecolor": "white",
           "zerolinewidth": 2
          },
          "yaxis": {
           "automargin": true,
           "gridcolor": "white",
           "linecolor": "white",
           "ticks": "",
           "title": {
            "standoff": 15
           },
           "zerolinecolor": "white",
           "zerolinewidth": 2
          }
         }
        },
        "title": {
         "text": "InvoiceDate"
        },
        "xaxis": {
         "anchor": "y",
         "domain": [
          0,
          1
         ],
         "title": {
          "text": "value"
         }
        },
        "xaxis2": {
         "anchor": "y2",
         "domain": [
          0,
          1
         ],
         "matches": "x",
         "showgrid": true,
         "showticklabels": false
        },
        "yaxis": {
         "anchor": "x",
         "domain": [
          0,
          0.7326
         ],
         "title": {
          "text": "count"
         }
        },
        "yaxis2": {
         "anchor": "x2",
         "domain": [
          0.7426,
          1
         ],
         "matches": "y2",
         "showgrid": false,
         "showline": false,
         "showticklabels": false,
         "ticks": ""
        }
       }
      },
      "text/html": [
       "<div>                            <div id=\"12b6208e-b42e-4bed-af5d-69f6d80b7779\" class=\"plotly-graph-div\" style=\"height:525px; width:100%;\"></div>            <script type=\"text/javascript\">                require([\"plotly\"], function(Plotly) {                    window.PLOTLYENV=window.PLOTLYENV || {};                                    if (document.getElementById(\"12b6208e-b42e-4bed-af5d-69f6d80b7779\")) {                    Plotly.newPlot(                        \"12b6208e-b42e-4bed-af5d-69f6d80b7779\",                        [{\"alignmentgroup\":\"True\",\"bingroup\":\"x\",\"hovertemplate\":\"variable=InvoiceDate<br>value=%{x}<br>count=%{y}<extra></extra>\",\"legendgroup\":\"InvoiceDate\",\"marker\":{\"color\":\"#636efa\",\"pattern\":{\"shape\":\"\"}},\"name\":\"InvoiceDate\",\"offsetgroup\":\"InvoiceDate\",\"orientation\":\"v\",\"showlegend\":true,\"x\":[\"2010-10-14T12:54:00\",\"2010-11-07T16:29:00\",\"2010-10-03T14:08:00\",\"2010-06-11T11:45:00\",\"2009-12-20T10:08:00\",\"2010-08-01T11:23:00\",\"2010-03-26T12:53:00\",\"2010-11-16T18:07:00\",\"2010-06-27T13:16:00\",\"2010-11-26T16:31:00\",\"2010-11-16T12:22:00\",\"2010-06-04T15:50:00\",\"2009-12-02T12:28:00\",\"2010-01-18T08:58:00\",\"2010-11-17T11:33:00\",\"2010-06-04T14:59:00\",\"2010-05-16T15:39:00\",\"2009-12-10T09:49:00\",\"2010-04-29T13:54:00\",\"2010-07-29T13:55:00\",\"2010-03-30T14:29:00\",\"2009-12-03T19:13:00\",\"2010-05-07T14:28:00\",\"2010-09-12T10:30:00\",\"2010-08-02T14:02:00\",\"2010-09-24T16:06:00\",\"2009-12-10T09:49:00\",\"2010-09-19T13:05:00\",\"2010-04-07T14:10:00\",\"2010-07-22T12:13:00\",\"2010-06-21T15:13:00\",\"2010-06-17T10:47:00\",\"2010-04-30T13:41:00\",\"2010-01-27T09:44:00\",\"2010-06-03T19:47:00\",\"2010-04-29T14:16:00\",\"2010-10-21T18:01:00\",\"2010-10-03T11:52:00\",\"2009-12-10T14:50:00\",\"2010-05-04T15:48:00\",\"2010-09-28T11:50:00\",\"2010-03-25T14:22:00\",\"2010-11-28T13:23:00\",\"2010-11-04T11:55:00\",\"2010-06-29T14:11:00\",\"2010-08-25T13:05:00\",\"2010-08-12T14:53:00\",\"2010-01-26T11:24:00\",\"2009-12-18T17:15:00\",\"2010-04-29T13:54:00\",\"2010-05-27T12:24:00\",\"2010-08-31T12:48:00\",\"2010-10-11T14:05:00\",\"2010-11-21T12:29:00\",\"2010-10-29T14:12:00\",\"2010-11-09T14:13:00\",\"2010-09-07T17:19:00\",\"2010-08-18T11:34:00\",\"2010-11-15T12:43:00\",\"2010-07-09T14:58:00\",\"2010-03-26T14:16:00\",\"2010-02-14T12:22:00\",\"2010-11-21T15:56:00\",\"2010-03-22T14:30:00\",\"2010-06-06T15:01:00\",\"2010-03-07T13:48:00\",\"2010-07-26T11:46:00\",\"2010-06-07T14:46:00\",\"2010-09-14T17:50:00\",\"2009-12-09T14:20:00\",\"2010-08-04T16:07:00\",\"2010-02-21T14:57:00\",\"2010-04-28T11:54:00\",\"2010-08-06T08:57:00\",\"2010-10-18T15:27:00\",\"2010-04-27T12:20:00\",\"2010-01-18T13:15:00\",\"2010-02-02T15:49:00\",\"2010-09-23T10:45:00\",\"2010-07-25T15:44:00\",\"2010-01-14T16:16:00\",\"2009-12-16T13:49:00\",\"2010-08-26T20:07:00\",\"2010-06-28T12:04:00\",\"2010-10-13T10:46:00\",\"2010-09-27T11:41:00\",\"2010-07-16T09:05:00\",\"2010-10-18T09:28:00\",\"2010-11-03T10:47:00\",\"2010-11-04T13:04:00\",\"2010-08-15T12:40:00\",\"2010-06-08T14:10:00\",\"2010-06-29T15:17:00\",\"2010-06-28T08:28:00\",\"2010-09-27T13:22:00\",\"2010-11-07T13:30:00\",\"2010-09-14T13:32:00\",\"2009-12-14T17:16:00\",\"2010-07-25T11:31:00\",\"2010-02-04T08:56:00\",\"2010-03-10T12:17:00\",\"2009-12-09T13:22:00\",\"2010-11-24T16:16:00\",\"2010-04-16T13:34:00\",\"2010-10-14T14:18:00\",\"2010-10-26T14:00:00\",\"2010-04-15T13:03:00\",\"2010-09-24T12:39:00\",\"2010-08-09T13:10:00\",\"2009-12-10T15:56:00\",\"2010-09-02T12:53:00\",\"2009-12-15T14:34:00\",\"2009-12-16T17:34:00\",\"2010-07-01T10:41:00\",\"2010-03-26T14:51:00\",\"2010-11-02T16:20:00\",\"2010-11-02T10:38:00\",\"2010-04-25T13:49:00\",\"2010-10-07T13:21:00\",\"2010-03-30T12:36:00\",\"2010-03-28T14:53:00\",\"2009-12-15T10:36:00\",\"2010-10-05T13:14:00\",\"2010-05-06T15:09:00\",\"2010-10-12T15:46:00\",\"2010-05-27T12:31:00\",\"2010-06-22T16:28:00\",\"2010-08-09T12:28:00\",\"2010-05-10T17:09:00\",\"2010-11-28T10:33:00\",\"2010-09-16T19:17:00\",\"2010-05-05T08:53:00\",\"2010-04-22T09:54:00\",\"2010-01-14T14:48:00\",\"2009-12-10T09:49:00\",\"2010-04-28T13:34:00\",\"2010-03-26T12:53:00\",\"2010-03-29T14:53:00\",\"2010-03-05T09:09:00\",\"2010-04-27T16:45:00\",\"2010-04-27T09:30:00\",\"2010-10-01T10:33:00\",\"2010-03-02T13:09:00\",\"2009-12-14T13:19:00\",\"2010-11-14T16:32:00\",\"2010-08-23T14:38:00\",\"2010-08-24T17:21:00\",\"2010-11-09T12:47:00\",\"2010-10-21T16:30:00\",\"2010-10-28T09:29:00\",\"2010-11-16T14:15:00\",\"2010-02-03T11:58:00\",\"2010-06-09T13:08:00\",\"2009-12-06T15:48:00\",\"2010-09-09T10:50:00\",\"2010-09-02T13:27:00\",\"2010-11-12T14:28:00\",\"2010-06-17T17:41:00\",\"2010-11-30T12:05:00\",\"2010-09-02T17:52:00\",\"2010-07-28T14:54:00\",\"2010-11-02T18:08:00\",\"2010-04-13T16:33:00\",\"2010-10-31T14:40:00\",\"2009-12-01T12:52:00\",\"2010-07-02T15:55:00\",\"2010-09-02T14:33:00\",\"2009-12-06T12:17:00\",\"2010-04-07T16:13:00\",\"2010-02-22T12:05:00\",\"2010-05-24T10:44:00\",\"2010-08-18T16:54:00\",\"2010-10-04T12:36:00\",\"2010-12-06T14:36:00\",\"2010-03-19T11:10:00\",\"2010-11-03T13:13:00\",\"2010-09-16T14:34:00\",\"2010-02-28T10:25:00\",\"2010-05-20T13:41:00\",\"2010-03-25T12:43:00\",\"2010-06-07T11:32:00\",\"2010-01-28T12:36:00\",\"2010-12-09T14:09:00\",\"2010-08-08T12:35:00\",\"2010-09-27T12:50:00\",\"2010-04-16T15:55:00\",\"2010-06-22T14:21:00\",\"2010-03-03T08:42:00\",\"2010-09-29T12:41:00\",\"2010-05-13T16:49:00\",\"2010-06-01T16:06:00\",\"2010-07-06T14:38:00\",\"2010-09-28T16:12:00\",\"2010-03-10T10:25:00\",\"2010-11-02T14:02:00\",\"2009-12-05T12:36:00\",\"2010-11-25T13:29:00\",\"2010-01-07T10:57:00\",\"2010-02-23T12:26:00\",\"2010-03-03T17:18:00\",\"2010-02-01T13:25:00\",\"2010-11-01T16:45:00\",\"2010-11-16T12:22:00\",\"2010-12-06T14:51:00\",\"2010-01-06T10:17:00\",\"2010-03-26T14:01:00\",\"2010-01-14T18:56:00\",\"2010-06-17T12:21:00\",\"2010-09-21T15:46:00\",\"2010-04-28T15:00:00\",\"2010-09-23T14:47:00\",\"2010-04-19T10:43:00\",\"2010-11-09T10:35:00\",\"2009-12-23T13:00:00\",\"2010-02-02T10:06:00\",\"2010-06-30T11:32:00\",\"2010-10-20T14:42:00\",\"2010-06-02T14:48:00\",\"2010-01-28T14:31:00\",\"2010-05-30T15:58:00\",\"2010-05-25T10:14:00\",\"2010-11-07T12:03:00\",\"2010-11-01T13:33:00\",\"2010-04-27T13:48:00\",\"2009-12-17T12:04:00\",\"2010-12-07T15:28:00\",\"2010-04-20T16:00:00\",\"2010-12-06T13:41:00\",\"2009-12-17T12:32:00\",\"2010-08-04T15:52:00\",\"2010-01-04T12:57:00\",\"2010-06-09T14:13:00\",\"2010-03-18T14:14:00\",\"2010-04-06T15:10:00\",\"2010-11-24T10:30:00\",\"2010-10-18T17:11:00\",\"2010-04-09T17:13:00\",\"2010-11-29T16:45:00\",\"2010-07-02T08:26:00\",\"2010-06-15T14:42:00\",\"2010-10-11T11:34:00\",\"2010-09-02T17:52:00\",\"2010-03-10T13:08:00\",\"2010-11-01T11:35:00\",\"2010-11-09T14:13:00\",\"2009-12-04T10:57:00\",\"2010-08-11T15:46:00\",\"2010-03-25T12:39:00\",\"2010-07-05T11:54:00\",\"2010-04-13T11:43:00\",\"2010-03-07T16:12:00\",\"2010-10-11T13:49:00\",\"2010-09-30T11:45:00\",\"2009-12-03T10:20:00\",\"2010-11-28T11:33:00\",\"2010-04-26T10:31:00\",\"2010-05-18T15:13:00\",\"2010-07-19T16:10:00\",\"2010-10-14T13:09:00\",\"2010-08-22T16:07:00\",\"2010-08-31T12:41:00\",\"2009-12-02T15:08:00\",\"2010-05-04T11:51:00\",\"2010-06-04T12:23:00\",\"2010-10-06T14:34:00\",\"2010-10-24T13:57:00\",\"2010-10-12T15:46:00\",\"2010-11-07T12:04:00\",\"2010-05-24T12:25:00\",\"2010-11-11T15:49:00\",\"2010-11-22T13:02:00\",\"2010-06-25T13:35:00\",\"2009-12-11T13:52:00\",\"2010-02-21T12:43:00\",\"2010-09-24T16:06:00\",\"2010-05-06T20:01:00\",\"2010-04-28T11:55:00\",\"2010-06-08T14:52:00\",\"2010-08-12T10:12:00\",\"2010-07-15T11:44:00\",\"2010-04-07T11:04:00\",\"2010-02-07T13:30:00\",\"2010-12-08T13:18:00\",\"2010-08-15T11:22:00\",\"2010-11-22T11:37:00\",\"2010-08-31T12:35:00\",\"2010-10-07T16:14:00\",\"2010-08-19T16:19:00\",\"2010-12-06T09:58:00\",\"2010-05-20T17:57:00\",\"2010-09-27T12:45:00\",\"2010-03-26T14:01:00\",\"2010-05-14T12:52:00\",\"2010-11-24T12:43:00\",\"2010-03-21T11:32:00\",\"2010-08-04T10:52:00\",\"2010-05-07T17:28:00\",\"2010-07-08T13:07:00\",\"2010-08-03T12:55:00\",\"2009-12-06T15:41:00\",\"2010-07-19T12:53:00\",\"2010-02-17T14:34:00\",\"2010-08-11T12:20:00\",\"2010-10-26T13:44:00\",\"2010-11-14T12:07:00\",\"2010-10-07T10:19:00\",\"2010-07-08T15:14:00\",\"2010-06-07T10:54:00\",\"2010-02-09T09:47:00\",\"2009-12-16T15:13:00\",\"2010-01-13T17:51:00\",\"2010-06-24T11:31:00\",\"2010-02-28T15:01:00\",\"2010-03-24T13:30:00\",\"2010-08-12T17:01:00\",\"2010-06-14T13:35:00\",\"2009-12-07T12:32:00\",\"2010-04-23T10:20:00\",\"2010-01-14T14:32:00\",\"2009-12-01T17:08:00\",\"2010-03-23T15:47:00\",\"2010-11-16T13:04:00\",\"2010-04-08T11:20:00\",\"2010-06-22T16:28:00\",\"2010-08-24T11:57:00\",\"2010-04-26T16:21:00\",\"2010-11-08T12:28:00\",\"2009-12-02T14:36:00\",\"2010-03-30T14:29:00\",\"2010-10-05T13:48:00\",\"2010-10-18T13:18:00\",\"2010-03-23T14:06:00\",\"2010-06-17T13:48:00\",\"2010-04-11T13:09:00\",\"2010-01-13T17:44:00\",\"2010-01-20T13:10:00\",\"2010-10-01T12:17:00\",\"2010-09-13T10:46:00\",\"2010-09-08T13:57:00\",\"2010-01-24T12:15:00\",\"2010-06-23T13:16:00\",\"2010-09-13T17:25:00\",\"2010-04-15T12:20:00\",\"2010-09-24T13:30:00\",\"2010-02-23T13:59:00\",\"2010-06-27T13:09:00\",\"2010-04-19T11:19:00\",\"2010-11-23T14:06:00\",\"2010-04-28T09:18:00\",\"2010-07-29T16:35:00\",\"2010-11-30T13:02:00\",\"2010-05-02T15:10:00\",\"2010-10-07T14:11:00\",\"2010-11-26T15:51:00\",\"2010-12-02T15:46:00\",\"2010-10-20T11:58:00\",\"2010-11-12T15:46:00\",\"2010-01-29T17:55:00\",\"2010-10-18T15:27:00\",\"2010-04-29T17:01:00\",\"2010-07-01T12:02:00\",\"2010-08-23T15:44:00\",\"2010-10-10T10:49:00\",\"2010-09-13T12:56:00\",\"2010-03-16T13:44:00\",\"2009-12-22T15:06:00\",\"2010-12-05T12:57:00\",\"2010-11-10T16:40:00\",\"2010-06-14T14:06:00\",\"2010-06-21T12:17:00\",\"2010-05-04T15:48:00\",\"2010-01-10T12:43:00\",\"2010-11-12T15:05:00\",\"2010-04-18T12:49:00\",\"2010-03-24T16:33:00\",\"2010-11-25T19:16:00\",\"2010-02-02T13:13:00\",\"2010-08-29T15:07:00\",\"2010-01-13T17:08:00\",\"2010-01-11T09:31:00\",\"2010-12-01T14:32:00\",\"2010-06-20T16:06:00\",\"2010-01-14T15:10:00\",\"2010-09-28T15:07:00\",\"2010-03-12T11:19:00\",\"2010-06-15T12:14:00\",\"2010-04-19T11:13:00\",\"2010-05-19T15:24:00\",\"2010-07-30T17:08:00\",\"2010-01-26T10:25:00\",\"2010-05-10T13:43:00\",\"2010-10-15T15:46:00\",\"2010-09-03T14:22:00\",\"2010-11-12T12:15:00\",\"2010-02-22T14:28:00\",\"2010-06-09T11:23:00\",\"2010-11-03T09:36:00\",\"2010-09-29T13:44:00\",\"2010-11-12T09:18:00\",\"2010-02-14T13:39:00\",\"2010-10-14T17:44:00\",\"2010-07-28T09:41:00\",\"2010-12-06T16:57:00\",\"2010-10-26T12:54:00\",\"2010-11-23T11:26:00\",\"2010-03-08T16:30:00\",\"2010-08-12T13:38:00\",\"2010-08-31T15:36:00\",\"2010-11-12T15:20:00\",\"2010-10-17T16:16:00\",\"2010-03-02T12:18:00\",\"2010-11-12T17:00:00\",\"2010-02-18T12:36:00\",\"2010-03-10T10:50:00\",\"2010-11-23T16:53:00\",\"2010-03-31T13:22:00\",\"2010-10-11T14:32:00\",\"2009-12-06T12:52:00\",\"2010-03-07T13:00:00\",\"2010-09-28T15:51:00\",\"2010-03-29T17:17:00\",\"2009-12-16T16:04:00\",\"2010-11-15T15:10:00\",\"2010-02-02T10:15:00\",\"2010-09-13T11:28:00\",\"2010-05-07T14:02:00\",\"2010-03-16T10:58:00\",\"2010-03-22T15:52:00\",\"2010-10-13T10:53:00\",\"2010-05-06T16:27:00\",\"2010-11-15T12:17:00\",\"2010-07-15T11:47:00\",\"2010-06-29T13:12:00\",\"2010-04-21T15:04:00\",\"2010-11-07T12:28:00\",\"2010-11-25T15:19:00\",\"2010-07-26T14:32:00\",\"2010-03-30T15:47:00\",\"2010-10-20T10:50:00\",\"2010-11-12T09:18:00\",\"2010-06-07T15:31:00\",\"2010-08-22T14:31:00\",\"2009-12-03T20:03:00\",\"2009-12-16T17:01:00\",\"2010-08-10T12:06:00\",\"2010-09-17T13:20:00\",\"2010-06-17T13:48:00\",\"2010-03-09T14:16:00\",\"2010-06-11T12:45:00\",\"2010-08-10T16:10:00\",\"2010-08-16T15:31:00\",\"2010-11-11T14:08:00\",\"2010-08-04T14:50:00\",\"2009-12-09T09:51:00\",\"2010-12-05T12:43:00\",\"2010-11-23T16:18:00\",\"2009-12-04T09:43:00\",\"2010-08-17T11:52:00\",\"2009-12-04T11:07:00\",\"2010-10-25T16:57:00\",\"2010-07-29T19:56:00\",\"2010-10-14T10:00:00\",\"2010-03-14T13:40:00\",\"2010-11-16T13:04:00\",\"2010-10-18T12:49:00\",\"2010-06-10T17:27:00\",\"2010-01-21T09:37:00\",\"2010-06-09T14:43:00\",\"2010-04-18T14:35:00\",\"2010-01-04T12:30:00\",\"2010-12-03T11:36:00\",\"2009-12-10T19:35:00\",\"2010-02-05T08:43:00\",\"2010-07-09T14:55:00\",\"2010-06-15T11:46:00\",\"2010-06-15T15:23:00\",\"2010-04-18T12:05:00\",\"2010-08-16T12:00:00\",\"2010-03-19T17:13:00\",\"2009-12-03T19:31:00\",\"2010-11-14T11:54:00\",\"2010-11-24T12:04:00\",\"2010-10-25T16:57:00\",\"2010-08-18T16:54:00\",\"2009-12-08T12:38:00\",\"2010-06-10T13:52:00\",\"2010-09-29T13:08:00\",\"2010-07-07T16:29:00\",\"2010-09-09T12:37:00\",\"2010-09-06T10:19:00\",\"2010-04-20T11:30:00\",\"2010-11-24T13:56:00\",\"2010-11-11T13:26:00\",\"2010-06-08T14:52:00\",\"2010-08-02T15:26:00\",\"2010-08-08T10:46:00\",\"2010-08-12T14:32:00\",\"2010-05-28T12:37:00\",\"2009-12-16T17:01:00\",\"2010-01-25T15:23:00\",\"2010-06-07T14:48:00\",\"2010-09-29T10:26:00\",\"2010-10-01T14:07:00\",\"2010-04-23T16:16:00\",\"2010-08-15T14:01:00\",\"2010-05-26T11:12:00\",\"2009-12-13T13:53:00\",\"2010-01-05T10:18:00\",\"2010-04-23T13:12:00\",\"2010-10-05T13:21:00\",\"2010-03-12T15:13:00\",\"2010-06-03T09:29:00\",\"2010-05-28T12:11:00\",\"2009-12-01T09:08:00\",\"2010-10-11T13:53:00\",\"2010-11-05T10:23:00\",\"2010-01-20T17:50:00\",\"2010-03-16T16:18:00\",\"2010-06-18T13:22:00\",\"2010-06-01T12:00:00\",\"2009-12-09T09:51:00\",\"2010-07-01T14:24:00\",\"2010-11-10T16:38:00\",\"2009-12-10T18:27:00\",\"2010-09-20T11:45:00\",\"2010-03-12T11:19:00\",\"2010-10-20T15:25:00\",\"2010-08-31T12:41:00\",\"2010-06-16T14:34:00\",\"2010-07-16T09:24:00\",\"2010-03-26T11:37:00\",\"2010-10-07T14:28:00\",\"2009-12-01T14:28:00\",\"2010-05-30T13:35:00\",\"2010-07-15T14:08:00\",\"2010-05-25T13:21:00\",\"2010-10-07T10:19:00\",\"2010-10-28T18:54:00\",\"2010-07-27T12:39:00\",\"2010-01-08T15:16:00\",\"2010-08-16T12:36:00\",\"2010-05-04T12:16:00\",\"2010-11-25T19:36:00\",\"2010-09-22T11:37:00\",\"2010-01-28T12:20:00\",\"2010-01-28T15:51:00\",\"2010-03-09T14:32:00\",\"2010-10-07T10:37:00\",\"2010-06-09T12:11:00\",\"2010-01-31T12:15:00\",\"2010-02-15T14:47:00\",\"2010-11-25T13:51:00\",\"2010-02-19T17:40:00\",\"2010-03-02T11:33:00\",\"2010-01-04T12:30:00\",\"2010-02-01T13:45:00\",\"2010-10-19T09:10:00\",\"2010-01-21T11:51:00\",\"2010-06-09T14:41:00\",\"2010-06-24T16:25:00\",\"2010-01-14T14:06:00\",\"2010-11-25T14:03:00\",\"2010-06-03T17:15:00\",\"2010-08-26T12:35:00\",\"2010-11-12T15:20:00\",\"2010-06-17T13:48:00\",\"2010-06-21T13:18:00\",\"2010-11-26T13:22:00\",\"2010-12-05T12:26:00\",\"2010-10-03T14:13:00\",\"2010-01-07T11:22:00\",\"2010-04-29T11:18:00\",\"2010-01-14T16:16:00\",\"2010-01-18T12:55:00\",\"2010-09-20T12:15:00\",\"2010-11-07T13:08:00\",\"2010-01-19T15:45:00\",\"2009-12-15T17:05:00\",\"2010-02-08T11:06:00\",\"2010-01-20T10:48:00\",\"2010-10-31T14:09:00\",\"2010-03-21T12:20:00\",\"2010-08-17T12:03:00\",\"2010-02-15T11:22:00\",\"2010-11-21T12:40:00\",\"2010-02-17T12:12:00\",\"2009-12-06T10:26:00\",\"2010-11-25T13:18:00\",\"2010-10-14T18:02:00\",\"2010-06-16T16:04:00\",\"2010-10-10T16:01:00\",\"2010-01-25T13:14:00\",\"2010-10-27T08:36:00\",\"2010-12-03T15:05:00\",\"2010-07-21T14:43:00\",\"2010-05-07T14:56:00\",\"2010-05-19T14:22:00\",\"2010-11-08T14:19:00\",\"2010-12-08T12:17:00\",\"2010-10-21T15:38:00\",\"2010-09-14T16:15:00\",\"2010-09-16T12:27:00\",\"2010-08-03T14:23:00\",\"2010-11-17T12:44:00\",\"2010-05-06T11:44:00\",\"2010-08-08T14:37:00\",\"2010-04-22T12:58:00\",\"2010-03-07T12:06:00\",\"2010-10-24T11:18:00\",\"2010-10-27T14:05:00\",\"2010-07-19T12:17:00\",\"2010-11-03T13:47:00\",\"2010-02-25T13:23:00\",\"2010-08-18T16:54:00\",\"2010-08-16T14:59:00\",\"2010-06-06T15:01:00\",\"2010-06-15T12:22:00\",\"2010-08-17T12:03:00\",\"2010-07-04T13:10:00\",\"2010-11-19T12:56:00\",\"2010-09-28T14:44:00\",\"2009-12-22T09:41:00\",\"2010-06-14T16:25:00\",\"2010-01-04T09:24:00\",\"2010-08-26T15:42:00\",\"2010-04-25T11:43:00\",\"2010-06-04T14:54:00\",\"2010-07-14T13:01:00\",\"2009-12-16T17:01:00\",\"2010-09-23T13:26:00\",\"2010-11-10T13:23:00\",\"2010-10-18T12:58:00\",\"2010-04-25T11:43:00\",\"2010-04-06T12:39:00\",\"2010-11-17T09:22:00\",\"2010-06-09T10:52:00\",\"2010-06-17T09:30:00\",\"2010-08-23T11:58:00\",\"2010-10-31T12:36:00\",\"2009-12-16T17:36:00\",\"2010-11-30T17:43:00\",\"2010-03-23T12:18:00\",\"2010-09-02T13:29:00\",\"2010-09-07T09:31:00\",\"2010-02-17T12:03:00\",\"2010-11-17T16:48:00\",\"2010-10-20T17:12:00\",\"2010-04-15T16:35:00\",\"2010-11-19T13:07:00\",\"2010-09-19T16:20:00\",\"2010-12-09T14:19:00\",\"2010-02-28T14:12:00\",\"2010-04-07T10:36:00\",\"2010-08-15T13:26:00\",\"2010-03-01T09:58:00\",\"2010-02-19T17:40:00\",\"2010-10-07T14:24:00\",\"2010-02-08T15:11:00\",\"2010-10-18T14:07:00\",\"2010-06-15T12:11:00\",\"2010-09-10T13:27:00\",\"2010-08-18T11:34:00\",\"2010-05-27T11:11:00\",\"2009-12-10T18:27:00\",\"2010-10-05T17:55:00\",\"2010-07-20T09:04:00\",\"2010-05-28T10:08:00\",\"2010-07-04T13:31:00\",\"2010-07-08T10:07:00\",\"2010-01-22T14:17:00\",\"2009-12-15T17:25:00\",\"2010-08-03T10:30:00\",\"2009-12-22T09:41:00\",\"2009-12-03T13:09:00\",\"2010-04-28T14:25:00\",\"2009-12-04T10:57:00\",\"2010-11-03T09:36:00\",\"2010-03-12T10:41:00\",\"2010-09-02T14:52:00\",\"2010-11-28T14:13:00\",\"2010-09-16T14:52:00\",\"2010-04-23T11:43:00\",\"2010-10-22T14:04:00\",\"2009-12-22T15:13:00\",\"2010-11-23T16:53:00\",\"2010-03-29T11:49:00\",\"2010-11-10T12:09:00\",\"2010-06-14T12:41:00\",\"2010-09-28T09:13:00\",\"2010-03-09T14:16:00\",\"2010-08-22T12:52:00\",\"2010-10-19T12:50:00\",\"2010-03-25T13:16:00\",\"2010-02-14T15:30:00\",\"2010-08-29T10:16:00\",\"2010-08-25T11:35:00\",\"2010-10-26T12:14:00\",\"2010-06-02T11:54:00\",\"2009-12-16T17:01:00\",\"2010-10-20T13:42:00\",\"2010-02-08T16:53:00\",\"2009-12-07T15:15:00\",\"2010-01-26T13:04:00\",\"2010-11-17T09:22:00\",\"2010-02-16T14:32:00\",\"2010-01-29T11:45:00\",\"2010-10-11T11:34:00\",\"2009-12-13T13:31:00\",\"2010-10-29T12:07:00\",\"2010-04-29T15:34:00\",\"2010-04-11T16:06:00\",\"2010-11-29T12:06:00\",\"2010-03-23T08:40:00\",\"2010-03-30T10:55:00\",\"2010-01-26T10:25:00\",\"2010-08-03T14:38:00\",\"2010-10-13T13:12:00\",\"2010-10-18T17:11:00\",\"2010-04-19T11:13:00\",\"2009-12-02T15:15:00\",\"2010-07-15T12:30:00\",\"2010-11-23T09:12:00\",\"2010-10-28T10:16:00\",\"2010-10-15T16:04:00\",\"2010-10-19T16:38:00\",\"2010-05-12T12:09:00\",\"2010-08-22T11:47:00\",\"2010-11-12T09:18:00\",\"2009-12-07T18:02:00\",\"2010-10-07T12:30:00\",\"2010-10-12T13:19:00\",\"2010-09-23T12:19:00\",\"2010-10-29T14:12:00\",\"2010-05-19T11:59:00\",\"2010-07-02T13:25:00\",\"2010-08-13T17:13:00\",\"2010-10-13T14:57:00\",\"2010-11-14T16:12:00\",\"2010-10-20T12:53:00\",\"2010-01-06T12:16:00\",\"2010-03-04T12:06:00\",\"2010-11-25T11:04:00\",\"2009-12-22T09:52:00\",\"2010-10-18T09:28:00\",\"2010-07-08T11:42:00\",\"2010-11-12T15:40:00\",\"2010-08-03T13:03:00\",\"2010-09-13T15:12:00\",\"2010-11-15T09:32:00\",\"2010-02-17T11:27:00\",\"2010-07-11T15:34:00\",\"2009-12-01T09:50:00\",\"2010-05-16T16:05:00\",\"2010-11-25T13:36:00\",\"2010-03-08T13:17:00\",\"2010-04-09T16:54:00\",\"2010-05-17T14:17:00\",\"2010-02-02T16:42:00\",\"2010-06-14T14:49:00\",\"2010-02-23T14:16:00\",\"2010-06-14T12:01:00\",\"2010-01-24T12:15:00\",\"2010-05-24T12:01:00\",\"2010-10-06T14:40:00\",\"2009-12-18T12:59:00\",\"2010-04-30T17:18:00\",\"2010-02-22T17:10:00\",\"2010-10-11T13:57:00\",\"2010-09-27T09:55:00\",\"2010-06-03T09:06:00\",\"2010-08-03T15:17:00\",\"2010-06-27T13:09:00\",\"2010-09-30T17:18:00\",\"2010-08-15T16:00:00\",\"2009-12-17T15:44:00\",\"2010-11-22T15:24:00\",\"2010-06-24T11:46:00\",\"2010-05-19T15:10:00\",\"2010-04-11T14:28:00\",\"2010-03-19T13:41:00\",\"2010-06-16T12:48:00\",\"2010-02-02T13:13:00\",\"2010-11-21T16:02:00\",\"2010-10-01T11:43:00\",\"2010-04-13T13:33:00\",\"2010-06-23T13:19:00\",\"2010-03-01T14:01:00\",\"2010-12-09T16:35:00\",\"2010-02-01T17:18:00\",\"2010-04-28T16:26:00\",\"2010-09-27T12:50:00\",\"2010-11-21T16:13:00\",\"2010-05-27T12:17:00\",\"2010-03-03T16:33:00\",\"2010-02-17T12:03:00\",\"2010-03-01T15:36:00\",\"2010-03-03T15:28:00\",\"2010-11-17T09:22:00\",\"2010-11-03T09:36:00\",\"2010-02-01T14:52:00\",\"2010-04-06T16:37:00\",\"2010-02-23T14:48:00\",\"2010-06-14T11:24:00\",\"2010-09-24T12:18:00\",\"2010-11-12T14:02:00\",\"2009-12-16T12:29:00\",\"2010-07-26T10:35:00\",\"2010-01-12T17:24:00\",\"2010-11-08T09:56:00\",\"2010-06-16T14:26:00\",\"2010-03-24T10:28:00\",\"2010-10-24T12:51:00\",\"2010-10-13T10:46:00\",\"2010-07-14T12:19:00\",\"2010-12-05T12:53:00\",\"2010-11-23T12:00:00\",\"2010-10-08T11:45:00\",\"2010-03-19T14:05:00\",\"2010-11-24T15:23:00\",\"2010-03-31T17:28:00\",\"2010-09-13T14:26:00\",\"2010-11-09T15:20:00\",\"2010-11-10T14:48:00\",\"2009-12-22T14:31:00\",\"2010-05-06T10:04:00\",\"2010-03-08T16:30:00\",\"2010-10-05T10:35:00\",\"2010-12-05T12:35:00\",\"2010-11-04T18:00:00\",\"2010-08-12T16:41:00\",\"2010-11-24T15:03:00\",\"2010-10-28T09:29:00\",\"2010-10-08T17:28:00\",\"2010-09-19T16:18:00\",\"2010-09-17T14:54:00\",\"2010-12-07T15:31:00\",\"2010-09-02T17:52:00\",\"2010-11-05T11:58:00\",\"2010-12-05T15:15:00\",\"2009-12-04T17:31:00\",\"2010-09-05T11:59:00\",\"2010-11-10T10:50:00\",\"2010-03-26T14:01:00\",\"2010-05-18T11:40:00\",\"2010-10-20T10:22:00\",\"2010-02-14T14:10:00\",\"2010-03-29T16:47:00\",\"2010-05-13T15:41:00\",\"2010-05-26T14:38:00\",\"2010-01-15T13:15:00\",\"2010-01-25T13:22:00\",\"2010-09-21T12:49:00\",\"2010-11-10T15:20:00\",\"2010-03-04T10:14:00\",\"2010-03-10T10:50:00\",\"2010-02-15T13:27:00\",\"2010-06-15T12:35:00\",\"2010-08-11T16:44:00\",\"2010-11-16T13:03:00\",\"2010-02-22T11:42:00\",\"2009-12-21T17:14:00\",\"2010-07-27T13:52:00\",\"2010-11-10T11:47:00\",\"2010-12-02T16:34:00\",\"2010-10-08T10:23:00\",\"2010-04-14T10:13:00\",\"2009-12-17T13:36:00\",\"2010-05-07T16:46:00\",\"2010-03-03T12:16:00\",\"2010-04-23T16:16:00\",\"2010-09-09T15:49:00\",\"2010-06-16T14:12:00\",\"2010-10-18T16:52:00\",\"2010-10-29T08:23:00\",\"2010-10-24T10:41:00\",\"2010-11-12T12:44:00\",\"2010-11-01T09:33:00\",\"2010-01-07T13:07:00\",\"2010-04-26T11:57:00\",\"2010-07-20T09:04:00\",\"2010-10-05T13:01:00\",\"2010-02-26T10:11:00\",\"2010-07-07T09:39:00\",\"2009-12-04T14:29:00\",\"2010-08-15T14:01:00\",\"2010-02-25T15:07:00\",\"2010-05-24T14:55:00\",\"2010-10-31T13:12:00\",\"2010-05-05T14:42:00\",\"2010-03-25T13:55:00\",\"2010-11-14T16:16:00\",\"2010-01-18T12:48:00\",\"2010-03-31T17:28:00\",\"2010-08-04T10:57:00\",\"2010-04-01T14:52:00\",\"2010-03-15T16:05:00\",\"2010-04-30T15:57:00\",\"2010-10-12T16:38:00\",\"2010-09-24T12:43:00\",\"2010-04-01T15:04:00\",\"2010-03-15T16:13:00\",\"2010-12-06T16:57:00\",\"2010-01-27T16:41:00\",\"2010-11-30T12:05:00\",\"2010-04-18T11:24:00\",\"2010-05-05T14:42:00\",\"2010-05-06T16:50:00\",\"2010-06-06T15:47:00\",\"2010-11-10T13:08:00\",\"2010-04-13T13:26:00\",\"2010-03-23T11:01:00\",\"2010-04-25T13:40:00\",\"2010-10-24T10:33:00\",\"2010-01-29T13:53:00\",\"2010-08-22T14:31:00\",\"2010-11-22T15:50:00\",\"2010-02-09T12:01:00\",\"2010-01-25T13:14:00\",\"2010-08-26T12:10:00\",\"2010-11-16T12:50:00\",\"2010-04-15T13:52:00\",\"2010-03-08T12:35:00\",\"2010-01-14T17:43:00\",\"2010-10-01T10:24:00\",\"2010-04-25T15:48:00\",\"2010-12-09T19:28:00\",\"2010-01-31T15:47:00\",\"2010-09-06T11:32:00\",\"2010-11-23T13:59:00\",\"2010-07-29T11:22:00\",\"2010-10-21T10:46:00\",\"2010-11-04T13:04:00\",\"2010-08-10T11:49:00\",\"2010-11-25T15:19:00\",\"2010-01-11T12:29:00\",\"2010-08-06T09:18:00\",\"2010-05-06T15:17:00\",\"2010-08-10T13:28:00\",\"2010-11-01T11:48:00\",\"2010-06-28T11:39:00\",\"2010-10-06T12:36:00\",\"2010-04-18T12:31:00\",\"2010-11-11T12:50:00\",\"2010-12-08T14:25:00\",\"2010-10-17T13:02:00\",\"2009-12-09T15:16:00\",\"2009-12-21T11:08:00\",\"2010-08-27T13:53:00\",\"2010-10-10T13:31:00\",\"2010-03-12T11:19:00\",\"2010-09-09T10:37:00\",\"2010-01-25T09:53:00\",\"2010-10-18T12:11:00\",\"2010-08-31T14:40:00\",\"2010-07-29T18:30:00\",\"2010-05-11T13:30:00\",\"2010-01-05T11:29:00\",\"2010-11-12T09:18:00\",\"2010-09-24T12:31:00\",\"2010-11-15T12:50:00\",\"2010-12-09T14:09:00\",\"2010-01-26T12:30:00\",\"2010-02-08T16:23:00\",\"2010-02-28T15:01:00\",\"2010-02-25T13:40:00\",\"2010-10-26T10:34:00\",\"2010-02-17T14:39:00\",\"2010-09-05T15:27:00\",\"2010-09-01T17:17:00\",\"2010-04-21T15:34:00\",\"2010-06-24T12:49:00\",\"2010-02-03T08:15:00\",\"2010-11-10T12:09:00\",\"2010-10-07T16:48:00\",\"2010-04-16T12:43:00\",\"2010-04-01T12:26:00\",\"2010-10-26T14:47:00\",\"2010-10-17T16:06:00\",\"2010-11-04T14:49:00\",\"2010-11-05T12:09:00\",\"2010-10-07T09:12:00\",\"2010-03-07T14:50:00\",\"2010-10-19T12:15:00\",\"2010-03-03T14:20:00\",\"2009-12-10T17:09:00\",\"2010-11-02T13:57:00\",\"2010-08-01T13:48:00\",\"2010-01-05T12:20:00\",\"2010-01-14T18:56:00\",\"2010-11-16T15:46:00\",\"2010-10-07T14:28:00\",\"2010-03-31T12:21:00\",\"2009-12-02T14:34:00\",\"2010-04-14T13:50:00\",\"2010-12-01T15:08:00\",\"2010-04-29T10:54:00\",\"2010-11-29T10:50:00\",\"2010-10-10T13:38:00\",\"2010-01-21T14:01:00\",\"2010-05-10T09:55:00\"],\"xaxis\":\"x\",\"yaxis\":\"y\",\"type\":\"histogram\"},{\"alignmentgroup\":\"True\",\"hovertemplate\":\"variable=InvoiceDate<br>value=%{x}<extra></extra>\",\"legendgroup\":\"InvoiceDate\",\"marker\":{\"color\":\"#636efa\"},\"name\":\"InvoiceDate\",\"notched\":true,\"offsetgroup\":\"InvoiceDate\",\"showlegend\":false,\"x\":[\"2010-10-14T12:54:00\",\"2010-11-07T16:29:00\",\"2010-10-03T14:08:00\",\"2010-06-11T11:45:00\",\"2009-12-20T10:08:00\",\"2010-08-01T11:23:00\",\"2010-03-26T12:53:00\",\"2010-11-16T18:07:00\",\"2010-06-27T13:16:00\",\"2010-11-26T16:31:00\",\"2010-11-16T12:22:00\",\"2010-06-04T15:50:00\",\"2009-12-02T12:28:00\",\"2010-01-18T08:58:00\",\"2010-11-17T11:33:00\",\"2010-06-04T14:59:00\",\"2010-05-16T15:39:00\",\"2009-12-10T09:49:00\",\"2010-04-29T13:54:00\",\"2010-07-29T13:55:00\",\"2010-03-30T14:29:00\",\"2009-12-03T19:13:00\",\"2010-05-07T14:28:00\",\"2010-09-12T10:30:00\",\"2010-08-02T14:02:00\",\"2010-09-24T16:06:00\",\"2009-12-10T09:49:00\",\"2010-09-19T13:05:00\",\"2010-04-07T14:10:00\",\"2010-07-22T12:13:00\",\"2010-06-21T15:13:00\",\"2010-06-17T10:47:00\",\"2010-04-30T13:41:00\",\"2010-01-27T09:44:00\",\"2010-06-03T19:47:00\",\"2010-04-29T14:16:00\",\"2010-10-21T18:01:00\",\"2010-10-03T11:52:00\",\"2009-12-10T14:50:00\",\"2010-05-04T15:48:00\",\"2010-09-28T11:50:00\",\"2010-03-25T14:22:00\",\"2010-11-28T13:23:00\",\"2010-11-04T11:55:00\",\"2010-06-29T14:11:00\",\"2010-08-25T13:05:00\",\"2010-08-12T14:53:00\",\"2010-01-26T11:24:00\",\"2009-12-18T17:15:00\",\"2010-04-29T13:54:00\",\"2010-05-27T12:24:00\",\"2010-08-31T12:48:00\",\"2010-10-11T14:05:00\",\"2010-11-21T12:29:00\",\"2010-10-29T14:12:00\",\"2010-11-09T14:13:00\",\"2010-09-07T17:19:00\",\"2010-08-18T11:34:00\",\"2010-11-15T12:43:00\",\"2010-07-09T14:58:00\",\"2010-03-26T14:16:00\",\"2010-02-14T12:22:00\",\"2010-11-21T15:56:00\",\"2010-03-22T14:30:00\",\"2010-06-06T15:01:00\",\"2010-03-07T13:48:00\",\"2010-07-26T11:46:00\",\"2010-06-07T14:46:00\",\"2010-09-14T17:50:00\",\"2009-12-09T14:20:00\",\"2010-08-04T16:07:00\",\"2010-02-21T14:57:00\",\"2010-04-28T11:54:00\",\"2010-08-06T08:57:00\",\"2010-10-18T15:27:00\",\"2010-04-27T12:20:00\",\"2010-01-18T13:15:00\",\"2010-02-02T15:49:00\",\"2010-09-23T10:45:00\",\"2010-07-25T15:44:00\",\"2010-01-14T16:16:00\",\"2009-12-16T13:49:00\",\"2010-08-26T20:07:00\",\"2010-06-28T12:04:00\",\"2010-10-13T10:46:00\",\"2010-09-27T11:41:00\",\"2010-07-16T09:05:00\",\"2010-10-18T09:28:00\",\"2010-11-03T10:47:00\",\"2010-11-04T13:04:00\",\"2010-08-15T12:40:00\",\"2010-06-08T14:10:00\",\"2010-06-29T15:17:00\",\"2010-06-28T08:28:00\",\"2010-09-27T13:22:00\",\"2010-11-07T13:30:00\",\"2010-09-14T13:32:00\",\"2009-12-14T17:16:00\",\"2010-07-25T11:31:00\",\"2010-02-04T08:56:00\",\"2010-03-10T12:17:00\",\"2009-12-09T13:22:00\",\"2010-11-24T16:16:00\",\"2010-04-16T13:34:00\",\"2010-10-14T14:18:00\",\"2010-10-26T14:00:00\",\"2010-04-15T13:03:00\",\"2010-09-24T12:39:00\",\"2010-08-09T13:10:00\",\"2009-12-10T15:56:00\",\"2010-09-02T12:53:00\",\"2009-12-15T14:34:00\",\"2009-12-16T17:34:00\",\"2010-07-01T10:41:00\",\"2010-03-26T14:51:00\",\"2010-11-02T16:20:00\",\"2010-11-02T10:38:00\",\"2010-04-25T13:49:00\",\"2010-10-07T13:21:00\",\"2010-03-30T12:36:00\",\"2010-03-28T14:53:00\",\"2009-12-15T10:36:00\",\"2010-10-05T13:14:00\",\"2010-05-06T15:09:00\",\"2010-10-12T15:46:00\",\"2010-05-27T12:31:00\",\"2010-06-22T16:28:00\",\"2010-08-09T12:28:00\",\"2010-05-10T17:09:00\",\"2010-11-28T10:33:00\",\"2010-09-16T19:17:00\",\"2010-05-05T08:53:00\",\"2010-04-22T09:54:00\",\"2010-01-14T14:48:00\",\"2009-12-10T09:49:00\",\"2010-04-28T13:34:00\",\"2010-03-26T12:53:00\",\"2010-03-29T14:53:00\",\"2010-03-05T09:09:00\",\"2010-04-27T16:45:00\",\"2010-04-27T09:30:00\",\"2010-10-01T10:33:00\",\"2010-03-02T13:09:00\",\"2009-12-14T13:19:00\",\"2010-11-14T16:32:00\",\"2010-08-23T14:38:00\",\"2010-08-24T17:21:00\",\"2010-11-09T12:47:00\",\"2010-10-21T16:30:00\",\"2010-10-28T09:29:00\",\"2010-11-16T14:15:00\",\"2010-02-03T11:58:00\",\"2010-06-09T13:08:00\",\"2009-12-06T15:48:00\",\"2010-09-09T10:50:00\",\"2010-09-02T13:27:00\",\"2010-11-12T14:28:00\",\"2010-06-17T17:41:00\",\"2010-11-30T12:05:00\",\"2010-09-02T17:52:00\",\"2010-07-28T14:54:00\",\"2010-11-02T18:08:00\",\"2010-04-13T16:33:00\",\"2010-10-31T14:40:00\",\"2009-12-01T12:52:00\",\"2010-07-02T15:55:00\",\"2010-09-02T14:33:00\",\"2009-12-06T12:17:00\",\"2010-04-07T16:13:00\",\"2010-02-22T12:05:00\",\"2010-05-24T10:44:00\",\"2010-08-18T16:54:00\",\"2010-10-04T12:36:00\",\"2010-12-06T14:36:00\",\"2010-03-19T11:10:00\",\"2010-11-03T13:13:00\",\"2010-09-16T14:34:00\",\"2010-02-28T10:25:00\",\"2010-05-20T13:41:00\",\"2010-03-25T12:43:00\",\"2010-06-07T11:32:00\",\"2010-01-28T12:36:00\",\"2010-12-09T14:09:00\",\"2010-08-08T12:35:00\",\"2010-09-27T12:50:00\",\"2010-04-16T15:55:00\",\"2010-06-22T14:21:00\",\"2010-03-03T08:42:00\",\"2010-09-29T12:41:00\",\"2010-05-13T16:49:00\",\"2010-06-01T16:06:00\",\"2010-07-06T14:38:00\",\"2010-09-28T16:12:00\",\"2010-03-10T10:25:00\",\"2010-11-02T14:02:00\",\"2009-12-05T12:36:00\",\"2010-11-25T13:29:00\",\"2010-01-07T10:57:00\",\"2010-02-23T12:26:00\",\"2010-03-03T17:18:00\",\"2010-02-01T13:25:00\",\"2010-11-01T16:45:00\",\"2010-11-16T12:22:00\",\"2010-12-06T14:51:00\",\"2010-01-06T10:17:00\",\"2010-03-26T14:01:00\",\"2010-01-14T18:56:00\",\"2010-06-17T12:21:00\",\"2010-09-21T15:46:00\",\"2010-04-28T15:00:00\",\"2010-09-23T14:47:00\",\"2010-04-19T10:43:00\",\"2010-11-09T10:35:00\",\"2009-12-23T13:00:00\",\"2010-02-02T10:06:00\",\"2010-06-30T11:32:00\",\"2010-10-20T14:42:00\",\"2010-06-02T14:48:00\",\"2010-01-28T14:31:00\",\"2010-05-30T15:58:00\",\"2010-05-25T10:14:00\",\"2010-11-07T12:03:00\",\"2010-11-01T13:33:00\",\"2010-04-27T13:48:00\",\"2009-12-17T12:04:00\",\"2010-12-07T15:28:00\",\"2010-04-20T16:00:00\",\"2010-12-06T13:41:00\",\"2009-12-17T12:32:00\",\"2010-08-04T15:52:00\",\"2010-01-04T12:57:00\",\"2010-06-09T14:13:00\",\"2010-03-18T14:14:00\",\"2010-04-06T15:10:00\",\"2010-11-24T10:30:00\",\"2010-10-18T17:11:00\",\"2010-04-09T17:13:00\",\"2010-11-29T16:45:00\",\"2010-07-02T08:26:00\",\"2010-06-15T14:42:00\",\"2010-10-11T11:34:00\",\"2010-09-02T17:52:00\",\"2010-03-10T13:08:00\",\"2010-11-01T11:35:00\",\"2010-11-09T14:13:00\",\"2009-12-04T10:57:00\",\"2010-08-11T15:46:00\",\"2010-03-25T12:39:00\",\"2010-07-05T11:54:00\",\"2010-04-13T11:43:00\",\"2010-03-07T16:12:00\",\"2010-10-11T13:49:00\",\"2010-09-30T11:45:00\",\"2009-12-03T10:20:00\",\"2010-11-28T11:33:00\",\"2010-04-26T10:31:00\",\"2010-05-18T15:13:00\",\"2010-07-19T16:10:00\",\"2010-10-14T13:09:00\",\"2010-08-22T16:07:00\",\"2010-08-31T12:41:00\",\"2009-12-02T15:08:00\",\"2010-05-04T11:51:00\",\"2010-06-04T12:23:00\",\"2010-10-06T14:34:00\",\"2010-10-24T13:57:00\",\"2010-10-12T15:46:00\",\"2010-11-07T12:04:00\",\"2010-05-24T12:25:00\",\"2010-11-11T15:49:00\",\"2010-11-22T13:02:00\",\"2010-06-25T13:35:00\",\"2009-12-11T13:52:00\",\"2010-02-21T12:43:00\",\"2010-09-24T16:06:00\",\"2010-05-06T20:01:00\",\"2010-04-28T11:55:00\",\"2010-06-08T14:52:00\",\"2010-08-12T10:12:00\",\"2010-07-15T11:44:00\",\"2010-04-07T11:04:00\",\"2010-02-07T13:30:00\",\"2010-12-08T13:18:00\",\"2010-08-15T11:22:00\",\"2010-11-22T11:37:00\",\"2010-08-31T12:35:00\",\"2010-10-07T16:14:00\",\"2010-08-19T16:19:00\",\"2010-12-06T09:58:00\",\"2010-05-20T17:57:00\",\"2010-09-27T12:45:00\",\"2010-03-26T14:01:00\",\"2010-05-14T12:52:00\",\"2010-11-24T12:43:00\",\"2010-03-21T11:32:00\",\"2010-08-04T10:52:00\",\"2010-05-07T17:28:00\",\"2010-07-08T13:07:00\",\"2010-08-03T12:55:00\",\"2009-12-06T15:41:00\",\"2010-07-19T12:53:00\",\"2010-02-17T14:34:00\",\"2010-08-11T12:20:00\",\"2010-10-26T13:44:00\",\"2010-11-14T12:07:00\",\"2010-10-07T10:19:00\",\"2010-07-08T15:14:00\",\"2010-06-07T10:54:00\",\"2010-02-09T09:47:00\",\"2009-12-16T15:13:00\",\"2010-01-13T17:51:00\",\"2010-06-24T11:31:00\",\"2010-02-28T15:01:00\",\"2010-03-24T13:30:00\",\"2010-08-12T17:01:00\",\"2010-06-14T13:35:00\",\"2009-12-07T12:32:00\",\"2010-04-23T10:20:00\",\"2010-01-14T14:32:00\",\"2009-12-01T17:08:00\",\"2010-03-23T15:47:00\",\"2010-11-16T13:04:00\",\"2010-04-08T11:20:00\",\"2010-06-22T16:28:00\",\"2010-08-24T11:57:00\",\"2010-04-26T16:21:00\",\"2010-11-08T12:28:00\",\"2009-12-02T14:36:00\",\"2010-03-30T14:29:00\",\"2010-10-05T13:48:00\",\"2010-10-18T13:18:00\",\"2010-03-23T14:06:00\",\"2010-06-17T13:48:00\",\"2010-04-11T13:09:00\",\"2010-01-13T17:44:00\",\"2010-01-20T13:10:00\",\"2010-10-01T12:17:00\",\"2010-09-13T10:46:00\",\"2010-09-08T13:57:00\",\"2010-01-24T12:15:00\",\"2010-06-23T13:16:00\",\"2010-09-13T17:25:00\",\"2010-04-15T12:20:00\",\"2010-09-24T13:30:00\",\"2010-02-23T13:59:00\",\"2010-06-27T13:09:00\",\"2010-04-19T11:19:00\",\"2010-11-23T14:06:00\",\"2010-04-28T09:18:00\",\"2010-07-29T16:35:00\",\"2010-11-30T13:02:00\",\"2010-05-02T15:10:00\",\"2010-10-07T14:11:00\",\"2010-11-26T15:51:00\",\"2010-12-02T15:46:00\",\"2010-10-20T11:58:00\",\"2010-11-12T15:46:00\",\"2010-01-29T17:55:00\",\"2010-10-18T15:27:00\",\"2010-04-29T17:01:00\",\"2010-07-01T12:02:00\",\"2010-08-23T15:44:00\",\"2010-10-10T10:49:00\",\"2010-09-13T12:56:00\",\"2010-03-16T13:44:00\",\"2009-12-22T15:06:00\",\"2010-12-05T12:57:00\",\"2010-11-10T16:40:00\",\"2010-06-14T14:06:00\",\"2010-06-21T12:17:00\",\"2010-05-04T15:48:00\",\"2010-01-10T12:43:00\",\"2010-11-12T15:05:00\",\"2010-04-18T12:49:00\",\"2010-03-24T16:33:00\",\"2010-11-25T19:16:00\",\"2010-02-02T13:13:00\",\"2010-08-29T15:07:00\",\"2010-01-13T17:08:00\",\"2010-01-11T09:31:00\",\"2010-12-01T14:32:00\",\"2010-06-20T16:06:00\",\"2010-01-14T15:10:00\",\"2010-09-28T15:07:00\",\"2010-03-12T11:19:00\",\"2010-06-15T12:14:00\",\"2010-04-19T11:13:00\",\"2010-05-19T15:24:00\",\"2010-07-30T17:08:00\",\"2010-01-26T10:25:00\",\"2010-05-10T13:43:00\",\"2010-10-15T15:46:00\",\"2010-09-03T14:22:00\",\"2010-11-12T12:15:00\",\"2010-02-22T14:28:00\",\"2010-06-09T11:23:00\",\"2010-11-03T09:36:00\",\"2010-09-29T13:44:00\",\"2010-11-12T09:18:00\",\"2010-02-14T13:39:00\",\"2010-10-14T17:44:00\",\"2010-07-28T09:41:00\",\"2010-12-06T16:57:00\",\"2010-10-26T12:54:00\",\"2010-11-23T11:26:00\",\"2010-03-08T16:30:00\",\"2010-08-12T13:38:00\",\"2010-08-31T15:36:00\",\"2010-11-12T15:20:00\",\"2010-10-17T16:16:00\",\"2010-03-02T12:18:00\",\"2010-11-12T17:00:00\",\"2010-02-18T12:36:00\",\"2010-03-10T10:50:00\",\"2010-11-23T16:53:00\",\"2010-03-31T13:22:00\",\"2010-10-11T14:32:00\",\"2009-12-06T12:52:00\",\"2010-03-07T13:00:00\",\"2010-09-28T15:51:00\",\"2010-03-29T17:17:00\",\"2009-12-16T16:04:00\",\"2010-11-15T15:10:00\",\"2010-02-02T10:15:00\",\"2010-09-13T11:28:00\",\"2010-05-07T14:02:00\",\"2010-03-16T10:58:00\",\"2010-03-22T15:52:00\",\"2010-10-13T10:53:00\",\"2010-05-06T16:27:00\",\"2010-11-15T12:17:00\",\"2010-07-15T11:47:00\",\"2010-06-29T13:12:00\",\"2010-04-21T15:04:00\",\"2010-11-07T12:28:00\",\"2010-11-25T15:19:00\",\"2010-07-26T14:32:00\",\"2010-03-30T15:47:00\",\"2010-10-20T10:50:00\",\"2010-11-12T09:18:00\",\"2010-06-07T15:31:00\",\"2010-08-22T14:31:00\",\"2009-12-03T20:03:00\",\"2009-12-16T17:01:00\",\"2010-08-10T12:06:00\",\"2010-09-17T13:20:00\",\"2010-06-17T13:48:00\",\"2010-03-09T14:16:00\",\"2010-06-11T12:45:00\",\"2010-08-10T16:10:00\",\"2010-08-16T15:31:00\",\"2010-11-11T14:08:00\",\"2010-08-04T14:50:00\",\"2009-12-09T09:51:00\",\"2010-12-05T12:43:00\",\"2010-11-23T16:18:00\",\"2009-12-04T09:43:00\",\"2010-08-17T11:52:00\",\"2009-12-04T11:07:00\",\"2010-10-25T16:57:00\",\"2010-07-29T19:56:00\",\"2010-10-14T10:00:00\",\"2010-03-14T13:40:00\",\"2010-11-16T13:04:00\",\"2010-10-18T12:49:00\",\"2010-06-10T17:27:00\",\"2010-01-21T09:37:00\",\"2010-06-09T14:43:00\",\"2010-04-18T14:35:00\",\"2010-01-04T12:30:00\",\"2010-12-03T11:36:00\",\"2009-12-10T19:35:00\",\"2010-02-05T08:43:00\",\"2010-07-09T14:55:00\",\"2010-06-15T11:46:00\",\"2010-06-15T15:23:00\",\"2010-04-18T12:05:00\",\"2010-08-16T12:00:00\",\"2010-03-19T17:13:00\",\"2009-12-03T19:31:00\",\"2010-11-14T11:54:00\",\"2010-11-24T12:04:00\",\"2010-10-25T16:57:00\",\"2010-08-18T16:54:00\",\"2009-12-08T12:38:00\",\"2010-06-10T13:52:00\",\"2010-09-29T13:08:00\",\"2010-07-07T16:29:00\",\"2010-09-09T12:37:00\",\"2010-09-06T10:19:00\",\"2010-04-20T11:30:00\",\"2010-11-24T13:56:00\",\"2010-11-11T13:26:00\",\"2010-06-08T14:52:00\",\"2010-08-02T15:26:00\",\"2010-08-08T10:46:00\",\"2010-08-12T14:32:00\",\"2010-05-28T12:37:00\",\"2009-12-16T17:01:00\",\"2010-01-25T15:23:00\",\"2010-06-07T14:48:00\",\"2010-09-29T10:26:00\",\"2010-10-01T14:07:00\",\"2010-04-23T16:16:00\",\"2010-08-15T14:01:00\",\"2010-05-26T11:12:00\",\"2009-12-13T13:53:00\",\"2010-01-05T10:18:00\",\"2010-04-23T13:12:00\",\"2010-10-05T13:21:00\",\"2010-03-12T15:13:00\",\"2010-06-03T09:29:00\",\"2010-05-28T12:11:00\",\"2009-12-01T09:08:00\",\"2010-10-11T13:53:00\",\"2010-11-05T10:23:00\",\"2010-01-20T17:50:00\",\"2010-03-16T16:18:00\",\"2010-06-18T13:22:00\",\"2010-06-01T12:00:00\",\"2009-12-09T09:51:00\",\"2010-07-01T14:24:00\",\"2010-11-10T16:38:00\",\"2009-12-10T18:27:00\",\"2010-09-20T11:45:00\",\"2010-03-12T11:19:00\",\"2010-10-20T15:25:00\",\"2010-08-31T12:41:00\",\"2010-06-16T14:34:00\",\"2010-07-16T09:24:00\",\"2010-03-26T11:37:00\",\"2010-10-07T14:28:00\",\"2009-12-01T14:28:00\",\"2010-05-30T13:35:00\",\"2010-07-15T14:08:00\",\"2010-05-25T13:21:00\",\"2010-10-07T10:19:00\",\"2010-10-28T18:54:00\",\"2010-07-27T12:39:00\",\"2010-01-08T15:16:00\",\"2010-08-16T12:36:00\",\"2010-05-04T12:16:00\",\"2010-11-25T19:36:00\",\"2010-09-22T11:37:00\",\"2010-01-28T12:20:00\",\"2010-01-28T15:51:00\",\"2010-03-09T14:32:00\",\"2010-10-07T10:37:00\",\"2010-06-09T12:11:00\",\"2010-01-31T12:15:00\",\"2010-02-15T14:47:00\",\"2010-11-25T13:51:00\",\"2010-02-19T17:40:00\",\"2010-03-02T11:33:00\",\"2010-01-04T12:30:00\",\"2010-02-01T13:45:00\",\"2010-10-19T09:10:00\",\"2010-01-21T11:51:00\",\"2010-06-09T14:41:00\",\"2010-06-24T16:25:00\",\"2010-01-14T14:06:00\",\"2010-11-25T14:03:00\",\"2010-06-03T17:15:00\",\"2010-08-26T12:35:00\",\"2010-11-12T15:20:00\",\"2010-06-17T13:48:00\",\"2010-06-21T13:18:00\",\"2010-11-26T13:22:00\",\"2010-12-05T12:26:00\",\"2010-10-03T14:13:00\",\"2010-01-07T11:22:00\",\"2010-04-29T11:18:00\",\"2010-01-14T16:16:00\",\"2010-01-18T12:55:00\",\"2010-09-20T12:15:00\",\"2010-11-07T13:08:00\",\"2010-01-19T15:45:00\",\"2009-12-15T17:05:00\",\"2010-02-08T11:06:00\",\"2010-01-20T10:48:00\",\"2010-10-31T14:09:00\",\"2010-03-21T12:20:00\",\"2010-08-17T12:03:00\",\"2010-02-15T11:22:00\",\"2010-11-21T12:40:00\",\"2010-02-17T12:12:00\",\"2009-12-06T10:26:00\",\"2010-11-25T13:18:00\",\"2010-10-14T18:02:00\",\"2010-06-16T16:04:00\",\"2010-10-10T16:01:00\",\"2010-01-25T13:14:00\",\"2010-10-27T08:36:00\",\"2010-12-03T15:05:00\",\"2010-07-21T14:43:00\",\"2010-05-07T14:56:00\",\"2010-05-19T14:22:00\",\"2010-11-08T14:19:00\",\"2010-12-08T12:17:00\",\"2010-10-21T15:38:00\",\"2010-09-14T16:15:00\",\"2010-09-16T12:27:00\",\"2010-08-03T14:23:00\",\"2010-11-17T12:44:00\",\"2010-05-06T11:44:00\",\"2010-08-08T14:37:00\",\"2010-04-22T12:58:00\",\"2010-03-07T12:06:00\",\"2010-10-24T11:18:00\",\"2010-10-27T14:05:00\",\"2010-07-19T12:17:00\",\"2010-11-03T13:47:00\",\"2010-02-25T13:23:00\",\"2010-08-18T16:54:00\",\"2010-08-16T14:59:00\",\"2010-06-06T15:01:00\",\"2010-06-15T12:22:00\",\"2010-08-17T12:03:00\",\"2010-07-04T13:10:00\",\"2010-11-19T12:56:00\",\"2010-09-28T14:44:00\",\"2009-12-22T09:41:00\",\"2010-06-14T16:25:00\",\"2010-01-04T09:24:00\",\"2010-08-26T15:42:00\",\"2010-04-25T11:43:00\",\"2010-06-04T14:54:00\",\"2010-07-14T13:01:00\",\"2009-12-16T17:01:00\",\"2010-09-23T13:26:00\",\"2010-11-10T13:23:00\",\"2010-10-18T12:58:00\",\"2010-04-25T11:43:00\",\"2010-04-06T12:39:00\",\"2010-11-17T09:22:00\",\"2010-06-09T10:52:00\",\"2010-06-17T09:30:00\",\"2010-08-23T11:58:00\",\"2010-10-31T12:36:00\",\"2009-12-16T17:36:00\",\"2010-11-30T17:43:00\",\"2010-03-23T12:18:00\",\"2010-09-02T13:29:00\",\"2010-09-07T09:31:00\",\"2010-02-17T12:03:00\",\"2010-11-17T16:48:00\",\"2010-10-20T17:12:00\",\"2010-04-15T16:35:00\",\"2010-11-19T13:07:00\",\"2010-09-19T16:20:00\",\"2010-12-09T14:19:00\",\"2010-02-28T14:12:00\",\"2010-04-07T10:36:00\",\"2010-08-15T13:26:00\",\"2010-03-01T09:58:00\",\"2010-02-19T17:40:00\",\"2010-10-07T14:24:00\",\"2010-02-08T15:11:00\",\"2010-10-18T14:07:00\",\"2010-06-15T12:11:00\",\"2010-09-10T13:27:00\",\"2010-08-18T11:34:00\",\"2010-05-27T11:11:00\",\"2009-12-10T18:27:00\",\"2010-10-05T17:55:00\",\"2010-07-20T09:04:00\",\"2010-05-28T10:08:00\",\"2010-07-04T13:31:00\",\"2010-07-08T10:07:00\",\"2010-01-22T14:17:00\",\"2009-12-15T17:25:00\",\"2010-08-03T10:30:00\",\"2009-12-22T09:41:00\",\"2009-12-03T13:09:00\",\"2010-04-28T14:25:00\",\"2009-12-04T10:57:00\",\"2010-11-03T09:36:00\",\"2010-03-12T10:41:00\",\"2010-09-02T14:52:00\",\"2010-11-28T14:13:00\",\"2010-09-16T14:52:00\",\"2010-04-23T11:43:00\",\"2010-10-22T14:04:00\",\"2009-12-22T15:13:00\",\"2010-11-23T16:53:00\",\"2010-03-29T11:49:00\",\"2010-11-10T12:09:00\",\"2010-06-14T12:41:00\",\"2010-09-28T09:13:00\",\"2010-03-09T14:16:00\",\"2010-08-22T12:52:00\",\"2010-10-19T12:50:00\",\"2010-03-25T13:16:00\",\"2010-02-14T15:30:00\",\"2010-08-29T10:16:00\",\"2010-08-25T11:35:00\",\"2010-10-26T12:14:00\",\"2010-06-02T11:54:00\",\"2009-12-16T17:01:00\",\"2010-10-20T13:42:00\",\"2010-02-08T16:53:00\",\"2009-12-07T15:15:00\",\"2010-01-26T13:04:00\",\"2010-11-17T09:22:00\",\"2010-02-16T14:32:00\",\"2010-01-29T11:45:00\",\"2010-10-11T11:34:00\",\"2009-12-13T13:31:00\",\"2010-10-29T12:07:00\",\"2010-04-29T15:34:00\",\"2010-04-11T16:06:00\",\"2010-11-29T12:06:00\",\"2010-03-23T08:40:00\",\"2010-03-30T10:55:00\",\"2010-01-26T10:25:00\",\"2010-08-03T14:38:00\",\"2010-10-13T13:12:00\",\"2010-10-18T17:11:00\",\"2010-04-19T11:13:00\",\"2009-12-02T15:15:00\",\"2010-07-15T12:30:00\",\"2010-11-23T09:12:00\",\"2010-10-28T10:16:00\",\"2010-10-15T16:04:00\",\"2010-10-19T16:38:00\",\"2010-05-12T12:09:00\",\"2010-08-22T11:47:00\",\"2010-11-12T09:18:00\",\"2009-12-07T18:02:00\",\"2010-10-07T12:30:00\",\"2010-10-12T13:19:00\",\"2010-09-23T12:19:00\",\"2010-10-29T14:12:00\",\"2010-05-19T11:59:00\",\"2010-07-02T13:25:00\",\"2010-08-13T17:13:00\",\"2010-10-13T14:57:00\",\"2010-11-14T16:12:00\",\"2010-10-20T12:53:00\",\"2010-01-06T12:16:00\",\"2010-03-04T12:06:00\",\"2010-11-25T11:04:00\",\"2009-12-22T09:52:00\",\"2010-10-18T09:28:00\",\"2010-07-08T11:42:00\",\"2010-11-12T15:40:00\",\"2010-08-03T13:03:00\",\"2010-09-13T15:12:00\",\"2010-11-15T09:32:00\",\"2010-02-17T11:27:00\",\"2010-07-11T15:34:00\",\"2009-12-01T09:50:00\",\"2010-05-16T16:05:00\",\"2010-11-25T13:36:00\",\"2010-03-08T13:17:00\",\"2010-04-09T16:54:00\",\"2010-05-17T14:17:00\",\"2010-02-02T16:42:00\",\"2010-06-14T14:49:00\",\"2010-02-23T14:16:00\",\"2010-06-14T12:01:00\",\"2010-01-24T12:15:00\",\"2010-05-24T12:01:00\",\"2010-10-06T14:40:00\",\"2009-12-18T12:59:00\",\"2010-04-30T17:18:00\",\"2010-02-22T17:10:00\",\"2010-10-11T13:57:00\",\"2010-09-27T09:55:00\",\"2010-06-03T09:06:00\",\"2010-08-03T15:17:00\",\"2010-06-27T13:09:00\",\"2010-09-30T17:18:00\",\"2010-08-15T16:00:00\",\"2009-12-17T15:44:00\",\"2010-11-22T15:24:00\",\"2010-06-24T11:46:00\",\"2010-05-19T15:10:00\",\"2010-04-11T14:28:00\",\"2010-03-19T13:41:00\",\"2010-06-16T12:48:00\",\"2010-02-02T13:13:00\",\"2010-11-21T16:02:00\",\"2010-10-01T11:43:00\",\"2010-04-13T13:33:00\",\"2010-06-23T13:19:00\",\"2010-03-01T14:01:00\",\"2010-12-09T16:35:00\",\"2010-02-01T17:18:00\",\"2010-04-28T16:26:00\",\"2010-09-27T12:50:00\",\"2010-11-21T16:13:00\",\"2010-05-27T12:17:00\",\"2010-03-03T16:33:00\",\"2010-02-17T12:03:00\",\"2010-03-01T15:36:00\",\"2010-03-03T15:28:00\",\"2010-11-17T09:22:00\",\"2010-11-03T09:36:00\",\"2010-02-01T14:52:00\",\"2010-04-06T16:37:00\",\"2010-02-23T14:48:00\",\"2010-06-14T11:24:00\",\"2010-09-24T12:18:00\",\"2010-11-12T14:02:00\",\"2009-12-16T12:29:00\",\"2010-07-26T10:35:00\",\"2010-01-12T17:24:00\",\"2010-11-08T09:56:00\",\"2010-06-16T14:26:00\",\"2010-03-24T10:28:00\",\"2010-10-24T12:51:00\",\"2010-10-13T10:46:00\",\"2010-07-14T12:19:00\",\"2010-12-05T12:53:00\",\"2010-11-23T12:00:00\",\"2010-10-08T11:45:00\",\"2010-03-19T14:05:00\",\"2010-11-24T15:23:00\",\"2010-03-31T17:28:00\",\"2010-09-13T14:26:00\",\"2010-11-09T15:20:00\",\"2010-11-10T14:48:00\",\"2009-12-22T14:31:00\",\"2010-05-06T10:04:00\",\"2010-03-08T16:30:00\",\"2010-10-05T10:35:00\",\"2010-12-05T12:35:00\",\"2010-11-04T18:00:00\",\"2010-08-12T16:41:00\",\"2010-11-24T15:03:00\",\"2010-10-28T09:29:00\",\"2010-10-08T17:28:00\",\"2010-09-19T16:18:00\",\"2010-09-17T14:54:00\",\"2010-12-07T15:31:00\",\"2010-09-02T17:52:00\",\"2010-11-05T11:58:00\",\"2010-12-05T15:15:00\",\"2009-12-04T17:31:00\",\"2010-09-05T11:59:00\",\"2010-11-10T10:50:00\",\"2010-03-26T14:01:00\",\"2010-05-18T11:40:00\",\"2010-10-20T10:22:00\",\"2010-02-14T14:10:00\",\"2010-03-29T16:47:00\",\"2010-05-13T15:41:00\",\"2010-05-26T14:38:00\",\"2010-01-15T13:15:00\",\"2010-01-25T13:22:00\",\"2010-09-21T12:49:00\",\"2010-11-10T15:20:00\",\"2010-03-04T10:14:00\",\"2010-03-10T10:50:00\",\"2010-02-15T13:27:00\",\"2010-06-15T12:35:00\",\"2010-08-11T16:44:00\",\"2010-11-16T13:03:00\",\"2010-02-22T11:42:00\",\"2009-12-21T17:14:00\",\"2010-07-27T13:52:00\",\"2010-11-10T11:47:00\",\"2010-12-02T16:34:00\",\"2010-10-08T10:23:00\",\"2010-04-14T10:13:00\",\"2009-12-17T13:36:00\",\"2010-05-07T16:46:00\",\"2010-03-03T12:16:00\",\"2010-04-23T16:16:00\",\"2010-09-09T15:49:00\",\"2010-06-16T14:12:00\",\"2010-10-18T16:52:00\",\"2010-10-29T08:23:00\",\"2010-10-24T10:41:00\",\"2010-11-12T12:44:00\",\"2010-11-01T09:33:00\",\"2010-01-07T13:07:00\",\"2010-04-26T11:57:00\",\"2010-07-20T09:04:00\",\"2010-10-05T13:01:00\",\"2010-02-26T10:11:00\",\"2010-07-07T09:39:00\",\"2009-12-04T14:29:00\",\"2010-08-15T14:01:00\",\"2010-02-25T15:07:00\",\"2010-05-24T14:55:00\",\"2010-10-31T13:12:00\",\"2010-05-05T14:42:00\",\"2010-03-25T13:55:00\",\"2010-11-14T16:16:00\",\"2010-01-18T12:48:00\",\"2010-03-31T17:28:00\",\"2010-08-04T10:57:00\",\"2010-04-01T14:52:00\",\"2010-03-15T16:05:00\",\"2010-04-30T15:57:00\",\"2010-10-12T16:38:00\",\"2010-09-24T12:43:00\",\"2010-04-01T15:04:00\",\"2010-03-15T16:13:00\",\"2010-12-06T16:57:00\",\"2010-01-27T16:41:00\",\"2010-11-30T12:05:00\",\"2010-04-18T11:24:00\",\"2010-05-05T14:42:00\",\"2010-05-06T16:50:00\",\"2010-06-06T15:47:00\",\"2010-11-10T13:08:00\",\"2010-04-13T13:26:00\",\"2010-03-23T11:01:00\",\"2010-04-25T13:40:00\",\"2010-10-24T10:33:00\",\"2010-01-29T13:53:00\",\"2010-08-22T14:31:00\",\"2010-11-22T15:50:00\",\"2010-02-09T12:01:00\",\"2010-01-25T13:14:00\",\"2010-08-26T12:10:00\",\"2010-11-16T12:50:00\",\"2010-04-15T13:52:00\",\"2010-03-08T12:35:00\",\"2010-01-14T17:43:00\",\"2010-10-01T10:24:00\",\"2010-04-25T15:48:00\",\"2010-12-09T19:28:00\",\"2010-01-31T15:47:00\",\"2010-09-06T11:32:00\",\"2010-11-23T13:59:00\",\"2010-07-29T11:22:00\",\"2010-10-21T10:46:00\",\"2010-11-04T13:04:00\",\"2010-08-10T11:49:00\",\"2010-11-25T15:19:00\",\"2010-01-11T12:29:00\",\"2010-08-06T09:18:00\",\"2010-05-06T15:17:00\",\"2010-08-10T13:28:00\",\"2010-11-01T11:48:00\",\"2010-06-28T11:39:00\",\"2010-10-06T12:36:00\",\"2010-04-18T12:31:00\",\"2010-11-11T12:50:00\",\"2010-12-08T14:25:00\",\"2010-10-17T13:02:00\",\"2009-12-09T15:16:00\",\"2009-12-21T11:08:00\",\"2010-08-27T13:53:00\",\"2010-10-10T13:31:00\",\"2010-03-12T11:19:00\",\"2010-09-09T10:37:00\",\"2010-01-25T09:53:00\",\"2010-10-18T12:11:00\",\"2010-08-31T14:40:00\",\"2010-07-29T18:30:00\",\"2010-05-11T13:30:00\",\"2010-01-05T11:29:00\",\"2010-11-12T09:18:00\",\"2010-09-24T12:31:00\",\"2010-11-15T12:50:00\",\"2010-12-09T14:09:00\",\"2010-01-26T12:30:00\",\"2010-02-08T16:23:00\",\"2010-02-28T15:01:00\",\"2010-02-25T13:40:00\",\"2010-10-26T10:34:00\",\"2010-02-17T14:39:00\",\"2010-09-05T15:27:00\",\"2010-09-01T17:17:00\",\"2010-04-21T15:34:00\",\"2010-06-24T12:49:00\",\"2010-02-03T08:15:00\",\"2010-11-10T12:09:00\",\"2010-10-07T16:48:00\",\"2010-04-16T12:43:00\",\"2010-04-01T12:26:00\",\"2010-10-26T14:47:00\",\"2010-10-17T16:06:00\",\"2010-11-04T14:49:00\",\"2010-11-05T12:09:00\",\"2010-10-07T09:12:00\",\"2010-03-07T14:50:00\",\"2010-10-19T12:15:00\",\"2010-03-03T14:20:00\",\"2009-12-10T17:09:00\",\"2010-11-02T13:57:00\",\"2010-08-01T13:48:00\",\"2010-01-05T12:20:00\",\"2010-01-14T18:56:00\",\"2010-11-16T15:46:00\",\"2010-10-07T14:28:00\",\"2010-03-31T12:21:00\",\"2009-12-02T14:34:00\",\"2010-04-14T13:50:00\",\"2010-12-01T15:08:00\",\"2010-04-29T10:54:00\",\"2010-11-29T10:50:00\",\"2010-10-10T13:38:00\",\"2010-01-21T14:01:00\",\"2010-05-10T09:55:00\"],\"xaxis\":\"x2\",\"yaxis\":\"y2\",\"type\":\"box\"}],                        {\"template\":{\"data\":{\"histogram2dcontour\":[{\"type\":\"histogram2dcontour\",\"colorbar\":{\"outlinewidth\":0,\"ticks\":\"\"},\"colorscale\":[[0.0,\"#0d0887\"],[0.1111111111111111,\"#46039f\"],[0.2222222222222222,\"#7201a8\"],[0.3333333333333333,\"#9c179e\"],[0.4444444444444444,\"#bd3786\"],[0.5555555555555556,\"#d8576b\"],[0.6666666666666666,\"#ed7953\"],[0.7777777777777778,\"#fb9f3a\"],[0.8888888888888888,\"#fdca26\"],[1.0,\"#f0f921\"]]}],\"choropleth\":[{\"type\":\"choropleth\",\"colorbar\":{\"outlinewidth\":0,\"ticks\":\"\"}}],\"histogram2d\":[{\"type\":\"histogram2d\",\"colorbar\":{\"outlinewidth\":0,\"ticks\":\"\"},\"colorscale\":[[0.0,\"#0d0887\"],[0.1111111111111111,\"#46039f\"],[0.2222222222222222,\"#7201a8\"],[0.3333333333333333,\"#9c179e\"],[0.4444444444444444,\"#bd3786\"],[0.5555555555555556,\"#d8576b\"],[0.6666666666666666,\"#ed7953\"],[0.7777777777777778,\"#fb9f3a\"],[0.8888888888888888,\"#fdca26\"],[1.0,\"#f0f921\"]]}],\"heatmap\":[{\"type\":\"heatmap\",\"colorbar\":{\"outlinewidth\":0,\"ticks\":\"\"},\"colorscale\":[[0.0,\"#0d0887\"],[0.1111111111111111,\"#46039f\"],[0.2222222222222222,\"#7201a8\"],[0.3333333333333333,\"#9c179e\"],[0.4444444444444444,\"#bd3786\"],[0.5555555555555556,\"#d8576b\"],[0.6666666666666666,\"#ed7953\"],[0.7777777777777778,\"#fb9f3a\"],[0.8888888888888888,\"#fdca26\"],[1.0,\"#f0f921\"]]}],\"heatmapgl\":[{\"type\":\"heatmapgl\",\"colorbar\":{\"outlinewidth\":0,\"ticks\":\"\"},\"colorscale\":[[0.0,\"#0d0887\"],[0.1111111111111111,\"#46039f\"],[0.2222222222222222,\"#7201a8\"],[0.3333333333333333,\"#9c179e\"],[0.4444444444444444,\"#bd3786\"],[0.5555555555555556,\"#d8576b\"],[0.6666666666666666,\"#ed7953\"],[0.7777777777777778,\"#fb9f3a\"],[0.8888888888888888,\"#fdca26\"],[1.0,\"#f0f921\"]]}],\"contourcarpet\":[{\"type\":\"contourcarpet\",\"colorbar\":{\"outlinewidth\":0,\"ticks\":\"\"}}],\"contour\":[{\"type\":\"contour\",\"colorbar\":{\"outlinewidth\":0,\"ticks\":\"\"},\"colorscale\":[[0.0,\"#0d0887\"],[0.1111111111111111,\"#46039f\"],[0.2222222222222222,\"#7201a8\"],[0.3333333333333333,\"#9c179e\"],[0.4444444444444444,\"#bd3786\"],[0.5555555555555556,\"#d8576b\"],[0.6666666666666666,\"#ed7953\"],[0.7777777777777778,\"#fb9f3a\"],[0.8888888888888888,\"#fdca26\"],[1.0,\"#f0f921\"]]}],\"surface\":[{\"type\":\"surface\",\"colorbar\":{\"outlinewidth\":0,\"ticks\":\"\"},\"colorscale\":[[0.0,\"#0d0887\"],[0.1111111111111111,\"#46039f\"],[0.2222222222222222,\"#7201a8\"],[0.3333333333333333,\"#9c179e\"],[0.4444444444444444,\"#bd3786\"],[0.5555555555555556,\"#d8576b\"],[0.6666666666666666,\"#ed7953\"],[0.7777777777777778,\"#fb9f3a\"],[0.8888888888888888,\"#fdca26\"],[1.0,\"#f0f921\"]]}],\"mesh3d\":[{\"type\":\"mesh3d\",\"colorbar\":{\"outlinewidth\":0,\"ticks\":\"\"}}],\"scatter\":[{\"fillpattern\":{\"fillmode\":\"overlay\",\"size\":10,\"solidity\":0.2},\"type\":\"scatter\"}],\"parcoords\":[{\"type\":\"parcoords\",\"line\":{\"colorbar\":{\"outlinewidth\":0,\"ticks\":\"\"}}}],\"scatterpolargl\":[{\"type\":\"scatterpolargl\",\"marker\":{\"colorbar\":{\"outlinewidth\":0,\"ticks\":\"\"}}}],\"bar\":[{\"error_x\":{\"color\":\"#2a3f5f\"},\"error_y\":{\"color\":\"#2a3f5f\"},\"marker\":{\"line\":{\"color\":\"#E5ECF6\",\"width\":0.5},\"pattern\":{\"fillmode\":\"overlay\",\"size\":10,\"solidity\":0.2}},\"type\":\"bar\"}],\"scattergeo\":[{\"type\":\"scattergeo\",\"marker\":{\"colorbar\":{\"outlinewidth\":0,\"ticks\":\"\"}}}],\"scatterpolar\":[{\"type\":\"scatterpolar\",\"marker\":{\"colorbar\":{\"outlinewidth\":0,\"ticks\":\"\"}}}],\"histogram\":[{\"marker\":{\"pattern\":{\"fillmode\":\"overlay\",\"size\":10,\"solidity\":0.2}},\"type\":\"histogram\"}],\"scattergl\":[{\"type\":\"scattergl\",\"marker\":{\"colorbar\":{\"outlinewidth\":0,\"ticks\":\"\"}}}],\"scatter3d\":[{\"type\":\"scatter3d\",\"line\":{\"colorbar\":{\"outlinewidth\":0,\"ticks\":\"\"}},\"marker\":{\"colorbar\":{\"outlinewidth\":0,\"ticks\":\"\"}}}],\"scattermapbox\":[{\"type\":\"scattermapbox\",\"marker\":{\"colorbar\":{\"outlinewidth\":0,\"ticks\":\"\"}}}],\"scatterternary\":[{\"type\":\"scatterternary\",\"marker\":{\"colorbar\":{\"outlinewidth\":0,\"ticks\":\"\"}}}],\"scattercarpet\":[{\"type\":\"scattercarpet\",\"marker\":{\"colorbar\":{\"outlinewidth\":0,\"ticks\":\"\"}}}],\"carpet\":[{\"aaxis\":{\"endlinecolor\":\"#2a3f5f\",\"gridcolor\":\"white\",\"linecolor\":\"white\",\"minorgridcolor\":\"white\",\"startlinecolor\":\"#2a3f5f\"},\"baxis\":{\"endlinecolor\":\"#2a3f5f\",\"gridcolor\":\"white\",\"linecolor\":\"white\",\"minorgridcolor\":\"white\",\"startlinecolor\":\"#2a3f5f\"},\"type\":\"carpet\"}],\"table\":[{\"cells\":{\"fill\":{\"color\":\"#EBF0F8\"},\"line\":{\"color\":\"white\"}},\"header\":{\"fill\":{\"color\":\"#C8D4E3\"},\"line\":{\"color\":\"white\"}},\"type\":\"table\"}],\"barpolar\":[{\"marker\":{\"line\":{\"color\":\"#E5ECF6\",\"width\":0.5},\"pattern\":{\"fillmode\":\"overlay\",\"size\":10,\"solidity\":0.2}},\"type\":\"barpolar\"}],\"pie\":[{\"automargin\":true,\"type\":\"pie\"}]},\"layout\":{\"autotypenumbers\":\"strict\",\"colorway\":[\"#636efa\",\"#EF553B\",\"#00cc96\",\"#ab63fa\",\"#FFA15A\",\"#19d3f3\",\"#FF6692\",\"#B6E880\",\"#FF97FF\",\"#FECB52\"],\"font\":{\"color\":\"#2a3f5f\"},\"hovermode\":\"closest\",\"hoverlabel\":{\"align\":\"left\"},\"paper_bgcolor\":\"white\",\"plot_bgcolor\":\"#E5ECF6\",\"polar\":{\"bgcolor\":\"#E5ECF6\",\"angularaxis\":{\"gridcolor\":\"white\",\"linecolor\":\"white\",\"ticks\":\"\"},\"radialaxis\":{\"gridcolor\":\"white\",\"linecolor\":\"white\",\"ticks\":\"\"}},\"ternary\":{\"bgcolor\":\"#E5ECF6\",\"aaxis\":{\"gridcolor\":\"white\",\"linecolor\":\"white\",\"ticks\":\"\"},\"baxis\":{\"gridcolor\":\"white\",\"linecolor\":\"white\",\"ticks\":\"\"},\"caxis\":{\"gridcolor\":\"white\",\"linecolor\":\"white\",\"ticks\":\"\"}},\"coloraxis\":{\"colorbar\":{\"outlinewidth\":0,\"ticks\":\"\"}},\"colorscale\":{\"sequential\":[[0.0,\"#0d0887\"],[0.1111111111111111,\"#46039f\"],[0.2222222222222222,\"#7201a8\"],[0.3333333333333333,\"#9c179e\"],[0.4444444444444444,\"#bd3786\"],[0.5555555555555556,\"#d8576b\"],[0.6666666666666666,\"#ed7953\"],[0.7777777777777778,\"#fb9f3a\"],[0.8888888888888888,\"#fdca26\"],[1.0,\"#f0f921\"]],\"sequentialminus\":[[0.0,\"#0d0887\"],[0.1111111111111111,\"#46039f\"],[0.2222222222222222,\"#7201a8\"],[0.3333333333333333,\"#9c179e\"],[0.4444444444444444,\"#bd3786\"],[0.5555555555555556,\"#d8576b\"],[0.6666666666666666,\"#ed7953\"],[0.7777777777777778,\"#fb9f3a\"],[0.8888888888888888,\"#fdca26\"],[1.0,\"#f0f921\"]],\"diverging\":[[0,\"#8e0152\"],[0.1,\"#c51b7d\"],[0.2,\"#de77ae\"],[0.3,\"#f1b6da\"],[0.4,\"#fde0ef\"],[0.5,\"#f7f7f7\"],[0.6,\"#e6f5d0\"],[0.7,\"#b8e186\"],[0.8,\"#7fbc41\"],[0.9,\"#4d9221\"],[1,\"#276419\"]]},\"xaxis\":{\"gridcolor\":\"white\",\"linecolor\":\"white\",\"ticks\":\"\",\"title\":{\"standoff\":15},\"zerolinecolor\":\"white\",\"automargin\":true,\"zerolinewidth\":2},\"yaxis\":{\"gridcolor\":\"white\",\"linecolor\":\"white\",\"ticks\":\"\",\"title\":{\"standoff\":15},\"zerolinecolor\":\"white\",\"automargin\":true,\"zerolinewidth\":2},\"scene\":{\"xaxis\":{\"backgroundcolor\":\"#E5ECF6\",\"gridcolor\":\"white\",\"linecolor\":\"white\",\"showbackground\":true,\"ticks\":\"\",\"zerolinecolor\":\"white\",\"gridwidth\":2},\"yaxis\":{\"backgroundcolor\":\"#E5ECF6\",\"gridcolor\":\"white\",\"linecolor\":\"white\",\"showbackground\":true,\"ticks\":\"\",\"zerolinecolor\":\"white\",\"gridwidth\":2},\"zaxis\":{\"backgroundcolor\":\"#E5ECF6\",\"gridcolor\":\"white\",\"linecolor\":\"white\",\"showbackground\":true,\"ticks\":\"\",\"zerolinecolor\":\"white\",\"gridwidth\":2}},\"shapedefaults\":{\"line\":{\"color\":\"#2a3f5f\"}},\"annotationdefaults\":{\"arrowcolor\":\"#2a3f5f\",\"arrowhead\":0,\"arrowwidth\":1},\"geo\":{\"bgcolor\":\"white\",\"landcolor\":\"#E5ECF6\",\"subunitcolor\":\"white\",\"showland\":true,\"showlakes\":true,\"lakecolor\":\"white\"},\"title\":{\"x\":0.05},\"mapbox\":{\"style\":\"light\"}}},\"xaxis\":{\"anchor\":\"y\",\"domain\":[0.0,1.0],\"title\":{\"text\":\"value\"}},\"yaxis\":{\"anchor\":\"x\",\"domain\":[0.0,0.7326],\"title\":{\"text\":\"count\"}},\"xaxis2\":{\"anchor\":\"y2\",\"domain\":[0.0,1.0],\"matches\":\"x\",\"showticklabels\":false,\"showgrid\":true},\"yaxis2\":{\"anchor\":\"x2\",\"domain\":[0.7426,1.0],\"matches\":\"y2\",\"showticklabels\":false,\"showline\":false,\"ticks\":\"\",\"showgrid\":false},\"legend\":{\"title\":{\"text\":\"variable\"},\"tracegroupgap\":0},\"title\":{\"text\":\"InvoiceDate\"},\"barmode\":\"relative\"},                        {\"responsive\": true}                    ).then(function(){\n",
       "                            \n",
       "var gd = document.getElementById('12b6208e-b42e-4bed-af5d-69f6d80b7779');\n",
       "var x = new MutationObserver(function (mutations, observer) {{\n",
       "        var display = window.getComputedStyle(gd).display;\n",
       "        if (!display || display === 'none') {{\n",
       "            console.log([gd, 'removed!']);\n",
       "            Plotly.purge(gd);\n",
       "            observer.disconnect();\n",
       "        }}\n",
       "}});\n",
       "\n",
       "// Listen for the removal of the full notebook cells\n",
       "var notebookContainer = gd.closest('#notebook-container');\n",
       "if (notebookContainer) {{\n",
       "    x.observe(notebookContainer, {childList: true});\n",
       "}}\n",
       "\n",
       "// Listen for the clearing of the current output cell\n",
       "var outputEl = gd.closest('.output');\n",
       "if (outputEl) {{\n",
       "    x.observe(outputEl, {childList: true});\n",
       "}}\n",
       "\n",
       "                        })                };                });            </script>        </div>"
      ]
     },
     "metadata": {},
     "output_type": "display_data"
    }
   ],
   "source": [
    "profile_serie(df_retail['InvoiceDate'])"
   ]
  },
  {
   "cell_type": "markdown",
   "metadata": {},
   "source": [
    "#### InvoiceDate: \n",
    "\n",
    "Hay un total de 525461 observacion, sin valores faltantes con un 99.04% de datos duplicados. La primera fecha de compra fue \"2009-12-01\". Y la ultima fecha de compra fue \"2010-12-09\". Es decir, un rango de casi 1 año. Del histograma se puede observar que el periodo nov-dec posee mas compras, mientras que nov-jan posee menos compras."
   ]
  },
  {
   "cell_type": "code",
   "execution_count": 31,
   "metadata": {
    "scrolled": false
   },
   "outputs": [
    {
     "data": {
      "text/markdown": [
       "## Customer ID Profile"
      ],
      "text/plain": [
       "<IPython.core.display.Markdown object>"
      ]
     },
     "metadata": {},
     "output_type": "display_data"
    },
    {
     "data": {
      "text/plain": [
       "Type                           category\n",
       "Number of observations         417534.0\n",
       "Unique                           4383.0\n",
       "Top                             14911.0\n",
       "Freq                             5710.0\n",
       "                                       \n",
       "Missing cells                    107927\n",
       "Missing cells (%)               20.54 %\n",
       "Duplicate rows                   525327\n",
       "Duplicate rows (%)              99.97 %\n",
       "Total size in memory      1218250 bytes\n",
       "dtype: object"
      ]
     },
     "metadata": {},
     "output_type": "display_data"
    },
    {
     "data": {
      "application/vnd.plotly.v1+json": {
       "config": {
        "plotlyServerURL": "https://plot.ly"
       },
       "data": [
        {
         "alignmentgroup": "True",
         "hovertemplate": "x=%{x}<br>y=%{y}<extra></extra>",
         "legendgroup": "",
         "marker": {
          "color": "#636efa",
          "pattern": {
           "shape": ""
          }
         },
         "name": "",
         "offsetgroup": "",
         "orientation": "v",
         "showlegend": false,
         "textposition": "auto",
         "type": "bar",
         "x": [
          "14911.0",
          "17841.0",
          "14606.0",
          "14156.0",
          "12748.0",
          "17850.0",
          "16549.0",
          "15311.0",
          "14527.0",
          "14646.0",
          "16782.0",
          "13089.0",
          "15005.0",
          "17377.0",
          "13081.0",
          "15039.0",
          "13564.0",
          "14298.0",
          "15768.0",
          "14680.0",
          "17448.0",
          "17920.0",
          "17589.0",
          "17511.0",
          "13694.0",
          "13093.0",
          "15998.0",
          "12921.0",
          "15719.0",
          "12681.0",
          "14505.0",
          "13174.0",
          "17085.0",
          "15555.0",
          "14667.0",
          "14081.0",
          "12471.0",
          "17243.0",
          "16779.0",
          "16984.0",
          "13137.0",
          "17068.0",
          "13230.0",
          "16713.0",
          "17231.0",
          "16161.0",
          "13069.0",
          "13001.0",
          "14415.0",
          "17865.0",
          "14159.0",
          "17238.0",
          "15808.0",
          "15547.0",
          "12472.0",
          "14044.0",
          "16327.0",
          "18102.0",
          "12835.0",
          "14030.0",
          "13050.0",
          "14085.0",
          "15898.0",
          "17338.0",
          "15581.0",
          "15867.0",
          "13097.0",
          "14049.0",
          "13451.0",
          "16938.0",
          "15358.0",
          "15061.0",
          "16710.0",
          "13206.0",
          "15571.0",
          "16550.0",
          "17757.0",
          "14040.0",
          "16409.0",
          "13869.0",
          "17611.0",
          "14031.0",
          "16746.0",
          "17965.0",
          "16072.0",
          "18069.0",
          "12867.0",
          "17799.0",
          "16686.0",
          "14535.0",
          "15856.0",
          "17576.0",
          "12682.0",
          "17364.0",
          "17346.0",
          "12949.0",
          "13319.0",
          "13148.0",
          "18041.0",
          "15615.0"
         ],
         "xaxis": "x",
         "y": [
          5710,
          5114,
          3927,
          2710,
          2665,
          2515,
          2274,
          2226,
          1826,
          1805,
          1703,
          1581,
          1388,
          1377,
          1369,
          1302,
          1233,
          1228,
          1213,
          1138,
          1133,
          1110,
          1100,
          1058,
          973,
          941,
          937,
          871,
          856,
          848,
          823,
          818,
          816,
          807,
          799,
          795,
          767,
          748,
          745,
          742,
          737,
          730,
          728,
          720,
          706,
          700,
          693,
          689,
          689,
          673,
          673,
          665,
          664,
          658,
          658,
          643,
          635,
          635,
          630,
          627,
          625,
          618,
          616,
          611,
          610,
          605,
          605,
          602,
          600,
          595,
          591,
          588,
          585,
          584,
          578,
          578,
          573,
          567,
          559,
          553,
          551,
          547,
          545,
          535,
          533,
          528,
          525,
          523,
          521,
          519,
          519,
          518,
          517,
          511,
          509,
          506,
          498,
          494,
          489,
          485
         ],
         "yaxis": "y"
        }
       ],
       "layout": {
        "barmode": "relative",
        "legend": {
         "tracegroupgap": 0
        },
        "template": {
         "data": {
          "bar": [
           {
            "error_x": {
             "color": "#2a3f5f"
            },
            "error_y": {
             "color": "#2a3f5f"
            },
            "marker": {
             "line": {
              "color": "#E5ECF6",
              "width": 0.5
             },
             "pattern": {
              "fillmode": "overlay",
              "size": 10,
              "solidity": 0.2
             }
            },
            "type": "bar"
           }
          ],
          "barpolar": [
           {
            "marker": {
             "line": {
              "color": "#E5ECF6",
              "width": 0.5
             },
             "pattern": {
              "fillmode": "overlay",
              "size": 10,
              "solidity": 0.2
             }
            },
            "type": "barpolar"
           }
          ],
          "carpet": [
           {
            "aaxis": {
             "endlinecolor": "#2a3f5f",
             "gridcolor": "white",
             "linecolor": "white",
             "minorgridcolor": "white",
             "startlinecolor": "#2a3f5f"
            },
            "baxis": {
             "endlinecolor": "#2a3f5f",
             "gridcolor": "white",
             "linecolor": "white",
             "minorgridcolor": "white",
             "startlinecolor": "#2a3f5f"
            },
            "type": "carpet"
           }
          ],
          "choropleth": [
           {
            "colorbar": {
             "outlinewidth": 0,
             "ticks": ""
            },
            "type": "choropleth"
           }
          ],
          "contour": [
           {
            "colorbar": {
             "outlinewidth": 0,
             "ticks": ""
            },
            "colorscale": [
             [
              0,
              "#0d0887"
             ],
             [
              0.1111111111111111,
              "#46039f"
             ],
             [
              0.2222222222222222,
              "#7201a8"
             ],
             [
              0.3333333333333333,
              "#9c179e"
             ],
             [
              0.4444444444444444,
              "#bd3786"
             ],
             [
              0.5555555555555556,
              "#d8576b"
             ],
             [
              0.6666666666666666,
              "#ed7953"
             ],
             [
              0.7777777777777778,
              "#fb9f3a"
             ],
             [
              0.8888888888888888,
              "#fdca26"
             ],
             [
              1,
              "#f0f921"
             ]
            ],
            "type": "contour"
           }
          ],
          "contourcarpet": [
           {
            "colorbar": {
             "outlinewidth": 0,
             "ticks": ""
            },
            "type": "contourcarpet"
           }
          ],
          "heatmap": [
           {
            "colorbar": {
             "outlinewidth": 0,
             "ticks": ""
            },
            "colorscale": [
             [
              0,
              "#0d0887"
             ],
             [
              0.1111111111111111,
              "#46039f"
             ],
             [
              0.2222222222222222,
              "#7201a8"
             ],
             [
              0.3333333333333333,
              "#9c179e"
             ],
             [
              0.4444444444444444,
              "#bd3786"
             ],
             [
              0.5555555555555556,
              "#d8576b"
             ],
             [
              0.6666666666666666,
              "#ed7953"
             ],
             [
              0.7777777777777778,
              "#fb9f3a"
             ],
             [
              0.8888888888888888,
              "#fdca26"
             ],
             [
              1,
              "#f0f921"
             ]
            ],
            "type": "heatmap"
           }
          ],
          "heatmapgl": [
           {
            "colorbar": {
             "outlinewidth": 0,
             "ticks": ""
            },
            "colorscale": [
             [
              0,
              "#0d0887"
             ],
             [
              0.1111111111111111,
              "#46039f"
             ],
             [
              0.2222222222222222,
              "#7201a8"
             ],
             [
              0.3333333333333333,
              "#9c179e"
             ],
             [
              0.4444444444444444,
              "#bd3786"
             ],
             [
              0.5555555555555556,
              "#d8576b"
             ],
             [
              0.6666666666666666,
              "#ed7953"
             ],
             [
              0.7777777777777778,
              "#fb9f3a"
             ],
             [
              0.8888888888888888,
              "#fdca26"
             ],
             [
              1,
              "#f0f921"
             ]
            ],
            "type": "heatmapgl"
           }
          ],
          "histogram": [
           {
            "marker": {
             "pattern": {
              "fillmode": "overlay",
              "size": 10,
              "solidity": 0.2
             }
            },
            "type": "histogram"
           }
          ],
          "histogram2d": [
           {
            "colorbar": {
             "outlinewidth": 0,
             "ticks": ""
            },
            "colorscale": [
             [
              0,
              "#0d0887"
             ],
             [
              0.1111111111111111,
              "#46039f"
             ],
             [
              0.2222222222222222,
              "#7201a8"
             ],
             [
              0.3333333333333333,
              "#9c179e"
             ],
             [
              0.4444444444444444,
              "#bd3786"
             ],
             [
              0.5555555555555556,
              "#d8576b"
             ],
             [
              0.6666666666666666,
              "#ed7953"
             ],
             [
              0.7777777777777778,
              "#fb9f3a"
             ],
             [
              0.8888888888888888,
              "#fdca26"
             ],
             [
              1,
              "#f0f921"
             ]
            ],
            "type": "histogram2d"
           }
          ],
          "histogram2dcontour": [
           {
            "colorbar": {
             "outlinewidth": 0,
             "ticks": ""
            },
            "colorscale": [
             [
              0,
              "#0d0887"
             ],
             [
              0.1111111111111111,
              "#46039f"
             ],
             [
              0.2222222222222222,
              "#7201a8"
             ],
             [
              0.3333333333333333,
              "#9c179e"
             ],
             [
              0.4444444444444444,
              "#bd3786"
             ],
             [
              0.5555555555555556,
              "#d8576b"
             ],
             [
              0.6666666666666666,
              "#ed7953"
             ],
             [
              0.7777777777777778,
              "#fb9f3a"
             ],
             [
              0.8888888888888888,
              "#fdca26"
             ],
             [
              1,
              "#f0f921"
             ]
            ],
            "type": "histogram2dcontour"
           }
          ],
          "mesh3d": [
           {
            "colorbar": {
             "outlinewidth": 0,
             "ticks": ""
            },
            "type": "mesh3d"
           }
          ],
          "parcoords": [
           {
            "line": {
             "colorbar": {
              "outlinewidth": 0,
              "ticks": ""
             }
            },
            "type": "parcoords"
           }
          ],
          "pie": [
           {
            "automargin": true,
            "type": "pie"
           }
          ],
          "scatter": [
           {
            "fillpattern": {
             "fillmode": "overlay",
             "size": 10,
             "solidity": 0.2
            },
            "type": "scatter"
           }
          ],
          "scatter3d": [
           {
            "line": {
             "colorbar": {
              "outlinewidth": 0,
              "ticks": ""
             }
            },
            "marker": {
             "colorbar": {
              "outlinewidth": 0,
              "ticks": ""
             }
            },
            "type": "scatter3d"
           }
          ],
          "scattercarpet": [
           {
            "marker": {
             "colorbar": {
              "outlinewidth": 0,
              "ticks": ""
             }
            },
            "type": "scattercarpet"
           }
          ],
          "scattergeo": [
           {
            "marker": {
             "colorbar": {
              "outlinewidth": 0,
              "ticks": ""
             }
            },
            "type": "scattergeo"
           }
          ],
          "scattergl": [
           {
            "marker": {
             "colorbar": {
              "outlinewidth": 0,
              "ticks": ""
             }
            },
            "type": "scattergl"
           }
          ],
          "scattermapbox": [
           {
            "marker": {
             "colorbar": {
              "outlinewidth": 0,
              "ticks": ""
             }
            },
            "type": "scattermapbox"
           }
          ],
          "scatterpolar": [
           {
            "marker": {
             "colorbar": {
              "outlinewidth": 0,
              "ticks": ""
             }
            },
            "type": "scatterpolar"
           }
          ],
          "scatterpolargl": [
           {
            "marker": {
             "colorbar": {
              "outlinewidth": 0,
              "ticks": ""
             }
            },
            "type": "scatterpolargl"
           }
          ],
          "scatterternary": [
           {
            "marker": {
             "colorbar": {
              "outlinewidth": 0,
              "ticks": ""
             }
            },
            "type": "scatterternary"
           }
          ],
          "surface": [
           {
            "colorbar": {
             "outlinewidth": 0,
             "ticks": ""
            },
            "colorscale": [
             [
              0,
              "#0d0887"
             ],
             [
              0.1111111111111111,
              "#46039f"
             ],
             [
              0.2222222222222222,
              "#7201a8"
             ],
             [
              0.3333333333333333,
              "#9c179e"
             ],
             [
              0.4444444444444444,
              "#bd3786"
             ],
             [
              0.5555555555555556,
              "#d8576b"
             ],
             [
              0.6666666666666666,
              "#ed7953"
             ],
             [
              0.7777777777777778,
              "#fb9f3a"
             ],
             [
              0.8888888888888888,
              "#fdca26"
             ],
             [
              1,
              "#f0f921"
             ]
            ],
            "type": "surface"
           }
          ],
          "table": [
           {
            "cells": {
             "fill": {
              "color": "#EBF0F8"
             },
             "line": {
              "color": "white"
             }
            },
            "header": {
             "fill": {
              "color": "#C8D4E3"
             },
             "line": {
              "color": "white"
             }
            },
            "type": "table"
           }
          ]
         },
         "layout": {
          "annotationdefaults": {
           "arrowcolor": "#2a3f5f",
           "arrowhead": 0,
           "arrowwidth": 1
          },
          "autotypenumbers": "strict",
          "coloraxis": {
           "colorbar": {
            "outlinewidth": 0,
            "ticks": ""
           }
          },
          "colorscale": {
           "diverging": [
            [
             0,
             "#8e0152"
            ],
            [
             0.1,
             "#c51b7d"
            ],
            [
             0.2,
             "#de77ae"
            ],
            [
             0.3,
             "#f1b6da"
            ],
            [
             0.4,
             "#fde0ef"
            ],
            [
             0.5,
             "#f7f7f7"
            ],
            [
             0.6,
             "#e6f5d0"
            ],
            [
             0.7,
             "#b8e186"
            ],
            [
             0.8,
             "#7fbc41"
            ],
            [
             0.9,
             "#4d9221"
            ],
            [
             1,
             "#276419"
            ]
           ],
           "sequential": [
            [
             0,
             "#0d0887"
            ],
            [
             0.1111111111111111,
             "#46039f"
            ],
            [
             0.2222222222222222,
             "#7201a8"
            ],
            [
             0.3333333333333333,
             "#9c179e"
            ],
            [
             0.4444444444444444,
             "#bd3786"
            ],
            [
             0.5555555555555556,
             "#d8576b"
            ],
            [
             0.6666666666666666,
             "#ed7953"
            ],
            [
             0.7777777777777778,
             "#fb9f3a"
            ],
            [
             0.8888888888888888,
             "#fdca26"
            ],
            [
             1,
             "#f0f921"
            ]
           ],
           "sequentialminus": [
            [
             0,
             "#0d0887"
            ],
            [
             0.1111111111111111,
             "#46039f"
            ],
            [
             0.2222222222222222,
             "#7201a8"
            ],
            [
             0.3333333333333333,
             "#9c179e"
            ],
            [
             0.4444444444444444,
             "#bd3786"
            ],
            [
             0.5555555555555556,
             "#d8576b"
            ],
            [
             0.6666666666666666,
             "#ed7953"
            ],
            [
             0.7777777777777778,
             "#fb9f3a"
            ],
            [
             0.8888888888888888,
             "#fdca26"
            ],
            [
             1,
             "#f0f921"
            ]
           ]
          },
          "colorway": [
           "#636efa",
           "#EF553B",
           "#00cc96",
           "#ab63fa",
           "#FFA15A",
           "#19d3f3",
           "#FF6692",
           "#B6E880",
           "#FF97FF",
           "#FECB52"
          ],
          "font": {
           "color": "#2a3f5f"
          },
          "geo": {
           "bgcolor": "white",
           "lakecolor": "white",
           "landcolor": "#E5ECF6",
           "showlakes": true,
           "showland": true,
           "subunitcolor": "white"
          },
          "hoverlabel": {
           "align": "left"
          },
          "hovermode": "closest",
          "mapbox": {
           "style": "light"
          },
          "paper_bgcolor": "white",
          "plot_bgcolor": "#E5ECF6",
          "polar": {
           "angularaxis": {
            "gridcolor": "white",
            "linecolor": "white",
            "ticks": ""
           },
           "bgcolor": "#E5ECF6",
           "radialaxis": {
            "gridcolor": "white",
            "linecolor": "white",
            "ticks": ""
           }
          },
          "scene": {
           "xaxis": {
            "backgroundcolor": "#E5ECF6",
            "gridcolor": "white",
            "gridwidth": 2,
            "linecolor": "white",
            "showbackground": true,
            "ticks": "",
            "zerolinecolor": "white"
           },
           "yaxis": {
            "backgroundcolor": "#E5ECF6",
            "gridcolor": "white",
            "gridwidth": 2,
            "linecolor": "white",
            "showbackground": true,
            "ticks": "",
            "zerolinecolor": "white"
           },
           "zaxis": {
            "backgroundcolor": "#E5ECF6",
            "gridcolor": "white",
            "gridwidth": 2,
            "linecolor": "white",
            "showbackground": true,
            "ticks": "",
            "zerolinecolor": "white"
           }
          },
          "shapedefaults": {
           "line": {
            "color": "#2a3f5f"
           }
          },
          "ternary": {
           "aaxis": {
            "gridcolor": "white",
            "linecolor": "white",
            "ticks": ""
           },
           "baxis": {
            "gridcolor": "white",
            "linecolor": "white",
            "ticks": ""
           },
           "bgcolor": "#E5ECF6",
           "caxis": {
            "gridcolor": "white",
            "linecolor": "white",
            "ticks": ""
           }
          },
          "title": {
           "x": 0.05
          },
          "xaxis": {
           "automargin": true,
           "gridcolor": "white",
           "linecolor": "white",
           "ticks": "",
           "title": {
            "standoff": 15
           },
           "zerolinecolor": "white",
           "zerolinewidth": 2
          },
          "yaxis": {
           "automargin": true,
           "gridcolor": "white",
           "linecolor": "white",
           "ticks": "",
           "title": {
            "standoff": 15
           },
           "zerolinecolor": "white",
           "zerolinewidth": 2
          }
         }
        },
        "title": {
         "text": "100 Most common categories of Customer ID"
        },
        "xaxis": {
         "anchor": "y",
         "domain": [
          0,
          1
         ],
         "title": {
          "text": "x"
         }
        },
        "yaxis": {
         "anchor": "x",
         "domain": [
          0,
          1
         ],
         "title": {
          "text": "y"
         }
        }
       }
      },
      "text/html": [
       "<div>                            <div id=\"d0aaca74-b2dd-4839-a022-a75d3bc35bbc\" class=\"plotly-graph-div\" style=\"height:525px; width:100%;\"></div>            <script type=\"text/javascript\">                require([\"plotly\"], function(Plotly) {                    window.PLOTLYENV=window.PLOTLYENV || {};                                    if (document.getElementById(\"d0aaca74-b2dd-4839-a022-a75d3bc35bbc\")) {                    Plotly.newPlot(                        \"d0aaca74-b2dd-4839-a022-a75d3bc35bbc\",                        [{\"alignmentgroup\":\"True\",\"hovertemplate\":\"x=%{x}<br>y=%{y}<extra></extra>\",\"legendgroup\":\"\",\"marker\":{\"color\":\"#636efa\",\"pattern\":{\"shape\":\"\"}},\"name\":\"\",\"offsetgroup\":\"\",\"orientation\":\"v\",\"showlegend\":false,\"textposition\":\"auto\",\"x\":[\"14911.0\",\"17841.0\",\"14606.0\",\"14156.0\",\"12748.0\",\"17850.0\",\"16549.0\",\"15311.0\",\"14527.0\",\"14646.0\",\"16782.0\",\"13089.0\",\"15005.0\",\"17377.0\",\"13081.0\",\"15039.0\",\"13564.0\",\"14298.0\",\"15768.0\",\"14680.0\",\"17448.0\",\"17920.0\",\"17589.0\",\"17511.0\",\"13694.0\",\"13093.0\",\"15998.0\",\"12921.0\",\"15719.0\",\"12681.0\",\"14505.0\",\"13174.0\",\"17085.0\",\"15555.0\",\"14667.0\",\"14081.0\",\"12471.0\",\"17243.0\",\"16779.0\",\"16984.0\",\"13137.0\",\"17068.0\",\"13230.0\",\"16713.0\",\"17231.0\",\"16161.0\",\"13069.0\",\"13001.0\",\"14415.0\",\"17865.0\",\"14159.0\",\"17238.0\",\"15808.0\",\"15547.0\",\"12472.0\",\"14044.0\",\"16327.0\",\"18102.0\",\"12835.0\",\"14030.0\",\"13050.0\",\"14085.0\",\"15898.0\",\"17338.0\",\"15581.0\",\"15867.0\",\"13097.0\",\"14049.0\",\"13451.0\",\"16938.0\",\"15358.0\",\"15061.0\",\"16710.0\",\"13206.0\",\"15571.0\",\"16550.0\",\"17757.0\",\"14040.0\",\"16409.0\",\"13869.0\",\"17611.0\",\"14031.0\",\"16746.0\",\"17965.0\",\"16072.0\",\"18069.0\",\"12867.0\",\"17799.0\",\"16686.0\",\"14535.0\",\"15856.0\",\"17576.0\",\"12682.0\",\"17364.0\",\"17346.0\",\"12949.0\",\"13319.0\",\"13148.0\",\"18041.0\",\"15615.0\"],\"xaxis\":\"x\",\"y\":[5710,5114,3927,2710,2665,2515,2274,2226,1826,1805,1703,1581,1388,1377,1369,1302,1233,1228,1213,1138,1133,1110,1100,1058,973,941,937,871,856,848,823,818,816,807,799,795,767,748,745,742,737,730,728,720,706,700,693,689,689,673,673,665,664,658,658,643,635,635,630,627,625,618,616,611,610,605,605,602,600,595,591,588,585,584,578,578,573,567,559,553,551,547,545,535,533,528,525,523,521,519,519,518,517,511,509,506,498,494,489,485],\"yaxis\":\"y\",\"type\":\"bar\"}],                        {\"template\":{\"data\":{\"histogram2dcontour\":[{\"type\":\"histogram2dcontour\",\"colorbar\":{\"outlinewidth\":0,\"ticks\":\"\"},\"colorscale\":[[0.0,\"#0d0887\"],[0.1111111111111111,\"#46039f\"],[0.2222222222222222,\"#7201a8\"],[0.3333333333333333,\"#9c179e\"],[0.4444444444444444,\"#bd3786\"],[0.5555555555555556,\"#d8576b\"],[0.6666666666666666,\"#ed7953\"],[0.7777777777777778,\"#fb9f3a\"],[0.8888888888888888,\"#fdca26\"],[1.0,\"#f0f921\"]]}],\"choropleth\":[{\"type\":\"choropleth\",\"colorbar\":{\"outlinewidth\":0,\"ticks\":\"\"}}],\"histogram2d\":[{\"type\":\"histogram2d\",\"colorbar\":{\"outlinewidth\":0,\"ticks\":\"\"},\"colorscale\":[[0.0,\"#0d0887\"],[0.1111111111111111,\"#46039f\"],[0.2222222222222222,\"#7201a8\"],[0.3333333333333333,\"#9c179e\"],[0.4444444444444444,\"#bd3786\"],[0.5555555555555556,\"#d8576b\"],[0.6666666666666666,\"#ed7953\"],[0.7777777777777778,\"#fb9f3a\"],[0.8888888888888888,\"#fdca26\"],[1.0,\"#f0f921\"]]}],\"heatmap\":[{\"type\":\"heatmap\",\"colorbar\":{\"outlinewidth\":0,\"ticks\":\"\"},\"colorscale\":[[0.0,\"#0d0887\"],[0.1111111111111111,\"#46039f\"],[0.2222222222222222,\"#7201a8\"],[0.3333333333333333,\"#9c179e\"],[0.4444444444444444,\"#bd3786\"],[0.5555555555555556,\"#d8576b\"],[0.6666666666666666,\"#ed7953\"],[0.7777777777777778,\"#fb9f3a\"],[0.8888888888888888,\"#fdca26\"],[1.0,\"#f0f921\"]]}],\"heatmapgl\":[{\"type\":\"heatmapgl\",\"colorbar\":{\"outlinewidth\":0,\"ticks\":\"\"},\"colorscale\":[[0.0,\"#0d0887\"],[0.1111111111111111,\"#46039f\"],[0.2222222222222222,\"#7201a8\"],[0.3333333333333333,\"#9c179e\"],[0.4444444444444444,\"#bd3786\"],[0.5555555555555556,\"#d8576b\"],[0.6666666666666666,\"#ed7953\"],[0.7777777777777778,\"#fb9f3a\"],[0.8888888888888888,\"#fdca26\"],[1.0,\"#f0f921\"]]}],\"contourcarpet\":[{\"type\":\"contourcarpet\",\"colorbar\":{\"outlinewidth\":0,\"ticks\":\"\"}}],\"contour\":[{\"type\":\"contour\",\"colorbar\":{\"outlinewidth\":0,\"ticks\":\"\"},\"colorscale\":[[0.0,\"#0d0887\"],[0.1111111111111111,\"#46039f\"],[0.2222222222222222,\"#7201a8\"],[0.3333333333333333,\"#9c179e\"],[0.4444444444444444,\"#bd3786\"],[0.5555555555555556,\"#d8576b\"],[0.6666666666666666,\"#ed7953\"],[0.7777777777777778,\"#fb9f3a\"],[0.8888888888888888,\"#fdca26\"],[1.0,\"#f0f921\"]]}],\"surface\":[{\"type\":\"surface\",\"colorbar\":{\"outlinewidth\":0,\"ticks\":\"\"},\"colorscale\":[[0.0,\"#0d0887\"],[0.1111111111111111,\"#46039f\"],[0.2222222222222222,\"#7201a8\"],[0.3333333333333333,\"#9c179e\"],[0.4444444444444444,\"#bd3786\"],[0.5555555555555556,\"#d8576b\"],[0.6666666666666666,\"#ed7953\"],[0.7777777777777778,\"#fb9f3a\"],[0.8888888888888888,\"#fdca26\"],[1.0,\"#f0f921\"]]}],\"mesh3d\":[{\"type\":\"mesh3d\",\"colorbar\":{\"outlinewidth\":0,\"ticks\":\"\"}}],\"scatter\":[{\"fillpattern\":{\"fillmode\":\"overlay\",\"size\":10,\"solidity\":0.2},\"type\":\"scatter\"}],\"parcoords\":[{\"type\":\"parcoords\",\"line\":{\"colorbar\":{\"outlinewidth\":0,\"ticks\":\"\"}}}],\"scatterpolargl\":[{\"type\":\"scatterpolargl\",\"marker\":{\"colorbar\":{\"outlinewidth\":0,\"ticks\":\"\"}}}],\"bar\":[{\"error_x\":{\"color\":\"#2a3f5f\"},\"error_y\":{\"color\":\"#2a3f5f\"},\"marker\":{\"line\":{\"color\":\"#E5ECF6\",\"width\":0.5},\"pattern\":{\"fillmode\":\"overlay\",\"size\":10,\"solidity\":0.2}},\"type\":\"bar\"}],\"scattergeo\":[{\"type\":\"scattergeo\",\"marker\":{\"colorbar\":{\"outlinewidth\":0,\"ticks\":\"\"}}}],\"scatterpolar\":[{\"type\":\"scatterpolar\",\"marker\":{\"colorbar\":{\"outlinewidth\":0,\"ticks\":\"\"}}}],\"histogram\":[{\"marker\":{\"pattern\":{\"fillmode\":\"overlay\",\"size\":10,\"solidity\":0.2}},\"type\":\"histogram\"}],\"scattergl\":[{\"type\":\"scattergl\",\"marker\":{\"colorbar\":{\"outlinewidth\":0,\"ticks\":\"\"}}}],\"scatter3d\":[{\"type\":\"scatter3d\",\"line\":{\"colorbar\":{\"outlinewidth\":0,\"ticks\":\"\"}},\"marker\":{\"colorbar\":{\"outlinewidth\":0,\"ticks\":\"\"}}}],\"scattermapbox\":[{\"type\":\"scattermapbox\",\"marker\":{\"colorbar\":{\"outlinewidth\":0,\"ticks\":\"\"}}}],\"scatterternary\":[{\"type\":\"scatterternary\",\"marker\":{\"colorbar\":{\"outlinewidth\":0,\"ticks\":\"\"}}}],\"scattercarpet\":[{\"type\":\"scattercarpet\",\"marker\":{\"colorbar\":{\"outlinewidth\":0,\"ticks\":\"\"}}}],\"carpet\":[{\"aaxis\":{\"endlinecolor\":\"#2a3f5f\",\"gridcolor\":\"white\",\"linecolor\":\"white\",\"minorgridcolor\":\"white\",\"startlinecolor\":\"#2a3f5f\"},\"baxis\":{\"endlinecolor\":\"#2a3f5f\",\"gridcolor\":\"white\",\"linecolor\":\"white\",\"minorgridcolor\":\"white\",\"startlinecolor\":\"#2a3f5f\"},\"type\":\"carpet\"}],\"table\":[{\"cells\":{\"fill\":{\"color\":\"#EBF0F8\"},\"line\":{\"color\":\"white\"}},\"header\":{\"fill\":{\"color\":\"#C8D4E3\"},\"line\":{\"color\":\"white\"}},\"type\":\"table\"}],\"barpolar\":[{\"marker\":{\"line\":{\"color\":\"#E5ECF6\",\"width\":0.5},\"pattern\":{\"fillmode\":\"overlay\",\"size\":10,\"solidity\":0.2}},\"type\":\"barpolar\"}],\"pie\":[{\"automargin\":true,\"type\":\"pie\"}]},\"layout\":{\"autotypenumbers\":\"strict\",\"colorway\":[\"#636efa\",\"#EF553B\",\"#00cc96\",\"#ab63fa\",\"#FFA15A\",\"#19d3f3\",\"#FF6692\",\"#B6E880\",\"#FF97FF\",\"#FECB52\"],\"font\":{\"color\":\"#2a3f5f\"},\"hovermode\":\"closest\",\"hoverlabel\":{\"align\":\"left\"},\"paper_bgcolor\":\"white\",\"plot_bgcolor\":\"#E5ECF6\",\"polar\":{\"bgcolor\":\"#E5ECF6\",\"angularaxis\":{\"gridcolor\":\"white\",\"linecolor\":\"white\",\"ticks\":\"\"},\"radialaxis\":{\"gridcolor\":\"white\",\"linecolor\":\"white\",\"ticks\":\"\"}},\"ternary\":{\"bgcolor\":\"#E5ECF6\",\"aaxis\":{\"gridcolor\":\"white\",\"linecolor\":\"white\",\"ticks\":\"\"},\"baxis\":{\"gridcolor\":\"white\",\"linecolor\":\"white\",\"ticks\":\"\"},\"caxis\":{\"gridcolor\":\"white\",\"linecolor\":\"white\",\"ticks\":\"\"}},\"coloraxis\":{\"colorbar\":{\"outlinewidth\":0,\"ticks\":\"\"}},\"colorscale\":{\"sequential\":[[0.0,\"#0d0887\"],[0.1111111111111111,\"#46039f\"],[0.2222222222222222,\"#7201a8\"],[0.3333333333333333,\"#9c179e\"],[0.4444444444444444,\"#bd3786\"],[0.5555555555555556,\"#d8576b\"],[0.6666666666666666,\"#ed7953\"],[0.7777777777777778,\"#fb9f3a\"],[0.8888888888888888,\"#fdca26\"],[1.0,\"#f0f921\"]],\"sequentialminus\":[[0.0,\"#0d0887\"],[0.1111111111111111,\"#46039f\"],[0.2222222222222222,\"#7201a8\"],[0.3333333333333333,\"#9c179e\"],[0.4444444444444444,\"#bd3786\"],[0.5555555555555556,\"#d8576b\"],[0.6666666666666666,\"#ed7953\"],[0.7777777777777778,\"#fb9f3a\"],[0.8888888888888888,\"#fdca26\"],[1.0,\"#f0f921\"]],\"diverging\":[[0,\"#8e0152\"],[0.1,\"#c51b7d\"],[0.2,\"#de77ae\"],[0.3,\"#f1b6da\"],[0.4,\"#fde0ef\"],[0.5,\"#f7f7f7\"],[0.6,\"#e6f5d0\"],[0.7,\"#b8e186\"],[0.8,\"#7fbc41\"],[0.9,\"#4d9221\"],[1,\"#276419\"]]},\"xaxis\":{\"gridcolor\":\"white\",\"linecolor\":\"white\",\"ticks\":\"\",\"title\":{\"standoff\":15},\"zerolinecolor\":\"white\",\"automargin\":true,\"zerolinewidth\":2},\"yaxis\":{\"gridcolor\":\"white\",\"linecolor\":\"white\",\"ticks\":\"\",\"title\":{\"standoff\":15},\"zerolinecolor\":\"white\",\"automargin\":true,\"zerolinewidth\":2},\"scene\":{\"xaxis\":{\"backgroundcolor\":\"#E5ECF6\",\"gridcolor\":\"white\",\"linecolor\":\"white\",\"showbackground\":true,\"ticks\":\"\",\"zerolinecolor\":\"white\",\"gridwidth\":2},\"yaxis\":{\"backgroundcolor\":\"#E5ECF6\",\"gridcolor\":\"white\",\"linecolor\":\"white\",\"showbackground\":true,\"ticks\":\"\",\"zerolinecolor\":\"white\",\"gridwidth\":2},\"zaxis\":{\"backgroundcolor\":\"#E5ECF6\",\"gridcolor\":\"white\",\"linecolor\":\"white\",\"showbackground\":true,\"ticks\":\"\",\"zerolinecolor\":\"white\",\"gridwidth\":2}},\"shapedefaults\":{\"line\":{\"color\":\"#2a3f5f\"}},\"annotationdefaults\":{\"arrowcolor\":\"#2a3f5f\",\"arrowhead\":0,\"arrowwidth\":1},\"geo\":{\"bgcolor\":\"white\",\"landcolor\":\"#E5ECF6\",\"subunitcolor\":\"white\",\"showland\":true,\"showlakes\":true,\"lakecolor\":\"white\"},\"title\":{\"x\":0.05},\"mapbox\":{\"style\":\"light\"}}},\"xaxis\":{\"anchor\":\"y\",\"domain\":[0.0,1.0],\"title\":{\"text\":\"x\"}},\"yaxis\":{\"anchor\":\"x\",\"domain\":[0.0,1.0],\"title\":{\"text\":\"y\"}},\"legend\":{\"tracegroupgap\":0},\"title\":{\"text\":\"100 Most common categories of Customer ID\"},\"barmode\":\"relative\"},                        {\"responsive\": true}                    ).then(function(){\n",
       "                            \n",
       "var gd = document.getElementById('d0aaca74-b2dd-4839-a022-a75d3bc35bbc');\n",
       "var x = new MutationObserver(function (mutations, observer) {{\n",
       "        var display = window.getComputedStyle(gd).display;\n",
       "        if (!display || display === 'none') {{\n",
       "            console.log([gd, 'removed!']);\n",
       "            Plotly.purge(gd);\n",
       "            observer.disconnect();\n",
       "        }}\n",
       "}});\n",
       "\n",
       "// Listen for the removal of the full notebook cells\n",
       "var notebookContainer = gd.closest('#notebook-container');\n",
       "if (notebookContainer) {{\n",
       "    x.observe(notebookContainer, {childList: true});\n",
       "}}\n",
       "\n",
       "// Listen for the clearing of the current output cell\n",
       "var outputEl = gd.closest('.output');\n",
       "if (outputEl) {{\n",
       "    x.observe(outputEl, {childList: true});\n",
       "}}\n",
       "\n",
       "                        })                };                });            </script>        </div>"
      ]
     },
     "metadata": {},
     "output_type": "display_data"
    }
   ],
   "source": [
    "profile_serie(df_retail['Customer ID'])"
   ]
  },
  {
   "cell_type": "markdown",
   "metadata": {},
   "source": [
    "#### Customer ID: \n",
    "\n",
    "Hay 417534 observaciones, de los cuales se reporta un 20.54% de valores faltantes. Existen 4383 valores unicos. El que mas se repite tiene identificador \"14911\" con una frecuencia de 5710. Se podria decir que este es un cliente frecuente. Se observar un 99.9\\% de datos duplicados. Del histograma se observa que el segundo cliente mas frecuente posee una frecuencia similar que el mas frecuente. Luego, de unos 10 valores unicos, la frecuencia decrece lentamente en comparacion al lado izquierdo del histograma."
   ]
  },
  {
   "cell_type": "code",
   "execution_count": 39,
   "metadata": {
    "scrolled": false
   },
   "outputs": [
    {
     "data": {
      "text/markdown": [
       "## Country Profile"
      ],
      "text/plain": [
       "<IPython.core.display.Markdown object>"
      ]
     },
     "metadata": {},
     "output_type": "display_data"
    },
    {
     "data": {
      "text/plain": [
       "Type                              object\n",
       "Number of observations            525461\n",
       "Unique                                40\n",
       "Top                       United Kingdom\n",
       "Freq                              485852\n",
       "                                        \n",
       "Missing cells                          0\n",
       "Missing cells (%)                  0.0 %\n",
       "Duplicate rows                    525461\n",
       "Duplicate rows (%)               100.0 %\n",
       "Total size in memory       4203816 bytes\n",
       "dtype: object"
      ]
     },
     "metadata": {},
     "output_type": "display_data"
    },
    {
     "data": {
      "application/vnd.plotly.v1+json": {
       "config": {
        "plotlyServerURL": "https://plot.ly"
       },
       "data": [
        {
         "alignmentgroup": "True",
         "hovertemplate": "x=%{x}<br>y=%{y}<extra></extra>",
         "legendgroup": "",
         "marker": {
          "color": "#636efa",
          "pattern": {
           "shape": ""
          }
         },
         "name": "",
         "offsetgroup": "",
         "orientation": "v",
         "showlegend": false,
         "textposition": "auto",
         "type": "bar",
         "x": [
          "United Kingdom",
          "EIRE",
          "Germany",
          "France",
          "Netherlands",
          "Spain",
          "Switzerland",
          "Portugal",
          "Belgium",
          "Channel Islands",
          "Sweden",
          "Italy",
          "Australia",
          "Cyprus",
          "Austria",
          "Greece",
          "United Arab Emirates",
          "Denmark",
          "Norway",
          "Finland",
          "Unspecified",
          "USA",
          "Japan",
          "Poland",
          "Malta",
          "Lithuania",
          "Singapore",
          "RSA",
          "Bahrain",
          "Canada",
          "Hong Kong",
          "Thailand",
          "Israel",
          "Iceland",
          "Korea",
          "Brazil",
          "West Indies",
          "Bermuda",
          "Nigeria",
          "Lebanon"
         ],
         "xaxis": "x",
         "y": [
          485852,
          9670,
          8129,
          5772,
          2769,
          1278,
          1187,
          1101,
          1054,
          906,
          902,
          731,
          654,
          554,
          537,
          517,
          432,
          428,
          369,
          354,
          310,
          244,
          224,
          194,
          172,
          154,
          117,
          111,
          107,
          77,
          76,
          76,
          74,
          71,
          63,
          62,
          54,
          34,
          32,
          13
         ],
         "yaxis": "y"
        }
       ],
       "layout": {
        "barmode": "relative",
        "legend": {
         "tracegroupgap": 0
        },
        "template": {
         "data": {
          "bar": [
           {
            "error_x": {
             "color": "#2a3f5f"
            },
            "error_y": {
             "color": "#2a3f5f"
            },
            "marker": {
             "line": {
              "color": "#E5ECF6",
              "width": 0.5
             },
             "pattern": {
              "fillmode": "overlay",
              "size": 10,
              "solidity": 0.2
             }
            },
            "type": "bar"
           }
          ],
          "barpolar": [
           {
            "marker": {
             "line": {
              "color": "#E5ECF6",
              "width": 0.5
             },
             "pattern": {
              "fillmode": "overlay",
              "size": 10,
              "solidity": 0.2
             }
            },
            "type": "barpolar"
           }
          ],
          "carpet": [
           {
            "aaxis": {
             "endlinecolor": "#2a3f5f",
             "gridcolor": "white",
             "linecolor": "white",
             "minorgridcolor": "white",
             "startlinecolor": "#2a3f5f"
            },
            "baxis": {
             "endlinecolor": "#2a3f5f",
             "gridcolor": "white",
             "linecolor": "white",
             "minorgridcolor": "white",
             "startlinecolor": "#2a3f5f"
            },
            "type": "carpet"
           }
          ],
          "choropleth": [
           {
            "colorbar": {
             "outlinewidth": 0,
             "ticks": ""
            },
            "type": "choropleth"
           }
          ],
          "contour": [
           {
            "colorbar": {
             "outlinewidth": 0,
             "ticks": ""
            },
            "colorscale": [
             [
              0,
              "#0d0887"
             ],
             [
              0.1111111111111111,
              "#46039f"
             ],
             [
              0.2222222222222222,
              "#7201a8"
             ],
             [
              0.3333333333333333,
              "#9c179e"
             ],
             [
              0.4444444444444444,
              "#bd3786"
             ],
             [
              0.5555555555555556,
              "#d8576b"
             ],
             [
              0.6666666666666666,
              "#ed7953"
             ],
             [
              0.7777777777777778,
              "#fb9f3a"
             ],
             [
              0.8888888888888888,
              "#fdca26"
             ],
             [
              1,
              "#f0f921"
             ]
            ],
            "type": "contour"
           }
          ],
          "contourcarpet": [
           {
            "colorbar": {
             "outlinewidth": 0,
             "ticks": ""
            },
            "type": "contourcarpet"
           }
          ],
          "heatmap": [
           {
            "colorbar": {
             "outlinewidth": 0,
             "ticks": ""
            },
            "colorscale": [
             [
              0,
              "#0d0887"
             ],
             [
              0.1111111111111111,
              "#46039f"
             ],
             [
              0.2222222222222222,
              "#7201a8"
             ],
             [
              0.3333333333333333,
              "#9c179e"
             ],
             [
              0.4444444444444444,
              "#bd3786"
             ],
             [
              0.5555555555555556,
              "#d8576b"
             ],
             [
              0.6666666666666666,
              "#ed7953"
             ],
             [
              0.7777777777777778,
              "#fb9f3a"
             ],
             [
              0.8888888888888888,
              "#fdca26"
             ],
             [
              1,
              "#f0f921"
             ]
            ],
            "type": "heatmap"
           }
          ],
          "heatmapgl": [
           {
            "colorbar": {
             "outlinewidth": 0,
             "ticks": ""
            },
            "colorscale": [
             [
              0,
              "#0d0887"
             ],
             [
              0.1111111111111111,
              "#46039f"
             ],
             [
              0.2222222222222222,
              "#7201a8"
             ],
             [
              0.3333333333333333,
              "#9c179e"
             ],
             [
              0.4444444444444444,
              "#bd3786"
             ],
             [
              0.5555555555555556,
              "#d8576b"
             ],
             [
              0.6666666666666666,
              "#ed7953"
             ],
             [
              0.7777777777777778,
              "#fb9f3a"
             ],
             [
              0.8888888888888888,
              "#fdca26"
             ],
             [
              1,
              "#f0f921"
             ]
            ],
            "type": "heatmapgl"
           }
          ],
          "histogram": [
           {
            "marker": {
             "pattern": {
              "fillmode": "overlay",
              "size": 10,
              "solidity": 0.2
             }
            },
            "type": "histogram"
           }
          ],
          "histogram2d": [
           {
            "colorbar": {
             "outlinewidth": 0,
             "ticks": ""
            },
            "colorscale": [
             [
              0,
              "#0d0887"
             ],
             [
              0.1111111111111111,
              "#46039f"
             ],
             [
              0.2222222222222222,
              "#7201a8"
             ],
             [
              0.3333333333333333,
              "#9c179e"
             ],
             [
              0.4444444444444444,
              "#bd3786"
             ],
             [
              0.5555555555555556,
              "#d8576b"
             ],
             [
              0.6666666666666666,
              "#ed7953"
             ],
             [
              0.7777777777777778,
              "#fb9f3a"
             ],
             [
              0.8888888888888888,
              "#fdca26"
             ],
             [
              1,
              "#f0f921"
             ]
            ],
            "type": "histogram2d"
           }
          ],
          "histogram2dcontour": [
           {
            "colorbar": {
             "outlinewidth": 0,
             "ticks": ""
            },
            "colorscale": [
             [
              0,
              "#0d0887"
             ],
             [
              0.1111111111111111,
              "#46039f"
             ],
             [
              0.2222222222222222,
              "#7201a8"
             ],
             [
              0.3333333333333333,
              "#9c179e"
             ],
             [
              0.4444444444444444,
              "#bd3786"
             ],
             [
              0.5555555555555556,
              "#d8576b"
             ],
             [
              0.6666666666666666,
              "#ed7953"
             ],
             [
              0.7777777777777778,
              "#fb9f3a"
             ],
             [
              0.8888888888888888,
              "#fdca26"
             ],
             [
              1,
              "#f0f921"
             ]
            ],
            "type": "histogram2dcontour"
           }
          ],
          "mesh3d": [
           {
            "colorbar": {
             "outlinewidth": 0,
             "ticks": ""
            },
            "type": "mesh3d"
           }
          ],
          "parcoords": [
           {
            "line": {
             "colorbar": {
              "outlinewidth": 0,
              "ticks": ""
             }
            },
            "type": "parcoords"
           }
          ],
          "pie": [
           {
            "automargin": true,
            "type": "pie"
           }
          ],
          "scatter": [
           {
            "fillpattern": {
             "fillmode": "overlay",
             "size": 10,
             "solidity": 0.2
            },
            "type": "scatter"
           }
          ],
          "scatter3d": [
           {
            "line": {
             "colorbar": {
              "outlinewidth": 0,
              "ticks": ""
             }
            },
            "marker": {
             "colorbar": {
              "outlinewidth": 0,
              "ticks": ""
             }
            },
            "type": "scatter3d"
           }
          ],
          "scattercarpet": [
           {
            "marker": {
             "colorbar": {
              "outlinewidth": 0,
              "ticks": ""
             }
            },
            "type": "scattercarpet"
           }
          ],
          "scattergeo": [
           {
            "marker": {
             "colorbar": {
              "outlinewidth": 0,
              "ticks": ""
             }
            },
            "type": "scattergeo"
           }
          ],
          "scattergl": [
           {
            "marker": {
             "colorbar": {
              "outlinewidth": 0,
              "ticks": ""
             }
            },
            "type": "scattergl"
           }
          ],
          "scattermapbox": [
           {
            "marker": {
             "colorbar": {
              "outlinewidth": 0,
              "ticks": ""
             }
            },
            "type": "scattermapbox"
           }
          ],
          "scatterpolar": [
           {
            "marker": {
             "colorbar": {
              "outlinewidth": 0,
              "ticks": ""
             }
            },
            "type": "scatterpolar"
           }
          ],
          "scatterpolargl": [
           {
            "marker": {
             "colorbar": {
              "outlinewidth": 0,
              "ticks": ""
             }
            },
            "type": "scatterpolargl"
           }
          ],
          "scatterternary": [
           {
            "marker": {
             "colorbar": {
              "outlinewidth": 0,
              "ticks": ""
             }
            },
            "type": "scatterternary"
           }
          ],
          "surface": [
           {
            "colorbar": {
             "outlinewidth": 0,
             "ticks": ""
            },
            "colorscale": [
             [
              0,
              "#0d0887"
             ],
             [
              0.1111111111111111,
              "#46039f"
             ],
             [
              0.2222222222222222,
              "#7201a8"
             ],
             [
              0.3333333333333333,
              "#9c179e"
             ],
             [
              0.4444444444444444,
              "#bd3786"
             ],
             [
              0.5555555555555556,
              "#d8576b"
             ],
             [
              0.6666666666666666,
              "#ed7953"
             ],
             [
              0.7777777777777778,
              "#fb9f3a"
             ],
             [
              0.8888888888888888,
              "#fdca26"
             ],
             [
              1,
              "#f0f921"
             ]
            ],
            "type": "surface"
           }
          ],
          "table": [
           {
            "cells": {
             "fill": {
              "color": "#EBF0F8"
             },
             "line": {
              "color": "white"
             }
            },
            "header": {
             "fill": {
              "color": "#C8D4E3"
             },
             "line": {
              "color": "white"
             }
            },
            "type": "table"
           }
          ]
         },
         "layout": {
          "annotationdefaults": {
           "arrowcolor": "#2a3f5f",
           "arrowhead": 0,
           "arrowwidth": 1
          },
          "autotypenumbers": "strict",
          "coloraxis": {
           "colorbar": {
            "outlinewidth": 0,
            "ticks": ""
           }
          },
          "colorscale": {
           "diverging": [
            [
             0,
             "#8e0152"
            ],
            [
             0.1,
             "#c51b7d"
            ],
            [
             0.2,
             "#de77ae"
            ],
            [
             0.3,
             "#f1b6da"
            ],
            [
             0.4,
             "#fde0ef"
            ],
            [
             0.5,
             "#f7f7f7"
            ],
            [
             0.6,
             "#e6f5d0"
            ],
            [
             0.7,
             "#b8e186"
            ],
            [
             0.8,
             "#7fbc41"
            ],
            [
             0.9,
             "#4d9221"
            ],
            [
             1,
             "#276419"
            ]
           ],
           "sequential": [
            [
             0,
             "#0d0887"
            ],
            [
             0.1111111111111111,
             "#46039f"
            ],
            [
             0.2222222222222222,
             "#7201a8"
            ],
            [
             0.3333333333333333,
             "#9c179e"
            ],
            [
             0.4444444444444444,
             "#bd3786"
            ],
            [
             0.5555555555555556,
             "#d8576b"
            ],
            [
             0.6666666666666666,
             "#ed7953"
            ],
            [
             0.7777777777777778,
             "#fb9f3a"
            ],
            [
             0.8888888888888888,
             "#fdca26"
            ],
            [
             1,
             "#f0f921"
            ]
           ],
           "sequentialminus": [
            [
             0,
             "#0d0887"
            ],
            [
             0.1111111111111111,
             "#46039f"
            ],
            [
             0.2222222222222222,
             "#7201a8"
            ],
            [
             0.3333333333333333,
             "#9c179e"
            ],
            [
             0.4444444444444444,
             "#bd3786"
            ],
            [
             0.5555555555555556,
             "#d8576b"
            ],
            [
             0.6666666666666666,
             "#ed7953"
            ],
            [
             0.7777777777777778,
             "#fb9f3a"
            ],
            [
             0.8888888888888888,
             "#fdca26"
            ],
            [
             1,
             "#f0f921"
            ]
           ]
          },
          "colorway": [
           "#636efa",
           "#EF553B",
           "#00cc96",
           "#ab63fa",
           "#FFA15A",
           "#19d3f3",
           "#FF6692",
           "#B6E880",
           "#FF97FF",
           "#FECB52"
          ],
          "font": {
           "color": "#2a3f5f"
          },
          "geo": {
           "bgcolor": "white",
           "lakecolor": "white",
           "landcolor": "#E5ECF6",
           "showlakes": true,
           "showland": true,
           "subunitcolor": "white"
          },
          "hoverlabel": {
           "align": "left"
          },
          "hovermode": "closest",
          "mapbox": {
           "style": "light"
          },
          "paper_bgcolor": "white",
          "plot_bgcolor": "#E5ECF6",
          "polar": {
           "angularaxis": {
            "gridcolor": "white",
            "linecolor": "white",
            "ticks": ""
           },
           "bgcolor": "#E5ECF6",
           "radialaxis": {
            "gridcolor": "white",
            "linecolor": "white",
            "ticks": ""
           }
          },
          "scene": {
           "xaxis": {
            "backgroundcolor": "#E5ECF6",
            "gridcolor": "white",
            "gridwidth": 2,
            "linecolor": "white",
            "showbackground": true,
            "ticks": "",
            "zerolinecolor": "white"
           },
           "yaxis": {
            "backgroundcolor": "#E5ECF6",
            "gridcolor": "white",
            "gridwidth": 2,
            "linecolor": "white",
            "showbackground": true,
            "ticks": "",
            "zerolinecolor": "white"
           },
           "zaxis": {
            "backgroundcolor": "#E5ECF6",
            "gridcolor": "white",
            "gridwidth": 2,
            "linecolor": "white",
            "showbackground": true,
            "ticks": "",
            "zerolinecolor": "white"
           }
          },
          "shapedefaults": {
           "line": {
            "color": "#2a3f5f"
           }
          },
          "ternary": {
           "aaxis": {
            "gridcolor": "white",
            "linecolor": "white",
            "ticks": ""
           },
           "baxis": {
            "gridcolor": "white",
            "linecolor": "white",
            "ticks": ""
           },
           "bgcolor": "#E5ECF6",
           "caxis": {
            "gridcolor": "white",
            "linecolor": "white",
            "ticks": ""
           }
          },
          "title": {
           "x": 0.05
          },
          "xaxis": {
           "automargin": true,
           "gridcolor": "white",
           "linecolor": "white",
           "ticks": "",
           "title": {
            "standoff": 15
           },
           "zerolinecolor": "white",
           "zerolinewidth": 2
          },
          "yaxis": {
           "automargin": true,
           "gridcolor": "white",
           "linecolor": "white",
           "ticks": "",
           "title": {
            "standoff": 15
           },
           "zerolinecolor": "white",
           "zerolinewidth": 2
          }
         }
        },
        "title": {
         "text": "100 Most common categories of Country"
        },
        "xaxis": {
         "anchor": "y",
         "domain": [
          0,
          1
         ],
         "title": {
          "text": "x"
         }
        },
        "yaxis": {
         "anchor": "x",
         "domain": [
          0,
          1
         ],
         "title": {
          "text": "y"
         }
        }
       }
      },
      "text/html": [
       "<div>                            <div id=\"6785aa7a-eb90-494e-8dca-99f3029a15a5\" class=\"plotly-graph-div\" style=\"height:525px; width:100%;\"></div>            <script type=\"text/javascript\">                require([\"plotly\"], function(Plotly) {                    window.PLOTLYENV=window.PLOTLYENV || {};                                    if (document.getElementById(\"6785aa7a-eb90-494e-8dca-99f3029a15a5\")) {                    Plotly.newPlot(                        \"6785aa7a-eb90-494e-8dca-99f3029a15a5\",                        [{\"alignmentgroup\":\"True\",\"hovertemplate\":\"x=%{x}<br>y=%{y}<extra></extra>\",\"legendgroup\":\"\",\"marker\":{\"color\":\"#636efa\",\"pattern\":{\"shape\":\"\"}},\"name\":\"\",\"offsetgroup\":\"\",\"orientation\":\"v\",\"showlegend\":false,\"textposition\":\"auto\",\"x\":[\"United Kingdom\",\"EIRE\",\"Germany\",\"France\",\"Netherlands\",\"Spain\",\"Switzerland\",\"Portugal\",\"Belgium\",\"Channel Islands\",\"Sweden\",\"Italy\",\"Australia\",\"Cyprus\",\"Austria\",\"Greece\",\"United Arab Emirates\",\"Denmark\",\"Norway\",\"Finland\",\"Unspecified\",\"USA\",\"Japan\",\"Poland\",\"Malta\",\"Lithuania\",\"Singapore\",\"RSA\",\"Bahrain\",\"Canada\",\"Hong Kong\",\"Thailand\",\"Israel\",\"Iceland\",\"Korea\",\"Brazil\",\"West Indies\",\"Bermuda\",\"Nigeria\",\"Lebanon\"],\"xaxis\":\"x\",\"y\":[485852,9670,8129,5772,2769,1278,1187,1101,1054,906,902,731,654,554,537,517,432,428,369,354,310,244,224,194,172,154,117,111,107,77,76,76,74,71,63,62,54,34,32,13],\"yaxis\":\"y\",\"type\":\"bar\"}],                        {\"template\":{\"data\":{\"histogram2dcontour\":[{\"type\":\"histogram2dcontour\",\"colorbar\":{\"outlinewidth\":0,\"ticks\":\"\"},\"colorscale\":[[0.0,\"#0d0887\"],[0.1111111111111111,\"#46039f\"],[0.2222222222222222,\"#7201a8\"],[0.3333333333333333,\"#9c179e\"],[0.4444444444444444,\"#bd3786\"],[0.5555555555555556,\"#d8576b\"],[0.6666666666666666,\"#ed7953\"],[0.7777777777777778,\"#fb9f3a\"],[0.8888888888888888,\"#fdca26\"],[1.0,\"#f0f921\"]]}],\"choropleth\":[{\"type\":\"choropleth\",\"colorbar\":{\"outlinewidth\":0,\"ticks\":\"\"}}],\"histogram2d\":[{\"type\":\"histogram2d\",\"colorbar\":{\"outlinewidth\":0,\"ticks\":\"\"},\"colorscale\":[[0.0,\"#0d0887\"],[0.1111111111111111,\"#46039f\"],[0.2222222222222222,\"#7201a8\"],[0.3333333333333333,\"#9c179e\"],[0.4444444444444444,\"#bd3786\"],[0.5555555555555556,\"#d8576b\"],[0.6666666666666666,\"#ed7953\"],[0.7777777777777778,\"#fb9f3a\"],[0.8888888888888888,\"#fdca26\"],[1.0,\"#f0f921\"]]}],\"heatmap\":[{\"type\":\"heatmap\",\"colorbar\":{\"outlinewidth\":0,\"ticks\":\"\"},\"colorscale\":[[0.0,\"#0d0887\"],[0.1111111111111111,\"#46039f\"],[0.2222222222222222,\"#7201a8\"],[0.3333333333333333,\"#9c179e\"],[0.4444444444444444,\"#bd3786\"],[0.5555555555555556,\"#d8576b\"],[0.6666666666666666,\"#ed7953\"],[0.7777777777777778,\"#fb9f3a\"],[0.8888888888888888,\"#fdca26\"],[1.0,\"#f0f921\"]]}],\"heatmapgl\":[{\"type\":\"heatmapgl\",\"colorbar\":{\"outlinewidth\":0,\"ticks\":\"\"},\"colorscale\":[[0.0,\"#0d0887\"],[0.1111111111111111,\"#46039f\"],[0.2222222222222222,\"#7201a8\"],[0.3333333333333333,\"#9c179e\"],[0.4444444444444444,\"#bd3786\"],[0.5555555555555556,\"#d8576b\"],[0.6666666666666666,\"#ed7953\"],[0.7777777777777778,\"#fb9f3a\"],[0.8888888888888888,\"#fdca26\"],[1.0,\"#f0f921\"]]}],\"contourcarpet\":[{\"type\":\"contourcarpet\",\"colorbar\":{\"outlinewidth\":0,\"ticks\":\"\"}}],\"contour\":[{\"type\":\"contour\",\"colorbar\":{\"outlinewidth\":0,\"ticks\":\"\"},\"colorscale\":[[0.0,\"#0d0887\"],[0.1111111111111111,\"#46039f\"],[0.2222222222222222,\"#7201a8\"],[0.3333333333333333,\"#9c179e\"],[0.4444444444444444,\"#bd3786\"],[0.5555555555555556,\"#d8576b\"],[0.6666666666666666,\"#ed7953\"],[0.7777777777777778,\"#fb9f3a\"],[0.8888888888888888,\"#fdca26\"],[1.0,\"#f0f921\"]]}],\"surface\":[{\"type\":\"surface\",\"colorbar\":{\"outlinewidth\":0,\"ticks\":\"\"},\"colorscale\":[[0.0,\"#0d0887\"],[0.1111111111111111,\"#46039f\"],[0.2222222222222222,\"#7201a8\"],[0.3333333333333333,\"#9c179e\"],[0.4444444444444444,\"#bd3786\"],[0.5555555555555556,\"#d8576b\"],[0.6666666666666666,\"#ed7953\"],[0.7777777777777778,\"#fb9f3a\"],[0.8888888888888888,\"#fdca26\"],[1.0,\"#f0f921\"]]}],\"mesh3d\":[{\"type\":\"mesh3d\",\"colorbar\":{\"outlinewidth\":0,\"ticks\":\"\"}}],\"scatter\":[{\"fillpattern\":{\"fillmode\":\"overlay\",\"size\":10,\"solidity\":0.2},\"type\":\"scatter\"}],\"parcoords\":[{\"type\":\"parcoords\",\"line\":{\"colorbar\":{\"outlinewidth\":0,\"ticks\":\"\"}}}],\"scatterpolargl\":[{\"type\":\"scatterpolargl\",\"marker\":{\"colorbar\":{\"outlinewidth\":0,\"ticks\":\"\"}}}],\"bar\":[{\"error_x\":{\"color\":\"#2a3f5f\"},\"error_y\":{\"color\":\"#2a3f5f\"},\"marker\":{\"line\":{\"color\":\"#E5ECF6\",\"width\":0.5},\"pattern\":{\"fillmode\":\"overlay\",\"size\":10,\"solidity\":0.2}},\"type\":\"bar\"}],\"scattergeo\":[{\"type\":\"scattergeo\",\"marker\":{\"colorbar\":{\"outlinewidth\":0,\"ticks\":\"\"}}}],\"scatterpolar\":[{\"type\":\"scatterpolar\",\"marker\":{\"colorbar\":{\"outlinewidth\":0,\"ticks\":\"\"}}}],\"histogram\":[{\"marker\":{\"pattern\":{\"fillmode\":\"overlay\",\"size\":10,\"solidity\":0.2}},\"type\":\"histogram\"}],\"scattergl\":[{\"type\":\"scattergl\",\"marker\":{\"colorbar\":{\"outlinewidth\":0,\"ticks\":\"\"}}}],\"scatter3d\":[{\"type\":\"scatter3d\",\"line\":{\"colorbar\":{\"outlinewidth\":0,\"ticks\":\"\"}},\"marker\":{\"colorbar\":{\"outlinewidth\":0,\"ticks\":\"\"}}}],\"scattermapbox\":[{\"type\":\"scattermapbox\",\"marker\":{\"colorbar\":{\"outlinewidth\":0,\"ticks\":\"\"}}}],\"scatterternary\":[{\"type\":\"scatterternary\",\"marker\":{\"colorbar\":{\"outlinewidth\":0,\"ticks\":\"\"}}}],\"scattercarpet\":[{\"type\":\"scattercarpet\",\"marker\":{\"colorbar\":{\"outlinewidth\":0,\"ticks\":\"\"}}}],\"carpet\":[{\"aaxis\":{\"endlinecolor\":\"#2a3f5f\",\"gridcolor\":\"white\",\"linecolor\":\"white\",\"minorgridcolor\":\"white\",\"startlinecolor\":\"#2a3f5f\"},\"baxis\":{\"endlinecolor\":\"#2a3f5f\",\"gridcolor\":\"white\",\"linecolor\":\"white\",\"minorgridcolor\":\"white\",\"startlinecolor\":\"#2a3f5f\"},\"type\":\"carpet\"}],\"table\":[{\"cells\":{\"fill\":{\"color\":\"#EBF0F8\"},\"line\":{\"color\":\"white\"}},\"header\":{\"fill\":{\"color\":\"#C8D4E3\"},\"line\":{\"color\":\"white\"}},\"type\":\"table\"}],\"barpolar\":[{\"marker\":{\"line\":{\"color\":\"#E5ECF6\",\"width\":0.5},\"pattern\":{\"fillmode\":\"overlay\",\"size\":10,\"solidity\":0.2}},\"type\":\"barpolar\"}],\"pie\":[{\"automargin\":true,\"type\":\"pie\"}]},\"layout\":{\"autotypenumbers\":\"strict\",\"colorway\":[\"#636efa\",\"#EF553B\",\"#00cc96\",\"#ab63fa\",\"#FFA15A\",\"#19d3f3\",\"#FF6692\",\"#B6E880\",\"#FF97FF\",\"#FECB52\"],\"font\":{\"color\":\"#2a3f5f\"},\"hovermode\":\"closest\",\"hoverlabel\":{\"align\":\"left\"},\"paper_bgcolor\":\"white\",\"plot_bgcolor\":\"#E5ECF6\",\"polar\":{\"bgcolor\":\"#E5ECF6\",\"angularaxis\":{\"gridcolor\":\"white\",\"linecolor\":\"white\",\"ticks\":\"\"},\"radialaxis\":{\"gridcolor\":\"white\",\"linecolor\":\"white\",\"ticks\":\"\"}},\"ternary\":{\"bgcolor\":\"#E5ECF6\",\"aaxis\":{\"gridcolor\":\"white\",\"linecolor\":\"white\",\"ticks\":\"\"},\"baxis\":{\"gridcolor\":\"white\",\"linecolor\":\"white\",\"ticks\":\"\"},\"caxis\":{\"gridcolor\":\"white\",\"linecolor\":\"white\",\"ticks\":\"\"}},\"coloraxis\":{\"colorbar\":{\"outlinewidth\":0,\"ticks\":\"\"}},\"colorscale\":{\"sequential\":[[0.0,\"#0d0887\"],[0.1111111111111111,\"#46039f\"],[0.2222222222222222,\"#7201a8\"],[0.3333333333333333,\"#9c179e\"],[0.4444444444444444,\"#bd3786\"],[0.5555555555555556,\"#d8576b\"],[0.6666666666666666,\"#ed7953\"],[0.7777777777777778,\"#fb9f3a\"],[0.8888888888888888,\"#fdca26\"],[1.0,\"#f0f921\"]],\"sequentialminus\":[[0.0,\"#0d0887\"],[0.1111111111111111,\"#46039f\"],[0.2222222222222222,\"#7201a8\"],[0.3333333333333333,\"#9c179e\"],[0.4444444444444444,\"#bd3786\"],[0.5555555555555556,\"#d8576b\"],[0.6666666666666666,\"#ed7953\"],[0.7777777777777778,\"#fb9f3a\"],[0.8888888888888888,\"#fdca26\"],[1.0,\"#f0f921\"]],\"diverging\":[[0,\"#8e0152\"],[0.1,\"#c51b7d\"],[0.2,\"#de77ae\"],[0.3,\"#f1b6da\"],[0.4,\"#fde0ef\"],[0.5,\"#f7f7f7\"],[0.6,\"#e6f5d0\"],[0.7,\"#b8e186\"],[0.8,\"#7fbc41\"],[0.9,\"#4d9221\"],[1,\"#276419\"]]},\"xaxis\":{\"gridcolor\":\"white\",\"linecolor\":\"white\",\"ticks\":\"\",\"title\":{\"standoff\":15},\"zerolinecolor\":\"white\",\"automargin\":true,\"zerolinewidth\":2},\"yaxis\":{\"gridcolor\":\"white\",\"linecolor\":\"white\",\"ticks\":\"\",\"title\":{\"standoff\":15},\"zerolinecolor\":\"white\",\"automargin\":true,\"zerolinewidth\":2},\"scene\":{\"xaxis\":{\"backgroundcolor\":\"#E5ECF6\",\"gridcolor\":\"white\",\"linecolor\":\"white\",\"showbackground\":true,\"ticks\":\"\",\"zerolinecolor\":\"white\",\"gridwidth\":2},\"yaxis\":{\"backgroundcolor\":\"#E5ECF6\",\"gridcolor\":\"white\",\"linecolor\":\"white\",\"showbackground\":true,\"ticks\":\"\",\"zerolinecolor\":\"white\",\"gridwidth\":2},\"zaxis\":{\"backgroundcolor\":\"#E5ECF6\",\"gridcolor\":\"white\",\"linecolor\":\"white\",\"showbackground\":true,\"ticks\":\"\",\"zerolinecolor\":\"white\",\"gridwidth\":2}},\"shapedefaults\":{\"line\":{\"color\":\"#2a3f5f\"}},\"annotationdefaults\":{\"arrowcolor\":\"#2a3f5f\",\"arrowhead\":0,\"arrowwidth\":1},\"geo\":{\"bgcolor\":\"white\",\"landcolor\":\"#E5ECF6\",\"subunitcolor\":\"white\",\"showland\":true,\"showlakes\":true,\"lakecolor\":\"white\"},\"title\":{\"x\":0.05},\"mapbox\":{\"style\":\"light\"}}},\"xaxis\":{\"anchor\":\"y\",\"domain\":[0.0,1.0],\"title\":{\"text\":\"x\"}},\"yaxis\":{\"anchor\":\"x\",\"domain\":[0.0,1.0],\"title\":{\"text\":\"y\"}},\"legend\":{\"tracegroupgap\":0},\"title\":{\"text\":\"100 Most common categories of Country\"},\"barmode\":\"relative\"},                        {\"responsive\": true}                    ).then(function(){\n",
       "                            \n",
       "var gd = document.getElementById('6785aa7a-eb90-494e-8dca-99f3029a15a5');\n",
       "var x = new MutationObserver(function (mutations, observer) {{\n",
       "        var display = window.getComputedStyle(gd).display;\n",
       "        if (!display || display === 'none') {{\n",
       "            console.log([gd, 'removed!']);\n",
       "            Plotly.purge(gd);\n",
       "            observer.disconnect();\n",
       "        }}\n",
       "}});\n",
       "\n",
       "// Listen for the removal of the full notebook cells\n",
       "var notebookContainer = gd.closest('#notebook-container');\n",
       "if (notebookContainer) {{\n",
       "    x.observe(notebookContainer, {childList: true});\n",
       "}}\n",
       "\n",
       "// Listen for the clearing of the current output cell\n",
       "var outputEl = gd.closest('.output');\n",
       "if (outputEl) {{\n",
       "    x.observe(outputEl, {childList: true});\n",
       "}}\n",
       "\n",
       "                        })                };                });            </script>        </div>"
      ]
     },
     "metadata": {},
     "output_type": "display_data"
    }
   ],
   "source": [
    "profile_serie(df_retail['Country'])"
   ]
  },
  {
   "cell_type": "markdown",
   "metadata": {},
   "source": [
    "#### Country: \n",
    "\n",
    "Hay 525461 observaciones, de los cuales no se reportan valores faltantes. Existen 40 valores unicos. El que mas se repite es \"United Kingdom\" con una frecuencia de 485852. Se observa un 100\\% de datos duplicados, es decir, para todo dato existe otro con mismo valor. Del histograma se observa que el segundo pais mas frecuente posee una frecuencia mucho mas baja que el pais top, es decir, casi despreciable. Luego, la frecuencia decrece lentamente en comparacion a la primera barra del histograma."
   ]
  },
  {
   "cell_type": "markdown",
   "metadata": {
    "cell_id": "00023-70400e15-a0f7-41f7-98a5-4b81f1d3315a",
    "deepnote_cell_height": 144.23333740234375,
    "deepnote_cell_type": "markdown",
    "tags": []
   },
   "source": [
    "### 1.2.2 Análisis Multivariado y Datos Faltantes [1 ptos]\n",
    "\n",
    "En segundo lugar encontrará la función ``profile_df()`` que recibe un dataframe como entrada y realiza un análisis bivariado de todas las variables numéricas que conforman el dataframe, un analisis de la correlación de Pearson entre las variables numericas del dataframe y la matriz de datos faltantes."
   ]
  },
  {
   "cell_type": "code",
   "execution_count": 40,
   "metadata": {
    "cell_id": "00024-527d7ab1-22cb-461d-bb32-57ed65f2f2ab",
    "deepnote_cell_height": 530.0333251953125,
    "deepnote_cell_type": "code",
    "deepnote_to_be_reexecuted": false,
    "execution_millis": 2,
    "execution_start": 1634322697785,
    "owner_user_id": "badcc427-fd3d-4615-9296-faa43ec69cfb",
    "source_hash": "ac31b9bd",
    "tags": []
   },
   "outputs": [],
   "source": [
    "def profile_df(dataframe_in):\n",
    "    df = dataframe_in.copy()\n",
    "\n",
    "    list_type = []\n",
    "    for col in list(df.columns):\n",
    "        if is_numeric_dtype(df[col]) or \\\n",
    "        pd.core.dtypes.common.is_datetime_or_timedelta_dtype(df[col]):\n",
    "            list_type.append(col)\n",
    "\n",
    "    \n",
    "    display(Markdown('## Bivariant Analysis:'))\n",
    "    for i in range(len(list_type)):\n",
    "        for j in range(i+1, len(list_type)):\n",
    "            plt.scatter(df[list_type[i]], df[list_type[j]])\n",
    "            plt.xlabel(list_type[i]) \n",
    "            plt.ylabel(list_type[j]) \n",
    "            plt.title(f\"{list_type[i]} v/s {list_type[j]}\")\n",
    "            plt.show()\n",
    "\n",
    "    display(Markdown('## Correlation:'))\n",
    "    fig_corr = px.imshow(df.corr())\n",
    "    fig_corr.show()\n",
    "\n",
    "    display(Markdown('## Missing Matrix:'))\n",
    "    fig, ax = plt.subplots(figsize=[15, 10])\n",
    "    msno.matrix(df, ax=ax, sparkline=False)"
   ]
  },
  {
   "cell_type": "code",
   "execution_count": 41,
   "metadata": {},
   "outputs": [
    {
     "data": {
      "text/markdown": [
       "## Bivariant Analysis:"
      ],
      "text/plain": [
       "<IPython.core.display.Markdown object>"
      ]
     },
     "metadata": {},
     "output_type": "display_data"
    },
    {
     "data": {
      "image/png": "[encoded data removed]",
      "text/plain": [
       "<Figure size 432x288 with 1 Axes>"
      ]
     },
     "metadata": {
      "needs_background": "light"
     },
     "output_type": "display_data"
    },
    {
     "data": {
      "image/png": "[encoded data removed]",
      "text/plain": [
       "<Figure size 432x288 with 1 Axes>"
      ]
     },
     "metadata": {
      "needs_background": "light"
     },
     "output_type": "display_data"
    },
    {
     "data": {
      "image/png": "[encoded data removed]",
      "text/plain": [
       "<Figure size 432x288 with 1 Axes>"
      ]
     },
     "metadata": {
      "needs_background": "light"
     },
     "output_type": "display_data"
    },
    {
     "data": {
      "text/markdown": [
       "## Correlation:"
      ],
      "text/plain": [
       "<IPython.core.display.Markdown object>"
      ]
     },
     "metadata": {},
     "output_type": "display_data"
    },
    {
     "data": {
      "application/vnd.plotly.v1+json": {
       "config": {
        "plotlyServerURL": "https://plot.ly"
       },
       "data": [
        {
         "coloraxis": "coloraxis",
         "hovertemplate": "x: %{x}<br>y: %{y}<br>color: %{z}<extra></extra>",
         "name": "0",
         "type": "heatmap",
         "x": [
          "Quantity",
          "Price"
         ],
         "xaxis": "x",
         "y": [
          "Quantity",
          "Price"
         ],
         "yaxis": "y",
         "z": [
          [
           1,
           -0.0019313304222704135
          ],
          [
           -0.0019313304222704135,
           1
          ]
         ]
        }
       ],
       "layout": {
        "coloraxis": {
         "colorscale": [
          [
           0,
           "#0d0887"
          ],
          [
           0.1111111111111111,
           "#46039f"
          ],
          [
           0.2222222222222222,
           "#7201a8"
          ],
          [
           0.3333333333333333,
           "#9c179e"
          ],
          [
           0.4444444444444444,
           "#bd3786"
          ],
          [
           0.5555555555555556,
           "#d8576b"
          ],
          [
           0.6666666666666666,
           "#ed7953"
          ],
          [
           0.7777777777777778,
           "#fb9f3a"
          ],
          [
           0.8888888888888888,
           "#fdca26"
          ],
          [
           1,
           "#f0f921"
          ]
         ]
        },
        "margin": {
         "t": 60
        },
        "template": {
         "data": {
          "bar": [
           {
            "error_x": {
             "color": "#2a3f5f"
            },
            "error_y": {
             "color": "#2a3f5f"
            },
            "marker": {
             "line": {
              "color": "#E5ECF6",
              "width": 0.5
             },
             "pattern": {
              "fillmode": "overlay",
              "size": 10,
              "solidity": 0.2
             }
            },
            "type": "bar"
           }
          ],
          "barpolar": [
           {
            "marker": {
             "line": {
              "color": "#E5ECF6",
              "width": 0.5
             },
             "pattern": {
              "fillmode": "overlay",
              "size": 10,
              "solidity": 0.2
             }
            },
            "type": "barpolar"
           }
          ],
          "carpet": [
           {
            "aaxis": {
             "endlinecolor": "#2a3f5f",
             "gridcolor": "white",
             "linecolor": "white",
             "minorgridcolor": "white",
             "startlinecolor": "#2a3f5f"
            },
            "baxis": {
             "endlinecolor": "#2a3f5f",
             "gridcolor": "white",
             "linecolor": "white",
             "minorgridcolor": "white",
             "startlinecolor": "#2a3f5f"
            },
            "type": "carpet"
           }
          ],
          "choropleth": [
           {
            "colorbar": {
             "outlinewidth": 0,
             "ticks": ""
            },
            "type": "choropleth"
           }
          ],
          "contour": [
           {
            "colorbar": {
             "outlinewidth": 0,
             "ticks": ""
            },
            "colorscale": [
             [
              0,
              "#0d0887"
             ],
             [
              0.1111111111111111,
              "#46039f"
             ],
             [
              0.2222222222222222,
              "#7201a8"
             ],
             [
              0.3333333333333333,
              "#9c179e"
             ],
             [
              0.4444444444444444,
              "#bd3786"
             ],
             [
              0.5555555555555556,
              "#d8576b"
             ],
             [
              0.6666666666666666,
              "#ed7953"
             ],
             [
              0.7777777777777778,
              "#fb9f3a"
             ],
             [
              0.8888888888888888,
              "#fdca26"
             ],
             [
              1,
              "#f0f921"
             ]
            ],
            "type": "contour"
           }
          ],
          "contourcarpet": [
           {
            "colorbar": {
             "outlinewidth": 0,
             "ticks": ""
            },
            "type": "contourcarpet"
           }
          ],
          "heatmap": [
           {
            "colorbar": {
             "outlinewidth": 0,
             "ticks": ""
            },
            "colorscale": [
             [
              0,
              "#0d0887"
             ],
             [
              0.1111111111111111,
              "#46039f"
             ],
             [
              0.2222222222222222,
              "#7201a8"
             ],
             [
              0.3333333333333333,
              "#9c179e"
             ],
             [
              0.4444444444444444,
              "#bd3786"
             ],
             [
              0.5555555555555556,
              "#d8576b"
             ],
             [
              0.6666666666666666,
              "#ed7953"
             ],
             [
              0.7777777777777778,
              "#fb9f3a"
             ],
             [
              0.8888888888888888,
              "#fdca26"
             ],
             [
              1,
              "#f0f921"
             ]
            ],
            "type": "heatmap"
           }
          ],
          "heatmapgl": [
           {
            "colorbar": {
             "outlinewidth": 0,
             "ticks": ""
            },
            "colorscale": [
             [
              0,
              "#0d0887"
             ],
             [
              0.1111111111111111,
              "#46039f"
             ],
             [
              0.2222222222222222,
              "#7201a8"
             ],
             [
              0.3333333333333333,
              "#9c179e"
             ],
             [
              0.4444444444444444,
              "#bd3786"
             ],
             [
              0.5555555555555556,
              "#d8576b"
             ],
             [
              0.6666666666666666,
              "#ed7953"
             ],
             [
              0.7777777777777778,
              "#fb9f3a"
             ],
             [
              0.8888888888888888,
              "#fdca26"
             ],
             [
              1,
              "#f0f921"
             ]
            ],
            "type": "heatmapgl"
           }
          ],
          "histogram": [
           {
            "marker": {
             "pattern": {
              "fillmode": "overlay",
              "size": 10,
              "solidity": 0.2
             }
            },
            "type": "histogram"
           }
          ],
          "histogram2d": [
           {
            "colorbar": {
             "outlinewidth": 0,
             "ticks": ""
            },
            "colorscale": [
             [
              0,
              "#0d0887"
             ],
             [
              0.1111111111111111,
              "#46039f"
             ],
             [
              0.2222222222222222,
              "#7201a8"
             ],
             [
              0.3333333333333333,
              "#9c179e"
             ],
             [
              0.4444444444444444,
              "#bd3786"
             ],
             [
              0.5555555555555556,
              "#d8576b"
             ],
             [
              0.6666666666666666,
              "#ed7953"
             ],
             [
              0.7777777777777778,
              "#fb9f3a"
             ],
             [
              0.8888888888888888,
              "#fdca26"
             ],
             [
              1,
              "#f0f921"
             ]
            ],
            "type": "histogram2d"
           }
          ],
          "histogram2dcontour": [
           {
            "colorbar": {
             "outlinewidth": 0,
             "ticks": ""
            },
            "colorscale": [
             [
              0,
              "#0d0887"
             ],
             [
              0.1111111111111111,
              "#46039f"
             ],
             [
              0.2222222222222222,
              "#7201a8"
             ],
             [
              0.3333333333333333,
              "#9c179e"
             ],
             [
              0.4444444444444444,
              "#bd3786"
             ],
             [
              0.5555555555555556,
              "#d8576b"
             ],
             [
              0.6666666666666666,
              "#ed7953"
             ],
             [
              0.7777777777777778,
              "#fb9f3a"
             ],
             [
              0.8888888888888888,
              "#fdca26"
             ],
             [
              1,
              "#f0f921"
             ]
            ],
            "type": "histogram2dcontour"
           }
          ],
          "mesh3d": [
           {
            "colorbar": {
             "outlinewidth": 0,
             "ticks": ""
            },
            "type": "mesh3d"
           }
          ],
          "parcoords": [
           {
            "line": {
             "colorbar": {
              "outlinewidth": 0,
              "ticks": ""
             }
            },
            "type": "parcoords"
           }
          ],
          "pie": [
           {
            "automargin": true,
            "type": "pie"
           }
          ],
          "scatter": [
           {
            "fillpattern": {
             "fillmode": "overlay",
             "size": 10,
             "solidity": 0.2
            },
            "type": "scatter"
           }
          ],
          "scatter3d": [
           {
            "line": {
             "colorbar": {
              "outlinewidth": 0,
              "ticks": ""
             }
            },
            "marker": {
             "colorbar": {
              "outlinewidth": 0,
              "ticks": ""
             }
            },
            "type": "scatter3d"
           }
          ],
          "scattercarpet": [
           {
            "marker": {
             "colorbar": {
              "outlinewidth": 0,
              "ticks": ""
             }
            },
            "type": "scattercarpet"
           }
          ],
          "scattergeo": [
           {
            "marker": {
             "colorbar": {
              "outlinewidth": 0,
              "ticks": ""
             }
            },
            "type": "scattergeo"
           }
          ],
          "scattergl": [
           {
            "marker": {
             "colorbar": {
              "outlinewidth": 0,
              "ticks": ""
             }
            },
            "type": "scattergl"
           }
          ],
          "scattermapbox": [
           {
            "marker": {
             "colorbar": {
              "outlinewidth": 0,
              "ticks": ""
             }
            },
            "type": "scattermapbox"
           }
          ],
          "scatterpolar": [
           {
            "marker": {
             "colorbar": {
              "outlinewidth": 0,
              "ticks": ""
             }
            },
            "type": "scatterpolar"
           }
          ],
          "scatterpolargl": [
           {
            "marker": {
             "colorbar": {
              "outlinewidth": 0,
              "ticks": ""
             }
            },
            "type": "scatterpolargl"
           }
          ],
          "scatterternary": [
           {
            "marker": {
             "colorbar": {
              "outlinewidth": 0,
              "ticks": ""
             }
            },
            "type": "scatterternary"
           }
          ],
          "surface": [
           {
            "colorbar": {
             "outlinewidth": 0,
             "ticks": ""
            },
            "colorscale": [
             [
              0,
              "#0d0887"
             ],
             [
              0.1111111111111111,
              "#46039f"
             ],
             [
              0.2222222222222222,
              "#7201a8"
             ],
             [
              0.3333333333333333,
              "#9c179e"
             ],
             [
              0.4444444444444444,
              "#bd3786"
             ],
             [
              0.5555555555555556,
              "#d8576b"
             ],
             [
              0.6666666666666666,
              "#ed7953"
             ],
             [
              0.7777777777777778,
              "#fb9f3a"
             ],
             [
              0.8888888888888888,
              "#fdca26"
             ],
             [
              1,
              "#f0f921"
             ]
            ],
            "type": "surface"
           }
          ],
          "table": [
           {
            "cells": {
             "fill": {
              "color": "#EBF0F8"
             },
             "line": {
              "color": "white"
             }
            },
            "header": {
             "fill": {
              "color": "#C8D4E3"
             },
             "line": {
              "color": "white"
             }
            },
            "type": "table"
           }
          ]
         },
         "layout": {
          "annotationdefaults": {
           "arrowcolor": "#2a3f5f",
           "arrowhead": 0,
           "arrowwidth": 1
          },
          "autotypenumbers": "strict",
          "coloraxis": {
           "colorbar": {
            "outlinewidth": 0,
            "ticks": ""
           }
          },
          "colorscale": {
           "diverging": [
            [
             0,
             "#8e0152"
            ],
            [
             0.1,
             "#c51b7d"
            ],
            [
             0.2,
             "#de77ae"
            ],
            [
             0.3,
             "#f1b6da"
            ],
            [
             0.4,
             "#fde0ef"
            ],
            [
             0.5,
             "#f7f7f7"
            ],
            [
             0.6,
             "#e6f5d0"
            ],
            [
             0.7,
             "#b8e186"
            ],
            [
             0.8,
             "#7fbc41"
            ],
            [
             0.9,
             "#4d9221"
            ],
            [
             1,
             "#276419"
            ]
           ],
           "sequential": [
            [
             0,
             "#0d0887"
            ],
            [
             0.1111111111111111,
             "#46039f"
            ],
            [
             0.2222222222222222,
             "#7201a8"
            ],
            [
             0.3333333333333333,
             "#9c179e"
            ],
            [
             0.4444444444444444,
             "#bd3786"
            ],
            [
             0.5555555555555556,
             "#d8576b"
            ],
            [
             0.6666666666666666,
             "#ed7953"
            ],
            [
             0.7777777777777778,
             "#fb9f3a"
            ],
            [
             0.8888888888888888,
             "#fdca26"
            ],
            [
             1,
             "#f0f921"
            ]
           ],
           "sequentialminus": [
            [
             0,
             "#0d0887"
            ],
            [
             0.1111111111111111,
             "#46039f"
            ],
            [
             0.2222222222222222,
             "#7201a8"
            ],
            [
             0.3333333333333333,
             "#9c179e"
            ],
            [
             0.4444444444444444,
             "#bd3786"
            ],
            [
             0.5555555555555556,
             "#d8576b"
            ],
            [
             0.6666666666666666,
             "#ed7953"
            ],
            [
             0.7777777777777778,
             "#fb9f3a"
            ],
            [
             0.8888888888888888,
             "#fdca26"
            ],
            [
             1,
             "#f0f921"
            ]
           ]
          },
          "colorway": [
           "#636efa",
           "#EF553B",
           "#00cc96",
           "#ab63fa",
           "#FFA15A",
           "#19d3f3",
           "#FF6692",
           "#B6E880",
           "#FF97FF",
           "#FECB52"
          ],
          "font": {
           "color": "#2a3f5f"
          },
          "geo": {
           "bgcolor": "white",
           "lakecolor": "white",
           "landcolor": "#E5ECF6",
           "showlakes": true,
           "showland": true,
           "subunitcolor": "white"
          },
          "hoverlabel": {
           "align": "left"
          },
          "hovermode": "closest",
          "mapbox": {
           "style": "light"
          },
          "paper_bgcolor": "white",
          "plot_bgcolor": "#E5ECF6",
          "polar": {
           "angularaxis": {
            "gridcolor": "white",
            "linecolor": "white",
            "ticks": ""
           },
           "bgcolor": "#E5ECF6",
           "radialaxis": {
            "gridcolor": "white",
            "linecolor": "white",
            "ticks": ""
           }
          },
          "scene": {
           "xaxis": {
            "backgroundcolor": "#E5ECF6",
            "gridcolor": "white",
            "gridwidth": 2,
            "linecolor": "white",
            "showbackground": true,
            "ticks": "",
            "zerolinecolor": "white"
           },
           "yaxis": {
            "backgroundcolor": "#E5ECF6",
            "gridcolor": "white",
            "gridwidth": 2,
            "linecolor": "white",
            "showbackground": true,
            "ticks": "",
            "zerolinecolor": "white"
           },
           "zaxis": {
            "backgroundcolor": "#E5ECF6",
            "gridcolor": "white",
            "gridwidth": 2,
            "linecolor": "white",
            "showbackground": true,
            "ticks": "",
            "zerolinecolor": "white"
           }
          },
          "shapedefaults": {
           "line": {
            "color": "#2a3f5f"
           }
          },
          "ternary": {
           "aaxis": {
            "gridcolor": "white",
            "linecolor": "white",
            "ticks": ""
           },
           "baxis": {
            "gridcolor": "white",
            "linecolor": "white",
            "ticks": ""
           },
           "bgcolor": "#E5ECF6",
           "caxis": {
            "gridcolor": "white",
            "linecolor": "white",
            "ticks": ""
           }
          },
          "title": {
           "x": 0.05
          },
          "xaxis": {
           "automargin": true,
           "gridcolor": "white",
           "linecolor": "white",
           "ticks": "",
           "title": {
            "standoff": 15
           },
           "zerolinecolor": "white",
           "zerolinewidth": 2
          },
          "yaxis": {
           "automargin": true,
           "gridcolor": "white",
           "linecolor": "white",
           "ticks": "",
           "title": {
            "standoff": 15
           },
           "zerolinecolor": "white",
           "zerolinewidth": 2
          }
         }
        },
        "xaxis": {
         "anchor": "y",
         "constrain": "domain",
         "domain": [
          0,
          1
         ],
         "scaleanchor": "y"
        },
        "yaxis": {
         "anchor": "x",
         "autorange": "reversed",
         "constrain": "domain",
         "domain": [
          0,
          1
         ]
        }
       }
      },
      "text/html": [
       "<div>                            <div id=\"7caf64f7-44cb-4aa8-a76a-fdd131b6897e\" class=\"plotly-graph-div\" style=\"height:525px; width:100%;\"></div>            <script type=\"text/javascript\">                require([\"plotly\"], function(Plotly) {                    window.PLOTLYENV=window.PLOTLYENV || {};                                    if (document.getElementById(\"7caf64f7-44cb-4aa8-a76a-fdd131b6897e\")) {                    Plotly.newPlot(                        \"7caf64f7-44cb-4aa8-a76a-fdd131b6897e\",                        [{\"coloraxis\":\"coloraxis\",\"name\":\"0\",\"x\":[\"Quantity\",\"Price\"],\"y\":[\"Quantity\",\"Price\"],\"z\":[[1.0,-0.0019313304222704135],[-0.0019313304222704135,1.0]],\"type\":\"heatmap\",\"xaxis\":\"x\",\"yaxis\":\"y\",\"hovertemplate\":\"x: %{x}<br>y: %{y}<br>color: %{z}<extra></extra>\"}],                        {\"template\":{\"data\":{\"histogram2dcontour\":[{\"type\":\"histogram2dcontour\",\"colorbar\":{\"outlinewidth\":0,\"ticks\":\"\"},\"colorscale\":[[0.0,\"#0d0887\"],[0.1111111111111111,\"#46039f\"],[0.2222222222222222,\"#7201a8\"],[0.3333333333333333,\"#9c179e\"],[0.4444444444444444,\"#bd3786\"],[0.5555555555555556,\"#d8576b\"],[0.6666666666666666,\"#ed7953\"],[0.7777777777777778,\"#fb9f3a\"],[0.8888888888888888,\"#fdca26\"],[1.0,\"#f0f921\"]]}],\"choropleth\":[{\"type\":\"choropleth\",\"colorbar\":{\"outlinewidth\":0,\"ticks\":\"\"}}],\"histogram2d\":[{\"type\":\"histogram2d\",\"colorbar\":{\"outlinewidth\":0,\"ticks\":\"\"},\"colorscale\":[[0.0,\"#0d0887\"],[0.1111111111111111,\"#46039f\"],[0.2222222222222222,\"#7201a8\"],[0.3333333333333333,\"#9c179e\"],[0.4444444444444444,\"#bd3786\"],[0.5555555555555556,\"#d8576b\"],[0.6666666666666666,\"#ed7953\"],[0.7777777777777778,\"#fb9f3a\"],[0.8888888888888888,\"#fdca26\"],[1.0,\"#f0f921\"]]}],\"heatmap\":[{\"type\":\"heatmap\",\"colorbar\":{\"outlinewidth\":0,\"ticks\":\"\"},\"colorscale\":[[0.0,\"#0d0887\"],[0.1111111111111111,\"#46039f\"],[0.2222222222222222,\"#7201a8\"],[0.3333333333333333,\"#9c179e\"],[0.4444444444444444,\"#bd3786\"],[0.5555555555555556,\"#d8576b\"],[0.6666666666666666,\"#ed7953\"],[0.7777777777777778,\"#fb9f3a\"],[0.8888888888888888,\"#fdca26\"],[1.0,\"#f0f921\"]]}],\"heatmapgl\":[{\"type\":\"heatmapgl\",\"colorbar\":{\"outlinewidth\":0,\"ticks\":\"\"},\"colorscale\":[[0.0,\"#0d0887\"],[0.1111111111111111,\"#46039f\"],[0.2222222222222222,\"#7201a8\"],[0.3333333333333333,\"#9c179e\"],[0.4444444444444444,\"#bd3786\"],[0.5555555555555556,\"#d8576b\"],[0.6666666666666666,\"#ed7953\"],[0.7777777777777778,\"#fb9f3a\"],[0.8888888888888888,\"#fdca26\"],[1.0,\"#f0f921\"]]}],\"contourcarpet\":[{\"type\":\"contourcarpet\",\"colorbar\":{\"outlinewidth\":0,\"ticks\":\"\"}}],\"contour\":[{\"type\":\"contour\",\"colorbar\":{\"outlinewidth\":0,\"ticks\":\"\"},\"colorscale\":[[0.0,\"#0d0887\"],[0.1111111111111111,\"#46039f\"],[0.2222222222222222,\"#7201a8\"],[0.3333333333333333,\"#9c179e\"],[0.4444444444444444,\"#bd3786\"],[0.5555555555555556,\"#d8576b\"],[0.6666666666666666,\"#ed7953\"],[0.7777777777777778,\"#fb9f3a\"],[0.8888888888888888,\"#fdca26\"],[1.0,\"#f0f921\"]]}],\"surface\":[{\"type\":\"surface\",\"colorbar\":{\"outlinewidth\":0,\"ticks\":\"\"},\"colorscale\":[[0.0,\"#0d0887\"],[0.1111111111111111,\"#46039f\"],[0.2222222222222222,\"#7201a8\"],[0.3333333333333333,\"#9c179e\"],[0.4444444444444444,\"#bd3786\"],[0.5555555555555556,\"#d8576b\"],[0.6666666666666666,\"#ed7953\"],[0.7777777777777778,\"#fb9f3a\"],[0.8888888888888888,\"#fdca26\"],[1.0,\"#f0f921\"]]}],\"mesh3d\":[{\"type\":\"mesh3d\",\"colorbar\":{\"outlinewidth\":0,\"ticks\":\"\"}}],\"scatter\":[{\"fillpattern\":{\"fillmode\":\"overlay\",\"size\":10,\"solidity\":0.2},\"type\":\"scatter\"}],\"parcoords\":[{\"type\":\"parcoords\",\"line\":{\"colorbar\":{\"outlinewidth\":0,\"ticks\":\"\"}}}],\"scatterpolargl\":[{\"type\":\"scatterpolargl\",\"marker\":{\"colorbar\":{\"outlinewidth\":0,\"ticks\":\"\"}}}],\"bar\":[{\"error_x\":{\"color\":\"#2a3f5f\"},\"error_y\":{\"color\":\"#2a3f5f\"},\"marker\":{\"line\":{\"color\":\"#E5ECF6\",\"width\":0.5},\"pattern\":{\"fillmode\":\"overlay\",\"size\":10,\"solidity\":0.2}},\"type\":\"bar\"}],\"scattergeo\":[{\"type\":\"scattergeo\",\"marker\":{\"colorbar\":{\"outlinewidth\":0,\"ticks\":\"\"}}}],\"scatterpolar\":[{\"type\":\"scatterpolar\",\"marker\":{\"colorbar\":{\"outlinewidth\":0,\"ticks\":\"\"}}}],\"histogram\":[{\"marker\":{\"pattern\":{\"fillmode\":\"overlay\",\"size\":10,\"solidity\":0.2}},\"type\":\"histogram\"}],\"scattergl\":[{\"type\":\"scattergl\",\"marker\":{\"colorbar\":{\"outlinewidth\":0,\"ticks\":\"\"}}}],\"scatter3d\":[{\"type\":\"scatter3d\",\"line\":{\"colorbar\":{\"outlinewidth\":0,\"ticks\":\"\"}},\"marker\":{\"colorbar\":{\"outlinewidth\":0,\"ticks\":\"\"}}}],\"scattermapbox\":[{\"type\":\"scattermapbox\",\"marker\":{\"colorbar\":{\"outlinewidth\":0,\"ticks\":\"\"}}}],\"scatterternary\":[{\"type\":\"scatterternary\",\"marker\":{\"colorbar\":{\"outlinewidth\":0,\"ticks\":\"\"}}}],\"scattercarpet\":[{\"type\":\"scattercarpet\",\"marker\":{\"colorbar\":{\"outlinewidth\":0,\"ticks\":\"\"}}}],\"carpet\":[{\"aaxis\":{\"endlinecolor\":\"#2a3f5f\",\"gridcolor\":\"white\",\"linecolor\":\"white\",\"minorgridcolor\":\"white\",\"startlinecolor\":\"#2a3f5f\"},\"baxis\":{\"endlinecolor\":\"#2a3f5f\",\"gridcolor\":\"white\",\"linecolor\":\"white\",\"minorgridcolor\":\"white\",\"startlinecolor\":\"#2a3f5f\"},\"type\":\"carpet\"}],\"table\":[{\"cells\":{\"fill\":{\"color\":\"#EBF0F8\"},\"line\":{\"color\":\"white\"}},\"header\":{\"fill\":{\"color\":\"#C8D4E3\"},\"line\":{\"color\":\"white\"}},\"type\":\"table\"}],\"barpolar\":[{\"marker\":{\"line\":{\"color\":\"#E5ECF6\",\"width\":0.5},\"pattern\":{\"fillmode\":\"overlay\",\"size\":10,\"solidity\":0.2}},\"type\":\"barpolar\"}],\"pie\":[{\"automargin\":true,\"type\":\"pie\"}]},\"layout\":{\"autotypenumbers\":\"strict\",\"colorway\":[\"#636efa\",\"#EF553B\",\"#00cc96\",\"#ab63fa\",\"#FFA15A\",\"#19d3f3\",\"#FF6692\",\"#B6E880\",\"#FF97FF\",\"#FECB52\"],\"font\":{\"color\":\"#2a3f5f\"},\"hovermode\":\"closest\",\"hoverlabel\":{\"align\":\"left\"},\"paper_bgcolor\":\"white\",\"plot_bgcolor\":\"#E5ECF6\",\"polar\":{\"bgcolor\":\"#E5ECF6\",\"angularaxis\":{\"gridcolor\":\"white\",\"linecolor\":\"white\",\"ticks\":\"\"},\"radialaxis\":{\"gridcolor\":\"white\",\"linecolor\":\"white\",\"ticks\":\"\"}},\"ternary\":{\"bgcolor\":\"#E5ECF6\",\"aaxis\":{\"gridcolor\":\"white\",\"linecolor\":\"white\",\"ticks\":\"\"},\"baxis\":{\"gridcolor\":\"white\",\"linecolor\":\"white\",\"ticks\":\"\"},\"caxis\":{\"gridcolor\":\"white\",\"linecolor\":\"white\",\"ticks\":\"\"}},\"coloraxis\":{\"colorbar\":{\"outlinewidth\":0,\"ticks\":\"\"}},\"colorscale\":{\"sequential\":[[0.0,\"#0d0887\"],[0.1111111111111111,\"#46039f\"],[0.2222222222222222,\"#7201a8\"],[0.3333333333333333,\"#9c179e\"],[0.4444444444444444,\"#bd3786\"],[0.5555555555555556,\"#d8576b\"],[0.6666666666666666,\"#ed7953\"],[0.7777777777777778,\"#fb9f3a\"],[0.8888888888888888,\"#fdca26\"],[1.0,\"#f0f921\"]],\"sequentialminus\":[[0.0,\"#0d0887\"],[0.1111111111111111,\"#46039f\"],[0.2222222222222222,\"#7201a8\"],[0.3333333333333333,\"#9c179e\"],[0.4444444444444444,\"#bd3786\"],[0.5555555555555556,\"#d8576b\"],[0.6666666666666666,\"#ed7953\"],[0.7777777777777778,\"#fb9f3a\"],[0.8888888888888888,\"#fdca26\"],[1.0,\"#f0f921\"]],\"diverging\":[[0,\"#8e0152\"],[0.1,\"#c51b7d\"],[0.2,\"#de77ae\"],[0.3,\"#f1b6da\"],[0.4,\"#fde0ef\"],[0.5,\"#f7f7f7\"],[0.6,\"#e6f5d0\"],[0.7,\"#b8e186\"],[0.8,\"#7fbc41\"],[0.9,\"#4d9221\"],[1,\"#276419\"]]},\"xaxis\":{\"gridcolor\":\"white\",\"linecolor\":\"white\",\"ticks\":\"\",\"title\":{\"standoff\":15},\"zerolinecolor\":\"white\",\"automargin\":true,\"zerolinewidth\":2},\"yaxis\":{\"gridcolor\":\"white\",\"linecolor\":\"white\",\"ticks\":\"\",\"title\":{\"standoff\":15},\"zerolinecolor\":\"white\",\"automargin\":true,\"zerolinewidth\":2},\"scene\":{\"xaxis\":{\"backgroundcolor\":\"#E5ECF6\",\"gridcolor\":\"white\",\"linecolor\":\"white\",\"showbackground\":true,\"ticks\":\"\",\"zerolinecolor\":\"white\",\"gridwidth\":2},\"yaxis\":{\"backgroundcolor\":\"#E5ECF6\",\"gridcolor\":\"white\",\"linecolor\":\"white\",\"showbackground\":true,\"ticks\":\"\",\"zerolinecolor\":\"white\",\"gridwidth\":2},\"zaxis\":{\"backgroundcolor\":\"#E5ECF6\",\"gridcolor\":\"white\",\"linecolor\":\"white\",\"showbackground\":true,\"ticks\":\"\",\"zerolinecolor\":\"white\",\"gridwidth\":2}},\"shapedefaults\":{\"line\":{\"color\":\"#2a3f5f\"}},\"annotationdefaults\":{\"arrowcolor\":\"#2a3f5f\",\"arrowhead\":0,\"arrowwidth\":1},\"geo\":{\"bgcolor\":\"white\",\"landcolor\":\"#E5ECF6\",\"subunitcolor\":\"white\",\"showland\":true,\"showlakes\":true,\"lakecolor\":\"white\"},\"title\":{\"x\":0.05},\"mapbox\":{\"style\":\"light\"}}},\"xaxis\":{\"anchor\":\"y\",\"domain\":[0.0,1.0],\"scaleanchor\":\"y\",\"constrain\":\"domain\"},\"yaxis\":{\"anchor\":\"x\",\"domain\":[0.0,1.0],\"autorange\":\"reversed\",\"constrain\":\"domain\"},\"coloraxis\":{\"colorscale\":[[0.0,\"#0d0887\"],[0.1111111111111111,\"#46039f\"],[0.2222222222222222,\"#7201a8\"],[0.3333333333333333,\"#9c179e\"],[0.4444444444444444,\"#bd3786\"],[0.5555555555555556,\"#d8576b\"],[0.6666666666666666,\"#ed7953\"],[0.7777777777777778,\"#fb9f3a\"],[0.8888888888888888,\"#fdca26\"],[1.0,\"#f0f921\"]]},\"margin\":{\"t\":60}},                        {\"responsive\": true}                    ).then(function(){\n",
       "                            \n",
       "var gd = document.getElementById('7caf64f7-44cb-4aa8-a76a-fdd131b6897e');\n",
       "var x = new MutationObserver(function (mutations, observer) {{\n",
       "        var display = window.getComputedStyle(gd).display;\n",
       "        if (!display || display === 'none') {{\n",
       "            console.log([gd, 'removed!']);\n",
       "            Plotly.purge(gd);\n",
       "            observer.disconnect();\n",
       "        }}\n",
       "}});\n",
       "\n",
       "// Listen for the removal of the full notebook cells\n",
       "var notebookContainer = gd.closest('#notebook-container');\n",
       "if (notebookContainer) {{\n",
       "    x.observe(notebookContainer, {childList: true});\n",
       "}}\n",
       "\n",
       "// Listen for the clearing of the current output cell\n",
       "var outputEl = gd.closest('.output');\n",
       "if (outputEl) {{\n",
       "    x.observe(outputEl, {childList: true});\n",
       "}}\n",
       "\n",
       "                        })                };                });            </script>        </div>"
      ]
     },
     "metadata": {},
     "output_type": "display_data"
    },
    {
     "data": {
      "text/markdown": [
       "## Missing Matrix:"
      ],
      "text/plain": [
       "<IPython.core.display.Markdown object>"
      ]
     },
     "metadata": {},
     "output_type": "display_data"
    },
    {
     "data": {
      "image/png": "[encoded data removed]",
      "text/plain": [
       "<Figure size 1080x720 with 1 Axes>"
      ]
     },
     "metadata": {
      "needs_background": "light"
     },
     "output_type": "display_data"
    }
   ],
   "source": [
    "profile_df(df_retail)"
   ]
  },
  {
   "cell_type": "markdown",
   "metadata": {},
   "source": [
    "**Respuesta a la Pregunta:** \n",
    "\n",
    "(Bivariado: Quantity vs InvoideDate) No se observa un patron claro entre estas dos variables, salvo que los datos se concentra uniformemente en cero independiente de la fecha de la factura.\n",
    "\n",
    "(Bivariado: Quantity vs Price) No se observa una dependencia entre estas dos variable.\n",
    "\n",
    "(Bivariado: InvoideDate vs Price) En general no se observa un patro claro entre estas dos variables, salvo los meses cercanos a fin de año con una nuve de puntos que se destacan c/r a los demas, asociados a compras de objetos mas caros que los meses anteriores.\n",
    "\n",
    "(Correlaciones) No se observa correlacion entre las unicas variables cuantitativas (Price-Quantity). Lo cual es razonable, dado que comprar pocos items no necesariamente posee un precio bajo, dado que el precio indicado es el unitario y no el total. Por lo tanto, dicha variable no cambia por la cantidad comprada.\n",
    "\n",
    "(Datos faltantes) Se observa que la unica variable con datos faltantes es \"Customer ID\". Misma conclusion del resumen total del analisis univariado realizado en la seccion anterior."
   ]
  },
  {
   "cell_type": "markdown",
   "metadata": {
    "cell_id": "00026-df20962a-a04e-4edd-9d19-3acc252a7f29",
    "deepnote_cell_height": 239.43333435058594,
    "deepnote_cell_type": "markdown",
    "tags": []
   },
   "source": [
    "### 1.2.3 Limpieza de Datos [1 pto]\n",
    "\n",
    "Como pudo ver en las secciones anteriores, los datos presentan valores erroneos, es por esto que se le solicita que realice una función que permita limpiar el dataset. Realice esta función en base observaciones propias y considere como imposible tener cantidades negativas en las ventas.\n",
    "\n",
    "Una vez realizada la función, realice nuevamente el análisis exploratorio y comente las principales diferencias.\n",
    "\n",
    "**Respuesta:**"
   ]
  },
  {
   "cell_type": "code",
   "execution_count": 47,
   "metadata": {
    "cell_id": "00027-c103a1ac-7b8e-4ad8-af70-1385769b6c33",
    "deepnote_cell_height": 65.03334045410156,
    "deepnote_cell_type": "code",
    "tags": []
   },
   "outputs": [],
   "source": [
    "def limpieza(df):\n",
    "    cleaned = df.copy()\n",
    "    # Los precios no pueden ser negativos\n",
    "    cleaned = cleaned[cleaned['Price'] >= 0]\n",
    "    # Tampoco las cantidades\n",
    "    cleaned = cleaned[cleaned['Quantity'] > 0]\n",
    "#     cleaned = cleaned.dropna()\n",
    "    \n",
    "    return cleaned"
   ]
  },
  {
   "cell_type": "code",
   "execution_count": 48,
   "metadata": {},
   "outputs": [
    {
     "data": {
      "text/markdown": [
       "## Bivariant Analysis:"
      ],
      "text/plain": [
       "<IPython.core.display.Markdown object>"
      ]
     },
     "metadata": {},
     "output_type": "display_data"
    },
    {
     "data": {
      "image/png": "[encoded data removed]",
      "text/plain": [
       "<Figure size 432x288 with 1 Axes>"
      ]
     },
     "metadata": {
      "needs_background": "light"
     },
     "output_type": "display_data"
    },
    {
     "data": {
      "image/png": "[encoded data removed]",
      "text/plain": [
       "<Figure size 432x288 with 1 Axes>"
      ]
     },
     "metadata": {
      "needs_background": "light"
     },
     "output_type": "display_data"
    },
    {
     "data": {
      "image/png": "[encoded data removed]",
      "text/plain": [
       "<Figure size 432x288 with 1 Axes>"
      ]
     },
     "metadata": {
      "needs_background": "light"
     },
     "output_type": "display_data"
    },
    {
     "data": {
      "text/markdown": [
       "## Correlation:"
      ],
      "text/plain": [
       "<IPython.core.display.Markdown object>"
      ]
     },
     "metadata": {},
     "output_type": "display_data"
    },
    {
     "data": {
      "application/vnd.plotly.v1+json": {
       "config": {
        "plotlyServerURL": "https://plot.ly"
       },
       "data": [
        {
         "coloraxis": "coloraxis",
         "hovertemplate": "x: %{x}<br>y: %{y}<br>color: %{z}<extra></extra>",
         "name": "0",
         "type": "heatmap",
         "x": [
          "Quantity",
          "Price"
         ],
         "xaxis": "x",
         "y": [
          "Quantity",
          "Price"
         ],
         "yaxis": "y",
         "z": [
          [
           1,
           -0.005005535464326321
          ],
          [
           -0.005005535464326321,
           1
          ]
         ]
        }
       ],
       "layout": {
        "coloraxis": {
         "colorscale": [
          [
           0,
           "#0d0887"
          ],
          [
           0.1111111111111111,
           "#46039f"
          ],
          [
           0.2222222222222222,
           "#7201a8"
          ],
          [
           0.3333333333333333,
           "#9c179e"
          ],
          [
           0.4444444444444444,
           "#bd3786"
          ],
          [
           0.5555555555555556,
           "#d8576b"
          ],
          [
           0.6666666666666666,
           "#ed7953"
          ],
          [
           0.7777777777777778,
           "#fb9f3a"
          ],
          [
           0.8888888888888888,
           "#fdca26"
          ],
          [
           1,
           "#f0f921"
          ]
         ]
        },
        "margin": {
         "t": 60
        },
        "template": {
         "data": {
          "bar": [
           {
            "error_x": {
             "color": "#2a3f5f"
            },
            "error_y": {
             "color": "#2a3f5f"
            },
            "marker": {
             "line": {
              "color": "#E5ECF6",
              "width": 0.5
             },
             "pattern": {
              "fillmode": "overlay",
              "size": 10,
              "solidity": 0.2
             }
            },
            "type": "bar"
           }
          ],
          "barpolar": [
           {
            "marker": {
             "line": {
              "color": "#E5ECF6",
              "width": 0.5
             },
             "pattern": {
              "fillmode": "overlay",
              "size": 10,
              "solidity": 0.2
             }
            },
            "type": "barpolar"
           }
          ],
          "carpet": [
           {
            "aaxis": {
             "endlinecolor": "#2a3f5f",
             "gridcolor": "white",
             "linecolor": "white",
             "minorgridcolor": "white",
             "startlinecolor": "#2a3f5f"
            },
            "baxis": {
             "endlinecolor": "#2a3f5f",
             "gridcolor": "white",
             "linecolor": "white",
             "minorgridcolor": "white",
             "startlinecolor": "#2a3f5f"
            },
            "type": "carpet"
           }
          ],
          "choropleth": [
           {
            "colorbar": {
             "outlinewidth": 0,
             "ticks": ""
            },
            "type": "choropleth"
           }
          ],
          "contour": [
           {
            "colorbar": {
             "outlinewidth": 0,
             "ticks": ""
            },
            "colorscale": [
             [
              0,
              "#0d0887"
             ],
             [
              0.1111111111111111,
              "#46039f"
             ],
             [
              0.2222222222222222,
              "#7201a8"
             ],
             [
              0.3333333333333333,
              "#9c179e"
             ],
             [
              0.4444444444444444,
              "#bd3786"
             ],
             [
              0.5555555555555556,
              "#d8576b"
             ],
             [
              0.6666666666666666,
              "#ed7953"
             ],
             [
              0.7777777777777778,
              "#fb9f3a"
             ],
             [
              0.8888888888888888,
              "#fdca26"
             ],
             [
              1,
              "#f0f921"
             ]
            ],
            "type": "contour"
           }
          ],
          "contourcarpet": [
           {
            "colorbar": {
             "outlinewidth": 0,
             "ticks": ""
            },
            "type": "contourcarpet"
           }
          ],
          "heatmap": [
           {
            "colorbar": {
             "outlinewidth": 0,
             "ticks": ""
            },
            "colorscale": [
             [
              0,
              "#0d0887"
             ],
             [
              0.1111111111111111,
              "#46039f"
             ],
             [
              0.2222222222222222,
              "#7201a8"
             ],
             [
              0.3333333333333333,
              "#9c179e"
             ],
             [
              0.4444444444444444,
              "#bd3786"
             ],
             [
              0.5555555555555556,
              "#d8576b"
             ],
             [
              0.6666666666666666,
              "#ed7953"
             ],
             [
              0.7777777777777778,
              "#fb9f3a"
             ],
             [
              0.8888888888888888,
              "#fdca26"
             ],
             [
              1,
              "#f0f921"
             ]
            ],
            "type": "heatmap"
           }
          ],
          "heatmapgl": [
           {
            "colorbar": {
             "outlinewidth": 0,
             "ticks": ""
            },
            "colorscale": [
             [
              0,
              "#0d0887"
             ],
             [
              0.1111111111111111,
              "#46039f"
             ],
             [
              0.2222222222222222,
              "#7201a8"
             ],
             [
              0.3333333333333333,
              "#9c179e"
             ],
             [
              0.4444444444444444,
              "#bd3786"
             ],
             [
              0.5555555555555556,
              "#d8576b"
             ],
             [
              0.6666666666666666,
              "#ed7953"
             ],
             [
              0.7777777777777778,
              "#fb9f3a"
             ],
             [
              0.8888888888888888,
              "#fdca26"
             ],
             [
              1,
              "#f0f921"
             ]
            ],
            "type": "heatmapgl"
           }
          ],
          "histogram": [
           {
            "marker": {
             "pattern": {
              "fillmode": "overlay",
              "size": 10,
              "solidity": 0.2
             }
            },
            "type": "histogram"
           }
          ],
          "histogram2d": [
           {
            "colorbar": {
             "outlinewidth": 0,
             "ticks": ""
            },
            "colorscale": [
             [
              0,
              "#0d0887"
             ],
             [
              0.1111111111111111,
              "#46039f"
             ],
             [
              0.2222222222222222,
              "#7201a8"
             ],
             [
              0.3333333333333333,
              "#9c179e"
             ],
             [
              0.4444444444444444,
              "#bd3786"
             ],
             [
              0.5555555555555556,
              "#d8576b"
             ],
             [
              0.6666666666666666,
              "#ed7953"
             ],
             [
              0.7777777777777778,
              "#fb9f3a"
             ],
             [
              0.8888888888888888,
              "#fdca26"
             ],
             [
              1,
              "#f0f921"
             ]
            ],
            "type": "histogram2d"
           }
          ],
          "histogram2dcontour": [
           {
            "colorbar": {
             "outlinewidth": 0,
             "ticks": ""
            },
            "colorscale": [
             [
              0,
              "#0d0887"
             ],
             [
              0.1111111111111111,
              "#46039f"
             ],
             [
              0.2222222222222222,
              "#7201a8"
             ],
             [
              0.3333333333333333,
              "#9c179e"
             ],
             [
              0.4444444444444444,
              "#bd3786"
             ],
             [
              0.5555555555555556,
              "#d8576b"
             ],
             [
              0.6666666666666666,
              "#ed7953"
             ],
             [
              0.7777777777777778,
              "#fb9f3a"
             ],
             [
              0.8888888888888888,
              "#fdca26"
             ],
             [
              1,
              "#f0f921"
             ]
            ],
            "type": "histogram2dcontour"
           }
          ],
          "mesh3d": [
           {
            "colorbar": {
             "outlinewidth": 0,
             "ticks": ""
            },
            "type": "mesh3d"
           }
          ],
          "parcoords": [
           {
            "line": {
             "colorbar": {
              "outlinewidth": 0,
              "ticks": ""
             }
            },
            "type": "parcoords"
           }
          ],
          "pie": [
           {
            "automargin": true,
            "type": "pie"
           }
          ],
          "scatter": [
           {
            "fillpattern": {
             "fillmode": "overlay",
             "size": 10,
             "solidity": 0.2
            },
            "type": "scatter"
           }
          ],
          "scatter3d": [
           {
            "line": {
             "colorbar": {
              "outlinewidth": 0,
              "ticks": ""
             }
            },
            "marker": {
             "colorbar": {
              "outlinewidth": 0,
              "ticks": ""
             }
            },
            "type": "scatter3d"
           }
          ],
          "scattercarpet": [
           {
            "marker": {
             "colorbar": {
              "outlinewidth": 0,
              "ticks": ""
             }
            },
            "type": "scattercarpet"
           }
          ],
          "scattergeo": [
           {
            "marker": {
             "colorbar": {
              "outlinewidth": 0,
              "ticks": ""
             }
            },
            "type": "scattergeo"
           }
          ],
          "scattergl": [
           {
            "marker": {
             "colorbar": {
              "outlinewidth": 0,
              "ticks": ""
             }
            },
            "type": "scattergl"
           }
          ],
          "scattermapbox": [
           {
            "marker": {
             "colorbar": {
              "outlinewidth": 0,
              "ticks": ""
             }
            },
            "type": "scattermapbox"
           }
          ],
          "scatterpolar": [
           {
            "marker": {
             "colorbar": {
              "outlinewidth": 0,
              "ticks": ""
             }
            },
            "type": "scatterpolar"
           }
          ],
          "scatterpolargl": [
           {
            "marker": {
             "colorbar": {
              "outlinewidth": 0,
              "ticks": ""
             }
            },
            "type": "scatterpolargl"
           }
          ],
          "scatterternary": [
           {
            "marker": {
             "colorbar": {
              "outlinewidth": 0,
              "ticks": ""
             }
            },
            "type": "scatterternary"
           }
          ],
          "surface": [
           {
            "colorbar": {
             "outlinewidth": 0,
             "ticks": ""
            },
            "colorscale": [
             [
              0,
              "#0d0887"
             ],
             [
              0.1111111111111111,
              "#46039f"
             ],
             [
              0.2222222222222222,
              "#7201a8"
             ],
             [
              0.3333333333333333,
              "#9c179e"
             ],
             [
              0.4444444444444444,
              "#bd3786"
             ],
             [
              0.5555555555555556,
              "#d8576b"
             ],
             [
              0.6666666666666666,
              "#ed7953"
             ],
             [
              0.7777777777777778,
              "#fb9f3a"
             ],
             [
              0.8888888888888888,
              "#fdca26"
             ],
             [
              1,
              "#f0f921"
             ]
            ],
            "type": "surface"
           }
          ],
          "table": [
           {
            "cells": {
             "fill": {
              "color": "#EBF0F8"
             },
             "line": {
              "color": "white"
             }
            },
            "header": {
             "fill": {
              "color": "#C8D4E3"
             },
             "line": {
              "color": "white"
             }
            },
            "type": "table"
           }
          ]
         },
         "layout": {
          "annotationdefaults": {
           "arrowcolor": "#2a3f5f",
           "arrowhead": 0,
           "arrowwidth": 1
          },
          "autotypenumbers": "strict",
          "coloraxis": {
           "colorbar": {
            "outlinewidth": 0,
            "ticks": ""
           }
          },
          "colorscale": {
           "diverging": [
            [
             0,
             "#8e0152"
            ],
            [
             0.1,
             "#c51b7d"
            ],
            [
             0.2,
             "#de77ae"
            ],
            [
             0.3,
             "#f1b6da"
            ],
            [
             0.4,
             "#fde0ef"
            ],
            [
             0.5,
             "#f7f7f7"
            ],
            [
             0.6,
             "#e6f5d0"
            ],
            [
             0.7,
             "#b8e186"
            ],
            [
             0.8,
             "#7fbc41"
            ],
            [
             0.9,
             "#4d9221"
            ],
            [
             1,
             "#276419"
            ]
           ],
           "sequential": [
            [
             0,
             "#0d0887"
            ],
            [
             0.1111111111111111,
             "#46039f"
            ],
            [
             0.2222222222222222,
             "#7201a8"
            ],
            [
             0.3333333333333333,
             "#9c179e"
            ],
            [
             0.4444444444444444,
             "#bd3786"
            ],
            [
             0.5555555555555556,
             "#d8576b"
            ],
            [
             0.6666666666666666,
             "#ed7953"
            ],
            [
             0.7777777777777778,
             "#fb9f3a"
            ],
            [
             0.8888888888888888,
             "#fdca26"
            ],
            [
             1,
             "#f0f921"
            ]
           ],
           "sequentialminus": [
            [
             0,
             "#0d0887"
            ],
            [
             0.1111111111111111,
             "#46039f"
            ],
            [
             0.2222222222222222,
             "#7201a8"
            ],
            [
             0.3333333333333333,
             "#9c179e"
            ],
            [
             0.4444444444444444,
             "#bd3786"
            ],
            [
             0.5555555555555556,
             "#d8576b"
            ],
            [
             0.6666666666666666,
             "#ed7953"
            ],
            [
             0.7777777777777778,
             "#fb9f3a"
            ],
            [
             0.8888888888888888,
             "#fdca26"
            ],
            [
             1,
             "#f0f921"
            ]
           ]
          },
          "colorway": [
           "#636efa",
           "#EF553B",
           "#00cc96",
           "#ab63fa",
           "#FFA15A",
           "#19d3f3",
           "#FF6692",
           "#B6E880",
           "#FF97FF",
           "#FECB52"
          ],
          "font": {
           "color": "#2a3f5f"
          },
          "geo": {
           "bgcolor": "white",
           "lakecolor": "white",
           "landcolor": "#E5ECF6",
           "showlakes": true,
           "showland": true,
           "subunitcolor": "white"
          },
          "hoverlabel": {
           "align": "left"
          },
          "hovermode": "closest",
          "mapbox": {
           "style": "light"
          },
          "paper_bgcolor": "white",
          "plot_bgcolor": "#E5ECF6",
          "polar": {
           "angularaxis": {
            "gridcolor": "white",
            "linecolor": "white",
            "ticks": ""
           },
           "bgcolor": "#E5ECF6",
           "radialaxis": {
            "gridcolor": "white",
            "linecolor": "white",
            "ticks": ""
           }
          },
          "scene": {
           "xaxis": {
            "backgroundcolor": "#E5ECF6",
            "gridcolor": "white",
            "gridwidth": 2,
            "linecolor": "white",
            "showbackground": true,
            "ticks": "",
            "zerolinecolor": "white"
           },
           "yaxis": {
            "backgroundcolor": "#E5ECF6",
            "gridcolor": "white",
            "gridwidth": 2,
            "linecolor": "white",
            "showbackground": true,
            "ticks": "",
            "zerolinecolor": "white"
           },
           "zaxis": {
            "backgroundcolor": "#E5ECF6",
            "gridcolor": "white",
            "gridwidth": 2,
            "linecolor": "white",
            "showbackground": true,
            "ticks": "",
            "zerolinecolor": "white"
           }
          },
          "shapedefaults": {
           "line": {
            "color": "#2a3f5f"
           }
          },
          "ternary": {
           "aaxis": {
            "gridcolor": "white",
            "linecolor": "white",
            "ticks": ""
           },
           "baxis": {
            "gridcolor": "white",
            "linecolor": "white",
            "ticks": ""
           },
           "bgcolor": "#E5ECF6",
           "caxis": {
            "gridcolor": "white",
            "linecolor": "white",
            "ticks": ""
           }
          },
          "title": {
           "x": 0.05
          },
          "xaxis": {
           "automargin": true,
           "gridcolor": "white",
           "linecolor": "white",
           "ticks": "",
           "title": {
            "standoff": 15
           },
           "zerolinecolor": "white",
           "zerolinewidth": 2
          },
          "yaxis": {
           "automargin": true,
           "gridcolor": "white",
           "linecolor": "white",
           "ticks": "",
           "title": {
            "standoff": 15
           },
           "zerolinecolor": "white",
           "zerolinewidth": 2
          }
         }
        },
        "xaxis": {
         "anchor": "y",
         "constrain": "domain",
         "domain": [
          0,
          1
         ],
         "scaleanchor": "y"
        },
        "yaxis": {
         "anchor": "x",
         "autorange": "reversed",
         "constrain": "domain",
         "domain": [
          0,
          1
         ]
        }
       }
      },
      "text/html": [
       "<div>                            <div id=\"d5772c28-b7af-4d77-8ad5-1c45b443a2ef\" class=\"plotly-graph-div\" style=\"height:525px; width:100%;\"></div>            <script type=\"text/javascript\">                require([\"plotly\"], function(Plotly) {                    window.PLOTLYENV=window.PLOTLYENV || {};                                    if (document.getElementById(\"d5772c28-b7af-4d77-8ad5-1c45b443a2ef\")) {                    Plotly.newPlot(                        \"d5772c28-b7af-4d77-8ad5-1c45b443a2ef\",                        [{\"coloraxis\":\"coloraxis\",\"name\":\"0\",\"x\":[\"Quantity\",\"Price\"],\"y\":[\"Quantity\",\"Price\"],\"z\":[[1.0,-0.005005535464326321],[-0.005005535464326321,1.0]],\"type\":\"heatmap\",\"xaxis\":\"x\",\"yaxis\":\"y\",\"hovertemplate\":\"x: %{x}<br>y: %{y}<br>color: %{z}<extra></extra>\"}],                        {\"template\":{\"data\":{\"histogram2dcontour\":[{\"type\":\"histogram2dcontour\",\"colorbar\":{\"outlinewidth\":0,\"ticks\":\"\"},\"colorscale\":[[0.0,\"#0d0887\"],[0.1111111111111111,\"#46039f\"],[0.2222222222222222,\"#7201a8\"],[0.3333333333333333,\"#9c179e\"],[0.4444444444444444,\"#bd3786\"],[0.5555555555555556,\"#d8576b\"],[0.6666666666666666,\"#ed7953\"],[0.7777777777777778,\"#fb9f3a\"],[0.8888888888888888,\"#fdca26\"],[1.0,\"#f0f921\"]]}],\"choropleth\":[{\"type\":\"choropleth\",\"colorbar\":{\"outlinewidth\":0,\"ticks\":\"\"}}],\"histogram2d\":[{\"type\":\"histogram2d\",\"colorbar\":{\"outlinewidth\":0,\"ticks\":\"\"},\"colorscale\":[[0.0,\"#0d0887\"],[0.1111111111111111,\"#46039f\"],[0.2222222222222222,\"#7201a8\"],[0.3333333333333333,\"#9c179e\"],[0.4444444444444444,\"#bd3786\"],[0.5555555555555556,\"#d8576b\"],[0.6666666666666666,\"#ed7953\"],[0.7777777777777778,\"#fb9f3a\"],[0.8888888888888888,\"#fdca26\"],[1.0,\"#f0f921\"]]}],\"heatmap\":[{\"type\":\"heatmap\",\"colorbar\":{\"outlinewidth\":0,\"ticks\":\"\"},\"colorscale\":[[0.0,\"#0d0887\"],[0.1111111111111111,\"#46039f\"],[0.2222222222222222,\"#7201a8\"],[0.3333333333333333,\"#9c179e\"],[0.4444444444444444,\"#bd3786\"],[0.5555555555555556,\"#d8576b\"],[0.6666666666666666,\"#ed7953\"],[0.7777777777777778,\"#fb9f3a\"],[0.8888888888888888,\"#fdca26\"],[1.0,\"#f0f921\"]]}],\"heatmapgl\":[{\"type\":\"heatmapgl\",\"colorbar\":{\"outlinewidth\":0,\"ticks\":\"\"},\"colorscale\":[[0.0,\"#0d0887\"],[0.1111111111111111,\"#46039f\"],[0.2222222222222222,\"#7201a8\"],[0.3333333333333333,\"#9c179e\"],[0.4444444444444444,\"#bd3786\"],[0.5555555555555556,\"#d8576b\"],[0.6666666666666666,\"#ed7953\"],[0.7777777777777778,\"#fb9f3a\"],[0.8888888888888888,\"#fdca26\"],[1.0,\"#f0f921\"]]}],\"contourcarpet\":[{\"type\":\"contourcarpet\",\"colorbar\":{\"outlinewidth\":0,\"ticks\":\"\"}}],\"contour\":[{\"type\":\"contour\",\"colorbar\":{\"outlinewidth\":0,\"ticks\":\"\"},\"colorscale\":[[0.0,\"#0d0887\"],[0.1111111111111111,\"#46039f\"],[0.2222222222222222,\"#7201a8\"],[0.3333333333333333,\"#9c179e\"],[0.4444444444444444,\"#bd3786\"],[0.5555555555555556,\"#d8576b\"],[0.6666666666666666,\"#ed7953\"],[0.7777777777777778,\"#fb9f3a\"],[0.8888888888888888,\"#fdca26\"],[1.0,\"#f0f921\"]]}],\"surface\":[{\"type\":\"surface\",\"colorbar\":{\"outlinewidth\":0,\"ticks\":\"\"},\"colorscale\":[[0.0,\"#0d0887\"],[0.1111111111111111,\"#46039f\"],[0.2222222222222222,\"#7201a8\"],[0.3333333333333333,\"#9c179e\"],[0.4444444444444444,\"#bd3786\"],[0.5555555555555556,\"#d8576b\"],[0.6666666666666666,\"#ed7953\"],[0.7777777777777778,\"#fb9f3a\"],[0.8888888888888888,\"#fdca26\"],[1.0,\"#f0f921\"]]}],\"mesh3d\":[{\"type\":\"mesh3d\",\"colorbar\":{\"outlinewidth\":0,\"ticks\":\"\"}}],\"scatter\":[{\"fillpattern\":{\"fillmode\":\"overlay\",\"size\":10,\"solidity\":0.2},\"type\":\"scatter\"}],\"parcoords\":[{\"type\":\"parcoords\",\"line\":{\"colorbar\":{\"outlinewidth\":0,\"ticks\":\"\"}}}],\"scatterpolargl\":[{\"type\":\"scatterpolargl\",\"marker\":{\"colorbar\":{\"outlinewidth\":0,\"ticks\":\"\"}}}],\"bar\":[{\"error_x\":{\"color\":\"#2a3f5f\"},\"error_y\":{\"color\":\"#2a3f5f\"},\"marker\":{\"line\":{\"color\":\"#E5ECF6\",\"width\":0.5},\"pattern\":{\"fillmode\":\"overlay\",\"size\":10,\"solidity\":0.2}},\"type\":\"bar\"}],\"scattergeo\":[{\"type\":\"scattergeo\",\"marker\":{\"colorbar\":{\"outlinewidth\":0,\"ticks\":\"\"}}}],\"scatterpolar\":[{\"type\":\"scatterpolar\",\"marker\":{\"colorbar\":{\"outlinewidth\":0,\"ticks\":\"\"}}}],\"histogram\":[{\"marker\":{\"pattern\":{\"fillmode\":\"overlay\",\"size\":10,\"solidity\":0.2}},\"type\":\"histogram\"}],\"scattergl\":[{\"type\":\"scattergl\",\"marker\":{\"colorbar\":{\"outlinewidth\":0,\"ticks\":\"\"}}}],\"scatter3d\":[{\"type\":\"scatter3d\",\"line\":{\"colorbar\":{\"outlinewidth\":0,\"ticks\":\"\"}},\"marker\":{\"colorbar\":{\"outlinewidth\":0,\"ticks\":\"\"}}}],\"scattermapbox\":[{\"type\":\"scattermapbox\",\"marker\":{\"colorbar\":{\"outlinewidth\":0,\"ticks\":\"\"}}}],\"scatterternary\":[{\"type\":\"scatterternary\",\"marker\":{\"colorbar\":{\"outlinewidth\":0,\"ticks\":\"\"}}}],\"scattercarpet\":[{\"type\":\"scattercarpet\",\"marker\":{\"colorbar\":{\"outlinewidth\":0,\"ticks\":\"\"}}}],\"carpet\":[{\"aaxis\":{\"endlinecolor\":\"#2a3f5f\",\"gridcolor\":\"white\",\"linecolor\":\"white\",\"minorgridcolor\":\"white\",\"startlinecolor\":\"#2a3f5f\"},\"baxis\":{\"endlinecolor\":\"#2a3f5f\",\"gridcolor\":\"white\",\"linecolor\":\"white\",\"minorgridcolor\":\"white\",\"startlinecolor\":\"#2a3f5f\"},\"type\":\"carpet\"}],\"table\":[{\"cells\":{\"fill\":{\"color\":\"#EBF0F8\"},\"line\":{\"color\":\"white\"}},\"header\":{\"fill\":{\"color\":\"#C8D4E3\"},\"line\":{\"color\":\"white\"}},\"type\":\"table\"}],\"barpolar\":[{\"marker\":{\"line\":{\"color\":\"#E5ECF6\",\"width\":0.5},\"pattern\":{\"fillmode\":\"overlay\",\"size\":10,\"solidity\":0.2}},\"type\":\"barpolar\"}],\"pie\":[{\"automargin\":true,\"type\":\"pie\"}]},\"layout\":{\"autotypenumbers\":\"strict\",\"colorway\":[\"#636efa\",\"#EF553B\",\"#00cc96\",\"#ab63fa\",\"#FFA15A\",\"#19d3f3\",\"#FF6692\",\"#B6E880\",\"#FF97FF\",\"#FECB52\"],\"font\":{\"color\":\"#2a3f5f\"},\"hovermode\":\"closest\",\"hoverlabel\":{\"align\":\"left\"},\"paper_bgcolor\":\"white\",\"plot_bgcolor\":\"#E5ECF6\",\"polar\":{\"bgcolor\":\"#E5ECF6\",\"angularaxis\":{\"gridcolor\":\"white\",\"linecolor\":\"white\",\"ticks\":\"\"},\"radialaxis\":{\"gridcolor\":\"white\",\"linecolor\":\"white\",\"ticks\":\"\"}},\"ternary\":{\"bgcolor\":\"#E5ECF6\",\"aaxis\":{\"gridcolor\":\"white\",\"linecolor\":\"white\",\"ticks\":\"\"},\"baxis\":{\"gridcolor\":\"white\",\"linecolor\":\"white\",\"ticks\":\"\"},\"caxis\":{\"gridcolor\":\"white\",\"linecolor\":\"white\",\"ticks\":\"\"}},\"coloraxis\":{\"colorbar\":{\"outlinewidth\":0,\"ticks\":\"\"}},\"colorscale\":{\"sequential\":[[0.0,\"#0d0887\"],[0.1111111111111111,\"#46039f\"],[0.2222222222222222,\"#7201a8\"],[0.3333333333333333,\"#9c179e\"],[0.4444444444444444,\"#bd3786\"],[0.5555555555555556,\"#d8576b\"],[0.6666666666666666,\"#ed7953\"],[0.7777777777777778,\"#fb9f3a\"],[0.8888888888888888,\"#fdca26\"],[1.0,\"#f0f921\"]],\"sequentialminus\":[[0.0,\"#0d0887\"],[0.1111111111111111,\"#46039f\"],[0.2222222222222222,\"#7201a8\"],[0.3333333333333333,\"#9c179e\"],[0.4444444444444444,\"#bd3786\"],[0.5555555555555556,\"#d8576b\"],[0.6666666666666666,\"#ed7953\"],[0.7777777777777778,\"#fb9f3a\"],[0.8888888888888888,\"#fdca26\"],[1.0,\"#f0f921\"]],\"diverging\":[[0,\"#8e0152\"],[0.1,\"#c51b7d\"],[0.2,\"#de77ae\"],[0.3,\"#f1b6da\"],[0.4,\"#fde0ef\"],[0.5,\"#f7f7f7\"],[0.6,\"#e6f5d0\"],[0.7,\"#b8e186\"],[0.8,\"#7fbc41\"],[0.9,\"#4d9221\"],[1,\"#276419\"]]},\"xaxis\":{\"gridcolor\":\"white\",\"linecolor\":\"white\",\"ticks\":\"\",\"title\":{\"standoff\":15},\"zerolinecolor\":\"white\",\"automargin\":true,\"zerolinewidth\":2},\"yaxis\":{\"gridcolor\":\"white\",\"linecolor\":\"white\",\"ticks\":\"\",\"title\":{\"standoff\":15},\"zerolinecolor\":\"white\",\"automargin\":true,\"zerolinewidth\":2},\"scene\":{\"xaxis\":{\"backgroundcolor\":\"#E5ECF6\",\"gridcolor\":\"white\",\"linecolor\":\"white\",\"showbackground\":true,\"ticks\":\"\",\"zerolinecolor\":\"white\",\"gridwidth\":2},\"yaxis\":{\"backgroundcolor\":\"#E5ECF6\",\"gridcolor\":\"white\",\"linecolor\":\"white\",\"showbackground\":true,\"ticks\":\"\",\"zerolinecolor\":\"white\",\"gridwidth\":2},\"zaxis\":{\"backgroundcolor\":\"#E5ECF6\",\"gridcolor\":\"white\",\"linecolor\":\"white\",\"showbackground\":true,\"ticks\":\"\",\"zerolinecolor\":\"white\",\"gridwidth\":2}},\"shapedefaults\":{\"line\":{\"color\":\"#2a3f5f\"}},\"annotationdefaults\":{\"arrowcolor\":\"#2a3f5f\",\"arrowhead\":0,\"arrowwidth\":1},\"geo\":{\"bgcolor\":\"white\",\"landcolor\":\"#E5ECF6\",\"subunitcolor\":\"white\",\"showland\":true,\"showlakes\":true,\"lakecolor\":\"white\"},\"title\":{\"x\":0.05},\"mapbox\":{\"style\":\"light\"}}},\"xaxis\":{\"anchor\":\"y\",\"domain\":[0.0,1.0],\"scaleanchor\":\"y\",\"constrain\":\"domain\"},\"yaxis\":{\"anchor\":\"x\",\"domain\":[0.0,1.0],\"autorange\":\"reversed\",\"constrain\":\"domain\"},\"coloraxis\":{\"colorscale\":[[0.0,\"#0d0887\"],[0.1111111111111111,\"#46039f\"],[0.2222222222222222,\"#7201a8\"],[0.3333333333333333,\"#9c179e\"],[0.4444444444444444,\"#bd3786\"],[0.5555555555555556,\"#d8576b\"],[0.6666666666666666,\"#ed7953\"],[0.7777777777777778,\"#fb9f3a\"],[0.8888888888888888,\"#fdca26\"],[1.0,\"#f0f921\"]]},\"margin\":{\"t\":60}},                        {\"responsive\": true}                    ).then(function(){\n",
       "                            \n",
       "var gd = document.getElementById('d5772c28-b7af-4d77-8ad5-1c45b443a2ef');\n",
       "var x = new MutationObserver(function (mutations, observer) {{\n",
       "        var display = window.getComputedStyle(gd).display;\n",
       "        if (!display || display === 'none') {{\n",
       "            console.log([gd, 'removed!']);\n",
       "            Plotly.purge(gd);\n",
       "            observer.disconnect();\n",
       "        }}\n",
       "}});\n",
       "\n",
       "// Listen for the removal of the full notebook cells\n",
       "var notebookContainer = gd.closest('#notebook-container');\n",
       "if (notebookContainer) {{\n",
       "    x.observe(notebookContainer, {childList: true});\n",
       "}}\n",
       "\n",
       "// Listen for the clearing of the current output cell\n",
       "var outputEl = gd.closest('.output');\n",
       "if (outputEl) {{\n",
       "    x.observe(outputEl, {childList: true});\n",
       "}}\n",
       "\n",
       "                        })                };                });            </script>        </div>"
      ]
     },
     "metadata": {},
     "output_type": "display_data"
    },
    {
     "data": {
      "text/markdown": [
       "## Missing Matrix:"
      ],
      "text/plain": [
       "<IPython.core.display.Markdown object>"
      ]
     },
     "metadata": {},
     "output_type": "display_data"
    },
    {
     "data": {
      "image/png": "[encoded data removed]",
      "text/plain": [
       "<Figure size 1080x720 with 1 Axes>"
      ]
     },
     "metadata": {
      "needs_background": "light"
     },
     "output_type": "display_data"
    }
   ],
   "source": [
    "profile_df(limpieza(df_retail))"
   ]
  },
  {
   "cell_type": "markdown",
   "metadata": {
    "cell_id": "00028-b5630b67-565d-42f3-a387-f67a80dda8ea",
    "deepnote_cell_height": 61.03334045410156,
    "deepnote_cell_type": "markdown",
    "id": "dkyp81nkBghF"
   },
   "source": [
    "### 1.2.4 Obtención de TOPs [0.75 ptos]"
   ]
  },
  {
   "cell_type": "markdown",
   "metadata": {
    "cell_id": "00029-71382778-46fe-4d49-9481-afec1667525a",
    "deepnote_cell_height": 177.43333435058594,
    "deepnote_cell_type": "markdown",
    "id": "FqWpKnmn6W0y"
   },
   "source": [
    "Sin considerar los comentarios realizados en la sección 1.2 , *Don Mora* les pide obtener el **Top de 30 productos que generan más ganancias** para la tienda de retail. Deben considerar todo el registro temporal presente en el dataset y entregar la información en un gráfico de barras de los ingresos/cantidades v/s el nombre de los productos (Utilice `plotly`). ¿Los artículos más vendidos son los mismos que generan más ganancias?, Comente los resultados obtenidos.\n",
    "\n",
    "**Resultados:**"
   ]
  },
  {
   "cell_type": "code",
   "execution_count": null,
   "metadata": {
    "cell_id": "00029-6e40375f-f1de-4643-8460-b3b2f74ec335",
    "deepnote_cell_height": 65.03334045410156,
    "deepnote_cell_type": "code",
    "tags": []
   },
   "outputs": [],
   "source": [
    "> Código Aquí"
   ]
  },
  {
   "cell_type": "markdown",
   "metadata": {
    "cell_id": "00032-61832905-3832-49f7-884b-4ffdd1045252",
    "deepnote_cell_height": 61.03334045410156,
    "deepnote_cell_type": "markdown",
    "tags": []
   },
   "source": [
    "### 1.2.5 Visualización del registro temporal [0,75 ptos]"
   ]
  },
  {
   "cell_type": "markdown",
   "metadata": {
    "cell_id": "00033-7886e714-8ad0-4387-b204-9d01f927df14",
    "deepnote_cell_height": 118.63333129882812,
    "deepnote_cell_type": "markdown",
    "tags": []
   },
   "source": [
    "El dueño del retail en su afán por saber más sobre los datos de su firma les solicita que grafiquen las ventas respecto al tiempo. Con esto les aclara que durante el día tienen muchas variaciones en sus ventas, por lo que les recomienda que consideren el registro temporal como `año-mes-día`. ¿Es posible observar datos extraños?, Comente lo que observa del gráfico."
   ]
  },
  {
   "cell_type": "code",
   "execution_count": null,
   "metadata": {
    "cell_id": "00034-de869967-0472-43f2-b4c7-63ec649e6447",
    "deepnote_cell_height": 98.03334045410156,
    "deepnote_cell_type": "code",
    "deepnote_to_be_reexecuted": false,
    "execution_millis": 1,
    "execution_start": 1634274396771,
    "id": "SBr7gQOAkmGV",
    "source_hash": "1c692b9d"
   },
   "outputs": [],
   "source": [
    "def plot_ventas(dataframe):\n",
    "    pass"
   ]
  },
  {
   "cell_type": "markdown",
   "metadata": {
    "cell_id": "00043-719d1a35-6773-42d7-8f88-1cc37eda7a1b",
    "deepnote_cell_height": 491.23333740234375,
    "deepnote_cell_type": "markdown",
    "id": "Rg4ZMq8ezAH6"
   },
   "source": [
    "# Conclusión\n",
    "Eso ha sido todo para el lab de hoy, recuerden que el laboratorio tiene un plazo de entrega de una semana y que **los días de atraso no se pueden utilizar para entregas de lab** solo para tareas. Cualquier duda del laboratorio, no duden en contactarnos por mail o U-cursos.\n",
    "\n",
    "![Gracias Totales!](https://i.pinimg.com/originals/65/ae/27/65ae270df87c3c4adcea997e48f60852.gif \"bruno\")\n"
   ]
  },
  {
   "cell_type": "markdown",
   "metadata": {
    "cell_id": "00044-b636da8f-c28b-4f2c-894e-1326a421926b",
    "deepnote_cell_height": 170.4499969482422,
    "deepnote_cell_type": "markdown",
    "id": "wCL1lACBzAH7"
   },
   "source": [
    "<br>\n",
    "<center>\n",
    "<img src=\"https://i.kym-cdn.com/photos/images/original/001/194/195/b18.png\" width=100 height=50 />\n",
    "</center>\n",
    "<br>"
   ]
  },
  {
   "cell_type": "markdown",
   "metadata": {
    "created_in_deepnote_cell": true,
    "deepnote_cell_type": "markdown",
    "tags": []
   },
   "source": [
    "<a style='text-decoration:none;line-height:16px;display:flex;color:#5B5B62;padding:10px;justify-content:end;' href='https://deepnote.com?utm_source=created-in-deepnote-cell&projectId=87110296-876e-426f-b91d-aaf681223468' target=\"_blank\">\n",
    "<img alt='Created in deepnote.com' style='display:inline;max-height:16px;margin:0px;margin-right:7.5px;' src='data:image/svg+xml;base64,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' > </img>\n",
    "Created in <span style='font-weight:600;margin-left:4px;'>Deepnote</span></a>"
   ]
  }
 ],
 "metadata": {
  "colab": {
   "collapsed_sections": [
    "Rcjs-dd1V-1u",
    "dkyp81nkBghF",
    "THmFfYs1AhAW"
   ],
   "name": "Copia de Tarea1.ipynb",
   "provenance": [],
   "toc_visible": true
  },
  "deepnote": {},
  "deepnote_execution_queue": [],
  "deepnote_notebook_id": "15b5ce14-e074-4f33-9c56-8f169cc96a69",
  "kernelspec": {
   "display_name": "Python 3",
   "language": "python",
   "name": "python3"
  },
  "language_info": {
   "codemirror_mode": {
    "name": "ipython",
    "version": 3
   },
   "file_extension": ".py",
   "mimetype": "text/x-python",
   "name": "python",
   "nbconvert_exporter": "python",
   "pygments_lexer": "ipython3",
   "version": "3.8.12"
  },
  "toc": {
   "base_numbering": 1,
   "nav_menu": {},
   "number_sections": true,
   "sideBar": true,
   "skip_h1_title": true,
   "title_cell": "Tabla de Contenidos",
   "title_sidebar": "Contenidos",
   "toc_cell": false,
   "toc_position": {
    "height": "calc(100% - 180px)",
    "left": "10px",
    "top": "150px",
    "width": "241.867px"
   },
   "toc_section_display": true,
   "toc_window_display": true
  },
  "varInspector": {
   "cols": {
    "lenName": 16,
    "lenType": 16,
    "lenVar": 40
   },
   "kernels_config": {
    "python": {
     "delete_cmd_postfix": "",
     "delete_cmd_prefix": "del ",
     "library": "var_list.py",
     "varRefreshCmd": "print(var_dic_list())"
    },
    "r": {
     "delete_cmd_postfix": ") ",
     "delete_cmd_prefix": "rm(",
     "library": "var_list.r",
     "varRefreshCmd": "cat(var_dic_list()) "
    }
   },
   "types_to_exclude": [
    "module",
    "function",
    "builtin_function_or_method",
    "instance",
    "_Feature"
   ],
   "window_display": false
  }
 },
 "nbformat": 4,
 "nbformat_minor": 1
}
