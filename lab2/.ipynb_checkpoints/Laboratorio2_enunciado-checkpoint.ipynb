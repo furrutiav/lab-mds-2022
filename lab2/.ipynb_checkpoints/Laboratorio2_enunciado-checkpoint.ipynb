{
 "cells": [
  {
   "cell_type": "markdown",
   "metadata": {
    "cell_id": "bbfd8dfd-1e65-4eed-be14-0d9674ab1635",
    "deepnote_cell_height": 104.390625,
    "deepnote_cell_type": "markdown",
    "id": "XUZ1dFPHzAHl"
   },
   "source": [
    "<h1><center>Laboratorio 2: Imagenes 📷</center></h1>\n",
    "\n",
    "<center><strong>MDS7202: Laboratorio de Programación Científica para Ciencia de Datos</strong></center>"
   ]
  },
  {
   "cell_type": "markdown",
   "metadata": {
    "cell_id": "00001-5957f763-40e9-47c9-812a-4cf89b9e0597",
    "deepnote_cell_height": 289.1875,
    "deepnote_cell_type": "markdown",
    "id": "UD8X1uhGzAHq"
   },
   "source": [
    "### Cuerpo Docente:\n",
    "\n",
    "- Profesor: Pablo Badilla\n",
    "- Auxiliar: Ignacio Meza D.\n",
    "- Ayudante: Patricio Ortiz"
   ]
  },
  {
   "cell_type": "markdown",
   "metadata": {
    "cell_id": "00002-86162dbd-bfd2-4ac4-ae00-709b91435f28",
    "deepnote_cell_height": 139.796875,
    "deepnote_cell_type": "markdown",
    "id": "tXflExjqzAHr"
   },
   "source": [
    "### Equipo: SUPER IMPORTANTE - notebooks sin nombre no serán revisados\n",
    "\n",
    "- Nombre de alumno 1: Felipe Urrutia\n",
    "- Nombre de alumno 2: Sebastián Avendaño\n"
   ]
  },
  {
   "cell_type": "markdown",
   "metadata": {
    "cell_id": "00003-169b403f-4345-47a6-b5f1-ee980f7cba57",
    "deepnote_cell_height": 62,
    "deepnote_cell_type": "markdown",
    "id": "AD-V0bbZzAHr"
   },
   "source": [
    "### **Link de repositorio de GitHub:** https://github.com/abeldano/labs-mds7202"
   ]
  },
  {
   "cell_type": "markdown",
   "metadata": {
    "cell_id": "00004-d896609f-4540-4d2b-a856-f0c9a91a0845",
    "deepnote_cell_height": 241.390625,
    "deepnote_cell_type": "markdown",
    "tags": []
   },
   "source": [
    "### Reglas:\n",
    "\n",
    "- Fecha de entrega: 24 de septiembre (atrasos hasta el 27 de septiembre, 1 pto de descuento por día)\n",
    "- **Grupos de 2 personas**\n",
    "- **Ausentes** deberán realizar la actividad solos. \n",
    "- Cualquier duda fuera del horario de clases al foro. Mensajes al equipo docente serán respondidos por este medio.\n",
    "- Prohibidas las copias. \n",
    "- Pueden usar cualquer matrial del curso que estimen conveniente.\n"
   ]
  },
  {
   "cell_type": "markdown",
   "metadata": {
    "cell_id": "00005-c3a48bb0-725a-4a14-b389-ee244eb4493d",
    "deepnote_cell_height": 165.1875,
    "deepnote_cell_type": "markdown",
    "id": "6uBLPj1PzAHs"
   },
   "source": [
    "### Temas a tratar:\n",
    "\n",
    "- Programación Orientada a Objetos.\n",
    "- Programación Funcional.\n",
    "- `Numpy` para manejo de datos en arreglos/tensores.\n",
    "\n",
    "\n"
   ]
  },
  {
   "cell_type": "markdown",
   "metadata": {
    "cell_id": "00006-82e89059-1683-4e29-85a8-1b96666c9a51",
    "deepnote_cell_height": 316.59375,
    "deepnote_cell_type": "markdown",
    "tags": []
   },
   "source": [
    "### Objetivos principales del laboratorio\n",
    "\n",
    "- Aplicar los paradigmas y buenas prácticas de programación vistas hasta este momento.\n",
    "- Comprender y aprovechar las ventajas que nos ofrece la liberia `numpy` con respecto a trabajar en Python 'puro'.\n",
    "- Visualizar aplicaciones de filtros de imágenes sin el uso de librerías.\n",
    "- Verificar que el uso indiscriminado de `for` puede afectar en la eficiencia en al procesar datos masivos.\n",
    "\n",
    "\n",
    "El laboratorio deberá ser desarrollado **sin el uso indiscriminado de iteradores nativos de python (aka \"for\", \"while\")**. La idea es que aprendan a exprimir al máximo las funciones optimizadas que nos entrega `numpy`, las cuales vale mencionar, son bastante más eficientes que los iteradores nativos sobre arreglos.\n",
    "\n",
    "El lab estará basado en algunos conceptos básicos de procesamiento de imágenes, por lo que te iremos guiando, paso a paso por cada uno de los tópicos a desarrollar."
   ]
  },
  {
   "cell_type": "markdown",
   "metadata": {
    "cell_id": "00007-50cbb32d-ebcd-40fe-9aaa-f9e62fe8f28e",
    "deepnote_cell_height": 70,
    "deepnote_cell_type": "markdown",
    "id": "wrG4gYabzAHs"
   },
   "source": [
    "## Descripción del laboratorio."
   ]
  },
  {
   "cell_type": "markdown",
   "metadata": {
    "cell_id": "00008-bff4fc80-afd1-4fbb-bc99-34df76f35332",
    "deepnote_cell_height": 577.984375,
    "deepnote_cell_type": "markdown",
    "id": "VCXbuI5FzAHs"
   },
   "source": [
    "En Data Science son múltiples las aplicaciones que exigen el uso exhaustivo de listas de varias dimensiones. Estas entidad reciben formalmente el nombre de **arreglos o tensores**.\n",
    "\n",
    "Pensemos en que queremos almacenar objetos en un casillero común y corriente: podemos pensar que este puede ser representado por una matriz de dos dimensiones: alto y ancho. ¿Que sucederá si este casillero nos queda pequeño y queremos guardar más información del mismo tipo?: La solución es simple es agregar otro casillero. Esto puede ser pensado como el aumento de la dimensión de nuestro objeto, pasando a ser ahora (alto, ancho, id casillero). Esto no es otra cosa que un **tensor de 3 dimensiones**.\n",
    "\n",
    "<br>\n",
    "<center>\n",
    "<img src=\"https://drive.google.com/uc?export=view&id=1tb7popMBUSSj4YzD-Ypytoo6n7PbXzuJ\" width=300 height=300 />\n",
    "</center>\n",
    "<br>"
   ]
  },
  {
   "cell_type": "markdown",
   "metadata": {
    "cell_id": "00009-303050bb-7a9a-4f6b-a093-f410df7293c5",
    "deepnote_cell_height": 461.15625,
    "deepnote_cell_type": "markdown",
    "id": "nMHGLtrjzAHt"
   },
   "source": [
    "### ¿Bueno y que tiene que ver todo esto con las imágenes?\n",
    "\n",
    "Una imagen es una representación visual de una matriz que contiene de números que describen intensidades de color (llamados píxeles). Esto visto desde la perspectiva de una imagen en blanco y negro, vendria siendo una matriz que reune las diferentes intensidades de los pixeles desde 0 a 255.\n",
    "\n",
    "<br>\n",
    "<center>\n",
    "<img src=\"https://miro.medium.com/max/1386/1*bV7S0zACdidh11ikjYpLpQ.png\" width=500 height=500 alt=\"Representación de una imagen\" />\n",
    "</center>\n",
    "<br>"
   ]
  },
  {
   "cell_type": "markdown",
   "metadata": {
    "cell_id": "00010-89e7ba7c-87ec-45fe-a92a-49ed2e3aa9b1",
    "deepnote_cell_height": 487.78125,
    "deepnote_cell_type": "markdown",
    "id": "yNQ3QC-azAHt"
   },
   "source": [
    "Cuando las imágenes poseen colores, las imágenes vendrían siendo \"sin querer queriendo\", una bella representación de lo que es un tensor: estas pueden ser representadas por un tensor de 3 dimensiones que les dan el *ancho, alto y el canal*, en donde son alojados los colores de la imagen.\n",
    "\n",
    "<br>\n",
    "<center>\n",
    "<img src=\"https://miro.medium.com/max/2146/1*icINeO4H7UKe3NlU1fXqlA.jpeg\" width=300 height=300 alt=\"Representación de una imagen\" />\n",
    "</center>\n",
    "<br>\n",
    "\n",
    "Como pueden ver, la imagen puede ser interpretada como un tensor de tres dimensiones(un ancho, un alto y la intensidad de cada color) en el a cada posición $(i,j)$ de la imagen, le asociaremos 3 intensidades de colores RGB (Rojo, Verde y Azul). Estas intensidades irán desde el $0$ al $255$. La combinación de estos 3 canales nos permitirá representar gran parte de los colores que encontramos en la naturaleza."
   ]
  },
  {
   "cell_type": "markdown",
   "metadata": {
    "cell_id": "00011-c60cffa2-77e3-43eb-b16c-b00411fc83e2",
    "deepnote_cell_height": 52.390625,
    "deepnote_cell_type": "markdown",
    "id": "NY8B9cZCGXM0"
   },
   "source": [
    "**Instalar paquetes: Si están usando conda**\n"
   ]
  },
  {
   "cell_type": "code",
   "execution_count": null,
   "metadata": {
    "cell_id": "00012-5f8f8c23-94c1-4e0b-8337-836196e83742",
    "deepnote_cell_height": 148,
    "deepnote_cell_type": "code",
    "deepnote_to_be_reexecuted": false,
    "execution_millis": 615,
    "execution_start": 1649390595713,
    "id": "bdo4LdNvGXM0",
    "source_hash": "4fe19af5"
   },
   "outputs": [],
   "source": [
    "import sys\n",
    "\n",
    "!conda install --yes --prefix {sys.prefix} pillow plotly imageio"
   ]
  },
  {
   "cell_type": "markdown",
   "metadata": {
    "cell_id": "00013-f18065aa-1b72-47f3-9fd9-d7ebb6e61097",
    "deepnote_cell_height": 52.390625,
    "deepnote_cell_type": "markdown",
    "id": "wBoQtPFpGXM1"
   },
   "source": [
    "**Instalar paquetes: Si están usando pip**\n"
   ]
  },
  {
   "cell_type": "code",
   "execution_count": null,
   "metadata": {
    "cell_id": "00014-4f8ce0a6-4d81-422d-a52a-463b6891be94",
    "colab": {
     "base_uri": "https://localhost:8080/"
    },
    "deepnote_cell_height": 312.796875,
    "deepnote_cell_type": "code",
    "deepnote_to_be_reexecuted": false,
    "execution_millis": 3440,
    "execution_start": 1649390596332,
    "id": "GWPEzmMfGXM2",
    "outputId": "653cd487-1205-42b5-d897-ddecacd89723",
    "scrolled": true,
    "source_hash": "509e3204"
   },
   "outputs": [],
   "source": [
    "import sys\n",
    "\n",
    "!{sys.executable} -m pip install pillow plotly imageio"
   ]
  },
  {
   "cell_type": "markdown",
   "metadata": {
    "cell_id": "00015-fa1c106a-ae0e-4320-8517-53aa0e7e72f9",
    "deepnote_cell_height": 52.390625,
    "deepnote_cell_type": "markdown",
    "id": "qVvdr3KWI44v"
   },
   "source": [
    "**En caso de trabajar con colab:**"
   ]
  },
  {
   "cell_type": "code",
   "execution_count": null,
   "metadata": {
    "cell_id": "00016-d6eb4b21-fb99-40a2-8c1d-7684f66b662e",
    "colab": {
     "base_uri": "https://localhost:8080/"
    },
    "deepnote_cell_height": 220,
    "deepnote_cell_type": "code",
    "deepnote_to_be_reexecuted": false,
    "execution_millis": 432,
    "execution_start": 1649390599353,
    "id": "oK0F0SbjI5JJ",
    "outputId": "92c67b57-21dc-41d0-8cc2-40dfce78b36b",
    "source_hash": "96d22ffd"
   },
   "outputs": [],
   "source": [
    "try:\n",
    "    from google.colab import drive\n",
    "\n",
    "    drive.mount(\"/content/drive\")\n",
    "    path = \"/content/drive/My Drive/CuerpoDocente/Laboratorios/Lab1-Numpy/\"\n",
    "except: \n",
    "    print('Ignorando conexión drive-colab')"
   ]
  },
  {
   "cell_type": "code",
   "execution_count": null,
   "metadata": {
    "cell_id": "00017-ad12275e-b8e5-474d-bf54-c29b96b1e916",
    "colab": {
     "background_save": true,
     "base_uri": "https://localhost:8080/",
     "height": 542
    },
    "deepnote_cell_height": 876,
    "deepnote_cell_type": "code",
    "deepnote_output_heights": [
     527
    ],
    "deepnote_to_be_reexecuted": false,
    "execution_millis": 1810,
    "execution_start": 1649390599403,
    "id": "Q12jiQo6zAHu",
    "outputId": "a44d8b21-3c0a-48c8-971e-53ff315bda48",
    "source_hash": "e5888155"
   },
   "outputs": [],
   "source": [
    "# En este lab usaremos adicionalmente pillow, una estupenda librería \n",
    "# para manejar imágenes.\n",
    "# https://pillow.readthedocs.io/en/stable/\n",
    "\n",
    "from PIL import Image\n",
    "import numpy as np\n",
    "import plotly.express as px\n",
    "\n",
    "foto = np.array(Image.open(\"./images_lab/cobija.PNG\").convert(\"RGB\"))\n",
    "\n",
    "# Solo para ejemplificar, usaremos plotly (NO USARLO EN LO QUE QUEDA DEL LAB). \n",
    "# Pero en el restro del laboratorio, matplotlib debe ser usado\n",
    "\n",
    "fig = px.imshow(foto)\n",
    "fig.show()"
   ]
  },
  {
   "cell_type": "markdown",
   "metadata": {
    "cell_id": "00018-88162806-f9cf-4bab-8a7c-f748a75b5218",
    "deepnote_cell_height": 52.390625,
    "deepnote_cell_type": "markdown",
    "id": "63I9Na8OzAHv"
   },
   "source": [
    "Luego, llamando la variable donde alojamos el array podemos ver los valores que componen a esta imagen."
   ]
  },
  {
   "cell_type": "code",
   "execution_count": null,
   "metadata": {
    "cell_id": "00019-737f5c86-be3b-4ebb-8e6d-d2788de3f879",
    "colab": {
     "base_uri": "https://localhost:8080/"
    },
    "deepnote_cell_height": 150,
    "deepnote_cell_type": "code",
    "deepnote_to_be_reexecuted": false,
    "execution_millis": 3697401,
    "execution_start": 1649390601207,
    "id": "RWc68bMGGXM3",
    "outputId": "d2ad45f1-44db-42f4-c0b5-576ae76a2d88",
    "scrolled": true,
    "source_hash": "b68dfc0f"
   },
   "outputs": [],
   "source": [
    "print(f'Número de dimensiones: {foto.ndim}')\n",
    "print(f'Número de elementos por dimensión: {foto.shape}')"
   ]
  },
  {
   "cell_type": "markdown",
   "metadata": {
    "cell_id": "00020-1c76ac07-0845-42ad-a092-857687a43c44",
    "deepnote_cell_height": 52.390625,
    "deepnote_cell_type": "markdown",
    "id": "F9F1g0gAzAHw"
   },
   "source": [
    "Finalmente visualizamos de forma aleatoria los pixeles de cada canal para mostrar sus intensidades."
   ]
  },
  {
   "cell_type": "code",
   "execution_count": null,
   "metadata": {
    "cell_id": "00021-12e2aebf-8478-4f2a-9de5-5df83deec92b",
    "colab": {
     "base_uri": "https://localhost:8080/"
    },
    "deepnote_cell_height": 188,
    "deepnote_cell_type": "code",
    "deepnote_to_be_reexecuted": false,
    "execution_millis": 3696618,
    "execution_start": 1649390601248,
    "id": "Jyj5I87HzAHw",
    "outputId": "f0067c3d-841e-495b-bfdd-2923677f465e",
    "source_hash": "cef24e8f"
   },
   "outputs": [],
   "source": [
    "print(f\"Ejemplo de pixel (10, 200) en el canal 0 - Red: {foto[10, 200, 0]}\")\n",
    "print(f\"Ejemplo de pixel (10, 200) en el canal 1- Green: {foto[10, 200, 1]}\")\n",
    "print(f\"Ejemplo de pixel (10, 200) en el canal 2- Blue: {foto[10, 200, 2]}\")"
   ]
  },
  {
   "cell_type": "markdown",
   "metadata": {
    "cell_id": "00022-cb29aadd-234b-4e8a-ab61-d558a310d768",
    "deepnote_cell_height": 713.265625,
    "deepnote_cell_type": "markdown",
    "id": "--KvQcDQzAHw"
   },
   "source": [
    "Con lo anterior, suponiendo que la imagen del \"gatito\" tiene una altura igual a 600 y un ancho de 400, el tensor $G$ que representa a la imagen vendrá dado por $G[600, 400, 3]$. \n",
    "\n",
    "### Videos\n",
    "\n",
    "Luego, si queremos complejizar aún mas esto y queremos tener tensores que agrupen un conjunto de imágenes (de igual tamaño) tendremos lo siguiente:\n",
    "\n",
    "\n",
    "<br>\n",
    "<center>\n",
    "<img src=\"https://encrypted-tbn0.gstatic.com/images?q=tbn:ANd9GcRk4BWrH_xi_blsx9Y32OTT8k80vI90udG-Yg&usqp=CAU\" width=300 height=300 alt=\"Representación de una imagen\" />\n",
    "</center>\n",
    "<br>\n",
    "\n",
    "Este conjunto de imágenes nos generará la necesidad de producir una nueva dimensión, esto producto que las dimensiones son los espacios donde alojamos la información, por esto al conjunto de imágenes le agregaremos una dimensión que identifica cada una de las imágenes del conjunto, quedando representada por el tensor $G[0:n_d, 600, 400, 3]$. Por lo general, cuando tenemos imágenes con dimensionalidad 4 es porque se tratan de videos, o sea una secuencia de imágenes; el caso se complejiza aún más cuando agregamos sonido y esto se va a las pailas.\n",
    "\n",
    "<blockquote>Dato:\n",
    "La representación que posee cada una de las dimensiones puede cambiar dependiendo de la librería utilizada, en pytorch por ejemplo las dimensiones de una imagen vienen dadas por [batch, canales, alto, ancho] y no [batch, alto, ancho, canales] como en numpy.\n",
    "</blockquote>\n"
   ]
  },
  {
   "cell_type": "markdown",
   "metadata": {
    "cell_id": "00023-8ab4cada-ff63-4fae-a22c-5a73ee6353cd",
    "deepnote_cell_height": 935.640625,
    "deepnote_cell_type": "markdown",
    "id": "wJWXUSARGXM4"
   },
   "source": [
    "### ¿Ya, pero esto tiene aplicaciones más allá de guardar información en casilleros?\n",
    "\n",
    "Para el caso de imágenes podemos encontrar múltiples aplicaciones con la manipulación de los tensores y operando matemáticamente con ellos. Algunas de las aplicaciones más conocidas (y que aplicaremos) son las siguientes:\n",
    "\n",
    "- **Obtener el negativo de una imagen**: Consiste en obtener el color complementario de una imagen, para esto debemos restar la imagen con la máxima intensidad que podemos encontrar en una imagen (o sea 255).\n",
    "    \n",
    "    \n",
    "- **Pasar a escala de grises una imagen**: Los valores RGB se convierten a escala de grises mediante la fórmula NTSC: \n",
    "\n",
    "    $$ imagen\\_gris = 0.299 * Rojo + 0.587 * Verde + 0.114 * Azul $$\n",
    "    \n",
    "    Esta fórmula representa la percepción relativa de la persona promedio del brillo de la luz roja, verde y azul.\n",
    "    \n",
    "    \n",
    "- **Mejora de contraste**: Son múltiples las técnicas que nos permiten mejorar el contraste de una imagen, pero, una técnica simple para modificar los contrastes consta en obtener un factor de corrección llamado F en base al contraste deseado (C). Luego, es aplicado en la diferencia entre la imagen y 128. De esta forma obtenemos R, que es la imagen con la mejora de contraste deseada.\n",
    "\n",
    "    $$ F=259*(C+255)/(255*(259-C)) $$\n",
    "    $$ R=F*(img-128)+128 $$\n",
    "  \n",
    "  \n",
    "- **Convolución**: Consiste en recorrer una imagen por cada uno de sus canales utilizando una matriz que lleva por nombre Kernel. El kernel, examinará los conjuntos de pixeles que recorre, aplicando una multiplicación de los valores circundantes ,y sumando todos los valores generados de este producto para generar un nuevo pixel en el tensor de salida.\n",
    "\n",
    "![conv](https://media3.giphy.com/media/i4NjAwytgIRDW/giphy.gif \"miracomorecorre\")"
   ]
  },
  {
   "cell_type": "markdown",
   "metadata": {
    "cell_id": "00024-d7c379a0-d938-43a7-8abf-cdd91b084e44",
    "deepnote_cell_height": 83,
    "deepnote_cell_type": "markdown",
    "id": "6R4LylbDzAHx"
   },
   "source": [
    "---\n",
    "\n",
    "# Desarrollo"
   ]
  },
  {
   "cell_type": "markdown",
   "metadata": {
    "cell_id": "00025-fdb12bf6-f417-496c-98f4-51ef3429edfe",
    "deepnote_cell_height": 119.59375,
    "deepnote_cell_type": "markdown",
    "id": "JGaG_HSuzAHx"
   },
   "source": [
    "En base a lo explicado y visto en clases, a continuación, deben construir cada uno de los programas solicitados en las actividades señaladas más abajo. Estás, deben ser desarrollados de forma grupal (**2 personas por grupo**) y, la solución no debe ser compartida con personas externas al grupo; si se detecta que dos grupos entregan el mismo trabajo, será considerado plagio y se tomaran medidas al respecto."
   ]
  },
  {
   "cell_type": "markdown",
   "metadata": {
    "cell_id": "00026-70bb9adf-9d35-46ca-bb2f-cc7a0f484ccb",
    "deepnote_cell_height": 70,
    "deepnote_cell_type": "markdown",
    "id": "qhNBRbFWzAHy"
   },
   "source": [
    "## 2. Creación de Clases y Funciones."
   ]
  },
  {
   "cell_type": "markdown",
   "metadata": {
    "cell_id": "00027-37f5aa26-5571-4a57-a05c-ebdb130a4c71",
    "deepnote_cell_height": 54,
    "deepnote_cell_type": "markdown",
    "id": "MhISwri4zAHy"
   },
   "source": [
    "#### Importamos librerias utiles 😸"
   ]
  },
  {
   "cell_type": "code",
   "execution_count": null,
   "metadata": {},
   "outputs": [],
   "source": [
    "!pip install matplotlib"
   ]
  },
  {
   "cell_type": "code",
   "execution_count": null,
   "metadata": {
    "cell_id": "00028-89e66a37-1923-4100-b760-5a41978ae5e3",
    "deepnote_cell_height": 369,
    "deepnote_cell_type": "code",
    "deepnote_to_be_reexecuted": false,
    "execution_millis": 1829,
    "execution_start": 1649390601248,
    "id": "uyc33dKdzAHy",
    "source_hash": "8c85054c"
   },
   "outputs": [],
   "source": [
    "# Libreria Core del lab.\n",
    "import numpy as np\n",
    "from pathlib import Path\n",
    "\n",
    "# Librerias para graficar\n",
    "import matplotlib.pyplot as plt \n",
    "\n",
    "# Nota: Utilizar solo matplot para este lab. NO USAR PLOTLY, \n",
    "# ya que tiene problemas de compatibilidad con imagenes\n",
    "\n",
    "# Funcionalidades dependientes del Sistema Operativo.\n",
    "import os\n",
    "\n",
    "# Librerias utiles para cargar y generar Gifs\n",
    "import imageio\n",
    "from PIL import Image\n",
    "from scipy.signal import convolve2d"
   ]
  },
  {
   "cell_type": "markdown",
   "metadata": {
    "cell_id": "00029-b9aff0b4-06f9-4ace-abfd-f71ee1bcda1b",
    "deepnote_cell_height": 62,
    "deepnote_cell_type": "markdown",
    "id": "tUVO-0qBzAHy"
   },
   "source": [
    "### 2.1. Carga de imagenes y visualización"
   ]
  },
  {
   "cell_type": "markdown",
   "metadata": {
    "cell_id": "00030-4a063c83-2a0e-477c-bd15-b0c48e169d2e",
    "deepnote_cell_height": 133.59375,
    "deepnote_cell_type": "markdown",
    "id": "oAvlZriZzAHy"
   },
   "source": [
    "Descomprima el archivo \"images_lab.zip\" en algún directorio de su computador o plataforma, observen las imágenes y clasifíquenlas a su gusto, para luego en un diccionario cargar y agrupar las diferentes imágenes (no cree mas de tres llaves).\n",
    "\n",
    "Hecho esto, visualize dos imágenes y verifique la dimensionalidad de estas imágenes con el comando *.shape*. Comente la dimensionalidad de las imágenes."
   ]
  },
  {
   "cell_type": "markdown",
   "metadata": {
    "cell_id": "00031-24a1327e-1f13-4b9e-bcc2-e179b350f5f0",
    "deepnote_cell_height": 136.796875,
    "deepnote_cell_type": "markdown",
    "id": "4aOic4qDzAHz"
   },
   "source": [
    "### Carga de imagenes en diccionarios\n",
    "\n",
    "Las siguientes celdas de código le permitirá cargar las imágenes que utilizaremos durante este laboratorio.\n",
    "\n",
    "La primera celda implementa la función `from_jpg`, la cual, dado una ruta, carga una imágen:\n"
   ]
  },
  {
   "cell_type": "code",
   "execution_count": null,
   "metadata": {
    "cell_id": "00032-61b8756b-c0ad-4c56-8f82-280da8574f31",
    "deepnote_cell_height": 153,
    "deepnote_cell_type": "code",
    "deepnote_to_be_reexecuted": false,
    "execution_millis": 4,
    "execution_start": 1649390603079,
    "id": "Cz3zwrcszAHz",
    "source_hash": "4d34909a"
   },
   "outputs": [],
   "source": [
    "def from_jpg(path):\n",
    "    ruta = Path(path)\n",
    "    image = np.array(Image.open(ruta), dtype='int')\n",
    "    return image\n"
   ]
  },
  {
   "cell_type": "markdown",
   "metadata": {
    "cell_id": "00033-91ee362f-b1cb-4b9f-8187-4c859ceb7d6b",
    "deepnote_cell_height": 52.390625,
    "deepnote_cell_type": "markdown",
    "tags": []
   },
   "source": [
    "La segunda celda carga las imágenes y las guarda en un diccionario. "
   ]
  },
  {
   "cell_type": "code",
   "execution_count": null,
   "metadata": {
    "cell_id": "00034-d3a9ae27-ee24-4429-82ab-5fb4da10a3b7",
    "deepnote_cell_height": 279,
    "deepnote_cell_type": "code",
    "deepnote_to_be_reexecuted": false,
    "execution_millis": 184,
    "execution_start": 1649390603084,
    "source_hash": "bda59e07",
    "tags": []
   },
   "outputs": [],
   "source": [
    "images = {\n",
    "    \"gatitos\": [\n",
    "        from_jpg(\"./images_lab/gato1.jpg\"),\n",
    "        from_jpg(\"./images_lab/gato2.jpg\"),\n",
    "        from_jpg(\"./images_lab/gato4.jpg\"),\n",
    "    ],\n",
    "    \"Personas\": [\n",
    "        from_jpg(\"./images_lab/personas.jpg\"),\n",
    "        from_jpg(\"./images_lab/gurus.jpg\"),\n",
    "    ],\n",
    "    \"Monos_chinos\": [from_jpg(\"./images_lab/monitos.jpg\")],\n",
    "}"
   ]
  },
  {
   "cell_type": "markdown",
   "metadata": {
    "cell_id": "00035-113156b8-4019-4589-8ff7-f6ed861eac4d",
    "deepnote_cell_height": 159.1875,
    "deepnote_cell_type": "markdown",
    "id": "xaMh8aqgzAHz"
   },
   "source": [
    "### Plot de imagenes\n",
    "A continuación, utilice la función `def show(imagen)` (definida más abajo) para explorar las imágenes cargadas en la celda anterior.\n",
    "\n",
    "**Respuesta Esperada**:"
   ]
  },
  {
   "cell_type": "code",
   "execution_count": null,
   "metadata": {
    "cell_id": "00036-bedcc27a-0acb-410c-8471-9bb2b40c0260",
    "deepnote_cell_height": 153,
    "deepnote_cell_type": "code",
    "deepnote_to_be_reexecuted": false,
    "execution_millis": 3,
    "execution_start": 1649390603270,
    "id": "8ngZZ4AxzAH0",
    "source_hash": "751c6de6"
   },
   "outputs": [],
   "source": [
    "def show(imagen):\n",
    "    plt.imshow(imagen)\n",
    "    plt.show()\n",
    "    x, y, z = imagen.shape\n",
    "    print(f'Dimensiones de la imagen: {x}x{y} (Alto x Ancho)')"
   ]
  },
  {
   "cell_type": "code",
   "execution_count": null,
   "metadata": {
    "cell_id": "00037-0a09ad08-5f67-43e9-9a76-12a8a9226846",
    "deepnote_cell_height": 415,
    "deepnote_cell_type": "code",
    "deepnote_output_heights": [
     254
    ],
    "deepnote_to_be_reexecuted": false,
    "execution_millis": 347,
    "execution_start": 1649390603276,
    "id": "pEfbIRk9zAH0",
    "outputId": "aa156d33-20ad-4706-bbf3-109dfae8eefa",
    "source_hash": "fe959f96"
   },
   "outputs": [],
   "source": [
    "show(images['Monos_chinos'][0])\n",
    "# usar show para mostrar las otras imágenes..."
   ]
  },
  {
   "cell_type": "markdown",
   "metadata": {
    "cell_id": "00038-6697cf46-ac74-4855-b523-854b25732162",
    "deepnote_cell_height": 62,
    "deepnote_cell_type": "markdown",
    "id": "JCKqwGRgzAH1"
   },
   "source": [
    "### 2.2 Clase imagenes [2 puntos]."
   ]
  },
  {
   "cell_type": "markdown",
   "metadata": {
    "cell_id": "00039-86646884-b1fd-480e-b6bd-d2018a59091c",
    "deepnote_cell_height": 610.796875,
    "deepnote_cell_type": "markdown",
    "id": "C8rLMQmtzAH1"
   },
   "source": [
    "Ahora que sabemos cómo plotear y cargar una imagen, cree una clase llamada \"Imagen\" la que cumpla las siguientes características:\n",
    "\n",
    "- [X] Un constructor que tome como argumento una imagen y que lo guarde como un atributo. `__init__` debe comprobar que la imagen es un arreglo de numpy (con `isinstance`) y adicionalmente que este tiene 3 dimensiones. En caso contrario, debe levantar excepciones con mensajes correspondientes al error detectado (ustedes definen el mensaje). \n",
    "- [X] Implemente el método `show()` que muestre la imagen usando la función `plt.show()`.\n",
    "- [ ] Implemente el método `info()` que retorna un string con las dimensiones de la imagen.\n",
    "- [ ] Sobrecargue el método mágico `__mul__`, `__add__` y `__sub__` para realizar operaciones matemáticas entre el objeto y arrays, int o floats. Realice la función pensando que la operación se puede aplicar tanto para izquierda y derecha. Como estamos trabajando con imágenes los outputs deben ser enteros, por esto se le aconseja utilizar `.astype(int)` para transformar los arrays de salida a un formato legible por matplotlib.\n",
    "- [ ] Es importante que para las operaciones `__add__` y `__sub__` implementen una saturación de las imágenes. Es decir, la suma o resta deben dar como valor máximo 255 y/o como valor mínimos mayores o iguales a 0.\n",
    "- [ ] Para el caso de `__mul__` deben implementar un método que nos permita saturar las imágenes (es decir que los valores del array no sobrepasen 255) y también no nos permita obtener valores inferiores a cero.\n",
    "\n",
    "Implementadas los métodos, compruebe que la funcionalidad es la correcta mediante la ejecución de los asserts incluidos un par de celdas más abajo.\n",
    "\n",
    "> **Notas:** \n",
    "- Pueden reutilizar el código implementado en las celdas anteriores para implementar los métodos `show` e `info` . Sin embargo, No invoquen directamente esas funciones.\n",
    "- La idea es que la imagen contenida en la clase sea inmutable, por ende, todos los metodos que modifiquen la imagen contenida en el objeto deberan retornar un nuevo objeto de la clase `Imagen` que contenga la imagen modificada."
   ]
  },
  {
   "cell_type": "code",
   "execution_count": null,
   "metadata": {
    "cell_id": "09f0113afd8f4d6899c9d7c7d3092b4c",
    "deepnote_cell_height": 2046,
    "deepnote_cell_type": "code",
    "tags": []
   },
   "outputs": [],
   "source": [
    "class Imagen:\n",
    "    \"\"\"Clase contenedora de imágenes\"\"\"\n",
    "    \n",
    "    def __init__(self, img):\n",
    "        if isinstance(img, np.ndarray):\n",
    "            if img.ndim != 3:\n",
    "                raise (\"El argumento debe ser un arreglo de numpy de solo 3 dimensiones\")\n",
    "            if img.shape[-1] != 3:\n",
    "                raise (\n",
    "                    \"El argumento debe ser un arreglo de numpy de solo 3 dimensiones \"\n",
    "                    \"tal que la última dimensión solo tiene 3 canales\"\n",
    "                )\n",
    "            self.data = img\n",
    "        else:\n",
    "            raise TypeError(\n",
    "                \"Debes entregar un arreglo de numpy como argumento del constructor de \"\n",
    "                \"Imagen\"\n",
    "            )\n",
    "\n",
    "    def show(self):\n",
    "        \"\"\"Muestra la imágen contenida en la propiedad imagen usando plotly.\n",
    "        Lo mismo que la función mostrar_imagen.\n",
    "        \"\"\"\n",
    "        plt.imshow(self.data)\n",
    "        plt.show()\n",
    "\n",
    "    def info(self):\n",
    "        \"\"\" Imprime las características de la imagen cargada: Alto y ancho.\n",
    "        \"\"\"\n",
    "        x, y, z = self.data.shape\n",
    "        print(f'Dimensiones de la imagen: {x}x{y} (Alto x Ancho)')\n",
    "\n",
    "    def __add__(self, other):\n",
    "        \"\"\"Redefine la operación + entre imagen y escalar.\n",
    "\n",
    "        # Idea, usar indexado condicial (similar a los filtros de pandas).\n",
    "        # Sumar y luego que en cada pixel mayor a 255 sea asignado el máximo.\n",
    "        # Ver los tests para mas información.\n",
    "\n",
    "        Parameters\n",
    "        ----------\n",
    "        other : Union[int, np.ndarray]\n",
    "            Escalar o arreglo que será sumado a cada pixel de la imagen\n",
    "        \"\"\"\n",
    "        aux=self.data.copy()\n",
    "        aux=aux+other\n",
    "        aux[aux>255]=255\n",
    "        aux[aux<0]=0\n",
    "        return Imagen(aux.astype(int))\n",
    "\n",
    "    def __radd__(self, other):\n",
    "        \"\"\"Operación conmutativa de __add__.\n",
    "\n",
    "        Hint: debería llamar a __add__...\n",
    "\n",
    "        Parameters\n",
    "        ----------\n",
    "        other : Union[int, np.ndarray]\n",
    "            Escalar o arreglo que será sumado a cada pixel de la imagen\n",
    "        \"\"\"\n",
    "        return self.__add__(other)\n",
    "\n",
    "    def __sub__(self, other):\n",
    "        \"\"\"Redefine la operación - entre imagen y escalar.\n",
    "\n",
    "        # Idea, usar indexado condicial (similar a los filtros de pandas).\n",
    "        # Restar y luego que en cada pixel mayor a 255 sea asignado el máximo.\n",
    "        # Caso similar para valores menores a 0, donde debera asignar el minimo a esos pixeles\n",
    "        # Ver los tests para mas información.\n",
    "\n",
    "        Parameters\n",
    "        ----------\n",
    "        other : Union[int, np.ndarray]\n",
    "            Escalar o arreglo que será sumado a cada pixel de la imagen\n",
    "        \"\"\"\n",
    "        aux=self.data.copy()\n",
    "        aux=aux-other\n",
    "        aux[aux>255]=255\n",
    "        aux[aux<0]=0\n",
    "        return Imagen(aux.astype(int))\n",
    "\n",
    "    def __rsub__(self, other):\n",
    "        \"\"\"Operación conmutativa de __sub__.\n",
    "\n",
    "        Hint: debería llamar a __sub__...\n",
    "\n",
    "        Parameters\n",
    "        ----------\n",
    "        other : Union[int, np.ndarray]\n",
    "            Escalar o arreglo que será sumado a cada pixel de la imagen\n",
    "        \"\"\"\n",
    "        aux=self.data.copy()\n",
    "        aux=other-aux\n",
    "        aux[aux>255]=255\n",
    "        aux[aux<0]=0\n",
    "        return Imagen(aux.astype(int))\n",
    "        #return self.__sub__(other)\n",
    "\n",
    "    def __mul__(self, other):\n",
    "        \"\"\"Redefine la operación + entre imagen y escalar.\n",
    "\n",
    "        # Idea, usar indexado condicial (similar a los filtros de pandas).\n",
    "        # Sumar y luego que en cada pixel mayor a 255 sea asignado el máximo y \n",
    "        # cada valor inferior a 0 debe ser 0.\n",
    "        # Ver los tests para mas información.\n",
    "\n",
    "        Parameters\n",
    "        ----------\n",
    "        other : Union[int, np.ndarray]\n",
    "            Escalar o arreglo que será sumado a cada pixel de la imagen\n",
    "        \"\"\"\n",
    "        aux=self.data.copy()\n",
    "        aux=aux*other\n",
    "        aux[aux>255]=255\n",
    "        aux[aux<0]=0\n",
    "        return Imagen(aux.astype(int))\n",
    "\n",
    "    def __rmul__(self, other):\n",
    "        \"\"\"Operación conmutativa de __mul__.\n",
    "\n",
    "        Hint: debería llamar a __mul__...\n",
    "\n",
    "        Parameters\n",
    "        ----------\n",
    "        other : Union[int, np.ndarray]\n",
    "            Escalar o arreglo que será sumado a cada pixel de la imagen\n",
    "        \"\"\"\n",
    "        return self.__mul__(other)"
   ]
  },
  {
   "cell_type": "markdown",
   "metadata": {
    "cell_id": "00041-25076fd0-f70c-4f1f-b819-a694f9ccf9dc",
    "deepnote_cell_height": 52.390625,
    "deepnote_cell_type": "markdown",
    "id": "PCY4YO_7zAH2"
   },
   "source": [
    "**Resultados esperados:**"
   ]
  },
  {
   "cell_type": "code",
   "execution_count": null,
   "metadata": {
    "cell_id": "00042-f5105fbd-69a0-4bd6-a443-99b182f1c49c",
    "deepnote_cell_height": 99,
    "deepnote_cell_type": "code",
    "deepnote_to_be_reexecuted": false,
    "execution_millis": 4,
    "execution_start": 1649390603632,
    "id": "AzXTlvARGXM8",
    "source_hash": "3238808e"
   },
   "outputs": [],
   "source": [
    "gatito = Imagen(images[\"gatitos\"][1])\n",
    "gurus = Imagen(images[\"Personas\"][1])"
   ]
  },
  {
   "cell_type": "code",
   "execution_count": null,
   "metadata": {
    "cell_id": "00043-f51276b4-d3ae-4757-8dfc-33ed62942c8e",
    "deepnote_cell_height": 898,
    "deepnote_cell_type": "code",
    "deepnote_output_heights": [
     254,
     null,
     254
    ],
    "deepnote_to_be_reexecuted": false,
    "execution_millis": 567,
    "execution_start": 1649390603639,
    "id": "hHTR1tIRzAH2",
    "outputId": "d57de8cb-37a7-4225-c376-37f9a9a57986",
    "source_hash": "49b51823"
   },
   "outputs": [],
   "source": [
    "# Test show e info.\n",
    "gatito.show()\n",
    "gatito.info()\n",
    "\n",
    "gurus.show()\n",
    "gurus.info()"
   ]
  },
  {
   "cell_type": "code",
   "execution_count": null,
   "metadata": {
    "cell_id": "00044-0b4970f5-dadc-45cd-98e6-f249fe515120",
    "deepnote_cell_height": 639,
    "deepnote_cell_type": "code",
    "deepnote_to_be_reexecuted": false,
    "execution_millis": 87,
    "execution_start": 1649390604209,
    "id": "nL33tmX2J2HT",
    "source_hash": "8bcc2c1f"
   },
   "outputs": [],
   "source": [
    "# Tests de los overload de operadores.\n",
    "\n",
    "# Test __add__\n",
    "# Idea del test: Todos los elementos de la imagen deben ser a lo más 255.\n",
    "\n",
    "# Test __add__\n",
    "assert np.max((gatito + 1000).data) == 255\n",
    "\n",
    "# Test __radd__\n",
    "assert np.max((1000 + gatito).data) == 255\n",
    "\n",
    "# Test __sub__\n",
    "assert np.min((gatito - (-1000)).data) == 255\n",
    "\n",
    "# Test __sub__\n",
    "assert np.max((gatito - 1000).data) == 0\n",
    "\n",
    "# Test __rsub__\n",
    "assert np.min((1000 - gatito ).data) == 255\n",
    "\n",
    "# Test __mul__ (probar minimo)\n",
    "assert np.max((-555555 * gatito).data) == 0\n",
    "\n",
    "# Test __mul__ (probar maximo)\n",
    "assert np.max((555555*gatito).data) == 255\n",
    "\n",
    "# Test __rmul__ (probar minimo)\n",
    "assert np.max((gatito*-555555).data) == 0\n",
    "\n",
    "# Test __rmul__ (probar maximo)\n",
    "assert np.max((gatito*555555).data) == 255\n"
   ]
  },
  {
   "cell_type": "markdown",
   "metadata": {
    "cell_id": "00045-938dfd63-971c-4ff9-903b-9cb8b4ed7e63",
    "deepnote_cell_height": 62,
    "deepnote_cell_type": "markdown",
    "id": "2aH0xix7zAH2"
   },
   "source": [
    "### 2.3 Clase de Procesamiento de Imagenes [2 puntos]"
   ]
  },
  {
   "cell_type": "markdown",
   "metadata": {
    "cell_id": "00046-201fccc5-f65b-4833-af2d-f060de51a5a8",
    "deepnote_cell_height": 274.59375,
    "deepnote_cell_type": "markdown",
    "id": "MzIun960zAH2"
   },
   "source": [
    "Ahora que comprenden las diferentes dimensiones que componen a una imagen (en la práctica), ahora realizaremos diferentes tareas de procesamiento de imágenes. Para esto, deben crear una clase llamada \"`LibImagen`\" que cumpla los siguientes requisitos:\n",
    "\n",
    "- [ ] Pasar una imagen a escala de grises, para esto utilice la ecuación (1) expuesta en este mismo notebook.\n",
    "- [ ] Obtener los canales R, G y B de forma individual.\n",
    "- [ ] Crear una función que pase a negativo de la imagen alojada.\n",
    "- [ ] Mejorar el contraste de una imagen.\n",
    "- [ ] Realizar una convolución sobre la imagen.\n",
    "- [ ] Documentar la clase creada y verificar la documentación con el comando help().\n"
   ]
  },
  {
   "cell_type": "markdown",
   "metadata": {
    "cell_id": "00047-6e36af3b-4e28-4d5d-b13a-0abaeed9df49",
    "deepnote_cell_height": 66.390625,
    "deepnote_cell_type": "markdown",
    "id": "JRy7BgrizAH3"
   },
   "source": [
    "> **Nota 🗒️**: Todo método debe tomar una Imagen y retornar una nueva Imagen."
   ]
  },
  {
   "cell_type": "code",
   "execution_count": null,
   "metadata": {
    "cell_id": "00049-352f1be7-979b-426b-a740-fccdd2dd8bc9",
    "deepnote_cell_height": 1647,
    "deepnote_cell_type": "code",
    "deepnote_to_be_reexecuted": false,
    "execution_millis": 2,
    "execution_start": 1649390604313,
    "id": "wZvSOH3UzAH3",
    "source_hash": "78b7cd0f"
   },
   "outputs": [],
   "source": [
    "class LibImagen():\n",
    "\n",
    "    def to_negative(self, img_in):\n",
    "        \"\"\"Convierte imagen a negativo.\n",
    "\n",
    "        Parameters\n",
    "        ----------\n",
    "        img_in : np.ndarray\n",
    "            3D Array (Tensor) que contiene imagen a procesar.\n",
    "\n",
    "        Returns\n",
    "        -------\n",
    "        np.ndarray\n",
    "            3D Array (Tensor) con la imagen procesada.\n",
    "            Nota: El tipo del arreglo retornado es \"int\".\n",
    "        \"\"\"\n",
    "        return 255-img_in\n",
    "    \n",
    "    def to_gray(self, img_in):\n",
    "        \"\"\"\n",
    "        Transforma una imagen en RGB a la escala de grises. \n",
    "\n",
    "        Parameters\n",
    "        ----------\n",
    "        img_in : np.ndarray\n",
    "            3D Array (Tensor) que contiene una imagen.\n",
    "\n",
    "        Returns\n",
    "        -------\n",
    "        np.array\n",
    "            3D Array (Tensor) que contiene una imagen con 3 canales. \n",
    "            Los 3 canales deben tener los mismos valores.\n",
    "            Nota: El tipo del arreglo retornado es \"int\".\n",
    "        \"\"\"\n",
    "        aux=img_in.data.copy() \n",
    "        aux = 0.299 * aux[:,:,0] + 0.587 * aux[:,:,1] + 0.114 * aux[:,:,2]\n",
    "        new_image = np.stack([aux, aux, aux], axis=2)\n",
    "        return Imagen(new_image.astype(int))\n",
    "        \n",
    "    \n",
    "    def get_channel(self, img_in, channel):\n",
    "        \"\"\"Obtiene un canal de un color seteando el resto de los canales en 0.\n",
    "\n",
    "        Parameters\n",
    "        ----------\n",
    "        img_in : Imagen\n",
    "            3D Array (Tensor) que contiene una imagen.\n",
    "        channel : str\n",
    "            Nombre del canal que será seleccionado. Valores posibles: ('r','g' o 'b').\n",
    "\n",
    "        Returns\n",
    "        -------\n",
    "        np.array: \n",
    "            3D Array (Tensor) que contiene una imagen con 3 canales. \n",
    "            Solo el canal seleccionado debe tener valores distintos a 0.\n",
    "            Nota: El tipo del arreglo retornado es \"int\".\n",
    "        \"\"\"\n",
    "        aux=img_in.data.copy()\n",
    "        if channel=='r':\n",
    "            aux[:,:,1]=0\n",
    "            aux[:,:,2]=0\n",
    "        elif channel=='g':\n",
    "            aux[:,:,0]=0\n",
    "            aux[:,:,2]=0\n",
    "        elif channel=='b':\n",
    "            aux[:,:,0]=0\n",
    "            aux[:,:,1]=0\n",
    "        return Imagen(aux.astype(int))\n",
    "\n",
    "    def set_contrast(self, img_in, C):\n",
    "        \"\"\"Mejora el contraste de una imagen.\n",
    "\n",
    "        Parameters\n",
    "        ----------\n",
    "        img_in : Imagen\n",
    "            3D Array (Tensor) que contiene una imagen.\n",
    "        C : float\n",
    "            Parámetro que define el ajuste de contraste.\n",
    "\n",
    "        Returns\n",
    "        -------\n",
    "        np.array\n",
    "            3D Array (Tensor) que contiene una imagen con 3 canales modificados.\n",
    "            Nota: El tipo del arreglo retornado es \"int\".\n",
    "            \n",
    "        \"\"\"\n",
    "        F=259*(C+255)/(255*(259-C))\n",
    "        return F*(img_in-128)+128\n",
    "        \n",
    "    def conv_channel(self, img_in, kernel):\n",
    "        \"\"\"Realiza una convolución sobre la Imagen.\n",
    "\n",
    "        Parameters\n",
    "        ----------\n",
    "        img_in : Imagen\n",
    "            3D Array (Tensor) que contiene una imagen.\n",
    "        kernel : Array\n",
    "            Array que contiene kernel a aplicar sobre la imagen.\n",
    "\n",
    "        Returns\n",
    "        -------\n",
    "        np.array\n",
    "            3D Array (Tensor) que contiene una imagen convolucionada.\n",
    "            Nota: El tipo del arreglo retornado es \"int\".\n",
    "            \n",
    "        \"\"\"\n",
    "        img = img_in.data\n",
    "        img_out = []\n",
    "        for i in range(img.shape[-1]):\n",
    "            img_channel = convolve2d(img[:, :, i], \n",
    "                                     kernel, \n",
    "                                     mode=\"same\", \n",
    "                                     boundary=\"symm\")\n",
    "            img_out.append(img_channel)\n",
    "        new_image = np.stack(img_out, axis=2)\n",
    "        new_image[new_image>255], new_image[new_image<0] = 255, 0\n",
    "        return Imagen(new_image.astype(int))"
   ]
  },
  {
   "cell_type": "markdown",
   "metadata": {
    "cell_id": "00050-ef0be329-4c9f-4769-8a52-a498871e5e79",
    "deepnote_cell_height": 62,
    "deepnote_cell_type": "markdown",
    "id": "1UEAgZsbzAH3"
   },
   "source": [
    "### 2.4 Probar [0,5 puntos]"
   ]
  },
  {
   "cell_type": "markdown",
   "metadata": {
    "cell_id": "00051-275f9122-36df-4192-a35a-8b9b766fbf5b",
    "deepnote_cell_height": 52.390625,
    "deepnote_cell_type": "markdown",
    "id": "hP_6WK-hzAH3"
   },
   "source": [
    "**Respuesta Esperada**:"
   ]
  },
  {
   "cell_type": "code",
   "execution_count": null,
   "metadata": {
    "cell_id": "00052-2f2170b5-2561-4a92-a351-28f8b87b9f45",
    "deepnote_cell_height": 3026,
    "deepnote_cell_type": "code",
    "deepnote_output_heights": [
     254,
     null,
     254,
     null,
     254,
     null,
     254,
     254,
     254,
     null,
     254,
     null,
     254
    ],
    "deepnote_to_be_reexecuted": false,
    "execution_millis": 2331,
    "execution_start": 1649390604359,
    "id": "nZYslVzozAH3",
    "outputId": "7e5c3878-b825-447e-fa66-7ff0fab19711",
    "source_hash": "80d9e160"
   },
   "outputs": [],
   "source": [
    "gatito = Imagen(images[\"Personas\"][0])\n",
    "\n",
    "gatito.show()\n",
    "\n",
    "lib = LibImagen()\n",
    "\n",
    "print('Negativo')\n",
    "lib.to_negative(gatito).show()\n",
    "\n",
    "print('Grayscale')\n",
    "lib.to_gray(gatito).show()\n",
    "\n",
    "print('Selección de Canales')\n",
    "lib.get_channel(gatito, \"r\").show()\n",
    "lib.get_channel(gatito, \"g\").show()\n",
    "lib.get_channel(gatito, \"b\").show()\n",
    "\n",
    "print('Mejora de Contraste')\n",
    "lib.set_contrast(gatito, 0).show()\n",
    "\n",
    "print('Convolución')\n",
    "kernel = np.array([[-1, -1,  -1], \n",
    "                   [-1,  8,  -1], \n",
    "                   [-1, -1,  -1]])\n",
    "\n",
    "lib.conv_channel(gatito, kernel).show()"
   ]
  },
  {
   "cell_type": "markdown",
   "metadata": {
    "cell_id": "00053-bd3aae6b-14f1-4779-ad7e-53aeb06c270e",
    "deepnote_cell_height": 107.1875,
    "deepnote_cell_type": "markdown",
    "id": "vev1TLtTGxAT"
   },
   "source": [
    "**Comente:** #comentar algo"
   ]
  },
  {
   "cell_type": "markdown",
   "metadata": {
    "cell_id": "00054-c45e154f-5f02-4d9e-8319-90de20e1f147",
    "deepnote_cell_height": 88.390625,
    "deepnote_cell_type": "markdown",
    "id": "XgE7VUPBGXM_"
   },
   "source": [
    "#### Implementar 5 Kernels y probarlos con las imagenes\n",
    "\n",
    "Referencia: \n",
    "https://en.wikipedia.org/wiki/Kernel_(image_processing)"
   ]
  },
  {
   "cell_type": "code",
   "execution_count": null,
   "metadata": {
    "cell_id": "00055-b6ba1b1e-81a8-4857-b59f-388c64c07c8f",
    "deepnote_cell_height": 270.1875,
    "deepnote_cell_type": "code",
    "deepnote_to_be_reexecuted": false,
    "execution_millis": 174,
    "execution_start": 1649390606682,
    "id": "3r2re1SBGXM_",
    "source_hash": "96d26b22"
   },
   "outputs": [],
   "source": [
    "# Convolución\n",
    "kernel_1 = np.array([[0, -1,  0], #Sharpen\n",
    "                     [-1,  5,  -1], \n",
    "                     [0, -1,  0]])\n",
    "kernel_2 = 1/9*np.array([[1, 1,  1], #Box Blur\n",
    "                     [1,  1,  1], \n",
    "                     [1, 1,  1]])\n",
    "kernel_3 = 1/16*np.array([[1, 2,  1], #Gaussian blur 3x3\n",
    "                     [2,  4,  2], \n",
    "                     [1, 2,  1]])\n",
    "kernel_4 = np.array([[0, 0,  0],  #Identity\n",
    "                     [0,  1,  0], \n",
    "                     [0, 0,  0]])\n",
    "kernel_5 = np.array([[0, -1,  0],  #Ridge detection (otra opción) \n",
    "                   [-1,  4,  -1], \n",
    "                   [0, -1,  0]])\n",
    "gatito.show()\n",
    "lib.conv_channel(gatito, kernel_5).show()"
   ]
  },
  {
   "cell_type": "markdown",
   "metadata": {
    "cell_id": "00056-61be54a5-a3d7-4d17-9fd2-1602510798d6",
    "deepnote_cell_height": 70,
    "deepnote_cell_type": "markdown",
    "id": "CMf4H0YxzPAM"
   },
   "source": [
    "\n",
    "\n",
    "## 3. Secuencias y Detección de Movimiento\n"
   ]
  },
  {
   "cell_type": "markdown",
   "metadata": {
    "cell_id": "00057-f05c3e3c-625d-42ed-b163-0c3cc06c91e6",
    "deepnote_cell_height": 62,
    "deepnote_cell_type": "markdown",
    "id": "ghgvxYAPzAH4"
   },
   "source": [
    "### 3.2. Secuencia de Imagenes [1 punto]\n"
   ]
  },
  {
   "cell_type": "markdown",
   "metadata": {
    "cell_id": "00058-1b6304af-e3aa-4481-ac5e-662e5cce1175",
    "deepnote_cell_height": 97.1875,
    "deepnote_cell_type": "markdown",
    "id": "X6-00O49zAH5"
   },
   "source": [
    "A continuación, deben programar una función que nos permite resaltar los objetos en movimientos de una secuencia de imágenes. Para esta parte del laboratorio, deberá utilizar las imágenes dispuestas en la carpeta `secuencia_plaza` del archivo zip subido a material docente. "
   ]
  },
  {
   "cell_type": "markdown",
   "metadata": {
    "cell_id": "00059-3301494f-0d60-45e5-b559-99cda2c9ea17",
    "deepnote_cell_height": 97.1875,
    "deepnote_cell_type": "markdown",
    "id": "gG_F54l3zAH5"
   },
   "source": [
    "Primero que todo, cargue la secuencia de imágenes que se encuentran en el directorio. Para esto, se recomienda utilizar el comando `os.listdir(dir)`, ya que este le facilitará la carga de un gran número de imágenes (pruebe el comando y vea que sucede)."
   ]
  },
  {
   "cell_type": "code",
   "execution_count": null,
   "metadata": {
    "cell_id": "00060-0b469c90-d722-4433-bcce-8b8900133bb6",
    "deepnote_cell_height": 135,
    "deepnote_cell_type": "code",
    "deepnote_to_be_reexecuted": true,
    "execution_millis": 3408,
    "execution_start": 1649387524462,
    "id": "8_1YVO0hzAH4",
    "source_hash": "f75f956e"
   },
   "outputs": [],
   "source": [
    "path = \"./secuencia_plaza/\"\n",
    "img_names = os.listdir(path)\n",
    "\n",
    "imagenes = np.array(list(map(lambda img: np.array(Image.open(path + img)), img_names)))"
   ]
  },
  {
   "cell_type": "markdown",
   "metadata": {
    "cell_id": "00061-3a308c2a-45e4-4736-ba97-78f92dc93853",
    "deepnote_cell_height": 338,
    "deepnote_cell_type": "markdown",
    "id": "vZQddvjUzAH5"
   },
   "source": [
    "\n",
    "\n",
    "![plaza se mueve](https://media0.giphy.com/media/ZAzlopoHETs5lZQ6EZ/giphy.gif \"plaza\")"
   ]
  },
  {
   "cell_type": "markdown",
   "metadata": {
    "cell_id": "00062-ad7936ca-3e0e-4f85-9263-6c6228874f20",
    "deepnote_cell_height": 128.1875,
    "deepnote_cell_type": "markdown",
    "id": "D_lg6R2mzAH5"
   },
   "source": [
    "Para realizar este ejercicio utilizaremos un método super básico para la eliminación de fondo. Para esto sigue la siguiente receta:\n",
    " 1. Pase a escala de grises todas las imágenes secuenciales.\n",
    " 2. Almacene en una variable la resta de las imágenes consecutivas."
   ]
  },
  {
   "cell_type": "markdown",
   "metadata": {
    "cell_id": "00063-d11c3c26-76e1-4ddc-b864-879f6bb85542",
    "deepnote_cell_height": 52.71875,
    "deepnote_cell_type": "markdown",
    "id": "5OUI6d0yzAH5"
   },
   "source": [
    "   $$ imagen\\_out = imagen(t) - imagen(t+1) $$"
   ]
  },
  {
   "cell_type": "markdown",
   "metadata": {
    "cell_id": "00064-f9b44738-7aad-448c-bfd3-7253f9675b8b",
    "deepnote_cell_height": 69.390625,
    "deepnote_cell_type": "markdown",
    "id": "830SUbE0zAH5"
   },
   "source": [
    " 3. Establezca un umbral para eliminar algunos artefactos. Pruebe con al menos 3 umbrales."
   ]
  },
  {
   "cell_type": "markdown",
   "metadata": {
    "cell_id": "00065-30621cde-bea9-4396-bd56-0c0a0881385c",
    "deepnote_cell_height": 52.71875,
    "deepnote_cell_type": "markdown",
    "id": "izZbk7mWzAH5"
   },
   "source": [
    "$$ imagen\\_out = imagen\\_out> Umbral $$"
   ]
  },
  {
   "cell_type": "markdown",
   "metadata": {
    "cell_id": "00066-6a0706c1-f493-4682-b6ca-20d4850ec497",
    "deepnote_cell_height": 52.390625,
    "deepnote_cell_type": "markdown",
    "id": "356uBZnOzAH6"
   },
   "source": [
    "**Nota**: No es necesario que construya una clase para esta parte."
   ]
  },
  {
   "cell_type": "code",
   "execution_count": null,
   "metadata": {
    "cell_id": "00067-c314f79f-52bf-4ff3-b459-9bf568ae2c88",
    "deepnote_cell_height": 117,
    "deepnote_cell_type": "code",
    "deepnote_to_be_reexecuted": true,
    "id": "ndKMiOdRzAH6",
    "source_hash": "65bbd50f"
   },
   "outputs": [],
   "source": [
    "def dect_mov(sec_img, umbral=30):\n",
    "    sec_img_out=[]\n",
    "    for t in range(len(sec_img)-1):\n",
    "        img_out=sec_img[t]-sec_img[t+1]\n",
    "        img_out=lib.to_gray(Imagen(img_out)).data\n",
    "        img_out=img_out>umbral\n",
    "        sec_img_out.append((255*img_out.astype('int')))\n",
    "    return sec_img_out"
   ]
  },
  {
   "cell_type": "code",
   "execution_count": null,
   "metadata": {},
   "outputs": [],
   "source": [
    "dect_mov(imagenes)"
   ]
  },
  {
   "cell_type": "markdown",
   "metadata": {
    "cell_id": "00068-590c3d81-8510-4015-80bf-6072a6f083d3",
    "deepnote_cell_height": 62,
    "deepnote_cell_type": "markdown",
    "id": "6eWMbFhKzAH6"
   },
   "source": [
    "### 3.3 Resultado"
   ]
  },
  {
   "cell_type": "markdown",
   "metadata": {
    "cell_id": "00069-769fee33-7b59-45a8-b67e-7d93559af94a",
    "deepnote_cell_height": 74.796875,
    "deepnote_cell_type": "markdown",
    "id": "mPJ2y5hizAH6"
   },
   "source": [
    "Ahora es tiempo de relajarse y ver si nuestro experimento logra resaltar los objetos en movimiento de esta polémica Plaza, para esto solo ejecute el siguiente Código y espere. "
   ]
  },
  {
   "cell_type": "code",
   "execution_count": null,
   "metadata": {
    "cell_id": "00070-ce1400ef-ff6c-4fe1-bdef-f95e172bd1ac",
    "deepnote_cell_height": 81,
    "deepnote_cell_type": "code",
    "deepnote_to_be_reexecuted": true,
    "id": "wEyadxL5zAH6",
    "source_hash": "d3bba459"
   },
   "outputs": [],
   "source": [
    "imageio.mimsave('plaza.gif', dect_mov(imagenes))"
   ]
  },
  {
   "cell_type": "markdown",
   "metadata": {
    "cell_id": "00071-8871ff8b-2e41-4419-98c9-5d2088e18b43",
    "deepnote_cell_height": 362.390625,
    "deepnote_cell_type": "markdown",
    "id": "wYQUym9IzAH6"
   },
   "source": [
    "**Ejemplo de resultado esperado:**\n",
    "\n",
    "![resultados](https://media3.giphy.com/media/SKV3bgUzHt0MLJTWW2/giphy.gif \"res\")"
   ]
  },
  {
   "cell_type": "markdown",
   "metadata": {
    "cell_id": "00072-40c8cf07-2f0c-4b35-95b6-b97c0f092f8b",
    "deepnote_cell_height": 395.1875,
    "deepnote_cell_type": "markdown",
    "id": "Rg4ZMq8ezAH6"
   },
   "source": [
    "# Conclusión\n",
    "Eso ha sido todo para el lab de hoy, recuerden que el laboratorio tiene un plazo de entrega de una semana y que **los días de atraso no se pueden utilizar para entregas de lab** solo para tareas. Cualquier duda del laboratorio, no duden en contactarnos por mail o U-cursos.\n",
    "\n",
    "![Gracias Totales!](https://media.giphy.com/media/5xtDaroSIXzLa6dvfI4/giphy.gif \"cerati\")\n"
   ]
  },
  {
   "cell_type": "markdown",
   "metadata": {
    "cell_id": "00073-a6640614-9f61-4ebd-acc6-37202ccb2dc7",
    "deepnote_cell_height": 238.390625,
    "deepnote_cell_type": "markdown",
    "id": "NT4vDJzAzAH7"
   },
   "source": [
    "### Referencias lab 1.\n",
    "\n",
    "- http://www.cs.cornell.edu/cv/SummerSchool/Introduction.pdf\n",
    "- https://en.wikipedia.org/wiki/Tensor\n",
    "- https://support.ptc.com/help/mathcad/es/index.html#page/PTC_Mathcad_Help/example_grayscale_and_color_in_images.html\n",
    "- http://w3.unpocodetodo.info/canvas/negativo.php\n",
    "- http://www.dfstudios.co.uk/articles/programming/image-programming-algorithms/image-processing-algorithms-part-5-contrast-adjustment/"
   ]
  },
  {
   "cell_type": "markdown",
   "metadata": {
    "cell_id": "00074-1f42b6d8-6b0c-464e-b89b-d8d6de7a73bc",
    "deepnote_cell_height": 171.40625,
    "deepnote_cell_type": "markdown",
    "id": "wCL1lACBzAH7",
    "owner_user_id": "d50c3174-babb-4861-9c71-7e3af66458b8"
   },
   "source": [
    "<br>\n",
    "<center>\n",
    "<img src=\"https://i.kym-cdn.com/photos/images/original/001/194/195/b18.png\" width=100 height=50 />\n",
    "</center>\n",
    "<br>"
   ]
  },
  {
   "cell_type": "markdown",
   "metadata": {
    "created_in_deepnote_cell": true,
    "deepnote_cell_type": "markdown",
    "tags": []
   },
   "source": [
    "<a style='text-decoration:none;line-height:16px;display:flex;color:#5B5B62;padding:10px;justify-content:end;' href='https://deepnote.com?utm_source=created-in-deepnote-cell&projectId=87110296-876e-426f-b91d-aaf681223468' target=\"_blank\">\n",
    "<img alt='Created in deepnote.com' style='display:inline;max-height:16px;margin:0px;margin-right:7.5px;' src='data:image/svg+xml;base64,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' > </img>\n",
    "Created in <span style='font-weight:600;margin-left:4px;'>Deepnote</span></a>"
   ]
  }
 ],
 "metadata": {
  "colab": {
   "collapsed_sections": [],
   "name": "Laboratorio2.ipynb",
   "provenance": []
  },
  "deepnote": {},
  "deepnote_execution_queue": [],
  "deepnote_notebook_id": "6776329f-ad68-4dbc-a392-d16921aac901",
  "kernelspec": {
   "display_name": "Python 3",
   "language": "python",
   "name": "python3"
  },
  "language_info": {
   "codemirror_mode": {
    "name": "ipython",
    "version": 3
   },
   "file_extension": ".py",
   "mimetype": "text/x-python",
   "name": "python",
   "nbconvert_exporter": "python",
   "pygments_lexer": "ipython3",
   "version": "3.8.12"
  },
  "toc": {
   "base_numbering": 1,
   "nav_menu": {},
   "number_sections": true,
   "sideBar": true,
   "skip_h1_title": true,
   "title_cell": "Tabla de Contenidos",
   "title_sidebar": "Contenidos",
   "toc_cell": false,
   "toc_position": {
    "height": "calc(100% - 180px)",
    "left": "10px",
    "top": "150px",
    "width": "405.567px"
   },
   "toc_section_display": true,
   "toc_window_display": true
  },
  "varInspector": {
   "cols": {
    "lenName": 16,
    "lenType": 16,
    "lenVar": 40
   },
   "kernels_config": {
    "python": {
     "delete_cmd_postfix": "",
     "delete_cmd_prefix": "del ",
     "library": "var_list.py",
     "varRefreshCmd": "print(var_dic_list())"
    },
    "r": {
     "delete_cmd_postfix": ") ",
     "delete_cmd_prefix": "rm(",
     "library": "var_list.r",
     "varRefreshCmd": "cat(var_dic_list()) "
    }
   },
   "types_to_exclude": [
    "module",
    "function",
    "builtin_function_or_method",
    "instance",
    "_Feature"
   ],
   "window_display": false
  }
 },
 "nbformat": 4,
 "nbformat_minor": 4
}
